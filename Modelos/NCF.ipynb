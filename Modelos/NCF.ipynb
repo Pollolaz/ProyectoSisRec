{
  "nbformat": 4,
  "nbformat_minor": 0,
  "metadata": {
    "colab": {
      "provenance": []
    },
    "kernelspec": {
      "name": "python3",
      "display_name": "Python 3"
    },
    "language_info": {
      "name": "python"
    }
  },
  "cells": [
    {
      "cell_type": "code",
      "source": [
        "import json\n",
        "import torch\n",
        "import torch.nn as nn\n",
        "from torch.utils.data import Dataset, DataLoader\n",
        "import random\n",
        "from tqdm import tqdm\n",
        "import numpy as np\n",
        "import pandas as pd\n",
        "import matplotlib.pyplot as plt\n",
        "import seaborn as sns\n",
        "import numpy as np\n",
        "import tensorflow as tf\n"
      ],
      "metadata": {
        "id": "mVO89gQIFgjP"
      },
      "execution_count": 58,
      "outputs": []
    },
    {
      "cell_type": "markdown",
      "source": [
        "Descarga de datos"
      ],
      "metadata": {
        "id": "VoQnJPrGFhGk"
      }
    },
    {
      "cell_type": "code",
      "execution_count": 59,
      "metadata": {
        "colab": {
          "base_uri": "https://localhost:8080/"
        },
        "id": "lyRCd2N4DAfe",
        "outputId": "46ad040c-92fb-4d38-cac1-692e1266281f"
      },
      "outputs": [
        {
          "output_type": "stream",
          "name": "stdout",
          "text": [
            "--2025-06-06 20:06:43--  https://www.dropbox.com/s/57tel5zqopkssrh/books.csv?dl=0\n",
            "Resolving www.dropbox.com (www.dropbox.com)... 162.125.80.18, 2620:100:6035:18::a27d:5512\n",
            "Connecting to www.dropbox.com (www.dropbox.com)|162.125.80.18|:443... connected.\n",
            "HTTP request sent, awaiting response... 302 Found\n",
            "Location: https://www.dropbox.com/scl/fi/5s6xrfnu17yi34sfhmskb/books.csv?rlkey=ymzokbyqw3qq2bq5okfao9w1z&dl=0 [following]\n",
            "--2025-06-06 20:06:44--  https://www.dropbox.com/scl/fi/5s6xrfnu17yi34sfhmskb/books.csv?rlkey=ymzokbyqw3qq2bq5okfao9w1z&dl=0\n",
            "Reusing existing connection to www.dropbox.com:443.\n",
            "HTTP request sent, awaiting response... 302 Found\n",
            "Location: https://ucd46aba229ef410e1da00ccf48a.dl.dropboxusercontent.com/cd/0/inline/CrEduGwKcha4OuxFUkGi2a7Hbk6xHb_eWq_FhZBJaOYcKIWhTW0FMKrHXB90OBfi6Yy4kces023_HY-yvUkiwOLLKqNQBvqsPsPMwg4b_bxMSyvLaCxn4D_pT2MrxtmiPlxn_T6tn3aK9ibfCDVUkP3u/file# [following]\n",
            "--2025-06-06 20:06:45--  https://ucd46aba229ef410e1da00ccf48a.dl.dropboxusercontent.com/cd/0/inline/CrEduGwKcha4OuxFUkGi2a7Hbk6xHb_eWq_FhZBJaOYcKIWhTW0FMKrHXB90OBfi6Yy4kces023_HY-yvUkiwOLLKqNQBvqsPsPMwg4b_bxMSyvLaCxn4D_pT2MrxtmiPlxn_T6tn3aK9ibfCDVUkP3u/file\n",
            "Resolving ucd46aba229ef410e1da00ccf48a.dl.dropboxusercontent.com (ucd46aba229ef410e1da00ccf48a.dl.dropboxusercontent.com)... 162.125.80.15, 2620:100:6035:15::a27d:550f\n",
            "Connecting to ucd46aba229ef410e1da00ccf48a.dl.dropboxusercontent.com (ucd46aba229ef410e1da00ccf48a.dl.dropboxusercontent.com)|162.125.80.15|:443... connected.\n",
            "HTTP request sent, awaiting response... 200 OK\n",
            "Length: 5156485 (4.9M) [text/plain]\n",
            "Saving to: ‘books.csv’\n",
            "\n",
            "books.csv           100%[===================>]   4.92M  15.0MB/s    in 0.3s    \n",
            "\n",
            "2025-06-06 20:06:46 (15.0 MB/s) - ‘books.csv’ saved [5156485/5156485]\n",
            "\n",
            "--2025-06-06 20:06:46--  https://www.dropbox.com/s/zpnnoy1i8ljf9fg/goodreads_bert_embeddings.npy?dl=0\n",
            "Resolving www.dropbox.com (www.dropbox.com)... 162.125.80.18, 2620:100:6035:18::a27d:5512\n",
            "Connecting to www.dropbox.com (www.dropbox.com)|162.125.80.18|:443... connected.\n",
            "HTTP request sent, awaiting response... 302 Found\n",
            "Location: https://www.dropbox.com/scl/fi/9t24trwzk8smammwnvvxw/goodreads_bert_embeddings.npy?rlkey=cj0axwkdtbcc94vb4lpj1cdj7&dl=0 [following]\n",
            "--2025-06-06 20:06:47--  https://www.dropbox.com/scl/fi/9t24trwzk8smammwnvvxw/goodreads_bert_embeddings.npy?rlkey=cj0axwkdtbcc94vb4lpj1cdj7&dl=0\n",
            "Reusing existing connection to www.dropbox.com:443.\n",
            "HTTP request sent, awaiting response... 302 Found\n",
            "Location: https://uc827dc8aeb6c957e3913b31a942.dl.dropboxusercontent.com/cd/0/inline/CrGvq2RwGZwW74zvFdh2i4wbl_aKANK9BSgbXEVS4jwVn1NP625dh4ETQITLaVF7iLHWrXZ2u0Q4mOXL1OBfIu1t7-eBaXRh6Vd8dBPMzAtOTmwjyvlAr-oRDlCzafJ3U0qs-8VtCMXGwFxaX_N97Tnq/file# [following]\n",
            "--2025-06-06 20:06:48--  https://uc827dc8aeb6c957e3913b31a942.dl.dropboxusercontent.com/cd/0/inline/CrGvq2RwGZwW74zvFdh2i4wbl_aKANK9BSgbXEVS4jwVn1NP625dh4ETQITLaVF7iLHWrXZ2u0Q4mOXL1OBfIu1t7-eBaXRh6Vd8dBPMzAtOTmwjyvlAr-oRDlCzafJ3U0qs-8VtCMXGwFxaX_N97Tnq/file\n",
            "Resolving uc827dc8aeb6c957e3913b31a942.dl.dropboxusercontent.com (uc827dc8aeb6c957e3913b31a942.dl.dropboxusercontent.com)... 162.125.80.15, 2620:100:6035:15::a27d:550f\n",
            "Connecting to uc827dc8aeb6c957e3913b31a942.dl.dropboxusercontent.com (uc827dc8aeb6c957e3913b31a942.dl.dropboxusercontent.com)|162.125.80.15|:443... connected.\n",
            "HTTP request sent, awaiting response... 302 Found\n",
            "Location: /cd/0/inline2/CrE7WRcF7YM6oWdmdyxHtUdu-8TYTzuogQM1DxK12k-lJi66xBLiRa_gBAvycZB7NdUYTvtJlKrNxfzat9g38WmzgNNFF5NVf8Ra7bMc0AOaLtbb3i3E0og7bnMJ5F1kC-7iIAAlbwKBAC93KDpdVxtWGYzKPEDspi2QVmgADxbPdGHd7zjOWXkTjHlZRZ3GZrCs2svMhxxuuMYqJt8w--PfFZ5ATqc17t8yynn8E1ebVjWPaxpOZCPI-6zUCWbqcH-A8VX3DcwPOLo5gcUq9tosnFSez04P3aO5Qy_bry5fSN98iZ59cu589H-H85k4I2WgghIW7TmAOQetuDqPCqAmKhbNgB8Q6ynr5qmFR1APRMVM3GsWyoM3hqE34fJlI_Y/file [following]\n",
            "--2025-06-06 20:06:49--  https://uc827dc8aeb6c957e3913b31a942.dl.dropboxusercontent.com/cd/0/inline2/CrE7WRcF7YM6oWdmdyxHtUdu-8TYTzuogQM1DxK12k-lJi66xBLiRa_gBAvycZB7NdUYTvtJlKrNxfzat9g38WmzgNNFF5NVf8Ra7bMc0AOaLtbb3i3E0og7bnMJ5F1kC-7iIAAlbwKBAC93KDpdVxtWGYzKPEDspi2QVmgADxbPdGHd7zjOWXkTjHlZRZ3GZrCs2svMhxxuuMYqJt8w--PfFZ5ATqc17t8yynn8E1ebVjWPaxpOZCPI-6zUCWbqcH-A8VX3DcwPOLo5gcUq9tosnFSez04P3aO5Qy_bry5fSN98iZ59cu589H-H85k4I2WgghIW7TmAOQetuDqPCqAmKhbNgB8Q6ynr5qmFR1APRMVM3GsWyoM3hqE34fJlI_Y/file\n",
            "Reusing existing connection to uc827dc8aeb6c957e3913b31a942.dl.dropboxusercontent.com:443.\n",
            "HTTP request sent, awaiting response... 200 OK\n",
            "Length: 26339456 (25M) [application/octet-stream]\n",
            "Saving to: ‘goodreads_bert_embeddings.npy’\n",
            "\n",
            "goodreads_bert_embe 100%[===================>]  25.12M  30.5MB/s    in 0.8s    \n",
            "\n",
            "2025-06-06 20:06:50 (30.5 MB/s) - ‘goodreads_bert_embeddings.npy’ saved [26339456/26339456]\n",
            "\n",
            "--2025-06-06 20:06:50--  https://www.dropbox.com/s/a8hcc9w30y7r3jl/goodreads_bert_large_embeddings.npy?dl=0\n",
            "Resolving www.dropbox.com (www.dropbox.com)... 162.125.80.18, 2620:100:6035:18::a27d:5512\n",
            "Connecting to www.dropbox.com (www.dropbox.com)|162.125.80.18|:443... connected.\n",
            "HTTP request sent, awaiting response... 302 Found\n",
            "Location: https://www.dropbox.com/scl/fi/9758hmxzeyylo0n4m3m3u/goodreads_bert_large_embeddings.npy?rlkey=xajdff8iigyfc7fin0i9rbgkb&dl=0 [following]\n",
            "--2025-06-06 20:06:51--  https://www.dropbox.com/scl/fi/9758hmxzeyylo0n4m3m3u/goodreads_bert_large_embeddings.npy?rlkey=xajdff8iigyfc7fin0i9rbgkb&dl=0\n",
            "Reusing existing connection to www.dropbox.com:443.\n",
            "HTTP request sent, awaiting response... 302 Found\n",
            "Location: https://uc1e777d8bfd34714fb555adcb83.dl.dropboxusercontent.com/cd/0/inline/CrHSYwnqh6Mt70oGXFjRRA31q-8GEZKY110cC8Miw3ItQ_X4zXxzJArGY0IZ8vfsu4b_cET6CgXzeYUary0zu3gjkD4Awss8WE70qQwrBiRe8f_MhQ27i-ZivjTUuLRq_mNF2xkSWxQL5msKUOoiWIh8/file# [following]\n",
            "--2025-06-06 20:06:52--  https://uc1e777d8bfd34714fb555adcb83.dl.dropboxusercontent.com/cd/0/inline/CrHSYwnqh6Mt70oGXFjRRA31q-8GEZKY110cC8Miw3ItQ_X4zXxzJArGY0IZ8vfsu4b_cET6CgXzeYUary0zu3gjkD4Awss8WE70qQwrBiRe8f_MhQ27i-ZivjTUuLRq_mNF2xkSWxQL5msKUOoiWIh8/file\n",
            "Resolving uc1e777d8bfd34714fb555adcb83.dl.dropboxusercontent.com (uc1e777d8bfd34714fb555adcb83.dl.dropboxusercontent.com)... 162.125.80.15, 2620:100:6035:15::a27d:550f\n",
            "Connecting to uc1e777d8bfd34714fb555adcb83.dl.dropboxusercontent.com (uc1e777d8bfd34714fb555adcb83.dl.dropboxusercontent.com)|162.125.80.15|:443... connected.\n",
            "HTTP request sent, awaiting response... 302 Found\n",
            "Location: /cd/0/inline2/CrGhUl0uinjzCeNML1D7lD1ZJtU8bvHQkNSlNGwpEBlRYMlZDXUNcNDfn8XNeJ95sFofJD8u11joReywzjQhP_v5hQCoWaNPci2NDCBK4h_mt3W5VdU_f9LR_YU3AVJqUWk6cXDyXH3suenhRKj-eIUM3Afbv_0htH7h4EuRYNT5Pg2OjjTGENp33XAJ3pVPQlVzJzq1CzwqsvqllIdouHi1lqtnFL84vTkZqe1un7x6p9yMmmWYW48Ewjfp1kk1msJNFcbFeJ_hDKOm0RbR96IvbFIRUyjtYI7WiRoJrxt1IMjZrxJOtrr9Wjw1azBLBMHkfzzyOgrCh9QXfjt5nFUkJ8t67Kqjbe2flHgqYF82rP_0TdcYdKQyByZuydVyZPg/file [following]\n",
            "--2025-06-06 20:06:54--  https://uc1e777d8bfd34714fb555adcb83.dl.dropboxusercontent.com/cd/0/inline2/CrGhUl0uinjzCeNML1D7lD1ZJtU8bvHQkNSlNGwpEBlRYMlZDXUNcNDfn8XNeJ95sFofJD8u11joReywzjQhP_v5hQCoWaNPci2NDCBK4h_mt3W5VdU_f9LR_YU3AVJqUWk6cXDyXH3suenhRKj-eIUM3Afbv_0htH7h4EuRYNT5Pg2OjjTGENp33XAJ3pVPQlVzJzq1CzwqsvqllIdouHi1lqtnFL84vTkZqe1un7x6p9yMmmWYW48Ewjfp1kk1msJNFcbFeJ_hDKOm0RbR96IvbFIRUyjtYI7WiRoJrxt1IMjZrxJOtrr9Wjw1azBLBMHkfzzyOgrCh9QXfjt5nFUkJ8t67Kqjbe2flHgqYF82rP_0TdcYdKQyByZuydVyZPg/file\n",
            "Reusing existing connection to uc1e777d8bfd34714fb555adcb83.dl.dropboxusercontent.com:443.\n",
            "HTTP request sent, awaiting response... 200 OK\n",
            "Length: 35119232 (33M) [application/octet-stream]\n",
            "Saving to: ‘goodreads_bert_large_embeddings.npy’\n",
            "\n",
            "goodreads_bert_larg 100%[===================>]  33.49M  24.1MB/s    in 1.4s    \n",
            "\n",
            "2025-06-06 20:06:55 (24.1 MB/s) - ‘goodreads_bert_large_embeddings.npy’ saved [35119232/35119232]\n",
            "\n",
            "--2025-06-06 20:06:56--  https://www.dropbox.com/s/dqeqpsr0vdvmcy0/goodreads_past_interactions.json?dl=0\n",
            "Resolving www.dropbox.com (www.dropbox.com)... 162.125.80.18, 2620:100:6035:18::a27d:5512\n",
            "Connecting to www.dropbox.com (www.dropbox.com)|162.125.80.18|:443... connected.\n",
            "HTTP request sent, awaiting response... 302 Found\n",
            "Location: https://www.dropbox.com/scl/fi/4crrafugs93pzf3xshahz/goodreads_past_interactions.json?rlkey=w58hjav618jk0iyti1c4f85ad&dl=0 [following]\n",
            "--2025-06-06 20:06:56--  https://www.dropbox.com/scl/fi/4crrafugs93pzf3xshahz/goodreads_past_interactions.json?rlkey=w58hjav618jk0iyti1c4f85ad&dl=0\n",
            "Reusing existing connection to www.dropbox.com:443.\n",
            "HTTP request sent, awaiting response... 302 Found\n",
            "Location: https://uc0318f16f3b5ead086141d8ad83.dl.dropboxusercontent.com/cd/0/inline/CrH5P8PTIzDs81ZiamHdOPwboqLw1dLrMtKjzxM6QfA8jHQlj-dwCToBt0BUcyMe-9FzrJDJkcHYNPFLzyuUhekELfSzoG-SjNsbFZX_G085SM6z8GPw_hT8Ld-P_cGK1el9xlHKh4WjgZ_5Ri9m0Pwj/file# [following]\n",
            "--2025-06-06 20:06:57--  https://uc0318f16f3b5ead086141d8ad83.dl.dropboxusercontent.com/cd/0/inline/CrH5P8PTIzDs81ZiamHdOPwboqLw1dLrMtKjzxM6QfA8jHQlj-dwCToBt0BUcyMe-9FzrJDJkcHYNPFLzyuUhekELfSzoG-SjNsbFZX_G085SM6z8GPw_hT8Ld-P_cGK1el9xlHKh4WjgZ_5Ri9m0Pwj/file\n",
            "Resolving uc0318f16f3b5ead086141d8ad83.dl.dropboxusercontent.com (uc0318f16f3b5ead086141d8ad83.dl.dropboxusercontent.com)... 162.125.80.15, 2620:100:6035:15::a27d:550f\n",
            "Connecting to uc0318f16f3b5ead086141d8ad83.dl.dropboxusercontent.com (uc0318f16f3b5ead086141d8ad83.dl.dropboxusercontent.com)|162.125.80.15|:443... connected.\n",
            "HTTP request sent, awaiting response... 200 OK\n",
            "Length: 17685887 (17M) [text/plain]\n",
            "Saving to: ‘goodreads_past_interactions.json’\n",
            "\n",
            "goodreads_past_inte 100%[===================>]  16.87M  26.9MB/s    in 0.6s    \n",
            "\n",
            "2025-06-06 20:06:59 (26.9 MB/s) - ‘goodreads_past_interactions.json’ saved [17685887/17685887]\n",
            "\n",
            "--2025-06-06 20:06:59--  https://www.dropbox.com/s/rjtzhmb2zbpp30q/goodreads_test_interactions.json?dl=0\n",
            "Resolving www.dropbox.com (www.dropbox.com)... 162.125.80.18, 2620:100:6035:18::a27d:5512\n",
            "Connecting to www.dropbox.com (www.dropbox.com)|162.125.80.18|:443... connected.\n",
            "HTTP request sent, awaiting response... 302 Found\n",
            "Location: https://www.dropbox.com/scl/fi/slomhi7icrvh57rbo8e92/goodreads_test_interactions.json?rlkey=9xe06jxsx4hncbg9w9wekj93l&dl=0 [following]\n",
            "--2025-06-06 20:07:00--  https://www.dropbox.com/scl/fi/slomhi7icrvh57rbo8e92/goodreads_test_interactions.json?rlkey=9xe06jxsx4hncbg9w9wekj93l&dl=0\n",
            "Reusing existing connection to www.dropbox.com:443.\n",
            "HTTP request sent, awaiting response... 302 Found\n",
            "Location: https://uc9286ff4499b4d532e8fceaf7e5.dl.dropboxusercontent.com/cd/0/inline/CrErwSGI2ZaveXnNEu-3qTA89L8bPZdmLegUg5OpHHa0ZXPmLAoRb14f34-depo_h5-X7lhpdsl0Q2C9yuNYdXw1dNe2X0gow_gQkmR865QelyfnP37hJ60PPDvaA2I7dXhhknf0Ieceto1UHRmO5Kaf/file# [following]\n",
            "--2025-06-06 20:07:01--  https://uc9286ff4499b4d532e8fceaf7e5.dl.dropboxusercontent.com/cd/0/inline/CrErwSGI2ZaveXnNEu-3qTA89L8bPZdmLegUg5OpHHa0ZXPmLAoRb14f34-depo_h5-X7lhpdsl0Q2C9yuNYdXw1dNe2X0gow_gQkmR865QelyfnP37hJ60PPDvaA2I7dXhhknf0Ieceto1UHRmO5Kaf/file\n",
            "Resolving uc9286ff4499b4d532e8fceaf7e5.dl.dropboxusercontent.com (uc9286ff4499b4d532e8fceaf7e5.dl.dropboxusercontent.com)... 162.125.80.15, 2620:100:6035:15::a27d:550f\n",
            "Connecting to uc9286ff4499b4d532e8fceaf7e5.dl.dropboxusercontent.com (uc9286ff4499b4d532e8fceaf7e5.dl.dropboxusercontent.com)|162.125.80.15|:443... connected.\n",
            "HTTP request sent, awaiting response... 200 OK\n",
            "Length: 6111 (6.0K) [text/plain]\n",
            "Saving to: ‘goodreads_test_interactions.json’\n",
            "\n",
            "goodreads_test_inte 100%[===================>]   5.97K  --.-KB/s    in 0s      \n",
            "\n",
            "2025-06-06 20:07:01 (1.89 GB/s) - ‘goodreads_test_interactions.json’ saved [6111/6111]\n",
            "\n"
          ]
        }
      ],
      "source": [
        "!wget https://www.dropbox.com/s/57tel5zqopkssrh/books.csv?dl=0 -O books.csv\n",
        "!wget https://www.dropbox.com/s/zpnnoy1i8ljf9fg/goodreads_bert_embeddings.npy?dl=0 -O goodreads_bert_embeddings.npy\n",
        "!wget https://www.dropbox.com/s/a8hcc9w30y7r3jl/goodreads_bert_large_embeddings.npy?dl=0 -O goodreads_bert_large_embeddings.npy\n",
        "!wget https://www.dropbox.com/s/dqeqpsr0vdvmcy0/goodreads_past_interactions.json?dl=0 -O goodreads_past_interactions.json\n",
        "!wget https://www.dropbox.com/s/rjtzhmb2zbpp30q/goodreads_test_interactions.json?dl=0 -O goodreads_test_interactions.json"
      ]
    },
    {
      "cell_type": "code",
      "source": [
        "df_books = pd.read_csv('books.csv')\n",
        "df_books.head()"
      ],
      "metadata": {
        "colab": {
          "base_uri": "https://localhost:8080/",
          "height": 603
        },
        "id": "Fc4hR5npFsxM",
        "outputId": "3f81afb8-6902-49d5-8ebe-476d8d013599"
      },
      "execution_count": 60,
      "outputs": [
        {
          "output_type": "execute_result",
          "data": {
            "text/plain": [
              "   book_id  goodreads_book_id  best_book_id  work_id  books_count       isbn  \\\n",
              "0        1            2767052       2767052  2792775          272  439023483   \n",
              "1        2                  3             3  4640799          491  439554934   \n",
              "2        3              41865         41865  3212258          226  316015849   \n",
              "3        4               2657          2657  3275794          487   61120081   \n",
              "4        5               4671          4671   245494         1356  743273567   \n",
              "\n",
              "         isbn13                      authors  original_publication_year  \\\n",
              "0  9.780439e+12              Suzanne Collins                     2008.0   \n",
              "1  9.780440e+12  J.K. Rowling, Mary GrandPré                     1997.0   \n",
              "2  9.780316e+12              Stephenie Meyer                     2005.0   \n",
              "3  9.780061e+12                   Harper Lee                     1960.0   \n",
              "4  9.780743e+12          F. Scott Fitzgerald                     1925.0   \n",
              "\n",
              "                             original_title  ... work_ratings_count  \\\n",
              "0                          The Hunger Games  ...            4942365   \n",
              "1  Harry Potter and the Philosopher's Stone  ...            4800065   \n",
              "2                                  Twilight  ...            3916824   \n",
              "3                     To Kill a Mockingbird  ...            3340896   \n",
              "4                          The Great Gatsby  ...            2773745   \n",
              "\n",
              "  work_text_reviews_count  ratings_1  ratings_2  ratings_3  ratings_4  \\\n",
              "0                  155254      66715     127936     560092    1481305   \n",
              "1                   75867      75504     101676     455024    1156318   \n",
              "2                   95009     456191     436802     793319     875073   \n",
              "3                   72586      60427     117415     446835    1001952   \n",
              "4                   51992      86236     197621     606158     936012   \n",
              "\n",
              "   ratings_5                                          image_url  \\\n",
              "0    2706317  https://images.gr-assets.com/books/1447303603m...   \n",
              "1    3011543  https://images.gr-assets.com/books/1474154022m...   \n",
              "2    1355439  https://images.gr-assets.com/books/1361039443m...   \n",
              "3    1714267  https://images.gr-assets.com/books/1361975680m...   \n",
              "4     947718  https://images.gr-assets.com/books/1490528560m...   \n",
              "\n",
              "                                     small_image_url  \\\n",
              "0  https://images.gr-assets.com/books/1447303603s...   \n",
              "1  https://images.gr-assets.com/books/1474154022s...   \n",
              "2  https://images.gr-assets.com/books/1361039443s...   \n",
              "3  https://images.gr-assets.com/books/1361975680s...   \n",
              "4  https://images.gr-assets.com/books/1490528560s...   \n",
              "\n",
              "                                           book_desc  \n",
              "0  Winning will make you famous. Losing means cer...  \n",
              "1  Harry Potter's life is miserable. His parents ...  \n",
              "2  About three things I was absolutely positive.F...  \n",
              "3  The unforgettable novel of a childhood in a sl...  \n",
              "4  Alternate Cover Edition ISBN: 0743273567 (ISBN...  \n",
              "\n",
              "[5 rows x 24 columns]"
            ],
            "text/html": [
              "\n",
              "  <div id=\"df-abfebd7d-b516-4502-bc4f-c0e3a0e81964\" class=\"colab-df-container\">\n",
              "    <div>\n",
              "<style scoped>\n",
              "    .dataframe tbody tr th:only-of-type {\n",
              "        vertical-align: middle;\n",
              "    }\n",
              "\n",
              "    .dataframe tbody tr th {\n",
              "        vertical-align: top;\n",
              "    }\n",
              "\n",
              "    .dataframe thead th {\n",
              "        text-align: right;\n",
              "    }\n",
              "</style>\n",
              "<table border=\"1\" class=\"dataframe\">\n",
              "  <thead>\n",
              "    <tr style=\"text-align: right;\">\n",
              "      <th></th>\n",
              "      <th>book_id</th>\n",
              "      <th>goodreads_book_id</th>\n",
              "      <th>best_book_id</th>\n",
              "      <th>work_id</th>\n",
              "      <th>books_count</th>\n",
              "      <th>isbn</th>\n",
              "      <th>isbn13</th>\n",
              "      <th>authors</th>\n",
              "      <th>original_publication_year</th>\n",
              "      <th>original_title</th>\n",
              "      <th>...</th>\n",
              "      <th>work_ratings_count</th>\n",
              "      <th>work_text_reviews_count</th>\n",
              "      <th>ratings_1</th>\n",
              "      <th>ratings_2</th>\n",
              "      <th>ratings_3</th>\n",
              "      <th>ratings_4</th>\n",
              "      <th>ratings_5</th>\n",
              "      <th>image_url</th>\n",
              "      <th>small_image_url</th>\n",
              "      <th>book_desc</th>\n",
              "    </tr>\n",
              "  </thead>\n",
              "  <tbody>\n",
              "    <tr>\n",
              "      <th>0</th>\n",
              "      <td>1</td>\n",
              "      <td>2767052</td>\n",
              "      <td>2767052</td>\n",
              "      <td>2792775</td>\n",
              "      <td>272</td>\n",
              "      <td>439023483</td>\n",
              "      <td>9.780439e+12</td>\n",
              "      <td>Suzanne Collins</td>\n",
              "      <td>2008.0</td>\n",
              "      <td>The Hunger Games</td>\n",
              "      <td>...</td>\n",
              "      <td>4942365</td>\n",
              "      <td>155254</td>\n",
              "      <td>66715</td>\n",
              "      <td>127936</td>\n",
              "      <td>560092</td>\n",
              "      <td>1481305</td>\n",
              "      <td>2706317</td>\n",
              "      <td>https://images.gr-assets.com/books/1447303603m...</td>\n",
              "      <td>https://images.gr-assets.com/books/1447303603s...</td>\n",
              "      <td>Winning will make you famous. Losing means cer...</td>\n",
              "    </tr>\n",
              "    <tr>\n",
              "      <th>1</th>\n",
              "      <td>2</td>\n",
              "      <td>3</td>\n",
              "      <td>3</td>\n",
              "      <td>4640799</td>\n",
              "      <td>491</td>\n",
              "      <td>439554934</td>\n",
              "      <td>9.780440e+12</td>\n",
              "      <td>J.K. Rowling, Mary GrandPré</td>\n",
              "      <td>1997.0</td>\n",
              "      <td>Harry Potter and the Philosopher's Stone</td>\n",
              "      <td>...</td>\n",
              "      <td>4800065</td>\n",
              "      <td>75867</td>\n",
              "      <td>75504</td>\n",
              "      <td>101676</td>\n",
              "      <td>455024</td>\n",
              "      <td>1156318</td>\n",
              "      <td>3011543</td>\n",
              "      <td>https://images.gr-assets.com/books/1474154022m...</td>\n",
              "      <td>https://images.gr-assets.com/books/1474154022s...</td>\n",
              "      <td>Harry Potter's life is miserable. His parents ...</td>\n",
              "    </tr>\n",
              "    <tr>\n",
              "      <th>2</th>\n",
              "      <td>3</td>\n",
              "      <td>41865</td>\n",
              "      <td>41865</td>\n",
              "      <td>3212258</td>\n",
              "      <td>226</td>\n",
              "      <td>316015849</td>\n",
              "      <td>9.780316e+12</td>\n",
              "      <td>Stephenie Meyer</td>\n",
              "      <td>2005.0</td>\n",
              "      <td>Twilight</td>\n",
              "      <td>...</td>\n",
              "      <td>3916824</td>\n",
              "      <td>95009</td>\n",
              "      <td>456191</td>\n",
              "      <td>436802</td>\n",
              "      <td>793319</td>\n",
              "      <td>875073</td>\n",
              "      <td>1355439</td>\n",
              "      <td>https://images.gr-assets.com/books/1361039443m...</td>\n",
              "      <td>https://images.gr-assets.com/books/1361039443s...</td>\n",
              "      <td>About three things I was absolutely positive.F...</td>\n",
              "    </tr>\n",
              "    <tr>\n",
              "      <th>3</th>\n",
              "      <td>4</td>\n",
              "      <td>2657</td>\n",
              "      <td>2657</td>\n",
              "      <td>3275794</td>\n",
              "      <td>487</td>\n",
              "      <td>61120081</td>\n",
              "      <td>9.780061e+12</td>\n",
              "      <td>Harper Lee</td>\n",
              "      <td>1960.0</td>\n",
              "      <td>To Kill a Mockingbird</td>\n",
              "      <td>...</td>\n",
              "      <td>3340896</td>\n",
              "      <td>72586</td>\n",
              "      <td>60427</td>\n",
              "      <td>117415</td>\n",
              "      <td>446835</td>\n",
              "      <td>1001952</td>\n",
              "      <td>1714267</td>\n",
              "      <td>https://images.gr-assets.com/books/1361975680m...</td>\n",
              "      <td>https://images.gr-assets.com/books/1361975680s...</td>\n",
              "      <td>The unforgettable novel of a childhood in a sl...</td>\n",
              "    </tr>\n",
              "    <tr>\n",
              "      <th>4</th>\n",
              "      <td>5</td>\n",
              "      <td>4671</td>\n",
              "      <td>4671</td>\n",
              "      <td>245494</td>\n",
              "      <td>1356</td>\n",
              "      <td>743273567</td>\n",
              "      <td>9.780743e+12</td>\n",
              "      <td>F. Scott Fitzgerald</td>\n",
              "      <td>1925.0</td>\n",
              "      <td>The Great Gatsby</td>\n",
              "      <td>...</td>\n",
              "      <td>2773745</td>\n",
              "      <td>51992</td>\n",
              "      <td>86236</td>\n",
              "      <td>197621</td>\n",
              "      <td>606158</td>\n",
              "      <td>936012</td>\n",
              "      <td>947718</td>\n",
              "      <td>https://images.gr-assets.com/books/1490528560m...</td>\n",
              "      <td>https://images.gr-assets.com/books/1490528560s...</td>\n",
              "      <td>Alternate Cover Edition ISBN: 0743273567 (ISBN...</td>\n",
              "    </tr>\n",
              "  </tbody>\n",
              "</table>\n",
              "<p>5 rows × 24 columns</p>\n",
              "</div>\n",
              "    <div class=\"colab-df-buttons\">\n",
              "\n",
              "  <div class=\"colab-df-container\">\n",
              "    <button class=\"colab-df-convert\" onclick=\"convertToInteractive('df-abfebd7d-b516-4502-bc4f-c0e3a0e81964')\"\n",
              "            title=\"Convert this dataframe to an interactive table.\"\n",
              "            style=\"display:none;\">\n",
              "\n",
              "  <svg xmlns=\"http://www.w3.org/2000/svg\" height=\"24px\" viewBox=\"0 -960 960 960\">\n",
              "    <path d=\"M120-120v-720h720v720H120Zm60-500h600v-160H180v160Zm220 220h160v-160H400v160Zm0 220h160v-160H400v160ZM180-400h160v-160H180v160Zm440 0h160v-160H620v160ZM180-180h160v-160H180v160Zm440 0h160v-160H620v160Z\"/>\n",
              "  </svg>\n",
              "    </button>\n",
              "\n",
              "  <style>\n",
              "    .colab-df-container {\n",
              "      display:flex;\n",
              "      gap: 12px;\n",
              "    }\n",
              "\n",
              "    .colab-df-convert {\n",
              "      background-color: #E8F0FE;\n",
              "      border: none;\n",
              "      border-radius: 50%;\n",
              "      cursor: pointer;\n",
              "      display: none;\n",
              "      fill: #1967D2;\n",
              "      height: 32px;\n",
              "      padding: 0 0 0 0;\n",
              "      width: 32px;\n",
              "    }\n",
              "\n",
              "    .colab-df-convert:hover {\n",
              "      background-color: #E2EBFA;\n",
              "      box-shadow: 0px 1px 2px rgba(60, 64, 67, 0.3), 0px 1px 3px 1px rgba(60, 64, 67, 0.15);\n",
              "      fill: #174EA6;\n",
              "    }\n",
              "\n",
              "    .colab-df-buttons div {\n",
              "      margin-bottom: 4px;\n",
              "    }\n",
              "\n",
              "    [theme=dark] .colab-df-convert {\n",
              "      background-color: #3B4455;\n",
              "      fill: #D2E3FC;\n",
              "    }\n",
              "\n",
              "    [theme=dark] .colab-df-convert:hover {\n",
              "      background-color: #434B5C;\n",
              "      box-shadow: 0px 1px 3px 1px rgba(0, 0, 0, 0.15);\n",
              "      filter: drop-shadow(0px 1px 2px rgba(0, 0, 0, 0.3));\n",
              "      fill: #FFFFFF;\n",
              "    }\n",
              "  </style>\n",
              "\n",
              "    <script>\n",
              "      const buttonEl =\n",
              "        document.querySelector('#df-abfebd7d-b516-4502-bc4f-c0e3a0e81964 button.colab-df-convert');\n",
              "      buttonEl.style.display =\n",
              "        google.colab.kernel.accessAllowed ? 'block' : 'none';\n",
              "\n",
              "      async function convertToInteractive(key) {\n",
              "        const element = document.querySelector('#df-abfebd7d-b516-4502-bc4f-c0e3a0e81964');\n",
              "        const dataTable =\n",
              "          await google.colab.kernel.invokeFunction('convertToInteractive',\n",
              "                                                    [key], {});\n",
              "        if (!dataTable) return;\n",
              "\n",
              "        const docLinkHtml = 'Like what you see? Visit the ' +\n",
              "          '<a target=\"_blank\" href=https://colab.research.google.com/notebooks/data_table.ipynb>data table notebook</a>'\n",
              "          + ' to learn more about interactive tables.';\n",
              "        element.innerHTML = '';\n",
              "        dataTable['output_type'] = 'display_data';\n",
              "        await google.colab.output.renderOutput(dataTable, element);\n",
              "        const docLink = document.createElement('div');\n",
              "        docLink.innerHTML = docLinkHtml;\n",
              "        element.appendChild(docLink);\n",
              "      }\n",
              "    </script>\n",
              "  </div>\n",
              "\n",
              "\n",
              "    <div id=\"df-3c4bddf3-6727-48b0-9c02-ddc883215971\">\n",
              "      <button class=\"colab-df-quickchart\" onclick=\"quickchart('df-3c4bddf3-6727-48b0-9c02-ddc883215971')\"\n",
              "                title=\"Suggest charts\"\n",
              "                style=\"display:none;\">\n",
              "\n",
              "<svg xmlns=\"http://www.w3.org/2000/svg\" height=\"24px\"viewBox=\"0 0 24 24\"\n",
              "     width=\"24px\">\n",
              "    <g>\n",
              "        <path d=\"M19 3H5c-1.1 0-2 .9-2 2v14c0 1.1.9 2 2 2h14c1.1 0 2-.9 2-2V5c0-1.1-.9-2-2-2zM9 17H7v-7h2v7zm4 0h-2V7h2v10zm4 0h-2v-4h2v4z\"/>\n",
              "    </g>\n",
              "</svg>\n",
              "      </button>\n",
              "\n",
              "<style>\n",
              "  .colab-df-quickchart {\n",
              "      --bg-color: #E8F0FE;\n",
              "      --fill-color: #1967D2;\n",
              "      --hover-bg-color: #E2EBFA;\n",
              "      --hover-fill-color: #174EA6;\n",
              "      --disabled-fill-color: #AAA;\n",
              "      --disabled-bg-color: #DDD;\n",
              "  }\n",
              "\n",
              "  [theme=dark] .colab-df-quickchart {\n",
              "      --bg-color: #3B4455;\n",
              "      --fill-color: #D2E3FC;\n",
              "      --hover-bg-color: #434B5C;\n",
              "      --hover-fill-color: #FFFFFF;\n",
              "      --disabled-bg-color: #3B4455;\n",
              "      --disabled-fill-color: #666;\n",
              "  }\n",
              "\n",
              "  .colab-df-quickchart {\n",
              "    background-color: var(--bg-color);\n",
              "    border: none;\n",
              "    border-radius: 50%;\n",
              "    cursor: pointer;\n",
              "    display: none;\n",
              "    fill: var(--fill-color);\n",
              "    height: 32px;\n",
              "    padding: 0;\n",
              "    width: 32px;\n",
              "  }\n",
              "\n",
              "  .colab-df-quickchart:hover {\n",
              "    background-color: var(--hover-bg-color);\n",
              "    box-shadow: 0 1px 2px rgba(60, 64, 67, 0.3), 0 1px 3px 1px rgba(60, 64, 67, 0.15);\n",
              "    fill: var(--button-hover-fill-color);\n",
              "  }\n",
              "\n",
              "  .colab-df-quickchart-complete:disabled,\n",
              "  .colab-df-quickchart-complete:disabled:hover {\n",
              "    background-color: var(--disabled-bg-color);\n",
              "    fill: var(--disabled-fill-color);\n",
              "    box-shadow: none;\n",
              "  }\n",
              "\n",
              "  .colab-df-spinner {\n",
              "    border: 2px solid var(--fill-color);\n",
              "    border-color: transparent;\n",
              "    border-bottom-color: var(--fill-color);\n",
              "    animation:\n",
              "      spin 1s steps(1) infinite;\n",
              "  }\n",
              "\n",
              "  @keyframes spin {\n",
              "    0% {\n",
              "      border-color: transparent;\n",
              "      border-bottom-color: var(--fill-color);\n",
              "      border-left-color: var(--fill-color);\n",
              "    }\n",
              "    20% {\n",
              "      border-color: transparent;\n",
              "      border-left-color: var(--fill-color);\n",
              "      border-top-color: var(--fill-color);\n",
              "    }\n",
              "    30% {\n",
              "      border-color: transparent;\n",
              "      border-left-color: var(--fill-color);\n",
              "      border-top-color: var(--fill-color);\n",
              "      border-right-color: var(--fill-color);\n",
              "    }\n",
              "    40% {\n",
              "      border-color: transparent;\n",
              "      border-right-color: var(--fill-color);\n",
              "      border-top-color: var(--fill-color);\n",
              "    }\n",
              "    60% {\n",
              "      border-color: transparent;\n",
              "      border-right-color: var(--fill-color);\n",
              "    }\n",
              "    80% {\n",
              "      border-color: transparent;\n",
              "      border-right-color: var(--fill-color);\n",
              "      border-bottom-color: var(--fill-color);\n",
              "    }\n",
              "    90% {\n",
              "      border-color: transparent;\n",
              "      border-bottom-color: var(--fill-color);\n",
              "    }\n",
              "  }\n",
              "</style>\n",
              "\n",
              "      <script>\n",
              "        async function quickchart(key) {\n",
              "          const quickchartButtonEl =\n",
              "            document.querySelector('#' + key + ' button');\n",
              "          quickchartButtonEl.disabled = true;  // To prevent multiple clicks.\n",
              "          quickchartButtonEl.classList.add('colab-df-spinner');\n",
              "          try {\n",
              "            const charts = await google.colab.kernel.invokeFunction(\n",
              "                'suggestCharts', [key], {});\n",
              "          } catch (error) {\n",
              "            console.error('Error during call to suggestCharts:', error);\n",
              "          }\n",
              "          quickchartButtonEl.classList.remove('colab-df-spinner');\n",
              "          quickchartButtonEl.classList.add('colab-df-quickchart-complete');\n",
              "        }\n",
              "        (() => {\n",
              "          let quickchartButtonEl =\n",
              "            document.querySelector('#df-3c4bddf3-6727-48b0-9c02-ddc883215971 button');\n",
              "          quickchartButtonEl.style.display =\n",
              "            google.colab.kernel.accessAllowed ? 'block' : 'none';\n",
              "        })();\n",
              "      </script>\n",
              "    </div>\n",
              "\n",
              "    </div>\n",
              "  </div>\n"
            ],
            "application/vnd.google.colaboratory.intrinsic+json": {
              "type": "dataframe",
              "variable_name": "df_books"
            }
          },
          "metadata": {},
          "execution_count": 60
        }
      ]
    },
    {
      "cell_type": "code",
      "source": [
        "with open('goodreads_past_interactions.json', 'r') as f:\n",
        "    user_interactions = json.load(f)\n"
      ],
      "metadata": {
        "id": "nbJCtyYnGYu0"
      },
      "execution_count": 61,
      "outputs": []
    },
    {
      "cell_type": "code",
      "source": [
        "with open('goodreads_test_interactions.json', 'r') as f:\n",
        "    user_interactions_test = json.load(f)"
      ],
      "metadata": {
        "id": "MLN3MXZ7XX7k"
      },
      "execution_count": 62,
      "outputs": []
    },
    {
      "cell_type": "code",
      "source": [
        "idx2userid = {i: id_ for i, id_ in enumerate(user_interactions.keys())}\n",
        "userid2idx = {id_:i for i, id_ in enumerate(user_interactions.keys())}"
      ],
      "metadata": {
        "id": "Ovkel1RDXgrg"
      },
      "execution_count": 63,
      "outputs": []
    },
    {
      "cell_type": "code",
      "source": [
        "# 2) Build userid2idx by enumerating all distinct user IDs in the training set.\n",
        "#    (You could also include users from test if there are any users in test not in train,\n",
        "#     but typically we drop test-users that never appear in train.)\n",
        "\n",
        "userid2idx = { raw_uid: idx\n",
        "               for idx, raw_uid in enumerate(user_interactions.keys()) }\n",
        "\n",
        "#    If you want to ensure we include any “new” users that appear only in test:\n",
        "for raw_uid in user_interactions_test.keys():\n",
        "    if raw_uid not in userid2idx:\n",
        "        userid2idx[raw_uid] = len(userid2idx)"
      ],
      "metadata": {
        "id": "uBB0p1K1jfto"
      },
      "execution_count": 64,
      "outputs": []
    },
    {
      "cell_type": "code",
      "source": [
        "# 3) Build the set of all book IDs that appear in either train or test:\n",
        "all_book_ids = set()\n",
        "\n",
        "#    From train:\n",
        "for raw_uid, book_list in user_interactions.items():\n",
        "    for raw_bid in book_list:\n",
        "        all_book_ids.add(raw_bid)\n",
        "\n",
        "#    From test:\n",
        "for raw_uid, book_list in user_interactions_test.items():\n",
        "    for raw_bid in book_list:\n",
        "        all_book_ids.add(raw_bid)"
      ],
      "metadata": {
        "id": "RjjROkwMjzqa"
      },
      "execution_count": 65,
      "outputs": []
    },
    {
      "cell_type": "code",
      "source": [
        "# 4) Now enumerate that set to build bookid2idx\n",
        "bookid2idx = { raw_bid: idx for idx, raw_bid in enumerate(all_book_ids) }"
      ],
      "metadata": {
        "id": "KhKpkXQxj2AU"
      },
      "execution_count": 66,
      "outputs": []
    },
    {
      "cell_type": "code",
      "source": [
        "# 5) Now you can check:\n",
        "num_users = len(userid2idx)\n",
        "num_items = len(bookid2idx)\n",
        "\n",
        "print(f\"Number of distinct users: {num_users}\")\n",
        "print(f\"Number of distinct books: {num_items}\")"
      ],
      "metadata": {
        "colab": {
          "base_uri": "https://localhost:8080/"
        },
        "id": "otMd8oofj3_Q",
        "outputId": "5eda4665-f4ca-4151-fa59-c43f7b8f9fed"
      },
      "execution_count": 67,
      "outputs": [
        {
          "output_type": "stream",
          "name": "stdout",
          "text": [
            "Number of distinct users: 52821\n",
            "Number of distinct books: 4287\n"
          ]
        }
      ]
    },
    {
      "cell_type": "code",
      "source": [
        "unique_books = df_books.shape[0]\n",
        "num_columns_table = df_books.shape[1]\n",
        "\n",
        "print(f\"Number of unique books: {unique_books}\")\n",
        "print(f\"Number of columns in the table: {num_columns_table}\")"
      ],
      "metadata": {
        "colab": {
          "base_uri": "https://localhost:8080/"
        },
        "id": "BC1iscAdj8HY",
        "outputId": "f9764d8a-f7ec-4ad6-c283-76694d1a3e9a"
      },
      "execution_count": 68,
      "outputs": [
        {
          "output_type": "stream",
          "name": "stdout",
          "text": [
            "Number of unique books: 4287\n",
            "Number of columns in the table: 24\n"
          ]
        }
      ]
    },
    {
      "cell_type": "markdown",
      "source": [
        "## Build “(user, item, label)” arrays for training"
      ],
      "metadata": {
        "id": "HfX8CLhScCvt"
      }
    },
    {
      "cell_type": "markdown",
      "source": [
        "First, we’ll construct a dictionary of “positive item-indices per user_idx” for training:"
      ],
      "metadata": {
        "id": "Q76pXDNScPBT"
      }
    },
    {
      "cell_type": "code",
      "source": [
        "from collections import defaultdict\n",
        "\n",
        "# pos_items_per_user[u_idx] = set of i_idx that user u_idx interacted with in train\n",
        "pos_items_per_user = defaultdict(set)\n",
        "\n",
        "for raw_u, book_list in user_interactions.items():\n",
        "    u_idx = userid2idx[raw_u]\n",
        "    for raw_b in book_list:\n",
        "        i_idx = bookid2idx[raw_b]\n",
        "        pos_items_per_user[u_idx].add(i_idx)\n",
        "\n",
        "# (Now pos_items_per_user[u_idx] is a Python set of i_idx for each user)"
      ],
      "metadata": {
        "id": "t_dX8nUpcFq2"
      },
      "execution_count": 69,
      "outputs": []
    },
    {
      "cell_type": "markdown",
      "source": [
        "Next, negative sampling. For each positive pair (u_idx, i_idx), we will sample n_neg_per_pos “negatives” j ∈ [0..num_items−1] such that j ∉ pos_items_per_user[u_idx]. Let’s choose 4 negatives per positive:"
      ],
      "metadata": {
        "id": "hurBcn9Bc9ff"
      }
    },
    {
      "cell_type": "code",
      "source": [
        "n_neg_per_pos = 2\n",
        "rng = np.random.default_rng(seed=42)\n",
        "\n",
        "user_input = []\n",
        "item_input = []\n",
        "labels = []\n",
        "\n",
        "for u_idx, pos_set in pos_items_per_user.items():\n",
        "    # If a user has no positives (unlikely), skip.\n",
        "    if len(pos_set) == 0:\n",
        "        continue\n",
        "\n",
        "    for i_idx in pos_set:\n",
        "        # — Positive sample —\n",
        "        user_input.append(u_idx)\n",
        "        item_input.append(i_idx)\n",
        "        labels.append(1.0)\n",
        "\n",
        "        # — Negative samples —\n",
        "        neg_count = 0\n",
        "        while neg_count < n_neg_per_pos:\n",
        "            sampled_i = rng.integers(low=0, high=num_items)\n",
        "            if sampled_i not in pos_set:\n",
        "                user_input.append(u_idx)\n",
        "                item_input.append(sampled_i)\n",
        "                labels.append(0.0)\n",
        "                neg_count += 1\n",
        "\n",
        "# Convert lists → NumPy arrays for Keras\n",
        "user_input = np.array(user_input, dtype=np.int32)   # shape = (N_total_examples,)\n",
        "item_input = np.array(item_input, dtype=np.int32)   # shape = (N_total_examples,)\n",
        "labels     = np.array(labels,     dtype=np.float32) # shape = (N_total_examples,)\n",
        "\n",
        "print(\"train triples:\", user_input.shape, item_input.shape, labels.shape)\n"
      ],
      "metadata": {
        "colab": {
          "base_uri": "https://localhost:8080/"
        },
        "id": "Ot6L9Z95dCpI",
        "outputId": "1e53c80b-aa65-4eeb-90b9-71eae1ea65d8"
      },
      "execution_count": 70,
      "outputs": [
        {
          "output_type": "stream",
          "name": "stdout",
          "text": [
            "train triples: (10063569,) (10063569,) (10063569,)\n"
          ]
        }
      ]
    },
    {
      "cell_type": "markdown",
      "source": [
        "## Build (user, item, label) arrays for validation (test)"
      ],
      "metadata": {
        "id": "ppUkWc1GeFZX"
      }
    },
    {
      "cell_type": "code",
      "source": [
        "# 1) Construct pos_items_per_user_test[u_idx]\n",
        "pos_items_per_user_test = defaultdict(set)\n",
        "for raw_u, book_list in user_interactions_test.items():\n",
        "    # It’s possible that user_interactions_test contains a user not seen in training.\n",
        "    # If so, skip them (or add them to userid2idx + pos_items_per_user if you want cold-start eval).\n",
        "    if raw_u not in userid2idx:\n",
        "        continue\n",
        "    u_idx = userid2idx[raw_u]\n",
        "    for raw_b in book_list:\n",
        "        if raw_b not in bookid2idx:\n",
        "            # skip books that weren’t in your mapping\n",
        "            continue\n",
        "        i_idx = bookid2idx[raw_b]\n",
        "        pos_items_per_user_test[u_idx].add(i_idx)\n",
        "\n",
        "# 2) Negative sampling for test:\n",
        "user_input_test = []\n",
        "item_input_test = []\n",
        "labels_test = []\n",
        "\n",
        "for u_idx, pos_set in pos_items_per_user_test.items():\n",
        "    if len(pos_set) == 0:\n",
        "        continue\n",
        "\n",
        "    for i_idx in pos_set:\n",
        "        # Positive\n",
        "        user_input_test.append(u_idx)\n",
        "        item_input_test.append(i_idx)\n",
        "        labels_test.append(1.0)\n",
        "\n",
        "        # Negatives\n",
        "        neg_count = 0\n",
        "        while neg_count < n_neg_per_pos:\n",
        "            sampled_i = rng.integers(low=0, high=num_items)\n",
        "            if sampled_i not in pos_set:\n",
        "                user_input_test.append(u_idx)\n",
        "                item_input_test.append(sampled_i)\n",
        "                labels_test.append(0.0)\n",
        "                neg_count += 1\n",
        "\n",
        "user_input_test = np.array(user_input_test, dtype=np.int32)\n",
        "item_input_test = np.array(item_input_test, dtype=np.int32)\n",
        "labels_test     = np.array(labels_test,     dtype=np.float32)\n",
        "\n",
        "print(\"test triples:\", user_input_test.shape, item_input_test.shape, labels_test.shape)"
      ],
      "metadata": {
        "colab": {
          "base_uri": "https://localhost:8080/"
        },
        "id": "H0dF76DIeMHr",
        "outputId": "3fb635e3-5366-4206-a2ea-c52c6a2f9044"
      },
      "execution_count": 71,
      "outputs": [
        {
          "output_type": "stream",
          "name": "stdout",
          "text": [
            "test triples: (3000,) (3000,) (3000,)\n"
          ]
        }
      ]
    },
    {
      "cell_type": "markdown",
      "source": [
        "## Item features"
      ],
      "metadata": {
        "id": "Jai5NBVVeapX"
      }
    },
    {
      "cell_type": "code",
      "source": [
        "bert_embeddings = np.load(\"goodreads_bert_embeddings.npy\")  # shape: (num_items, embedding_dim)\n",
        "#bert_embeddings_large = np.load(\"goodreads_bert_large_embeddings.npy\")\n",
        "\n",
        "num_items, embedding_dim = bert_embeddings.shape\n",
        "\n",
        "print(bert_embeddings.shape)\n"
      ],
      "metadata": {
        "colab": {
          "base_uri": "https://localhost:8080/"
        },
        "id": "dVMqCUddeZ-d",
        "outputId": "c5451764-2a28-413a-fdb3-b5b526d65927"
      },
      "execution_count": 72,
      "outputs": [
        {
          "output_type": "stream",
          "name": "stdout",
          "text": [
            "(4287, 768)\n"
          ]
        }
      ]
    },
    {
      "cell_type": "code",
      "source": [
        "# For training\n",
        "#item_feat_input = item_features[item_input]         # shape = (N_train, D)\n",
        "#item_feat_input = bert_embeddings[item_input]\n",
        "# For validation\n",
        "#item_feat_input_test = item_features[item_input_test]\n",
        "#item_feat_input_test = bert_embeddings[item_input_test]"
      ],
      "metadata": {
        "id": "K1lIaahLh1Y8"
      },
      "execution_count": 73,
      "outputs": []
    },
    {
      "cell_type": "markdown",
      "source": [
        "# Functions for Ranking Metrics"
      ],
      "metadata": {
        "id": "tG0K0Uo7xLSU"
      }
    },
    {
      "cell_type": "code",
      "source": [
        "import numpy as np\n",
        "\n",
        "def precision_at_k(predicted_items, true_set, k):\n",
        "    \"\"\"\n",
        "    predicted_items: list or 1D array of item-indices ranked by descending score (length ≥ k)\n",
        "    true_set: a Python set of ground-truth positive items for this user\n",
        "    k: cutoff\n",
        "    \"\"\"\n",
        "    pred_k = predicted_items[:k]\n",
        "    hits = sum((1 for i in pred_k if i in true_set))\n",
        "    return hits / k\n",
        "\n",
        "def dcg_at_k(predicted_items, true_set, k):\n",
        "    \"\"\"\n",
        "    DCG@k = sum_{i=1..k} ( rel_i / log2(i+1) ), where rel_i = 1 if predicted_items[i-1] ∈ true_set\n",
        "    \"\"\"\n",
        "    dcg = 0.0\n",
        "    for rank, item in enumerate(predicted_items[:k], start=1):\n",
        "        if item in true_set:\n",
        "            dcg += 1.0 / np.log2(rank + 1)\n",
        "    return dcg\n",
        "\n",
        "def idcg_at_k(true_set, k):\n",
        "    \"\"\"\n",
        "    Ideal DCG@k for this user, i.e. if we ranked all true items first.\n",
        "    IDCG = sum_{i=1..min(len(true_set), k)} (1 / log2(i+1))\n",
        "    \"\"\"\n",
        "    n_rel = min(len(true_set), k)\n",
        "    if n_rel == 0:\n",
        "        return 0.0\n",
        "    return sum((1.0 / np.log2(i + 1) for i in range(1, n_rel + 1)))\n",
        "\n",
        "def ndcg_at_k(predicted_items, true_set, k):\n",
        "    \"\"\"\n",
        "    NDCG@k = DCG@k / IDCG@k\n",
        "    \"\"\"\n",
        "    dcg = dcg_at_k(predicted_items, true_set, k)\n",
        "    idcg = idcg_at_k(true_set, k)\n",
        "    return 0.0 if idcg == 0 else dcg / idcg\n",
        "\n",
        "def average_precision_at_k(predicted_items, true_set, k):\n",
        "    \"\"\"\n",
        "    AP@k for a single user:\n",
        "    AP = (1 / min(n_pos, k)) * sum_{i=1..k} ( precision@i * rel_i ),\n",
        "    where rel_i = 1 if predicted_items[i-1] ∈ true_set, else 0.\n",
        "    If the user has no positives, define AP = 0.0.\n",
        "    \"\"\"\n",
        "    if len(true_set) == 0:\n",
        "        return 0.0\n",
        "\n",
        "    hits = 0\n",
        "    score = 0.0\n",
        "    for idx, item in enumerate(predicted_items[:k], start=1):\n",
        "        if item in true_set:\n",
        "            hits += 1\n",
        "            score += hits / idx  # precision@idx\n",
        "    return score / min(len(true_set), k)\n"
      ],
      "metadata": {
        "id": "M4igD1PnxRYj"
      },
      "execution_count": 74,
      "outputs": []
    },
    {
      "cell_type": "markdown",
      "source": [
        "Prepare per‐user ground‐truth sets"
      ],
      "metadata": {
        "id": "BkvEI7bexYhw"
      }
    },
    {
      "cell_type": "code",
      "source": [
        "from collections import defaultdict\n",
        "\n",
        "# 1) Build train_pos (you probably have this as pos_items_per_user):\n",
        "train_pos = defaultdict(set)\n",
        "for raw_u, book_list in user_interactions.items():\n",
        "    u_idx = userid2idx[raw_u]\n",
        "    for raw_b in book_list:\n",
        "        train_pos[u_idx].add(bookid2idx[raw_b])\n",
        "\n",
        "# 2) Build test_pos similarly:\n",
        "test_pos = defaultdict(set)\n",
        "for raw_u, book_list in user_interactions_test.items():\n",
        "    if raw_u not in userid2idx:\n",
        "        continue\n",
        "    u_idx = userid2idx[raw_u]\n",
        "    for raw_b in book_list:\n",
        "        if raw_b not in bookid2idx:\n",
        "            continue\n",
        "        test_pos[u_idx].add(bookid2idx[raw_b])\n"
      ],
      "metadata": {
        "id": "oqfG3yaTxZyP"
      },
      "execution_count": 75,
      "outputs": []
    },
    {
      "cell_type": "code",
      "source": [
        "all_users = list(test_pos.keys())  # only users with ≥1 test interaction\n",
        "num_items_check = len(bookid2idx)        # total number of distinct items\n"
      ],
      "metadata": {
        "id": "mZHtE_ZOxhn2"
      },
      "execution_count": 76,
      "outputs": []
    },
    {
      "cell_type": "markdown",
      "source": [
        "## Custom Keras callback to compute metrics"
      ],
      "metadata": {
        "id": "F7MhQrmWyHqO"
      }
    },
    {
      "cell_type": "code",
      "source": [
        "import tensorflow as tf\n",
        "\n",
        "class RankingMetricsCallback(tf.keras.callbacks.Callback):\n",
        "    def __init__(self, train_pos, test_pos, num_items, k=10, verbose=1):\n",
        "        \"\"\"\n",
        "        train_pos: dict[u_idx] -> set of item indices the user interacted with in training\n",
        "        test_pos: dict[u_idx] -> set of item indices for ground-truth test positives\n",
        "        num_items: total number of distinct items\n",
        "        k: cutoff for precision@k, NDCG@k, MAP@k\n",
        "        verbose: 0 or 1 (whether to print results)\n",
        "        \"\"\"\n",
        "        super().__init__()\n",
        "        self.train_pos = train_pos\n",
        "        self.test_pos = test_pos\n",
        "        self.num_items = num_items\n",
        "        self.k = k\n",
        "        self.verbose = verbose\n",
        "\n",
        "        # Precompute for speed: a full array of all item indices\n",
        "        self.all_items_arr = np.arange(num_items, dtype=np.int32)\n",
        "\n",
        "    def on_epoch_end(self, epoch, logs=None):\n",
        "        \"\"\"\n",
        "        At the end of each epoch, compute average Precision@k, NDCG@k, MAP@k over all users\n",
        "        in test_pos. Adds metrics to logs dictionary and prints them.\n",
        "        \"\"\"\n",
        "        precision_list = []\n",
        "        ndcg_list = []\n",
        "        ap_list = []\n",
        "\n",
        "        # For each user in test_pos:\n",
        "        for u_idx, true_set in self.test_pos.items():\n",
        "            if not true_set:\n",
        "                continue\n",
        "\n",
        "            # 1) Build candidate items = all_items \\ train_pos[u]\n",
        "            train_set = self.train_pos.get(u_idx, set())\n",
        "            # Boolean mask for candidates:\n",
        "            if len(train_set) == 0:\n",
        "                candidates = self.all_items_arr\n",
        "            else:\n",
        "                mask = np.ones(self.num_items, dtype=bool)\n",
        "                mask[list(train_set)] = False\n",
        "                candidates = self.all_items_arr[mask]\n",
        "\n",
        "            # 2) Build user and item batches for prediction\n",
        "            u_batch = np.full(shape=(candidates.shape[0],), fill_value=u_idx, dtype=np.int32)\n",
        "            i_batch = candidates\n",
        "\n",
        "            # 3) Get scores from the model\n",
        "            #    Note: model.predict(...) can be batched inside (it handles large arrays)\n",
        "            scores = self.model.predict([u_batch, i_batch], batch_size=2048, verbose=0).flatten()\n",
        "\n",
        "            # 4) Get top-k items by descending score\n",
        "            topk_indices = np.argpartition(-scores, self.k - 1)[:self.k]\n",
        "            # `argpartition` is O(n), then we sort those k for final ranking:\n",
        "            topk_scores = scores[topk_indices]\n",
        "            topk_items = candidates[topk_indices][np.argsort(-topk_scores)]\n",
        "\n",
        "            # 5) Compute metrics for this user\n",
        "            p_at_k = precision_at_k(topk_items, true_set, self.k)\n",
        "            ndcg_k = ndcg_at_k(topk_items, true_set, self.k)\n",
        "            ap_k = average_precision_at_k(topk_items, true_set, self.k)\n",
        "\n",
        "            precision_list.append(p_at_k)\n",
        "            ndcg_list.append(ndcg_k)\n",
        "            ap_list.append(ap_k)\n",
        "\n",
        "        # 6) Average across all users\n",
        "        avg_precision = float(np.mean(precision_list)) if precision_list else 0.0\n",
        "        avg_ndcg      = float(np.mean(ndcg_list))      if ndcg_list else 0.0\n",
        "        avg_map       = float(np.mean(ap_list))        if ap_list else 0.0\n",
        "\n",
        "        # 7) Log into `logs` so Keras will record them\n",
        "        if logs is not None:\n",
        "            logs[f\"Precision@{self.k}\"] = avg_precision\n",
        "            logs[f\"NDCG@{self.k}\"]      = avg_ndcg\n",
        "            logs[f\"MAP@{self.k}\"]       = avg_map\n",
        "\n",
        "        # 8) Optionally print to console\n",
        "        if self.verbose > 0:\n",
        "            print(\n",
        "                f\" — epoch {epoch + 1:>2d}: \"\n",
        "                f\"Precision@{self.k}={avg_precision:.4f}, \"\n",
        "                f\"NDCG@{self.k}={avg_ndcg:.4f}, \"\n",
        "                f\"MAP@{self.k}={avg_map:.4f}\"\n",
        "            )\n"
      ],
      "metadata": {
        "id": "KnGH_CgFyMHK"
      },
      "execution_count": 77,
      "outputs": []
    },
    {
      "cell_type": "markdown",
      "source": [
        "# Vanilla NCF (Keras)\n"
      ],
      "metadata": {
        "id": "LOm6qixhe25Z"
      }
    },
    {
      "cell_type": "code",
      "source": [
        "from tensorflow.keras.layers import Input, Embedding, Flatten, Multiply, Concatenate, Dense, Dropout\n",
        "from tensorflow.keras.models import Model\n",
        "from tensorflow.keras import mixed_precision\n",
        "mixed_precision.set_global_policy(\"mixed_float16\")\n",
        "\n",
        "# 1) Reduced hyperparameters\n",
        "K_mf  = 16\n",
        "K_mlp = 32\n",
        "mlp_layers = [32, 16]\n",
        "dropout_rate = 0.2\n",
        "\n",
        "# 2) Define inputs\n",
        "user_in = Input(shape=(), dtype=tf.int32, name=\"user_input\")\n",
        "item_in = Input(shape=(), dtype=tf.int32, name=\"item_input\")\n",
        "\n",
        "# 3) GMF branch\n",
        "u_mf = Embedding(num_users, K_mf, name=\"u_embed_mf\")(user_in)\n",
        "i_mf = Embedding(num_items, K_mf, name=\"i_embed_mf\")(item_in)\n",
        "u_latent_mf = Flatten()(u_mf)\n",
        "i_latent_mf = Flatten()(i_mf)\n",
        "mf_vec = Multiply()([u_latent_mf, i_latent_mf])  # (batch, K_mf)\n",
        "\n",
        "# 4) MLP branch (smaller dims)\n",
        "u_mlp_emb = Embedding(num_users, K_mlp, name=\"u_embed_mlp\")(user_in)\n",
        "i_mlp_emb = Embedding(num_items, K_mlp, name=\"i_embed_mlp\")(item_in)\n",
        "u_latent_mlp = Flatten()(u_mlp_emb)\n",
        "i_latent_mlp = Flatten()(i_mlp_emb)\n",
        "\n",
        "mlp_vec = Concatenate()([u_latent_mlp, i_latent_mlp])  # (batch, 2*K_mlp)\n",
        "for idx, size in enumerate(mlp_layers):\n",
        "    mlp_vec = Dense(units=size, activation=\"relu\", name=f\"mlp_dense_{idx}\")(mlp_vec)\n",
        "    mlp_vec = Dropout(dropout_rate)(mlp_vec)\n",
        "\n",
        "# 5) Combine GMF + MLP\n",
        "concat = Concatenate()([mf_vec, mlp_vec])\n",
        "output = Dense(units=1, activation=\"sigmoid\", name=\"prediction\")(concat)\n",
        "\n",
        "model_vanilla = Model(inputs=[user_in, item_in], outputs=output)\n",
        "model_vanilla.compile(\n",
        "    optimizer=tf.keras.optimizers.Adam(1e-3),\n",
        "    loss=\"binary_crossentropy\",\n",
        "    metrics=[tf.keras.metrics.AUC(name=\"auc\")]\n",
        ")\n",
        "model_vanilla.summary()\n"
      ],
      "metadata": {
        "colab": {
          "base_uri": "https://localhost:8080/",
          "height": 969
        },
        "id": "Ki_aLz-3fUNq",
        "outputId": "2086d5ed-a64f-4c67-86d6-cd38c9720fed"
      },
      "execution_count": 78,
      "outputs": [
        {
          "output_type": "display_data",
          "data": {
            "text/plain": [
              "\u001b[1mModel: \"functional_3\"\u001b[0m\n"
            ],
            "text/html": [
              "<pre style=\"white-space:pre;overflow-x:auto;line-height:normal;font-family:Menlo,'DejaVu Sans Mono',consolas,'Courier New',monospace\"><span style=\"font-weight: bold\">Model: \"functional_3\"</span>\n",
              "</pre>\n"
            ]
          },
          "metadata": {}
        },
        {
          "output_type": "display_data",
          "data": {
            "text/plain": [
              "┏━━━━━━━━━━━━━━━━━━━━━┳━━━━━━━━━━━━━━━━━━━┳━━━━━━━━━━━━┳━━━━━━━━━━━━━━━━━━━┓\n",
              "┃\u001b[1m \u001b[0m\u001b[1mLayer (type)       \u001b[0m\u001b[1m \u001b[0m┃\u001b[1m \u001b[0m\u001b[1mOutput Shape     \u001b[0m\u001b[1m \u001b[0m┃\u001b[1m \u001b[0m\u001b[1m   Param #\u001b[0m\u001b[1m \u001b[0m┃\u001b[1m \u001b[0m\u001b[1mConnected to     \u001b[0m\u001b[1m \u001b[0m┃\n",
              "┡━━━━━━━━━━━━━━━━━━━━━╇━━━━━━━━━━━━━━━━━━━╇━━━━━━━━━━━━╇━━━━━━━━━━━━━━━━━━━┩\n",
              "│ user_input          │ (\u001b[38;5;45mNone\u001b[0m)            │          \u001b[38;5;34m0\u001b[0m │ -                 │\n",
              "│ (\u001b[38;5;33mInputLayer\u001b[0m)        │                   │            │                   │\n",
              "├─────────────────────┼───────────────────┼────────────┼───────────────────┤\n",
              "│ item_input          │ (\u001b[38;5;45mNone\u001b[0m)            │          \u001b[38;5;34m0\u001b[0m │ -                 │\n",
              "│ (\u001b[38;5;33mInputLayer\u001b[0m)        │                   │            │                   │\n",
              "├─────────────────────┼───────────────────┼────────────┼───────────────────┤\n",
              "│ u_embed_mlp         │ (\u001b[38;5;45mNone\u001b[0m, \u001b[38;5;34m32\u001b[0m)        │  \u001b[38;5;34m1,690,272\u001b[0m │ user_input[\u001b[38;5;34m0\u001b[0m][\u001b[38;5;34m0\u001b[0m]  │\n",
              "│ (\u001b[38;5;33mEmbedding\u001b[0m)         │                   │            │                   │\n",
              "├─────────────────────┼───────────────────┼────────────┼───────────────────┤\n",
              "│ i_embed_mlp         │ (\u001b[38;5;45mNone\u001b[0m, \u001b[38;5;34m32\u001b[0m)        │    \u001b[38;5;34m137,184\u001b[0m │ item_input[\u001b[38;5;34m0\u001b[0m][\u001b[38;5;34m0\u001b[0m]  │\n",
              "│ (\u001b[38;5;33mEmbedding\u001b[0m)         │                   │            │                   │\n",
              "├─────────────────────┼───────────────────┼────────────┼───────────────────┤\n",
              "│ flatten_14          │ (\u001b[38;5;45mNone\u001b[0m, \u001b[38;5;34m32\u001b[0m)        │          \u001b[38;5;34m0\u001b[0m │ u_embed_mlp[\u001b[38;5;34m0\u001b[0m][\u001b[38;5;34m0\u001b[0m] │\n",
              "│ (\u001b[38;5;33mFlatten\u001b[0m)           │                   │            │                   │\n",
              "├─────────────────────┼───────────────────┼────────────┼───────────────────┤\n",
              "│ flatten_15          │ (\u001b[38;5;45mNone\u001b[0m, \u001b[38;5;34m32\u001b[0m)        │          \u001b[38;5;34m0\u001b[0m │ i_embed_mlp[\u001b[38;5;34m0\u001b[0m][\u001b[38;5;34m0\u001b[0m] │\n",
              "│ (\u001b[38;5;33mFlatten\u001b[0m)           │                   │            │                   │\n",
              "├─────────────────────┼───────────────────┼────────────┼───────────────────┤\n",
              "│ concatenate_6       │ (\u001b[38;5;45mNone\u001b[0m, \u001b[38;5;34m64\u001b[0m)        │          \u001b[38;5;34m0\u001b[0m │ flatten_14[\u001b[38;5;34m0\u001b[0m][\u001b[38;5;34m0\u001b[0m], │\n",
              "│ (\u001b[38;5;33mConcatenate\u001b[0m)       │                   │            │ flatten_15[\u001b[38;5;34m0\u001b[0m][\u001b[38;5;34m0\u001b[0m]  │\n",
              "├─────────────────────┼───────────────────┼────────────┼───────────────────┤\n",
              "│ mlp_dense_0 (\u001b[38;5;33mDense\u001b[0m) │ (\u001b[38;5;45mNone\u001b[0m, \u001b[38;5;34m32\u001b[0m)        │      \u001b[38;5;34m2,080\u001b[0m │ concatenate_6[\u001b[38;5;34m0\u001b[0m]… │\n",
              "├─────────────────────┼───────────────────┼────────────┼───────────────────┤\n",
              "│ u_embed_mf          │ (\u001b[38;5;45mNone\u001b[0m, \u001b[38;5;34m16\u001b[0m)        │    \u001b[38;5;34m845,136\u001b[0m │ user_input[\u001b[38;5;34m0\u001b[0m][\u001b[38;5;34m0\u001b[0m]  │\n",
              "│ (\u001b[38;5;33mEmbedding\u001b[0m)         │                   │            │                   │\n",
              "├─────────────────────┼───────────────────┼────────────┼───────────────────┤\n",
              "│ i_embed_mf          │ (\u001b[38;5;45mNone\u001b[0m, \u001b[38;5;34m16\u001b[0m)        │     \u001b[38;5;34m68,592\u001b[0m │ item_input[\u001b[38;5;34m0\u001b[0m][\u001b[38;5;34m0\u001b[0m]  │\n",
              "│ (\u001b[38;5;33mEmbedding\u001b[0m)         │                   │            │                   │\n",
              "├─────────────────────┼───────────────────┼────────────┼───────────────────┤\n",
              "│ dropout_7 (\u001b[38;5;33mDropout\u001b[0m) │ (\u001b[38;5;45mNone\u001b[0m, \u001b[38;5;34m32\u001b[0m)        │          \u001b[38;5;34m0\u001b[0m │ mlp_dense_0[\u001b[38;5;34m0\u001b[0m][\u001b[38;5;34m0\u001b[0m] │\n",
              "├─────────────────────┼───────────────────┼────────────┼───────────────────┤\n",
              "│ flatten_12          │ (\u001b[38;5;45mNone\u001b[0m, \u001b[38;5;34m16\u001b[0m)        │          \u001b[38;5;34m0\u001b[0m │ u_embed_mf[\u001b[38;5;34m0\u001b[0m][\u001b[38;5;34m0\u001b[0m]  │\n",
              "│ (\u001b[38;5;33mFlatten\u001b[0m)           │                   │            │                   │\n",
              "├─────────────────────┼───────────────────┼────────────┼───────────────────┤\n",
              "│ flatten_13          │ (\u001b[38;5;45mNone\u001b[0m, \u001b[38;5;34m16\u001b[0m)        │          \u001b[38;5;34m0\u001b[0m │ i_embed_mf[\u001b[38;5;34m0\u001b[0m][\u001b[38;5;34m0\u001b[0m]  │\n",
              "│ (\u001b[38;5;33mFlatten\u001b[0m)           │                   │            │                   │\n",
              "├─────────────────────┼───────────────────┼────────────┼───────────────────┤\n",
              "│ mlp_dense_1 (\u001b[38;5;33mDense\u001b[0m) │ (\u001b[38;5;45mNone\u001b[0m, \u001b[38;5;34m16\u001b[0m)        │        \u001b[38;5;34m528\u001b[0m │ dropout_7[\u001b[38;5;34m0\u001b[0m][\u001b[38;5;34m0\u001b[0m]   │\n",
              "├─────────────────────┼───────────────────┼────────────┼───────────────────┤\n",
              "│ multiply_3          │ (\u001b[38;5;45mNone\u001b[0m, \u001b[38;5;34m16\u001b[0m)        │          \u001b[38;5;34m0\u001b[0m │ flatten_12[\u001b[38;5;34m0\u001b[0m][\u001b[38;5;34m0\u001b[0m], │\n",
              "│ (\u001b[38;5;33mMultiply\u001b[0m)          │                   │            │ flatten_13[\u001b[38;5;34m0\u001b[0m][\u001b[38;5;34m0\u001b[0m]  │\n",
              "├─────────────────────┼───────────────────┼────────────┼───────────────────┤\n",
              "│ dropout_8 (\u001b[38;5;33mDropout\u001b[0m) │ (\u001b[38;5;45mNone\u001b[0m, \u001b[38;5;34m16\u001b[0m)        │          \u001b[38;5;34m0\u001b[0m │ mlp_dense_1[\u001b[38;5;34m0\u001b[0m][\u001b[38;5;34m0\u001b[0m] │\n",
              "├─────────────────────┼───────────────────┼────────────┼───────────────────┤\n",
              "│ concatenate_7       │ (\u001b[38;5;45mNone\u001b[0m, \u001b[38;5;34m32\u001b[0m)        │          \u001b[38;5;34m0\u001b[0m │ multiply_3[\u001b[38;5;34m0\u001b[0m][\u001b[38;5;34m0\u001b[0m], │\n",
              "│ (\u001b[38;5;33mConcatenate\u001b[0m)       │                   │            │ dropout_8[\u001b[38;5;34m0\u001b[0m][\u001b[38;5;34m0\u001b[0m]   │\n",
              "├─────────────────────┼───────────────────┼────────────┼───────────────────┤\n",
              "│ prediction (\u001b[38;5;33mDense\u001b[0m)  │ (\u001b[38;5;45mNone\u001b[0m, \u001b[38;5;34m1\u001b[0m)         │         \u001b[38;5;34m33\u001b[0m │ concatenate_7[\u001b[38;5;34m0\u001b[0m]… │\n",
              "└─────────────────────┴───────────────────┴────────────┴───────────────────┘\n"
            ],
            "text/html": [
              "<pre style=\"white-space:pre;overflow-x:auto;line-height:normal;font-family:Menlo,'DejaVu Sans Mono',consolas,'Courier New',monospace\">┏━━━━━━━━━━━━━━━━━━━━━┳━━━━━━━━━━━━━━━━━━━┳━━━━━━━━━━━━┳━━━━━━━━━━━━━━━━━━━┓\n",
              "┃<span style=\"font-weight: bold\"> Layer (type)        </span>┃<span style=\"font-weight: bold\"> Output Shape      </span>┃<span style=\"font-weight: bold\">    Param # </span>┃<span style=\"font-weight: bold\"> Connected to      </span>┃\n",
              "┡━━━━━━━━━━━━━━━━━━━━━╇━━━━━━━━━━━━━━━━━━━╇━━━━━━━━━━━━╇━━━━━━━━━━━━━━━━━━━┩\n",
              "│ user_input          │ (<span style=\"color: #00d7ff; text-decoration-color: #00d7ff\">None</span>)            │          <span style=\"color: #00af00; text-decoration-color: #00af00\">0</span> │ -                 │\n",
              "│ (<span style=\"color: #0087ff; text-decoration-color: #0087ff\">InputLayer</span>)        │                   │            │                   │\n",
              "├─────────────────────┼───────────────────┼────────────┼───────────────────┤\n",
              "│ item_input          │ (<span style=\"color: #00d7ff; text-decoration-color: #00d7ff\">None</span>)            │          <span style=\"color: #00af00; text-decoration-color: #00af00\">0</span> │ -                 │\n",
              "│ (<span style=\"color: #0087ff; text-decoration-color: #0087ff\">InputLayer</span>)        │                   │            │                   │\n",
              "├─────────────────────┼───────────────────┼────────────┼───────────────────┤\n",
              "│ u_embed_mlp         │ (<span style=\"color: #00d7ff; text-decoration-color: #00d7ff\">None</span>, <span style=\"color: #00af00; text-decoration-color: #00af00\">32</span>)        │  <span style=\"color: #00af00; text-decoration-color: #00af00\">1,690,272</span> │ user_input[<span style=\"color: #00af00; text-decoration-color: #00af00\">0</span>][<span style=\"color: #00af00; text-decoration-color: #00af00\">0</span>]  │\n",
              "│ (<span style=\"color: #0087ff; text-decoration-color: #0087ff\">Embedding</span>)         │                   │            │                   │\n",
              "├─────────────────────┼───────────────────┼────────────┼───────────────────┤\n",
              "│ i_embed_mlp         │ (<span style=\"color: #00d7ff; text-decoration-color: #00d7ff\">None</span>, <span style=\"color: #00af00; text-decoration-color: #00af00\">32</span>)        │    <span style=\"color: #00af00; text-decoration-color: #00af00\">137,184</span> │ item_input[<span style=\"color: #00af00; text-decoration-color: #00af00\">0</span>][<span style=\"color: #00af00; text-decoration-color: #00af00\">0</span>]  │\n",
              "│ (<span style=\"color: #0087ff; text-decoration-color: #0087ff\">Embedding</span>)         │                   │            │                   │\n",
              "├─────────────────────┼───────────────────┼────────────┼───────────────────┤\n",
              "│ flatten_14          │ (<span style=\"color: #00d7ff; text-decoration-color: #00d7ff\">None</span>, <span style=\"color: #00af00; text-decoration-color: #00af00\">32</span>)        │          <span style=\"color: #00af00; text-decoration-color: #00af00\">0</span> │ u_embed_mlp[<span style=\"color: #00af00; text-decoration-color: #00af00\">0</span>][<span style=\"color: #00af00; text-decoration-color: #00af00\">0</span>] │\n",
              "│ (<span style=\"color: #0087ff; text-decoration-color: #0087ff\">Flatten</span>)           │                   │            │                   │\n",
              "├─────────────────────┼───────────────────┼────────────┼───────────────────┤\n",
              "│ flatten_15          │ (<span style=\"color: #00d7ff; text-decoration-color: #00d7ff\">None</span>, <span style=\"color: #00af00; text-decoration-color: #00af00\">32</span>)        │          <span style=\"color: #00af00; text-decoration-color: #00af00\">0</span> │ i_embed_mlp[<span style=\"color: #00af00; text-decoration-color: #00af00\">0</span>][<span style=\"color: #00af00; text-decoration-color: #00af00\">0</span>] │\n",
              "│ (<span style=\"color: #0087ff; text-decoration-color: #0087ff\">Flatten</span>)           │                   │            │                   │\n",
              "├─────────────────────┼───────────────────┼────────────┼───────────────────┤\n",
              "│ concatenate_6       │ (<span style=\"color: #00d7ff; text-decoration-color: #00d7ff\">None</span>, <span style=\"color: #00af00; text-decoration-color: #00af00\">64</span>)        │          <span style=\"color: #00af00; text-decoration-color: #00af00\">0</span> │ flatten_14[<span style=\"color: #00af00; text-decoration-color: #00af00\">0</span>][<span style=\"color: #00af00; text-decoration-color: #00af00\">0</span>], │\n",
              "│ (<span style=\"color: #0087ff; text-decoration-color: #0087ff\">Concatenate</span>)       │                   │            │ flatten_15[<span style=\"color: #00af00; text-decoration-color: #00af00\">0</span>][<span style=\"color: #00af00; text-decoration-color: #00af00\">0</span>]  │\n",
              "├─────────────────────┼───────────────────┼────────────┼───────────────────┤\n",
              "│ mlp_dense_0 (<span style=\"color: #0087ff; text-decoration-color: #0087ff\">Dense</span>) │ (<span style=\"color: #00d7ff; text-decoration-color: #00d7ff\">None</span>, <span style=\"color: #00af00; text-decoration-color: #00af00\">32</span>)        │      <span style=\"color: #00af00; text-decoration-color: #00af00\">2,080</span> │ concatenate_6[<span style=\"color: #00af00; text-decoration-color: #00af00\">0</span>]… │\n",
              "├─────────────────────┼───────────────────┼────────────┼───────────────────┤\n",
              "│ u_embed_mf          │ (<span style=\"color: #00d7ff; text-decoration-color: #00d7ff\">None</span>, <span style=\"color: #00af00; text-decoration-color: #00af00\">16</span>)        │    <span style=\"color: #00af00; text-decoration-color: #00af00\">845,136</span> │ user_input[<span style=\"color: #00af00; text-decoration-color: #00af00\">0</span>][<span style=\"color: #00af00; text-decoration-color: #00af00\">0</span>]  │\n",
              "│ (<span style=\"color: #0087ff; text-decoration-color: #0087ff\">Embedding</span>)         │                   │            │                   │\n",
              "├─────────────────────┼───────────────────┼────────────┼───────────────────┤\n",
              "│ i_embed_mf          │ (<span style=\"color: #00d7ff; text-decoration-color: #00d7ff\">None</span>, <span style=\"color: #00af00; text-decoration-color: #00af00\">16</span>)        │     <span style=\"color: #00af00; text-decoration-color: #00af00\">68,592</span> │ item_input[<span style=\"color: #00af00; text-decoration-color: #00af00\">0</span>][<span style=\"color: #00af00; text-decoration-color: #00af00\">0</span>]  │\n",
              "│ (<span style=\"color: #0087ff; text-decoration-color: #0087ff\">Embedding</span>)         │                   │            │                   │\n",
              "├─────────────────────┼───────────────────┼────────────┼───────────────────┤\n",
              "│ dropout_7 (<span style=\"color: #0087ff; text-decoration-color: #0087ff\">Dropout</span>) │ (<span style=\"color: #00d7ff; text-decoration-color: #00d7ff\">None</span>, <span style=\"color: #00af00; text-decoration-color: #00af00\">32</span>)        │          <span style=\"color: #00af00; text-decoration-color: #00af00\">0</span> │ mlp_dense_0[<span style=\"color: #00af00; text-decoration-color: #00af00\">0</span>][<span style=\"color: #00af00; text-decoration-color: #00af00\">0</span>] │\n",
              "├─────────────────────┼───────────────────┼────────────┼───────────────────┤\n",
              "│ flatten_12          │ (<span style=\"color: #00d7ff; text-decoration-color: #00d7ff\">None</span>, <span style=\"color: #00af00; text-decoration-color: #00af00\">16</span>)        │          <span style=\"color: #00af00; text-decoration-color: #00af00\">0</span> │ u_embed_mf[<span style=\"color: #00af00; text-decoration-color: #00af00\">0</span>][<span style=\"color: #00af00; text-decoration-color: #00af00\">0</span>]  │\n",
              "│ (<span style=\"color: #0087ff; text-decoration-color: #0087ff\">Flatten</span>)           │                   │            │                   │\n",
              "├─────────────────────┼───────────────────┼────────────┼───────────────────┤\n",
              "│ flatten_13          │ (<span style=\"color: #00d7ff; text-decoration-color: #00d7ff\">None</span>, <span style=\"color: #00af00; text-decoration-color: #00af00\">16</span>)        │          <span style=\"color: #00af00; text-decoration-color: #00af00\">0</span> │ i_embed_mf[<span style=\"color: #00af00; text-decoration-color: #00af00\">0</span>][<span style=\"color: #00af00; text-decoration-color: #00af00\">0</span>]  │\n",
              "│ (<span style=\"color: #0087ff; text-decoration-color: #0087ff\">Flatten</span>)           │                   │            │                   │\n",
              "├─────────────────────┼───────────────────┼────────────┼───────────────────┤\n",
              "│ mlp_dense_1 (<span style=\"color: #0087ff; text-decoration-color: #0087ff\">Dense</span>) │ (<span style=\"color: #00d7ff; text-decoration-color: #00d7ff\">None</span>, <span style=\"color: #00af00; text-decoration-color: #00af00\">16</span>)        │        <span style=\"color: #00af00; text-decoration-color: #00af00\">528</span> │ dropout_7[<span style=\"color: #00af00; text-decoration-color: #00af00\">0</span>][<span style=\"color: #00af00; text-decoration-color: #00af00\">0</span>]   │\n",
              "├─────────────────────┼───────────────────┼────────────┼───────────────────┤\n",
              "│ multiply_3          │ (<span style=\"color: #00d7ff; text-decoration-color: #00d7ff\">None</span>, <span style=\"color: #00af00; text-decoration-color: #00af00\">16</span>)        │          <span style=\"color: #00af00; text-decoration-color: #00af00\">0</span> │ flatten_12[<span style=\"color: #00af00; text-decoration-color: #00af00\">0</span>][<span style=\"color: #00af00; text-decoration-color: #00af00\">0</span>], │\n",
              "│ (<span style=\"color: #0087ff; text-decoration-color: #0087ff\">Multiply</span>)          │                   │            │ flatten_13[<span style=\"color: #00af00; text-decoration-color: #00af00\">0</span>][<span style=\"color: #00af00; text-decoration-color: #00af00\">0</span>]  │\n",
              "├─────────────────────┼───────────────────┼────────────┼───────────────────┤\n",
              "│ dropout_8 (<span style=\"color: #0087ff; text-decoration-color: #0087ff\">Dropout</span>) │ (<span style=\"color: #00d7ff; text-decoration-color: #00d7ff\">None</span>, <span style=\"color: #00af00; text-decoration-color: #00af00\">16</span>)        │          <span style=\"color: #00af00; text-decoration-color: #00af00\">0</span> │ mlp_dense_1[<span style=\"color: #00af00; text-decoration-color: #00af00\">0</span>][<span style=\"color: #00af00; text-decoration-color: #00af00\">0</span>] │\n",
              "├─────────────────────┼───────────────────┼────────────┼───────────────────┤\n",
              "│ concatenate_7       │ (<span style=\"color: #00d7ff; text-decoration-color: #00d7ff\">None</span>, <span style=\"color: #00af00; text-decoration-color: #00af00\">32</span>)        │          <span style=\"color: #00af00; text-decoration-color: #00af00\">0</span> │ multiply_3[<span style=\"color: #00af00; text-decoration-color: #00af00\">0</span>][<span style=\"color: #00af00; text-decoration-color: #00af00\">0</span>], │\n",
              "│ (<span style=\"color: #0087ff; text-decoration-color: #0087ff\">Concatenate</span>)       │                   │            │ dropout_8[<span style=\"color: #00af00; text-decoration-color: #00af00\">0</span>][<span style=\"color: #00af00; text-decoration-color: #00af00\">0</span>]   │\n",
              "├─────────────────────┼───────────────────┼────────────┼───────────────────┤\n",
              "│ prediction (<span style=\"color: #0087ff; text-decoration-color: #0087ff\">Dense</span>)  │ (<span style=\"color: #00d7ff; text-decoration-color: #00d7ff\">None</span>, <span style=\"color: #00af00; text-decoration-color: #00af00\">1</span>)         │         <span style=\"color: #00af00; text-decoration-color: #00af00\">33</span> │ concatenate_7[<span style=\"color: #00af00; text-decoration-color: #00af00\">0</span>]… │\n",
              "└─────────────────────┴───────────────────┴────────────┴───────────────────┘\n",
              "</pre>\n"
            ]
          },
          "metadata": {}
        },
        {
          "output_type": "display_data",
          "data": {
            "text/plain": [
              "\u001b[1m Total params: \u001b[0m\u001b[38;5;34m2,743,825\u001b[0m (10.47 MB)\n"
            ],
            "text/html": [
              "<pre style=\"white-space:pre;overflow-x:auto;line-height:normal;font-family:Menlo,'DejaVu Sans Mono',consolas,'Courier New',monospace\"><span style=\"font-weight: bold\"> Total params: </span><span style=\"color: #00af00; text-decoration-color: #00af00\">2,743,825</span> (10.47 MB)\n",
              "</pre>\n"
            ]
          },
          "metadata": {}
        },
        {
          "output_type": "display_data",
          "data": {
            "text/plain": [
              "\u001b[1m Trainable params: \u001b[0m\u001b[38;5;34m2,743,825\u001b[0m (10.47 MB)\n"
            ],
            "text/html": [
              "<pre style=\"white-space:pre;overflow-x:auto;line-height:normal;font-family:Menlo,'DejaVu Sans Mono',consolas,'Courier New',monospace\"><span style=\"font-weight: bold\"> Trainable params: </span><span style=\"color: #00af00; text-decoration-color: #00af00\">2,743,825</span> (10.47 MB)\n",
              "</pre>\n"
            ]
          },
          "metadata": {}
        },
        {
          "output_type": "display_data",
          "data": {
            "text/plain": [
              "\u001b[1m Non-trainable params: \u001b[0m\u001b[38;5;34m0\u001b[0m (0.00 B)\n"
            ],
            "text/html": [
              "<pre style=\"white-space:pre;overflow-x:auto;line-height:normal;font-family:Menlo,'DejaVu Sans Mono',consolas,'Courier New',monospace\"><span style=\"font-weight: bold\"> Non-trainable params: </span><span style=\"color: #00af00; text-decoration-color: #00af00\">0</span> (0.00 B)\n",
              "</pre>\n"
            ]
          },
          "metadata": {}
        }
      ]
    },
    {
      "cell_type": "markdown",
      "source": [
        "Before training, prepare callback for metrics"
      ],
      "metadata": {
        "id": "sFxycFKeyi7u"
      }
    },
    {
      "cell_type": "code",
      "source": [
        "rank_cb = RankingMetricsCallback(\n",
        "    train_pos=train_pos,      # user → set of train-positive items\n",
        "    test_pos=test_pos,        # user → set of test-positive items\n",
        "    num_items=num_items,      # total number of distinct items (4287)\n",
        "    k=10,                     # compute Precision@10, NDCG@10, MAP@10\n",
        "    verbose=1                 # set to 1 to print metrics each epoch\n",
        ")"
      ],
      "metadata": {
        "id": "pRoHx0pvyigI"
      },
      "execution_count": 79,
      "outputs": []
    },
    {
      "cell_type": "markdown",
      "source": [
        "Train on tf.data.Dataset\n"
      ],
      "metadata": {
        "id": "sMQ1uEOphYst"
      }
    },
    {
      "cell_type": "code",
      "source": [
        "batch_size = 4096  # increase if your GPU/Colab can handle it (maybe 4096)\n",
        "buffer_size = 100_000\n",
        "\n",
        "# 1) Build a Dataset from your three 1D NumPy arrays\n",
        "#    Each element is (u_idx, i_idx, label).\n",
        "train_ds = tf.data.Dataset.from_tensor_slices((user_input, item_input, labels))\n",
        "\n",
        "# 2) Shuffle → batch → prefetch.  Drop remainder so each batch is exactly `batch_size`.\n",
        "train_ds = (\n",
        "    train_ds\n",
        "    .shuffle(buffer_size, seed=42)\n",
        "    .batch(batch_size, drop_remainder=True)\n",
        "    .map(lambda u, i, y: ((u, i), y), num_parallel_calls=tf.data.AUTOTUNE)\n",
        "    .prefetch(tf.data.AUTOTUNE)\n",
        ")\n",
        "\n",
        "# 3) Do the same for validation (but typically you skip shuffle for val):\n",
        "val_ds = tf.data.Dataset.from_tensor_slices(\n",
        "    (user_input_test, item_input_test, labels_test)\n",
        ")\n",
        "val_ds = (\n",
        "    val_ds\n",
        "    .batch(batch_size, drop_remainder=False)\n",
        "    .map(lambda u, i, y: ((u, i), y), num_parallel_calls=tf.data.AUTOTUNE)\n",
        "    .prefetch(tf.data.AUTOTUNE)\n",
        ")\n",
        "\n",
        "# 4) Now call .fit on the Datasets:\n",
        "history_vanilla = model_vanilla.fit(\n",
        "    train_ds,\n",
        "    epochs=5,\n",
        "    validation_data=val_ds,\n",
        "    callbacks=[rank_cb],\n",
        "    shuffle=False  # we already shuffled in the Dataset pipeline\n",
        ")\n"
      ],
      "metadata": {
        "colab": {
          "base_uri": "https://localhost:8080/"
        },
        "id": "bqAlblr1r7sO",
        "outputId": "7c8f70ac-f00b-43e0-d7cb-92f72123e38e"
      },
      "execution_count": 80,
      "outputs": [
        {
          "output_type": "stream",
          "name": "stdout",
          "text": [
            "Epoch 1/5\n",
            "\u001b[1m2455/2456\u001b[0m \u001b[32m━━━━━━━━━━━━━━━━━━━\u001b[0m\u001b[37m━\u001b[0m \u001b[1m0s\u001b[0m 85ms/step - auc: 0.8332 - loss: 0.4627 — epoch  1: Precision@10=0.0910, NDCG@10=0.1048, MAP@10=0.0433\n",
            "\u001b[1m2456/2456\u001b[0m \u001b[32m━━━━━━━━━━━━━━━━━━━━\u001b[0m\u001b[37m\u001b[0m \u001b[1m227s\u001b[0m 91ms/step - auc: 0.8332 - loss: 0.4627 - val_auc: 0.9174 - val_loss: 0.3498 - Precision@10: 0.0910 - NDCG@10: 0.1048 - MAP@10: 0.0433\n",
            "Epoch 2/5\n",
            "\u001b[1m2456/2456\u001b[0m \u001b[32m━━━━━━━━━━━━━━━━━━━━\u001b[0m\u001b[37m\u001b[0m \u001b[1m0s\u001b[0m 86ms/step - auc: 0.9154 - loss: 0.3459 — epoch  2: Precision@10=0.1120, NDCG@10=0.1233, MAP@10=0.0500\n",
            "\u001b[1m2456/2456\u001b[0m \u001b[32m━━━━━━━━━━━━━━━━━━━━\u001b[0m\u001b[37m\u001b[0m \u001b[1m225s\u001b[0m 91ms/step - auc: 0.9154 - loss: 0.3459 - val_auc: 0.9303 - val_loss: 0.3221 - Precision@10: 0.1120 - NDCG@10: 0.1233 - MAP@10: 0.0500\n",
            "Epoch 3/5\n",
            "\u001b[1m2456/2456\u001b[0m \u001b[32m━━━━━━━━━━━━━━━━━━━━\u001b[0m\u001b[37m\u001b[0m \u001b[1m0s\u001b[0m 87ms/step - auc: 0.9423 - loss: 0.2890 — epoch  3: Precision@10=0.1200, NDCG@10=0.1323, MAP@10=0.0544\n",
            "\u001b[1m2456/2456\u001b[0m \u001b[32m━━━━━━━━━━━━━━━━━━━━\u001b[0m\u001b[37m\u001b[0m \u001b[1m230s\u001b[0m 94ms/step - auc: 0.9423 - loss: 0.2890 - val_auc: 0.9328 - val_loss: 0.3169 - Precision@10: 0.1200 - NDCG@10: 0.1323 - MAP@10: 0.0544\n",
            "Epoch 4/5\n",
            "\u001b[1m2455/2456\u001b[0m \u001b[32m━━━━━━━━━━━━━━━━━━━\u001b[0m\u001b[37m━\u001b[0m \u001b[1m0s\u001b[0m 91ms/step - auc: 0.9525 - loss: 0.2627 — epoch  4: Precision@10=0.1280, NDCG@10=0.1384, MAP@10=0.0583\n",
            "\u001b[1m2456/2456\u001b[0m \u001b[32m━━━━━━━━━━━━━━━━━━━━\u001b[0m\u001b[37m\u001b[0m \u001b[1m239s\u001b[0m 97ms/step - auc: 0.9525 - loss: 0.2627 - val_auc: 0.9367 - val_loss: 0.3100 - Precision@10: 0.1280 - NDCG@10: 0.1384 - MAP@10: 0.0583\n",
            "Epoch 5/5\n",
            "\u001b[1m2455/2456\u001b[0m \u001b[32m━━━━━━━━━━━━━━━━━━━\u001b[0m\u001b[37m━\u001b[0m \u001b[1m0s\u001b[0m 89ms/step - auc: 0.9594 - loss: 0.2432 — epoch  5: Precision@10=0.1300, NDCG@10=0.1392, MAP@10=0.0589\n",
            "\u001b[1m2456/2456\u001b[0m \u001b[32m━━━━━━━━━━━━━━━━━━━━\u001b[0m\u001b[37m\u001b[0m \u001b[1m234s\u001b[0m 95ms/step - auc: 0.9594 - loss: 0.2431 - val_auc: 0.9376 - val_loss: 0.3110 - Precision@10: 0.1300 - NDCG@10: 0.1392 - MAP@10: 0.0589\n"
          ]
        }
      ]
    },
    {
      "cell_type": "markdown",
      "source": [
        "# NCF + Extra Embeddings"
      ],
      "metadata": {
        "id": "3Thr9fphgw6F"
      }
    },
    {
      "cell_type": "code",
      "source": [
        "import numpy as np\n",
        "\n",
        "# Suppose bert_embeddings is a NumPy array of shape (num_items, D)\n",
        "bert_embeddings = np.load(\"goodreads_bert_embeddings.npy\")  # (num_items, D)\n",
        "num_items, D = bert_embeddings.shape\n",
        "\n",
        "# Create a Keras Embedding layer that simply returns bert_embeddings[i]\n",
        "bert_embed_layer = tf.keras.layers.Embedding(\n",
        "    input_dim=num_items,\n",
        "    output_dim=D,\n",
        "    embeddings_initializer=tf.keras.initializers.Constant(bert_embeddings),\n",
        "    trainable=False,          # freeze so weights never change\n",
        "    name=\"bert_embed_lookup\"\n",
        ")\n"
      ],
      "metadata": {
        "id": "Av4kFQ8OooQa"
      },
      "execution_count": 82,
      "outputs": []
    },
    {
      "cell_type": "code",
      "source": [
        "from tensorflow.keras.layers import Input, Embedding, Flatten, Multiply, Concatenate, Dense, Dropout\n",
        "from tensorflow.keras.models import Model\n",
        "from tensorflow.keras import mixed_precision\n",
        "\n",
        "mixed_precision.set_global_policy(\"mixed_float16\")\n",
        "\n",
        "K_mf   = 16\n",
        "K_mlp  = 32\n",
        "mlp_layers = [64, 32]   # just two hidden layers\n",
        "dropout_rate = 0.2\n",
        "\n",
        "# --- Model Definition ---\n",
        "# 1) Define just integer inputs\n",
        "user_in = Input(shape=(), dtype=tf.int32, name=\"user_input\")\n",
        "item_in = Input(shape=(), dtype=tf.int32, name=\"item_input\")\n",
        "\n",
        "# 2) GMF branch (unchanged)\n",
        "u_mf = Embedding(num_users, K_mf, name=\"u_embed_mf\")(user_in)\n",
        "i_mf = Embedding(num_items, K_mf, name=\"i_embed_mf\")(item_in)\n",
        "u_latent_mf = Flatten()(u_mf)\n",
        "i_latent_mf = Flatten()(i_mf)\n",
        "mf_vec = Multiply()([u_latent_mf, i_latent_mf])  # (batch, K_mf)\n",
        "\n",
        "# 3) MLP branch: learned user/item embeddings\n",
        "u_mlp = Embedding(num_users, K_mlp, name=\"u_embed_mlp\")(user_in)\n",
        "i_mlp = Embedding(num_items, K_mlp, name=\"i_embed_mlp\")(item_in)\n",
        "u_latent_mlp = Flatten()(u_mlp)\n",
        "i_latent_mlp = Flatten()(i_mlp)\n",
        "\n",
        "# 4) **Here is where we “lookup” BERT features** for each item index\n",
        "bert_feat = bert_embed_layer(item_in)  # shape = (batch_size, D)\n",
        "\n",
        "# 5) Concatenate (u_latent_mlp, i_latent_mlp, bert_feat)\n",
        "merged_mlp = Concatenate(name=\"mlp_input_concat\")(\n",
        "    [u_latent_mlp, i_latent_mlp, bert_feat]\n",
        ")  # shape = (batch_size, 2*K_mlp + D)\n",
        "\n",
        "# 6) Continue with your MLP layers\n",
        "x = merged_mlp\n",
        "for idx, hidden_size in enumerate(mlp_layers):\n",
        "    x = Dense(hidden_size, activation=\"relu\", name=f\"mlp_dense_{idx}\")(x)\n",
        "    x = Dropout(dropout_rate)(x)\n",
        "\n",
        "# 7) Final “fusion” with GMF part\n",
        "final_concat = Concatenate()([mf_vec, x])\n",
        "output = Dense(1, activation=\"sigmoid\", name=\"prediction\")(final_concat)\n",
        "\n",
        "model_with_feats = Model(inputs=[user_in, item_in], outputs=output)\n",
        "model_with_feats.compile(\n",
        "    optimizer=tf.keras.optimizers.Adam(1e-3),\n",
        "    loss=\"binary_crossentropy\",\n",
        "    metrics=[tf.keras.metrics.AUC(name=\"auc\")]\n",
        ")\n",
        "model_with_feats.summary()\n"
      ],
      "metadata": {
        "colab": {
          "base_uri": "https://localhost:8080/",
          "height": 1000
        },
        "id": "PQFYuVtEgwfs",
        "outputId": "cf1880f5-a821-4701-a3a5-2a90ac567378"
      },
      "execution_count": 83,
      "outputs": [
        {
          "output_type": "display_data",
          "data": {
            "text/plain": [
              "\u001b[1mModel: \"functional_4\"\u001b[0m\n"
            ],
            "text/html": [
              "<pre style=\"white-space:pre;overflow-x:auto;line-height:normal;font-family:Menlo,'DejaVu Sans Mono',consolas,'Courier New',monospace\"><span style=\"font-weight: bold\">Model: \"functional_4\"</span>\n",
              "</pre>\n"
            ]
          },
          "metadata": {}
        },
        {
          "output_type": "display_data",
          "data": {
            "text/plain": [
              "┏━━━━━━━━━━━━━━━━━━━━━┳━━━━━━━━━━━━━━━━━━━┳━━━━━━━━━━━━┳━━━━━━━━━━━━━━━━━━━┓\n",
              "┃\u001b[1m \u001b[0m\u001b[1mLayer (type)       \u001b[0m\u001b[1m \u001b[0m┃\u001b[1m \u001b[0m\u001b[1mOutput Shape     \u001b[0m\u001b[1m \u001b[0m┃\u001b[1m \u001b[0m\u001b[1m   Param #\u001b[0m\u001b[1m \u001b[0m┃\u001b[1m \u001b[0m\u001b[1mConnected to     \u001b[0m\u001b[1m \u001b[0m┃\n",
              "┡━━━━━━━━━━━━━━━━━━━━━╇━━━━━━━━━━━━━━━━━━━╇━━━━━━━━━━━━╇━━━━━━━━━━━━━━━━━━━┩\n",
              "│ user_input          │ (\u001b[38;5;45mNone\u001b[0m)            │          \u001b[38;5;34m0\u001b[0m │ -                 │\n",
              "│ (\u001b[38;5;33mInputLayer\u001b[0m)        │                   │            │                   │\n",
              "├─────────────────────┼───────────────────┼────────────┼───────────────────┤\n",
              "│ item_input          │ (\u001b[38;5;45mNone\u001b[0m)            │          \u001b[38;5;34m0\u001b[0m │ -                 │\n",
              "│ (\u001b[38;5;33mInputLayer\u001b[0m)        │                   │            │                   │\n",
              "├─────────────────────┼───────────────────┼────────────┼───────────────────┤\n",
              "│ u_embed_mlp         │ (\u001b[38;5;45mNone\u001b[0m, \u001b[38;5;34m32\u001b[0m)        │  \u001b[38;5;34m1,690,272\u001b[0m │ user_input[\u001b[38;5;34m0\u001b[0m][\u001b[38;5;34m0\u001b[0m]  │\n",
              "│ (\u001b[38;5;33mEmbedding\u001b[0m)         │                   │            │                   │\n",
              "├─────────────────────┼───────────────────┼────────────┼───────────────────┤\n",
              "│ i_embed_mlp         │ (\u001b[38;5;45mNone\u001b[0m, \u001b[38;5;34m32\u001b[0m)        │    \u001b[38;5;34m137,184\u001b[0m │ item_input[\u001b[38;5;34m0\u001b[0m][\u001b[38;5;34m0\u001b[0m]  │\n",
              "│ (\u001b[38;5;33mEmbedding\u001b[0m)         │                   │            │                   │\n",
              "├─────────────────────┼───────────────────┼────────────┼───────────────────┤\n",
              "│ flatten_18          │ (\u001b[38;5;45mNone\u001b[0m, \u001b[38;5;34m32\u001b[0m)        │          \u001b[38;5;34m0\u001b[0m │ u_embed_mlp[\u001b[38;5;34m0\u001b[0m][\u001b[38;5;34m0\u001b[0m] │\n",
              "│ (\u001b[38;5;33mFlatten\u001b[0m)           │                   │            │                   │\n",
              "├─────────────────────┼───────────────────┼────────────┼───────────────────┤\n",
              "│ flatten_19          │ (\u001b[38;5;45mNone\u001b[0m, \u001b[38;5;34m32\u001b[0m)        │          \u001b[38;5;34m0\u001b[0m │ i_embed_mlp[\u001b[38;5;34m0\u001b[0m][\u001b[38;5;34m0\u001b[0m] │\n",
              "│ (\u001b[38;5;33mFlatten\u001b[0m)           │                   │            │                   │\n",
              "├─────────────────────┼───────────────────┼────────────┼───────────────────┤\n",
              "│ bert_embed_lookup   │ (\u001b[38;5;45mNone\u001b[0m, \u001b[38;5;34m768\u001b[0m)       │  \u001b[38;5;34m3,292,416\u001b[0m │ item_input[\u001b[38;5;34m0\u001b[0m][\u001b[38;5;34m0\u001b[0m]  │\n",
              "│ (\u001b[38;5;33mEmbedding\u001b[0m)         │                   │            │                   │\n",
              "├─────────────────────┼───────────────────┼────────────┼───────────────────┤\n",
              "│ mlp_input_concat    │ (\u001b[38;5;45mNone\u001b[0m, \u001b[38;5;34m832\u001b[0m)       │          \u001b[38;5;34m0\u001b[0m │ flatten_18[\u001b[38;5;34m0\u001b[0m][\u001b[38;5;34m0\u001b[0m], │\n",
              "│ (\u001b[38;5;33mConcatenate\u001b[0m)       │                   │            │ flatten_19[\u001b[38;5;34m0\u001b[0m][\u001b[38;5;34m0\u001b[0m], │\n",
              "│                     │                   │            │ bert_embed_looku… │\n",
              "├─────────────────────┼───────────────────┼────────────┼───────────────────┤\n",
              "│ mlp_dense_0 (\u001b[38;5;33mDense\u001b[0m) │ (\u001b[38;5;45mNone\u001b[0m, \u001b[38;5;34m64\u001b[0m)        │     \u001b[38;5;34m53,312\u001b[0m │ mlp_input_concat… │\n",
              "├─────────────────────┼───────────────────┼────────────┼───────────────────┤\n",
              "│ u_embed_mf          │ (\u001b[38;5;45mNone\u001b[0m, \u001b[38;5;34m16\u001b[0m)        │    \u001b[38;5;34m845,136\u001b[0m │ user_input[\u001b[38;5;34m0\u001b[0m][\u001b[38;5;34m0\u001b[0m]  │\n",
              "│ (\u001b[38;5;33mEmbedding\u001b[0m)         │                   │            │                   │\n",
              "├─────────────────────┼───────────────────┼────────────┼───────────────────┤\n",
              "│ i_embed_mf          │ (\u001b[38;5;45mNone\u001b[0m, \u001b[38;5;34m16\u001b[0m)        │     \u001b[38;5;34m68,592\u001b[0m │ item_input[\u001b[38;5;34m0\u001b[0m][\u001b[38;5;34m0\u001b[0m]  │\n",
              "│ (\u001b[38;5;33mEmbedding\u001b[0m)         │                   │            │                   │\n",
              "├─────────────────────┼───────────────────┼────────────┼───────────────────┤\n",
              "│ dropout_9 (\u001b[38;5;33mDropout\u001b[0m) │ (\u001b[38;5;45mNone\u001b[0m, \u001b[38;5;34m64\u001b[0m)        │          \u001b[38;5;34m0\u001b[0m │ mlp_dense_0[\u001b[38;5;34m0\u001b[0m][\u001b[38;5;34m0\u001b[0m] │\n",
              "├─────────────────────┼───────────────────┼────────────┼───────────────────┤\n",
              "│ flatten_16          │ (\u001b[38;5;45mNone\u001b[0m, \u001b[38;5;34m16\u001b[0m)        │          \u001b[38;5;34m0\u001b[0m │ u_embed_mf[\u001b[38;5;34m0\u001b[0m][\u001b[38;5;34m0\u001b[0m]  │\n",
              "│ (\u001b[38;5;33mFlatten\u001b[0m)           │                   │            │                   │\n",
              "├─────────────────────┼───────────────────┼────────────┼───────────────────┤\n",
              "│ flatten_17          │ (\u001b[38;5;45mNone\u001b[0m, \u001b[38;5;34m16\u001b[0m)        │          \u001b[38;5;34m0\u001b[0m │ i_embed_mf[\u001b[38;5;34m0\u001b[0m][\u001b[38;5;34m0\u001b[0m]  │\n",
              "│ (\u001b[38;5;33mFlatten\u001b[0m)           │                   │            │                   │\n",
              "├─────────────────────┼───────────────────┼────────────┼───────────────────┤\n",
              "│ mlp_dense_1 (\u001b[38;5;33mDense\u001b[0m) │ (\u001b[38;5;45mNone\u001b[0m, \u001b[38;5;34m32\u001b[0m)        │      \u001b[38;5;34m2,080\u001b[0m │ dropout_9[\u001b[38;5;34m0\u001b[0m][\u001b[38;5;34m0\u001b[0m]   │\n",
              "├─────────────────────┼───────────────────┼────────────┼───────────────────┤\n",
              "│ multiply_4          │ (\u001b[38;5;45mNone\u001b[0m, \u001b[38;5;34m16\u001b[0m)        │          \u001b[38;5;34m0\u001b[0m │ flatten_16[\u001b[38;5;34m0\u001b[0m][\u001b[38;5;34m0\u001b[0m], │\n",
              "│ (\u001b[38;5;33mMultiply\u001b[0m)          │                   │            │ flatten_17[\u001b[38;5;34m0\u001b[0m][\u001b[38;5;34m0\u001b[0m]  │\n",
              "├─────────────────────┼───────────────────┼────────────┼───────────────────┤\n",
              "│ dropout_10          │ (\u001b[38;5;45mNone\u001b[0m, \u001b[38;5;34m32\u001b[0m)        │          \u001b[38;5;34m0\u001b[0m │ mlp_dense_1[\u001b[38;5;34m0\u001b[0m][\u001b[38;5;34m0\u001b[0m] │\n",
              "│ (\u001b[38;5;33mDropout\u001b[0m)           │                   │            │                   │\n",
              "├─────────────────────┼───────────────────┼────────────┼───────────────────┤\n",
              "│ concatenate_8       │ (\u001b[38;5;45mNone\u001b[0m, \u001b[38;5;34m48\u001b[0m)        │          \u001b[38;5;34m0\u001b[0m │ multiply_4[\u001b[38;5;34m0\u001b[0m][\u001b[38;5;34m0\u001b[0m], │\n",
              "│ (\u001b[38;5;33mConcatenate\u001b[0m)       │                   │            │ dropout_10[\u001b[38;5;34m0\u001b[0m][\u001b[38;5;34m0\u001b[0m]  │\n",
              "├─────────────────────┼───────────────────┼────────────┼───────────────────┤\n",
              "│ prediction (\u001b[38;5;33mDense\u001b[0m)  │ (\u001b[38;5;45mNone\u001b[0m, \u001b[38;5;34m1\u001b[0m)         │         \u001b[38;5;34m49\u001b[0m │ concatenate_8[\u001b[38;5;34m0\u001b[0m]… │\n",
              "└─────────────────────┴───────────────────┴────────────┴───────────────────┘\n"
            ],
            "text/html": [
              "<pre style=\"white-space:pre;overflow-x:auto;line-height:normal;font-family:Menlo,'DejaVu Sans Mono',consolas,'Courier New',monospace\">┏━━━━━━━━━━━━━━━━━━━━━┳━━━━━━━━━━━━━━━━━━━┳━━━━━━━━━━━━┳━━━━━━━━━━━━━━━━━━━┓\n",
              "┃<span style=\"font-weight: bold\"> Layer (type)        </span>┃<span style=\"font-weight: bold\"> Output Shape      </span>┃<span style=\"font-weight: bold\">    Param # </span>┃<span style=\"font-weight: bold\"> Connected to      </span>┃\n",
              "┡━━━━━━━━━━━━━━━━━━━━━╇━━━━━━━━━━━━━━━━━━━╇━━━━━━━━━━━━╇━━━━━━━━━━━━━━━━━━━┩\n",
              "│ user_input          │ (<span style=\"color: #00d7ff; text-decoration-color: #00d7ff\">None</span>)            │          <span style=\"color: #00af00; text-decoration-color: #00af00\">0</span> │ -                 │\n",
              "│ (<span style=\"color: #0087ff; text-decoration-color: #0087ff\">InputLayer</span>)        │                   │            │                   │\n",
              "├─────────────────────┼───────────────────┼────────────┼───────────────────┤\n",
              "│ item_input          │ (<span style=\"color: #00d7ff; text-decoration-color: #00d7ff\">None</span>)            │          <span style=\"color: #00af00; text-decoration-color: #00af00\">0</span> │ -                 │\n",
              "│ (<span style=\"color: #0087ff; text-decoration-color: #0087ff\">InputLayer</span>)        │                   │            │                   │\n",
              "├─────────────────────┼───────────────────┼────────────┼───────────────────┤\n",
              "│ u_embed_mlp         │ (<span style=\"color: #00d7ff; text-decoration-color: #00d7ff\">None</span>, <span style=\"color: #00af00; text-decoration-color: #00af00\">32</span>)        │  <span style=\"color: #00af00; text-decoration-color: #00af00\">1,690,272</span> │ user_input[<span style=\"color: #00af00; text-decoration-color: #00af00\">0</span>][<span style=\"color: #00af00; text-decoration-color: #00af00\">0</span>]  │\n",
              "│ (<span style=\"color: #0087ff; text-decoration-color: #0087ff\">Embedding</span>)         │                   │            │                   │\n",
              "├─────────────────────┼───────────────────┼────────────┼───────────────────┤\n",
              "│ i_embed_mlp         │ (<span style=\"color: #00d7ff; text-decoration-color: #00d7ff\">None</span>, <span style=\"color: #00af00; text-decoration-color: #00af00\">32</span>)        │    <span style=\"color: #00af00; text-decoration-color: #00af00\">137,184</span> │ item_input[<span style=\"color: #00af00; text-decoration-color: #00af00\">0</span>][<span style=\"color: #00af00; text-decoration-color: #00af00\">0</span>]  │\n",
              "│ (<span style=\"color: #0087ff; text-decoration-color: #0087ff\">Embedding</span>)         │                   │            │                   │\n",
              "├─────────────────────┼───────────────────┼────────────┼───────────────────┤\n",
              "│ flatten_18          │ (<span style=\"color: #00d7ff; text-decoration-color: #00d7ff\">None</span>, <span style=\"color: #00af00; text-decoration-color: #00af00\">32</span>)        │          <span style=\"color: #00af00; text-decoration-color: #00af00\">0</span> │ u_embed_mlp[<span style=\"color: #00af00; text-decoration-color: #00af00\">0</span>][<span style=\"color: #00af00; text-decoration-color: #00af00\">0</span>] │\n",
              "│ (<span style=\"color: #0087ff; text-decoration-color: #0087ff\">Flatten</span>)           │                   │            │                   │\n",
              "├─────────────────────┼───────────────────┼────────────┼───────────────────┤\n",
              "│ flatten_19          │ (<span style=\"color: #00d7ff; text-decoration-color: #00d7ff\">None</span>, <span style=\"color: #00af00; text-decoration-color: #00af00\">32</span>)        │          <span style=\"color: #00af00; text-decoration-color: #00af00\">0</span> │ i_embed_mlp[<span style=\"color: #00af00; text-decoration-color: #00af00\">0</span>][<span style=\"color: #00af00; text-decoration-color: #00af00\">0</span>] │\n",
              "│ (<span style=\"color: #0087ff; text-decoration-color: #0087ff\">Flatten</span>)           │                   │            │                   │\n",
              "├─────────────────────┼───────────────────┼────────────┼───────────────────┤\n",
              "│ bert_embed_lookup   │ (<span style=\"color: #00d7ff; text-decoration-color: #00d7ff\">None</span>, <span style=\"color: #00af00; text-decoration-color: #00af00\">768</span>)       │  <span style=\"color: #00af00; text-decoration-color: #00af00\">3,292,416</span> │ item_input[<span style=\"color: #00af00; text-decoration-color: #00af00\">0</span>][<span style=\"color: #00af00; text-decoration-color: #00af00\">0</span>]  │\n",
              "│ (<span style=\"color: #0087ff; text-decoration-color: #0087ff\">Embedding</span>)         │                   │            │                   │\n",
              "├─────────────────────┼───────────────────┼────────────┼───────────────────┤\n",
              "│ mlp_input_concat    │ (<span style=\"color: #00d7ff; text-decoration-color: #00d7ff\">None</span>, <span style=\"color: #00af00; text-decoration-color: #00af00\">832</span>)       │          <span style=\"color: #00af00; text-decoration-color: #00af00\">0</span> │ flatten_18[<span style=\"color: #00af00; text-decoration-color: #00af00\">0</span>][<span style=\"color: #00af00; text-decoration-color: #00af00\">0</span>], │\n",
              "│ (<span style=\"color: #0087ff; text-decoration-color: #0087ff\">Concatenate</span>)       │                   │            │ flatten_19[<span style=\"color: #00af00; text-decoration-color: #00af00\">0</span>][<span style=\"color: #00af00; text-decoration-color: #00af00\">0</span>], │\n",
              "│                     │                   │            │ bert_embed_looku… │\n",
              "├─────────────────────┼───────────────────┼────────────┼───────────────────┤\n",
              "│ mlp_dense_0 (<span style=\"color: #0087ff; text-decoration-color: #0087ff\">Dense</span>) │ (<span style=\"color: #00d7ff; text-decoration-color: #00d7ff\">None</span>, <span style=\"color: #00af00; text-decoration-color: #00af00\">64</span>)        │     <span style=\"color: #00af00; text-decoration-color: #00af00\">53,312</span> │ mlp_input_concat… │\n",
              "├─────────────────────┼───────────────────┼────────────┼───────────────────┤\n",
              "│ u_embed_mf          │ (<span style=\"color: #00d7ff; text-decoration-color: #00d7ff\">None</span>, <span style=\"color: #00af00; text-decoration-color: #00af00\">16</span>)        │    <span style=\"color: #00af00; text-decoration-color: #00af00\">845,136</span> │ user_input[<span style=\"color: #00af00; text-decoration-color: #00af00\">0</span>][<span style=\"color: #00af00; text-decoration-color: #00af00\">0</span>]  │\n",
              "│ (<span style=\"color: #0087ff; text-decoration-color: #0087ff\">Embedding</span>)         │                   │            │                   │\n",
              "├─────────────────────┼───────────────────┼────────────┼───────────────────┤\n",
              "│ i_embed_mf          │ (<span style=\"color: #00d7ff; text-decoration-color: #00d7ff\">None</span>, <span style=\"color: #00af00; text-decoration-color: #00af00\">16</span>)        │     <span style=\"color: #00af00; text-decoration-color: #00af00\">68,592</span> │ item_input[<span style=\"color: #00af00; text-decoration-color: #00af00\">0</span>][<span style=\"color: #00af00; text-decoration-color: #00af00\">0</span>]  │\n",
              "│ (<span style=\"color: #0087ff; text-decoration-color: #0087ff\">Embedding</span>)         │                   │            │                   │\n",
              "├─────────────────────┼───────────────────┼────────────┼───────────────────┤\n",
              "│ dropout_9 (<span style=\"color: #0087ff; text-decoration-color: #0087ff\">Dropout</span>) │ (<span style=\"color: #00d7ff; text-decoration-color: #00d7ff\">None</span>, <span style=\"color: #00af00; text-decoration-color: #00af00\">64</span>)        │          <span style=\"color: #00af00; text-decoration-color: #00af00\">0</span> │ mlp_dense_0[<span style=\"color: #00af00; text-decoration-color: #00af00\">0</span>][<span style=\"color: #00af00; text-decoration-color: #00af00\">0</span>] │\n",
              "├─────────────────────┼───────────────────┼────────────┼───────────────────┤\n",
              "│ flatten_16          │ (<span style=\"color: #00d7ff; text-decoration-color: #00d7ff\">None</span>, <span style=\"color: #00af00; text-decoration-color: #00af00\">16</span>)        │          <span style=\"color: #00af00; text-decoration-color: #00af00\">0</span> │ u_embed_mf[<span style=\"color: #00af00; text-decoration-color: #00af00\">0</span>][<span style=\"color: #00af00; text-decoration-color: #00af00\">0</span>]  │\n",
              "│ (<span style=\"color: #0087ff; text-decoration-color: #0087ff\">Flatten</span>)           │                   │            │                   │\n",
              "├─────────────────────┼───────────────────┼────────────┼───────────────────┤\n",
              "│ flatten_17          │ (<span style=\"color: #00d7ff; text-decoration-color: #00d7ff\">None</span>, <span style=\"color: #00af00; text-decoration-color: #00af00\">16</span>)        │          <span style=\"color: #00af00; text-decoration-color: #00af00\">0</span> │ i_embed_mf[<span style=\"color: #00af00; text-decoration-color: #00af00\">0</span>][<span style=\"color: #00af00; text-decoration-color: #00af00\">0</span>]  │\n",
              "│ (<span style=\"color: #0087ff; text-decoration-color: #0087ff\">Flatten</span>)           │                   │            │                   │\n",
              "├─────────────────────┼───────────────────┼────────────┼───────────────────┤\n",
              "│ mlp_dense_1 (<span style=\"color: #0087ff; text-decoration-color: #0087ff\">Dense</span>) │ (<span style=\"color: #00d7ff; text-decoration-color: #00d7ff\">None</span>, <span style=\"color: #00af00; text-decoration-color: #00af00\">32</span>)        │      <span style=\"color: #00af00; text-decoration-color: #00af00\">2,080</span> │ dropout_9[<span style=\"color: #00af00; text-decoration-color: #00af00\">0</span>][<span style=\"color: #00af00; text-decoration-color: #00af00\">0</span>]   │\n",
              "├─────────────────────┼───────────────────┼────────────┼───────────────────┤\n",
              "│ multiply_4          │ (<span style=\"color: #00d7ff; text-decoration-color: #00d7ff\">None</span>, <span style=\"color: #00af00; text-decoration-color: #00af00\">16</span>)        │          <span style=\"color: #00af00; text-decoration-color: #00af00\">0</span> │ flatten_16[<span style=\"color: #00af00; text-decoration-color: #00af00\">0</span>][<span style=\"color: #00af00; text-decoration-color: #00af00\">0</span>], │\n",
              "│ (<span style=\"color: #0087ff; text-decoration-color: #0087ff\">Multiply</span>)          │                   │            │ flatten_17[<span style=\"color: #00af00; text-decoration-color: #00af00\">0</span>][<span style=\"color: #00af00; text-decoration-color: #00af00\">0</span>]  │\n",
              "├─────────────────────┼───────────────────┼────────────┼───────────────────┤\n",
              "│ dropout_10          │ (<span style=\"color: #00d7ff; text-decoration-color: #00d7ff\">None</span>, <span style=\"color: #00af00; text-decoration-color: #00af00\">32</span>)        │          <span style=\"color: #00af00; text-decoration-color: #00af00\">0</span> │ mlp_dense_1[<span style=\"color: #00af00; text-decoration-color: #00af00\">0</span>][<span style=\"color: #00af00; text-decoration-color: #00af00\">0</span>] │\n",
              "│ (<span style=\"color: #0087ff; text-decoration-color: #0087ff\">Dropout</span>)           │                   │            │                   │\n",
              "├─────────────────────┼───────────────────┼────────────┼───────────────────┤\n",
              "│ concatenate_8       │ (<span style=\"color: #00d7ff; text-decoration-color: #00d7ff\">None</span>, <span style=\"color: #00af00; text-decoration-color: #00af00\">48</span>)        │          <span style=\"color: #00af00; text-decoration-color: #00af00\">0</span> │ multiply_4[<span style=\"color: #00af00; text-decoration-color: #00af00\">0</span>][<span style=\"color: #00af00; text-decoration-color: #00af00\">0</span>], │\n",
              "│ (<span style=\"color: #0087ff; text-decoration-color: #0087ff\">Concatenate</span>)       │                   │            │ dropout_10[<span style=\"color: #00af00; text-decoration-color: #00af00\">0</span>][<span style=\"color: #00af00; text-decoration-color: #00af00\">0</span>]  │\n",
              "├─────────────────────┼───────────────────┼────────────┼───────────────────┤\n",
              "│ prediction (<span style=\"color: #0087ff; text-decoration-color: #0087ff\">Dense</span>)  │ (<span style=\"color: #00d7ff; text-decoration-color: #00d7ff\">None</span>, <span style=\"color: #00af00; text-decoration-color: #00af00\">1</span>)         │         <span style=\"color: #00af00; text-decoration-color: #00af00\">49</span> │ concatenate_8[<span style=\"color: #00af00; text-decoration-color: #00af00\">0</span>]… │\n",
              "└─────────────────────┴───────────────────┴────────────┴───────────────────┘\n",
              "</pre>\n"
            ]
          },
          "metadata": {}
        },
        {
          "output_type": "display_data",
          "data": {
            "text/plain": [
              "\u001b[1m Total params: \u001b[0m\u001b[38;5;34m6,089,041\u001b[0m (23.23 MB)\n"
            ],
            "text/html": [
              "<pre style=\"white-space:pre;overflow-x:auto;line-height:normal;font-family:Menlo,'DejaVu Sans Mono',consolas,'Courier New',monospace\"><span style=\"font-weight: bold\"> Total params: </span><span style=\"color: #00af00; text-decoration-color: #00af00\">6,089,041</span> (23.23 MB)\n",
              "</pre>\n"
            ]
          },
          "metadata": {}
        },
        {
          "output_type": "display_data",
          "data": {
            "text/plain": [
              "\u001b[1m Trainable params: \u001b[0m\u001b[38;5;34m2,796,625\u001b[0m (10.67 MB)\n"
            ],
            "text/html": [
              "<pre style=\"white-space:pre;overflow-x:auto;line-height:normal;font-family:Menlo,'DejaVu Sans Mono',consolas,'Courier New',monospace\"><span style=\"font-weight: bold\"> Trainable params: </span><span style=\"color: #00af00; text-decoration-color: #00af00\">2,796,625</span> (10.67 MB)\n",
              "</pre>\n"
            ]
          },
          "metadata": {}
        },
        {
          "output_type": "display_data",
          "data": {
            "text/plain": [
              "\u001b[1m Non-trainable params: \u001b[0m\u001b[38;5;34m3,292,416\u001b[0m (12.56 MB)\n"
            ],
            "text/html": [
              "<pre style=\"white-space:pre;overflow-x:auto;line-height:normal;font-family:Menlo,'DejaVu Sans Mono',consolas,'Courier New',monospace\"><span style=\"font-weight: bold\"> Non-trainable params: </span><span style=\"color: #00af00; text-decoration-color: #00af00\">3,292,416</span> (12.56 MB)\n",
              "</pre>\n"
            ]
          },
          "metadata": {}
        }
      ]
    },
    {
      "cell_type": "code",
      "source": [
        "rank_cb = RankingMetricsCallback(\n",
        "    train_pos=train_pos,      # user → set of train-positive items\n",
        "    test_pos=test_pos,        # user → set of test-positive items\n",
        "    num_items=num_items,      # total number of distinct items (4287)\n",
        "    k=10,                     # compute Precision@10, NDCG@10, MAP@10\n",
        "    verbose=1                 # set to 1 to print metrics each epoch\n",
        ")"
      ],
      "metadata": {
        "id": "rxN2PF8G_HvG"
      },
      "execution_count": 84,
      "outputs": []
    },
    {
      "cell_type": "markdown",
      "source": [
        "Train with extra embeddings"
      ],
      "metadata": {
        "id": "fN8mYBcphfEX"
      }
    },
    {
      "cell_type": "code",
      "source": [
        "batch_size = 4096  # increase if your GPU/Colab can handle it (maybe 4096)\n",
        "buffer_size = 100_000\n",
        "\n",
        "# 1) Build a Dataset from your three 1D NumPy arrays\n",
        "#    Each element is (u_idx, i_idx, label).\n",
        "train_ds = tf.data.Dataset.from_tensor_slices((user_input, item_input, labels))\n",
        "\n",
        "# 2) Shuffle → batch → prefetch.  Drop remainder so each batch is exactly `batch_size`.\n",
        "train_ds = (\n",
        "    train_ds\n",
        "    .shuffle(buffer_size, seed=42)\n",
        "    .batch(batch_size, drop_remainder=True)\n",
        "    .map(lambda u, i, y: ((u, i), y), num_parallel_calls=tf.data.AUTOTUNE)\n",
        "    .prefetch(tf.data.AUTOTUNE)\n",
        ")\n",
        "\n",
        "# 3) Do the same for validation (but typically you skip shuffle for val):\n",
        "val_ds = tf.data.Dataset.from_tensor_slices(\n",
        "    (user_input_test, item_input_test, labels_test)\n",
        ")\n",
        "val_ds = (\n",
        "    val_ds\n",
        "    .batch(batch_size, drop_remainder=False)\n",
        "    .map(lambda u, i, y: ((u, i), y), num_parallel_calls=tf.data.AUTOTUNE)\n",
        "    .prefetch(tf.data.AUTOTUNE)\n",
        ")\n",
        "\n",
        "# 4) Now call .fit on the Datasets:\n",
        "history_with_feats = model_with_feats.fit(\n",
        "    train_ds,\n",
        "    epochs=5,\n",
        "    validation_data=val_ds,\n",
        "    callbacks=[rank_cb],\n",
        "    shuffle=False  # we already shuffled in the Dataset pipeline\n",
        ")\n"
      ],
      "metadata": {
        "colab": {
          "base_uri": "https://localhost:8080/"
        },
        "id": "jtSn2rZGhh4o",
        "outputId": "b2470ee8-e117-470b-8906-9fa4453e014f"
      },
      "execution_count": 85,
      "outputs": [
        {
          "output_type": "stream",
          "name": "stdout",
          "text": [
            "Epoch 1/5\n",
            "\u001b[1m2456/2456\u001b[0m \u001b[32m━━━━━━━━━━━━━━━━━━━━\u001b[0m\u001b[37m\u001b[0m \u001b[1m0s\u001b[0m 141ms/step - auc: 0.8325 - loss: 0.4606 — epoch  1: Precision@10=0.0930, NDCG@10=0.1059, MAP@10=0.0433\n",
            "\u001b[1m2456/2456\u001b[0m \u001b[32m━━━━━━━━━━━━━━━━━━━━\u001b[0m\u001b[37m\u001b[0m \u001b[1m368s\u001b[0m 148ms/step - auc: 0.8325 - loss: 0.4606 - val_auc: 0.9109 - val_loss: 0.3610 - Precision@10: 0.0930 - NDCG@10: 0.1059 - MAP@10: 0.0433\n",
            "Epoch 2/5\n",
            "\u001b[1m2456/2456\u001b[0m \u001b[32m━━━━━━━━━━━━━━━━━━━━\u001b[0m\u001b[37m\u001b[0m \u001b[1m0s\u001b[0m 145ms/step - auc: 0.9095 - loss: 0.3563 — epoch  2: Precision@10=0.1010, NDCG@10=0.1080, MAP@10=0.0423\n",
            "\u001b[1m2456/2456\u001b[0m \u001b[32m━━━━━━━━━━━━━━━━━━━━\u001b[0m\u001b[37m\u001b[0m \u001b[1m380s\u001b[0m 154ms/step - auc: 0.9095 - loss: 0.3563 - val_auc: 0.9271 - val_loss: 0.3266 - Precision@10: 0.1010 - NDCG@10: 0.1080 - MAP@10: 0.0423\n",
            "Epoch 3/5\n",
            "\u001b[1m2456/2456\u001b[0m \u001b[32m━━━━━━━━━━━━━━━━━━━━\u001b[0m\u001b[37m\u001b[0m \u001b[1m0s\u001b[0m 144ms/step - auc: 0.9380 - loss: 0.2991 — epoch  3: Precision@10=0.1140, NDCG@10=0.1230, MAP@10=0.0497\n",
            "\u001b[1m2456/2456\u001b[0m \u001b[32m━━━━━━━━━━━━━━━━━━━━\u001b[0m\u001b[37m\u001b[0m \u001b[1m377s\u001b[0m 153ms/step - auc: 0.9380 - loss: 0.2991 - val_auc: 0.9321 - val_loss: 0.3160 - Precision@10: 0.1140 - NDCG@10: 0.1230 - MAP@10: 0.0497\n",
            "Epoch 4/5\n",
            "\u001b[1m2456/2456\u001b[0m \u001b[32m━━━━━━━━━━━━━━━━━━━━\u001b[0m\u001b[37m\u001b[0m \u001b[1m0s\u001b[0m 143ms/step - auc: 0.9491 - loss: 0.2716 — epoch  4: Precision@10=0.1210, NDCG@10=0.1331, MAP@10=0.0553\n",
            "\u001b[1m2456/2456\u001b[0m \u001b[32m━━━━━━━━━━━━━━━━━━━━\u001b[0m\u001b[37m\u001b[0m \u001b[1m372s\u001b[0m 151ms/step - auc: 0.9491 - loss: 0.2716 - val_auc: 0.9352 - val_loss: 0.3093 - Precision@10: 0.1210 - NDCG@10: 0.1331 - MAP@10: 0.0553\n",
            "Epoch 5/5\n",
            "\u001b[1m2456/2456\u001b[0m \u001b[32m━━━━━━━━━━━━━━━━━━━━\u001b[0m\u001b[37m\u001b[0m \u001b[1m0s\u001b[0m 144ms/step - auc: 0.9561 - loss: 0.2526 — epoch  5: Precision@10=0.1150, NDCG@10=0.1307, MAP@10=0.0556\n",
            "\u001b[1m2456/2456\u001b[0m \u001b[32m━━━━━━━━━━━━━━━━━━━━\u001b[0m\u001b[37m\u001b[0m \u001b[1m375s\u001b[0m 153ms/step - auc: 0.9561 - loss: 0.2526 - val_auc: 0.9361 - val_loss: 0.3100 - Precision@10: 0.1150 - NDCG@10: 0.1307 - MAP@10: 0.0556\n"
          ]
        }
      ]
    },
    {
      "cell_type": "markdown",
      "source": [
        "# NCF + ResNet images"
      ],
      "metadata": {
        "id": "fHP07jo5Nr-h"
      }
    },
    {
      "cell_type": "code",
      "source": [
        "portrait_embeddings = np.load(\"resnet_book_embeddings.npy\")  # (num_items, D)\n",
        "num_items, D2 = portrait_embeddings.shape\n",
        "\n",
        "portrait_embeddings.shape\n",
        "print(f\"num_items={num_items}, D={D2}\")\n"
      ],
      "metadata": {
        "colab": {
          "base_uri": "https://localhost:8080/"
        },
        "id": "3qZGAiP7N02i",
        "outputId": "f2b3be58-cb09-42e1-9944-b90df377002e"
      },
      "execution_count": 93,
      "outputs": [
        {
          "output_type": "stream",
          "name": "stdout",
          "text": [
            "num_items=4287, D=2048\n"
          ]
        }
      ]
    },
    {
      "cell_type": "code",
      "source": [
        "import numpy as np\n",
        "\n",
        "# Suppose portrait_embeddings is a NumPy array of shape (num_items, D)\n",
        "portrait_embeddings = np.load(\"resnet_book_embeddings.npy\")  # (num_items, D)\n",
        "num_items, D = portrait_embeddings.shape\n",
        "\n",
        "# Create a Keras Embedding layer that simply returns bert_embeddings[i]\n",
        "resnet_embed_layer = tf.keras.layers.Embedding(\n",
        "    input_dim=num_items,\n",
        "    output_dim=D,\n",
        "    embeddings_initializer=tf.keras.initializers.Constant(portrait_embeddings),\n",
        "    trainable=False,          # freeze so weights never change\n",
        "    name=\"resnet_embed_lookup\"\n",
        ")\n"
      ],
      "metadata": {
        "id": "aZiuxInuQ6j3"
      },
      "execution_count": 94,
      "outputs": []
    },
    {
      "cell_type": "code",
      "source": [
        "from tensorflow.keras.layers import Input, Embedding, Flatten, Multiply, Concatenate, Dense, Dropout\n",
        "from tensorflow.keras.models import Model\n",
        "from tensorflow.keras import mixed_precision\n",
        "\n",
        "mixed_precision.set_global_policy(\"mixed_float16\")\n",
        "\n",
        "K_mf   = 16\n",
        "K_mlp  = 32\n",
        "mlp_layers = [64, 32]   # just two hidden layers\n",
        "dropout_rate = 0.2\n",
        "\n",
        "# --- Model Definition ---\n",
        "# 1) Define just integer inputs\n",
        "user_in = Input(shape=(), dtype=tf.int32, name=\"user_input\")\n",
        "item_in = Input(shape=(), dtype=tf.int32, name=\"item_input\")\n",
        "\n",
        "# 2) GMF branch (unchanged)\n",
        "u_mf = Embedding(num_users, K_mf, name=\"u_embed_mf\")(user_in)\n",
        "i_mf = Embedding(num_items, K_mf, name=\"i_embed_mf\")(item_in)\n",
        "u_latent_mf = Flatten()(u_mf)\n",
        "i_latent_mf = Flatten()(i_mf)\n",
        "mf_vec = Multiply()([u_latent_mf, i_latent_mf])  # (batch, K_mf)\n",
        "\n",
        "# 3) MLP branch: learned user/item embeddings\n",
        "u_mlp = Embedding(num_users, K_mlp, name=\"u_embed_mlp\")(user_in)\n",
        "i_mlp = Embedding(num_items, K_mlp, name=\"i_embed_mlp\")(item_in)\n",
        "u_latent_mlp = Flatten()(u_mlp)\n",
        "i_latent_mlp = Flatten()(i_mlp)\n",
        "\n",
        "# 4) **Here is where we “lookup” resnet features** for each item index\n",
        "resnet_feat = resnet_embed_layer(item_in)  # shape = (batch_size, D)\n",
        "\n",
        "# 5) Concatenate (u_latent_mlp, i_latent_mlp, bert_feat)\n",
        "merged_mlp = Concatenate(name=\"mlp_input_concat\")(\n",
        "    [u_latent_mlp, i_latent_mlp, resnet_feat]\n",
        ")  # shape = (batch_size, 2*K_mlp + D)\n",
        "\n",
        "# 6) Continue with your MLP layers\n",
        "x = merged_mlp\n",
        "for idx, hidden_size in enumerate(mlp_layers):\n",
        "    x = Dense(hidden_size, activation=\"relu\", name=f\"mlp_dense_{idx}\")(x)\n",
        "    x = Dropout(dropout_rate)(x)\n",
        "\n",
        "# 7) Final “fusion” with GMF part\n",
        "final_concat = Concatenate()([mf_vec, x])\n",
        "output = Dense(1, activation=\"sigmoid\", name=\"prediction\")(final_concat)\n",
        "\n",
        "model_with_feats_2 = Model(inputs=[user_in, item_in], outputs=output)\n",
        "model_with_feats_2.compile(\n",
        "    optimizer=tf.keras.optimizers.Adam(1e-3),\n",
        "    loss=\"binary_crossentropy\",\n",
        "    metrics=[tf.keras.metrics.AUC(name=\"auc\")]\n",
        ")\n",
        "model_with_feats_2.summary()\n"
      ],
      "metadata": {
        "colab": {
          "base_uri": "https://localhost:8080/",
          "height": 1000
        },
        "id": "hUaxaWPOR5Ue",
        "outputId": "cb9decc6-cd3c-4223-e405-10ee829520cd"
      },
      "execution_count": 95,
      "outputs": [
        {
          "output_type": "display_data",
          "data": {
            "text/plain": [
              "\u001b[1mModel: \"functional_5\"\u001b[0m\n"
            ],
            "text/html": [
              "<pre style=\"white-space:pre;overflow-x:auto;line-height:normal;font-family:Menlo,'DejaVu Sans Mono',consolas,'Courier New',monospace\"><span style=\"font-weight: bold\">Model: \"functional_5\"</span>\n",
              "</pre>\n"
            ]
          },
          "metadata": {}
        },
        {
          "output_type": "display_data",
          "data": {
            "text/plain": [
              "┏━━━━━━━━━━━━━━━━━━━━━┳━━━━━━━━━━━━━━━━━━━┳━━━━━━━━━━━━┳━━━━━━━━━━━━━━━━━━━┓\n",
              "┃\u001b[1m \u001b[0m\u001b[1mLayer (type)       \u001b[0m\u001b[1m \u001b[0m┃\u001b[1m \u001b[0m\u001b[1mOutput Shape     \u001b[0m\u001b[1m \u001b[0m┃\u001b[1m \u001b[0m\u001b[1m   Param #\u001b[0m\u001b[1m \u001b[0m┃\u001b[1m \u001b[0m\u001b[1mConnected to     \u001b[0m\u001b[1m \u001b[0m┃\n",
              "┡━━━━━━━━━━━━━━━━━━━━━╇━━━━━━━━━━━━━━━━━━━╇━━━━━━━━━━━━╇━━━━━━━━━━━━━━━━━━━┩\n",
              "│ user_input          │ (\u001b[38;5;45mNone\u001b[0m)            │          \u001b[38;5;34m0\u001b[0m │ -                 │\n",
              "│ (\u001b[38;5;33mInputLayer\u001b[0m)        │                   │            │                   │\n",
              "├─────────────────────┼───────────────────┼────────────┼───────────────────┤\n",
              "│ item_input          │ (\u001b[38;5;45mNone\u001b[0m)            │          \u001b[38;5;34m0\u001b[0m │ -                 │\n",
              "│ (\u001b[38;5;33mInputLayer\u001b[0m)        │                   │            │                   │\n",
              "├─────────────────────┼───────────────────┼────────────┼───────────────────┤\n",
              "│ u_embed_mlp         │ (\u001b[38;5;45mNone\u001b[0m, \u001b[38;5;34m32\u001b[0m)        │  \u001b[38;5;34m1,690,272\u001b[0m │ user_input[\u001b[38;5;34m0\u001b[0m][\u001b[38;5;34m0\u001b[0m]  │\n",
              "│ (\u001b[38;5;33mEmbedding\u001b[0m)         │                   │            │                   │\n",
              "├─────────────────────┼───────────────────┼────────────┼───────────────────┤\n",
              "│ i_embed_mlp         │ (\u001b[38;5;45mNone\u001b[0m, \u001b[38;5;34m32\u001b[0m)        │    \u001b[38;5;34m137,184\u001b[0m │ item_input[\u001b[38;5;34m0\u001b[0m][\u001b[38;5;34m0\u001b[0m]  │\n",
              "│ (\u001b[38;5;33mEmbedding\u001b[0m)         │                   │            │                   │\n",
              "├─────────────────────┼───────────────────┼────────────┼───────────────────┤\n",
              "│ flatten_22          │ (\u001b[38;5;45mNone\u001b[0m, \u001b[38;5;34m32\u001b[0m)        │          \u001b[38;5;34m0\u001b[0m │ u_embed_mlp[\u001b[38;5;34m0\u001b[0m][\u001b[38;5;34m0\u001b[0m] │\n",
              "│ (\u001b[38;5;33mFlatten\u001b[0m)           │                   │            │                   │\n",
              "├─────────────────────┼───────────────────┼────────────┼───────────────────┤\n",
              "│ flatten_23          │ (\u001b[38;5;45mNone\u001b[0m, \u001b[38;5;34m32\u001b[0m)        │          \u001b[38;5;34m0\u001b[0m │ i_embed_mlp[\u001b[38;5;34m0\u001b[0m][\u001b[38;5;34m0\u001b[0m] │\n",
              "│ (\u001b[38;5;33mFlatten\u001b[0m)           │                   │            │                   │\n",
              "├─────────────────────┼───────────────────┼────────────┼───────────────────┤\n",
              "│ resnet_embed_lookup │ (\u001b[38;5;45mNone\u001b[0m, \u001b[38;5;34m2048\u001b[0m)      │  \u001b[38;5;34m8,779,776\u001b[0m │ item_input[\u001b[38;5;34m0\u001b[0m][\u001b[38;5;34m0\u001b[0m]  │\n",
              "│ (\u001b[38;5;33mEmbedding\u001b[0m)         │                   │            │                   │\n",
              "├─────────────────────┼───────────────────┼────────────┼───────────────────┤\n",
              "│ mlp_input_concat    │ (\u001b[38;5;45mNone\u001b[0m, \u001b[38;5;34m2112\u001b[0m)      │          \u001b[38;5;34m0\u001b[0m │ flatten_22[\u001b[38;5;34m0\u001b[0m][\u001b[38;5;34m0\u001b[0m], │\n",
              "│ (\u001b[38;5;33mConcatenate\u001b[0m)       │                   │            │ flatten_23[\u001b[38;5;34m0\u001b[0m][\u001b[38;5;34m0\u001b[0m], │\n",
              "│                     │                   │            │ resnet_embed_loo… │\n",
              "├─────────────────────┼───────────────────┼────────────┼───────────────────┤\n",
              "│ mlp_dense_0 (\u001b[38;5;33mDense\u001b[0m) │ (\u001b[38;5;45mNone\u001b[0m, \u001b[38;5;34m64\u001b[0m)        │    \u001b[38;5;34m135,232\u001b[0m │ mlp_input_concat… │\n",
              "├─────────────────────┼───────────────────┼────────────┼───────────────────┤\n",
              "│ u_embed_mf          │ (\u001b[38;5;45mNone\u001b[0m, \u001b[38;5;34m16\u001b[0m)        │    \u001b[38;5;34m845,136\u001b[0m │ user_input[\u001b[38;5;34m0\u001b[0m][\u001b[38;5;34m0\u001b[0m]  │\n",
              "│ (\u001b[38;5;33mEmbedding\u001b[0m)         │                   │            │                   │\n",
              "├─────────────────────┼───────────────────┼────────────┼───────────────────┤\n",
              "│ i_embed_mf          │ (\u001b[38;5;45mNone\u001b[0m, \u001b[38;5;34m16\u001b[0m)        │     \u001b[38;5;34m68,592\u001b[0m │ item_input[\u001b[38;5;34m0\u001b[0m][\u001b[38;5;34m0\u001b[0m]  │\n",
              "│ (\u001b[38;5;33mEmbedding\u001b[0m)         │                   │            │                   │\n",
              "├─────────────────────┼───────────────────┼────────────┼───────────────────┤\n",
              "│ dropout_11          │ (\u001b[38;5;45mNone\u001b[0m, \u001b[38;5;34m64\u001b[0m)        │          \u001b[38;5;34m0\u001b[0m │ mlp_dense_0[\u001b[38;5;34m0\u001b[0m][\u001b[38;5;34m0\u001b[0m] │\n",
              "│ (\u001b[38;5;33mDropout\u001b[0m)           │                   │            │                   │\n",
              "├─────────────────────┼───────────────────┼────────────┼───────────────────┤\n",
              "│ flatten_20          │ (\u001b[38;5;45mNone\u001b[0m, \u001b[38;5;34m16\u001b[0m)        │          \u001b[38;5;34m0\u001b[0m │ u_embed_mf[\u001b[38;5;34m0\u001b[0m][\u001b[38;5;34m0\u001b[0m]  │\n",
              "│ (\u001b[38;5;33mFlatten\u001b[0m)           │                   │            │                   │\n",
              "├─────────────────────┼───────────────────┼────────────┼───────────────────┤\n",
              "│ flatten_21          │ (\u001b[38;5;45mNone\u001b[0m, \u001b[38;5;34m16\u001b[0m)        │          \u001b[38;5;34m0\u001b[0m │ i_embed_mf[\u001b[38;5;34m0\u001b[0m][\u001b[38;5;34m0\u001b[0m]  │\n",
              "│ (\u001b[38;5;33mFlatten\u001b[0m)           │                   │            │                   │\n",
              "├─────────────────────┼───────────────────┼────────────┼───────────────────┤\n",
              "│ mlp_dense_1 (\u001b[38;5;33mDense\u001b[0m) │ (\u001b[38;5;45mNone\u001b[0m, \u001b[38;5;34m32\u001b[0m)        │      \u001b[38;5;34m2,080\u001b[0m │ dropout_11[\u001b[38;5;34m0\u001b[0m][\u001b[38;5;34m0\u001b[0m]  │\n",
              "├─────────────────────┼───────────────────┼────────────┼───────────────────┤\n",
              "│ multiply_5          │ (\u001b[38;5;45mNone\u001b[0m, \u001b[38;5;34m16\u001b[0m)        │          \u001b[38;5;34m0\u001b[0m │ flatten_20[\u001b[38;5;34m0\u001b[0m][\u001b[38;5;34m0\u001b[0m], │\n",
              "│ (\u001b[38;5;33mMultiply\u001b[0m)          │                   │            │ flatten_21[\u001b[38;5;34m0\u001b[0m][\u001b[38;5;34m0\u001b[0m]  │\n",
              "├─────────────────────┼───────────────────┼────────────┼───────────────────┤\n",
              "│ dropout_12          │ (\u001b[38;5;45mNone\u001b[0m, \u001b[38;5;34m32\u001b[0m)        │          \u001b[38;5;34m0\u001b[0m │ mlp_dense_1[\u001b[38;5;34m0\u001b[0m][\u001b[38;5;34m0\u001b[0m] │\n",
              "│ (\u001b[38;5;33mDropout\u001b[0m)           │                   │            │                   │\n",
              "├─────────────────────┼───────────────────┼────────────┼───────────────────┤\n",
              "│ concatenate_9       │ (\u001b[38;5;45mNone\u001b[0m, \u001b[38;5;34m48\u001b[0m)        │          \u001b[38;5;34m0\u001b[0m │ multiply_5[\u001b[38;5;34m0\u001b[0m][\u001b[38;5;34m0\u001b[0m], │\n",
              "│ (\u001b[38;5;33mConcatenate\u001b[0m)       │                   │            │ dropout_12[\u001b[38;5;34m0\u001b[0m][\u001b[38;5;34m0\u001b[0m]  │\n",
              "├─────────────────────┼───────────────────┼────────────┼───────────────────┤\n",
              "│ prediction (\u001b[38;5;33mDense\u001b[0m)  │ (\u001b[38;5;45mNone\u001b[0m, \u001b[38;5;34m1\u001b[0m)         │         \u001b[38;5;34m49\u001b[0m │ concatenate_9[\u001b[38;5;34m0\u001b[0m]… │\n",
              "└─────────────────────┴───────────────────┴────────────┴───────────────────┘\n"
            ],
            "text/html": [
              "<pre style=\"white-space:pre;overflow-x:auto;line-height:normal;font-family:Menlo,'DejaVu Sans Mono',consolas,'Courier New',monospace\">┏━━━━━━━━━━━━━━━━━━━━━┳━━━━━━━━━━━━━━━━━━━┳━━━━━━━━━━━━┳━━━━━━━━━━━━━━━━━━━┓\n",
              "┃<span style=\"font-weight: bold\"> Layer (type)        </span>┃<span style=\"font-weight: bold\"> Output Shape      </span>┃<span style=\"font-weight: bold\">    Param # </span>┃<span style=\"font-weight: bold\"> Connected to      </span>┃\n",
              "┡━━━━━━━━━━━━━━━━━━━━━╇━━━━━━━━━━━━━━━━━━━╇━━━━━━━━━━━━╇━━━━━━━━━━━━━━━━━━━┩\n",
              "│ user_input          │ (<span style=\"color: #00d7ff; text-decoration-color: #00d7ff\">None</span>)            │          <span style=\"color: #00af00; text-decoration-color: #00af00\">0</span> │ -                 │\n",
              "│ (<span style=\"color: #0087ff; text-decoration-color: #0087ff\">InputLayer</span>)        │                   │            │                   │\n",
              "├─────────────────────┼───────────────────┼────────────┼───────────────────┤\n",
              "│ item_input          │ (<span style=\"color: #00d7ff; text-decoration-color: #00d7ff\">None</span>)            │          <span style=\"color: #00af00; text-decoration-color: #00af00\">0</span> │ -                 │\n",
              "│ (<span style=\"color: #0087ff; text-decoration-color: #0087ff\">InputLayer</span>)        │                   │            │                   │\n",
              "├─────────────────────┼───────────────────┼────────────┼───────────────────┤\n",
              "│ u_embed_mlp         │ (<span style=\"color: #00d7ff; text-decoration-color: #00d7ff\">None</span>, <span style=\"color: #00af00; text-decoration-color: #00af00\">32</span>)        │  <span style=\"color: #00af00; text-decoration-color: #00af00\">1,690,272</span> │ user_input[<span style=\"color: #00af00; text-decoration-color: #00af00\">0</span>][<span style=\"color: #00af00; text-decoration-color: #00af00\">0</span>]  │\n",
              "│ (<span style=\"color: #0087ff; text-decoration-color: #0087ff\">Embedding</span>)         │                   │            │                   │\n",
              "├─────────────────────┼───────────────────┼────────────┼───────────────────┤\n",
              "│ i_embed_mlp         │ (<span style=\"color: #00d7ff; text-decoration-color: #00d7ff\">None</span>, <span style=\"color: #00af00; text-decoration-color: #00af00\">32</span>)        │    <span style=\"color: #00af00; text-decoration-color: #00af00\">137,184</span> │ item_input[<span style=\"color: #00af00; text-decoration-color: #00af00\">0</span>][<span style=\"color: #00af00; text-decoration-color: #00af00\">0</span>]  │\n",
              "│ (<span style=\"color: #0087ff; text-decoration-color: #0087ff\">Embedding</span>)         │                   │            │                   │\n",
              "├─────────────────────┼───────────────────┼────────────┼───────────────────┤\n",
              "│ flatten_22          │ (<span style=\"color: #00d7ff; text-decoration-color: #00d7ff\">None</span>, <span style=\"color: #00af00; text-decoration-color: #00af00\">32</span>)        │          <span style=\"color: #00af00; text-decoration-color: #00af00\">0</span> │ u_embed_mlp[<span style=\"color: #00af00; text-decoration-color: #00af00\">0</span>][<span style=\"color: #00af00; text-decoration-color: #00af00\">0</span>] │\n",
              "│ (<span style=\"color: #0087ff; text-decoration-color: #0087ff\">Flatten</span>)           │                   │            │                   │\n",
              "├─────────────────────┼───────────────────┼────────────┼───────────────────┤\n",
              "│ flatten_23          │ (<span style=\"color: #00d7ff; text-decoration-color: #00d7ff\">None</span>, <span style=\"color: #00af00; text-decoration-color: #00af00\">32</span>)        │          <span style=\"color: #00af00; text-decoration-color: #00af00\">0</span> │ i_embed_mlp[<span style=\"color: #00af00; text-decoration-color: #00af00\">0</span>][<span style=\"color: #00af00; text-decoration-color: #00af00\">0</span>] │\n",
              "│ (<span style=\"color: #0087ff; text-decoration-color: #0087ff\">Flatten</span>)           │                   │            │                   │\n",
              "├─────────────────────┼───────────────────┼────────────┼───────────────────┤\n",
              "│ resnet_embed_lookup │ (<span style=\"color: #00d7ff; text-decoration-color: #00d7ff\">None</span>, <span style=\"color: #00af00; text-decoration-color: #00af00\">2048</span>)      │  <span style=\"color: #00af00; text-decoration-color: #00af00\">8,779,776</span> │ item_input[<span style=\"color: #00af00; text-decoration-color: #00af00\">0</span>][<span style=\"color: #00af00; text-decoration-color: #00af00\">0</span>]  │\n",
              "│ (<span style=\"color: #0087ff; text-decoration-color: #0087ff\">Embedding</span>)         │                   │            │                   │\n",
              "├─────────────────────┼───────────────────┼────────────┼───────────────────┤\n",
              "│ mlp_input_concat    │ (<span style=\"color: #00d7ff; text-decoration-color: #00d7ff\">None</span>, <span style=\"color: #00af00; text-decoration-color: #00af00\">2112</span>)      │          <span style=\"color: #00af00; text-decoration-color: #00af00\">0</span> │ flatten_22[<span style=\"color: #00af00; text-decoration-color: #00af00\">0</span>][<span style=\"color: #00af00; text-decoration-color: #00af00\">0</span>], │\n",
              "│ (<span style=\"color: #0087ff; text-decoration-color: #0087ff\">Concatenate</span>)       │                   │            │ flatten_23[<span style=\"color: #00af00; text-decoration-color: #00af00\">0</span>][<span style=\"color: #00af00; text-decoration-color: #00af00\">0</span>], │\n",
              "│                     │                   │            │ resnet_embed_loo… │\n",
              "├─────────────────────┼───────────────────┼────────────┼───────────────────┤\n",
              "│ mlp_dense_0 (<span style=\"color: #0087ff; text-decoration-color: #0087ff\">Dense</span>) │ (<span style=\"color: #00d7ff; text-decoration-color: #00d7ff\">None</span>, <span style=\"color: #00af00; text-decoration-color: #00af00\">64</span>)        │    <span style=\"color: #00af00; text-decoration-color: #00af00\">135,232</span> │ mlp_input_concat… │\n",
              "├─────────────────────┼───────────────────┼────────────┼───────────────────┤\n",
              "│ u_embed_mf          │ (<span style=\"color: #00d7ff; text-decoration-color: #00d7ff\">None</span>, <span style=\"color: #00af00; text-decoration-color: #00af00\">16</span>)        │    <span style=\"color: #00af00; text-decoration-color: #00af00\">845,136</span> │ user_input[<span style=\"color: #00af00; text-decoration-color: #00af00\">0</span>][<span style=\"color: #00af00; text-decoration-color: #00af00\">0</span>]  │\n",
              "│ (<span style=\"color: #0087ff; text-decoration-color: #0087ff\">Embedding</span>)         │                   │            │                   │\n",
              "├─────────────────────┼───────────────────┼────────────┼───────────────────┤\n",
              "│ i_embed_mf          │ (<span style=\"color: #00d7ff; text-decoration-color: #00d7ff\">None</span>, <span style=\"color: #00af00; text-decoration-color: #00af00\">16</span>)        │     <span style=\"color: #00af00; text-decoration-color: #00af00\">68,592</span> │ item_input[<span style=\"color: #00af00; text-decoration-color: #00af00\">0</span>][<span style=\"color: #00af00; text-decoration-color: #00af00\">0</span>]  │\n",
              "│ (<span style=\"color: #0087ff; text-decoration-color: #0087ff\">Embedding</span>)         │                   │            │                   │\n",
              "├─────────────────────┼───────────────────┼────────────┼───────────────────┤\n",
              "│ dropout_11          │ (<span style=\"color: #00d7ff; text-decoration-color: #00d7ff\">None</span>, <span style=\"color: #00af00; text-decoration-color: #00af00\">64</span>)        │          <span style=\"color: #00af00; text-decoration-color: #00af00\">0</span> │ mlp_dense_0[<span style=\"color: #00af00; text-decoration-color: #00af00\">0</span>][<span style=\"color: #00af00; text-decoration-color: #00af00\">0</span>] │\n",
              "│ (<span style=\"color: #0087ff; text-decoration-color: #0087ff\">Dropout</span>)           │                   │            │                   │\n",
              "├─────────────────────┼───────────────────┼────────────┼───────────────────┤\n",
              "│ flatten_20          │ (<span style=\"color: #00d7ff; text-decoration-color: #00d7ff\">None</span>, <span style=\"color: #00af00; text-decoration-color: #00af00\">16</span>)        │          <span style=\"color: #00af00; text-decoration-color: #00af00\">0</span> │ u_embed_mf[<span style=\"color: #00af00; text-decoration-color: #00af00\">0</span>][<span style=\"color: #00af00; text-decoration-color: #00af00\">0</span>]  │\n",
              "│ (<span style=\"color: #0087ff; text-decoration-color: #0087ff\">Flatten</span>)           │                   │            │                   │\n",
              "├─────────────────────┼───────────────────┼────────────┼───────────────────┤\n",
              "│ flatten_21          │ (<span style=\"color: #00d7ff; text-decoration-color: #00d7ff\">None</span>, <span style=\"color: #00af00; text-decoration-color: #00af00\">16</span>)        │          <span style=\"color: #00af00; text-decoration-color: #00af00\">0</span> │ i_embed_mf[<span style=\"color: #00af00; text-decoration-color: #00af00\">0</span>][<span style=\"color: #00af00; text-decoration-color: #00af00\">0</span>]  │\n",
              "│ (<span style=\"color: #0087ff; text-decoration-color: #0087ff\">Flatten</span>)           │                   │            │                   │\n",
              "├─────────────────────┼───────────────────┼────────────┼───────────────────┤\n",
              "│ mlp_dense_1 (<span style=\"color: #0087ff; text-decoration-color: #0087ff\">Dense</span>) │ (<span style=\"color: #00d7ff; text-decoration-color: #00d7ff\">None</span>, <span style=\"color: #00af00; text-decoration-color: #00af00\">32</span>)        │      <span style=\"color: #00af00; text-decoration-color: #00af00\">2,080</span> │ dropout_11[<span style=\"color: #00af00; text-decoration-color: #00af00\">0</span>][<span style=\"color: #00af00; text-decoration-color: #00af00\">0</span>]  │\n",
              "├─────────────────────┼───────────────────┼────────────┼───────────────────┤\n",
              "│ multiply_5          │ (<span style=\"color: #00d7ff; text-decoration-color: #00d7ff\">None</span>, <span style=\"color: #00af00; text-decoration-color: #00af00\">16</span>)        │          <span style=\"color: #00af00; text-decoration-color: #00af00\">0</span> │ flatten_20[<span style=\"color: #00af00; text-decoration-color: #00af00\">0</span>][<span style=\"color: #00af00; text-decoration-color: #00af00\">0</span>], │\n",
              "│ (<span style=\"color: #0087ff; text-decoration-color: #0087ff\">Multiply</span>)          │                   │            │ flatten_21[<span style=\"color: #00af00; text-decoration-color: #00af00\">0</span>][<span style=\"color: #00af00; text-decoration-color: #00af00\">0</span>]  │\n",
              "├─────────────────────┼───────────────────┼────────────┼───────────────────┤\n",
              "│ dropout_12          │ (<span style=\"color: #00d7ff; text-decoration-color: #00d7ff\">None</span>, <span style=\"color: #00af00; text-decoration-color: #00af00\">32</span>)        │          <span style=\"color: #00af00; text-decoration-color: #00af00\">0</span> │ mlp_dense_1[<span style=\"color: #00af00; text-decoration-color: #00af00\">0</span>][<span style=\"color: #00af00; text-decoration-color: #00af00\">0</span>] │\n",
              "│ (<span style=\"color: #0087ff; text-decoration-color: #0087ff\">Dropout</span>)           │                   │            │                   │\n",
              "├─────────────────────┼───────────────────┼────────────┼───────────────────┤\n",
              "│ concatenate_9       │ (<span style=\"color: #00d7ff; text-decoration-color: #00d7ff\">None</span>, <span style=\"color: #00af00; text-decoration-color: #00af00\">48</span>)        │          <span style=\"color: #00af00; text-decoration-color: #00af00\">0</span> │ multiply_5[<span style=\"color: #00af00; text-decoration-color: #00af00\">0</span>][<span style=\"color: #00af00; text-decoration-color: #00af00\">0</span>], │\n",
              "│ (<span style=\"color: #0087ff; text-decoration-color: #0087ff\">Concatenate</span>)       │                   │            │ dropout_12[<span style=\"color: #00af00; text-decoration-color: #00af00\">0</span>][<span style=\"color: #00af00; text-decoration-color: #00af00\">0</span>]  │\n",
              "├─────────────────────┼───────────────────┼────────────┼───────────────────┤\n",
              "│ prediction (<span style=\"color: #0087ff; text-decoration-color: #0087ff\">Dense</span>)  │ (<span style=\"color: #00d7ff; text-decoration-color: #00d7ff\">None</span>, <span style=\"color: #00af00; text-decoration-color: #00af00\">1</span>)         │         <span style=\"color: #00af00; text-decoration-color: #00af00\">49</span> │ concatenate_9[<span style=\"color: #00af00; text-decoration-color: #00af00\">0</span>]… │\n",
              "└─────────────────────┴───────────────────┴────────────┴───────────────────┘\n",
              "</pre>\n"
            ]
          },
          "metadata": {}
        },
        {
          "output_type": "display_data",
          "data": {
            "text/plain": [
              "\u001b[1m Total params: \u001b[0m\u001b[38;5;34m11,658,321\u001b[0m (44.47 MB)\n"
            ],
            "text/html": [
              "<pre style=\"white-space:pre;overflow-x:auto;line-height:normal;font-family:Menlo,'DejaVu Sans Mono',consolas,'Courier New',monospace\"><span style=\"font-weight: bold\"> Total params: </span><span style=\"color: #00af00; text-decoration-color: #00af00\">11,658,321</span> (44.47 MB)\n",
              "</pre>\n"
            ]
          },
          "metadata": {}
        },
        {
          "output_type": "display_data",
          "data": {
            "text/plain": [
              "\u001b[1m Trainable params: \u001b[0m\u001b[38;5;34m2,878,545\u001b[0m (10.98 MB)\n"
            ],
            "text/html": [
              "<pre style=\"white-space:pre;overflow-x:auto;line-height:normal;font-family:Menlo,'DejaVu Sans Mono',consolas,'Courier New',monospace\"><span style=\"font-weight: bold\"> Trainable params: </span><span style=\"color: #00af00; text-decoration-color: #00af00\">2,878,545</span> (10.98 MB)\n",
              "</pre>\n"
            ]
          },
          "metadata": {}
        },
        {
          "output_type": "display_data",
          "data": {
            "text/plain": [
              "\u001b[1m Non-trainable params: \u001b[0m\u001b[38;5;34m8,779,776\u001b[0m (33.49 MB)\n"
            ],
            "text/html": [
              "<pre style=\"white-space:pre;overflow-x:auto;line-height:normal;font-family:Menlo,'DejaVu Sans Mono',consolas,'Courier New',monospace\"><span style=\"font-weight: bold\"> Non-trainable params: </span><span style=\"color: #00af00; text-decoration-color: #00af00\">8,779,776</span> (33.49 MB)\n",
              "</pre>\n"
            ]
          },
          "metadata": {}
        }
      ]
    },
    {
      "cell_type": "markdown",
      "source": [
        "Training"
      ],
      "metadata": {
        "id": "BZDlkseKSdFf"
      }
    },
    {
      "cell_type": "code",
      "source": [
        "rank_cb = RankingMetricsCallback(\n",
        "    train_pos=train_pos,      # user → set of train-positive items\n",
        "    test_pos=test_pos,        # user → set of test-positive items\n",
        "    num_items=num_items,      # total number of distinct items (4287)\n",
        "    k=10,                     # compute Precision@10, NDCG@10, MAP@10\n",
        "    verbose=1                 # set to 1 to print metrics each epoch\n",
        ")"
      ],
      "metadata": {
        "id": "9IlA1MH6SfQ9"
      },
      "execution_count": 96,
      "outputs": []
    },
    {
      "cell_type": "code",
      "source": [
        "batch_size = 4096  # increase if your GPU/Colab can handle it (maybe 4096)\n",
        "buffer_size = 100_000\n",
        "\n",
        "# 1) Build a Dataset from your three 1D NumPy arrays\n",
        "#    Each element is (u_idx, i_idx, label).\n",
        "train_ds = tf.data.Dataset.from_tensor_slices((user_input, item_input, labels))\n",
        "\n",
        "# 2) Shuffle → batch → prefetch.  Drop remainder so each batch is exactly `batch_size`.\n",
        "train_ds = (\n",
        "    train_ds\n",
        "    .shuffle(buffer_size, seed=42)\n",
        "    .batch(batch_size, drop_remainder=True)\n",
        "    .map(lambda u, i, y: ((u, i), y), num_parallel_calls=tf.data.AUTOTUNE)\n",
        "    .prefetch(tf.data.AUTOTUNE)\n",
        ")\n",
        "\n",
        "# 3) Do the same for validation (but typically you skip shuffle for val):\n",
        "val_ds = tf.data.Dataset.from_tensor_slices(\n",
        "    (user_input_test, item_input_test, labels_test)\n",
        ")\n",
        "val_ds = (\n",
        "    val_ds\n",
        "    .batch(batch_size, drop_remainder=False)\n",
        "    .map(lambda u, i, y: ((u, i), y), num_parallel_calls=tf.data.AUTOTUNE)\n",
        "    .prefetch(tf.data.AUTOTUNE)\n",
        ")\n",
        "\n",
        "# 4) Now call .fit on the Datasets:\n",
        "history_with_feats_2 = model_with_feats_2.fit(\n",
        "    train_ds,\n",
        "    epochs=5,\n",
        "    validation_data=val_ds,\n",
        "    callbacks=[rank_cb],\n",
        "    shuffle=False  # we already shuffled in the Dataset pipeline\n",
        ")\n"
      ],
      "metadata": {
        "colab": {
          "base_uri": "https://localhost:8080/"
        },
        "id": "8I5lW1tBSnhA",
        "outputId": "00682d37-30c0-40df-d1db-d2fb03acf6eb"
      },
      "execution_count": 97,
      "outputs": [
        {
          "output_type": "stream",
          "name": "stdout",
          "text": [
            "Epoch 1/5\n",
            "\u001b[1m2456/2456\u001b[0m \u001b[32m━━━━━━━━━━━━━━━━━━━━\u001b[0m\u001b[37m\u001b[0m \u001b[1m0s\u001b[0m 242ms/step - auc: 0.8098 - loss: 0.4830 — epoch  1: Precision@10=0.1020, NDCG@10=0.1099, MAP@10=0.0444\n",
            "\u001b[1m2456/2456\u001b[0m \u001b[32m━━━━━━━━━━━━━━━━━━━━\u001b[0m\u001b[37m\u001b[0m \u001b[1m624s\u001b[0m 252ms/step - auc: 0.8098 - loss: 0.4829 - val_auc: 0.9110 - val_loss: 0.3663 - Precision@10: 0.1020 - NDCG@10: 0.1099 - MAP@10: 0.0444\n",
            "Epoch 2/5\n",
            "\u001b[1m2456/2456\u001b[0m \u001b[32m━━━━━━━━━━━━━━━━━━━━\u001b[0m\u001b[37m\u001b[0m \u001b[1m0s\u001b[0m 242ms/step - auc: 0.9068 - loss: 0.3608 — epoch  2: Precision@10=0.1110, NDCG@10=0.1190, MAP@10=0.0501\n",
            "\u001b[1m2456/2456\u001b[0m \u001b[32m━━━━━━━━━━━━━━━━━━━━\u001b[0m\u001b[37m\u001b[0m \u001b[1m621s\u001b[0m 253ms/step - auc: 0.9068 - loss: 0.3608 - val_auc: 0.9244 - val_loss: 0.3349 - Precision@10: 0.1110 - NDCG@10: 0.1190 - MAP@10: 0.0501\n",
            "Epoch 3/5\n",
            "\u001b[1m2456/2456\u001b[0m \u001b[32m━━━━━━━━━━━━━━━━━━━━\u001b[0m\u001b[37m\u001b[0m \u001b[1m0s\u001b[0m 243ms/step - auc: 0.9351 - loss: 0.3058 — epoch  3: Precision@10=0.1200, NDCG@10=0.1273, MAP@10=0.0531\n",
            "\u001b[1m2456/2456\u001b[0m \u001b[32m━━━━━━━━━━━━━━━━━━━━\u001b[0m\u001b[37m\u001b[0m \u001b[1m622s\u001b[0m 253ms/step - auc: 0.9351 - loss: 0.3058 - val_auc: 0.9294 - val_loss: 0.3230 - Precision@10: 0.1200 - NDCG@10: 0.1273 - MAP@10: 0.0531\n",
            "Epoch 4/5\n",
            "\u001b[1m2456/2456\u001b[0m \u001b[32m━━━━━━━━━━━━━━━━━━━━\u001b[0m\u001b[37m\u001b[0m \u001b[1m0s\u001b[0m 243ms/step - auc: 0.9460 - loss: 0.2799 — epoch  4: Precision@10=0.1250, NDCG@10=0.1359, MAP@10=0.0557\n",
            "\u001b[1m2456/2456\u001b[0m \u001b[32m━━━━━━━━━━━━━━━━━━━━\u001b[0m\u001b[37m\u001b[0m \u001b[1m622s\u001b[0m 253ms/step - auc: 0.9460 - loss: 0.2799 - val_auc: 0.9306 - val_loss: 0.3185 - Precision@10: 0.1250 - NDCG@10: 0.1359 - MAP@10: 0.0557\n",
            "Epoch 5/5\n",
            "\u001b[1m2456/2456\u001b[0m \u001b[32m━━━━━━━━━━━━━━━━━━━━\u001b[0m\u001b[37m\u001b[0m \u001b[1m0s\u001b[0m 242ms/step - auc: 0.9534 - loss: 0.2603 — epoch  5: Precision@10=0.1330, NDCG@10=0.1460, MAP@10=0.0597\n",
            "\u001b[1m2456/2456\u001b[0m \u001b[32m━━━━━━━━━━━━━━━━━━━━\u001b[0m\u001b[37m\u001b[0m \u001b[1m620s\u001b[0m 252ms/step - auc: 0.9534 - loss: 0.2603 - val_auc: 0.9322 - val_loss: 0.3203 - Precision@10: 0.1330 - NDCG@10: 0.1460 - MAP@10: 0.0597\n"
          ]
        }
      ]
    },
    {
      "cell_type": "markdown",
      "source": [],
      "metadata": {
        "id": "09PMath8SltF"
      }
    }
  ]
}