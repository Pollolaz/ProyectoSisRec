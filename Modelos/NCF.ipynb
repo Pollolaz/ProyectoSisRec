{
  "nbformat": 4,
  "nbformat_minor": 0,
  "metadata": {
    "colab": {
      "provenance": []
    },
    "kernelspec": {
      "name": "python3",
      "display_name": "Python 3"
    },
    "language_info": {
      "name": "python"
    }
  },
  "cells": [
    {
      "cell_type": "code",
      "source": [
        "import json\n",
        "import torch\n",
        "import torch.nn as nn\n",
        "from torch.utils.data import Dataset, DataLoader\n",
        "import random\n",
        "from tqdm import tqdm\n",
        "import numpy as np\n",
        "import pandas as pd\n",
        "import matplotlib.pyplot as plt\n",
        "import seaborn as sns\n",
        "import numpy as np\n",
        "import tensorflow as tf\n"
      ],
      "metadata": {
        "id": "mVO89gQIFgjP"
      },
      "execution_count": 2,
      "outputs": []
    },
    {
      "cell_type": "markdown",
      "source": [
        "Descarga de datos"
      ],
      "metadata": {
        "id": "VoQnJPrGFhGk"
      }
    },
    {
      "cell_type": "code",
      "execution_count": 3,
      "metadata": {
        "colab": {
          "base_uri": "https://localhost:8080/"
        },
        "id": "lyRCd2N4DAfe",
        "outputId": "d61de2e0-7057-401f-c911-d587d453bf5a"
      },
      "outputs": [
        {
          "output_type": "stream",
          "name": "stdout",
          "text": [
            "--2025-07-01 02:44:37--  https://www.dropbox.com/s/57tel5zqopkssrh/books.csv?dl=0\n",
            "Resolving www.dropbox.com (www.dropbox.com)... 162.125.6.18, 2620:100:601c:18::a27d:612\n",
            "Connecting to www.dropbox.com (www.dropbox.com)|162.125.6.18|:443... connected.\n",
            "HTTP request sent, awaiting response... 302 Found\n",
            "Location: https://www.dropbox.com/scl/fi/5s6xrfnu17yi34sfhmskb/books.csv?rlkey=ymzokbyqw3qq2bq5okfao9w1z&dl=0 [following]\n",
            "--2025-07-01 02:44:37--  https://www.dropbox.com/scl/fi/5s6xrfnu17yi34sfhmskb/books.csv?rlkey=ymzokbyqw3qq2bq5okfao9w1z&dl=0\n",
            "Reusing existing connection to www.dropbox.com:443.\n",
            "HTTP request sent, awaiting response... 302 Found\n",
            "Location: https://ucd330380380df4aa50453d4ab76.dl.dropboxusercontent.com/cd/0/inline/CspXdKc1NsHjy5xXdEc8jHVKrp8XwnL1H7xRVhGseerOvZ6yoSmhkRnUdFUEYs68dC_v8KZsKqCyxdL0jTt6CsMisZIPqGlb-a1IT3LMITMjX6uu5ymHAjMVh_jC4TH5ZXayYmdHJnC0K5NXQzrueG5j/file# [following]\n",
            "--2025-07-01 02:44:37--  https://ucd330380380df4aa50453d4ab76.dl.dropboxusercontent.com/cd/0/inline/CspXdKc1NsHjy5xXdEc8jHVKrp8XwnL1H7xRVhGseerOvZ6yoSmhkRnUdFUEYs68dC_v8KZsKqCyxdL0jTt6CsMisZIPqGlb-a1IT3LMITMjX6uu5ymHAjMVh_jC4TH5ZXayYmdHJnC0K5NXQzrueG5j/file\n",
            "Resolving ucd330380380df4aa50453d4ab76.dl.dropboxusercontent.com (ucd330380380df4aa50453d4ab76.dl.dropboxusercontent.com)... 162.125.6.15, 2620:100:601c:15::a27d:60f\n",
            "Connecting to ucd330380380df4aa50453d4ab76.dl.dropboxusercontent.com (ucd330380380df4aa50453d4ab76.dl.dropboxusercontent.com)|162.125.6.15|:443... connected.\n",
            "HTTP request sent, awaiting response... 200 OK\n",
            "Length: 5156485 (4.9M) [text/plain]\n",
            "Saving to: ‘books.csv’\n",
            "\n",
            "books.csv           100%[===================>]   4.92M  --.-KB/s    in 0.03s   \n",
            "\n",
            "2025-07-01 02:44:37 (189 MB/s) - ‘books.csv’ saved [5156485/5156485]\n",
            "\n",
            "--2025-07-01 02:44:37--  https://www.dropbox.com/s/zpnnoy1i8ljf9fg/goodreads_bert_embeddings.npy?dl=0\n",
            "Resolving www.dropbox.com (www.dropbox.com)... 162.125.6.18, 2620:100:601c:18::a27d:612\n",
            "Connecting to www.dropbox.com (www.dropbox.com)|162.125.6.18|:443... connected.\n",
            "HTTP request sent, awaiting response... 302 Found\n",
            "Location: https://www.dropbox.com/scl/fi/9t24trwzk8smammwnvvxw/goodreads_bert_embeddings.npy?rlkey=cj0axwkdtbcc94vb4lpj1cdj7&dl=0 [following]\n",
            "--2025-07-01 02:44:38--  https://www.dropbox.com/scl/fi/9t24trwzk8smammwnvvxw/goodreads_bert_embeddings.npy?rlkey=cj0axwkdtbcc94vb4lpj1cdj7&dl=0\n",
            "Reusing existing connection to www.dropbox.com:443.\n",
            "HTTP request sent, awaiting response... 302 Found\n",
            "Location: https://uccfb80fa9f0a4e3b08592edb7ca.dl.dropboxusercontent.com/cd/0/inline/CsopXEKFYYq76Ogh3wT8BYqXan5A-jq0zqKTtqbiBAQx5ecc99fwXSOICbpWQyiVwcYE2XjYdab-rzJJaQL6g_tii2rj19c91EKsgA31nnezNueu-WBN5Ew9r1JcuO7mZka7rgMXbn0zD3ANGT1Wm__I/file# [following]\n",
            "--2025-07-01 02:44:38--  https://uccfb80fa9f0a4e3b08592edb7ca.dl.dropboxusercontent.com/cd/0/inline/CsopXEKFYYq76Ogh3wT8BYqXan5A-jq0zqKTtqbiBAQx5ecc99fwXSOICbpWQyiVwcYE2XjYdab-rzJJaQL6g_tii2rj19c91EKsgA31nnezNueu-WBN5Ew9r1JcuO7mZka7rgMXbn0zD3ANGT1Wm__I/file\n",
            "Resolving uccfb80fa9f0a4e3b08592edb7ca.dl.dropboxusercontent.com (uccfb80fa9f0a4e3b08592edb7ca.dl.dropboxusercontent.com)... 162.125.4.15, 2620:100:601c:15::a27d:60f\n",
            "Connecting to uccfb80fa9f0a4e3b08592edb7ca.dl.dropboxusercontent.com (uccfb80fa9f0a4e3b08592edb7ca.dl.dropboxusercontent.com)|162.125.4.15|:443... connected.\n",
            "HTTP request sent, awaiting response... 302 Found\n",
            "Location: /cd/0/inline2/CsqHiyS-OP8DdQnG2ygBa4pv_0k0oAGmwXhTuFOfqMM9fR8bv2Vj8eEAssAY1z5HKpFG1CZrYd3YSz5ulO_Za0_V5pn-jwNrlvShKXfQQH0Oh6B29BJ8_3xYxxjSsZVTXfdj1kOXJ7fusLw34fsxiGqpvVCVNkqi-pNJmHzG_xdXMAGiaYdmxWT_8W5E8uyMSAeghd_F6RciPJQruhTAi4c0BPxJsARynZuSFHI2hAtxf_CAmtVRdC57moz1mefjr2bdTTnfZmFjZi_LMZ4Iim_CDb3I9SezTQVdx6pfQoEgFq67YIaB1dOs93L2C4hs9W-WmYl8CZX4TxDph-7U_KqUTPlc-MYPPiRpgsOMXpRF_zeckyxVKBQrfRTcVLi1W-k/file [following]\n",
            "--2025-07-01 02:44:39--  https://uccfb80fa9f0a4e3b08592edb7ca.dl.dropboxusercontent.com/cd/0/inline2/CsqHiyS-OP8DdQnG2ygBa4pv_0k0oAGmwXhTuFOfqMM9fR8bv2Vj8eEAssAY1z5HKpFG1CZrYd3YSz5ulO_Za0_V5pn-jwNrlvShKXfQQH0Oh6B29BJ8_3xYxxjSsZVTXfdj1kOXJ7fusLw34fsxiGqpvVCVNkqi-pNJmHzG_xdXMAGiaYdmxWT_8W5E8uyMSAeghd_F6RciPJQruhTAi4c0BPxJsARynZuSFHI2hAtxf_CAmtVRdC57moz1mefjr2bdTTnfZmFjZi_LMZ4Iim_CDb3I9SezTQVdx6pfQoEgFq67YIaB1dOs93L2C4hs9W-WmYl8CZX4TxDph-7U_KqUTPlc-MYPPiRpgsOMXpRF_zeckyxVKBQrfRTcVLi1W-k/file\n",
            "Reusing existing connection to uccfb80fa9f0a4e3b08592edb7ca.dl.dropboxusercontent.com:443.\n",
            "HTTP request sent, awaiting response... 200 OK\n",
            "Length: 26339456 (25M) [application/octet-stream]\n",
            "Saving to: ‘goodreads_bert_embeddings.npy’\n",
            "\n",
            "goodreads_bert_embe 100%[===================>]  25.12M   167MB/s    in 0.2s    \n",
            "\n",
            "2025-07-01 02:44:39 (167 MB/s) - ‘goodreads_bert_embeddings.npy’ saved [26339456/26339456]\n",
            "\n",
            "--2025-07-01 02:44:39--  https://www.dropbox.com/s/a8hcc9w30y7r3jl/goodreads_bert_large_embeddings.npy?dl=0\n",
            "Resolving www.dropbox.com (www.dropbox.com)... 162.125.6.18, 2620:100:601c:18::a27d:612\n",
            "Connecting to www.dropbox.com (www.dropbox.com)|162.125.6.18|:443... connected.\n",
            "HTTP request sent, awaiting response... 302 Found\n",
            "Location: https://www.dropbox.com/scl/fi/9758hmxzeyylo0n4m3m3u/goodreads_bert_large_embeddings.npy?rlkey=xajdff8iigyfc7fin0i9rbgkb&dl=0 [following]\n",
            "--2025-07-01 02:44:39--  https://www.dropbox.com/scl/fi/9758hmxzeyylo0n4m3m3u/goodreads_bert_large_embeddings.npy?rlkey=xajdff8iigyfc7fin0i9rbgkb&dl=0\n",
            "Reusing existing connection to www.dropbox.com:443.\n",
            "HTTP request sent, awaiting response... 302 Found\n",
            "Location: https://uc86674bff6efff67899eec0abd3.dl.dropboxusercontent.com/cd/0/inline/CsqLFFRzEF2v1zsnf8woeMMUFHI1QxPNZmvXMR8-G-dfkyW8j1im2mGLAJH-Dr3np8FB7wVM8sDRHGc8KOJEfpLw88ee3hf4-iZDgeIOoPcdMXd3JObY1m3Q2g4WtRym2NAJzwPPSdABo7qYHa2Xm086/file# [following]\n",
            "--2025-07-01 02:44:40--  https://uc86674bff6efff67899eec0abd3.dl.dropboxusercontent.com/cd/0/inline/CsqLFFRzEF2v1zsnf8woeMMUFHI1QxPNZmvXMR8-G-dfkyW8j1im2mGLAJH-Dr3np8FB7wVM8sDRHGc8KOJEfpLw88ee3hf4-iZDgeIOoPcdMXd3JObY1m3Q2g4WtRym2NAJzwPPSdABo7qYHa2Xm086/file\n",
            "Resolving uc86674bff6efff67899eec0abd3.dl.dropboxusercontent.com (uc86674bff6efff67899eec0abd3.dl.dropboxusercontent.com)... 162.125.4.15, 2620:100:601c:15::a27d:60f\n",
            "Connecting to uc86674bff6efff67899eec0abd3.dl.dropboxusercontent.com (uc86674bff6efff67899eec0abd3.dl.dropboxusercontent.com)|162.125.4.15|:443... connected.\n",
            "HTTP request sent, awaiting response... 302 Found\n",
            "Location: /cd/0/inline2/CsqYeW_4F9upKZ_xLvOfHOSrvGGOPy9FMI4tyvx53DwwtOv62RHNpyPPhdOecIQhyLHM8JMCRAS9Uf3Fq4O1vs2vYCSmXUlvPwnD8HfZKtyz9hq7KQxmPXkQPKVWnfYzK4j-lj8gUqThEpQ5TTm2PsXQ1lu-zowzolnhFPnoHi78qcJvQ8HDeKNE9hfZdBo-gKRuJkeOYx2tC5eWNhHkLtYurBBwbBqRaomiiTkObzuEsiisrKsIvJYEHe93uHSRqrv1gEGSqT2oMwCnsue0jlNICw5a1O07HcbGCRsbII3L5i93lGNY5LX-oqjhVCsSidPPU2J5VE9h2TMGc4Q0fQMOcSn_BpAYna7_8bHnktEBtPUVgmTiMiyVdybFkIgcdbU/file [following]\n",
            "--2025-07-01 02:44:40--  https://uc86674bff6efff67899eec0abd3.dl.dropboxusercontent.com/cd/0/inline2/CsqYeW_4F9upKZ_xLvOfHOSrvGGOPy9FMI4tyvx53DwwtOv62RHNpyPPhdOecIQhyLHM8JMCRAS9Uf3Fq4O1vs2vYCSmXUlvPwnD8HfZKtyz9hq7KQxmPXkQPKVWnfYzK4j-lj8gUqThEpQ5TTm2PsXQ1lu-zowzolnhFPnoHi78qcJvQ8HDeKNE9hfZdBo-gKRuJkeOYx2tC5eWNhHkLtYurBBwbBqRaomiiTkObzuEsiisrKsIvJYEHe93uHSRqrv1gEGSqT2oMwCnsue0jlNICw5a1O07HcbGCRsbII3L5i93lGNY5LX-oqjhVCsSidPPU2J5VE9h2TMGc4Q0fQMOcSn_BpAYna7_8bHnktEBtPUVgmTiMiyVdybFkIgcdbU/file\n",
            "Reusing existing connection to uc86674bff6efff67899eec0abd3.dl.dropboxusercontent.com:443.\n",
            "HTTP request sent, awaiting response... 200 OK\n",
            "Length: 35119232 (33M) [application/octet-stream]\n",
            "Saving to: ‘goodreads_bert_large_embeddings.npy’\n",
            "\n",
            "goodreads_bert_larg 100%[===================>]  33.49M  84.3MB/s    in 0.4s    \n",
            "\n",
            "2025-07-01 02:44:41 (84.3 MB/s) - ‘goodreads_bert_large_embeddings.npy’ saved [35119232/35119232]\n",
            "\n",
            "--2025-07-01 02:44:41--  https://www.dropbox.com/s/dqeqpsr0vdvmcy0/goodreads_past_interactions.json?dl=0\n",
            "Resolving www.dropbox.com (www.dropbox.com)... 162.125.6.18, 2620:100:601c:18::a27d:612\n",
            "Connecting to www.dropbox.com (www.dropbox.com)|162.125.6.18|:443... connected.\n",
            "HTTP request sent, awaiting response... 302 Found\n",
            "Location: https://www.dropbox.com/scl/fi/4crrafugs93pzf3xshahz/goodreads_past_interactions.json?rlkey=w58hjav618jk0iyti1c4f85ad&dl=0 [following]\n",
            "--2025-07-01 02:44:41--  https://www.dropbox.com/scl/fi/4crrafugs93pzf3xshahz/goodreads_past_interactions.json?rlkey=w58hjav618jk0iyti1c4f85ad&dl=0\n",
            "Reusing existing connection to www.dropbox.com:443.\n",
            "HTTP request sent, awaiting response... 302 Found\n",
            "Location: https://uc23db4e929543d7ef31ff420047.dl.dropboxusercontent.com/cd/0/inline/CspuzMt3_BEyyO7i-TmCEwWhgwhg4aaMwmcFBE3DAEx0RMiZ_jXYfTeNmGOOimUmzOzfl2j-ybHSPnHhSCCtyR6tNZKFfFPPXNU3e9Y7jtsdr6H_pBu7cBvh0m3DMRN_ZsTn9vlaMDTQzgdY3Usd8OxC/file# [following]\n",
            "--2025-07-01 02:44:42--  https://uc23db4e929543d7ef31ff420047.dl.dropboxusercontent.com/cd/0/inline/CspuzMt3_BEyyO7i-TmCEwWhgwhg4aaMwmcFBE3DAEx0RMiZ_jXYfTeNmGOOimUmzOzfl2j-ybHSPnHhSCCtyR6tNZKFfFPPXNU3e9Y7jtsdr6H_pBu7cBvh0m3DMRN_ZsTn9vlaMDTQzgdY3Usd8OxC/file\n",
            "Resolving uc23db4e929543d7ef31ff420047.dl.dropboxusercontent.com (uc23db4e929543d7ef31ff420047.dl.dropboxusercontent.com)... 162.125.4.15, 2620:100:601c:15::a27d:60f\n",
            "Connecting to uc23db4e929543d7ef31ff420047.dl.dropboxusercontent.com (uc23db4e929543d7ef31ff420047.dl.dropboxusercontent.com)|162.125.4.15|:443... connected.\n",
            "HTTP request sent, awaiting response... 200 OK\n",
            "Length: 17685887 (17M) [text/plain]\n",
            "Saving to: ‘goodreads_past_interactions.json’\n",
            "\n",
            "goodreads_past_inte 100%[===================>]  16.87M  65.6MB/s    in 0.3s    \n",
            "\n",
            "2025-07-01 02:44:43 (65.6 MB/s) - ‘goodreads_past_interactions.json’ saved [17685887/17685887]\n",
            "\n",
            "--2025-07-01 02:44:43--  https://www.dropbox.com/s/rjtzhmb2zbpp30q/goodreads_test_interactions.json?dl=0\n",
            "Resolving www.dropbox.com (www.dropbox.com)... 162.125.6.18, 2620:100:601c:18::a27d:612\n",
            "Connecting to www.dropbox.com (www.dropbox.com)|162.125.6.18|:443... connected.\n",
            "HTTP request sent, awaiting response... 302 Found\n",
            "Location: https://www.dropbox.com/scl/fi/slomhi7icrvh57rbo8e92/goodreads_test_interactions.json?rlkey=9xe06jxsx4hncbg9w9wekj93l&dl=0 [following]\n",
            "--2025-07-01 02:44:43--  https://www.dropbox.com/scl/fi/slomhi7icrvh57rbo8e92/goodreads_test_interactions.json?rlkey=9xe06jxsx4hncbg9w9wekj93l&dl=0\n",
            "Reusing existing connection to www.dropbox.com:443.\n",
            "HTTP request sent, awaiting response... 302 Found\n",
            "Location: https://uca6cb0637dd8bcdcd9ae3e96543.dl.dropboxusercontent.com/cd/0/inline/CsqHbeVn6EpUtK9QQQQrJLM5_yUYMUropeJoGE5_yRt2NtNZYsqyomsZtpPjmSKNAJBk2Mj8652qlCiiwhDn7_Ot7ruNgXPZZwfAo0TDzmXjaWHcuQd1-Rye7H8ia3UtUEQJiSfXdlgaAScWWOJ4Wjrk/file# [following]\n",
            "--2025-07-01 02:44:43--  https://uca6cb0637dd8bcdcd9ae3e96543.dl.dropboxusercontent.com/cd/0/inline/CsqHbeVn6EpUtK9QQQQrJLM5_yUYMUropeJoGE5_yRt2NtNZYsqyomsZtpPjmSKNAJBk2Mj8652qlCiiwhDn7_Ot7ruNgXPZZwfAo0TDzmXjaWHcuQd1-Rye7H8ia3UtUEQJiSfXdlgaAScWWOJ4Wjrk/file\n",
            "Resolving uca6cb0637dd8bcdcd9ae3e96543.dl.dropboxusercontent.com (uca6cb0637dd8bcdcd9ae3e96543.dl.dropboxusercontent.com)... 162.125.4.15, 2620:100:601c:15::a27d:60f\n",
            "Connecting to uca6cb0637dd8bcdcd9ae3e96543.dl.dropboxusercontent.com (uca6cb0637dd8bcdcd9ae3e96543.dl.dropboxusercontent.com)|162.125.4.15|:443... connected.\n",
            "HTTP request sent, awaiting response... 200 OK\n",
            "Length: 6111 (6.0K) [text/plain]\n",
            "Saving to: ‘goodreads_test_interactions.json’\n",
            "\n",
            "goodreads_test_inte 100%[===================>]   5.97K  --.-KB/s    in 0s      \n",
            "\n",
            "2025-07-01 02:44:43 (1.11 GB/s) - ‘goodreads_test_interactions.json’ saved [6111/6111]\n",
            "\n"
          ]
        }
      ],
      "source": [
        "!wget https://www.dropbox.com/s/57tel5zqopkssrh/books.csv?dl=0 -O books.csv\n",
        "!wget https://www.dropbox.com/s/zpnnoy1i8ljf9fg/goodreads_bert_embeddings.npy?dl=0 -O goodreads_bert_embeddings.npy\n",
        "!wget https://www.dropbox.com/s/a8hcc9w30y7r3jl/goodreads_bert_large_embeddings.npy?dl=0 -O goodreads_bert_large_embeddings.npy\n",
        "!wget https://www.dropbox.com/s/dqeqpsr0vdvmcy0/goodreads_past_interactions.json?dl=0 -O goodreads_past_interactions.json\n",
        "!wget https://www.dropbox.com/s/rjtzhmb2zbpp30q/goodreads_test_interactions.json?dl=0 -O goodreads_test_interactions.json"
      ]
    },
    {
      "cell_type": "code",
      "source": [
        "df_books = pd.read_csv('books.csv')\n",
        "df_books.head()"
      ],
      "metadata": {
        "colab": {
          "base_uri": "https://localhost:8080/",
          "height": 603
        },
        "id": "Fc4hR5npFsxM",
        "outputId": "11487263-b276-4d48-dec8-f422b1bcb9b3"
      },
      "execution_count": 4,
      "outputs": [
        {
          "output_type": "execute_result",
          "data": {
            "text/plain": [
              "   book_id  goodreads_book_id  best_book_id  work_id  books_count       isbn  \\\n",
              "0        1            2767052       2767052  2792775          272  439023483   \n",
              "1        2                  3             3  4640799          491  439554934   \n",
              "2        3              41865         41865  3212258          226  316015849   \n",
              "3        4               2657          2657  3275794          487   61120081   \n",
              "4        5               4671          4671   245494         1356  743273567   \n",
              "\n",
              "         isbn13                      authors  original_publication_year  \\\n",
              "0  9.780439e+12              Suzanne Collins                     2008.0   \n",
              "1  9.780440e+12  J.K. Rowling, Mary GrandPré                     1997.0   \n",
              "2  9.780316e+12              Stephenie Meyer                     2005.0   \n",
              "3  9.780061e+12                   Harper Lee                     1960.0   \n",
              "4  9.780743e+12          F. Scott Fitzgerald                     1925.0   \n",
              "\n",
              "                             original_title  ... work_ratings_count  \\\n",
              "0                          The Hunger Games  ...            4942365   \n",
              "1  Harry Potter and the Philosopher's Stone  ...            4800065   \n",
              "2                                  Twilight  ...            3916824   \n",
              "3                     To Kill a Mockingbird  ...            3340896   \n",
              "4                          The Great Gatsby  ...            2773745   \n",
              "\n",
              "  work_text_reviews_count  ratings_1  ratings_2  ratings_3  ratings_4  \\\n",
              "0                  155254      66715     127936     560092    1481305   \n",
              "1                   75867      75504     101676     455024    1156318   \n",
              "2                   95009     456191     436802     793319     875073   \n",
              "3                   72586      60427     117415     446835    1001952   \n",
              "4                   51992      86236     197621     606158     936012   \n",
              "\n",
              "   ratings_5                                          image_url  \\\n",
              "0    2706317  https://images.gr-assets.com/books/1447303603m...   \n",
              "1    3011543  https://images.gr-assets.com/books/1474154022m...   \n",
              "2    1355439  https://images.gr-assets.com/books/1361039443m...   \n",
              "3    1714267  https://images.gr-assets.com/books/1361975680m...   \n",
              "4     947718  https://images.gr-assets.com/books/1490528560m...   \n",
              "\n",
              "                                     small_image_url  \\\n",
              "0  https://images.gr-assets.com/books/1447303603s...   \n",
              "1  https://images.gr-assets.com/books/1474154022s...   \n",
              "2  https://images.gr-assets.com/books/1361039443s...   \n",
              "3  https://images.gr-assets.com/books/1361975680s...   \n",
              "4  https://images.gr-assets.com/books/1490528560s...   \n",
              "\n",
              "                                           book_desc  \n",
              "0  Winning will make you famous. Losing means cer...  \n",
              "1  Harry Potter's life is miserable. His parents ...  \n",
              "2  About three things I was absolutely positive.F...  \n",
              "3  The unforgettable novel of a childhood in a sl...  \n",
              "4  Alternate Cover Edition ISBN: 0743273567 (ISBN...  \n",
              "\n",
              "[5 rows x 24 columns]"
            ],
            "text/html": [
              "\n",
              "  <div id=\"df-50f86356-91bb-4ff4-b4a1-307111f62885\" class=\"colab-df-container\">\n",
              "    <div>\n",
              "<style scoped>\n",
              "    .dataframe tbody tr th:only-of-type {\n",
              "        vertical-align: middle;\n",
              "    }\n",
              "\n",
              "    .dataframe tbody tr th {\n",
              "        vertical-align: top;\n",
              "    }\n",
              "\n",
              "    .dataframe thead th {\n",
              "        text-align: right;\n",
              "    }\n",
              "</style>\n",
              "<table border=\"1\" class=\"dataframe\">\n",
              "  <thead>\n",
              "    <tr style=\"text-align: right;\">\n",
              "      <th></th>\n",
              "      <th>book_id</th>\n",
              "      <th>goodreads_book_id</th>\n",
              "      <th>best_book_id</th>\n",
              "      <th>work_id</th>\n",
              "      <th>books_count</th>\n",
              "      <th>isbn</th>\n",
              "      <th>isbn13</th>\n",
              "      <th>authors</th>\n",
              "      <th>original_publication_year</th>\n",
              "      <th>original_title</th>\n",
              "      <th>...</th>\n",
              "      <th>work_ratings_count</th>\n",
              "      <th>work_text_reviews_count</th>\n",
              "      <th>ratings_1</th>\n",
              "      <th>ratings_2</th>\n",
              "      <th>ratings_3</th>\n",
              "      <th>ratings_4</th>\n",
              "      <th>ratings_5</th>\n",
              "      <th>image_url</th>\n",
              "      <th>small_image_url</th>\n",
              "      <th>book_desc</th>\n",
              "    </tr>\n",
              "  </thead>\n",
              "  <tbody>\n",
              "    <tr>\n",
              "      <th>0</th>\n",
              "      <td>1</td>\n",
              "      <td>2767052</td>\n",
              "      <td>2767052</td>\n",
              "      <td>2792775</td>\n",
              "      <td>272</td>\n",
              "      <td>439023483</td>\n",
              "      <td>9.780439e+12</td>\n",
              "      <td>Suzanne Collins</td>\n",
              "      <td>2008.0</td>\n",
              "      <td>The Hunger Games</td>\n",
              "      <td>...</td>\n",
              "      <td>4942365</td>\n",
              "      <td>155254</td>\n",
              "      <td>66715</td>\n",
              "      <td>127936</td>\n",
              "      <td>560092</td>\n",
              "      <td>1481305</td>\n",
              "      <td>2706317</td>\n",
              "      <td>https://images.gr-assets.com/books/1447303603m...</td>\n",
              "      <td>https://images.gr-assets.com/books/1447303603s...</td>\n",
              "      <td>Winning will make you famous. Losing means cer...</td>\n",
              "    </tr>\n",
              "    <tr>\n",
              "      <th>1</th>\n",
              "      <td>2</td>\n",
              "      <td>3</td>\n",
              "      <td>3</td>\n",
              "      <td>4640799</td>\n",
              "      <td>491</td>\n",
              "      <td>439554934</td>\n",
              "      <td>9.780440e+12</td>\n",
              "      <td>J.K. Rowling, Mary GrandPré</td>\n",
              "      <td>1997.0</td>\n",
              "      <td>Harry Potter and the Philosopher's Stone</td>\n",
              "      <td>...</td>\n",
              "      <td>4800065</td>\n",
              "      <td>75867</td>\n",
              "      <td>75504</td>\n",
              "      <td>101676</td>\n",
              "      <td>455024</td>\n",
              "      <td>1156318</td>\n",
              "      <td>3011543</td>\n",
              "      <td>https://images.gr-assets.com/books/1474154022m...</td>\n",
              "      <td>https://images.gr-assets.com/books/1474154022s...</td>\n",
              "      <td>Harry Potter's life is miserable. His parents ...</td>\n",
              "    </tr>\n",
              "    <tr>\n",
              "      <th>2</th>\n",
              "      <td>3</td>\n",
              "      <td>41865</td>\n",
              "      <td>41865</td>\n",
              "      <td>3212258</td>\n",
              "      <td>226</td>\n",
              "      <td>316015849</td>\n",
              "      <td>9.780316e+12</td>\n",
              "      <td>Stephenie Meyer</td>\n",
              "      <td>2005.0</td>\n",
              "      <td>Twilight</td>\n",
              "      <td>...</td>\n",
              "      <td>3916824</td>\n",
              "      <td>95009</td>\n",
              "      <td>456191</td>\n",
              "      <td>436802</td>\n",
              "      <td>793319</td>\n",
              "      <td>875073</td>\n",
              "      <td>1355439</td>\n",
              "      <td>https://images.gr-assets.com/books/1361039443m...</td>\n",
              "      <td>https://images.gr-assets.com/books/1361039443s...</td>\n",
              "      <td>About three things I was absolutely positive.F...</td>\n",
              "    </tr>\n",
              "    <tr>\n",
              "      <th>3</th>\n",
              "      <td>4</td>\n",
              "      <td>2657</td>\n",
              "      <td>2657</td>\n",
              "      <td>3275794</td>\n",
              "      <td>487</td>\n",
              "      <td>61120081</td>\n",
              "      <td>9.780061e+12</td>\n",
              "      <td>Harper Lee</td>\n",
              "      <td>1960.0</td>\n",
              "      <td>To Kill a Mockingbird</td>\n",
              "      <td>...</td>\n",
              "      <td>3340896</td>\n",
              "      <td>72586</td>\n",
              "      <td>60427</td>\n",
              "      <td>117415</td>\n",
              "      <td>446835</td>\n",
              "      <td>1001952</td>\n",
              "      <td>1714267</td>\n",
              "      <td>https://images.gr-assets.com/books/1361975680m...</td>\n",
              "      <td>https://images.gr-assets.com/books/1361975680s...</td>\n",
              "      <td>The unforgettable novel of a childhood in a sl...</td>\n",
              "    </tr>\n",
              "    <tr>\n",
              "      <th>4</th>\n",
              "      <td>5</td>\n",
              "      <td>4671</td>\n",
              "      <td>4671</td>\n",
              "      <td>245494</td>\n",
              "      <td>1356</td>\n",
              "      <td>743273567</td>\n",
              "      <td>9.780743e+12</td>\n",
              "      <td>F. Scott Fitzgerald</td>\n",
              "      <td>1925.0</td>\n",
              "      <td>The Great Gatsby</td>\n",
              "      <td>...</td>\n",
              "      <td>2773745</td>\n",
              "      <td>51992</td>\n",
              "      <td>86236</td>\n",
              "      <td>197621</td>\n",
              "      <td>606158</td>\n",
              "      <td>936012</td>\n",
              "      <td>947718</td>\n",
              "      <td>https://images.gr-assets.com/books/1490528560m...</td>\n",
              "      <td>https://images.gr-assets.com/books/1490528560s...</td>\n",
              "      <td>Alternate Cover Edition ISBN: 0743273567 (ISBN...</td>\n",
              "    </tr>\n",
              "  </tbody>\n",
              "</table>\n",
              "<p>5 rows × 24 columns</p>\n",
              "</div>\n",
              "    <div class=\"colab-df-buttons\">\n",
              "\n",
              "  <div class=\"colab-df-container\">\n",
              "    <button class=\"colab-df-convert\" onclick=\"convertToInteractive('df-50f86356-91bb-4ff4-b4a1-307111f62885')\"\n",
              "            title=\"Convert this dataframe to an interactive table.\"\n",
              "            style=\"display:none;\">\n",
              "\n",
              "  <svg xmlns=\"http://www.w3.org/2000/svg\" height=\"24px\" viewBox=\"0 -960 960 960\">\n",
              "    <path d=\"M120-120v-720h720v720H120Zm60-500h600v-160H180v160Zm220 220h160v-160H400v160Zm0 220h160v-160H400v160ZM180-400h160v-160H180v160Zm440 0h160v-160H620v160ZM180-180h160v-160H180v160Zm440 0h160v-160H620v160Z\"/>\n",
              "  </svg>\n",
              "    </button>\n",
              "\n",
              "  <style>\n",
              "    .colab-df-container {\n",
              "      display:flex;\n",
              "      gap: 12px;\n",
              "    }\n",
              "\n",
              "    .colab-df-convert {\n",
              "      background-color: #E8F0FE;\n",
              "      border: none;\n",
              "      border-radius: 50%;\n",
              "      cursor: pointer;\n",
              "      display: none;\n",
              "      fill: #1967D2;\n",
              "      height: 32px;\n",
              "      padding: 0 0 0 0;\n",
              "      width: 32px;\n",
              "    }\n",
              "\n",
              "    .colab-df-convert:hover {\n",
              "      background-color: #E2EBFA;\n",
              "      box-shadow: 0px 1px 2px rgba(60, 64, 67, 0.3), 0px 1px 3px 1px rgba(60, 64, 67, 0.15);\n",
              "      fill: #174EA6;\n",
              "    }\n",
              "\n",
              "    .colab-df-buttons div {\n",
              "      margin-bottom: 4px;\n",
              "    }\n",
              "\n",
              "    [theme=dark] .colab-df-convert {\n",
              "      background-color: #3B4455;\n",
              "      fill: #D2E3FC;\n",
              "    }\n",
              "\n",
              "    [theme=dark] .colab-df-convert:hover {\n",
              "      background-color: #434B5C;\n",
              "      box-shadow: 0px 1px 3px 1px rgba(0, 0, 0, 0.15);\n",
              "      filter: drop-shadow(0px 1px 2px rgba(0, 0, 0, 0.3));\n",
              "      fill: #FFFFFF;\n",
              "    }\n",
              "  </style>\n",
              "\n",
              "    <script>\n",
              "      const buttonEl =\n",
              "        document.querySelector('#df-50f86356-91bb-4ff4-b4a1-307111f62885 button.colab-df-convert');\n",
              "      buttonEl.style.display =\n",
              "        google.colab.kernel.accessAllowed ? 'block' : 'none';\n",
              "\n",
              "      async function convertToInteractive(key) {\n",
              "        const element = document.querySelector('#df-50f86356-91bb-4ff4-b4a1-307111f62885');\n",
              "        const dataTable =\n",
              "          await google.colab.kernel.invokeFunction('convertToInteractive',\n",
              "                                                    [key], {});\n",
              "        if (!dataTable) return;\n",
              "\n",
              "        const docLinkHtml = 'Like what you see? Visit the ' +\n",
              "          '<a target=\"_blank\" href=https://colab.research.google.com/notebooks/data_table.ipynb>data table notebook</a>'\n",
              "          + ' to learn more about interactive tables.';\n",
              "        element.innerHTML = '';\n",
              "        dataTable['output_type'] = 'display_data';\n",
              "        await google.colab.output.renderOutput(dataTable, element);\n",
              "        const docLink = document.createElement('div');\n",
              "        docLink.innerHTML = docLinkHtml;\n",
              "        element.appendChild(docLink);\n",
              "      }\n",
              "    </script>\n",
              "  </div>\n",
              "\n",
              "\n",
              "    <div id=\"df-78f49e41-54dd-4769-9652-a4aca79985b5\">\n",
              "      <button class=\"colab-df-quickchart\" onclick=\"quickchart('df-78f49e41-54dd-4769-9652-a4aca79985b5')\"\n",
              "                title=\"Suggest charts\"\n",
              "                style=\"display:none;\">\n",
              "\n",
              "<svg xmlns=\"http://www.w3.org/2000/svg\" height=\"24px\"viewBox=\"0 0 24 24\"\n",
              "     width=\"24px\">\n",
              "    <g>\n",
              "        <path d=\"M19 3H5c-1.1 0-2 .9-2 2v14c0 1.1.9 2 2 2h14c1.1 0 2-.9 2-2V5c0-1.1-.9-2-2-2zM9 17H7v-7h2v7zm4 0h-2V7h2v10zm4 0h-2v-4h2v4z\"/>\n",
              "    </g>\n",
              "</svg>\n",
              "      </button>\n",
              "\n",
              "<style>\n",
              "  .colab-df-quickchart {\n",
              "      --bg-color: #E8F0FE;\n",
              "      --fill-color: #1967D2;\n",
              "      --hover-bg-color: #E2EBFA;\n",
              "      --hover-fill-color: #174EA6;\n",
              "      --disabled-fill-color: #AAA;\n",
              "      --disabled-bg-color: #DDD;\n",
              "  }\n",
              "\n",
              "  [theme=dark] .colab-df-quickchart {\n",
              "      --bg-color: #3B4455;\n",
              "      --fill-color: #D2E3FC;\n",
              "      --hover-bg-color: #434B5C;\n",
              "      --hover-fill-color: #FFFFFF;\n",
              "      --disabled-bg-color: #3B4455;\n",
              "      --disabled-fill-color: #666;\n",
              "  }\n",
              "\n",
              "  .colab-df-quickchart {\n",
              "    background-color: var(--bg-color);\n",
              "    border: none;\n",
              "    border-radius: 50%;\n",
              "    cursor: pointer;\n",
              "    display: none;\n",
              "    fill: var(--fill-color);\n",
              "    height: 32px;\n",
              "    padding: 0;\n",
              "    width: 32px;\n",
              "  }\n",
              "\n",
              "  .colab-df-quickchart:hover {\n",
              "    background-color: var(--hover-bg-color);\n",
              "    box-shadow: 0 1px 2px rgba(60, 64, 67, 0.3), 0 1px 3px 1px rgba(60, 64, 67, 0.15);\n",
              "    fill: var(--button-hover-fill-color);\n",
              "  }\n",
              "\n",
              "  .colab-df-quickchart-complete:disabled,\n",
              "  .colab-df-quickchart-complete:disabled:hover {\n",
              "    background-color: var(--disabled-bg-color);\n",
              "    fill: var(--disabled-fill-color);\n",
              "    box-shadow: none;\n",
              "  }\n",
              "\n",
              "  .colab-df-spinner {\n",
              "    border: 2px solid var(--fill-color);\n",
              "    border-color: transparent;\n",
              "    border-bottom-color: var(--fill-color);\n",
              "    animation:\n",
              "      spin 1s steps(1) infinite;\n",
              "  }\n",
              "\n",
              "  @keyframes spin {\n",
              "    0% {\n",
              "      border-color: transparent;\n",
              "      border-bottom-color: var(--fill-color);\n",
              "      border-left-color: var(--fill-color);\n",
              "    }\n",
              "    20% {\n",
              "      border-color: transparent;\n",
              "      border-left-color: var(--fill-color);\n",
              "      border-top-color: var(--fill-color);\n",
              "    }\n",
              "    30% {\n",
              "      border-color: transparent;\n",
              "      border-left-color: var(--fill-color);\n",
              "      border-top-color: var(--fill-color);\n",
              "      border-right-color: var(--fill-color);\n",
              "    }\n",
              "    40% {\n",
              "      border-color: transparent;\n",
              "      border-right-color: var(--fill-color);\n",
              "      border-top-color: var(--fill-color);\n",
              "    }\n",
              "    60% {\n",
              "      border-color: transparent;\n",
              "      border-right-color: var(--fill-color);\n",
              "    }\n",
              "    80% {\n",
              "      border-color: transparent;\n",
              "      border-right-color: var(--fill-color);\n",
              "      border-bottom-color: var(--fill-color);\n",
              "    }\n",
              "    90% {\n",
              "      border-color: transparent;\n",
              "      border-bottom-color: var(--fill-color);\n",
              "    }\n",
              "  }\n",
              "</style>\n",
              "\n",
              "      <script>\n",
              "        async function quickchart(key) {\n",
              "          const quickchartButtonEl =\n",
              "            document.querySelector('#' + key + ' button');\n",
              "          quickchartButtonEl.disabled = true;  // To prevent multiple clicks.\n",
              "          quickchartButtonEl.classList.add('colab-df-spinner');\n",
              "          try {\n",
              "            const charts = await google.colab.kernel.invokeFunction(\n",
              "                'suggestCharts', [key], {});\n",
              "          } catch (error) {\n",
              "            console.error('Error during call to suggestCharts:', error);\n",
              "          }\n",
              "          quickchartButtonEl.classList.remove('colab-df-spinner');\n",
              "          quickchartButtonEl.classList.add('colab-df-quickchart-complete');\n",
              "        }\n",
              "        (() => {\n",
              "          let quickchartButtonEl =\n",
              "            document.querySelector('#df-78f49e41-54dd-4769-9652-a4aca79985b5 button');\n",
              "          quickchartButtonEl.style.display =\n",
              "            google.colab.kernel.accessAllowed ? 'block' : 'none';\n",
              "        })();\n",
              "      </script>\n",
              "    </div>\n",
              "\n",
              "    </div>\n",
              "  </div>\n"
            ],
            "application/vnd.google.colaboratory.intrinsic+json": {
              "type": "dataframe",
              "variable_name": "df_books"
            }
          },
          "metadata": {},
          "execution_count": 4
        }
      ]
    },
    {
      "cell_type": "code",
      "source": [
        "with open('goodreads_past_interactions.json', 'r') as f:\n",
        "    user_interactions = json.load(f)\n"
      ],
      "metadata": {
        "id": "nbJCtyYnGYu0"
      },
      "execution_count": 5,
      "outputs": []
    },
    {
      "cell_type": "code",
      "source": [
        "with open('goodreads_test_interactions.json', 'r') as f:\n",
        "    user_interactions_test = json.load(f)"
      ],
      "metadata": {
        "id": "MLN3MXZ7XX7k"
      },
      "execution_count": 6,
      "outputs": []
    },
    {
      "cell_type": "code",
      "source": [
        "idx2userid = {i: id_ for i, id_ in enumerate(user_interactions.keys())}\n",
        "userid2idx = {id_:i for i, id_ in enumerate(user_interactions.keys())}"
      ],
      "metadata": {
        "id": "Ovkel1RDXgrg"
      },
      "execution_count": 7,
      "outputs": []
    },
    {
      "cell_type": "code",
      "source": [
        "# 2) Build userid2idx by enumerating all distinct user IDs in the training set.\n",
        "#    (You could also include users from test if there are any users in test not in train,\n",
        "#     but typically we drop test-users that never appear in train.)\n",
        "\n",
        "userid2idx = { raw_uid: idx\n",
        "               for idx, raw_uid in enumerate(user_interactions.keys()) }\n",
        "\n",
        "#    If you want to ensure we include any “new” users that appear only in test:\n",
        "for raw_uid in user_interactions_test.keys():\n",
        "    if raw_uid not in userid2idx:\n",
        "        userid2idx[raw_uid] = len(userid2idx)"
      ],
      "metadata": {
        "id": "uBB0p1K1jfto"
      },
      "execution_count": 8,
      "outputs": []
    },
    {
      "cell_type": "code",
      "source": [
        "# 3) Build the set of all book IDs that appear in either train or test:\n",
        "all_book_ids = set()\n",
        "\n",
        "#    From train:\n",
        "for raw_uid, book_list in user_interactions.items():\n",
        "    for raw_bid in book_list:\n",
        "        all_book_ids.add(raw_bid)\n",
        "\n",
        "#    From test:\n",
        "for raw_uid, book_list in user_interactions_test.items():\n",
        "    for raw_bid in book_list:\n",
        "        all_book_ids.add(raw_bid)"
      ],
      "metadata": {
        "id": "RjjROkwMjzqa"
      },
      "execution_count": 9,
      "outputs": []
    },
    {
      "cell_type": "code",
      "source": [
        "# 4) Now enumerate that set to build bookid2idx\n",
        "bookid2idx = { raw_bid: idx for idx, raw_bid in enumerate(all_book_ids) }"
      ],
      "metadata": {
        "id": "KhKpkXQxj2AU"
      },
      "execution_count": 10,
      "outputs": []
    },
    {
      "cell_type": "code",
      "source": [
        "# 5) Now you can check:\n",
        "num_users = len(userid2idx)\n",
        "num_items = len(bookid2idx)\n",
        "\n",
        "print(f\"Number of distinct users: {num_users}\")\n",
        "print(f\"Number of distinct books: {num_items}\")"
      ],
      "metadata": {
        "colab": {
          "base_uri": "https://localhost:8080/"
        },
        "id": "otMd8oofj3_Q",
        "outputId": "4cf2951a-14f2-4393-bce8-a3c6c5b9387c"
      },
      "execution_count": 11,
      "outputs": [
        {
          "output_type": "stream",
          "name": "stdout",
          "text": [
            "Number of distinct users: 52821\n",
            "Number of distinct books: 4287\n"
          ]
        }
      ]
    },
    {
      "cell_type": "code",
      "source": [
        "unique_books = df_books.shape[0]\n",
        "num_columns_table = df_books.shape[1]\n",
        "\n",
        "print(f\"Number of unique books: {unique_books}\")\n",
        "print(f\"Number of columns in the table: {num_columns_table}\")"
      ],
      "metadata": {
        "colab": {
          "base_uri": "https://localhost:8080/"
        },
        "id": "BC1iscAdj8HY",
        "outputId": "796317c5-f767-478e-d37b-7cb4f720f203"
      },
      "execution_count": 12,
      "outputs": [
        {
          "output_type": "stream",
          "name": "stdout",
          "text": [
            "Number of unique books: 4287\n",
            "Number of columns in the table: 24\n"
          ]
        }
      ]
    },
    {
      "cell_type": "markdown",
      "source": [
        "## Build “(user, item, label)” arrays for training"
      ],
      "metadata": {
        "id": "HfX8CLhScCvt"
      }
    },
    {
      "cell_type": "markdown",
      "source": [
        "First, we’ll construct a dictionary of “positive item-indices per user_idx” for training:"
      ],
      "metadata": {
        "id": "Q76pXDNScPBT"
      }
    },
    {
      "cell_type": "code",
      "source": [
        "from collections import defaultdict\n",
        "\n",
        "# pos_items_per_user[u_idx] = set of i_idx that user u_idx interacted with in train\n",
        "pos_items_per_user = defaultdict(set)\n",
        "\n",
        "for raw_u, book_list in user_interactions.items():\n",
        "    u_idx = userid2idx[raw_u]\n",
        "    for raw_b in book_list:\n",
        "        i_idx = bookid2idx[raw_b]\n",
        "        pos_items_per_user[u_idx].add(i_idx)\n",
        "\n",
        "# (Now pos_items_per_user[u_idx] is a Python set of i_idx for each user)"
      ],
      "metadata": {
        "id": "t_dX8nUpcFq2"
      },
      "execution_count": 13,
      "outputs": []
    },
    {
      "cell_type": "markdown",
      "source": [
        "Next, negative sampling. For each positive pair (u_idx, i_idx), we will sample n_neg_per_pos “negatives” j ∈ [0..num_items−1] such that j ∉ pos_items_per_user[u_idx]. Let’s choose 4 negatives per positive:"
      ],
      "metadata": {
        "id": "hurBcn9Bc9ff"
      }
    },
    {
      "cell_type": "code",
      "source": [
        "n_neg_per_pos = 2\n",
        "rng = np.random.default_rng(seed=42)\n",
        "\n",
        "user_input = []\n",
        "item_input = []\n",
        "labels = []\n",
        "\n",
        "for u_idx, pos_set in pos_items_per_user.items():\n",
        "    # If a user has no positives (unlikely), skip.\n",
        "    if len(pos_set) == 0:\n",
        "        continue\n",
        "\n",
        "    for i_idx in pos_set:\n",
        "        # — Positive sample —\n",
        "        user_input.append(u_idx)\n",
        "        item_input.append(i_idx)\n",
        "        labels.append(1.0)\n",
        "\n",
        "        # — Negative samples —\n",
        "        neg_count = 0\n",
        "        while neg_count < n_neg_per_pos:\n",
        "            sampled_i = rng.integers(low=0, high=num_items)\n",
        "            if sampled_i not in pos_set:\n",
        "                user_input.append(u_idx)\n",
        "                item_input.append(sampled_i)\n",
        "                labels.append(0.0)\n",
        "                neg_count += 1\n",
        "\n",
        "# Convert lists → NumPy arrays for Keras\n",
        "user_input = np.array(user_input, dtype=np.int32)   # shape = (N_total_examples,)\n",
        "item_input = np.array(item_input, dtype=np.int32)   # shape = (N_total_examples,)\n",
        "labels     = np.array(labels,     dtype=np.float32) # shape = (N_total_examples,)\n",
        "\n",
        "print(\"train triples:\", user_input.shape, item_input.shape, labels.shape)\n"
      ],
      "metadata": {
        "colab": {
          "base_uri": "https://localhost:8080/"
        },
        "id": "Ot6L9Z95dCpI",
        "outputId": "c51de779-0673-4ea1-fabc-9ffc2176e4a7"
      },
      "execution_count": 14,
      "outputs": [
        {
          "output_type": "stream",
          "name": "stdout",
          "text": [
            "train triples: (10063569,) (10063569,) (10063569,)\n"
          ]
        }
      ]
    },
    {
      "cell_type": "markdown",
      "source": [
        "## Build (user, item, label) arrays for validation (test)"
      ],
      "metadata": {
        "id": "ppUkWc1GeFZX"
      }
    },
    {
      "cell_type": "code",
      "source": [
        "# 1) Construct pos_items_per_user_test[u_idx]\n",
        "pos_items_per_user_test = defaultdict(set)\n",
        "for raw_u, book_list in user_interactions_test.items():\n",
        "    # It’s possible that user_interactions_test contains a user not seen in training.\n",
        "    # If so, skip them (or add them to userid2idx + pos_items_per_user if you want cold-start eval).\n",
        "    if raw_u not in userid2idx:\n",
        "        continue\n",
        "    u_idx = userid2idx[raw_u]\n",
        "    for raw_b in book_list:\n",
        "        if raw_b not in bookid2idx:\n",
        "            # skip books that weren’t in your mapping\n",
        "            continue\n",
        "        i_idx = bookid2idx[raw_b]\n",
        "        pos_items_per_user_test[u_idx].add(i_idx)\n",
        "\n",
        "# 2) Negative sampling for test:\n",
        "user_input_test = []\n",
        "item_input_test = []\n",
        "labels_test = []\n",
        "\n",
        "for u_idx, pos_set in pos_items_per_user_test.items():\n",
        "    if len(pos_set) == 0:\n",
        "        continue\n",
        "\n",
        "    for i_idx in pos_set:\n",
        "        # Positive\n",
        "        user_input_test.append(u_idx)\n",
        "        item_input_test.append(i_idx)\n",
        "        labels_test.append(1.0)\n",
        "\n",
        "        # Negatives\n",
        "        neg_count = 0\n",
        "        while neg_count < n_neg_per_pos:\n",
        "            sampled_i = rng.integers(low=0, high=num_items)\n",
        "            if sampled_i not in pos_set:\n",
        "                user_input_test.append(u_idx)\n",
        "                item_input_test.append(sampled_i)\n",
        "                labels_test.append(0.0)\n",
        "                neg_count += 1\n",
        "\n",
        "user_input_test = np.array(user_input_test, dtype=np.int32)\n",
        "item_input_test = np.array(item_input_test, dtype=np.int32)\n",
        "labels_test     = np.array(labels_test,     dtype=np.float32)\n",
        "\n",
        "print(\"test triples:\", user_input_test.shape, item_input_test.shape, labels_test.shape)"
      ],
      "metadata": {
        "colab": {
          "base_uri": "https://localhost:8080/"
        },
        "id": "H0dF76DIeMHr",
        "outputId": "33d414b8-3f92-4714-e416-4d5a2297a846"
      },
      "execution_count": 15,
      "outputs": [
        {
          "output_type": "stream",
          "name": "stdout",
          "text": [
            "test triples: (3000,) (3000,) (3000,)\n"
          ]
        }
      ]
    },
    {
      "cell_type": "markdown",
      "source": [
        "## Item features"
      ],
      "metadata": {
        "id": "Jai5NBVVeapX"
      }
    },
    {
      "cell_type": "code",
      "source": [
        "bert_embeddings = np.load(\"goodreads_bert_embeddings.npy\")  # shape: (num_items, embedding_dim)\n",
        "#bert_embeddings_large = np.load(\"goodreads_bert_large_embeddings.npy\")\n",
        "\n",
        "num_items, embedding_dim = bert_embeddings.shape\n",
        "\n",
        "print(bert_embeddings.shape)\n"
      ],
      "metadata": {
        "colab": {
          "base_uri": "https://localhost:8080/"
        },
        "id": "dVMqCUddeZ-d",
        "outputId": "e7f7cfe3-6914-4b95-c930-cd4242ea0f76"
      },
      "execution_count": 16,
      "outputs": [
        {
          "output_type": "stream",
          "name": "stdout",
          "text": [
            "(4287, 768)\n"
          ]
        }
      ]
    },
    {
      "cell_type": "code",
      "source": [
        "# For training\n",
        "#item_feat_input = item_features[item_input]         # shape = (N_train, D)\n",
        "#item_feat_input = bert_embeddings[item_input]\n",
        "# For validation\n",
        "#item_feat_input_test = item_features[item_input_test]\n",
        "#item_feat_input_test = bert_embeddings[item_input_test]"
      ],
      "metadata": {
        "id": "K1lIaahLh1Y8"
      },
      "execution_count": 17,
      "outputs": []
    },
    {
      "cell_type": "markdown",
      "source": [
        "# Functions for Ranking Metrics"
      ],
      "metadata": {
        "id": "tG0K0Uo7xLSU"
      }
    },
    {
      "cell_type": "markdown",
      "source": [
        "## Metricas de precision"
      ],
      "metadata": {
        "id": "h5ag6ssHZ-hY"
      }
    },
    {
      "cell_type": "code",
      "source": [
        "import numpy as np\n",
        "\n",
        "def precision_at_k(predicted_items, true_set, k):\n",
        "    \"\"\"\n",
        "    predicted_items: list or 1D array of item-indices ranked by descending score (length ≥ k)\n",
        "    true_set: a Python set of ground-truth positive items for this user\n",
        "    k: cutoff\n",
        "    \"\"\"\n",
        "    pred_k = predicted_items[:k]\n",
        "    hits = sum((1 for i in pred_k if i in true_set))\n",
        "    return hits / k\n",
        "\n",
        "def dcg_at_k(predicted_items, true_set, k):\n",
        "    \"\"\"\n",
        "    DCG@k = sum_{i=1..k} ( rel_i / log2(i+1) ), where rel_i = 1 if predicted_items[i-1] ∈ true_set\n",
        "    \"\"\"\n",
        "    dcg = 0.0\n",
        "    for rank, item in enumerate(predicted_items[:k], start=1):\n",
        "        if item in true_set:\n",
        "            dcg += 1.0 / np.log2(rank + 1)\n",
        "    return dcg\n",
        "\n",
        "def idcg_at_k(true_set, k):\n",
        "    \"\"\"\n",
        "    Ideal DCG@k for this user, i.e. if we ranked all true items first.\n",
        "    IDCG = sum_{i=1..min(len(true_set), k)} (1 / log2(i+1))\n",
        "    \"\"\"\n",
        "    n_rel = min(len(true_set), k)\n",
        "    if n_rel == 0:\n",
        "        return 0.0\n",
        "    return sum((1.0 / np.log2(i + 1) for i in range(1, n_rel + 1)))\n",
        "\n",
        "def ndcg_at_k(predicted_items, true_set, k):\n",
        "    \"\"\"\n",
        "    NDCG@k = DCG@k / IDCG@k\n",
        "    \"\"\"\n",
        "    dcg = dcg_at_k(predicted_items, true_set, k)\n",
        "    idcg = idcg_at_k(true_set, k)\n",
        "    return 0.0 if idcg == 0 else dcg / idcg\n",
        "\n",
        "def average_precision_at_k(predicted_items, true_set, k):\n",
        "    \"\"\"\n",
        "    AP@k for a single user:\n",
        "    AP = (1 / min(n_pos, k)) * sum_{i=1..k} ( precision@i * rel_i ),\n",
        "    where rel_i = 1 if predicted_items[i-1] ∈ true_set, else 0.\n",
        "    If the user has no positives, define AP = 0.0.\n",
        "    \"\"\"\n",
        "    if len(true_set) == 0:\n",
        "        return 0.0\n",
        "\n",
        "    hits = 0\n",
        "    score = 0.0\n",
        "    for idx, item in enumerate(predicted_items[:k], start=1):\n",
        "        if item in true_set:\n",
        "            hits += 1\n",
        "            score += hits / idx  # precision@idx\n",
        "    return score / min(len(true_set), k)\n"
      ],
      "metadata": {
        "id": "M4igD1PnxRYj"
      },
      "execution_count": 18,
      "outputs": []
    },
    {
      "cell_type": "markdown",
      "source": [
        "Prepare per‐user ground‐truth sets"
      ],
      "metadata": {
        "id": "BkvEI7bexYhw"
      }
    },
    {
      "cell_type": "code",
      "source": [
        "from collections import defaultdict\n",
        "\n",
        "# 1) Build train_pos (you probably have this as pos_items_per_user):\n",
        "train_pos = defaultdict(set)\n",
        "for raw_u, book_list in user_interactions.items():\n",
        "    u_idx = userid2idx[raw_u]\n",
        "    for raw_b in book_list:\n",
        "        train_pos[u_idx].add(bookid2idx[raw_b])\n",
        "\n",
        "# 2) Build test_pos similarly:\n",
        "test_pos = defaultdict(set)\n",
        "for raw_u, book_list in user_interactions_test.items():\n",
        "    if raw_u not in userid2idx:\n",
        "        continue\n",
        "    u_idx = userid2idx[raw_u]\n",
        "    for raw_b in book_list:\n",
        "        if raw_b not in bookid2idx:\n",
        "            continue\n",
        "        test_pos[u_idx].add(bookid2idx[raw_b])\n"
      ],
      "metadata": {
        "id": "oqfG3yaTxZyP"
      },
      "execution_count": 19,
      "outputs": []
    },
    {
      "cell_type": "code",
      "source": [
        "all_users = list(test_pos.keys())  # only users with ≥1 test interaction\n",
        "num_items_check = len(bookid2idx)        # total number of distinct items\n"
      ],
      "metadata": {
        "id": "mZHtE_ZOxhn2"
      },
      "execution_count": 20,
      "outputs": []
    },
    {
      "cell_type": "markdown",
      "source": [
        "## Metricas de diversidad y novelty"
      ],
      "metadata": {
        "id": "7abGhLcbaE8D"
      }
    },
    {
      "cell_type": "markdown",
      "source": [
        "Contador de Popularidad en Train"
      ],
      "metadata": {
        "id": "g7O9Z9iGZvdz"
      }
    },
    {
      "cell_type": "code",
      "source": [
        "from collections import Counter\n",
        "all_train_pairs = [\n",
        "    (u_idx, i_idx)\n",
        "    for u_idx, books in user_interactions.items()\n",
        "    for i_idx in [bookid2idx[b] for b in books]\n",
        "]\n",
        "pop_counter = Counter(i for _, i in all_train_pairs)\n",
        "max_pop = max(pop_counter.values())"
      ],
      "metadata": {
        "id": "DWPGKs2vZy-l"
      },
      "execution_count": 21,
      "outputs": []
    },
    {
      "cell_type": "markdown",
      "source": [
        "Funciones"
      ],
      "metadata": {
        "id": "Sm5yzkgOZ36y"
      }
    },
    {
      "cell_type": "code",
      "source": [],
      "metadata": {
        "id": "e35NI8JmxnZe"
      },
      "execution_count": 21,
      "outputs": []
    },
    {
      "cell_type": "code",
      "source": [
        "from sklearn.metrics.pairwise import cosine_similarity\n",
        "\n",
        "# Intra list diversity\n",
        "def ild_at_k(topk, feat_matrix, k):\n",
        "    vecs = feat_matrix[topk[:k]]              # (k, D)\n",
        "    sims = cosine_similarity(vecs)            # (k, k)\n",
        "    i, j = np.triu_indices(k, k=1)\n",
        "    return np.mean(1.0 - sims[i, j])\n",
        "\n",
        "# Novelty basado en popularidad global\n",
        "def novelty_popularity(topk, pop_counter, max_pop, k):\n",
        "    pops = np.array([pop_counter[i] for i in topk[:k]], dtype=np.float32)\n",
        "    return np.mean(1.0 - pops / max_pop)"
      ],
      "metadata": {
        "id": "4ThX-ZbraNak"
      },
      "execution_count": 22,
      "outputs": []
    },
    {
      "cell_type": "markdown",
      "source": [
        "## Custom Keras callback to compute metrics"
      ],
      "metadata": {
        "id": "F7MhQrmWyHqO"
      }
    },
    {
      "cell_type": "code",
      "source": [
        "import tensorflow as tf\n",
        "\n",
        "class RankingMetricsCallback(tf.keras.callbacks.Callback):\n",
        "    def __init__(self, train_pos, test_pos, num_items, k=10, verbose=1):\n",
        "        \"\"\"\n",
        "        train_pos: dict[u_idx] -> set of item indices the user interacted with in training\n",
        "        test_pos: dict[u_idx] -> set of item indices for ground-truth test positives\n",
        "        num_items: total number of distinct items\n",
        "        k: cutoff for precision@k, NDCG@k, MAP@k\n",
        "        verbose: 0 or 1 (whether to print results)\n",
        "        \"\"\"\n",
        "        super().__init__()\n",
        "        self.train_pos = train_pos\n",
        "        self.test_pos = test_pos\n",
        "        self.num_items = num_items\n",
        "        self.k = k\n",
        "        self.verbose = verbose\n",
        "\n",
        "        # Precompute for speed: a full array of all item indices\n",
        "        self.all_items_arr = np.arange(num_items, dtype=np.int32)\n",
        "\n",
        "    def on_epoch_end(self, epoch, logs=None):\n",
        "        \"\"\"\n",
        "        At the end of each epoch, compute average Precision@k, NDCG@k, MAP@k over all users\n",
        "        in test_pos. Adds metrics to logs dictionary and prints them.\n",
        "        \"\"\"\n",
        "        precision_list = []\n",
        "        ndcg_list = []\n",
        "        ap_list = []\n",
        "        ilds = []\n",
        "        novelties = []\n",
        "\n",
        "        # For each user in test_pos:\n",
        "        for u_idx, true_set in self.test_pos.items():\n",
        "            if not true_set:\n",
        "                continue\n",
        "\n",
        "            # 1) Build candidate items = all_items \\ train_pos[u]\n",
        "            train_set = self.train_pos.get(u_idx, set())\n",
        "            # Boolean mask for candidates:\n",
        "            if len(train_set) == 0:\n",
        "                candidates = self.all_items_arr\n",
        "            else:\n",
        "                mask = np.ones(self.num_items, dtype=bool)\n",
        "                mask[list(train_set)] = False\n",
        "                candidates = self.all_items_arr[mask]\n",
        "\n",
        "            # 2) Build user and item batches for prediction\n",
        "            u_batch = np.full(shape=(candidates.shape[0],), fill_value=u_idx, dtype=np.int32)\n",
        "            i_batch = candidates\n",
        "\n",
        "            # 3) Get scores from the model\n",
        "            #    Note: model.predict(...) can be batched inside (it handles large arrays)\n",
        "            scores = self.model.predict([u_batch, i_batch], batch_size=2048, verbose=0).flatten()\n",
        "\n",
        "            # 4) Get top-k items by descending score\n",
        "            topk_indices = np.argpartition(-scores, self.k - 1)[:self.k]\n",
        "            # `argpartition` is O(n), then we sort those k for final ranking:\n",
        "            topk_scores = scores[topk_indices]\n",
        "            topk_items = candidates[topk_indices][np.argsort(-topk_scores)]\n",
        "\n",
        "            # 5) Compute metrics for this user\n",
        "            p_at_k = precision_at_k(topk_items, true_set, self.k)\n",
        "            ndcg_k = ndcg_at_k(topk_items, true_set, self.k)\n",
        "            ap_k = average_precision_at_k(topk_items, true_set, self.k)\n",
        "\n",
        "            ild_k = ild_at_k(topk_items, bert_embeddings, self.k)\n",
        "            novelty_k = novelty_popularity(topk_items, pop_counter, max_pop, self.k)\n",
        "\n",
        "            precision_list.append(p_at_k)\n",
        "            ndcg_list.append(ndcg_k)\n",
        "            ap_list.append(ap_k)\n",
        "\n",
        "            ilds.append(ild_k)\n",
        "            novelties.append(novelty_k)\n",
        "\n",
        "        # 6) Average across all users\n",
        "        avg_precision = float(np.mean(precision_list)) if precision_list else 0.0\n",
        "        avg_ndcg      = float(np.mean(ndcg_list))      if ndcg_list else 0.0\n",
        "        avg_map       = float(np.mean(ap_list))        if ap_list else 0.0\n",
        "        avg_ild       = float(np.mean(ilds))          if ilds else 0.0\n",
        "        avg_novelty   = float(np.mean(novelties))     if novelties else 0.0\n",
        "\n",
        "        # 7) Log into `logs` so Keras will record them\n",
        "        if logs is not None:\n",
        "            logs[f\"Precision@{self.k}\"] = avg_precision\n",
        "            logs[f\"NDCG@{self.k}\"]      = avg_ndcg\n",
        "            logs[f\"MAP@{self.k}\"]       = avg_map\n",
        "            logs[f\"ILD@{self.k}\"]      = avg_ild\n",
        "            logs[f\"Novelty@{self.k}\"]   = avg_novelty\n",
        "\n",
        "        # 8) Optionally print to console\n",
        "        if self.verbose > 0:\n",
        "            print(\n",
        "                f\" — epoch {epoch + 1:>2d}: \"\n",
        "                f\"Precision@{self.k}={avg_precision:.4f}, \"\n",
        "                f\"NDCG@{self.k}={avg_ndcg:.4f}, \"\n",
        "                f\"MAP@{self.k}={avg_map:.4f}\"\n",
        "                f\"ILD@{self.k}={avg_ild:.4f}\"\n",
        "                f\"Novelty@{self.k}={avg_novelty:.4f}\"\n",
        "            )\n"
      ],
      "metadata": {
        "id": "KnGH_CgFyMHK"
      },
      "execution_count": 23,
      "outputs": []
    },
    {
      "cell_type": "code",
      "source": [
        "import tensorflow as tf\n",
        "\n",
        "class MultiKRankingCallback(tf.keras.callbacks.Callback):\n",
        "    def __init__(self, train_pos, test_pos, num_items, Ks=[5,10,20], verbose=1):\n",
        "        \"\"\"\n",
        "        train_pos: dict[u_idx] -> set of item indices the user interacted with in training\n",
        "        test_pos: dict[u_idx] -> set of item indices for ground-truth test positives\n",
        "        num_items: total number of distinct items\n",
        "        k: cutoff for precision@k, NDCG@k, MAP@k\n",
        "        verbose: 0 or 1 (whether to print results)\n",
        "        \"\"\"\n",
        "        super().__init__()\n",
        "        self.train_pos = train_pos\n",
        "        self.test_pos = test_pos\n",
        "        self.num_items = num_items\n",
        "        self.Ks = Ks\n",
        "        self.verbose = verbose\n",
        "\n",
        "        # Precompute for speed: a full array of all item indices\n",
        "        self.all_items_arr = np.arange(num_items, dtype=np.int32)\n",
        "\n",
        "    def on_epoch_end(self, epoch, logs=None):\n",
        "        \"\"\"\n",
        "        At the end of each epoch, compute average Precision@k, NDCG@k, MAP@k over all users\n",
        "        in test_pos. Adds metrics to logs dictionary and prints them.\n",
        "        \"\"\"\n",
        "        precision_list = []\n",
        "        ndcg_list = []\n",
        "        ap_list = []\n",
        "        ilds = []\n",
        "        novelties = []\n",
        "\n",
        "        metrics = {K: {\"prec\":[], \"ndcg\":[], \"map\":[],\"ild\":[], \"nov\":[]} for K in self.Ks}\n",
        "\n",
        "        # For each user in test_pos:\n",
        "        for u_idx, true_set in self.test_pos.items():\n",
        "            if not true_set:\n",
        "                continue\n",
        "\n",
        "            # 1) Build candidate items = all_items \\ train_pos[u]\n",
        "            train_set = self.train_pos.get(u_idx, set())\n",
        "            # Boolean mask for candidates:\n",
        "            if len(train_set) == 0:\n",
        "                candidates = self.all_items_arr\n",
        "            else:\n",
        "                mask = np.ones(self.num_items, dtype=bool)\n",
        "                mask[list(train_set)] = False\n",
        "                candidates = self.all_items_arr[mask]\n",
        "\n",
        "            # 2) Build user and item batches for prediction\n",
        "            u_batch = np.full(shape=(candidates.shape[0],), fill_value=u_idx, dtype=np.int32)\n",
        "            i_batch = candidates\n",
        "\n",
        "            # 3) Get scores from the model\n",
        "            #    Note: model.predict(...) can be batched inside (it handles large arrays)\n",
        "            scores = self.model.predict([u_batch, i_batch], batch_size=2048, verbose=0).flatten()\n",
        "\n",
        "            for K in self.Ks:\n",
        "                # 4) Get top-k items by descending score\n",
        "                topk_indices = np.argpartition(-scores, K - 1)[:K]\n",
        "                # `argpartition` is O(n), then we sort those k for final ranking:\n",
        "                topk_scores = scores[topk_indices]\n",
        "                topk_items = candidates[topk_indices][np.argsort(-topk_scores)]\n",
        "\n",
        "                # 5) Compute metrics for this user\n",
        "                p_at_k = precision_at_k(topk_items, true_set, K)\n",
        "                ndcg_k = ndcg_at_k(topk_items, true_set, K)\n",
        "                ap_k = average_precision_at_k(topk_items, true_set, K)\n",
        "\n",
        "                ild_k = ild_at_k(topk_items, bert_embeddings, K)\n",
        "                novelty_k = novelty_popularity(topk_items, pop_counter, max_pop, K)\n",
        "\n",
        "                m = metrics[K]\n",
        "                m[\"prec\"].append(p_at_k)\n",
        "                m[\"ndcg\"].append(ndcg_k)\n",
        "                m[\"map\"].append(ap_k)\n",
        "                m[\"ild\"].append(ild_k)\n",
        "                m[\"nov\"].append(novelty_k)\n",
        "\n",
        "        # 6) Average across all users and log so Keras will record them\n",
        "        for K in self.Ks:\n",
        "            m = metrics[K]\n",
        "            logs[f\"Precision@{K}\"] = float(np.mean(m[\"prec\"])) if m[\"prec\"] else 0.0\n",
        "            logs[f\"NDCG@{K}\"]      = float(np.mean(m[\"ndcg\"])) if m[\"ndcg\"] else 0.0\n",
        "            logs[f\"MAP@{K}\"]       = float(np.mean(m[\"map\"])) if m[\"map\"] else 0.0\n",
        "            logs[f\"ILD@{K}\"]      = float(np.mean(m[\"ild\"])) if m[\"ild\"] else 0.0\n",
        "            logs[f\"Novelty@{K}\"]   = float(np.mean(m[\"nov\"])) if m[\"nov\"] else 0.0\n",
        "\n",
        "        # 8) Optionally print to console\n",
        "        if self.verbose > 0:\n",
        "            line = f\" — epoch {epoch + 1}: \"\n",
        "            for K in self.Ks:\n",
        "                m = metrics[K]\n",
        "                line += (\n",
        "                    f\"  P@{K}={logs[f'Precision@{K}']:.3f},\"\n",
        "                    f\" NDCG@{K}={logs[f'NDCG@{K}']:.3f},\"\n",
        "                    f\" MAP@{K}={logs[f'MAP@{K}']:.3f},\"\n",
        "                    f\" ILD@{K}={logs[f'ILD@{K}']:.3f},\"\n",
        "                    f\" Nov@{K}={logs[f'Novelty@{K}']:.3f};\"\n",
        "                )\n",
        "            print(line)\n"
      ],
      "metadata": {
        "id": "xWjzNX3n0Ce9"
      },
      "execution_count": 24,
      "outputs": []
    },
    {
      "cell_type": "markdown",
      "source": [
        "# Vanilla NCF (Keras)\n"
      ],
      "metadata": {
        "id": "LOm6qixhe25Z"
      }
    },
    {
      "cell_type": "code",
      "source": [
        "from tensorflow.keras.layers import Input, Embedding, Flatten, Multiply, Concatenate, Dense, Dropout\n",
        "from tensorflow.keras.models import Model\n",
        "from tensorflow.keras import mixed_precision\n",
        "mixed_precision.set_global_policy(\"mixed_float16\")\n",
        "\n",
        "# 1) Reduced hyperparameters\n",
        "K_mf  = 16\n",
        "K_mlp = 32\n",
        "mlp_layers = [32, 16]\n",
        "dropout_rate = 0.2\n",
        "\n",
        "# 2) Define inputs\n",
        "user_in = Input(shape=(), dtype=tf.int32, name=\"user_input\")\n",
        "item_in = Input(shape=(), dtype=tf.int32, name=\"item_input\")\n",
        "\n",
        "# 3) GMF branch\n",
        "u_mf = Embedding(num_users, K_mf, name=\"u_embed_mf\")(user_in)\n",
        "i_mf = Embedding(num_items, K_mf, name=\"i_embed_mf\")(item_in)\n",
        "u_latent_mf = Flatten()(u_mf)\n",
        "i_latent_mf = Flatten()(i_mf)\n",
        "mf_vec = Multiply()([u_latent_mf, i_latent_mf])  # (batch, K_mf)\n",
        "\n",
        "# 4) MLP branch (smaller dims)\n",
        "u_mlp_emb = Embedding(num_users, K_mlp, name=\"u_embed_mlp\")(user_in)\n",
        "i_mlp_emb = Embedding(num_items, K_mlp, name=\"i_embed_mlp\")(item_in)\n",
        "u_latent_mlp = Flatten()(u_mlp_emb)\n",
        "i_latent_mlp = Flatten()(i_mlp_emb)\n",
        "\n",
        "mlp_vec = Concatenate()([u_latent_mlp, i_latent_mlp])  # (batch, 2*K_mlp)\n",
        "for idx, size in enumerate(mlp_layers):\n",
        "    mlp_vec = Dense(units=size, activation=\"relu\", name=f\"mlp_dense_{idx}\")(mlp_vec)\n",
        "    mlp_vec = Dropout(dropout_rate)(mlp_vec)\n",
        "\n",
        "# 5) Combine GMF + MLP\n",
        "concat = Concatenate()([mf_vec, mlp_vec])\n",
        "output = Dense(units=1, activation=\"sigmoid\", name=\"prediction\")(concat)\n",
        "\n",
        "model_vanilla = Model(inputs=[user_in, item_in], outputs=output)\n",
        "model_vanilla.compile(\n",
        "    optimizer=tf.keras.optimizers.Adam(1e-3),\n",
        "    loss=\"binary_crossentropy\",\n",
        "    metrics=[tf.keras.metrics.AUC(name=\"auc\")]\n",
        ")\n",
        "model_vanilla.summary()\n"
      ],
      "metadata": {
        "colab": {
          "base_uri": "https://localhost:8080/",
          "height": 901
        },
        "id": "Ki_aLz-3fUNq",
        "outputId": "6ead3117-880e-4cc0-fe64-3333a52f9ba1"
      },
      "execution_count": 25,
      "outputs": [
        {
          "output_type": "display_data",
          "data": {
            "text/plain": [
              "\u001b[1mModel: \"functional\"\u001b[0m\n"
            ],
            "text/html": [
              "<pre style=\"white-space:pre;overflow-x:auto;line-height:normal;font-family:Menlo,'DejaVu Sans Mono',consolas,'Courier New',monospace\"><span style=\"font-weight: bold\">Model: \"functional\"</span>\n",
              "</pre>\n"
            ]
          },
          "metadata": {}
        },
        {
          "output_type": "display_data",
          "data": {
            "text/plain": [
              "┏━━━━━━━━━━━━━━━━━━━━━┳━━━━━━━━━━━━━━━━━━━┳━━━━━━━━━━━━┳━━━━━━━━━━━━━━━━━━━┓\n",
              "┃\u001b[1m \u001b[0m\u001b[1mLayer (type)       \u001b[0m\u001b[1m \u001b[0m┃\u001b[1m \u001b[0m\u001b[1mOutput Shape     \u001b[0m\u001b[1m \u001b[0m┃\u001b[1m \u001b[0m\u001b[1m   Param #\u001b[0m\u001b[1m \u001b[0m┃\u001b[1m \u001b[0m\u001b[1mConnected to     \u001b[0m\u001b[1m \u001b[0m┃\n",
              "┡━━━━━━━━━━━━━━━━━━━━━╇━━━━━━━━━━━━━━━━━━━╇━━━━━━━━━━━━╇━━━━━━━━━━━━━━━━━━━┩\n",
              "│ user_input          │ (\u001b[38;5;45mNone\u001b[0m)            │          \u001b[38;5;34m0\u001b[0m │ -                 │\n",
              "│ (\u001b[38;5;33mInputLayer\u001b[0m)        │                   │            │                   │\n",
              "├─────────────────────┼───────────────────┼────────────┼───────────────────┤\n",
              "│ item_input          │ (\u001b[38;5;45mNone\u001b[0m)            │          \u001b[38;5;34m0\u001b[0m │ -                 │\n",
              "│ (\u001b[38;5;33mInputLayer\u001b[0m)        │                   │            │                   │\n",
              "├─────────────────────┼───────────────────┼────────────┼───────────────────┤\n",
              "│ u_embed_mlp         │ (\u001b[38;5;45mNone\u001b[0m, \u001b[38;5;34m32\u001b[0m)        │  \u001b[38;5;34m1,690,272\u001b[0m │ user_input[\u001b[38;5;34m0\u001b[0m][\u001b[38;5;34m0\u001b[0m]  │\n",
              "│ (\u001b[38;5;33mEmbedding\u001b[0m)         │                   │            │                   │\n",
              "├─────────────────────┼───────────────────┼────────────┼───────────────────┤\n",
              "│ i_embed_mlp         │ (\u001b[38;5;45mNone\u001b[0m, \u001b[38;5;34m32\u001b[0m)        │    \u001b[38;5;34m137,184\u001b[0m │ item_input[\u001b[38;5;34m0\u001b[0m][\u001b[38;5;34m0\u001b[0m]  │\n",
              "│ (\u001b[38;5;33mEmbedding\u001b[0m)         │                   │            │                   │\n",
              "├─────────────────────┼───────────────────┼────────────┼───────────────────┤\n",
              "│ flatten_2 (\u001b[38;5;33mFlatten\u001b[0m) │ (\u001b[38;5;45mNone\u001b[0m, \u001b[38;5;34m32\u001b[0m)        │          \u001b[38;5;34m0\u001b[0m │ u_embed_mlp[\u001b[38;5;34m0\u001b[0m][\u001b[38;5;34m0\u001b[0m] │\n",
              "├─────────────────────┼───────────────────┼────────────┼───────────────────┤\n",
              "│ flatten_3 (\u001b[38;5;33mFlatten\u001b[0m) │ (\u001b[38;5;45mNone\u001b[0m, \u001b[38;5;34m32\u001b[0m)        │          \u001b[38;5;34m0\u001b[0m │ i_embed_mlp[\u001b[38;5;34m0\u001b[0m][\u001b[38;5;34m0\u001b[0m] │\n",
              "├─────────────────────┼───────────────────┼────────────┼───────────────────┤\n",
              "│ concatenate         │ (\u001b[38;5;45mNone\u001b[0m, \u001b[38;5;34m64\u001b[0m)        │          \u001b[38;5;34m0\u001b[0m │ flatten_2[\u001b[38;5;34m0\u001b[0m][\u001b[38;5;34m0\u001b[0m],  │\n",
              "│ (\u001b[38;5;33mConcatenate\u001b[0m)       │                   │            │ flatten_3[\u001b[38;5;34m0\u001b[0m][\u001b[38;5;34m0\u001b[0m]   │\n",
              "├─────────────────────┼───────────────────┼────────────┼───────────────────┤\n",
              "│ mlp_dense_0 (\u001b[38;5;33mDense\u001b[0m) │ (\u001b[38;5;45mNone\u001b[0m, \u001b[38;5;34m32\u001b[0m)        │      \u001b[38;5;34m2,080\u001b[0m │ concatenate[\u001b[38;5;34m0\u001b[0m][\u001b[38;5;34m0\u001b[0m] │\n",
              "├─────────────────────┼───────────────────┼────────────┼───────────────────┤\n",
              "│ u_embed_mf          │ (\u001b[38;5;45mNone\u001b[0m, \u001b[38;5;34m16\u001b[0m)        │    \u001b[38;5;34m845,136\u001b[0m │ user_input[\u001b[38;5;34m0\u001b[0m][\u001b[38;5;34m0\u001b[0m]  │\n",
              "│ (\u001b[38;5;33mEmbedding\u001b[0m)         │                   │            │                   │\n",
              "├─────────────────────┼───────────────────┼────────────┼───────────────────┤\n",
              "│ i_embed_mf          │ (\u001b[38;5;45mNone\u001b[0m, \u001b[38;5;34m16\u001b[0m)        │     \u001b[38;5;34m68,592\u001b[0m │ item_input[\u001b[38;5;34m0\u001b[0m][\u001b[38;5;34m0\u001b[0m]  │\n",
              "│ (\u001b[38;5;33mEmbedding\u001b[0m)         │                   │            │                   │\n",
              "├─────────────────────┼───────────────────┼────────────┼───────────────────┤\n",
              "│ dropout (\u001b[38;5;33mDropout\u001b[0m)   │ (\u001b[38;5;45mNone\u001b[0m, \u001b[38;5;34m32\u001b[0m)        │          \u001b[38;5;34m0\u001b[0m │ mlp_dense_0[\u001b[38;5;34m0\u001b[0m][\u001b[38;5;34m0\u001b[0m] │\n",
              "├─────────────────────┼───────────────────┼────────────┼───────────────────┤\n",
              "│ flatten (\u001b[38;5;33mFlatten\u001b[0m)   │ (\u001b[38;5;45mNone\u001b[0m, \u001b[38;5;34m16\u001b[0m)        │          \u001b[38;5;34m0\u001b[0m │ u_embed_mf[\u001b[38;5;34m0\u001b[0m][\u001b[38;5;34m0\u001b[0m]  │\n",
              "├─────────────────────┼───────────────────┼────────────┼───────────────────┤\n",
              "│ flatten_1 (\u001b[38;5;33mFlatten\u001b[0m) │ (\u001b[38;5;45mNone\u001b[0m, \u001b[38;5;34m16\u001b[0m)        │          \u001b[38;5;34m0\u001b[0m │ i_embed_mf[\u001b[38;5;34m0\u001b[0m][\u001b[38;5;34m0\u001b[0m]  │\n",
              "├─────────────────────┼───────────────────┼────────────┼───────────────────┤\n",
              "│ mlp_dense_1 (\u001b[38;5;33mDense\u001b[0m) │ (\u001b[38;5;45mNone\u001b[0m, \u001b[38;5;34m16\u001b[0m)        │        \u001b[38;5;34m528\u001b[0m │ dropout[\u001b[38;5;34m0\u001b[0m][\u001b[38;5;34m0\u001b[0m]     │\n",
              "├─────────────────────┼───────────────────┼────────────┼───────────────────┤\n",
              "│ multiply (\u001b[38;5;33mMultiply\u001b[0m) │ (\u001b[38;5;45mNone\u001b[0m, \u001b[38;5;34m16\u001b[0m)        │          \u001b[38;5;34m0\u001b[0m │ flatten[\u001b[38;5;34m0\u001b[0m][\u001b[38;5;34m0\u001b[0m],    │\n",
              "│                     │                   │            │ flatten_1[\u001b[38;5;34m0\u001b[0m][\u001b[38;5;34m0\u001b[0m]   │\n",
              "├─────────────────────┼───────────────────┼────────────┼───────────────────┤\n",
              "│ dropout_1 (\u001b[38;5;33mDropout\u001b[0m) │ (\u001b[38;5;45mNone\u001b[0m, \u001b[38;5;34m16\u001b[0m)        │          \u001b[38;5;34m0\u001b[0m │ mlp_dense_1[\u001b[38;5;34m0\u001b[0m][\u001b[38;5;34m0\u001b[0m] │\n",
              "├─────────────────────┼───────────────────┼────────────┼───────────────────┤\n",
              "│ concatenate_1       │ (\u001b[38;5;45mNone\u001b[0m, \u001b[38;5;34m32\u001b[0m)        │          \u001b[38;5;34m0\u001b[0m │ multiply[\u001b[38;5;34m0\u001b[0m][\u001b[38;5;34m0\u001b[0m],   │\n",
              "│ (\u001b[38;5;33mConcatenate\u001b[0m)       │                   │            │ dropout_1[\u001b[38;5;34m0\u001b[0m][\u001b[38;5;34m0\u001b[0m]   │\n",
              "├─────────────────────┼───────────────────┼────────────┼───────────────────┤\n",
              "│ prediction (\u001b[38;5;33mDense\u001b[0m)  │ (\u001b[38;5;45mNone\u001b[0m, \u001b[38;5;34m1\u001b[0m)         │         \u001b[38;5;34m33\u001b[0m │ concatenate_1[\u001b[38;5;34m0\u001b[0m]… │\n",
              "└─────────────────────┴───────────────────┴────────────┴───────────────────┘\n"
            ],
            "text/html": [
              "<pre style=\"white-space:pre;overflow-x:auto;line-height:normal;font-family:Menlo,'DejaVu Sans Mono',consolas,'Courier New',monospace\">┏━━━━━━━━━━━━━━━━━━━━━┳━━━━━━━━━━━━━━━━━━━┳━━━━━━━━━━━━┳━━━━━━━━━━━━━━━━━━━┓\n",
              "┃<span style=\"font-weight: bold\"> Layer (type)        </span>┃<span style=\"font-weight: bold\"> Output Shape      </span>┃<span style=\"font-weight: bold\">    Param # </span>┃<span style=\"font-weight: bold\"> Connected to      </span>┃\n",
              "┡━━━━━━━━━━━━━━━━━━━━━╇━━━━━━━━━━━━━━━━━━━╇━━━━━━━━━━━━╇━━━━━━━━━━━━━━━━━━━┩\n",
              "│ user_input          │ (<span style=\"color: #00d7ff; text-decoration-color: #00d7ff\">None</span>)            │          <span style=\"color: #00af00; text-decoration-color: #00af00\">0</span> │ -                 │\n",
              "│ (<span style=\"color: #0087ff; text-decoration-color: #0087ff\">InputLayer</span>)        │                   │            │                   │\n",
              "├─────────────────────┼───────────────────┼────────────┼───────────────────┤\n",
              "│ item_input          │ (<span style=\"color: #00d7ff; text-decoration-color: #00d7ff\">None</span>)            │          <span style=\"color: #00af00; text-decoration-color: #00af00\">0</span> │ -                 │\n",
              "│ (<span style=\"color: #0087ff; text-decoration-color: #0087ff\">InputLayer</span>)        │                   │            │                   │\n",
              "├─────────────────────┼───────────────────┼────────────┼───────────────────┤\n",
              "│ u_embed_mlp         │ (<span style=\"color: #00d7ff; text-decoration-color: #00d7ff\">None</span>, <span style=\"color: #00af00; text-decoration-color: #00af00\">32</span>)        │  <span style=\"color: #00af00; text-decoration-color: #00af00\">1,690,272</span> │ user_input[<span style=\"color: #00af00; text-decoration-color: #00af00\">0</span>][<span style=\"color: #00af00; text-decoration-color: #00af00\">0</span>]  │\n",
              "│ (<span style=\"color: #0087ff; text-decoration-color: #0087ff\">Embedding</span>)         │                   │            │                   │\n",
              "├─────────────────────┼───────────────────┼────────────┼───────────────────┤\n",
              "│ i_embed_mlp         │ (<span style=\"color: #00d7ff; text-decoration-color: #00d7ff\">None</span>, <span style=\"color: #00af00; text-decoration-color: #00af00\">32</span>)        │    <span style=\"color: #00af00; text-decoration-color: #00af00\">137,184</span> │ item_input[<span style=\"color: #00af00; text-decoration-color: #00af00\">0</span>][<span style=\"color: #00af00; text-decoration-color: #00af00\">0</span>]  │\n",
              "│ (<span style=\"color: #0087ff; text-decoration-color: #0087ff\">Embedding</span>)         │                   │            │                   │\n",
              "├─────────────────────┼───────────────────┼────────────┼───────────────────┤\n",
              "│ flatten_2 (<span style=\"color: #0087ff; text-decoration-color: #0087ff\">Flatten</span>) │ (<span style=\"color: #00d7ff; text-decoration-color: #00d7ff\">None</span>, <span style=\"color: #00af00; text-decoration-color: #00af00\">32</span>)        │          <span style=\"color: #00af00; text-decoration-color: #00af00\">0</span> │ u_embed_mlp[<span style=\"color: #00af00; text-decoration-color: #00af00\">0</span>][<span style=\"color: #00af00; text-decoration-color: #00af00\">0</span>] │\n",
              "├─────────────────────┼───────────────────┼────────────┼───────────────────┤\n",
              "│ flatten_3 (<span style=\"color: #0087ff; text-decoration-color: #0087ff\">Flatten</span>) │ (<span style=\"color: #00d7ff; text-decoration-color: #00d7ff\">None</span>, <span style=\"color: #00af00; text-decoration-color: #00af00\">32</span>)        │          <span style=\"color: #00af00; text-decoration-color: #00af00\">0</span> │ i_embed_mlp[<span style=\"color: #00af00; text-decoration-color: #00af00\">0</span>][<span style=\"color: #00af00; text-decoration-color: #00af00\">0</span>] │\n",
              "├─────────────────────┼───────────────────┼────────────┼───────────────────┤\n",
              "│ concatenate         │ (<span style=\"color: #00d7ff; text-decoration-color: #00d7ff\">None</span>, <span style=\"color: #00af00; text-decoration-color: #00af00\">64</span>)        │          <span style=\"color: #00af00; text-decoration-color: #00af00\">0</span> │ flatten_2[<span style=\"color: #00af00; text-decoration-color: #00af00\">0</span>][<span style=\"color: #00af00; text-decoration-color: #00af00\">0</span>],  │\n",
              "│ (<span style=\"color: #0087ff; text-decoration-color: #0087ff\">Concatenate</span>)       │                   │            │ flatten_3[<span style=\"color: #00af00; text-decoration-color: #00af00\">0</span>][<span style=\"color: #00af00; text-decoration-color: #00af00\">0</span>]   │\n",
              "├─────────────────────┼───────────────────┼────────────┼───────────────────┤\n",
              "│ mlp_dense_0 (<span style=\"color: #0087ff; text-decoration-color: #0087ff\">Dense</span>) │ (<span style=\"color: #00d7ff; text-decoration-color: #00d7ff\">None</span>, <span style=\"color: #00af00; text-decoration-color: #00af00\">32</span>)        │      <span style=\"color: #00af00; text-decoration-color: #00af00\">2,080</span> │ concatenate[<span style=\"color: #00af00; text-decoration-color: #00af00\">0</span>][<span style=\"color: #00af00; text-decoration-color: #00af00\">0</span>] │\n",
              "├─────────────────────┼───────────────────┼────────────┼───────────────────┤\n",
              "│ u_embed_mf          │ (<span style=\"color: #00d7ff; text-decoration-color: #00d7ff\">None</span>, <span style=\"color: #00af00; text-decoration-color: #00af00\">16</span>)        │    <span style=\"color: #00af00; text-decoration-color: #00af00\">845,136</span> │ user_input[<span style=\"color: #00af00; text-decoration-color: #00af00\">0</span>][<span style=\"color: #00af00; text-decoration-color: #00af00\">0</span>]  │\n",
              "│ (<span style=\"color: #0087ff; text-decoration-color: #0087ff\">Embedding</span>)         │                   │            │                   │\n",
              "├─────────────────────┼───────────────────┼────────────┼───────────────────┤\n",
              "│ i_embed_mf          │ (<span style=\"color: #00d7ff; text-decoration-color: #00d7ff\">None</span>, <span style=\"color: #00af00; text-decoration-color: #00af00\">16</span>)        │     <span style=\"color: #00af00; text-decoration-color: #00af00\">68,592</span> │ item_input[<span style=\"color: #00af00; text-decoration-color: #00af00\">0</span>][<span style=\"color: #00af00; text-decoration-color: #00af00\">0</span>]  │\n",
              "│ (<span style=\"color: #0087ff; text-decoration-color: #0087ff\">Embedding</span>)         │                   │            │                   │\n",
              "├─────────────────────┼───────────────────┼────────────┼───────────────────┤\n",
              "│ dropout (<span style=\"color: #0087ff; text-decoration-color: #0087ff\">Dropout</span>)   │ (<span style=\"color: #00d7ff; text-decoration-color: #00d7ff\">None</span>, <span style=\"color: #00af00; text-decoration-color: #00af00\">32</span>)        │          <span style=\"color: #00af00; text-decoration-color: #00af00\">0</span> │ mlp_dense_0[<span style=\"color: #00af00; text-decoration-color: #00af00\">0</span>][<span style=\"color: #00af00; text-decoration-color: #00af00\">0</span>] │\n",
              "├─────────────────────┼───────────────────┼────────────┼───────────────────┤\n",
              "│ flatten (<span style=\"color: #0087ff; text-decoration-color: #0087ff\">Flatten</span>)   │ (<span style=\"color: #00d7ff; text-decoration-color: #00d7ff\">None</span>, <span style=\"color: #00af00; text-decoration-color: #00af00\">16</span>)        │          <span style=\"color: #00af00; text-decoration-color: #00af00\">0</span> │ u_embed_mf[<span style=\"color: #00af00; text-decoration-color: #00af00\">0</span>][<span style=\"color: #00af00; text-decoration-color: #00af00\">0</span>]  │\n",
              "├─────────────────────┼───────────────────┼────────────┼───────────────────┤\n",
              "│ flatten_1 (<span style=\"color: #0087ff; text-decoration-color: #0087ff\">Flatten</span>) │ (<span style=\"color: #00d7ff; text-decoration-color: #00d7ff\">None</span>, <span style=\"color: #00af00; text-decoration-color: #00af00\">16</span>)        │          <span style=\"color: #00af00; text-decoration-color: #00af00\">0</span> │ i_embed_mf[<span style=\"color: #00af00; text-decoration-color: #00af00\">0</span>][<span style=\"color: #00af00; text-decoration-color: #00af00\">0</span>]  │\n",
              "├─────────────────────┼───────────────────┼────────────┼───────────────────┤\n",
              "│ mlp_dense_1 (<span style=\"color: #0087ff; text-decoration-color: #0087ff\">Dense</span>) │ (<span style=\"color: #00d7ff; text-decoration-color: #00d7ff\">None</span>, <span style=\"color: #00af00; text-decoration-color: #00af00\">16</span>)        │        <span style=\"color: #00af00; text-decoration-color: #00af00\">528</span> │ dropout[<span style=\"color: #00af00; text-decoration-color: #00af00\">0</span>][<span style=\"color: #00af00; text-decoration-color: #00af00\">0</span>]     │\n",
              "├─────────────────────┼───────────────────┼────────────┼───────────────────┤\n",
              "│ multiply (<span style=\"color: #0087ff; text-decoration-color: #0087ff\">Multiply</span>) │ (<span style=\"color: #00d7ff; text-decoration-color: #00d7ff\">None</span>, <span style=\"color: #00af00; text-decoration-color: #00af00\">16</span>)        │          <span style=\"color: #00af00; text-decoration-color: #00af00\">0</span> │ flatten[<span style=\"color: #00af00; text-decoration-color: #00af00\">0</span>][<span style=\"color: #00af00; text-decoration-color: #00af00\">0</span>],    │\n",
              "│                     │                   │            │ flatten_1[<span style=\"color: #00af00; text-decoration-color: #00af00\">0</span>][<span style=\"color: #00af00; text-decoration-color: #00af00\">0</span>]   │\n",
              "├─────────────────────┼───────────────────┼────────────┼───────────────────┤\n",
              "│ dropout_1 (<span style=\"color: #0087ff; text-decoration-color: #0087ff\">Dropout</span>) │ (<span style=\"color: #00d7ff; text-decoration-color: #00d7ff\">None</span>, <span style=\"color: #00af00; text-decoration-color: #00af00\">16</span>)        │          <span style=\"color: #00af00; text-decoration-color: #00af00\">0</span> │ mlp_dense_1[<span style=\"color: #00af00; text-decoration-color: #00af00\">0</span>][<span style=\"color: #00af00; text-decoration-color: #00af00\">0</span>] │\n",
              "├─────────────────────┼───────────────────┼────────────┼───────────────────┤\n",
              "│ concatenate_1       │ (<span style=\"color: #00d7ff; text-decoration-color: #00d7ff\">None</span>, <span style=\"color: #00af00; text-decoration-color: #00af00\">32</span>)        │          <span style=\"color: #00af00; text-decoration-color: #00af00\">0</span> │ multiply[<span style=\"color: #00af00; text-decoration-color: #00af00\">0</span>][<span style=\"color: #00af00; text-decoration-color: #00af00\">0</span>],   │\n",
              "│ (<span style=\"color: #0087ff; text-decoration-color: #0087ff\">Concatenate</span>)       │                   │            │ dropout_1[<span style=\"color: #00af00; text-decoration-color: #00af00\">0</span>][<span style=\"color: #00af00; text-decoration-color: #00af00\">0</span>]   │\n",
              "├─────────────────────┼───────────────────┼────────────┼───────────────────┤\n",
              "│ prediction (<span style=\"color: #0087ff; text-decoration-color: #0087ff\">Dense</span>)  │ (<span style=\"color: #00d7ff; text-decoration-color: #00d7ff\">None</span>, <span style=\"color: #00af00; text-decoration-color: #00af00\">1</span>)         │         <span style=\"color: #00af00; text-decoration-color: #00af00\">33</span> │ concatenate_1[<span style=\"color: #00af00; text-decoration-color: #00af00\">0</span>]… │\n",
              "└─────────────────────┴───────────────────┴────────────┴───────────────────┘\n",
              "</pre>\n"
            ]
          },
          "metadata": {}
        },
        {
          "output_type": "display_data",
          "data": {
            "text/plain": [
              "\u001b[1m Total params: \u001b[0m\u001b[38;5;34m2,743,825\u001b[0m (10.47 MB)\n"
            ],
            "text/html": [
              "<pre style=\"white-space:pre;overflow-x:auto;line-height:normal;font-family:Menlo,'DejaVu Sans Mono',consolas,'Courier New',monospace\"><span style=\"font-weight: bold\"> Total params: </span><span style=\"color: #00af00; text-decoration-color: #00af00\">2,743,825</span> (10.47 MB)\n",
              "</pre>\n"
            ]
          },
          "metadata": {}
        },
        {
          "output_type": "display_data",
          "data": {
            "text/plain": [
              "\u001b[1m Trainable params: \u001b[0m\u001b[38;5;34m2,743,825\u001b[0m (10.47 MB)\n"
            ],
            "text/html": [
              "<pre style=\"white-space:pre;overflow-x:auto;line-height:normal;font-family:Menlo,'DejaVu Sans Mono',consolas,'Courier New',monospace\"><span style=\"font-weight: bold\"> Trainable params: </span><span style=\"color: #00af00; text-decoration-color: #00af00\">2,743,825</span> (10.47 MB)\n",
              "</pre>\n"
            ]
          },
          "metadata": {}
        },
        {
          "output_type": "display_data",
          "data": {
            "text/plain": [
              "\u001b[1m Non-trainable params: \u001b[0m\u001b[38;5;34m0\u001b[0m (0.00 B)\n"
            ],
            "text/html": [
              "<pre style=\"white-space:pre;overflow-x:auto;line-height:normal;font-family:Menlo,'DejaVu Sans Mono',consolas,'Courier New',monospace\"><span style=\"font-weight: bold\"> Non-trainable params: </span><span style=\"color: #00af00; text-decoration-color: #00af00\">0</span> (0.00 B)\n",
              "</pre>\n"
            ]
          },
          "metadata": {}
        }
      ]
    },
    {
      "cell_type": "markdown",
      "source": [
        "Before training, prepare callback for metrics"
      ],
      "metadata": {
        "id": "sFxycFKeyi7u"
      }
    },
    {
      "cell_type": "code",
      "source": [
        "ks = [5, 10, 20]\n",
        "rank_cb = MultiKRankingCallback(\n",
        "    train_pos=train_pos,      # user → set of train-positive items\n",
        "    test_pos=test_pos,        # user → set of test-positive items\n",
        "    num_items=num_items,      # total number of distinct items (4287)\n",
        "    Ks=ks,                     # compute Precision@10, NDCG@10, MAP@10\n",
        "    verbose=1                 # set to 1 to print metrics each epoch\n",
        ")"
      ],
      "metadata": {
        "id": "pRoHx0pvyigI"
      },
      "execution_count": 26,
      "outputs": []
    },
    {
      "cell_type": "markdown",
      "source": [
        "Train on tf.data.Dataset\n"
      ],
      "metadata": {
        "id": "sMQ1uEOphYst"
      }
    },
    {
      "cell_type": "code",
      "source": [
        "batch_size = 4096  # increase if your GPU/Colab can handle it (maybe 4096)\n",
        "buffer_size = 100_000\n",
        "\n",
        "# 1) Build a Dataset from your three 1D NumPy arrays\n",
        "#    Each element is (u_idx, i_idx, label).\n",
        "train_ds = tf.data.Dataset.from_tensor_slices((user_input, item_input, labels))\n",
        "\n",
        "# 2) Shuffle → batch → prefetch.  Drop remainder so each batch is exactly `batch_size`.\n",
        "train_ds = (\n",
        "    train_ds\n",
        "    .shuffle(buffer_size, seed=42)\n",
        "    .batch(batch_size, drop_remainder=True)\n",
        "    .map(lambda u, i, y: ((u, i), y), num_parallel_calls=tf.data.AUTOTUNE)\n",
        "    .prefetch(tf.data.AUTOTUNE)\n",
        ")\n",
        "\n",
        "# 3) Do the same for validation (but typically you skip shuffle for val):\n",
        "val_ds = tf.data.Dataset.from_tensor_slices(\n",
        "    (user_input_test, item_input_test, labels_test)\n",
        ")\n",
        "val_ds = (\n",
        "    val_ds\n",
        "    .batch(batch_size, drop_remainder=False)\n",
        "    .map(lambda u, i, y: ((u, i), y), num_parallel_calls=tf.data.AUTOTUNE)\n",
        "    .prefetch(tf.data.AUTOTUNE)\n",
        ")\n",
        "\n",
        "# 4) Now call .fit on the Datasets:\n",
        "history_vanilla = model_vanilla.fit(\n",
        "    train_ds,\n",
        "    epochs=5,\n",
        "    validation_data=val_ds,\n",
        "    callbacks=[rank_cb],\n",
        "    shuffle=False  # we already shuffled in the Dataset pipeline\n",
        ")\n"
      ],
      "metadata": {
        "colab": {
          "base_uri": "https://localhost:8080/"
        },
        "id": "bqAlblr1r7sO",
        "outputId": "6de6c6c8-a272-453d-8a3e-8f047e698f70"
      },
      "execution_count": 27,
      "outputs": [
        {
          "output_type": "stream",
          "name": "stdout",
          "text": [
            "Epoch 1/5\n",
            "\u001b[1m2456/2456\u001b[0m \u001b[32m━━━━━━━━━━━━━━━━━━━━\u001b[0m\u001b[37m\u001b[0m \u001b[1m0s\u001b[0m 64ms/step - auc: 0.8330 - loss: 0.4623 — epoch 1:   P@5=0.116, NDCG@5=0.126, MAP@5=0.070, ILD@5=0.313, Nov@5=0.512;  P@10=0.093, NDCG@10=0.108, MAP@10=0.045, ILD@10=0.308, Nov@10=0.569;  P@20=0.083, NDCG@20=0.147, MAP@20=0.057, ILD@20=0.302, Nov@20=0.643;\n",
            "\u001b[1m2456/2456\u001b[0m \u001b[32m━━━━━━━━━━━━━━━━━━━━\u001b[0m\u001b[37m\u001b[0m \u001b[1m173s\u001b[0m 69ms/step - auc: 0.8330 - loss: 0.4623 - val_auc: 0.9168 - val_loss: 0.3541 - Precision@5: 0.1160 - NDCG@5: 0.1260 - MAP@5: 0.0697 - ILD@5: 0.3130 - Novelty@5: 0.5115 - Precision@10: 0.0930 - NDCG@10: 0.1081 - MAP@10: 0.0448 - ILD@10: 0.3080 - Novelty@10: 0.5686 - Precision@20: 0.0825 - NDCG@20: 0.1474 - MAP@20: 0.0566 - ILD@20: 0.3019 - Novelty@20: 0.6427\n",
            "Epoch 2/5\n",
            "\u001b[1m2456/2456\u001b[0m \u001b[32m━━━━━━━━━━━━━━━━━━━━\u001b[0m\u001b[37m\u001b[0m \u001b[1m0s\u001b[0m 67ms/step - auc: 0.9140 - loss: 0.3484 — epoch 2:   P@5=0.116, NDCG@5=0.128, MAP@5=0.071, ILD@5=0.305, Nov@5=0.541;  P@10=0.113, NDCG@10=0.122, MAP@10=0.049, ILD@10=0.303, Nov@10=0.590;  P@20=0.099, NDCG@20=0.168, MAP@20=0.065, ILD@20=0.303, Nov@20=0.653;\n",
            "\u001b[1m2456/2456\u001b[0m \u001b[32m━━━━━━━━━━━━━━━━━━━━\u001b[0m\u001b[37m\u001b[0m \u001b[1m210s\u001b[0m 72ms/step - auc: 0.9140 - loss: 0.3483 - val_auc: 0.9293 - val_loss: 0.3248 - Precision@5: 0.1160 - NDCG@5: 0.1279 - MAP@5: 0.0706 - ILD@5: 0.3047 - Novelty@5: 0.5409 - Precision@10: 0.1130 - NDCG@10: 0.1220 - MAP@10: 0.0495 - ILD@10: 0.3035 - Novelty@10: 0.5904 - Precision@20: 0.0990 - NDCG@20: 0.1683 - MAP@20: 0.0654 - ILD@20: 0.3033 - Novelty@20: 0.6535\n",
            "Epoch 3/5\n",
            "\u001b[1m2455/2456\u001b[0m \u001b[32m━━━━━━━━━━━━━━━━━━━\u001b[0m\u001b[37m━\u001b[0m \u001b[1m0s\u001b[0m 67ms/step - auc: 0.9398 - loss: 0.2948 — epoch 3:   P@5=0.130, NDCG@5=0.138, MAP@5=0.079, ILD@5=0.306, Nov@5=0.561;  P@10=0.120, NDCG@10=0.129, MAP@10=0.054, ILD@10=0.304, Nov@10=0.605;  P@20=0.099, NDCG@20=0.173, MAP@20=0.068, ILD@20=0.304, Nov@20=0.658;\n",
            "\u001b[1m2456/2456\u001b[0m \u001b[32m━━━━━━━━━━━━━━━━━━━━\u001b[0m\u001b[37m\u001b[0m \u001b[1m176s\u001b[0m 72ms/step - auc: 0.9398 - loss: 0.2948 - val_auc: 0.9304 - val_loss: 0.3226 - Precision@5: 0.1300 - NDCG@5: 0.1381 - MAP@5: 0.0787 - ILD@5: 0.3060 - Novelty@5: 0.5606 - Precision@10: 0.1200 - NDCG@10: 0.1291 - MAP@10: 0.0541 - ILD@10: 0.3043 - Novelty@10: 0.6047 - Precision@20: 0.0990 - NDCG@20: 0.1729 - MAP@20: 0.0684 - ILD@20: 0.3040 - Novelty@20: 0.6581\n",
            "Epoch 4/5\n",
            "\u001b[1m2455/2456\u001b[0m \u001b[32m━━━━━━━━━━━━━━━━━━━\u001b[0m\u001b[37m━\u001b[0m \u001b[1m0s\u001b[0m 67ms/step - auc: 0.9505 - loss: 0.2682 — epoch 4:   P@5=0.136, NDCG@5=0.150, MAP@5=0.085, ILD@5=0.306, Nov@5=0.597;  P@10=0.118, NDCG@10=0.133, MAP@10=0.056, ILD@10=0.303, Nov@10=0.624;  P@20=0.107, NDCG@20=0.185, MAP@20=0.074, ILD@20=0.306, Nov@20=0.666;\n",
            "\u001b[1m2456/2456\u001b[0m \u001b[32m━━━━━━━━━━━━━━━━━━━━\u001b[0m\u001b[37m\u001b[0m \u001b[1m178s\u001b[0m 72ms/step - auc: 0.9505 - loss: 0.2681 - val_auc: 0.9338 - val_loss: 0.3167 - Precision@5: 0.1360 - NDCG@5: 0.1500 - MAP@5: 0.0849 - ILD@5: 0.3057 - Novelty@5: 0.5971 - Precision@10: 0.1180 - NDCG@10: 0.1330 - MAP@10: 0.0557 - ILD@10: 0.3035 - Novelty@10: 0.6241 - Precision@20: 0.1070 - NDCG@20: 0.1852 - MAP@20: 0.0739 - ILD@20: 0.3061 - Novelty@20: 0.6660\n",
            "Epoch 5/5\n",
            "\u001b[1m2455/2456\u001b[0m \u001b[32m━━━━━━━━━━━━━━━━━━━\u001b[0m\u001b[37m━\u001b[0m \u001b[1m0s\u001b[0m 70ms/step - auc: 0.9579 - loss: 0.2474 — epoch 5:   P@5=0.132, NDCG@5=0.153, MAP@5=0.091, ILD@5=0.305, Nov@5=0.589;  P@10=0.122, NDCG@10=0.139, MAP@10=0.062, ILD@10=0.304, Nov@10=0.624;  P@20=0.106, NDCG@20=0.189, MAP@20=0.079, ILD@20=0.306, Nov@20=0.672;\n",
            "\u001b[1m2456/2456\u001b[0m \u001b[32m━━━━━━━━━━━━━━━━━━━━\u001b[0m\u001b[37m\u001b[0m \u001b[1m185s\u001b[0m 75ms/step - auc: 0.9579 - loss: 0.2474 - val_auc: 0.9345 - val_loss: 0.3224 - Precision@5: 0.1320 - NDCG@5: 0.1531 - MAP@5: 0.0913 - ILD@5: 0.3053 - Novelty@5: 0.5888 - Precision@10: 0.1220 - NDCG@10: 0.1392 - MAP@10: 0.0621 - ILD@10: 0.3041 - Novelty@10: 0.6243 - Precision@20: 0.1055 - NDCG@20: 0.1890 - MAP@20: 0.0788 - ILD@20: 0.3058 - Novelty@20: 0.6716\n"
          ]
        }
      ]
    },
    {
      "cell_type": "markdown",
      "source": [
        "# NCF + Extra Embeddings"
      ],
      "metadata": {
        "id": "3Thr9fphgw6F"
      }
    },
    {
      "cell_type": "code",
      "source": [
        "import numpy as np\n",
        "\n",
        "# Suppose bert_embeddings is a NumPy array of shape (num_items, D)\n",
        "bert_embeddings = np.load(\"goodreads_bert_embeddings.npy\")  # (num_items, D)\n",
        "num_items, D = bert_embeddings.shape\n",
        "\n",
        "# Create a Keras Embedding layer that simply returns bert_embeddings[i]\n",
        "bert_embed_layer = tf.keras.layers.Embedding(\n",
        "    input_dim=num_items,\n",
        "    output_dim=D,\n",
        "    embeddings_initializer=tf.keras.initializers.Constant(bert_embeddings),\n",
        "    trainable=False,          # freeze so weights never change\n",
        "    name=\"bert_embed_lookup\"\n",
        ")\n"
      ],
      "metadata": {
        "id": "Av4kFQ8OooQa"
      },
      "execution_count": 28,
      "outputs": []
    },
    {
      "cell_type": "code",
      "source": [
        "from tensorflow.keras.layers import Input, Embedding, Flatten, Multiply, Concatenate, Dense, Dropout\n",
        "from tensorflow.keras.models import Model\n",
        "from tensorflow.keras import mixed_precision\n",
        "\n",
        "mixed_precision.set_global_policy(\"mixed_float16\")\n",
        "\n",
        "K_mf   = 16\n",
        "K_mlp  = 32\n",
        "mlp_layers = [64, 32]   # just two hidden layers\n",
        "dropout_rate = 0.2\n",
        "\n",
        "# --- Model Definition ---\n",
        "# 1) Define just integer inputs\n",
        "user_in = Input(shape=(), dtype=tf.int32, name=\"user_input\")\n",
        "item_in = Input(shape=(), dtype=tf.int32, name=\"item_input\")\n",
        "\n",
        "# 2) GMF branch (unchanged)\n",
        "u_mf = Embedding(num_users, K_mf, name=\"u_embed_mf\")(user_in)\n",
        "i_mf = Embedding(num_items, K_mf, name=\"i_embed_mf\")(item_in)\n",
        "u_latent_mf = Flatten()(u_mf)\n",
        "i_latent_mf = Flatten()(i_mf)\n",
        "mf_vec = Multiply()([u_latent_mf, i_latent_mf])  # (batch, K_mf)\n",
        "\n",
        "# 3) MLP branch: learned user/item embeddings\n",
        "u_mlp = Embedding(num_users, K_mlp, name=\"u_embed_mlp\")(user_in)\n",
        "i_mlp = Embedding(num_items, K_mlp, name=\"i_embed_mlp\")(item_in)\n",
        "u_latent_mlp = Flatten()(u_mlp)\n",
        "i_latent_mlp = Flatten()(i_mlp)\n",
        "\n",
        "# 4) **Here is where we “lookup” BERT features** for each item index\n",
        "bert_feat = bert_embed_layer(item_in)  # shape = (batch_size, D)\n",
        "\n",
        "# 5) Concatenate (u_latent_mlp, i_latent_mlp, bert_feat)\n",
        "merged_mlp = Concatenate(name=\"mlp_input_concat\")(\n",
        "    [u_latent_mlp, i_latent_mlp, bert_feat]\n",
        ")  # shape = (batch_size, 2*K_mlp + D)\n",
        "\n",
        "# 6) Continue with your MLP layers\n",
        "x = merged_mlp\n",
        "for idx, hidden_size in enumerate(mlp_layers):\n",
        "    x = Dense(hidden_size, activation=\"relu\", name=f\"mlp_dense_{idx}\")(x)\n",
        "    x = Dropout(dropout_rate)(x)\n",
        "\n",
        "# 7) Final “fusion” with GMF part\n",
        "final_concat = Concatenate()([mf_vec, x])\n",
        "output = Dense(1, activation=\"sigmoid\", name=\"prediction\")(final_concat)\n",
        "\n",
        "model_with_feats = Model(inputs=[user_in, item_in], outputs=output)\n",
        "model_with_feats.compile(\n",
        "    optimizer=tf.keras.optimizers.Adam(1e-3),\n",
        "    loss=\"binary_crossentropy\",\n",
        "    metrics=[tf.keras.metrics.AUC(name=\"auc\")]\n",
        ")\n",
        "model_with_feats.summary()\n"
      ],
      "metadata": {
        "colab": {
          "base_uri": "https://localhost:8080/",
          "height": 969
        },
        "id": "PQFYuVtEgwfs",
        "outputId": "0160d92d-8832-4df4-b705-340e6550a998"
      },
      "execution_count": 29,
      "outputs": [
        {
          "output_type": "display_data",
          "data": {
            "text/plain": [
              "\u001b[1mModel: \"functional_1\"\u001b[0m\n"
            ],
            "text/html": [
              "<pre style=\"white-space:pre;overflow-x:auto;line-height:normal;font-family:Menlo,'DejaVu Sans Mono',consolas,'Courier New',monospace\"><span style=\"font-weight: bold\">Model: \"functional_1\"</span>\n",
              "</pre>\n"
            ]
          },
          "metadata": {}
        },
        {
          "output_type": "display_data",
          "data": {
            "text/plain": [
              "┏━━━━━━━━━━━━━━━━━━━━━┳━━━━━━━━━━━━━━━━━━━┳━━━━━━━━━━━━┳━━━━━━━━━━━━━━━━━━━┓\n",
              "┃\u001b[1m \u001b[0m\u001b[1mLayer (type)       \u001b[0m\u001b[1m \u001b[0m┃\u001b[1m \u001b[0m\u001b[1mOutput Shape     \u001b[0m\u001b[1m \u001b[0m┃\u001b[1m \u001b[0m\u001b[1m   Param #\u001b[0m\u001b[1m \u001b[0m┃\u001b[1m \u001b[0m\u001b[1mConnected to     \u001b[0m\u001b[1m \u001b[0m┃\n",
              "┡━━━━━━━━━━━━━━━━━━━━━╇━━━━━━━━━━━━━━━━━━━╇━━━━━━━━━━━━╇━━━━━━━━━━━━━━━━━━━┩\n",
              "│ user_input          │ (\u001b[38;5;45mNone\u001b[0m)            │          \u001b[38;5;34m0\u001b[0m │ -                 │\n",
              "│ (\u001b[38;5;33mInputLayer\u001b[0m)        │                   │            │                   │\n",
              "├─────────────────────┼───────────────────┼────────────┼───────────────────┤\n",
              "│ item_input          │ (\u001b[38;5;45mNone\u001b[0m)            │          \u001b[38;5;34m0\u001b[0m │ -                 │\n",
              "│ (\u001b[38;5;33mInputLayer\u001b[0m)        │                   │            │                   │\n",
              "├─────────────────────┼───────────────────┼────────────┼───────────────────┤\n",
              "│ u_embed_mlp         │ (\u001b[38;5;45mNone\u001b[0m, \u001b[38;5;34m32\u001b[0m)        │  \u001b[38;5;34m1,690,272\u001b[0m │ user_input[\u001b[38;5;34m0\u001b[0m][\u001b[38;5;34m0\u001b[0m]  │\n",
              "│ (\u001b[38;5;33mEmbedding\u001b[0m)         │                   │            │                   │\n",
              "├─────────────────────┼───────────────────┼────────────┼───────────────────┤\n",
              "│ i_embed_mlp         │ (\u001b[38;5;45mNone\u001b[0m, \u001b[38;5;34m32\u001b[0m)        │    \u001b[38;5;34m137,184\u001b[0m │ item_input[\u001b[38;5;34m0\u001b[0m][\u001b[38;5;34m0\u001b[0m]  │\n",
              "│ (\u001b[38;5;33mEmbedding\u001b[0m)         │                   │            │                   │\n",
              "├─────────────────────┼───────────────────┼────────────┼───────────────────┤\n",
              "│ flatten_6 (\u001b[38;5;33mFlatten\u001b[0m) │ (\u001b[38;5;45mNone\u001b[0m, \u001b[38;5;34m32\u001b[0m)        │          \u001b[38;5;34m0\u001b[0m │ u_embed_mlp[\u001b[38;5;34m0\u001b[0m][\u001b[38;5;34m0\u001b[0m] │\n",
              "├─────────────────────┼───────────────────┼────────────┼───────────────────┤\n",
              "│ flatten_7 (\u001b[38;5;33mFlatten\u001b[0m) │ (\u001b[38;5;45mNone\u001b[0m, \u001b[38;5;34m32\u001b[0m)        │          \u001b[38;5;34m0\u001b[0m │ i_embed_mlp[\u001b[38;5;34m0\u001b[0m][\u001b[38;5;34m0\u001b[0m] │\n",
              "├─────────────────────┼───────────────────┼────────────┼───────────────────┤\n",
              "│ bert_embed_lookup   │ (\u001b[38;5;45mNone\u001b[0m, \u001b[38;5;34m768\u001b[0m)       │  \u001b[38;5;34m3,292,416\u001b[0m │ item_input[\u001b[38;5;34m0\u001b[0m][\u001b[38;5;34m0\u001b[0m]  │\n",
              "│ (\u001b[38;5;33mEmbedding\u001b[0m)         │                   │            │                   │\n",
              "├─────────────────────┼───────────────────┼────────────┼───────────────────┤\n",
              "│ mlp_input_concat    │ (\u001b[38;5;45mNone\u001b[0m, \u001b[38;5;34m832\u001b[0m)       │          \u001b[38;5;34m0\u001b[0m │ flatten_6[\u001b[38;5;34m0\u001b[0m][\u001b[38;5;34m0\u001b[0m],  │\n",
              "│ (\u001b[38;5;33mConcatenate\u001b[0m)       │                   │            │ flatten_7[\u001b[38;5;34m0\u001b[0m][\u001b[38;5;34m0\u001b[0m],  │\n",
              "│                     │                   │            │ bert_embed_looku… │\n",
              "├─────────────────────┼───────────────────┼────────────┼───────────────────┤\n",
              "│ mlp_dense_0 (\u001b[38;5;33mDense\u001b[0m) │ (\u001b[38;5;45mNone\u001b[0m, \u001b[38;5;34m64\u001b[0m)        │     \u001b[38;5;34m53,312\u001b[0m │ mlp_input_concat… │\n",
              "├─────────────────────┼───────────────────┼────────────┼───────────────────┤\n",
              "│ u_embed_mf          │ (\u001b[38;5;45mNone\u001b[0m, \u001b[38;5;34m16\u001b[0m)        │    \u001b[38;5;34m845,136\u001b[0m │ user_input[\u001b[38;5;34m0\u001b[0m][\u001b[38;5;34m0\u001b[0m]  │\n",
              "│ (\u001b[38;5;33mEmbedding\u001b[0m)         │                   │            │                   │\n",
              "├─────────────────────┼───────────────────┼────────────┼───────────────────┤\n",
              "│ i_embed_mf          │ (\u001b[38;5;45mNone\u001b[0m, \u001b[38;5;34m16\u001b[0m)        │     \u001b[38;5;34m68,592\u001b[0m │ item_input[\u001b[38;5;34m0\u001b[0m][\u001b[38;5;34m0\u001b[0m]  │\n",
              "│ (\u001b[38;5;33mEmbedding\u001b[0m)         │                   │            │                   │\n",
              "├─────────────────────┼───────────────────┼────────────┼───────────────────┤\n",
              "│ dropout_2 (\u001b[38;5;33mDropout\u001b[0m) │ (\u001b[38;5;45mNone\u001b[0m, \u001b[38;5;34m64\u001b[0m)        │          \u001b[38;5;34m0\u001b[0m │ mlp_dense_0[\u001b[38;5;34m0\u001b[0m][\u001b[38;5;34m0\u001b[0m] │\n",
              "├─────────────────────┼───────────────────┼────────────┼───────────────────┤\n",
              "│ flatten_4 (\u001b[38;5;33mFlatten\u001b[0m) │ (\u001b[38;5;45mNone\u001b[0m, \u001b[38;5;34m16\u001b[0m)        │          \u001b[38;5;34m0\u001b[0m │ u_embed_mf[\u001b[38;5;34m0\u001b[0m][\u001b[38;5;34m0\u001b[0m]  │\n",
              "├─────────────────────┼───────────────────┼────────────┼───────────────────┤\n",
              "│ flatten_5 (\u001b[38;5;33mFlatten\u001b[0m) │ (\u001b[38;5;45mNone\u001b[0m, \u001b[38;5;34m16\u001b[0m)        │          \u001b[38;5;34m0\u001b[0m │ i_embed_mf[\u001b[38;5;34m0\u001b[0m][\u001b[38;5;34m0\u001b[0m]  │\n",
              "├─────────────────────┼───────────────────┼────────────┼───────────────────┤\n",
              "│ mlp_dense_1 (\u001b[38;5;33mDense\u001b[0m) │ (\u001b[38;5;45mNone\u001b[0m, \u001b[38;5;34m32\u001b[0m)        │      \u001b[38;5;34m2,080\u001b[0m │ dropout_2[\u001b[38;5;34m0\u001b[0m][\u001b[38;5;34m0\u001b[0m]   │\n",
              "├─────────────────────┼───────────────────┼────────────┼───────────────────┤\n",
              "│ multiply_1          │ (\u001b[38;5;45mNone\u001b[0m, \u001b[38;5;34m16\u001b[0m)        │          \u001b[38;5;34m0\u001b[0m │ flatten_4[\u001b[38;5;34m0\u001b[0m][\u001b[38;5;34m0\u001b[0m],  │\n",
              "│ (\u001b[38;5;33mMultiply\u001b[0m)          │                   │            │ flatten_5[\u001b[38;5;34m0\u001b[0m][\u001b[38;5;34m0\u001b[0m]   │\n",
              "├─────────────────────┼───────────────────┼────────────┼───────────────────┤\n",
              "│ dropout_3 (\u001b[38;5;33mDropout\u001b[0m) │ (\u001b[38;5;45mNone\u001b[0m, \u001b[38;5;34m32\u001b[0m)        │          \u001b[38;5;34m0\u001b[0m │ mlp_dense_1[\u001b[38;5;34m0\u001b[0m][\u001b[38;5;34m0\u001b[0m] │\n",
              "├─────────────────────┼───────────────────┼────────────┼───────────────────┤\n",
              "│ concatenate_2       │ (\u001b[38;5;45mNone\u001b[0m, \u001b[38;5;34m48\u001b[0m)        │          \u001b[38;5;34m0\u001b[0m │ multiply_1[\u001b[38;5;34m0\u001b[0m][\u001b[38;5;34m0\u001b[0m], │\n",
              "│ (\u001b[38;5;33mConcatenate\u001b[0m)       │                   │            │ dropout_3[\u001b[38;5;34m0\u001b[0m][\u001b[38;5;34m0\u001b[0m]   │\n",
              "├─────────────────────┼───────────────────┼────────────┼───────────────────┤\n",
              "│ prediction (\u001b[38;5;33mDense\u001b[0m)  │ (\u001b[38;5;45mNone\u001b[0m, \u001b[38;5;34m1\u001b[0m)         │         \u001b[38;5;34m49\u001b[0m │ concatenate_2[\u001b[38;5;34m0\u001b[0m]… │\n",
              "└─────────────────────┴───────────────────┴────────────┴───────────────────┘\n"
            ],
            "text/html": [
              "<pre style=\"white-space:pre;overflow-x:auto;line-height:normal;font-family:Menlo,'DejaVu Sans Mono',consolas,'Courier New',monospace\">┏━━━━━━━━━━━━━━━━━━━━━┳━━━━━━━━━━━━━━━━━━━┳━━━━━━━━━━━━┳━━━━━━━━━━━━━━━━━━━┓\n",
              "┃<span style=\"font-weight: bold\"> Layer (type)        </span>┃<span style=\"font-weight: bold\"> Output Shape      </span>┃<span style=\"font-weight: bold\">    Param # </span>┃<span style=\"font-weight: bold\"> Connected to      </span>┃\n",
              "┡━━━━━━━━━━━━━━━━━━━━━╇━━━━━━━━━━━━━━━━━━━╇━━━━━━━━━━━━╇━━━━━━━━━━━━━━━━━━━┩\n",
              "│ user_input          │ (<span style=\"color: #00d7ff; text-decoration-color: #00d7ff\">None</span>)            │          <span style=\"color: #00af00; text-decoration-color: #00af00\">0</span> │ -                 │\n",
              "│ (<span style=\"color: #0087ff; text-decoration-color: #0087ff\">InputLayer</span>)        │                   │            │                   │\n",
              "├─────────────────────┼───────────────────┼────────────┼───────────────────┤\n",
              "│ item_input          │ (<span style=\"color: #00d7ff; text-decoration-color: #00d7ff\">None</span>)            │          <span style=\"color: #00af00; text-decoration-color: #00af00\">0</span> │ -                 │\n",
              "│ (<span style=\"color: #0087ff; text-decoration-color: #0087ff\">InputLayer</span>)        │                   │            │                   │\n",
              "├─────────────────────┼───────────────────┼────────────┼───────────────────┤\n",
              "│ u_embed_mlp         │ (<span style=\"color: #00d7ff; text-decoration-color: #00d7ff\">None</span>, <span style=\"color: #00af00; text-decoration-color: #00af00\">32</span>)        │  <span style=\"color: #00af00; text-decoration-color: #00af00\">1,690,272</span> │ user_input[<span style=\"color: #00af00; text-decoration-color: #00af00\">0</span>][<span style=\"color: #00af00; text-decoration-color: #00af00\">0</span>]  │\n",
              "│ (<span style=\"color: #0087ff; text-decoration-color: #0087ff\">Embedding</span>)         │                   │            │                   │\n",
              "├─────────────────────┼───────────────────┼────────────┼───────────────────┤\n",
              "│ i_embed_mlp         │ (<span style=\"color: #00d7ff; text-decoration-color: #00d7ff\">None</span>, <span style=\"color: #00af00; text-decoration-color: #00af00\">32</span>)        │    <span style=\"color: #00af00; text-decoration-color: #00af00\">137,184</span> │ item_input[<span style=\"color: #00af00; text-decoration-color: #00af00\">0</span>][<span style=\"color: #00af00; text-decoration-color: #00af00\">0</span>]  │\n",
              "│ (<span style=\"color: #0087ff; text-decoration-color: #0087ff\">Embedding</span>)         │                   │            │                   │\n",
              "├─────────────────────┼───────────────────┼────────────┼───────────────────┤\n",
              "│ flatten_6 (<span style=\"color: #0087ff; text-decoration-color: #0087ff\">Flatten</span>) │ (<span style=\"color: #00d7ff; text-decoration-color: #00d7ff\">None</span>, <span style=\"color: #00af00; text-decoration-color: #00af00\">32</span>)        │          <span style=\"color: #00af00; text-decoration-color: #00af00\">0</span> │ u_embed_mlp[<span style=\"color: #00af00; text-decoration-color: #00af00\">0</span>][<span style=\"color: #00af00; text-decoration-color: #00af00\">0</span>] │\n",
              "├─────────────────────┼───────────────────┼────────────┼───────────────────┤\n",
              "│ flatten_7 (<span style=\"color: #0087ff; text-decoration-color: #0087ff\">Flatten</span>) │ (<span style=\"color: #00d7ff; text-decoration-color: #00d7ff\">None</span>, <span style=\"color: #00af00; text-decoration-color: #00af00\">32</span>)        │          <span style=\"color: #00af00; text-decoration-color: #00af00\">0</span> │ i_embed_mlp[<span style=\"color: #00af00; text-decoration-color: #00af00\">0</span>][<span style=\"color: #00af00; text-decoration-color: #00af00\">0</span>] │\n",
              "├─────────────────────┼───────────────────┼────────────┼───────────────────┤\n",
              "│ bert_embed_lookup   │ (<span style=\"color: #00d7ff; text-decoration-color: #00d7ff\">None</span>, <span style=\"color: #00af00; text-decoration-color: #00af00\">768</span>)       │  <span style=\"color: #00af00; text-decoration-color: #00af00\">3,292,416</span> │ item_input[<span style=\"color: #00af00; text-decoration-color: #00af00\">0</span>][<span style=\"color: #00af00; text-decoration-color: #00af00\">0</span>]  │\n",
              "│ (<span style=\"color: #0087ff; text-decoration-color: #0087ff\">Embedding</span>)         │                   │            │                   │\n",
              "├─────────────────────┼───────────────────┼────────────┼───────────────────┤\n",
              "│ mlp_input_concat    │ (<span style=\"color: #00d7ff; text-decoration-color: #00d7ff\">None</span>, <span style=\"color: #00af00; text-decoration-color: #00af00\">832</span>)       │          <span style=\"color: #00af00; text-decoration-color: #00af00\">0</span> │ flatten_6[<span style=\"color: #00af00; text-decoration-color: #00af00\">0</span>][<span style=\"color: #00af00; text-decoration-color: #00af00\">0</span>],  │\n",
              "│ (<span style=\"color: #0087ff; text-decoration-color: #0087ff\">Concatenate</span>)       │                   │            │ flatten_7[<span style=\"color: #00af00; text-decoration-color: #00af00\">0</span>][<span style=\"color: #00af00; text-decoration-color: #00af00\">0</span>],  │\n",
              "│                     │                   │            │ bert_embed_looku… │\n",
              "├─────────────────────┼───────────────────┼────────────┼───────────────────┤\n",
              "│ mlp_dense_0 (<span style=\"color: #0087ff; text-decoration-color: #0087ff\">Dense</span>) │ (<span style=\"color: #00d7ff; text-decoration-color: #00d7ff\">None</span>, <span style=\"color: #00af00; text-decoration-color: #00af00\">64</span>)        │     <span style=\"color: #00af00; text-decoration-color: #00af00\">53,312</span> │ mlp_input_concat… │\n",
              "├─────────────────────┼───────────────────┼────────────┼───────────────────┤\n",
              "│ u_embed_mf          │ (<span style=\"color: #00d7ff; text-decoration-color: #00d7ff\">None</span>, <span style=\"color: #00af00; text-decoration-color: #00af00\">16</span>)        │    <span style=\"color: #00af00; text-decoration-color: #00af00\">845,136</span> │ user_input[<span style=\"color: #00af00; text-decoration-color: #00af00\">0</span>][<span style=\"color: #00af00; text-decoration-color: #00af00\">0</span>]  │\n",
              "│ (<span style=\"color: #0087ff; text-decoration-color: #0087ff\">Embedding</span>)         │                   │            │                   │\n",
              "├─────────────────────┼───────────────────┼────────────┼───────────────────┤\n",
              "│ i_embed_mf          │ (<span style=\"color: #00d7ff; text-decoration-color: #00d7ff\">None</span>, <span style=\"color: #00af00; text-decoration-color: #00af00\">16</span>)        │     <span style=\"color: #00af00; text-decoration-color: #00af00\">68,592</span> │ item_input[<span style=\"color: #00af00; text-decoration-color: #00af00\">0</span>][<span style=\"color: #00af00; text-decoration-color: #00af00\">0</span>]  │\n",
              "│ (<span style=\"color: #0087ff; text-decoration-color: #0087ff\">Embedding</span>)         │                   │            │                   │\n",
              "├─────────────────────┼───────────────────┼────────────┼───────────────────┤\n",
              "│ dropout_2 (<span style=\"color: #0087ff; text-decoration-color: #0087ff\">Dropout</span>) │ (<span style=\"color: #00d7ff; text-decoration-color: #00d7ff\">None</span>, <span style=\"color: #00af00; text-decoration-color: #00af00\">64</span>)        │          <span style=\"color: #00af00; text-decoration-color: #00af00\">0</span> │ mlp_dense_0[<span style=\"color: #00af00; text-decoration-color: #00af00\">0</span>][<span style=\"color: #00af00; text-decoration-color: #00af00\">0</span>] │\n",
              "├─────────────────────┼───────────────────┼────────────┼───────────────────┤\n",
              "│ flatten_4 (<span style=\"color: #0087ff; text-decoration-color: #0087ff\">Flatten</span>) │ (<span style=\"color: #00d7ff; text-decoration-color: #00d7ff\">None</span>, <span style=\"color: #00af00; text-decoration-color: #00af00\">16</span>)        │          <span style=\"color: #00af00; text-decoration-color: #00af00\">0</span> │ u_embed_mf[<span style=\"color: #00af00; text-decoration-color: #00af00\">0</span>][<span style=\"color: #00af00; text-decoration-color: #00af00\">0</span>]  │\n",
              "├─────────────────────┼───────────────────┼────────────┼───────────────────┤\n",
              "│ flatten_5 (<span style=\"color: #0087ff; text-decoration-color: #0087ff\">Flatten</span>) │ (<span style=\"color: #00d7ff; text-decoration-color: #00d7ff\">None</span>, <span style=\"color: #00af00; text-decoration-color: #00af00\">16</span>)        │          <span style=\"color: #00af00; text-decoration-color: #00af00\">0</span> │ i_embed_mf[<span style=\"color: #00af00; text-decoration-color: #00af00\">0</span>][<span style=\"color: #00af00; text-decoration-color: #00af00\">0</span>]  │\n",
              "├─────────────────────┼───────────────────┼────────────┼───────────────────┤\n",
              "│ mlp_dense_1 (<span style=\"color: #0087ff; text-decoration-color: #0087ff\">Dense</span>) │ (<span style=\"color: #00d7ff; text-decoration-color: #00d7ff\">None</span>, <span style=\"color: #00af00; text-decoration-color: #00af00\">32</span>)        │      <span style=\"color: #00af00; text-decoration-color: #00af00\">2,080</span> │ dropout_2[<span style=\"color: #00af00; text-decoration-color: #00af00\">0</span>][<span style=\"color: #00af00; text-decoration-color: #00af00\">0</span>]   │\n",
              "├─────────────────────┼───────────────────┼────────────┼───────────────────┤\n",
              "│ multiply_1          │ (<span style=\"color: #00d7ff; text-decoration-color: #00d7ff\">None</span>, <span style=\"color: #00af00; text-decoration-color: #00af00\">16</span>)        │          <span style=\"color: #00af00; text-decoration-color: #00af00\">0</span> │ flatten_4[<span style=\"color: #00af00; text-decoration-color: #00af00\">0</span>][<span style=\"color: #00af00; text-decoration-color: #00af00\">0</span>],  │\n",
              "│ (<span style=\"color: #0087ff; text-decoration-color: #0087ff\">Multiply</span>)          │                   │            │ flatten_5[<span style=\"color: #00af00; text-decoration-color: #00af00\">0</span>][<span style=\"color: #00af00; text-decoration-color: #00af00\">0</span>]   │\n",
              "├─────────────────────┼───────────────────┼────────────┼───────────────────┤\n",
              "│ dropout_3 (<span style=\"color: #0087ff; text-decoration-color: #0087ff\">Dropout</span>) │ (<span style=\"color: #00d7ff; text-decoration-color: #00d7ff\">None</span>, <span style=\"color: #00af00; text-decoration-color: #00af00\">32</span>)        │          <span style=\"color: #00af00; text-decoration-color: #00af00\">0</span> │ mlp_dense_1[<span style=\"color: #00af00; text-decoration-color: #00af00\">0</span>][<span style=\"color: #00af00; text-decoration-color: #00af00\">0</span>] │\n",
              "├─────────────────────┼───────────────────┼────────────┼───────────────────┤\n",
              "│ concatenate_2       │ (<span style=\"color: #00d7ff; text-decoration-color: #00d7ff\">None</span>, <span style=\"color: #00af00; text-decoration-color: #00af00\">48</span>)        │          <span style=\"color: #00af00; text-decoration-color: #00af00\">0</span> │ multiply_1[<span style=\"color: #00af00; text-decoration-color: #00af00\">0</span>][<span style=\"color: #00af00; text-decoration-color: #00af00\">0</span>], │\n",
              "│ (<span style=\"color: #0087ff; text-decoration-color: #0087ff\">Concatenate</span>)       │                   │            │ dropout_3[<span style=\"color: #00af00; text-decoration-color: #00af00\">0</span>][<span style=\"color: #00af00; text-decoration-color: #00af00\">0</span>]   │\n",
              "├─────────────────────┼───────────────────┼────────────┼───────────────────┤\n",
              "│ prediction (<span style=\"color: #0087ff; text-decoration-color: #0087ff\">Dense</span>)  │ (<span style=\"color: #00d7ff; text-decoration-color: #00d7ff\">None</span>, <span style=\"color: #00af00; text-decoration-color: #00af00\">1</span>)         │         <span style=\"color: #00af00; text-decoration-color: #00af00\">49</span> │ concatenate_2[<span style=\"color: #00af00; text-decoration-color: #00af00\">0</span>]… │\n",
              "└─────────────────────┴───────────────────┴────────────┴───────────────────┘\n",
              "</pre>\n"
            ]
          },
          "metadata": {}
        },
        {
          "output_type": "display_data",
          "data": {
            "text/plain": [
              "\u001b[1m Total params: \u001b[0m\u001b[38;5;34m6,089,041\u001b[0m (23.23 MB)\n"
            ],
            "text/html": [
              "<pre style=\"white-space:pre;overflow-x:auto;line-height:normal;font-family:Menlo,'DejaVu Sans Mono',consolas,'Courier New',monospace\"><span style=\"font-weight: bold\"> Total params: </span><span style=\"color: #00af00; text-decoration-color: #00af00\">6,089,041</span> (23.23 MB)\n",
              "</pre>\n"
            ]
          },
          "metadata": {}
        },
        {
          "output_type": "display_data",
          "data": {
            "text/plain": [
              "\u001b[1m Trainable params: \u001b[0m\u001b[38;5;34m2,796,625\u001b[0m (10.67 MB)\n"
            ],
            "text/html": [
              "<pre style=\"white-space:pre;overflow-x:auto;line-height:normal;font-family:Menlo,'DejaVu Sans Mono',consolas,'Courier New',monospace\"><span style=\"font-weight: bold\"> Trainable params: </span><span style=\"color: #00af00; text-decoration-color: #00af00\">2,796,625</span> (10.67 MB)\n",
              "</pre>\n"
            ]
          },
          "metadata": {}
        },
        {
          "output_type": "display_data",
          "data": {
            "text/plain": [
              "\u001b[1m Non-trainable params: \u001b[0m\u001b[38;5;34m3,292,416\u001b[0m (12.56 MB)\n"
            ],
            "text/html": [
              "<pre style=\"white-space:pre;overflow-x:auto;line-height:normal;font-family:Menlo,'DejaVu Sans Mono',consolas,'Courier New',monospace\"><span style=\"font-weight: bold\"> Non-trainable params: </span><span style=\"color: #00af00; text-decoration-color: #00af00\">3,292,416</span> (12.56 MB)\n",
              "</pre>\n"
            ]
          },
          "metadata": {}
        }
      ]
    },
    {
      "cell_type": "code",
      "source": [
        "ks = [5, 10, 20]\n",
        "rank_cb = MultiKRankingCallback(\n",
        "    train_pos=train_pos,      # user → set of train-positive items\n",
        "    test_pos=test_pos,        # user → set of test-positive items\n",
        "    num_items=num_items,      # total number of distinct items (4287)\n",
        "    Ks=ks,                     # compute Precision@10, NDCG@10, MAP@10\n",
        "    verbose=1                 # set to 1 to print metrics each epoch\n",
        ")"
      ],
      "metadata": {
        "id": "rxN2PF8G_HvG"
      },
      "execution_count": 30,
      "outputs": []
    },
    {
      "cell_type": "markdown",
      "source": [
        "Train with extra embeddings"
      ],
      "metadata": {
        "id": "fN8mYBcphfEX"
      }
    },
    {
      "cell_type": "code",
      "source": [
        "batch_size = 4096  # increase if your GPU/Colab can handle it (maybe 4096)\n",
        "buffer_size = 100_000\n",
        "\n",
        "# 1) Build a Dataset from your three 1D NumPy arrays\n",
        "#    Each element is (u_idx, i_idx, label).\n",
        "train_ds = tf.data.Dataset.from_tensor_slices((user_input, item_input, labels))\n",
        "\n",
        "# 2) Shuffle → batch → prefetch.  Drop remainder so each batch is exactly `batch_size`.\n",
        "train_ds = (\n",
        "    train_ds\n",
        "    .shuffle(buffer_size, seed=42)\n",
        "    .batch(batch_size, drop_remainder=True)\n",
        "    .map(lambda u, i, y: ((u, i), y), num_parallel_calls=tf.data.AUTOTUNE)\n",
        "    .prefetch(tf.data.AUTOTUNE)\n",
        ")\n",
        "\n",
        "# 3) Do the same for validation (but typically you skip shuffle for val):\n",
        "val_ds = tf.data.Dataset.from_tensor_slices(\n",
        "    (user_input_test, item_input_test, labels_test)\n",
        ")\n",
        "val_ds = (\n",
        "    val_ds\n",
        "    .batch(batch_size, drop_remainder=False)\n",
        "    .map(lambda u, i, y: ((u, i), y), num_parallel_calls=tf.data.AUTOTUNE)\n",
        "    .prefetch(tf.data.AUTOTUNE)\n",
        ")\n",
        "\n",
        "# 4) Now call .fit on the Datasets:\n",
        "history_with_feats = model_with_feats.fit(\n",
        "    train_ds,\n",
        "    epochs=5,\n",
        "    validation_data=val_ds,\n",
        "    callbacks=[rank_cb],\n",
        "    shuffle=False  # we already shuffled in the Dataset pipeline\n",
        ")\n"
      ],
      "metadata": {
        "colab": {
          "base_uri": "https://localhost:8080/"
        },
        "id": "jtSn2rZGhh4o",
        "outputId": "ef631885-3e05-4526-b99e-e35ef6bbe61e"
      },
      "execution_count": 31,
      "outputs": [
        {
          "output_type": "stream",
          "name": "stdout",
          "text": [
            "Epoch 1/5\n",
            "\u001b[1m2456/2456\u001b[0m \u001b[32m━━━━━━━━━━━━━━━━━━━━\u001b[0m\u001b[37m\u001b[0m \u001b[1m0s\u001b[0m 118ms/step - auc: 0.8334 - loss: 0.4595 — epoch 1:   P@5=0.110, NDCG@5=0.121, MAP@5=0.067, ILD@5=0.311, Nov@5=0.497;  P@10=0.095, NDCG@10=0.108, MAP@10=0.045, ILD@10=0.304, Nov@10=0.556;  P@20=0.078, NDCG@20=0.141, MAP@20=0.054, ILD@20=0.305, Nov@20=0.620;\n",
            "\u001b[1m2456/2456\u001b[0m \u001b[32m━━━━━━━━━━━━━━━━━━━━\u001b[0m\u001b[37m\u001b[0m \u001b[1m307s\u001b[0m 124ms/step - auc: 0.8334 - loss: 0.4595 - val_auc: 0.9128 - val_loss: 0.3603 - Precision@5: 0.1100 - NDCG@5: 0.1208 - MAP@5: 0.0671 - ILD@5: 0.3107 - Novelty@5: 0.4974 - Precision@10: 0.0950 - NDCG@10: 0.1077 - MAP@10: 0.0446 - ILD@10: 0.3041 - Novelty@10: 0.5558 - Precision@20: 0.0780 - NDCG@20: 0.1411 - MAP@20: 0.0538 - ILD@20: 0.3046 - Novelty@20: 0.6202\n",
            "Epoch 2/5\n",
            "\u001b[1m2456/2456\u001b[0m \u001b[32m━━━━━━━━━━━━━━━━━━━━\u001b[0m\u001b[37m\u001b[0m \u001b[1m0s\u001b[0m 115ms/step - auc: 0.9102 - loss: 0.3552 — epoch 2:   P@5=0.098, NDCG@5=0.110, MAP@5=0.061, ILD@5=0.307, Nov@5=0.574;  P@10=0.107, NDCG@10=0.111, MAP@10=0.044, ILD@10=0.302, Nov@10=0.611;  P@20=0.099, NDCG@20=0.162, MAP@20=0.061, ILD@20=0.305, Nov@20=0.668;\n",
            "\u001b[1m2456/2456\u001b[0m \u001b[32m━━━━━━━━━━━━━━━━━━━━\u001b[0m\u001b[37m\u001b[0m \u001b[1m315s\u001b[0m 121ms/step - auc: 0.9102 - loss: 0.3552 - val_auc: 0.9246 - val_loss: 0.3334 - Precision@5: 0.0980 - NDCG@5: 0.1096 - MAP@5: 0.0611 - ILD@5: 0.3071 - Novelty@5: 0.5742 - Precision@10: 0.1070 - NDCG@10: 0.1109 - MAP@10: 0.0435 - ILD@10: 0.3022 - Novelty@10: 0.6115 - Precision@20: 0.0990 - NDCG@20: 0.1620 - MAP@20: 0.0612 - ILD@20: 0.3051 - Novelty@20: 0.6676\n",
            "Epoch 3/5\n",
            "\u001b[1m2456/2456\u001b[0m \u001b[32m━━━━━━━━━━━━━━━━━━━━\u001b[0m\u001b[37m\u001b[0m \u001b[1m0s\u001b[0m 115ms/step - auc: 0.9369 - loss: 0.3015 — epoch 3:   P@5=0.122, NDCG@5=0.136, MAP@5=0.078, ILD@5=0.303, Nov@5=0.574;  P@10=0.121, NDCG@10=0.130, MAP@10=0.053, ILD@10=0.304, Nov@10=0.605;  P@20=0.104, NDCG@20=0.178, MAP@20=0.070, ILD@20=0.305, Nov@20=0.659;\n",
            "\u001b[1m2456/2456\u001b[0m \u001b[32m━━━━━━━━━━━━━━━━━━━━\u001b[0m\u001b[37m\u001b[0m \u001b[1m297s\u001b[0m 121ms/step - auc: 0.9369 - loss: 0.3015 - val_auc: 0.9304 - val_loss: 0.3209 - Precision@5: 0.1220 - NDCG@5: 0.1361 - MAP@5: 0.0776 - ILD@5: 0.3035 - Novelty@5: 0.5743 - Precision@10: 0.1210 - NDCG@10: 0.1301 - MAP@10: 0.0530 - ILD@10: 0.3039 - Novelty@10: 0.6055 - Precision@20: 0.1040 - NDCG@20: 0.1782 - MAP@20: 0.0699 - ILD@20: 0.3045 - Novelty@20: 0.6586\n",
            "Epoch 4/5\n",
            "\u001b[1m2456/2456\u001b[0m \u001b[32m━━━━━━━━━━━━━━━━━━━━\u001b[0m\u001b[37m\u001b[0m \u001b[1m0s\u001b[0m 126ms/step - auc: 0.9487 - loss: 0.2727 — epoch 4:   P@5=0.128, NDCG@5=0.144, MAP@5=0.080, ILD@5=0.302, Nov@5=0.626;  P@10=0.121, NDCG@10=0.134, MAP@10=0.053, ILD@10=0.303, Nov@10=0.646;  P@20=0.110, NDCG@20=0.187, MAP@20=0.071, ILD@20=0.306, Nov@20=0.692;\n",
            "\u001b[1m2456/2456\u001b[0m \u001b[32m━━━━━━━━━━━━━━━━━━━━\u001b[0m\u001b[37m\u001b[0m \u001b[1m350s\u001b[0m 132ms/step - auc: 0.9487 - loss: 0.2727 - val_auc: 0.9336 - val_loss: 0.3128 - Precision@5: 0.1280 - NDCG@5: 0.1440 - MAP@5: 0.0803 - ILD@5: 0.3023 - Novelty@5: 0.6262 - Precision@10: 0.1210 - NDCG@10: 0.1340 - MAP@10: 0.0534 - ILD@10: 0.3029 - Novelty@10: 0.6457 - Precision@20: 0.1095 - NDCG@20: 0.1869 - MAP@20: 0.0710 - ILD@20: 0.3055 - Novelty@20: 0.6918\n",
            "Epoch 5/5\n",
            "\u001b[1m2456/2456\u001b[0m \u001b[32m━━━━━━━━━━━━━━━━━━━━\u001b[0m\u001b[37m\u001b[0m \u001b[1m0s\u001b[0m 120ms/step - auc: 0.9563 - loss: 0.2520 — epoch 5:   P@5=0.134, NDCG@5=0.150, MAP@5=0.084, ILD@5=0.306, Nov@5=0.629;  P@10=0.134, NDCG@10=0.143, MAP@10=0.059, ILD@10=0.310, Nov@10=0.659;  P@20=0.111, NDCG@20=0.192, MAP@20=0.075, ILD@20=0.311, Nov@20=0.690;\n",
            "\u001b[1m2456/2456\u001b[0m \u001b[32m━━━━━━━━━━━━━━━━━━━━\u001b[0m\u001b[37m\u001b[0m \u001b[1m312s\u001b[0m 127ms/step - auc: 0.9563 - loss: 0.2520 - val_auc: 0.9344 - val_loss: 0.3141 - Precision@5: 0.1340 - NDCG@5: 0.1495 - MAP@5: 0.0840 - ILD@5: 0.3062 - Novelty@5: 0.6285 - Precision@10: 0.1340 - NDCG@10: 0.1433 - MAP@10: 0.0585 - ILD@10: 0.3097 - Novelty@10: 0.6591 - Precision@20: 0.1110 - NDCG@20: 0.1924 - MAP@20: 0.0751 - ILD@20: 0.3109 - Novelty@20: 0.6897\n"
          ]
        }
      ]
    },
    {
      "cell_type": "markdown",
      "source": [
        "# NCF + ResNet images"
      ],
      "metadata": {
        "id": "fHP07jo5Nr-h"
      }
    },
    {
      "cell_type": "code",
      "source": [
        "portrait_embeddings = np.load(\"resnet_book_embeddings.npy\")  # (num_items, D)\n",
        "num_items, D2 = portrait_embeddings.shape\n",
        "\n",
        "portrait_embeddings.shape\n",
        "print(f\"num_items={num_items}, D={D2}\")\n"
      ],
      "metadata": {
        "colab": {
          "base_uri": "https://localhost:8080/"
        },
        "id": "3qZGAiP7N02i",
        "outputId": "b95edc04-0d90-4ea0-e4d5-6d58c8ae081c"
      },
      "execution_count": 34,
      "outputs": [
        {
          "output_type": "stream",
          "name": "stdout",
          "text": [
            "num_items=4287, D=2048\n"
          ]
        }
      ]
    },
    {
      "cell_type": "code",
      "source": [
        "import numpy as np\n",
        "\n",
        "# Suppose portrait_embeddings is a NumPy array of shape (num_items, D)\n",
        "portrait_embeddings = np.load(\"resnet_book_embeddings.npy\")  # (num_items, D)\n",
        "num_items, D = portrait_embeddings.shape\n",
        "\n",
        "# Create a Keras Embedding layer that simply returns bert_embeddings[i]\n",
        "resnet_embed_layer = tf.keras.layers.Embedding(\n",
        "    input_dim=num_items,\n",
        "    output_dim=D,\n",
        "    embeddings_initializer=tf.keras.initializers.Constant(portrait_embeddings),\n",
        "    trainable=False,          # freeze so weights never change\n",
        "    name=\"resnet_embed_lookup\"\n",
        ")\n"
      ],
      "metadata": {
        "id": "aZiuxInuQ6j3"
      },
      "execution_count": 35,
      "outputs": []
    },
    {
      "cell_type": "code",
      "source": [
        "from tensorflow.keras.layers import Input, Embedding, Flatten, Multiply, Concatenate, Dense, Dropout\n",
        "from tensorflow.keras.models import Model\n",
        "from tensorflow.keras import mixed_precision\n",
        "\n",
        "mixed_precision.set_global_policy(\"mixed_float16\")\n",
        "\n",
        "K_mf   = 16\n",
        "K_mlp  = 32\n",
        "mlp_layers = [64, 32]   # just two hidden layers\n",
        "dropout_rate = 0.2\n",
        "\n",
        "# --- Model Definition ---\n",
        "# 1) Define just integer inputs\n",
        "user_in = Input(shape=(), dtype=tf.int32, name=\"user_input\")\n",
        "item_in = Input(shape=(), dtype=tf.int32, name=\"item_input\")\n",
        "\n",
        "# 2) GMF branch (unchanged)\n",
        "u_mf = Embedding(num_users, K_mf, name=\"u_embed_mf\")(user_in)\n",
        "i_mf = Embedding(num_items, K_mf, name=\"i_embed_mf\")(item_in)\n",
        "u_latent_mf = Flatten()(u_mf)\n",
        "i_latent_mf = Flatten()(i_mf)\n",
        "mf_vec = Multiply()([u_latent_mf, i_latent_mf])  # (batch, K_mf)\n",
        "\n",
        "# 3) MLP branch: learned user/item embeddings\n",
        "u_mlp = Embedding(num_users, K_mlp, name=\"u_embed_mlp\")(user_in)\n",
        "i_mlp = Embedding(num_items, K_mlp, name=\"i_embed_mlp\")(item_in)\n",
        "u_latent_mlp = Flatten()(u_mlp)\n",
        "i_latent_mlp = Flatten()(i_mlp)\n",
        "\n",
        "# 4) **Here is where we “lookup” resnet features** for each item index\n",
        "resnet_feat = resnet_embed_layer(item_in)  # shape = (batch_size, D)\n",
        "\n",
        "# 5) Concatenate (u_latent_mlp, i_latent_mlp, bert_feat)\n",
        "merged_mlp = Concatenate(name=\"mlp_input_concat\")(\n",
        "    [u_latent_mlp, i_latent_mlp, resnet_feat]\n",
        ")  # shape = (batch_size, 2*K_mlp + D)\n",
        "\n",
        "# 6) Continue with your MLP layers\n",
        "x = merged_mlp\n",
        "for idx, hidden_size in enumerate(mlp_layers):\n",
        "    x = Dense(hidden_size, activation=\"relu\", name=f\"mlp_dense_{idx}\")(x)\n",
        "    x = Dropout(dropout_rate)(x)\n",
        "\n",
        "# 7) Final “fusion” with GMF part\n",
        "final_concat = Concatenate()([mf_vec, x])\n",
        "output = Dense(1, activation=\"sigmoid\", name=\"prediction\")(final_concat)\n",
        "\n",
        "model_with_feats_2 = Model(inputs=[user_in, item_in], outputs=output)\n",
        "model_with_feats_2.compile(\n",
        "    optimizer=tf.keras.optimizers.Adam(1e-3),\n",
        "    loss=\"binary_crossentropy\",\n",
        "    metrics=[tf.keras.metrics.AUC(name=\"auc\")]\n",
        ")\n",
        "model_with_feats_2.summary()\n"
      ],
      "metadata": {
        "colab": {
          "base_uri": "https://localhost:8080/",
          "height": 1000
        },
        "id": "hUaxaWPOR5Ue",
        "outputId": "31a30eac-aef9-41dd-9109-d2aa6d24f92c"
      },
      "execution_count": 36,
      "outputs": [
        {
          "output_type": "display_data",
          "data": {
            "text/plain": [
              "\u001b[1mModel: \"functional_2\"\u001b[0m\n"
            ],
            "text/html": [
              "<pre style=\"white-space:pre;overflow-x:auto;line-height:normal;font-family:Menlo,'DejaVu Sans Mono',consolas,'Courier New',monospace\"><span style=\"font-weight: bold\">Model: \"functional_2\"</span>\n",
              "</pre>\n"
            ]
          },
          "metadata": {}
        },
        {
          "output_type": "display_data",
          "data": {
            "text/plain": [
              "┏━━━━━━━━━━━━━━━━━━━━━┳━━━━━━━━━━━━━━━━━━━┳━━━━━━━━━━━━┳━━━━━━━━━━━━━━━━━━━┓\n",
              "┃\u001b[1m \u001b[0m\u001b[1mLayer (type)       \u001b[0m\u001b[1m \u001b[0m┃\u001b[1m \u001b[0m\u001b[1mOutput Shape     \u001b[0m\u001b[1m \u001b[0m┃\u001b[1m \u001b[0m\u001b[1m   Param #\u001b[0m\u001b[1m \u001b[0m┃\u001b[1m \u001b[0m\u001b[1mConnected to     \u001b[0m\u001b[1m \u001b[0m┃\n",
              "┡━━━━━━━━━━━━━━━━━━━━━╇━━━━━━━━━━━━━━━━━━━╇━━━━━━━━━━━━╇━━━━━━━━━━━━━━━━━━━┩\n",
              "│ user_input          │ (\u001b[38;5;45mNone\u001b[0m)            │          \u001b[38;5;34m0\u001b[0m │ -                 │\n",
              "│ (\u001b[38;5;33mInputLayer\u001b[0m)        │                   │            │                   │\n",
              "├─────────────────────┼───────────────────┼────────────┼───────────────────┤\n",
              "│ item_input          │ (\u001b[38;5;45mNone\u001b[0m)            │          \u001b[38;5;34m0\u001b[0m │ -                 │\n",
              "│ (\u001b[38;5;33mInputLayer\u001b[0m)        │                   │            │                   │\n",
              "├─────────────────────┼───────────────────┼────────────┼───────────────────┤\n",
              "│ u_embed_mlp         │ (\u001b[38;5;45mNone\u001b[0m, \u001b[38;5;34m32\u001b[0m)        │  \u001b[38;5;34m1,690,272\u001b[0m │ user_input[\u001b[38;5;34m0\u001b[0m][\u001b[38;5;34m0\u001b[0m]  │\n",
              "│ (\u001b[38;5;33mEmbedding\u001b[0m)         │                   │            │                   │\n",
              "├─────────────────────┼───────────────────┼────────────┼───────────────────┤\n",
              "│ i_embed_mlp         │ (\u001b[38;5;45mNone\u001b[0m, \u001b[38;5;34m32\u001b[0m)        │    \u001b[38;5;34m137,184\u001b[0m │ item_input[\u001b[38;5;34m0\u001b[0m][\u001b[38;5;34m0\u001b[0m]  │\n",
              "│ (\u001b[38;5;33mEmbedding\u001b[0m)         │                   │            │                   │\n",
              "├─────────────────────┼───────────────────┼────────────┼───────────────────┤\n",
              "│ flatten_10          │ (\u001b[38;5;45mNone\u001b[0m, \u001b[38;5;34m32\u001b[0m)        │          \u001b[38;5;34m0\u001b[0m │ u_embed_mlp[\u001b[38;5;34m0\u001b[0m][\u001b[38;5;34m0\u001b[0m] │\n",
              "│ (\u001b[38;5;33mFlatten\u001b[0m)           │                   │            │                   │\n",
              "├─────────────────────┼───────────────────┼────────────┼───────────────────┤\n",
              "│ flatten_11          │ (\u001b[38;5;45mNone\u001b[0m, \u001b[38;5;34m32\u001b[0m)        │          \u001b[38;5;34m0\u001b[0m │ i_embed_mlp[\u001b[38;5;34m0\u001b[0m][\u001b[38;5;34m0\u001b[0m] │\n",
              "│ (\u001b[38;5;33mFlatten\u001b[0m)           │                   │            │                   │\n",
              "├─────────────────────┼───────────────────┼────────────┼───────────────────┤\n",
              "│ resnet_embed_lookup │ (\u001b[38;5;45mNone\u001b[0m, \u001b[38;5;34m2048\u001b[0m)      │  \u001b[38;5;34m8,779,776\u001b[0m │ item_input[\u001b[38;5;34m0\u001b[0m][\u001b[38;5;34m0\u001b[0m]  │\n",
              "│ (\u001b[38;5;33mEmbedding\u001b[0m)         │                   │            │                   │\n",
              "├─────────────────────┼───────────────────┼────────────┼───────────────────┤\n",
              "│ mlp_input_concat    │ (\u001b[38;5;45mNone\u001b[0m, \u001b[38;5;34m2112\u001b[0m)      │          \u001b[38;5;34m0\u001b[0m │ flatten_10[\u001b[38;5;34m0\u001b[0m][\u001b[38;5;34m0\u001b[0m], │\n",
              "│ (\u001b[38;5;33mConcatenate\u001b[0m)       │                   │            │ flatten_11[\u001b[38;5;34m0\u001b[0m][\u001b[38;5;34m0\u001b[0m], │\n",
              "│                     │                   │            │ resnet_embed_loo… │\n",
              "├─────────────────────┼───────────────────┼────────────┼───────────────────┤\n",
              "│ mlp_dense_0 (\u001b[38;5;33mDense\u001b[0m) │ (\u001b[38;5;45mNone\u001b[0m, \u001b[38;5;34m64\u001b[0m)        │    \u001b[38;5;34m135,232\u001b[0m │ mlp_input_concat… │\n",
              "├─────────────────────┼───────────────────┼────────────┼───────────────────┤\n",
              "│ u_embed_mf          │ (\u001b[38;5;45mNone\u001b[0m, \u001b[38;5;34m16\u001b[0m)        │    \u001b[38;5;34m845,136\u001b[0m │ user_input[\u001b[38;5;34m0\u001b[0m][\u001b[38;5;34m0\u001b[0m]  │\n",
              "│ (\u001b[38;5;33mEmbedding\u001b[0m)         │                   │            │                   │\n",
              "├─────────────────────┼───────────────────┼────────────┼───────────────────┤\n",
              "│ i_embed_mf          │ (\u001b[38;5;45mNone\u001b[0m, \u001b[38;5;34m16\u001b[0m)        │     \u001b[38;5;34m68,592\u001b[0m │ item_input[\u001b[38;5;34m0\u001b[0m][\u001b[38;5;34m0\u001b[0m]  │\n",
              "│ (\u001b[38;5;33mEmbedding\u001b[0m)         │                   │            │                   │\n",
              "├─────────────────────┼───────────────────┼────────────┼───────────────────┤\n",
              "│ dropout_4 (\u001b[38;5;33mDropout\u001b[0m) │ (\u001b[38;5;45mNone\u001b[0m, \u001b[38;5;34m64\u001b[0m)        │          \u001b[38;5;34m0\u001b[0m │ mlp_dense_0[\u001b[38;5;34m0\u001b[0m][\u001b[38;5;34m0\u001b[0m] │\n",
              "├─────────────────────┼───────────────────┼────────────┼───────────────────┤\n",
              "│ flatten_8 (\u001b[38;5;33mFlatten\u001b[0m) │ (\u001b[38;5;45mNone\u001b[0m, \u001b[38;5;34m16\u001b[0m)        │          \u001b[38;5;34m0\u001b[0m │ u_embed_mf[\u001b[38;5;34m0\u001b[0m][\u001b[38;5;34m0\u001b[0m]  │\n",
              "├─────────────────────┼───────────────────┼────────────┼───────────────────┤\n",
              "│ flatten_9 (\u001b[38;5;33mFlatten\u001b[0m) │ (\u001b[38;5;45mNone\u001b[0m, \u001b[38;5;34m16\u001b[0m)        │          \u001b[38;5;34m0\u001b[0m │ i_embed_mf[\u001b[38;5;34m0\u001b[0m][\u001b[38;5;34m0\u001b[0m]  │\n",
              "├─────────────────────┼───────────────────┼────────────┼───────────────────┤\n",
              "│ mlp_dense_1 (\u001b[38;5;33mDense\u001b[0m) │ (\u001b[38;5;45mNone\u001b[0m, \u001b[38;5;34m32\u001b[0m)        │      \u001b[38;5;34m2,080\u001b[0m │ dropout_4[\u001b[38;5;34m0\u001b[0m][\u001b[38;5;34m0\u001b[0m]   │\n",
              "├─────────────────────┼───────────────────┼────────────┼───────────────────┤\n",
              "│ multiply_2          │ (\u001b[38;5;45mNone\u001b[0m, \u001b[38;5;34m16\u001b[0m)        │          \u001b[38;5;34m0\u001b[0m │ flatten_8[\u001b[38;5;34m0\u001b[0m][\u001b[38;5;34m0\u001b[0m],  │\n",
              "│ (\u001b[38;5;33mMultiply\u001b[0m)          │                   │            │ flatten_9[\u001b[38;5;34m0\u001b[0m][\u001b[38;5;34m0\u001b[0m]   │\n",
              "├─────────────────────┼───────────────────┼────────────┼───────────────────┤\n",
              "│ dropout_5 (\u001b[38;5;33mDropout\u001b[0m) │ (\u001b[38;5;45mNone\u001b[0m, \u001b[38;5;34m32\u001b[0m)        │          \u001b[38;5;34m0\u001b[0m │ mlp_dense_1[\u001b[38;5;34m0\u001b[0m][\u001b[38;5;34m0\u001b[0m] │\n",
              "├─────────────────────┼───────────────────┼────────────┼───────────────────┤\n",
              "│ concatenate_3       │ (\u001b[38;5;45mNone\u001b[0m, \u001b[38;5;34m48\u001b[0m)        │          \u001b[38;5;34m0\u001b[0m │ multiply_2[\u001b[38;5;34m0\u001b[0m][\u001b[38;5;34m0\u001b[0m], │\n",
              "│ (\u001b[38;5;33mConcatenate\u001b[0m)       │                   │            │ dropout_5[\u001b[38;5;34m0\u001b[0m][\u001b[38;5;34m0\u001b[0m]   │\n",
              "├─────────────────────┼───────────────────┼────────────┼───────────────────┤\n",
              "│ prediction (\u001b[38;5;33mDense\u001b[0m)  │ (\u001b[38;5;45mNone\u001b[0m, \u001b[38;5;34m1\u001b[0m)         │         \u001b[38;5;34m49\u001b[0m │ concatenate_3[\u001b[38;5;34m0\u001b[0m]… │\n",
              "└─────────────────────┴───────────────────┴────────────┴───────────────────┘\n"
            ],
            "text/html": [
              "<pre style=\"white-space:pre;overflow-x:auto;line-height:normal;font-family:Menlo,'DejaVu Sans Mono',consolas,'Courier New',monospace\">┏━━━━━━━━━━━━━━━━━━━━━┳━━━━━━━━━━━━━━━━━━━┳━━━━━━━━━━━━┳━━━━━━━━━━━━━━━━━━━┓\n",
              "┃<span style=\"font-weight: bold\"> Layer (type)        </span>┃<span style=\"font-weight: bold\"> Output Shape      </span>┃<span style=\"font-weight: bold\">    Param # </span>┃<span style=\"font-weight: bold\"> Connected to      </span>┃\n",
              "┡━━━━━━━━━━━━━━━━━━━━━╇━━━━━━━━━━━━━━━━━━━╇━━━━━━━━━━━━╇━━━━━━━━━━━━━━━━━━━┩\n",
              "│ user_input          │ (<span style=\"color: #00d7ff; text-decoration-color: #00d7ff\">None</span>)            │          <span style=\"color: #00af00; text-decoration-color: #00af00\">0</span> │ -                 │\n",
              "│ (<span style=\"color: #0087ff; text-decoration-color: #0087ff\">InputLayer</span>)        │                   │            │                   │\n",
              "├─────────────────────┼───────────────────┼────────────┼───────────────────┤\n",
              "│ item_input          │ (<span style=\"color: #00d7ff; text-decoration-color: #00d7ff\">None</span>)            │          <span style=\"color: #00af00; text-decoration-color: #00af00\">0</span> │ -                 │\n",
              "│ (<span style=\"color: #0087ff; text-decoration-color: #0087ff\">InputLayer</span>)        │                   │            │                   │\n",
              "├─────────────────────┼───────────────────┼────────────┼───────────────────┤\n",
              "│ u_embed_mlp         │ (<span style=\"color: #00d7ff; text-decoration-color: #00d7ff\">None</span>, <span style=\"color: #00af00; text-decoration-color: #00af00\">32</span>)        │  <span style=\"color: #00af00; text-decoration-color: #00af00\">1,690,272</span> │ user_input[<span style=\"color: #00af00; text-decoration-color: #00af00\">0</span>][<span style=\"color: #00af00; text-decoration-color: #00af00\">0</span>]  │\n",
              "│ (<span style=\"color: #0087ff; text-decoration-color: #0087ff\">Embedding</span>)         │                   │            │                   │\n",
              "├─────────────────────┼───────────────────┼────────────┼───────────────────┤\n",
              "│ i_embed_mlp         │ (<span style=\"color: #00d7ff; text-decoration-color: #00d7ff\">None</span>, <span style=\"color: #00af00; text-decoration-color: #00af00\">32</span>)        │    <span style=\"color: #00af00; text-decoration-color: #00af00\">137,184</span> │ item_input[<span style=\"color: #00af00; text-decoration-color: #00af00\">0</span>][<span style=\"color: #00af00; text-decoration-color: #00af00\">0</span>]  │\n",
              "│ (<span style=\"color: #0087ff; text-decoration-color: #0087ff\">Embedding</span>)         │                   │            │                   │\n",
              "├─────────────────────┼───────────────────┼────────────┼───────────────────┤\n",
              "│ flatten_10          │ (<span style=\"color: #00d7ff; text-decoration-color: #00d7ff\">None</span>, <span style=\"color: #00af00; text-decoration-color: #00af00\">32</span>)        │          <span style=\"color: #00af00; text-decoration-color: #00af00\">0</span> │ u_embed_mlp[<span style=\"color: #00af00; text-decoration-color: #00af00\">0</span>][<span style=\"color: #00af00; text-decoration-color: #00af00\">0</span>] │\n",
              "│ (<span style=\"color: #0087ff; text-decoration-color: #0087ff\">Flatten</span>)           │                   │            │                   │\n",
              "├─────────────────────┼───────────────────┼────────────┼───────────────────┤\n",
              "│ flatten_11          │ (<span style=\"color: #00d7ff; text-decoration-color: #00d7ff\">None</span>, <span style=\"color: #00af00; text-decoration-color: #00af00\">32</span>)        │          <span style=\"color: #00af00; text-decoration-color: #00af00\">0</span> │ i_embed_mlp[<span style=\"color: #00af00; text-decoration-color: #00af00\">0</span>][<span style=\"color: #00af00; text-decoration-color: #00af00\">0</span>] │\n",
              "│ (<span style=\"color: #0087ff; text-decoration-color: #0087ff\">Flatten</span>)           │                   │            │                   │\n",
              "├─────────────────────┼───────────────────┼────────────┼───────────────────┤\n",
              "│ resnet_embed_lookup │ (<span style=\"color: #00d7ff; text-decoration-color: #00d7ff\">None</span>, <span style=\"color: #00af00; text-decoration-color: #00af00\">2048</span>)      │  <span style=\"color: #00af00; text-decoration-color: #00af00\">8,779,776</span> │ item_input[<span style=\"color: #00af00; text-decoration-color: #00af00\">0</span>][<span style=\"color: #00af00; text-decoration-color: #00af00\">0</span>]  │\n",
              "│ (<span style=\"color: #0087ff; text-decoration-color: #0087ff\">Embedding</span>)         │                   │            │                   │\n",
              "├─────────────────────┼───────────────────┼────────────┼───────────────────┤\n",
              "│ mlp_input_concat    │ (<span style=\"color: #00d7ff; text-decoration-color: #00d7ff\">None</span>, <span style=\"color: #00af00; text-decoration-color: #00af00\">2112</span>)      │          <span style=\"color: #00af00; text-decoration-color: #00af00\">0</span> │ flatten_10[<span style=\"color: #00af00; text-decoration-color: #00af00\">0</span>][<span style=\"color: #00af00; text-decoration-color: #00af00\">0</span>], │\n",
              "│ (<span style=\"color: #0087ff; text-decoration-color: #0087ff\">Concatenate</span>)       │                   │            │ flatten_11[<span style=\"color: #00af00; text-decoration-color: #00af00\">0</span>][<span style=\"color: #00af00; text-decoration-color: #00af00\">0</span>], │\n",
              "│                     │                   │            │ resnet_embed_loo… │\n",
              "├─────────────────────┼───────────────────┼────────────┼───────────────────┤\n",
              "│ mlp_dense_0 (<span style=\"color: #0087ff; text-decoration-color: #0087ff\">Dense</span>) │ (<span style=\"color: #00d7ff; text-decoration-color: #00d7ff\">None</span>, <span style=\"color: #00af00; text-decoration-color: #00af00\">64</span>)        │    <span style=\"color: #00af00; text-decoration-color: #00af00\">135,232</span> │ mlp_input_concat… │\n",
              "├─────────────────────┼───────────────────┼────────────┼───────────────────┤\n",
              "│ u_embed_mf          │ (<span style=\"color: #00d7ff; text-decoration-color: #00d7ff\">None</span>, <span style=\"color: #00af00; text-decoration-color: #00af00\">16</span>)        │    <span style=\"color: #00af00; text-decoration-color: #00af00\">845,136</span> │ user_input[<span style=\"color: #00af00; text-decoration-color: #00af00\">0</span>][<span style=\"color: #00af00; text-decoration-color: #00af00\">0</span>]  │\n",
              "│ (<span style=\"color: #0087ff; text-decoration-color: #0087ff\">Embedding</span>)         │                   │            │                   │\n",
              "├─────────────────────┼───────────────────┼────────────┼───────────────────┤\n",
              "│ i_embed_mf          │ (<span style=\"color: #00d7ff; text-decoration-color: #00d7ff\">None</span>, <span style=\"color: #00af00; text-decoration-color: #00af00\">16</span>)        │     <span style=\"color: #00af00; text-decoration-color: #00af00\">68,592</span> │ item_input[<span style=\"color: #00af00; text-decoration-color: #00af00\">0</span>][<span style=\"color: #00af00; text-decoration-color: #00af00\">0</span>]  │\n",
              "│ (<span style=\"color: #0087ff; text-decoration-color: #0087ff\">Embedding</span>)         │                   │            │                   │\n",
              "├─────────────────────┼───────────────────┼────────────┼───────────────────┤\n",
              "│ dropout_4 (<span style=\"color: #0087ff; text-decoration-color: #0087ff\">Dropout</span>) │ (<span style=\"color: #00d7ff; text-decoration-color: #00d7ff\">None</span>, <span style=\"color: #00af00; text-decoration-color: #00af00\">64</span>)        │          <span style=\"color: #00af00; text-decoration-color: #00af00\">0</span> │ mlp_dense_0[<span style=\"color: #00af00; text-decoration-color: #00af00\">0</span>][<span style=\"color: #00af00; text-decoration-color: #00af00\">0</span>] │\n",
              "├─────────────────────┼───────────────────┼────────────┼───────────────────┤\n",
              "│ flatten_8 (<span style=\"color: #0087ff; text-decoration-color: #0087ff\">Flatten</span>) │ (<span style=\"color: #00d7ff; text-decoration-color: #00d7ff\">None</span>, <span style=\"color: #00af00; text-decoration-color: #00af00\">16</span>)        │          <span style=\"color: #00af00; text-decoration-color: #00af00\">0</span> │ u_embed_mf[<span style=\"color: #00af00; text-decoration-color: #00af00\">0</span>][<span style=\"color: #00af00; text-decoration-color: #00af00\">0</span>]  │\n",
              "├─────────────────────┼───────────────────┼────────────┼───────────────────┤\n",
              "│ flatten_9 (<span style=\"color: #0087ff; text-decoration-color: #0087ff\">Flatten</span>) │ (<span style=\"color: #00d7ff; text-decoration-color: #00d7ff\">None</span>, <span style=\"color: #00af00; text-decoration-color: #00af00\">16</span>)        │          <span style=\"color: #00af00; text-decoration-color: #00af00\">0</span> │ i_embed_mf[<span style=\"color: #00af00; text-decoration-color: #00af00\">0</span>][<span style=\"color: #00af00; text-decoration-color: #00af00\">0</span>]  │\n",
              "├─────────────────────┼───────────────────┼────────────┼───────────────────┤\n",
              "│ mlp_dense_1 (<span style=\"color: #0087ff; text-decoration-color: #0087ff\">Dense</span>) │ (<span style=\"color: #00d7ff; text-decoration-color: #00d7ff\">None</span>, <span style=\"color: #00af00; text-decoration-color: #00af00\">32</span>)        │      <span style=\"color: #00af00; text-decoration-color: #00af00\">2,080</span> │ dropout_4[<span style=\"color: #00af00; text-decoration-color: #00af00\">0</span>][<span style=\"color: #00af00; text-decoration-color: #00af00\">0</span>]   │\n",
              "├─────────────────────┼───────────────────┼────────────┼───────────────────┤\n",
              "│ multiply_2          │ (<span style=\"color: #00d7ff; text-decoration-color: #00d7ff\">None</span>, <span style=\"color: #00af00; text-decoration-color: #00af00\">16</span>)        │          <span style=\"color: #00af00; text-decoration-color: #00af00\">0</span> │ flatten_8[<span style=\"color: #00af00; text-decoration-color: #00af00\">0</span>][<span style=\"color: #00af00; text-decoration-color: #00af00\">0</span>],  │\n",
              "│ (<span style=\"color: #0087ff; text-decoration-color: #0087ff\">Multiply</span>)          │                   │            │ flatten_9[<span style=\"color: #00af00; text-decoration-color: #00af00\">0</span>][<span style=\"color: #00af00; text-decoration-color: #00af00\">0</span>]   │\n",
              "├─────────────────────┼───────────────────┼────────────┼───────────────────┤\n",
              "│ dropout_5 (<span style=\"color: #0087ff; text-decoration-color: #0087ff\">Dropout</span>) │ (<span style=\"color: #00d7ff; text-decoration-color: #00d7ff\">None</span>, <span style=\"color: #00af00; text-decoration-color: #00af00\">32</span>)        │          <span style=\"color: #00af00; text-decoration-color: #00af00\">0</span> │ mlp_dense_1[<span style=\"color: #00af00; text-decoration-color: #00af00\">0</span>][<span style=\"color: #00af00; text-decoration-color: #00af00\">0</span>] │\n",
              "├─────────────────────┼───────────────────┼────────────┼───────────────────┤\n",
              "│ concatenate_3       │ (<span style=\"color: #00d7ff; text-decoration-color: #00d7ff\">None</span>, <span style=\"color: #00af00; text-decoration-color: #00af00\">48</span>)        │          <span style=\"color: #00af00; text-decoration-color: #00af00\">0</span> │ multiply_2[<span style=\"color: #00af00; text-decoration-color: #00af00\">0</span>][<span style=\"color: #00af00; text-decoration-color: #00af00\">0</span>], │\n",
              "│ (<span style=\"color: #0087ff; text-decoration-color: #0087ff\">Concatenate</span>)       │                   │            │ dropout_5[<span style=\"color: #00af00; text-decoration-color: #00af00\">0</span>][<span style=\"color: #00af00; text-decoration-color: #00af00\">0</span>]   │\n",
              "├─────────────────────┼───────────────────┼────────────┼───────────────────┤\n",
              "│ prediction (<span style=\"color: #0087ff; text-decoration-color: #0087ff\">Dense</span>)  │ (<span style=\"color: #00d7ff; text-decoration-color: #00d7ff\">None</span>, <span style=\"color: #00af00; text-decoration-color: #00af00\">1</span>)         │         <span style=\"color: #00af00; text-decoration-color: #00af00\">49</span> │ concatenate_3[<span style=\"color: #00af00; text-decoration-color: #00af00\">0</span>]… │\n",
              "└─────────────────────┴───────────────────┴────────────┴───────────────────┘\n",
              "</pre>\n"
            ]
          },
          "metadata": {}
        },
        {
          "output_type": "display_data",
          "data": {
            "text/plain": [
              "\u001b[1m Total params: \u001b[0m\u001b[38;5;34m11,658,321\u001b[0m (44.47 MB)\n"
            ],
            "text/html": [
              "<pre style=\"white-space:pre;overflow-x:auto;line-height:normal;font-family:Menlo,'DejaVu Sans Mono',consolas,'Courier New',monospace\"><span style=\"font-weight: bold\"> Total params: </span><span style=\"color: #00af00; text-decoration-color: #00af00\">11,658,321</span> (44.47 MB)\n",
              "</pre>\n"
            ]
          },
          "metadata": {}
        },
        {
          "output_type": "display_data",
          "data": {
            "text/plain": [
              "\u001b[1m Trainable params: \u001b[0m\u001b[38;5;34m2,878,545\u001b[0m (10.98 MB)\n"
            ],
            "text/html": [
              "<pre style=\"white-space:pre;overflow-x:auto;line-height:normal;font-family:Menlo,'DejaVu Sans Mono',consolas,'Courier New',monospace\"><span style=\"font-weight: bold\"> Trainable params: </span><span style=\"color: #00af00; text-decoration-color: #00af00\">2,878,545</span> (10.98 MB)\n",
              "</pre>\n"
            ]
          },
          "metadata": {}
        },
        {
          "output_type": "display_data",
          "data": {
            "text/plain": [
              "\u001b[1m Non-trainable params: \u001b[0m\u001b[38;5;34m8,779,776\u001b[0m (33.49 MB)\n"
            ],
            "text/html": [
              "<pre style=\"white-space:pre;overflow-x:auto;line-height:normal;font-family:Menlo,'DejaVu Sans Mono',consolas,'Courier New',monospace\"><span style=\"font-weight: bold\"> Non-trainable params: </span><span style=\"color: #00af00; text-decoration-color: #00af00\">8,779,776</span> (33.49 MB)\n",
              "</pre>\n"
            ]
          },
          "metadata": {}
        }
      ]
    },
    {
      "cell_type": "markdown",
      "source": [
        "Training"
      ],
      "metadata": {
        "id": "BZDlkseKSdFf"
      }
    },
    {
      "cell_type": "code",
      "source": [
        "ks = [5, 10, 20]\n",
        "rank_cb = MultiKRankingCallback(\n",
        "    train_pos=train_pos,      # user → set of train-positive items\n",
        "    test_pos=test_pos,        # user → set of test-positive items\n",
        "    num_items=num_items,      # total number of distinct items (4287)\n",
        "    Ks=ks,                     # compute Precision@k, NDCG@k, MAP@k\n",
        "    verbose=1                 # set to 1 to print metrics each epoch\n",
        ")"
      ],
      "metadata": {
        "id": "9IlA1MH6SfQ9"
      },
      "execution_count": 37,
      "outputs": []
    },
    {
      "cell_type": "code",
      "source": [
        "batch_size = 4096  # increase if your GPU/Colab can handle it (maybe 4096)\n",
        "buffer_size = 100_000\n",
        "\n",
        "# 1) Build a Dataset from your three 1D NumPy arrays\n",
        "#    Each element is (u_idx, i_idx, label).\n",
        "train_ds = tf.data.Dataset.from_tensor_slices((user_input, item_input, labels))\n",
        "\n",
        "# 2) Shuffle → batch → prefetch.  Drop remainder so each batch is exactly `batch_size`.\n",
        "train_ds = (\n",
        "    train_ds\n",
        "    .shuffle(buffer_size, seed=42)\n",
        "    .batch(batch_size, drop_remainder=True)\n",
        "    .map(lambda u, i, y: ((u, i), y), num_parallel_calls=tf.data.AUTOTUNE)\n",
        "    .prefetch(tf.data.AUTOTUNE)\n",
        ")\n",
        "\n",
        "# 3) Do the same for validation (but typically you skip shuffle for val):\n",
        "val_ds = tf.data.Dataset.from_tensor_slices(\n",
        "    (user_input_test, item_input_test, labels_test)\n",
        ")\n",
        "val_ds = (\n",
        "    val_ds\n",
        "    .batch(batch_size, drop_remainder=False)\n",
        "    .map(lambda u, i, y: ((u, i), y), num_parallel_calls=tf.data.AUTOTUNE)\n",
        "    .prefetch(tf.data.AUTOTUNE)\n",
        ")\n",
        "\n",
        "# 4) Now call .fit on the Datasets:\n",
        "history_with_feats_2 = model_with_feats_2.fit(\n",
        "    train_ds,\n",
        "    epochs=5,\n",
        "    validation_data=val_ds,\n",
        "    callbacks=[rank_cb],\n",
        "    shuffle=False  # we already shuffled in the Dataset pipeline\n",
        ")\n"
      ],
      "metadata": {
        "colab": {
          "base_uri": "https://localhost:8080/"
        },
        "id": "8I5lW1tBSnhA",
        "outputId": "16d78a5a-5eae-4260-ca0c-35cba6006681"
      },
      "execution_count": 38,
      "outputs": [
        {
          "output_type": "stream",
          "name": "stdout",
          "text": [
            "Epoch 1/5\n",
            "\u001b[1m2456/2456\u001b[0m \u001b[32m━━━━━━━━━━━━━━━━━━━━\u001b[0m\u001b[37m\u001b[0m \u001b[1m0s\u001b[0m 246ms/step - auc: 0.8044 - loss: 0.4895 — epoch 1:   P@5=0.102, NDCG@5=0.112, MAP@5=0.060, ILD@5=0.314, Nov@5=0.550;  P@10=0.095, NDCG@10=0.103, MAP@10=0.040, ILD@10=0.308, Nov@10=0.596;  P@20=0.079, NDCG@20=0.139, MAP@20=0.052, ILD@20=0.305, Nov@20=0.649;\n",
            "\u001b[1m2456/2456\u001b[0m \u001b[32m━━━━━━━━━━━━━━━━━━━━\u001b[0m\u001b[37m\u001b[0m \u001b[1m628s\u001b[0m 254ms/step - auc: 0.8044 - loss: 0.4895 - val_auc: 0.9105 - val_loss: 0.3618 - Precision@5: 0.1020 - NDCG@5: 0.1122 - MAP@5: 0.0604 - ILD@5: 0.3143 - Novelty@5: 0.5500 - Precision@10: 0.0950 - NDCG@10: 0.1034 - MAP@10: 0.0400 - ILD@10: 0.3083 - Novelty@10: 0.5960 - Precision@20: 0.0790 - NDCG@20: 0.1393 - MAP@20: 0.0520 - ILD@20: 0.3050 - Novelty@20: 0.6486\n",
            "Epoch 2/5\n",
            "\u001b[1m2456/2456\u001b[0m \u001b[32m━━━━━━━━━━━━━━━━━━━━\u001b[0m\u001b[37m\u001b[0m \u001b[1m0s\u001b[0m 239ms/step - auc: 0.9054 - loss: 0.3629 — epoch 2:   P@5=0.126, NDCG@5=0.135, MAP@5=0.078, ILD@5=0.311, Nov@5=0.624;  P@10=0.105, NDCG@10=0.116, MAP@10=0.049, ILD@10=0.309, Nov@10=0.660;  P@20=0.098, NDCG@20=0.166, MAP@20=0.065, ILD@20=0.308, Nov@20=0.694;\n",
            "\u001b[1m2456/2456\u001b[0m \u001b[32m━━━━━━━━━━━━━━━━━━━━\u001b[0m\u001b[37m\u001b[0m \u001b[1m607s\u001b[0m 247ms/step - auc: 0.9054 - loss: 0.3629 - val_auc: 0.9234 - val_loss: 0.3338 - Precision@5: 0.1260 - NDCG@5: 0.1352 - MAP@5: 0.0781 - ILD@5: 0.3108 - Novelty@5: 0.6242 - Precision@10: 0.1050 - NDCG@10: 0.1164 - MAP@10: 0.0491 - ILD@10: 0.3087 - Novelty@10: 0.6595 - Precision@20: 0.0985 - NDCG@20: 0.1665 - MAP@20: 0.0649 - ILD@20: 0.3078 - Novelty@20: 0.6941\n",
            "Epoch 3/5\n",
            "\u001b[1m2456/2456\u001b[0m \u001b[32m━━━━━━━━━━━━━━━━━━━━\u001b[0m\u001b[37m\u001b[0m \u001b[1m0s\u001b[0m 234ms/step - auc: 0.9342 - loss: 0.3077 — epoch 3:   P@5=0.128, NDCG@5=0.140, MAP@5=0.079, ILD@5=0.309, Nov@5=0.658;  P@10=0.111, NDCG@10=0.123, MAP@10=0.051, ILD@10=0.309, Nov@10=0.680;  P@20=0.093, NDCG@20=0.166, MAP@20=0.065, ILD@20=0.306, Nov@20=0.712;\n",
            "\u001b[1m2456/2456\u001b[0m \u001b[32m━━━━━━━━━━━━━━━━━━━━\u001b[0m\u001b[37m\u001b[0m \u001b[1m611s\u001b[0m 242ms/step - auc: 0.9342 - loss: 0.3077 - val_auc: 0.9271 - val_loss: 0.3241 - Precision@5: 0.1280 - NDCG@5: 0.1405 - MAP@5: 0.0794 - ILD@5: 0.3093 - Novelty@5: 0.6576 - Precision@10: 0.1110 - NDCG@10: 0.1230 - MAP@10: 0.0511 - ILD@10: 0.3093 - Novelty@10: 0.6798 - Precision@20: 0.0930 - NDCG@20: 0.1656 - MAP@20: 0.0651 - ILD@20: 0.3064 - Novelty@20: 0.7123\n",
            "Epoch 4/5\n",
            "\u001b[1m2456/2456\u001b[0m \u001b[32m━━━━━━━━━━━━━━━━━━━━\u001b[0m\u001b[37m\u001b[0m \u001b[1m0s\u001b[0m 234ms/step - auc: 0.9453 - loss: 0.2815 — epoch 4:   P@5=0.114, NDCG@5=0.134, MAP@5=0.076, ILD@5=0.308, Nov@5=0.711;  P@10=0.109, NDCG@10=0.124, MAP@10=0.052, ILD@10=0.310, Nov@10=0.731;  P@20=0.095, NDCG@20=0.168, MAP@20=0.065, ILD@20=0.307, Nov@20=0.751;\n",
            "\u001b[1m2456/2456\u001b[0m \u001b[32m━━━━━━━━━━━━━━━━━━━━\u001b[0m\u001b[37m\u001b[0m \u001b[1m596s\u001b[0m 242ms/step - auc: 0.9453 - loss: 0.2815 - val_auc: 0.9289 - val_loss: 0.3199 - Precision@5: 0.1140 - NDCG@5: 0.1344 - MAP@5: 0.0763 - ILD@5: 0.3083 - Novelty@5: 0.7113 - Precision@10: 0.1090 - NDCG@10: 0.1238 - MAP@10: 0.0520 - ILD@10: 0.3100 - Novelty@10: 0.7310 - Precision@20: 0.0945 - NDCG@20: 0.1677 - MAP@20: 0.0649 - ILD@20: 0.3072 - Novelty@20: 0.7507\n",
            "Epoch 5/5\n",
            "\u001b[1m2456/2456\u001b[0m \u001b[32m━━━━━━━━━━━━━━━━━━━━\u001b[0m\u001b[37m\u001b[0m \u001b[1m0s\u001b[0m 232ms/step - auc: 0.9532 - loss: 0.2608 — epoch 5:   P@5=0.114, NDCG@5=0.129, MAP@5=0.073, ILD@5=0.310, Nov@5=0.701;  P@10=0.118, NDCG@10=0.125, MAP@10=0.052, ILD@10=0.308, Nov@10=0.723;  P@20=0.099, NDCG@20=0.172, MAP@20=0.067, ILD@20=0.309, Nov@20=0.741;\n",
            "\u001b[1m2456/2456\u001b[0m \u001b[32m━━━━━━━━━━━━━━━━━━━━\u001b[0m\u001b[37m\u001b[0m \u001b[1m591s\u001b[0m 240ms/step - auc: 0.9532 - loss: 0.2608 - val_auc: 0.9307 - val_loss: 0.3182 - Precision@5: 0.1140 - NDCG@5: 0.1290 - MAP@5: 0.0735 - ILD@5: 0.3104 - Novelty@5: 0.7012 - Precision@10: 0.1180 - NDCG@10: 0.1254 - MAP@10: 0.0522 - ILD@10: 0.3080 - Novelty@10: 0.7228 - Precision@20: 0.0990 - NDCG@20: 0.1715 - MAP@20: 0.0672 - ILD@20: 0.3089 - Novelty@20: 0.7407\n"
          ]
        }
      ]
    },
    {
      "cell_type": "markdown",
      "source": [
        "\n",
        "\n",
        "# BERT + ResNet\n",
        "\n"
      ],
      "metadata": {
        "id": "09PMath8SltF"
      }
    },
    {
      "cell_type": "code",
      "source": [
        "import tensorflow as tf\n",
        "from tensorflow.keras.layers import (\n",
        "    Input, Embedding, Flatten, Multiply,\n",
        "    Concatenate, Dense, Dropout\n",
        ")\n",
        "from tensorflow.keras.models import Model\n",
        "from tensorflow.keras import mixed_precision\n",
        "\n",
        "# 0) Optional: mixed-precision\n",
        "mixed_precision.set_global_policy(\"mixed_float16\")\n",
        "\n",
        "# 1) Hyperparameters\n",
        "K_mf       = 16\n",
        "K_mlp      = 32\n",
        "mlp_layers = [64, 32]\n",
        "dropout    = 0.2\n",
        "\n",
        "# Suppose:\n",
        "#   bert_embed_layer   = Embedding(num_items, D1,\n",
        "#                                embeddings_initializer=Constant(bert_embeddings), trainable=False)\n",
        "#   resnet_embed_layer = Embedding(num_items, D2,\n",
        "#                                embeddings_initializer=Constant(portrait_embeddings), trainable=False)\n",
        "\n",
        "# 2) Inputs\n",
        "user_in = Input(shape=(), dtype=tf.int32, name=\"user_input\")\n",
        "item_in = Input(shape=(), dtype=tf.int32, name=\"item_input\")\n",
        "\n",
        "# 3) GMF branch\n",
        "u_mf = Embedding(num_users, K_mf, name=\"u_embed_mf\")(user_in)\n",
        "i_mf = Embedding(num_items, K_mf, name=\"i_embed_mf\")(item_in)\n",
        "u_lat_mf = Flatten()(u_mf)\n",
        "i_lat_mf = Flatten()(i_mf)\n",
        "mf_vec   = Multiply()([u_lat_mf, i_lat_mf])\n",
        "\n",
        "# 4) MLP branch — learned embeddings\n",
        "u_mlp = Embedding(num_users, K_mlp, name=\"u_embed_mlp\")(user_in)\n",
        "i_mlp = Embedding(num_items, K_mlp, name=\"i_embed_mlp\")(item_in)\n",
        "u_lat_mlp = Flatten()(u_mlp)\n",
        "i_lat_mlp = Flatten()(i_mlp)\n",
        "\n",
        "# 5) Look up both feature sets\n",
        "bert_feat   = bert_embed_layer(item_in)    # shape=(batch, D1)\n",
        "resnet_feat = resnet_embed_layer(item_in)  # shape=(batch, D2)\n",
        "\n",
        "# 6) (Optional) Project each to smaller dimension, e.g. 64\n",
        "bert_proj   = Dense(64, activation=\"relu\", name=\"proj_bert\")(bert_feat)\n",
        "resnet_proj = Dense(64, activation=\"relu\", name=\"proj_resnet\")(resnet_feat)\n",
        "\n",
        "# 7) Concatenate all MLP inputs\n",
        "mlp_input = Concatenate(name=\"mlp_input\")([\n",
        "    u_lat_mlp,\n",
        "    i_lat_mlp,\n",
        "    bert_proj,\n",
        "    resnet_proj\n",
        "])  # shape = (batch, 2*K_mlp + 64 + 64)\n",
        "\n",
        "# 8) MLP layers\n",
        "x = mlp_input\n",
        "for idx, size in enumerate(mlp_layers):\n",
        "    x = Dense(size, activation=\"relu\", name=f\"mlp_dense_{idx}\")(x)\n",
        "    x = Dropout(dropout)(x)\n",
        "\n",
        "# 9) Final fusion + output\n",
        "final = Concatenate()([mf_vec, x])\n",
        "out   = Dense(1, activation=\"sigmoid\", name=\"prediction\")(final)\n",
        "\n",
        "model_both = Model(inputs=[user_in, item_in], outputs=out)\n",
        "model_both.compile(\n",
        "    optimizer=tf.keras.optimizers.Adam(1e-3),\n",
        "    loss=\"binary_crossentropy\",\n",
        "    metrics=[tf.keras.metrics.AUC(name=\"auc\")]\n",
        ")\n",
        "model_both.summary()\n"
      ],
      "metadata": {
        "colab": {
          "base_uri": "https://localhost:8080/",
          "height": 1000
        },
        "id": "B_00YLaq_pWt",
        "outputId": "f4b52649-f047-47ef-aec8-4cc29c0b6cdf"
      },
      "execution_count": 39,
      "outputs": [
        {
          "output_type": "display_data",
          "data": {
            "text/plain": [
              "\u001b[1mModel: \"functional_3\"\u001b[0m\n"
            ],
            "text/html": [
              "<pre style=\"white-space:pre;overflow-x:auto;line-height:normal;font-family:Menlo,'DejaVu Sans Mono',consolas,'Courier New',monospace\"><span style=\"font-weight: bold\">Model: \"functional_3\"</span>\n",
              "</pre>\n"
            ]
          },
          "metadata": {}
        },
        {
          "output_type": "display_data",
          "data": {
            "text/plain": [
              "┏━━━━━━━━━━━━━━━━━━━━━┳━━━━━━━━━━━━━━━━━━━┳━━━━━━━━━━━━┳━━━━━━━━━━━━━━━━━━━┓\n",
              "┃\u001b[1m \u001b[0m\u001b[1mLayer (type)       \u001b[0m\u001b[1m \u001b[0m┃\u001b[1m \u001b[0m\u001b[1mOutput Shape     \u001b[0m\u001b[1m \u001b[0m┃\u001b[1m \u001b[0m\u001b[1m   Param #\u001b[0m\u001b[1m \u001b[0m┃\u001b[1m \u001b[0m\u001b[1mConnected to     \u001b[0m\u001b[1m \u001b[0m┃\n",
              "┡━━━━━━━━━━━━━━━━━━━━━╇━━━━━━━━━━━━━━━━━━━╇━━━━━━━━━━━━╇━━━━━━━━━━━━━━━━━━━┩\n",
              "│ user_input          │ (\u001b[38;5;45mNone\u001b[0m)            │          \u001b[38;5;34m0\u001b[0m │ -                 │\n",
              "│ (\u001b[38;5;33mInputLayer\u001b[0m)        │                   │            │                   │\n",
              "├─────────────────────┼───────────────────┼────────────┼───────────────────┤\n",
              "│ item_input          │ (\u001b[38;5;45mNone\u001b[0m)            │          \u001b[38;5;34m0\u001b[0m │ -                 │\n",
              "│ (\u001b[38;5;33mInputLayer\u001b[0m)        │                   │            │                   │\n",
              "├─────────────────────┼───────────────────┼────────────┼───────────────────┤\n",
              "│ u_embed_mlp         │ (\u001b[38;5;45mNone\u001b[0m, \u001b[38;5;34m32\u001b[0m)        │  \u001b[38;5;34m1,690,272\u001b[0m │ user_input[\u001b[38;5;34m0\u001b[0m][\u001b[38;5;34m0\u001b[0m]  │\n",
              "│ (\u001b[38;5;33mEmbedding\u001b[0m)         │                   │            │                   │\n",
              "├─────────────────────┼───────────────────┼────────────┼───────────────────┤\n",
              "│ i_embed_mlp         │ (\u001b[38;5;45mNone\u001b[0m, \u001b[38;5;34m32\u001b[0m)        │    \u001b[38;5;34m137,184\u001b[0m │ item_input[\u001b[38;5;34m0\u001b[0m][\u001b[38;5;34m0\u001b[0m]  │\n",
              "│ (\u001b[38;5;33mEmbedding\u001b[0m)         │                   │            │                   │\n",
              "├─────────────────────┼───────────────────┼────────────┼───────────────────┤\n",
              "│ bert_embed_lookup   │ (\u001b[38;5;45mNone\u001b[0m, \u001b[38;5;34m768\u001b[0m)       │  \u001b[38;5;34m3,292,416\u001b[0m │ item_input[\u001b[38;5;34m0\u001b[0m][\u001b[38;5;34m0\u001b[0m]  │\n",
              "│ (\u001b[38;5;33mEmbedding\u001b[0m)         │                   │            │                   │\n",
              "├─────────────────────┼───────────────────┼────────────┼───────────────────┤\n",
              "│ resnet_embed_lookup │ (\u001b[38;5;45mNone\u001b[0m, \u001b[38;5;34m2048\u001b[0m)      │  \u001b[38;5;34m8,779,776\u001b[0m │ item_input[\u001b[38;5;34m0\u001b[0m][\u001b[38;5;34m0\u001b[0m]  │\n",
              "│ (\u001b[38;5;33mEmbedding\u001b[0m)         │                   │            │                   │\n",
              "├─────────────────────┼───────────────────┼────────────┼───────────────────┤\n",
              "│ flatten_14          │ (\u001b[38;5;45mNone\u001b[0m, \u001b[38;5;34m32\u001b[0m)        │          \u001b[38;5;34m0\u001b[0m │ u_embed_mlp[\u001b[38;5;34m0\u001b[0m][\u001b[38;5;34m0\u001b[0m] │\n",
              "│ (\u001b[38;5;33mFlatten\u001b[0m)           │                   │            │                   │\n",
              "├─────────────────────┼───────────────────┼────────────┼───────────────────┤\n",
              "│ flatten_15          │ (\u001b[38;5;45mNone\u001b[0m, \u001b[38;5;34m32\u001b[0m)        │          \u001b[38;5;34m0\u001b[0m │ i_embed_mlp[\u001b[38;5;34m0\u001b[0m][\u001b[38;5;34m0\u001b[0m] │\n",
              "│ (\u001b[38;5;33mFlatten\u001b[0m)           │                   │            │                   │\n",
              "├─────────────────────┼───────────────────┼────────────┼───────────────────┤\n",
              "│ proj_bert (\u001b[38;5;33mDense\u001b[0m)   │ (\u001b[38;5;45mNone\u001b[0m, \u001b[38;5;34m64\u001b[0m)        │     \u001b[38;5;34m49,216\u001b[0m │ bert_embed_looku… │\n",
              "├─────────────────────┼───────────────────┼────────────┼───────────────────┤\n",
              "│ proj_resnet (\u001b[38;5;33mDense\u001b[0m) │ (\u001b[38;5;45mNone\u001b[0m, \u001b[38;5;34m64\u001b[0m)        │    \u001b[38;5;34m131,136\u001b[0m │ resnet_embed_loo… │\n",
              "├─────────────────────┼───────────────────┼────────────┼───────────────────┤\n",
              "│ mlp_input           │ (\u001b[38;5;45mNone\u001b[0m, \u001b[38;5;34m192\u001b[0m)       │          \u001b[38;5;34m0\u001b[0m │ flatten_14[\u001b[38;5;34m0\u001b[0m][\u001b[38;5;34m0\u001b[0m], │\n",
              "│ (\u001b[38;5;33mConcatenate\u001b[0m)       │                   │            │ flatten_15[\u001b[38;5;34m0\u001b[0m][\u001b[38;5;34m0\u001b[0m], │\n",
              "│                     │                   │            │ proj_bert[\u001b[38;5;34m0\u001b[0m][\u001b[38;5;34m0\u001b[0m],  │\n",
              "│                     │                   │            │ proj_resnet[\u001b[38;5;34m0\u001b[0m][\u001b[38;5;34m0\u001b[0m] │\n",
              "├─────────────────────┼───────────────────┼────────────┼───────────────────┤\n",
              "│ mlp_dense_0 (\u001b[38;5;33mDense\u001b[0m) │ (\u001b[38;5;45mNone\u001b[0m, \u001b[38;5;34m64\u001b[0m)        │     \u001b[38;5;34m12,352\u001b[0m │ mlp_input[\u001b[38;5;34m0\u001b[0m][\u001b[38;5;34m0\u001b[0m]   │\n",
              "├─────────────────────┼───────────────────┼────────────┼───────────────────┤\n",
              "│ u_embed_mf          │ (\u001b[38;5;45mNone\u001b[0m, \u001b[38;5;34m16\u001b[0m)        │    \u001b[38;5;34m845,136\u001b[0m │ user_input[\u001b[38;5;34m0\u001b[0m][\u001b[38;5;34m0\u001b[0m]  │\n",
              "│ (\u001b[38;5;33mEmbedding\u001b[0m)         │                   │            │                   │\n",
              "├─────────────────────┼───────────────────┼────────────┼───────────────────┤\n",
              "│ i_embed_mf          │ (\u001b[38;5;45mNone\u001b[0m, \u001b[38;5;34m16\u001b[0m)        │     \u001b[38;5;34m68,592\u001b[0m │ item_input[\u001b[38;5;34m0\u001b[0m][\u001b[38;5;34m0\u001b[0m]  │\n",
              "│ (\u001b[38;5;33mEmbedding\u001b[0m)         │                   │            │                   │\n",
              "├─────────────────────┼───────────────────┼────────────┼───────────────────┤\n",
              "│ dropout_6 (\u001b[38;5;33mDropout\u001b[0m) │ (\u001b[38;5;45mNone\u001b[0m, \u001b[38;5;34m64\u001b[0m)        │          \u001b[38;5;34m0\u001b[0m │ mlp_dense_0[\u001b[38;5;34m0\u001b[0m][\u001b[38;5;34m0\u001b[0m] │\n",
              "├─────────────────────┼───────────────────┼────────────┼───────────────────┤\n",
              "│ flatten_12          │ (\u001b[38;5;45mNone\u001b[0m, \u001b[38;5;34m16\u001b[0m)        │          \u001b[38;5;34m0\u001b[0m │ u_embed_mf[\u001b[38;5;34m0\u001b[0m][\u001b[38;5;34m0\u001b[0m]  │\n",
              "│ (\u001b[38;5;33mFlatten\u001b[0m)           │                   │            │                   │\n",
              "├─────────────────────┼───────────────────┼────────────┼───────────────────┤\n",
              "│ flatten_13          │ (\u001b[38;5;45mNone\u001b[0m, \u001b[38;5;34m16\u001b[0m)        │          \u001b[38;5;34m0\u001b[0m │ i_embed_mf[\u001b[38;5;34m0\u001b[0m][\u001b[38;5;34m0\u001b[0m]  │\n",
              "│ (\u001b[38;5;33mFlatten\u001b[0m)           │                   │            │                   │\n",
              "├─────────────────────┼───────────────────┼────────────┼───────────────────┤\n",
              "│ mlp_dense_1 (\u001b[38;5;33mDense\u001b[0m) │ (\u001b[38;5;45mNone\u001b[0m, \u001b[38;5;34m32\u001b[0m)        │      \u001b[38;5;34m2,080\u001b[0m │ dropout_6[\u001b[38;5;34m0\u001b[0m][\u001b[38;5;34m0\u001b[0m]   │\n",
              "├─────────────────────┼───────────────────┼────────────┼───────────────────┤\n",
              "│ multiply_3          │ (\u001b[38;5;45mNone\u001b[0m, \u001b[38;5;34m16\u001b[0m)        │          \u001b[38;5;34m0\u001b[0m │ flatten_12[\u001b[38;5;34m0\u001b[0m][\u001b[38;5;34m0\u001b[0m], │\n",
              "│ (\u001b[38;5;33mMultiply\u001b[0m)          │                   │            │ flatten_13[\u001b[38;5;34m0\u001b[0m][\u001b[38;5;34m0\u001b[0m]  │\n",
              "├─────────────────────┼───────────────────┼────────────┼───────────────────┤\n",
              "│ dropout_7 (\u001b[38;5;33mDropout\u001b[0m) │ (\u001b[38;5;45mNone\u001b[0m, \u001b[38;5;34m32\u001b[0m)        │          \u001b[38;5;34m0\u001b[0m │ mlp_dense_1[\u001b[38;5;34m0\u001b[0m][\u001b[38;5;34m0\u001b[0m] │\n",
              "├─────────────────────┼───────────────────┼────────────┼───────────────────┤\n",
              "│ concatenate_4       │ (\u001b[38;5;45mNone\u001b[0m, \u001b[38;5;34m48\u001b[0m)        │          \u001b[38;5;34m0\u001b[0m │ multiply_3[\u001b[38;5;34m0\u001b[0m][\u001b[38;5;34m0\u001b[0m], │\n",
              "│ (\u001b[38;5;33mConcatenate\u001b[0m)       │                   │            │ dropout_7[\u001b[38;5;34m0\u001b[0m][\u001b[38;5;34m0\u001b[0m]   │\n",
              "├─────────────────────┼───────────────────┼────────────┼───────────────────┤\n",
              "│ prediction (\u001b[38;5;33mDense\u001b[0m)  │ (\u001b[38;5;45mNone\u001b[0m, \u001b[38;5;34m1\u001b[0m)         │         \u001b[38;5;34m49\u001b[0m │ concatenate_4[\u001b[38;5;34m0\u001b[0m]… │\n",
              "└─────────────────────┴───────────────────┴────────────┴───────────────────┘\n"
            ],
            "text/html": [
              "<pre style=\"white-space:pre;overflow-x:auto;line-height:normal;font-family:Menlo,'DejaVu Sans Mono',consolas,'Courier New',monospace\">┏━━━━━━━━━━━━━━━━━━━━━┳━━━━━━━━━━━━━━━━━━━┳━━━━━━━━━━━━┳━━━━━━━━━━━━━━━━━━━┓\n",
              "┃<span style=\"font-weight: bold\"> Layer (type)        </span>┃<span style=\"font-weight: bold\"> Output Shape      </span>┃<span style=\"font-weight: bold\">    Param # </span>┃<span style=\"font-weight: bold\"> Connected to      </span>┃\n",
              "┡━━━━━━━━━━━━━━━━━━━━━╇━━━━━━━━━━━━━━━━━━━╇━━━━━━━━━━━━╇━━━━━━━━━━━━━━━━━━━┩\n",
              "│ user_input          │ (<span style=\"color: #00d7ff; text-decoration-color: #00d7ff\">None</span>)            │          <span style=\"color: #00af00; text-decoration-color: #00af00\">0</span> │ -                 │\n",
              "│ (<span style=\"color: #0087ff; text-decoration-color: #0087ff\">InputLayer</span>)        │                   │            │                   │\n",
              "├─────────────────────┼───────────────────┼────────────┼───────────────────┤\n",
              "│ item_input          │ (<span style=\"color: #00d7ff; text-decoration-color: #00d7ff\">None</span>)            │          <span style=\"color: #00af00; text-decoration-color: #00af00\">0</span> │ -                 │\n",
              "│ (<span style=\"color: #0087ff; text-decoration-color: #0087ff\">InputLayer</span>)        │                   │            │                   │\n",
              "├─────────────────────┼───────────────────┼────────────┼───────────────────┤\n",
              "│ u_embed_mlp         │ (<span style=\"color: #00d7ff; text-decoration-color: #00d7ff\">None</span>, <span style=\"color: #00af00; text-decoration-color: #00af00\">32</span>)        │  <span style=\"color: #00af00; text-decoration-color: #00af00\">1,690,272</span> │ user_input[<span style=\"color: #00af00; text-decoration-color: #00af00\">0</span>][<span style=\"color: #00af00; text-decoration-color: #00af00\">0</span>]  │\n",
              "│ (<span style=\"color: #0087ff; text-decoration-color: #0087ff\">Embedding</span>)         │                   │            │                   │\n",
              "├─────────────────────┼───────────────────┼────────────┼───────────────────┤\n",
              "│ i_embed_mlp         │ (<span style=\"color: #00d7ff; text-decoration-color: #00d7ff\">None</span>, <span style=\"color: #00af00; text-decoration-color: #00af00\">32</span>)        │    <span style=\"color: #00af00; text-decoration-color: #00af00\">137,184</span> │ item_input[<span style=\"color: #00af00; text-decoration-color: #00af00\">0</span>][<span style=\"color: #00af00; text-decoration-color: #00af00\">0</span>]  │\n",
              "│ (<span style=\"color: #0087ff; text-decoration-color: #0087ff\">Embedding</span>)         │                   │            │                   │\n",
              "├─────────────────────┼───────────────────┼────────────┼───────────────────┤\n",
              "│ bert_embed_lookup   │ (<span style=\"color: #00d7ff; text-decoration-color: #00d7ff\">None</span>, <span style=\"color: #00af00; text-decoration-color: #00af00\">768</span>)       │  <span style=\"color: #00af00; text-decoration-color: #00af00\">3,292,416</span> │ item_input[<span style=\"color: #00af00; text-decoration-color: #00af00\">0</span>][<span style=\"color: #00af00; text-decoration-color: #00af00\">0</span>]  │\n",
              "│ (<span style=\"color: #0087ff; text-decoration-color: #0087ff\">Embedding</span>)         │                   │            │                   │\n",
              "├─────────────────────┼───────────────────┼────────────┼───────────────────┤\n",
              "│ resnet_embed_lookup │ (<span style=\"color: #00d7ff; text-decoration-color: #00d7ff\">None</span>, <span style=\"color: #00af00; text-decoration-color: #00af00\">2048</span>)      │  <span style=\"color: #00af00; text-decoration-color: #00af00\">8,779,776</span> │ item_input[<span style=\"color: #00af00; text-decoration-color: #00af00\">0</span>][<span style=\"color: #00af00; text-decoration-color: #00af00\">0</span>]  │\n",
              "│ (<span style=\"color: #0087ff; text-decoration-color: #0087ff\">Embedding</span>)         │                   │            │                   │\n",
              "├─────────────────────┼───────────────────┼────────────┼───────────────────┤\n",
              "│ flatten_14          │ (<span style=\"color: #00d7ff; text-decoration-color: #00d7ff\">None</span>, <span style=\"color: #00af00; text-decoration-color: #00af00\">32</span>)        │          <span style=\"color: #00af00; text-decoration-color: #00af00\">0</span> │ u_embed_mlp[<span style=\"color: #00af00; text-decoration-color: #00af00\">0</span>][<span style=\"color: #00af00; text-decoration-color: #00af00\">0</span>] │\n",
              "│ (<span style=\"color: #0087ff; text-decoration-color: #0087ff\">Flatten</span>)           │                   │            │                   │\n",
              "├─────────────────────┼───────────────────┼────────────┼───────────────────┤\n",
              "│ flatten_15          │ (<span style=\"color: #00d7ff; text-decoration-color: #00d7ff\">None</span>, <span style=\"color: #00af00; text-decoration-color: #00af00\">32</span>)        │          <span style=\"color: #00af00; text-decoration-color: #00af00\">0</span> │ i_embed_mlp[<span style=\"color: #00af00; text-decoration-color: #00af00\">0</span>][<span style=\"color: #00af00; text-decoration-color: #00af00\">0</span>] │\n",
              "│ (<span style=\"color: #0087ff; text-decoration-color: #0087ff\">Flatten</span>)           │                   │            │                   │\n",
              "├─────────────────────┼───────────────────┼────────────┼───────────────────┤\n",
              "│ proj_bert (<span style=\"color: #0087ff; text-decoration-color: #0087ff\">Dense</span>)   │ (<span style=\"color: #00d7ff; text-decoration-color: #00d7ff\">None</span>, <span style=\"color: #00af00; text-decoration-color: #00af00\">64</span>)        │     <span style=\"color: #00af00; text-decoration-color: #00af00\">49,216</span> │ bert_embed_looku… │\n",
              "├─────────────────────┼───────────────────┼────────────┼───────────────────┤\n",
              "│ proj_resnet (<span style=\"color: #0087ff; text-decoration-color: #0087ff\">Dense</span>) │ (<span style=\"color: #00d7ff; text-decoration-color: #00d7ff\">None</span>, <span style=\"color: #00af00; text-decoration-color: #00af00\">64</span>)        │    <span style=\"color: #00af00; text-decoration-color: #00af00\">131,136</span> │ resnet_embed_loo… │\n",
              "├─────────────────────┼───────────────────┼────────────┼───────────────────┤\n",
              "│ mlp_input           │ (<span style=\"color: #00d7ff; text-decoration-color: #00d7ff\">None</span>, <span style=\"color: #00af00; text-decoration-color: #00af00\">192</span>)       │          <span style=\"color: #00af00; text-decoration-color: #00af00\">0</span> │ flatten_14[<span style=\"color: #00af00; text-decoration-color: #00af00\">0</span>][<span style=\"color: #00af00; text-decoration-color: #00af00\">0</span>], │\n",
              "│ (<span style=\"color: #0087ff; text-decoration-color: #0087ff\">Concatenate</span>)       │                   │            │ flatten_15[<span style=\"color: #00af00; text-decoration-color: #00af00\">0</span>][<span style=\"color: #00af00; text-decoration-color: #00af00\">0</span>], │\n",
              "│                     │                   │            │ proj_bert[<span style=\"color: #00af00; text-decoration-color: #00af00\">0</span>][<span style=\"color: #00af00; text-decoration-color: #00af00\">0</span>],  │\n",
              "│                     │                   │            │ proj_resnet[<span style=\"color: #00af00; text-decoration-color: #00af00\">0</span>][<span style=\"color: #00af00; text-decoration-color: #00af00\">0</span>] │\n",
              "├─────────────────────┼───────────────────┼────────────┼───────────────────┤\n",
              "│ mlp_dense_0 (<span style=\"color: #0087ff; text-decoration-color: #0087ff\">Dense</span>) │ (<span style=\"color: #00d7ff; text-decoration-color: #00d7ff\">None</span>, <span style=\"color: #00af00; text-decoration-color: #00af00\">64</span>)        │     <span style=\"color: #00af00; text-decoration-color: #00af00\">12,352</span> │ mlp_input[<span style=\"color: #00af00; text-decoration-color: #00af00\">0</span>][<span style=\"color: #00af00; text-decoration-color: #00af00\">0</span>]   │\n",
              "├─────────────────────┼───────────────────┼────────────┼───────────────────┤\n",
              "│ u_embed_mf          │ (<span style=\"color: #00d7ff; text-decoration-color: #00d7ff\">None</span>, <span style=\"color: #00af00; text-decoration-color: #00af00\">16</span>)        │    <span style=\"color: #00af00; text-decoration-color: #00af00\">845,136</span> │ user_input[<span style=\"color: #00af00; text-decoration-color: #00af00\">0</span>][<span style=\"color: #00af00; text-decoration-color: #00af00\">0</span>]  │\n",
              "│ (<span style=\"color: #0087ff; text-decoration-color: #0087ff\">Embedding</span>)         │                   │            │                   │\n",
              "├─────────────────────┼───────────────────┼────────────┼───────────────────┤\n",
              "│ i_embed_mf          │ (<span style=\"color: #00d7ff; text-decoration-color: #00d7ff\">None</span>, <span style=\"color: #00af00; text-decoration-color: #00af00\">16</span>)        │     <span style=\"color: #00af00; text-decoration-color: #00af00\">68,592</span> │ item_input[<span style=\"color: #00af00; text-decoration-color: #00af00\">0</span>][<span style=\"color: #00af00; text-decoration-color: #00af00\">0</span>]  │\n",
              "│ (<span style=\"color: #0087ff; text-decoration-color: #0087ff\">Embedding</span>)         │                   │            │                   │\n",
              "├─────────────────────┼───────────────────┼────────────┼───────────────────┤\n",
              "│ dropout_6 (<span style=\"color: #0087ff; text-decoration-color: #0087ff\">Dropout</span>) │ (<span style=\"color: #00d7ff; text-decoration-color: #00d7ff\">None</span>, <span style=\"color: #00af00; text-decoration-color: #00af00\">64</span>)        │          <span style=\"color: #00af00; text-decoration-color: #00af00\">0</span> │ mlp_dense_0[<span style=\"color: #00af00; text-decoration-color: #00af00\">0</span>][<span style=\"color: #00af00; text-decoration-color: #00af00\">0</span>] │\n",
              "├─────────────────────┼───────────────────┼────────────┼───────────────────┤\n",
              "│ flatten_12          │ (<span style=\"color: #00d7ff; text-decoration-color: #00d7ff\">None</span>, <span style=\"color: #00af00; text-decoration-color: #00af00\">16</span>)        │          <span style=\"color: #00af00; text-decoration-color: #00af00\">0</span> │ u_embed_mf[<span style=\"color: #00af00; text-decoration-color: #00af00\">0</span>][<span style=\"color: #00af00; text-decoration-color: #00af00\">0</span>]  │\n",
              "│ (<span style=\"color: #0087ff; text-decoration-color: #0087ff\">Flatten</span>)           │                   │            │                   │\n",
              "├─────────────────────┼───────────────────┼────────────┼───────────────────┤\n",
              "│ flatten_13          │ (<span style=\"color: #00d7ff; text-decoration-color: #00d7ff\">None</span>, <span style=\"color: #00af00; text-decoration-color: #00af00\">16</span>)        │          <span style=\"color: #00af00; text-decoration-color: #00af00\">0</span> │ i_embed_mf[<span style=\"color: #00af00; text-decoration-color: #00af00\">0</span>][<span style=\"color: #00af00; text-decoration-color: #00af00\">0</span>]  │\n",
              "│ (<span style=\"color: #0087ff; text-decoration-color: #0087ff\">Flatten</span>)           │                   │            │                   │\n",
              "├─────────────────────┼───────────────────┼────────────┼───────────────────┤\n",
              "│ mlp_dense_1 (<span style=\"color: #0087ff; text-decoration-color: #0087ff\">Dense</span>) │ (<span style=\"color: #00d7ff; text-decoration-color: #00d7ff\">None</span>, <span style=\"color: #00af00; text-decoration-color: #00af00\">32</span>)        │      <span style=\"color: #00af00; text-decoration-color: #00af00\">2,080</span> │ dropout_6[<span style=\"color: #00af00; text-decoration-color: #00af00\">0</span>][<span style=\"color: #00af00; text-decoration-color: #00af00\">0</span>]   │\n",
              "├─────────────────────┼───────────────────┼────────────┼───────────────────┤\n",
              "│ multiply_3          │ (<span style=\"color: #00d7ff; text-decoration-color: #00d7ff\">None</span>, <span style=\"color: #00af00; text-decoration-color: #00af00\">16</span>)        │          <span style=\"color: #00af00; text-decoration-color: #00af00\">0</span> │ flatten_12[<span style=\"color: #00af00; text-decoration-color: #00af00\">0</span>][<span style=\"color: #00af00; text-decoration-color: #00af00\">0</span>], │\n",
              "│ (<span style=\"color: #0087ff; text-decoration-color: #0087ff\">Multiply</span>)          │                   │            │ flatten_13[<span style=\"color: #00af00; text-decoration-color: #00af00\">0</span>][<span style=\"color: #00af00; text-decoration-color: #00af00\">0</span>]  │\n",
              "├─────────────────────┼───────────────────┼────────────┼───────────────────┤\n",
              "│ dropout_7 (<span style=\"color: #0087ff; text-decoration-color: #0087ff\">Dropout</span>) │ (<span style=\"color: #00d7ff; text-decoration-color: #00d7ff\">None</span>, <span style=\"color: #00af00; text-decoration-color: #00af00\">32</span>)        │          <span style=\"color: #00af00; text-decoration-color: #00af00\">0</span> │ mlp_dense_1[<span style=\"color: #00af00; text-decoration-color: #00af00\">0</span>][<span style=\"color: #00af00; text-decoration-color: #00af00\">0</span>] │\n",
              "├─────────────────────┼───────────────────┼────────────┼───────────────────┤\n",
              "│ concatenate_4       │ (<span style=\"color: #00d7ff; text-decoration-color: #00d7ff\">None</span>, <span style=\"color: #00af00; text-decoration-color: #00af00\">48</span>)        │          <span style=\"color: #00af00; text-decoration-color: #00af00\">0</span> │ multiply_3[<span style=\"color: #00af00; text-decoration-color: #00af00\">0</span>][<span style=\"color: #00af00; text-decoration-color: #00af00\">0</span>], │\n",
              "│ (<span style=\"color: #0087ff; text-decoration-color: #0087ff\">Concatenate</span>)       │                   │            │ dropout_7[<span style=\"color: #00af00; text-decoration-color: #00af00\">0</span>][<span style=\"color: #00af00; text-decoration-color: #00af00\">0</span>]   │\n",
              "├─────────────────────┼───────────────────┼────────────┼───────────────────┤\n",
              "│ prediction (<span style=\"color: #0087ff; text-decoration-color: #0087ff\">Dense</span>)  │ (<span style=\"color: #00d7ff; text-decoration-color: #00d7ff\">None</span>, <span style=\"color: #00af00; text-decoration-color: #00af00\">1</span>)         │         <span style=\"color: #00af00; text-decoration-color: #00af00\">49</span> │ concatenate_4[<span style=\"color: #00af00; text-decoration-color: #00af00\">0</span>]… │\n",
              "└─────────────────────┴───────────────────┴────────────┴───────────────────┘\n",
              "</pre>\n"
            ]
          },
          "metadata": {}
        },
        {
          "output_type": "display_data",
          "data": {
            "text/plain": [
              "\u001b[1m Total params: \u001b[0m\u001b[38;5;34m15,008,209\u001b[0m (57.25 MB)\n"
            ],
            "text/html": [
              "<pre style=\"white-space:pre;overflow-x:auto;line-height:normal;font-family:Menlo,'DejaVu Sans Mono',consolas,'Courier New',monospace\"><span style=\"font-weight: bold\"> Total params: </span><span style=\"color: #00af00; text-decoration-color: #00af00\">15,008,209</span> (57.25 MB)\n",
              "</pre>\n"
            ]
          },
          "metadata": {}
        },
        {
          "output_type": "display_data",
          "data": {
            "text/plain": [
              "\u001b[1m Trainable params: \u001b[0m\u001b[38;5;34m2,936,017\u001b[0m (11.20 MB)\n"
            ],
            "text/html": [
              "<pre style=\"white-space:pre;overflow-x:auto;line-height:normal;font-family:Menlo,'DejaVu Sans Mono',consolas,'Courier New',monospace\"><span style=\"font-weight: bold\"> Trainable params: </span><span style=\"color: #00af00; text-decoration-color: #00af00\">2,936,017</span> (11.20 MB)\n",
              "</pre>\n"
            ]
          },
          "metadata": {}
        },
        {
          "output_type": "display_data",
          "data": {
            "text/plain": [
              "\u001b[1m Non-trainable params: \u001b[0m\u001b[38;5;34m12,072,192\u001b[0m (46.05 MB)\n"
            ],
            "text/html": [
              "<pre style=\"white-space:pre;overflow-x:auto;line-height:normal;font-family:Menlo,'DejaVu Sans Mono',consolas,'Courier New',monospace\"><span style=\"font-weight: bold\"> Non-trainable params: </span><span style=\"color: #00af00; text-decoration-color: #00af00\">12,072,192</span> (46.05 MB)\n",
              "</pre>\n"
            ]
          },
          "metadata": {}
        }
      ]
    },
    {
      "cell_type": "markdown",
      "source": [
        "Training"
      ],
      "metadata": {
        "id": "cTRCUczXAI2v"
      }
    },
    {
      "cell_type": "code",
      "source": [
        "ks = [5, 10, 20]\n",
        "rank_cb = MultiKRankingCallback(\n",
        "    train_pos=train_pos,      # user → set of train-positive items\n",
        "    test_pos=test_pos,        # user → set of test-positive items\n",
        "    num_items=num_items,      # total number of distinct items (4287)\n",
        "    Ks=ks,                     # compute Precision@k, NDCG@k, MAP@k\n",
        "    verbose=1                 # set to 1 to print metrics each epoch\n",
        ")"
      ],
      "metadata": {
        "id": "z1mmAY9TAFCn"
      },
      "execution_count": 40,
      "outputs": []
    },
    {
      "cell_type": "code",
      "source": [
        "batch_size = 4096  # increase if your GPU/Colab can handle it (maybe 4096)\n",
        "buffer_size = 100_000\n",
        "\n",
        "# 1) Build a Dataset from your three 1D NumPy arrays\n",
        "#    Each element is (u_idx, i_idx, label).\n",
        "train_ds = tf.data.Dataset.from_tensor_slices((user_input, item_input, labels))\n",
        "\n",
        "# 2) Shuffle → batch → prefetch.  Drop remainder so each batch is exactly `batch_size`.\n",
        "train_ds = (\n",
        "    train_ds\n",
        "    .shuffle(buffer_size, seed=42)\n",
        "    .batch(batch_size, drop_remainder=True)\n",
        "    .map(lambda u, i, y: ((u, i), y), num_parallel_calls=tf.data.AUTOTUNE)\n",
        "    .prefetch(tf.data.AUTOTUNE)\n",
        ")\n",
        "\n",
        "# 3) Do the same for validation (but typically you skip shuffle for val):\n",
        "val_ds = tf.data.Dataset.from_tensor_slices(\n",
        "    (user_input_test, item_input_test, labels_test)\n",
        ")\n",
        "val_ds = (\n",
        "    val_ds\n",
        "    .batch(batch_size, drop_remainder=False)\n",
        "    .map(lambda u, i, y: ((u, i), y), num_parallel_calls=tf.data.AUTOTUNE)\n",
        "    .prefetch(tf.data.AUTOTUNE)\n",
        ")\n",
        "\n",
        "# 4) Now call .fit on the Datasets:\n",
        "history_both = model_both.fit(\n",
        "    train_ds,\n",
        "    epochs=5,\n",
        "    validation_data=val_ds,\n",
        "    callbacks=[rank_cb],\n",
        "    shuffle=False  # we already shuffled in the Dataset pipeline\n",
        ")\n"
      ],
      "metadata": {
        "colab": {
          "base_uri": "https://localhost:8080/"
        },
        "id": "QiOE-0afAbg8",
        "outputId": "bb1ac17a-e8b8-44db-f0fd-681c4ac672b3"
      },
      "execution_count": 41,
      "outputs": [
        {
          "output_type": "stream",
          "name": "stdout",
          "text": [
            "Epoch 1/5\n",
            "\u001b[1m2456/2456\u001b[0m \u001b[32m━━━━━━━━━━━━━━━━━━━━\u001b[0m\u001b[37m\u001b[0m \u001b[1m0s\u001b[0m 244ms/step - auc: 0.8282 - loss: 0.4639 — epoch 1:   P@5=0.104, NDCG@5=0.115, MAP@5=0.062, ILD@5=0.314, Nov@5=0.481;  P@10=0.088, NDCG@10=0.100, MAP@10=0.040, ILD@10=0.311, Nov@10=0.548;  P@20=0.086, NDCG@20=0.146, MAP@20=0.055, ILD@20=0.305, Nov@20=0.624;\n",
            "\u001b[1m2456/2456\u001b[0m \u001b[32m━━━━━━━━━━━━━━━━━━━━\u001b[0m\u001b[37m\u001b[0m \u001b[1m626s\u001b[0m 253ms/step - auc: 0.8282 - loss: 0.4638 - val_auc: 0.9143 - val_loss: 0.3572 - Precision@5: 0.1040 - NDCG@5: 0.1147 - MAP@5: 0.0625 - ILD@5: 0.3144 - Novelty@5: 0.4815 - Precision@10: 0.0880 - NDCG@10: 0.1000 - MAP@10: 0.0396 - ILD@10: 0.3109 - Novelty@10: 0.5477 - Precision@20: 0.0855 - NDCG@20: 0.1465 - MAP@20: 0.0547 - ILD@20: 0.3048 - Novelty@20: 0.6237\n",
            "Epoch 2/5\n",
            "\u001b[1m2456/2456\u001b[0m \u001b[32m━━━━━━━━━━━━━━━━━━━━\u001b[0m\u001b[37m\u001b[0m \u001b[1m0s\u001b[0m 242ms/step - auc: 0.9128 - loss: 0.3504 — epoch 2:   P@5=0.114, NDCG@5=0.137, MAP@5=0.080, ILD@5=0.310, Nov@5=0.559;  P@10=0.105, NDCG@10=0.122, MAP@10=0.051, ILD@10=0.305, Nov@10=0.606;  P@20=0.097, NDCG@20=0.172, MAP@20=0.066, ILD@20=0.305, Nov@20=0.667;\n",
            "\u001b[1m2456/2456\u001b[0m \u001b[32m━━━━━━━━━━━━━━━━━━━━\u001b[0m\u001b[37m\u001b[0m \u001b[1m618s\u001b[0m 251ms/step - auc: 0.9128 - loss: 0.3503 - val_auc: 0.9281 - val_loss: 0.3267 - Precision@5: 0.1140 - NDCG@5: 0.1367 - MAP@5: 0.0802 - ILD@5: 0.3103 - Novelty@5: 0.5589 - Precision@10: 0.1050 - NDCG@10: 0.1224 - MAP@10: 0.0508 - ILD@10: 0.3055 - Novelty@10: 0.6061 - Precision@20: 0.0970 - NDCG@20: 0.1716 - MAP@20: 0.0662 - ILD@20: 0.3050 - Novelty@20: 0.6673\n",
            "Epoch 3/5\n",
            "\u001b[1m2456/2456\u001b[0m \u001b[32m━━━━━━━━━━━━━━━━━━━━\u001b[0m\u001b[37m\u001b[0m \u001b[1m0s\u001b[0m 243ms/step - auc: 0.9412 - loss: 0.2913 — epoch 3:   P@5=0.116, NDCG@5=0.137, MAP@5=0.081, ILD@5=0.309, Nov@5=0.616;  P@10=0.110, NDCG@10=0.125, MAP@10=0.053, ILD@10=0.308, Nov@10=0.645;  P@20=0.104, NDCG@20=0.179, MAP@20=0.070, ILD@20=0.307, Nov@20=0.691;\n",
            "\u001b[1m2456/2456\u001b[0m \u001b[32m━━━━━━━━━━━━━━━━━━━━\u001b[0m\u001b[37m\u001b[0m \u001b[1m619s\u001b[0m 252ms/step - auc: 0.9412 - loss: 0.2913 - val_auc: 0.9317 - val_loss: 0.3188 - Precision@5: 0.1160 - NDCG@5: 0.1370 - MAP@5: 0.0806 - ILD@5: 0.3089 - Novelty@5: 0.6158 - Precision@10: 0.1100 - NDCG@10: 0.1248 - MAP@10: 0.0532 - ILD@10: 0.3077 - Novelty@10: 0.6448 - Precision@20: 0.1040 - NDCG@20: 0.1786 - MAP@20: 0.0699 - ILD@20: 0.3071 - Novelty@20: 0.6912\n",
            "Epoch 4/5\n",
            "\u001b[1m2456/2456\u001b[0m \u001b[32m━━━━━━━━━━━━━━━━━━━━\u001b[0m\u001b[37m\u001b[0m \u001b[1m0s\u001b[0m 239ms/step - auc: 0.9520 - loss: 0.2638 — epoch 4:   P@5=0.132, NDCG@5=0.151, MAP@5=0.091, ILD@5=0.312, Nov@5=0.661;  P@10=0.111, NDCG@10=0.130, MAP@10=0.056, ILD@10=0.309, Nov@10=0.690;  P@20=0.097, NDCG@20=0.176, MAP@20=0.071, ILD@20=0.307, Nov@20=0.729;\n",
            "\u001b[1m2456/2456\u001b[0m \u001b[32m━━━━━━━━━━━━━━━━━━━━\u001b[0m\u001b[37m\u001b[0m \u001b[1m610s\u001b[0m 248ms/step - auc: 0.9520 - loss: 0.2638 - val_auc: 0.9333 - val_loss: 0.3135 - Precision@5: 0.1320 - NDCG@5: 0.1510 - MAP@5: 0.0909 - ILD@5: 0.3118 - Novelty@5: 0.6607 - Precision@10: 0.1110 - NDCG@10: 0.1299 - MAP@10: 0.0560 - ILD@10: 0.3088 - Novelty@10: 0.6899 - Precision@20: 0.0975 - NDCG@20: 0.1764 - MAP@20: 0.0708 - ILD@20: 0.3071 - Novelty@20: 0.7288\n",
            "Epoch 5/5\n",
            "\u001b[1m2456/2456\u001b[0m \u001b[32m━━━━━━━━━━━━━━━━━━━━\u001b[0m\u001b[37m\u001b[0m \u001b[1m0s\u001b[0m 264ms/step - auc: 0.9592 - loss: 0.2434 — epoch 5:   P@5=0.146, NDCG@5=0.160, MAP@5=0.094, ILD@5=0.313, Nov@5=0.640;  P@10=0.115, NDCG@10=0.134, MAP@10=0.059, ILD@10=0.307, Nov@10=0.678;  P@20=0.098, NDCG@20=0.179, MAP@20=0.073, ILD@20=0.308, Nov@20=0.722;\n",
            "\u001b[1m2456/2456\u001b[0m \u001b[32m━━━━━━━━━━━━━━━━━━━━\u001b[0m\u001b[37m\u001b[0m \u001b[1m671s\u001b[0m 273ms/step - auc: 0.9592 - loss: 0.2434 - val_auc: 0.9339 - val_loss: 0.3168 - Precision@5: 0.1460 - NDCG@5: 0.1597 - MAP@5: 0.0945 - ILD@5: 0.3125 - Novelty@5: 0.6395 - Precision@10: 0.1150 - NDCG@10: 0.1344 - MAP@10: 0.0593 - ILD@10: 0.3070 - Novelty@10: 0.6785 - Precision@20: 0.0975 - NDCG@20: 0.1788 - MAP@20: 0.0735 - ILD@20: 0.3085 - Novelty@20: 0.7216\n"
          ]
        }
      ]
    }
  ]
}