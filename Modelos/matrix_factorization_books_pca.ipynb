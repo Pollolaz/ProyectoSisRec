{
  "cells": [
    {
      "cell_type": "markdown",
      "metadata": {
        "id": "I2Ta27o-vm6b"
      },
      "source": [
        "# Descargar datos y dependencias"
      ]
    },
    {
      "cell_type": "code",
      "execution_count": null,
      "metadata": {
        "colab": {
          "base_uri": "https://localhost:8080/"
        },
        "id": "HFjzxch4ZsXI",
        "outputId": "139ed4d1-2a3c-421f-a69b-0708136cb470"
      },
      "outputs": [
        {
          "name": "stdout",
          "output_type": "stream",
          "text": [
            "zsh:1: no matches found: https://www.dropbox.com/s/57tel5zqopkssrh/books.csv?dl=0\n",
            "zsh:1: no matches found: https://www.dropbox.com/s/zpnnoy1i8ljf9fg/goodreads_bert_embeddings.npy?dl=0\n",
            "zsh:1: no matches found: https://www.dropbox.com/s/a8hcc9w30y7r3jl/goodreads_bert_large_embeddings.npy?dl=0\n",
            "zsh:1: no matches found: https://www.dropbox.com/s/dqeqpsr0vdvmcy0/goodreads_past_interactions.json?dl=0\n",
            "zsh:1: no matches found: https://www.dropbox.com/s/rjtzhmb2zbpp30q/goodreads_test_interactions.json?dl=0\n"
          ]
        }
      ],
      "source": [
        "!wget https://www.dropbox.com/s/57tel5zqopkssrh/books.csv?dl=0 -O books.csv\n",
        "!wget https://www.dropbox.com/s/zpnnoy1i8ljf9fg/goodreads_bert_embeddings.npy?dl=0 -O goodreads_bert_embeddings.npy\n",
        "!wget https://www.dropbox.com/s/a8hcc9w30y7r3jl/goodreads_bert_large_embeddings.npy?dl=0 -O goodreads_bert_large_embeddings.npy\n",
        "!wget https://www.dropbox.com/s/dqeqpsr0vdvmcy0/goodreads_past_interactions.json?dl=0 -O goodreads_past_interactions.json\n",
        "!wget https://www.dropbox.com/s/rjtzhmb2zbpp30q/goodreads_test_interactions.json?dl=0 -O goodreads_test_interactions.json"
      ]
    },
    {
      "cell_type": "code",
      "execution_count": 1,
      "metadata": {
        "id": "ckNExWsGvdqW"
      },
      "outputs": [
        {
          "name": "stderr",
          "output_type": "stream",
          "text": [
            "/opt/homebrew/lib/python3.10/site-packages/lightfm/_lightfm_fast.py:9: UserWarning: LightFM was compiled without OpenMP support. Only a single thread will be used.\n",
            "  warnings.warn(\n"
          ]
        }
      ],
      "source": [
        "from lightfm import LightFM\n",
        "from lightfm.data import Dataset\n",
        "from lightfm.evaluation import precision_at_k, auc_score\n",
        "import numpy as np\n",
        "import pandas as pd\n",
        "import json\n",
        "from scipy.sparse import coo_matrix, csr_matrix\n"
      ]
    },
    {
      "cell_type": "markdown",
      "metadata": {
        "id": "u3gzGoimviC8"
      },
      "source": [
        "# Cargar Datos"
      ]
    },
    {
      "cell_type": "code",
      "execution_count": 2,
      "metadata": {
        "colab": {
          "base_uri": "https://localhost:8080/",
          "height": 593
        },
        "id": "U5nH7hVuNTdQ",
        "outputId": "9bdd00ee-aee7-4fa3-d62d-90798d7c9a0c"
      },
      "outputs": [
        {
          "data": {
            "text/html": [
              "<div>\n",
              "<style scoped>\n",
              "    .dataframe tbody tr th:only-of-type {\n",
              "        vertical-align: middle;\n",
              "    }\n",
              "\n",
              "    .dataframe tbody tr th {\n",
              "        vertical-align: top;\n",
              "    }\n",
              "\n",
              "    .dataframe thead th {\n",
              "        text-align: right;\n",
              "    }\n",
              "</style>\n",
              "<table border=\"1\" class=\"dataframe\">\n",
              "  <thead>\n",
              "    <tr style=\"text-align: right;\">\n",
              "      <th></th>\n",
              "      <th>book_id</th>\n",
              "      <th>goodreads_book_id</th>\n",
              "      <th>best_book_id</th>\n",
              "      <th>work_id</th>\n",
              "      <th>books_count</th>\n",
              "      <th>isbn</th>\n",
              "      <th>isbn13</th>\n",
              "      <th>authors</th>\n",
              "      <th>original_publication_year</th>\n",
              "      <th>original_title</th>\n",
              "      <th>...</th>\n",
              "      <th>work_ratings_count</th>\n",
              "      <th>work_text_reviews_count</th>\n",
              "      <th>ratings_1</th>\n",
              "      <th>ratings_2</th>\n",
              "      <th>ratings_3</th>\n",
              "      <th>ratings_4</th>\n",
              "      <th>ratings_5</th>\n",
              "      <th>image_url</th>\n",
              "      <th>small_image_url</th>\n",
              "      <th>book_desc</th>\n",
              "    </tr>\n",
              "  </thead>\n",
              "  <tbody>\n",
              "    <tr>\n",
              "      <th>0</th>\n",
              "      <td>1</td>\n",
              "      <td>2767052</td>\n",
              "      <td>2767052</td>\n",
              "      <td>2792775</td>\n",
              "      <td>272</td>\n",
              "      <td>439023483</td>\n",
              "      <td>9.780439e+12</td>\n",
              "      <td>Suzanne Collins</td>\n",
              "      <td>2008.0</td>\n",
              "      <td>The Hunger Games</td>\n",
              "      <td>...</td>\n",
              "      <td>4942365</td>\n",
              "      <td>155254</td>\n",
              "      <td>66715</td>\n",
              "      <td>127936</td>\n",
              "      <td>560092</td>\n",
              "      <td>1481305</td>\n",
              "      <td>2706317</td>\n",
              "      <td>https://images.gr-assets.com/books/1447303603m...</td>\n",
              "      <td>https://images.gr-assets.com/books/1447303603s...</td>\n",
              "      <td>Winning will make you famous. Losing means cer...</td>\n",
              "    </tr>\n",
              "    <tr>\n",
              "      <th>1</th>\n",
              "      <td>2</td>\n",
              "      <td>3</td>\n",
              "      <td>3</td>\n",
              "      <td>4640799</td>\n",
              "      <td>491</td>\n",
              "      <td>439554934</td>\n",
              "      <td>9.780440e+12</td>\n",
              "      <td>J.K. Rowling, Mary GrandPré</td>\n",
              "      <td>1997.0</td>\n",
              "      <td>Harry Potter and the Philosopher's Stone</td>\n",
              "      <td>...</td>\n",
              "      <td>4800065</td>\n",
              "      <td>75867</td>\n",
              "      <td>75504</td>\n",
              "      <td>101676</td>\n",
              "      <td>455024</td>\n",
              "      <td>1156318</td>\n",
              "      <td>3011543</td>\n",
              "      <td>https://images.gr-assets.com/books/1474154022m...</td>\n",
              "      <td>https://images.gr-assets.com/books/1474154022s...</td>\n",
              "      <td>Harry Potter's life is miserable. His parents ...</td>\n",
              "    </tr>\n",
              "    <tr>\n",
              "      <th>2</th>\n",
              "      <td>3</td>\n",
              "      <td>41865</td>\n",
              "      <td>41865</td>\n",
              "      <td>3212258</td>\n",
              "      <td>226</td>\n",
              "      <td>316015849</td>\n",
              "      <td>9.780316e+12</td>\n",
              "      <td>Stephenie Meyer</td>\n",
              "      <td>2005.0</td>\n",
              "      <td>Twilight</td>\n",
              "      <td>...</td>\n",
              "      <td>3916824</td>\n",
              "      <td>95009</td>\n",
              "      <td>456191</td>\n",
              "      <td>436802</td>\n",
              "      <td>793319</td>\n",
              "      <td>875073</td>\n",
              "      <td>1355439</td>\n",
              "      <td>https://images.gr-assets.com/books/1361039443m...</td>\n",
              "      <td>https://images.gr-assets.com/books/1361039443s...</td>\n",
              "      <td>About three things I was absolutely positive.F...</td>\n",
              "    </tr>\n",
              "    <tr>\n",
              "      <th>3</th>\n",
              "      <td>4</td>\n",
              "      <td>2657</td>\n",
              "      <td>2657</td>\n",
              "      <td>3275794</td>\n",
              "      <td>487</td>\n",
              "      <td>61120081</td>\n",
              "      <td>9.780061e+12</td>\n",
              "      <td>Harper Lee</td>\n",
              "      <td>1960.0</td>\n",
              "      <td>To Kill a Mockingbird</td>\n",
              "      <td>...</td>\n",
              "      <td>3340896</td>\n",
              "      <td>72586</td>\n",
              "      <td>60427</td>\n",
              "      <td>117415</td>\n",
              "      <td>446835</td>\n",
              "      <td>1001952</td>\n",
              "      <td>1714267</td>\n",
              "      <td>https://images.gr-assets.com/books/1361975680m...</td>\n",
              "      <td>https://images.gr-assets.com/books/1361975680s...</td>\n",
              "      <td>The unforgettable novel of a childhood in a sl...</td>\n",
              "    </tr>\n",
              "    <tr>\n",
              "      <th>4</th>\n",
              "      <td>5</td>\n",
              "      <td>4671</td>\n",
              "      <td>4671</td>\n",
              "      <td>245494</td>\n",
              "      <td>1356</td>\n",
              "      <td>743273567</td>\n",
              "      <td>9.780743e+12</td>\n",
              "      <td>F. Scott Fitzgerald</td>\n",
              "      <td>1925.0</td>\n",
              "      <td>The Great Gatsby</td>\n",
              "      <td>...</td>\n",
              "      <td>2773745</td>\n",
              "      <td>51992</td>\n",
              "      <td>86236</td>\n",
              "      <td>197621</td>\n",
              "      <td>606158</td>\n",
              "      <td>936012</td>\n",
              "      <td>947718</td>\n",
              "      <td>https://images.gr-assets.com/books/1490528560m...</td>\n",
              "      <td>https://images.gr-assets.com/books/1490528560s...</td>\n",
              "      <td>Alternate Cover Edition ISBN: 0743273567 (ISBN...</td>\n",
              "    </tr>\n",
              "  </tbody>\n",
              "</table>\n",
              "<p>5 rows × 24 columns</p>\n",
              "</div>"
            ],
            "text/plain": [
              "   book_id  goodreads_book_id  best_book_id  work_id  books_count       isbn  \\\n",
              "0        1            2767052       2767052  2792775          272  439023483   \n",
              "1        2                  3             3  4640799          491  439554934   \n",
              "2        3              41865         41865  3212258          226  316015849   \n",
              "3        4               2657          2657  3275794          487   61120081   \n",
              "4        5               4671          4671   245494         1356  743273567   \n",
              "\n",
              "         isbn13                      authors  original_publication_year  \\\n",
              "0  9.780439e+12              Suzanne Collins                     2008.0   \n",
              "1  9.780440e+12  J.K. Rowling, Mary GrandPré                     1997.0   \n",
              "2  9.780316e+12              Stephenie Meyer                     2005.0   \n",
              "3  9.780061e+12                   Harper Lee                     1960.0   \n",
              "4  9.780743e+12          F. Scott Fitzgerald                     1925.0   \n",
              "\n",
              "                             original_title  ... work_ratings_count  \\\n",
              "0                          The Hunger Games  ...            4942365   \n",
              "1  Harry Potter and the Philosopher's Stone  ...            4800065   \n",
              "2                                  Twilight  ...            3916824   \n",
              "3                     To Kill a Mockingbird  ...            3340896   \n",
              "4                          The Great Gatsby  ...            2773745   \n",
              "\n",
              "  work_text_reviews_count  ratings_1  ratings_2  ratings_3  ratings_4  \\\n",
              "0                  155254      66715     127936     560092    1481305   \n",
              "1                   75867      75504     101676     455024    1156318   \n",
              "2                   95009     456191     436802     793319     875073   \n",
              "3                   72586      60427     117415     446835    1001952   \n",
              "4                   51992      86236     197621     606158     936012   \n",
              "\n",
              "   ratings_5                                          image_url  \\\n",
              "0    2706317  https://images.gr-assets.com/books/1447303603m...   \n",
              "1    3011543  https://images.gr-assets.com/books/1474154022m...   \n",
              "2    1355439  https://images.gr-assets.com/books/1361039443m...   \n",
              "3    1714267  https://images.gr-assets.com/books/1361975680m...   \n",
              "4     947718  https://images.gr-assets.com/books/1490528560m...   \n",
              "\n",
              "                                     small_image_url  \\\n",
              "0  https://images.gr-assets.com/books/1447303603s...   \n",
              "1  https://images.gr-assets.com/books/1474154022s...   \n",
              "2  https://images.gr-assets.com/books/1361039443s...   \n",
              "3  https://images.gr-assets.com/books/1361975680s...   \n",
              "4  https://images.gr-assets.com/books/1490528560s...   \n",
              "\n",
              "                                           book_desc  \n",
              "0  Winning will make you famous. Losing means cer...  \n",
              "1  Harry Potter's life is miserable. His parents ...  \n",
              "2  About three things I was absolutely positive.F...  \n",
              "3  The unforgettable novel of a childhood in a sl...  \n",
              "4  Alternate Cover Edition ISBN: 0743273567 (ISBN...  \n",
              "\n",
              "[5 rows x 24 columns]"
            ]
          },
          "execution_count": 2,
          "metadata": {},
          "output_type": "execute_result"
        }
      ],
      "source": [
        "df_books = pd.read_csv('../../Datos/books.csv', sep=',')\n",
        "df_books.head()"
      ]
    },
    {
      "cell_type": "code",
      "execution_count": 3,
      "metadata": {
        "id": "IUHYpUjpNajv"
      },
      "outputs": [],
      "source": [
        "# dict index 2 book id and vice-versa for recommendation\n",
        "idx2bookid = {i: id_ for i, id_ in enumerate(df_books.book_id)}\n",
        "bookid2idx = {id_:i for i, id_ in enumerate(df_books.book_id)}"
      ]
    },
    {
      "cell_type": "code",
      "execution_count": 4,
      "metadata": {
        "id": "xCc_UrxBvuyu"
      },
      "outputs": [],
      "source": [
        "with open(\"../../Datos/goodreads_past_interactions.json\", \"r\") as f:\n",
        "    user_interactions = json.load(f)"
      ]
    },
    {
      "cell_type": "code",
      "execution_count": null,
      "metadata": {
        "id": "roBc_8_Ap-QC"
      },
      "outputs": [],
      "source": [
        "with open(\"../../Datos/goodreads_test_interactions.json\", \"r\") as f:\n",
        "    user_interactions_test = json.load(f)"
      ]
    },
    {
      "cell_type": "code",
      "execution_count": 6,
      "metadata": {
        "id": "hBIcgrJ7i8DY"
      },
      "outputs": [],
      "source": [
        "idx2userid = {i: id_ for i, id_ in enumerate(user_interactions.keys())}\n",
        "userid2idx = {id_:i for i, id_ in enumerate(user_interactions.keys())}"
      ]
    },
    {
      "cell_type": "code",
      "execution_count": 7,
      "metadata": {
        "colab": {
          "base_uri": "https://localhost:8080/"
        },
        "id": "e-rXU-TCmQJv",
        "outputId": "08038421-2180-4c50-afc5-3d39e2ae84d4"
      },
      "outputs": [
        {
          "name": "stdout",
          "output_type": "stream",
          "text": [
            "(52821, 4287)\n",
            "(52821, 4287)\n"
          ]
        }
      ],
      "source": [
        "rows = []\n",
        "cols = []\n",
        "data = []\n",
        "\n",
        "for user_id, book_ids in user_interactions.items():\n",
        "    for book_id in book_ids:\n",
        "        u_id = userid2idx[user_id]\n",
        "        b_id = bookid2idx[book_id]\n",
        "        rows.append(int(u_id))\n",
        "        cols.append(int(b_id))\n",
        "        data.append(1)\n",
        "\n",
        "max_user_id = max(rows)\n",
        "max_item_id = max(cols)\n",
        "\n",
        "# Crear matriz sparse\n",
        "user_item_matrix_train = coo_matrix((data, (rows, cols)), shape=(max_user_id + 1, max_item_id + 1))\n",
        "print(user_item_matrix_train.shape)\n",
        "\n",
        "rows_test = []\n",
        "cols_test = []\n",
        "data_test = []\n",
        "\n",
        "for user_id, book_ids in user_interactions_test.items():\n",
        "    for book_id in book_ids:\n",
        "        u_id = userid2idx[user_id]\n",
        "        b_id = bookid2idx[book_id]\n",
        "        rows_test.append(int(u_id))\n",
        "        cols_test.append(int(b_id))\n",
        "        data_test.append(1)\n",
        "    \n",
        "max_user_id = max([max_user_id] + rows_test)\n",
        "max_item_id = max([max_item_id] + cols_test)\n",
        "\n",
        "# Crear matriz sparse\n",
        "user_item_matrix_test = coo_matrix((data_test, (rows_test, cols_test)), shape=(max_user_id + 1, max_item_id + 1))\n",
        "print(user_item_matrix_test.shape)"
      ]
    },
    {
      "cell_type": "code",
      "execution_count": null,
      "metadata": {
        "colab": {
          "base_uri": "https://localhost:8080/"
        },
        "id": "gkDDkuhbv8-0",
        "outputId": "24823076-cb0c-4278-ffa9-85e5044074b7"
      },
      "outputs": [
        {
          "name": "stderr",
          "output_type": "stream",
          "text": [
            "Epoch: 100%|██████████| 20/20 [00:39<00:00,  1.99s/it]\n"
          ]
        },
        {
          "data": {
            "text/plain": [
              "<lightfm.lightfm.LightFM at 0x143926ef0>"
            ]
          },
          "execution_count": 9,
          "metadata": {},
          "output_type": "execute_result"
        }
      ],
      "source": [
        "# 5. Entrenar modelo LightFM\n",
        "model = LightFM(loss='warp')  # o 'bpr', 'warp-kos', 'logistic'\n",
        "model.fit(user_item_matrix_train, epochs=20, num_threads=4, verbose=True)"
      ]
    },
    {
      "cell_type": "code",
      "execution_count": 10,
      "metadata": {
        "colab": {
          "base_uri": "https://localhost:8080/"
        },
        "id": "dRwtEUG0v915",
        "outputId": "d08d4e8a-ad1f-468e-847e-b00db3cd78f7"
      },
      "outputs": [
        {
          "name": "stdout",
          "output_type": "stream",
          "text": [
            "Precision@10 (test): 0.046\n",
            "AUC (test): 0.9403147\n"
          ]
        }
      ],
      "source": [
        "# 6. Evaluar\n",
        "print(\"Precision@10 (test):\", precision_at_k(model, user_item_matrix_test, k=10).mean())\n",
        "print(\"AUC (test):\", auc_score(model, user_item_matrix_test).mean())"
      ]
    },
    {
      "cell_type": "markdown",
      "metadata": {
        "id": "tCKWgSH37fzM"
      },
      "source": [
        "BERT Embeddings"
      ]
    },
    {
      "cell_type": "code",
      "execution_count": 8,
      "metadata": {
        "colab": {
          "base_uri": "https://localhost:8080/"
        },
        "id": "02T6p0_D7fKO",
        "outputId": "9b731a4f-425b-463d-f952-be0f8d742f8d"
      },
      "outputs": [
        {
          "name": "stdout",
          "output_type": "stream",
          "text": [
            "(4287, 768)\n"
          ]
        }
      ],
      "source": [
        "bert_embeddings = np.load(\"../../Datos/goodreads_bert_embeddings.npy\")  # shape: (num_items, embedding_dim)\n",
        "#bert_embeddings_large = np.load(\"goodreads_bert_large_embeddings.npy\")\n",
        "num_items, embedding_dim = bert_embeddings.shape\n",
        "#num_items, embedding_dim_large = bert_embeddings.shape\n",
        "\n",
        "print(bert_embeddings.shape)\n",
        "#print(bert_embeddings_large.shape)"
      ]
    },
    {
      "cell_type": "code",
      "execution_count": 9,
      "metadata": {
        "id": "ZfEFI4PI_mER"
      },
      "outputs": [],
      "source": [
        "from sklearn.preprocessing import normalize\n",
        "from sklearn.decomposition import PCA\n",
        "\n",
        "bert_embeddings = normalize(bert_embeddings, norm='l2')"
      ]
    },
    {
      "cell_type": "code",
      "execution_count": 10,
      "metadata": {
        "colab": {
          "base_uri": "https://localhost:8080/"
        },
        "id": "DHl5pSfyg5bz",
        "outputId": "b0d1f5f8-e22b-465a-e5eb-7aa65945d108"
      },
      "outputs": [
        {
          "name": "stdout",
          "output_type": "stream",
          "text": [
            "4287\n"
          ]
        }
      ],
      "source": [
        "book_id_set = set()\n",
        "\n",
        "for user_id in user_interactions.keys():\n",
        "  ids = set(user_interactions[user_id])\n",
        "  book_id_set.update(ids)\n",
        "\n",
        "print(len(book_id_set))"
      ]
    },
    {
      "cell_type": "markdown",
      "metadata": {},
      "source": [
        "Usamos PCA porque si no se demora demasiado."
      ]
    },
    {
      "cell_type": "code",
      "execution_count": 11,
      "metadata": {
        "id": "gs9ANg5C-UXs"
      },
      "outputs": [
        {
          "name": "stdout",
          "output_type": "stream",
          "text": [
            "(4287, 5055)\n",
            "(4287, 4327)\n",
            "4327\n"
          ]
        }
      ],
      "source": [
        "pca_bert_featmat = PCA(n_components=40).fit_transform(bert_embeddings)\n",
        "\n",
        "item_features_sparse = csr_matrix(bert_embeddings)\n",
        "item_features_pca_sparse = csr_matrix(pca_bert_featmat)\n",
        "# concatenate the identity matrix with the PCA features\n",
        "item_features_sparse = csr_matrix(np.hstack((np.eye(num_items), item_features_sparse.toarray())))\n",
        "item_features_pca_sparse = csr_matrix(np.hstack((np.eye(num_items), item_features_pca_sparse.toarray())))\n",
        "print(item_features_sparse.shape)\n",
        "print(item_features_pca_sparse.shape)\n",
        "print(num_items+40)"
      ]
    },
    {
      "cell_type": "code",
      "execution_count": 12,
      "metadata": {
        "colab": {
          "base_uri": "https://localhost:8080/"
        },
        "id": "DObIHXL6kwZ5",
        "outputId": "c537d186-9ab8-4de1-b95c-dbf52b299afb"
      },
      "outputs": [
        {
          "name": "stderr",
          "output_type": "stream",
          "text": [
            "Epoch: 100%|██████████| 20/20 [06:24<00:00, 19.24s/it]\n"
          ]
        },
        {
          "data": {
            "text/plain": [
              "<lightfm.lightfm.LightFM at 0x30255a380>"
            ]
          },
          "execution_count": 12,
          "metadata": {},
          "output_type": "execute_result"
        }
      ],
      "source": [
        "model_bert = LightFM(loss='warp')\n",
        "model_bert.fit(interactions=user_item_matrix_train, item_features=item_features_pca_sparse, epochs=20, num_threads=4, verbose=True)"
      ]
    },
    {
      "cell_type": "markdown",
      "metadata": {},
      "source": [
        "Se me demoró como 2.5 minutos con PCA."
      ]
    },
    {
      "cell_type": "code",
      "execution_count": 13,
      "metadata": {
        "id": "shnknk3Rk2wY"
      },
      "outputs": [
        {
          "name": "stdout",
          "output_type": "stream",
          "text": [
            "Precision@10 (test): 0.042\n",
            "AUC (test): 0.9395941\n"
          ]
        }
      ],
      "source": [
        "# 6. Evaluar\n",
        "print(\"Precision@10 (test):\", precision_at_k(model_bert, user_item_matrix_test, item_features=item_features_pca_sparse, k=10).mean())\n",
        "print(\"AUC (test):\", auc_score(model_bert, user_item_matrix_test, item_features=item_features_pca_sparse).mean())"
      ]
    },
    {
      "cell_type": "code",
      "execution_count": 16,
      "metadata": {},
      "outputs": [],
      "source": [
        "def custom_ranking_metrics_at_k(rec_func, train_user_items, test_user_items, K=10, show_progress=False):\n",
        "\n",
        "    # Ensure matrices are in CSR format\n",
        "    train_user_items = train_user_items.tocsr()\n",
        "    test_user_items = test_user_items.tocsr()\n",
        "\n",
        "    num_users, num_items = test_user_items.shape\n",
        "    relevant = 0\n",
        "    total_precision_div = 0\n",
        "    total_map = 0\n",
        "    total_ndcg = 0\n",
        "    total_auc = 0\n",
        "    total_users = 0\n",
        "\n",
        "    # Compute cumulative gain for NDCG normalization\n",
        "    cg = 1.0 / np.log2(np.arange(2, K + 2))  # Discount factor\n",
        "    cg_sum = np.cumsum(cg)  # Ideal DCG normalization\n",
        "\n",
        "    # Get users with at least one item in the test set\n",
        "    users_with_test_data = np.where(np.diff(test_user_items.indptr) > 0)[0]\n",
        "\n",
        "    # Progress bar\n",
        "    #progress = tqdm.tqdm(total=len(users_with_test_data), disable=not show_progress)\n",
        "\n",
        "    batch_size = 1000\n",
        "    start_idx = 0\n",
        "\n",
        "    while start_idx < len(users_with_test_data):\n",
        "        batch_users = users_with_test_data[start_idx:start_idx + batch_size]\n",
        "        recommended_items = rec_func(batch_users, N=K)\n",
        "        start_idx += batch_size\n",
        "\n",
        "        for user_idx, user_id in enumerate(batch_users):\n",
        "            test_items = set(test_user_items.indices[test_user_items.indptr[user_id]:test_user_items.indptr[user_id + 1]])\n",
        "\n",
        "            if not test_items:\n",
        "                continue  # Skip users without test data\n",
        "\n",
        "            num_relevant = len(test_items)\n",
        "            total_precision_div += min(K, num_relevant)\n",
        "\n",
        "            ap = 0\n",
        "            hit_count = 0\n",
        "            auc = 0\n",
        "            idcg = cg_sum[min(K, num_relevant) - 1]  # Ideal Discounted Cumulative Gain (IDCG)\n",
        "            num_negative = num_items - num_relevant\n",
        "\n",
        "            for rank, item in enumerate(recommended_items[user_idx]):\n",
        "                if item in test_items:\n",
        "                    relevant += 1\n",
        "                    hit_count += 1\n",
        "                    ap += hit_count / (rank + 1)\n",
        "                    total_ndcg += cg[rank] / idcg\n",
        "                else:\n",
        "                    auc += hit_count  # Accumulate hits for AUC calculation\n",
        "\n",
        "            auc += ((hit_count + num_relevant) / 2.0) * (num_negative - (K - hit_count))\n",
        "            total_map += ap / min(K, num_relevant)\n",
        "            total_auc += auc / (num_relevant * num_negative)\n",
        "            total_users += 1\n",
        "\n",
        "        #progress.update(len(batch_users))\n",
        "\n",
        "    #progress.close()\n",
        "\n",
        "    # Compute final metrics\n",
        "    precision = relevant / total_precision_div if total_precision_div > 0 else 0\n",
        "    mean_ap = total_map / total_users if total_users > 0 else 0\n",
        "    mean_ndcg = total_ndcg / total_users if total_users > 0 else 0\n",
        "    mean_auc = total_auc / total_users if total_users > 0 else 0\n",
        "\n",
        "    return {\n",
        "        \"precision\": precision,\n",
        "        \"map\": mean_ap,\n",
        "        \"ndcg\": mean_ndcg,\n",
        "        \"auc\": mean_auc\n",
        "    }"
      ]
    },
    {
      "cell_type": "code",
      "execution_count": 32,
      "metadata": {},
      "outputs": [],
      "source": [
        "# define a recommendation function for the lightfm model\n",
        "def rec_function(users, N=10):\n",
        "    recommendations = []\n",
        "    for user in users:\n",
        "        uids = [user]* num_items\n",
        "        scores = model_bert.predict(uids, np.arange(num_items), item_features=item_features_pca_sparse)\n",
        "        top_items = np.argsort(-scores)[:N]\n",
        "        recommendations.append(top_items)\n",
        "    return np.array(recommendations)\n",
        "\n",
        "# define a recommendation function for the lightfm model\n",
        "def rec_function_2(users, N=10):\n",
        "    recommendations = []\n",
        "    all_items = np.arange(num_items)\n",
        "    for user in users:\n",
        "        past_interactions = user_interactions[idx2userid[user]]\n",
        "        past_interactions = np.array([bookid2idx[i] for i in past_interactions])\n",
        "        available_items = np.setdiff1d(all_items, past_interactions)\n",
        "        uids = [user]* len(available_items)\n",
        "        scores = model_bert.predict(uids, available_items, item_features=item_features_pca_sparse)\n",
        "        top_items = np.argsort(-scores)[:N]\n",
        "        recommendations.append(top_items)\n",
        "    return np.array(recommendations)"
      ]
    },
    {
      "cell_type": "code",
      "execution_count": 33,
      "metadata": {},
      "outputs": [
        {
          "name": "stdout",
          "output_type": "stream",
          "text": [
            "{'precision': 0.042, 'map': 0.014084523809523812, 'ndcg': 0.04361790050279526, 'auc': 0.5198814589665651}\n",
            "{'precision': 0.03, 'map': 0.007650793650793654, 'ndcg': 0.027361165740072683, 'auc': 0.5138615852232872}\n"
          ]
        }
      ],
      "source": [
        "print(custom_ranking_metrics_at_k(rec_function, user_item_matrix_train, user_item_matrix_test, K=10))\n",
        "print(custom_ranking_metrics_at_k(rec_function_2, user_item_matrix_train, user_item_matrix_test, K=10))"
      ]
    }
  ],
  "metadata": {
    "colab": {
      "provenance": []
    },
    "kernelspec": {
      "display_name": "Python 3",
      "name": "python3"
    },
    "language_info": {
      "codemirror_mode": {
        "name": "ipython",
        "version": 3
      },
      "file_extension": ".py",
      "mimetype": "text/x-python",
      "name": "python",
      "nbconvert_exporter": "python",
      "pygments_lexer": "ipython3",
      "version": "3.10.16"
    }
  },
  "nbformat": 4,
  "nbformat_minor": 0
}
