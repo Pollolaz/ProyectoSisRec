{
  "nbformat": 4,
  "nbformat_minor": 0,
  "metadata": {
    "colab": {
      "provenance": []
    },
    "kernelspec": {
      "name": "python3",
      "display_name": "Python 3"
    },
    "language_info": {
      "name": "python"
    }
  },
  "cells": [
    {
      "cell_type": "code",
      "source": [
        "import json\n",
        "import torch\n",
        "import torch.nn as nn\n",
        "from torch.utils.data import Dataset, DataLoader\n",
        "import random\n",
        "from tqdm import tqdm\n",
        "import numpy as np\n",
        "import pandas as pd\n",
        "import matplotlib.pyplot as plt\n",
        "import seaborn as sns\n",
        "import numpy as np\n",
        "import tensorflow as tf\n"
      ],
      "metadata": {
        "id": "mVO89gQIFgjP"
      },
      "execution_count": 1,
      "outputs": []
    },
    {
      "cell_type": "markdown",
      "source": [
        "Descarga de datos"
      ],
      "metadata": {
        "id": "VoQnJPrGFhGk"
      }
    },
    {
      "cell_type": "code",
      "execution_count": 2,
      "metadata": {
        "colab": {
          "base_uri": "https://localhost:8080/"
        },
        "id": "lyRCd2N4DAfe",
        "outputId": "f7d402f7-90c2-471b-fda0-73262c33cd0a"
      },
      "outputs": [
        {
          "output_type": "stream",
          "name": "stdout",
          "text": [
            "--2025-07-07 15:34:40--  https://www.dropbox.com/s/57tel5zqopkssrh/books.csv?dl=0\n",
            "Resolving www.dropbox.com (www.dropbox.com)... 162.125.3.18, 2620:100:6018:18::a27d:312\n",
            "Connecting to www.dropbox.com (www.dropbox.com)|162.125.3.18|:443... connected.\n",
            "HTTP request sent, awaiting response... 302 Found\n",
            "Location: https://www.dropbox.com/scl/fi/5s6xrfnu17yi34sfhmskb/books.csv?rlkey=ymzokbyqw3qq2bq5okfao9w1z&dl=0 [following]\n",
            "--2025-07-07 15:34:40--  https://www.dropbox.com/scl/fi/5s6xrfnu17yi34sfhmskb/books.csv?rlkey=ymzokbyqw3qq2bq5okfao9w1z&dl=0\n",
            "Reusing existing connection to www.dropbox.com:443.\n",
            "HTTP request sent, awaiting response... 302 Found\n",
            "Location: https://uc65e808f68d87610411dfe29105.dl.dropboxusercontent.com/cd/0/inline/CtD-wVzThnpcnljw2TG0ozyCAeC7IsselUnTdU_LyvlLGP6j7BYIep12KgncefcyqcIzAxrwdsf-yzvf997mKGsTOcyK2kCs0j4E3fEoyTxAMqEgzoT0duAt5gmNmVNSuu-BBpkFxcKzFEFwdgOoE6g9/file# [following]\n",
            "--2025-07-07 15:34:41--  https://uc65e808f68d87610411dfe29105.dl.dropboxusercontent.com/cd/0/inline/CtD-wVzThnpcnljw2TG0ozyCAeC7IsselUnTdU_LyvlLGP6j7BYIep12KgncefcyqcIzAxrwdsf-yzvf997mKGsTOcyK2kCs0j4E3fEoyTxAMqEgzoT0duAt5gmNmVNSuu-BBpkFxcKzFEFwdgOoE6g9/file\n",
            "Resolving uc65e808f68d87610411dfe29105.dl.dropboxusercontent.com (uc65e808f68d87610411dfe29105.dl.dropboxusercontent.com)... 162.125.3.15, 2620:100:6018:15::a27d:30f\n",
            "Connecting to uc65e808f68d87610411dfe29105.dl.dropboxusercontent.com (uc65e808f68d87610411dfe29105.dl.dropboxusercontent.com)|162.125.3.15|:443... connected.\n",
            "HTTP request sent, awaiting response... 200 OK\n",
            "Length: 5156485 (4.9M) [text/plain]\n",
            "Saving to: ‘books.csv’\n",
            "\n",
            "books.csv           100%[===================>]   4.92M  --.-KB/s    in 0.09s   \n",
            "\n",
            "2025-07-07 15:34:41 (55.8 MB/s) - ‘books.csv’ saved [5156485/5156485]\n",
            "\n",
            "--2025-07-07 15:34:41--  https://www.dropbox.com/s/zpnnoy1i8ljf9fg/goodreads_bert_embeddings.npy?dl=0\n",
            "Resolving www.dropbox.com (www.dropbox.com)... 162.125.3.18, 2620:100:6018:18::a27d:312\n",
            "Connecting to www.dropbox.com (www.dropbox.com)|162.125.3.18|:443... connected.\n",
            "HTTP request sent, awaiting response... 302 Found\n",
            "Location: https://www.dropbox.com/scl/fi/9t24trwzk8smammwnvvxw/goodreads_bert_embeddings.npy?rlkey=cj0axwkdtbcc94vb4lpj1cdj7&dl=0 [following]\n",
            "--2025-07-07 15:34:42--  https://www.dropbox.com/scl/fi/9t24trwzk8smammwnvvxw/goodreads_bert_embeddings.npy?rlkey=cj0axwkdtbcc94vb4lpj1cdj7&dl=0\n",
            "Reusing existing connection to www.dropbox.com:443.\n",
            "HTTP request sent, awaiting response... 302 Found\n",
            "Location: https://ucd3aadb0ac38592fdbed4e7fa8b.dl.dropboxusercontent.com/cd/0/inline/CtCzB1q795-8QSg9XNocjpPQG1lY99drYZEI4O-7wU9eAHedxCLfFUKxRQeRO8f9jHnmpdSvOy94_ctQDNeJ99uDVvMs-pGjVXLzBhYxs7XUewRKafLKuGMsvftBxU9io8v3u-VgK2fEsimB4D7ze1QK/file# [following]\n",
            "--2025-07-07 15:34:42--  https://ucd3aadb0ac38592fdbed4e7fa8b.dl.dropboxusercontent.com/cd/0/inline/CtCzB1q795-8QSg9XNocjpPQG1lY99drYZEI4O-7wU9eAHedxCLfFUKxRQeRO8f9jHnmpdSvOy94_ctQDNeJ99uDVvMs-pGjVXLzBhYxs7XUewRKafLKuGMsvftBxU9io8v3u-VgK2fEsimB4D7ze1QK/file\n",
            "Resolving ucd3aadb0ac38592fdbed4e7fa8b.dl.dropboxusercontent.com (ucd3aadb0ac38592fdbed4e7fa8b.dl.dropboxusercontent.com)... 162.125.3.15, 2620:100:6018:15::a27d:30f\n",
            "Connecting to ucd3aadb0ac38592fdbed4e7fa8b.dl.dropboxusercontent.com (ucd3aadb0ac38592fdbed4e7fa8b.dl.dropboxusercontent.com)|162.125.3.15|:443... connected.\n",
            "HTTP request sent, awaiting response... 302 Found\n",
            "Location: /cd/0/inline2/CtAgCZwxmT9KHcMKMCLEKNfckBcqp_DmUJnPRf4PFnVy7MQpZv_G8gmH8x1aKZO16pZeuP0AstcGpNf134fkCpiabN6WxDr_r3BJ3yZ67a-Yb_8GK45V-L8y6GrSEJGR67zwo9HFuIUhbpKi1t7qucqzjX0UuGqRzZMSRD18-UCjl6WeNkPmdZ-kkWxq25YZVN0Q0McA3PbddPA2rXxUakFlgSJ0J6Mh2hNxcFminUkLZBT4IgbLInpvsOAhBLjbp9yGeQI9V9l4BMr1Y6NIEYUdzQC0BYy_ZoAyy7_E5kCET0xaOqr6nR0IpmBJ_I70_d0g-WuueOtBJoozWaZBItfXtRE3hg42GLofU8AhUUuTtJL2z_zZQwmFUm5NgLYJwdM/file [following]\n",
            "--2025-07-07 15:34:42--  https://ucd3aadb0ac38592fdbed4e7fa8b.dl.dropboxusercontent.com/cd/0/inline2/CtAgCZwxmT9KHcMKMCLEKNfckBcqp_DmUJnPRf4PFnVy7MQpZv_G8gmH8x1aKZO16pZeuP0AstcGpNf134fkCpiabN6WxDr_r3BJ3yZ67a-Yb_8GK45V-L8y6GrSEJGR67zwo9HFuIUhbpKi1t7qucqzjX0UuGqRzZMSRD18-UCjl6WeNkPmdZ-kkWxq25YZVN0Q0McA3PbddPA2rXxUakFlgSJ0J6Mh2hNxcFminUkLZBT4IgbLInpvsOAhBLjbp9yGeQI9V9l4BMr1Y6NIEYUdzQC0BYy_ZoAyy7_E5kCET0xaOqr6nR0IpmBJ_I70_d0g-WuueOtBJoozWaZBItfXtRE3hg42GLofU8AhUUuTtJL2z_zZQwmFUm5NgLYJwdM/file\n",
            "Reusing existing connection to ucd3aadb0ac38592fdbed4e7fa8b.dl.dropboxusercontent.com:443.\n",
            "HTTP request sent, awaiting response... 200 OK\n",
            "Length: 26339456 (25M) [application/octet-stream]\n",
            "Saving to: ‘goodreads_bert_embeddings.npy’\n",
            "\n",
            "goodreads_bert_embe 100%[===================>]  25.12M  84.4MB/s    in 0.3s    \n",
            "\n",
            "2025-07-07 15:34:43 (84.4 MB/s) - ‘goodreads_bert_embeddings.npy’ saved [26339456/26339456]\n",
            "\n",
            "--2025-07-07 15:34:43--  https://www.dropbox.com/s/a8hcc9w30y7r3jl/goodreads_bert_large_embeddings.npy?dl=0\n",
            "Resolving www.dropbox.com (www.dropbox.com)... 162.125.3.18, 2620:100:6018:18::a27d:312\n",
            "Connecting to www.dropbox.com (www.dropbox.com)|162.125.3.18|:443... connected.\n",
            "HTTP request sent, awaiting response... 302 Found\n",
            "Location: https://www.dropbox.com/scl/fi/9758hmxzeyylo0n4m3m3u/goodreads_bert_large_embeddings.npy?rlkey=xajdff8iigyfc7fin0i9rbgkb&dl=0 [following]\n",
            "--2025-07-07 15:34:43--  https://www.dropbox.com/scl/fi/9758hmxzeyylo0n4m3m3u/goodreads_bert_large_embeddings.npy?rlkey=xajdff8iigyfc7fin0i9rbgkb&dl=0\n",
            "Reusing existing connection to www.dropbox.com:443.\n",
            "HTTP request sent, awaiting response... 302 Found\n",
            "Location: https://uc84a6bfa76f4c5cf878235fc4de.dl.dropboxusercontent.com/cd/0/inline/CtCqSNXoFACbdH2T_fZaET1zXcxm4KCcKHXT_hr7kwKAT01T6s3KDyKsDIppnIqYmP7iQn9zSSyD6FwalzZTUFLDEI2riRO9a_XjH0NbJ5zPOiX_NgE3DnvlcnQDelg4i7C-BhZ9ns4HNfPZeuvZTD5-/file# [following]\n",
            "--2025-07-07 15:34:44--  https://uc84a6bfa76f4c5cf878235fc4de.dl.dropboxusercontent.com/cd/0/inline/CtCqSNXoFACbdH2T_fZaET1zXcxm4KCcKHXT_hr7kwKAT01T6s3KDyKsDIppnIqYmP7iQn9zSSyD6FwalzZTUFLDEI2riRO9a_XjH0NbJ5zPOiX_NgE3DnvlcnQDelg4i7C-BhZ9ns4HNfPZeuvZTD5-/file\n",
            "Resolving uc84a6bfa76f4c5cf878235fc4de.dl.dropboxusercontent.com (uc84a6bfa76f4c5cf878235fc4de.dl.dropboxusercontent.com)... 162.125.6.15, 2620:100:6018:15::a27d:30f\n",
            "Connecting to uc84a6bfa76f4c5cf878235fc4de.dl.dropboxusercontent.com (uc84a6bfa76f4c5cf878235fc4de.dl.dropboxusercontent.com)|162.125.6.15|:443... connected.\n",
            "HTTP request sent, awaiting response... 302 Found\n",
            "Location: /cd/0/inline2/CtCEYF3JD1f1aoLpvb2b9u6l-wrsVLzmQ42ucMqcWhrS6Q69P-wnnIpMlbc1-MBzD8Rd7xlqpyZmfygqbTU-5xwOynmHmyPE3BRi0hWmQ_pcA3vIVQSeyaDZ9CqlEMiaB6fUVZt_phD-GJs4Tx1tpLgbvlJs3zWLI-RVBbTKALGO9E-_oavdcb1onUO-q63Su0DsJBWiq-sK4fBAWkM-510ZN0J4R9h7ds9JUEuMqFnI8p-Fmk90oD6ysCvUu7BdRBgCNRfKNC32F2Uy9CIQwrv0GJdpSWHvOaO1UHt7z2kGxUIS3m22Vo6c0XSBPDpVGLWSpni1kZYDsyldkFQeUnHkO4UByxnBpe9XDnTQ-T6eUadyvaD2MunTvPWJQ53Zp1s/file [following]\n",
            "--2025-07-07 15:34:45--  https://uc84a6bfa76f4c5cf878235fc4de.dl.dropboxusercontent.com/cd/0/inline2/CtCEYF3JD1f1aoLpvb2b9u6l-wrsVLzmQ42ucMqcWhrS6Q69P-wnnIpMlbc1-MBzD8Rd7xlqpyZmfygqbTU-5xwOynmHmyPE3BRi0hWmQ_pcA3vIVQSeyaDZ9CqlEMiaB6fUVZt_phD-GJs4Tx1tpLgbvlJs3zWLI-RVBbTKALGO9E-_oavdcb1onUO-q63Su0DsJBWiq-sK4fBAWkM-510ZN0J4R9h7ds9JUEuMqFnI8p-Fmk90oD6ysCvUu7BdRBgCNRfKNC32F2Uy9CIQwrv0GJdpSWHvOaO1UHt7z2kGxUIS3m22Vo6c0XSBPDpVGLWSpni1kZYDsyldkFQeUnHkO4UByxnBpe9XDnTQ-T6eUadyvaD2MunTvPWJQ53Zp1s/file\n",
            "Reusing existing connection to uc84a6bfa76f4c5cf878235fc4de.dl.dropboxusercontent.com:443.\n",
            "HTTP request sent, awaiting response... 200 OK\n",
            "Length: 35119232 (33M) [application/octet-stream]\n",
            "Saving to: ‘goodreads_bert_large_embeddings.npy’\n",
            "\n",
            "goodreads_bert_larg 100%[===================>]  33.49M  62.5MB/s    in 0.5s    \n",
            "\n",
            "2025-07-07 15:34:45 (62.5 MB/s) - ‘goodreads_bert_large_embeddings.npy’ saved [35119232/35119232]\n",
            "\n",
            "--2025-07-07 15:34:45--  https://www.dropbox.com/s/dqeqpsr0vdvmcy0/goodreads_past_interactions.json?dl=0\n",
            "Resolving www.dropbox.com (www.dropbox.com)... 162.125.3.18, 2620:100:6018:18::a27d:312\n",
            "Connecting to www.dropbox.com (www.dropbox.com)|162.125.3.18|:443... connected.\n",
            "HTTP request sent, awaiting response... 302 Found\n",
            "Location: https://www.dropbox.com/scl/fi/4crrafugs93pzf3xshahz/goodreads_past_interactions.json?rlkey=w58hjav618jk0iyti1c4f85ad&dl=0 [following]\n",
            "--2025-07-07 15:34:46--  https://www.dropbox.com/scl/fi/4crrafugs93pzf3xshahz/goodreads_past_interactions.json?rlkey=w58hjav618jk0iyti1c4f85ad&dl=0\n",
            "Reusing existing connection to www.dropbox.com:443.\n",
            "HTTP request sent, awaiting response... 302 Found\n",
            "Location: https://uce7ad284c6fc8bebf7e5e32be79.dl.dropboxusercontent.com/cd/0/inline/CtCxMSUHpuDYQqQDzY0IBrxNKaNEiTMej1hWDBThuHe4yxs5zFAJEkipUEA1pMqjJ0tVOD84N9fTuLWt9dXizHY-2gww5p3TjICWiHiX9OJNBCI2I7Xu1layPu_nkY6iPrHatebrkHqAXyqIE5LleOHA/file# [following]\n",
            "--2025-07-07 15:34:46--  https://uce7ad284c6fc8bebf7e5e32be79.dl.dropboxusercontent.com/cd/0/inline/CtCxMSUHpuDYQqQDzY0IBrxNKaNEiTMej1hWDBThuHe4yxs5zFAJEkipUEA1pMqjJ0tVOD84N9fTuLWt9dXizHY-2gww5p3TjICWiHiX9OJNBCI2I7Xu1layPu_nkY6iPrHatebrkHqAXyqIE5LleOHA/file\n",
            "Resolving uce7ad284c6fc8bebf7e5e32be79.dl.dropboxusercontent.com (uce7ad284c6fc8bebf7e5e32be79.dl.dropboxusercontent.com)... 162.125.3.15, 2620:100:601c:15::a27d:60f\n",
            "Connecting to uce7ad284c6fc8bebf7e5e32be79.dl.dropboxusercontent.com (uce7ad284c6fc8bebf7e5e32be79.dl.dropboxusercontent.com)|162.125.3.15|:443... connected.\n",
            "HTTP request sent, awaiting response... 200 OK\n",
            "Length: 17685887 (17M) [text/plain]\n",
            "Saving to: ‘goodreads_past_interactions.json’\n",
            "\n",
            "goodreads_past_inte 100%[===================>]  16.87M  93.1MB/s    in 0.2s    \n",
            "\n",
            "2025-07-07 15:34:47 (93.1 MB/s) - ‘goodreads_past_interactions.json’ saved [17685887/17685887]\n",
            "\n",
            "--2025-07-07 15:34:47--  https://www.dropbox.com/s/rjtzhmb2zbpp30q/goodreads_test_interactions.json?dl=0\n",
            "Resolving www.dropbox.com (www.dropbox.com)... 162.125.3.18, 2620:100:6018:18::a27d:312\n",
            "Connecting to www.dropbox.com (www.dropbox.com)|162.125.3.18|:443... connected.\n",
            "HTTP request sent, awaiting response... 302 Found\n",
            "Location: https://www.dropbox.com/scl/fi/slomhi7icrvh57rbo8e92/goodreads_test_interactions.json?rlkey=9xe06jxsx4hncbg9w9wekj93l&dl=0 [following]\n",
            "--2025-07-07 15:34:47--  https://www.dropbox.com/scl/fi/slomhi7icrvh57rbo8e92/goodreads_test_interactions.json?rlkey=9xe06jxsx4hncbg9w9wekj93l&dl=0\n",
            "Reusing existing connection to www.dropbox.com:443.\n",
            "HTTP request sent, awaiting response... 302 Found\n",
            "Location: https://ucc2e99404398ac6b34d991b826a.dl.dropboxusercontent.com/cd/0/inline/CtAE7W2kdsJhTtFXIUG0R0aBC6Qb95jQOJzqnBa-AH0HS3cQJOSZUmCAryao4Q7cc0undDarAQoR2bHVJGv1kHTTXzI2EHNOF6jTKUhQlpgEWxta933I5A_Y9vwvgLJLsYQBph0ao4Ib3at8WTvh5NbW/file# [following]\n",
            "--2025-07-07 15:34:47--  https://ucc2e99404398ac6b34d991b826a.dl.dropboxusercontent.com/cd/0/inline/CtAE7W2kdsJhTtFXIUG0R0aBC6Qb95jQOJzqnBa-AH0HS3cQJOSZUmCAryao4Q7cc0undDarAQoR2bHVJGv1kHTTXzI2EHNOF6jTKUhQlpgEWxta933I5A_Y9vwvgLJLsYQBph0ao4Ib3at8WTvh5NbW/file\n",
            "Resolving ucc2e99404398ac6b34d991b826a.dl.dropboxusercontent.com (ucc2e99404398ac6b34d991b826a.dl.dropboxusercontent.com)... 162.125.3.15, 2620:100:6018:15::a27d:30f\n",
            "Connecting to ucc2e99404398ac6b34d991b826a.dl.dropboxusercontent.com (ucc2e99404398ac6b34d991b826a.dl.dropboxusercontent.com)|162.125.3.15|:443... connected.\n",
            "HTTP request sent, awaiting response... 200 OK\n",
            "Length: 6111 (6.0K) [text/plain]\n",
            "Saving to: ‘goodreads_test_interactions.json’\n",
            "\n",
            "goodreads_test_inte 100%[===================>]   5.97K  --.-KB/s    in 0s      \n",
            "\n",
            "2025-07-07 15:34:48 (1.51 GB/s) - ‘goodreads_test_interactions.json’ saved [6111/6111]\n",
            "\n"
          ]
        }
      ],
      "source": [
        "!wget https://www.dropbox.com/s/57tel5zqopkssrh/books.csv?dl=0 -O books.csv\n",
        "!wget https://www.dropbox.com/s/zpnnoy1i8ljf9fg/goodreads_bert_embeddings.npy?dl=0 -O goodreads_bert_embeddings.npy\n",
        "!wget https://www.dropbox.com/s/a8hcc9w30y7r3jl/goodreads_bert_large_embeddings.npy?dl=0 -O goodreads_bert_large_embeddings.npy\n",
        "!wget https://www.dropbox.com/s/dqeqpsr0vdvmcy0/goodreads_past_interactions.json?dl=0 -O goodreads_past_interactions.json\n",
        "!wget https://www.dropbox.com/s/rjtzhmb2zbpp30q/goodreads_test_interactions.json?dl=0 -O goodreads_test_interactions.json"
      ]
    },
    {
      "cell_type": "code",
      "source": [
        "df_books = pd.read_csv('books.csv')\n",
        "df_books.head()"
      ],
      "metadata": {
        "colab": {
          "base_uri": "https://localhost:8080/",
          "height": 603
        },
        "id": "Fc4hR5npFsxM",
        "outputId": "ecce915c-89b1-416b-d0ad-63907171f443"
      },
      "execution_count": 3,
      "outputs": [
        {
          "output_type": "execute_result",
          "data": {
            "text/plain": [
              "   book_id  goodreads_book_id  best_book_id  work_id  books_count       isbn  \\\n",
              "0        1            2767052       2767052  2792775          272  439023483   \n",
              "1        2                  3             3  4640799          491  439554934   \n",
              "2        3              41865         41865  3212258          226  316015849   \n",
              "3        4               2657          2657  3275794          487   61120081   \n",
              "4        5               4671          4671   245494         1356  743273567   \n",
              "\n",
              "         isbn13                      authors  original_publication_year  \\\n",
              "0  9.780439e+12              Suzanne Collins                     2008.0   \n",
              "1  9.780440e+12  J.K. Rowling, Mary GrandPré                     1997.0   \n",
              "2  9.780316e+12              Stephenie Meyer                     2005.0   \n",
              "3  9.780061e+12                   Harper Lee                     1960.0   \n",
              "4  9.780743e+12          F. Scott Fitzgerald                     1925.0   \n",
              "\n",
              "                             original_title  ... work_ratings_count  \\\n",
              "0                          The Hunger Games  ...            4942365   \n",
              "1  Harry Potter and the Philosopher's Stone  ...            4800065   \n",
              "2                                  Twilight  ...            3916824   \n",
              "3                     To Kill a Mockingbird  ...            3340896   \n",
              "4                          The Great Gatsby  ...            2773745   \n",
              "\n",
              "  work_text_reviews_count  ratings_1  ratings_2  ratings_3  ratings_4  \\\n",
              "0                  155254      66715     127936     560092    1481305   \n",
              "1                   75867      75504     101676     455024    1156318   \n",
              "2                   95009     456191     436802     793319     875073   \n",
              "3                   72586      60427     117415     446835    1001952   \n",
              "4                   51992      86236     197621     606158     936012   \n",
              "\n",
              "   ratings_5                                          image_url  \\\n",
              "0    2706317  https://images.gr-assets.com/books/1447303603m...   \n",
              "1    3011543  https://images.gr-assets.com/books/1474154022m...   \n",
              "2    1355439  https://images.gr-assets.com/books/1361039443m...   \n",
              "3    1714267  https://images.gr-assets.com/books/1361975680m...   \n",
              "4     947718  https://images.gr-assets.com/books/1490528560m...   \n",
              "\n",
              "                                     small_image_url  \\\n",
              "0  https://images.gr-assets.com/books/1447303603s...   \n",
              "1  https://images.gr-assets.com/books/1474154022s...   \n",
              "2  https://images.gr-assets.com/books/1361039443s...   \n",
              "3  https://images.gr-assets.com/books/1361975680s...   \n",
              "4  https://images.gr-assets.com/books/1490528560s...   \n",
              "\n",
              "                                           book_desc  \n",
              "0  Winning will make you famous. Losing means cer...  \n",
              "1  Harry Potter's life is miserable. His parents ...  \n",
              "2  About three things I was absolutely positive.F...  \n",
              "3  The unforgettable novel of a childhood in a sl...  \n",
              "4  Alternate Cover Edition ISBN: 0743273567 (ISBN...  \n",
              "\n",
              "[5 rows x 24 columns]"
            ],
            "text/html": [
              "\n",
              "  <div id=\"df-de596b53-cb97-4cf8-82ca-5447218703c9\" class=\"colab-df-container\">\n",
              "    <div>\n",
              "<style scoped>\n",
              "    .dataframe tbody tr th:only-of-type {\n",
              "        vertical-align: middle;\n",
              "    }\n",
              "\n",
              "    .dataframe tbody tr th {\n",
              "        vertical-align: top;\n",
              "    }\n",
              "\n",
              "    .dataframe thead th {\n",
              "        text-align: right;\n",
              "    }\n",
              "</style>\n",
              "<table border=\"1\" class=\"dataframe\">\n",
              "  <thead>\n",
              "    <tr style=\"text-align: right;\">\n",
              "      <th></th>\n",
              "      <th>book_id</th>\n",
              "      <th>goodreads_book_id</th>\n",
              "      <th>best_book_id</th>\n",
              "      <th>work_id</th>\n",
              "      <th>books_count</th>\n",
              "      <th>isbn</th>\n",
              "      <th>isbn13</th>\n",
              "      <th>authors</th>\n",
              "      <th>original_publication_year</th>\n",
              "      <th>original_title</th>\n",
              "      <th>...</th>\n",
              "      <th>work_ratings_count</th>\n",
              "      <th>work_text_reviews_count</th>\n",
              "      <th>ratings_1</th>\n",
              "      <th>ratings_2</th>\n",
              "      <th>ratings_3</th>\n",
              "      <th>ratings_4</th>\n",
              "      <th>ratings_5</th>\n",
              "      <th>image_url</th>\n",
              "      <th>small_image_url</th>\n",
              "      <th>book_desc</th>\n",
              "    </tr>\n",
              "  </thead>\n",
              "  <tbody>\n",
              "    <tr>\n",
              "      <th>0</th>\n",
              "      <td>1</td>\n",
              "      <td>2767052</td>\n",
              "      <td>2767052</td>\n",
              "      <td>2792775</td>\n",
              "      <td>272</td>\n",
              "      <td>439023483</td>\n",
              "      <td>9.780439e+12</td>\n",
              "      <td>Suzanne Collins</td>\n",
              "      <td>2008.0</td>\n",
              "      <td>The Hunger Games</td>\n",
              "      <td>...</td>\n",
              "      <td>4942365</td>\n",
              "      <td>155254</td>\n",
              "      <td>66715</td>\n",
              "      <td>127936</td>\n",
              "      <td>560092</td>\n",
              "      <td>1481305</td>\n",
              "      <td>2706317</td>\n",
              "      <td>https://images.gr-assets.com/books/1447303603m...</td>\n",
              "      <td>https://images.gr-assets.com/books/1447303603s...</td>\n",
              "      <td>Winning will make you famous. Losing means cer...</td>\n",
              "    </tr>\n",
              "    <tr>\n",
              "      <th>1</th>\n",
              "      <td>2</td>\n",
              "      <td>3</td>\n",
              "      <td>3</td>\n",
              "      <td>4640799</td>\n",
              "      <td>491</td>\n",
              "      <td>439554934</td>\n",
              "      <td>9.780440e+12</td>\n",
              "      <td>J.K. Rowling, Mary GrandPré</td>\n",
              "      <td>1997.0</td>\n",
              "      <td>Harry Potter and the Philosopher's Stone</td>\n",
              "      <td>...</td>\n",
              "      <td>4800065</td>\n",
              "      <td>75867</td>\n",
              "      <td>75504</td>\n",
              "      <td>101676</td>\n",
              "      <td>455024</td>\n",
              "      <td>1156318</td>\n",
              "      <td>3011543</td>\n",
              "      <td>https://images.gr-assets.com/books/1474154022m...</td>\n",
              "      <td>https://images.gr-assets.com/books/1474154022s...</td>\n",
              "      <td>Harry Potter's life is miserable. His parents ...</td>\n",
              "    </tr>\n",
              "    <tr>\n",
              "      <th>2</th>\n",
              "      <td>3</td>\n",
              "      <td>41865</td>\n",
              "      <td>41865</td>\n",
              "      <td>3212258</td>\n",
              "      <td>226</td>\n",
              "      <td>316015849</td>\n",
              "      <td>9.780316e+12</td>\n",
              "      <td>Stephenie Meyer</td>\n",
              "      <td>2005.0</td>\n",
              "      <td>Twilight</td>\n",
              "      <td>...</td>\n",
              "      <td>3916824</td>\n",
              "      <td>95009</td>\n",
              "      <td>456191</td>\n",
              "      <td>436802</td>\n",
              "      <td>793319</td>\n",
              "      <td>875073</td>\n",
              "      <td>1355439</td>\n",
              "      <td>https://images.gr-assets.com/books/1361039443m...</td>\n",
              "      <td>https://images.gr-assets.com/books/1361039443s...</td>\n",
              "      <td>About three things I was absolutely positive.F...</td>\n",
              "    </tr>\n",
              "    <tr>\n",
              "      <th>3</th>\n",
              "      <td>4</td>\n",
              "      <td>2657</td>\n",
              "      <td>2657</td>\n",
              "      <td>3275794</td>\n",
              "      <td>487</td>\n",
              "      <td>61120081</td>\n",
              "      <td>9.780061e+12</td>\n",
              "      <td>Harper Lee</td>\n",
              "      <td>1960.0</td>\n",
              "      <td>To Kill a Mockingbird</td>\n",
              "      <td>...</td>\n",
              "      <td>3340896</td>\n",
              "      <td>72586</td>\n",
              "      <td>60427</td>\n",
              "      <td>117415</td>\n",
              "      <td>446835</td>\n",
              "      <td>1001952</td>\n",
              "      <td>1714267</td>\n",
              "      <td>https://images.gr-assets.com/books/1361975680m...</td>\n",
              "      <td>https://images.gr-assets.com/books/1361975680s...</td>\n",
              "      <td>The unforgettable novel of a childhood in a sl...</td>\n",
              "    </tr>\n",
              "    <tr>\n",
              "      <th>4</th>\n",
              "      <td>5</td>\n",
              "      <td>4671</td>\n",
              "      <td>4671</td>\n",
              "      <td>245494</td>\n",
              "      <td>1356</td>\n",
              "      <td>743273567</td>\n",
              "      <td>9.780743e+12</td>\n",
              "      <td>F. Scott Fitzgerald</td>\n",
              "      <td>1925.0</td>\n",
              "      <td>The Great Gatsby</td>\n",
              "      <td>...</td>\n",
              "      <td>2773745</td>\n",
              "      <td>51992</td>\n",
              "      <td>86236</td>\n",
              "      <td>197621</td>\n",
              "      <td>606158</td>\n",
              "      <td>936012</td>\n",
              "      <td>947718</td>\n",
              "      <td>https://images.gr-assets.com/books/1490528560m...</td>\n",
              "      <td>https://images.gr-assets.com/books/1490528560s...</td>\n",
              "      <td>Alternate Cover Edition ISBN: 0743273567 (ISBN...</td>\n",
              "    </tr>\n",
              "  </tbody>\n",
              "</table>\n",
              "<p>5 rows × 24 columns</p>\n",
              "</div>\n",
              "    <div class=\"colab-df-buttons\">\n",
              "\n",
              "  <div class=\"colab-df-container\">\n",
              "    <button class=\"colab-df-convert\" onclick=\"convertToInteractive('df-de596b53-cb97-4cf8-82ca-5447218703c9')\"\n",
              "            title=\"Convert this dataframe to an interactive table.\"\n",
              "            style=\"display:none;\">\n",
              "\n",
              "  <svg xmlns=\"http://www.w3.org/2000/svg\" height=\"24px\" viewBox=\"0 -960 960 960\">\n",
              "    <path d=\"M120-120v-720h720v720H120Zm60-500h600v-160H180v160Zm220 220h160v-160H400v160Zm0 220h160v-160H400v160ZM180-400h160v-160H180v160Zm440 0h160v-160H620v160ZM180-180h160v-160H180v160Zm440 0h160v-160H620v160Z\"/>\n",
              "  </svg>\n",
              "    </button>\n",
              "\n",
              "  <style>\n",
              "    .colab-df-container {\n",
              "      display:flex;\n",
              "      gap: 12px;\n",
              "    }\n",
              "\n",
              "    .colab-df-convert {\n",
              "      background-color: #E8F0FE;\n",
              "      border: none;\n",
              "      border-radius: 50%;\n",
              "      cursor: pointer;\n",
              "      display: none;\n",
              "      fill: #1967D2;\n",
              "      height: 32px;\n",
              "      padding: 0 0 0 0;\n",
              "      width: 32px;\n",
              "    }\n",
              "\n",
              "    .colab-df-convert:hover {\n",
              "      background-color: #E2EBFA;\n",
              "      box-shadow: 0px 1px 2px rgba(60, 64, 67, 0.3), 0px 1px 3px 1px rgba(60, 64, 67, 0.15);\n",
              "      fill: #174EA6;\n",
              "    }\n",
              "\n",
              "    .colab-df-buttons div {\n",
              "      margin-bottom: 4px;\n",
              "    }\n",
              "\n",
              "    [theme=dark] .colab-df-convert {\n",
              "      background-color: #3B4455;\n",
              "      fill: #D2E3FC;\n",
              "    }\n",
              "\n",
              "    [theme=dark] .colab-df-convert:hover {\n",
              "      background-color: #434B5C;\n",
              "      box-shadow: 0px 1px 3px 1px rgba(0, 0, 0, 0.15);\n",
              "      filter: drop-shadow(0px 1px 2px rgba(0, 0, 0, 0.3));\n",
              "      fill: #FFFFFF;\n",
              "    }\n",
              "  </style>\n",
              "\n",
              "    <script>\n",
              "      const buttonEl =\n",
              "        document.querySelector('#df-de596b53-cb97-4cf8-82ca-5447218703c9 button.colab-df-convert');\n",
              "      buttonEl.style.display =\n",
              "        google.colab.kernel.accessAllowed ? 'block' : 'none';\n",
              "\n",
              "      async function convertToInteractive(key) {\n",
              "        const element = document.querySelector('#df-de596b53-cb97-4cf8-82ca-5447218703c9');\n",
              "        const dataTable =\n",
              "          await google.colab.kernel.invokeFunction('convertToInteractive',\n",
              "                                                    [key], {});\n",
              "        if (!dataTable) return;\n",
              "\n",
              "        const docLinkHtml = 'Like what you see? Visit the ' +\n",
              "          '<a target=\"_blank\" href=https://colab.research.google.com/notebooks/data_table.ipynb>data table notebook</a>'\n",
              "          + ' to learn more about interactive tables.';\n",
              "        element.innerHTML = '';\n",
              "        dataTable['output_type'] = 'display_data';\n",
              "        await google.colab.output.renderOutput(dataTable, element);\n",
              "        const docLink = document.createElement('div');\n",
              "        docLink.innerHTML = docLinkHtml;\n",
              "        element.appendChild(docLink);\n",
              "      }\n",
              "    </script>\n",
              "  </div>\n",
              "\n",
              "\n",
              "    <div id=\"df-cab43f6c-b0b2-4890-8988-19dd37cfd651\">\n",
              "      <button class=\"colab-df-quickchart\" onclick=\"quickchart('df-cab43f6c-b0b2-4890-8988-19dd37cfd651')\"\n",
              "                title=\"Suggest charts\"\n",
              "                style=\"display:none;\">\n",
              "\n",
              "<svg xmlns=\"http://www.w3.org/2000/svg\" height=\"24px\"viewBox=\"0 0 24 24\"\n",
              "     width=\"24px\">\n",
              "    <g>\n",
              "        <path d=\"M19 3H5c-1.1 0-2 .9-2 2v14c0 1.1.9 2 2 2h14c1.1 0 2-.9 2-2V5c0-1.1-.9-2-2-2zM9 17H7v-7h2v7zm4 0h-2V7h2v10zm4 0h-2v-4h2v4z\"/>\n",
              "    </g>\n",
              "</svg>\n",
              "      </button>\n",
              "\n",
              "<style>\n",
              "  .colab-df-quickchart {\n",
              "      --bg-color: #E8F0FE;\n",
              "      --fill-color: #1967D2;\n",
              "      --hover-bg-color: #E2EBFA;\n",
              "      --hover-fill-color: #174EA6;\n",
              "      --disabled-fill-color: #AAA;\n",
              "      --disabled-bg-color: #DDD;\n",
              "  }\n",
              "\n",
              "  [theme=dark] .colab-df-quickchart {\n",
              "      --bg-color: #3B4455;\n",
              "      --fill-color: #D2E3FC;\n",
              "      --hover-bg-color: #434B5C;\n",
              "      --hover-fill-color: #FFFFFF;\n",
              "      --disabled-bg-color: #3B4455;\n",
              "      --disabled-fill-color: #666;\n",
              "  }\n",
              "\n",
              "  .colab-df-quickchart {\n",
              "    background-color: var(--bg-color);\n",
              "    border: none;\n",
              "    border-radius: 50%;\n",
              "    cursor: pointer;\n",
              "    display: none;\n",
              "    fill: var(--fill-color);\n",
              "    height: 32px;\n",
              "    padding: 0;\n",
              "    width: 32px;\n",
              "  }\n",
              "\n",
              "  .colab-df-quickchart:hover {\n",
              "    background-color: var(--hover-bg-color);\n",
              "    box-shadow: 0 1px 2px rgba(60, 64, 67, 0.3), 0 1px 3px 1px rgba(60, 64, 67, 0.15);\n",
              "    fill: var(--button-hover-fill-color);\n",
              "  }\n",
              "\n",
              "  .colab-df-quickchart-complete:disabled,\n",
              "  .colab-df-quickchart-complete:disabled:hover {\n",
              "    background-color: var(--disabled-bg-color);\n",
              "    fill: var(--disabled-fill-color);\n",
              "    box-shadow: none;\n",
              "  }\n",
              "\n",
              "  .colab-df-spinner {\n",
              "    border: 2px solid var(--fill-color);\n",
              "    border-color: transparent;\n",
              "    border-bottom-color: var(--fill-color);\n",
              "    animation:\n",
              "      spin 1s steps(1) infinite;\n",
              "  }\n",
              "\n",
              "  @keyframes spin {\n",
              "    0% {\n",
              "      border-color: transparent;\n",
              "      border-bottom-color: var(--fill-color);\n",
              "      border-left-color: var(--fill-color);\n",
              "    }\n",
              "    20% {\n",
              "      border-color: transparent;\n",
              "      border-left-color: var(--fill-color);\n",
              "      border-top-color: var(--fill-color);\n",
              "    }\n",
              "    30% {\n",
              "      border-color: transparent;\n",
              "      border-left-color: var(--fill-color);\n",
              "      border-top-color: var(--fill-color);\n",
              "      border-right-color: var(--fill-color);\n",
              "    }\n",
              "    40% {\n",
              "      border-color: transparent;\n",
              "      border-right-color: var(--fill-color);\n",
              "      border-top-color: var(--fill-color);\n",
              "    }\n",
              "    60% {\n",
              "      border-color: transparent;\n",
              "      border-right-color: var(--fill-color);\n",
              "    }\n",
              "    80% {\n",
              "      border-color: transparent;\n",
              "      border-right-color: var(--fill-color);\n",
              "      border-bottom-color: var(--fill-color);\n",
              "    }\n",
              "    90% {\n",
              "      border-color: transparent;\n",
              "      border-bottom-color: var(--fill-color);\n",
              "    }\n",
              "  }\n",
              "</style>\n",
              "\n",
              "      <script>\n",
              "        async function quickchart(key) {\n",
              "          const quickchartButtonEl =\n",
              "            document.querySelector('#' + key + ' button');\n",
              "          quickchartButtonEl.disabled = true;  // To prevent multiple clicks.\n",
              "          quickchartButtonEl.classList.add('colab-df-spinner');\n",
              "          try {\n",
              "            const charts = await google.colab.kernel.invokeFunction(\n",
              "                'suggestCharts', [key], {});\n",
              "          } catch (error) {\n",
              "            console.error('Error during call to suggestCharts:', error);\n",
              "          }\n",
              "          quickchartButtonEl.classList.remove('colab-df-spinner');\n",
              "          quickchartButtonEl.classList.add('colab-df-quickchart-complete');\n",
              "        }\n",
              "        (() => {\n",
              "          let quickchartButtonEl =\n",
              "            document.querySelector('#df-cab43f6c-b0b2-4890-8988-19dd37cfd651 button');\n",
              "          quickchartButtonEl.style.display =\n",
              "            google.colab.kernel.accessAllowed ? 'block' : 'none';\n",
              "        })();\n",
              "      </script>\n",
              "    </div>\n",
              "\n",
              "    </div>\n",
              "  </div>\n"
            ],
            "application/vnd.google.colaboratory.intrinsic+json": {
              "type": "dataframe",
              "variable_name": "df_books"
            }
          },
          "metadata": {},
          "execution_count": 3
        }
      ]
    },
    {
      "cell_type": "code",
      "source": [
        "with open('goodreads_past_interactions.json', 'r') as f:\n",
        "    user_interactions = json.load(f)\n"
      ],
      "metadata": {
        "id": "nbJCtyYnGYu0"
      },
      "execution_count": 4,
      "outputs": []
    },
    {
      "cell_type": "code",
      "source": [
        "with open('goodreads_test_interactions.json', 'r') as f:\n",
        "    user_interactions_test = json.load(f)"
      ],
      "metadata": {
        "id": "MLN3MXZ7XX7k"
      },
      "execution_count": 5,
      "outputs": []
    },
    {
      "cell_type": "code",
      "source": [
        "idx2userid = {i: id_ for i, id_ in enumerate(user_interactions.keys())}\n",
        "userid2idx = {id_:i for i, id_ in enumerate(user_interactions.keys())}"
      ],
      "metadata": {
        "id": "Ovkel1RDXgrg"
      },
      "execution_count": 6,
      "outputs": []
    },
    {
      "cell_type": "code",
      "source": [
        "# 2) Build userid2idx by enumerating all distinct user IDs in the training set.\n",
        "#    (You could also include users from test if there are any users in test not in train,\n",
        "#     but typically we drop test-users that never appear in train.)\n",
        "\n",
        "userid2idx = { raw_uid: idx\n",
        "               for idx, raw_uid in enumerate(user_interactions.keys()) }\n",
        "\n",
        "#    If you want to ensure we include any “new” users that appear only in test:\n",
        "for raw_uid in user_interactions_test.keys():\n",
        "    if raw_uid not in userid2idx:\n",
        "        userid2idx[raw_uid] = len(userid2idx)"
      ],
      "metadata": {
        "id": "uBB0p1K1jfto"
      },
      "execution_count": 7,
      "outputs": []
    },
    {
      "cell_type": "code",
      "source": [
        "# 3) Build the set of all book IDs that appear in either train or test:\n",
        "all_book_ids = set()\n",
        "\n",
        "#    From train:\n",
        "for raw_uid, book_list in user_interactions.items():\n",
        "    for raw_bid in book_list:\n",
        "        all_book_ids.add(raw_bid)\n",
        "\n",
        "#    From test:\n",
        "for raw_uid, book_list in user_interactions_test.items():\n",
        "    for raw_bid in book_list:\n",
        "        all_book_ids.add(raw_bid)"
      ],
      "metadata": {
        "id": "RjjROkwMjzqa"
      },
      "execution_count": 8,
      "outputs": []
    },
    {
      "cell_type": "code",
      "source": [
        "# 4) Now enumerate that set to build bookid2idx\n",
        "bookid2idx = { raw_bid: idx for idx, raw_bid in enumerate(all_book_ids) }"
      ],
      "metadata": {
        "id": "KhKpkXQxj2AU"
      },
      "execution_count": 9,
      "outputs": []
    },
    {
      "cell_type": "code",
      "source": [
        "# 5) Now you can check:\n",
        "num_users = len(userid2idx)\n",
        "num_items = len(bookid2idx)\n",
        "\n",
        "print(f\"Number of distinct users: {num_users}\")\n",
        "print(f\"Number of distinct books: {num_items}\")"
      ],
      "metadata": {
        "colab": {
          "base_uri": "https://localhost:8080/"
        },
        "id": "otMd8oofj3_Q",
        "outputId": "cc79a4c5-f323-4af8-d949-c7721951af7e"
      },
      "execution_count": 10,
      "outputs": [
        {
          "output_type": "stream",
          "name": "stdout",
          "text": [
            "Number of distinct users: 52821\n",
            "Number of distinct books: 4287\n"
          ]
        }
      ]
    },
    {
      "cell_type": "code",
      "source": [
        "unique_books = df_books.shape[0]\n",
        "num_columns_table = df_books.shape[1]\n",
        "\n",
        "print(f\"Number of unique books: {unique_books}\")\n",
        "print(f\"Number of columns in the table: {num_columns_table}\")"
      ],
      "metadata": {
        "colab": {
          "base_uri": "https://localhost:8080/"
        },
        "id": "BC1iscAdj8HY",
        "outputId": "c9d6607c-86f3-4138-e2c4-4910196e0033"
      },
      "execution_count": 11,
      "outputs": [
        {
          "output_type": "stream",
          "name": "stdout",
          "text": [
            "Number of unique books: 4287\n",
            "Number of columns in the table: 24\n"
          ]
        }
      ]
    },
    {
      "cell_type": "markdown",
      "source": [
        "## Build “(user, item, label)” arrays for training"
      ],
      "metadata": {
        "id": "HfX8CLhScCvt"
      }
    },
    {
      "cell_type": "markdown",
      "source": [
        "First, we’ll construct a dictionary of “positive item-indices per user_idx” for training:"
      ],
      "metadata": {
        "id": "Q76pXDNScPBT"
      }
    },
    {
      "cell_type": "code",
      "source": [
        "from collections import defaultdict\n",
        "\n",
        "# pos_items_per_user[u_idx] = set of i_idx that user u_idx interacted with in train\n",
        "pos_items_per_user = defaultdict(set)\n",
        "\n",
        "for raw_u, book_list in user_interactions.items():\n",
        "    u_idx = userid2idx[raw_u]\n",
        "    for raw_b in book_list:\n",
        "        i_idx = bookid2idx[raw_b]\n",
        "        pos_items_per_user[u_idx].add(i_idx)\n",
        "\n",
        "# (Now pos_items_per_user[u_idx] is a Python set of i_idx for each user)"
      ],
      "metadata": {
        "id": "t_dX8nUpcFq2"
      },
      "execution_count": 12,
      "outputs": []
    },
    {
      "cell_type": "markdown",
      "source": [
        "Next, negative sampling. For each positive pair (u_idx, i_idx), we will sample n_neg_per_pos “negatives” j ∈ [0..num_items−1] such that j ∉ pos_items_per_user[u_idx]. Let’s choose 4 negatives per positive:"
      ],
      "metadata": {
        "id": "hurBcn9Bc9ff"
      }
    },
    {
      "cell_type": "code",
      "source": [
        "n_neg_per_pos = 2\n",
        "rng = np.random.default_rng(seed=42)\n",
        "\n",
        "user_input = []\n",
        "item_input = []\n",
        "labels = []\n",
        "\n",
        "for u_idx, pos_set in pos_items_per_user.items():\n",
        "    # If a user has no positives (unlikely), skip.\n",
        "    if len(pos_set) == 0:\n",
        "        continue\n",
        "\n",
        "    for i_idx in pos_set:\n",
        "        # — Positive sample —\n",
        "        user_input.append(u_idx)\n",
        "        item_input.append(i_idx)\n",
        "        labels.append(1.0)\n",
        "\n",
        "        # — Negative samples —\n",
        "        neg_count = 0\n",
        "        while neg_count < n_neg_per_pos:\n",
        "            sampled_i = rng.integers(low=0, high=num_items)\n",
        "            if sampled_i not in pos_set:\n",
        "                user_input.append(u_idx)\n",
        "                item_input.append(sampled_i)\n",
        "                labels.append(0.0)\n",
        "                neg_count += 1\n",
        "\n",
        "# Convert lists → NumPy arrays for Keras\n",
        "user_input = np.array(user_input, dtype=np.int32)   # shape = (N_total_examples,)\n",
        "item_input = np.array(item_input, dtype=np.int32)   # shape = (N_total_examples,)\n",
        "labels     = np.array(labels,     dtype=np.float32) # shape = (N_total_examples,)\n",
        "\n",
        "print(\"train triples:\", user_input.shape, item_input.shape, labels.shape)\n"
      ],
      "metadata": {
        "colab": {
          "base_uri": "https://localhost:8080/"
        },
        "id": "Ot6L9Z95dCpI",
        "outputId": "08e48d34-196d-450c-8b20-74dab8ba66fe"
      },
      "execution_count": 13,
      "outputs": [
        {
          "output_type": "stream",
          "name": "stdout",
          "text": [
            "train triples: (10063569,) (10063569,) (10063569,)\n"
          ]
        }
      ]
    },
    {
      "cell_type": "markdown",
      "source": [
        "## Build (user, item, label) arrays for validation (test)"
      ],
      "metadata": {
        "id": "ppUkWc1GeFZX"
      }
    },
    {
      "cell_type": "code",
      "source": [
        "# 1) Construct pos_items_per_user_test[u_idx]\n",
        "pos_items_per_user_test = defaultdict(set)\n",
        "for raw_u, book_list in user_interactions_test.items():\n",
        "    # It’s possible that user_interactions_test contains a user not seen in training.\n",
        "    # If so, skip them (or add them to userid2idx + pos_items_per_user if you want cold-start eval).\n",
        "    if raw_u not in userid2idx:\n",
        "        continue\n",
        "    u_idx = userid2idx[raw_u]\n",
        "    for raw_b in book_list:\n",
        "        if raw_b not in bookid2idx:\n",
        "            # skip books that weren’t in your mapping\n",
        "            continue\n",
        "        i_idx = bookid2idx[raw_b]\n",
        "        pos_items_per_user_test[u_idx].add(i_idx)\n",
        "\n",
        "# 2) Negative sampling for test:\n",
        "user_input_test = []\n",
        "item_input_test = []\n",
        "labels_test = []\n",
        "\n",
        "for u_idx, pos_set in pos_items_per_user_test.items():\n",
        "    if len(pos_set) == 0:\n",
        "        continue\n",
        "\n",
        "    for i_idx in pos_set:\n",
        "        # Positive\n",
        "        user_input_test.append(u_idx)\n",
        "        item_input_test.append(i_idx)\n",
        "        labels_test.append(1.0)\n",
        "\n",
        "        # Negatives\n",
        "        neg_count = 0\n",
        "        while neg_count < n_neg_per_pos:\n",
        "            sampled_i = rng.integers(low=0, high=num_items)\n",
        "            if sampled_i not in pos_set:\n",
        "                user_input_test.append(u_idx)\n",
        "                item_input_test.append(sampled_i)\n",
        "                labels_test.append(0.0)\n",
        "                neg_count += 1\n",
        "\n",
        "user_input_test = np.array(user_input_test, dtype=np.int32)\n",
        "item_input_test = np.array(item_input_test, dtype=np.int32)\n",
        "labels_test     = np.array(labels_test,     dtype=np.float32)\n",
        "\n",
        "print(\"test triples:\", user_input_test.shape, item_input_test.shape, labels_test.shape)"
      ],
      "metadata": {
        "colab": {
          "base_uri": "https://localhost:8080/"
        },
        "id": "H0dF76DIeMHr",
        "outputId": "749bb839-dac9-4583-b155-19b19e165a44"
      },
      "execution_count": 14,
      "outputs": [
        {
          "output_type": "stream",
          "name": "stdout",
          "text": [
            "test triples: (3000,) (3000,) (3000,)\n"
          ]
        }
      ]
    },
    {
      "cell_type": "markdown",
      "source": [
        "## Item features"
      ],
      "metadata": {
        "id": "Jai5NBVVeapX"
      }
    },
    {
      "cell_type": "code",
      "source": [
        "bert_embeddings = np.load(\"goodreads_bert_embeddings.npy\")  # shape: (num_items, embedding_dim)\n",
        "#bert_embeddings_large = np.load(\"goodreads_bert_large_embeddings.npy\")\n",
        "\n",
        "num_items, embedding_dim = bert_embeddings.shape\n",
        "\n",
        "print(bert_embeddings.shape)\n"
      ],
      "metadata": {
        "colab": {
          "base_uri": "https://localhost:8080/"
        },
        "id": "dVMqCUddeZ-d",
        "outputId": "8aa682f9-0368-4335-c5a6-f753fa989bc4"
      },
      "execution_count": 15,
      "outputs": [
        {
          "output_type": "stream",
          "name": "stdout",
          "text": [
            "(4287, 768)\n"
          ]
        }
      ]
    },
    {
      "cell_type": "code",
      "source": [
        "# For training\n",
        "#item_feat_input = item_features[item_input]         # shape = (N_train, D)\n",
        "#item_feat_input = bert_embeddings[item_input]\n",
        "# For validation\n",
        "#item_feat_input_test = item_features[item_input_test]\n",
        "#item_feat_input_test = bert_embeddings[item_input_test]"
      ],
      "metadata": {
        "id": "K1lIaahLh1Y8"
      },
      "execution_count": 16,
      "outputs": []
    },
    {
      "cell_type": "markdown",
      "source": [
        "# Functions for Ranking Metrics"
      ],
      "metadata": {
        "id": "tG0K0Uo7xLSU"
      }
    },
    {
      "cell_type": "markdown",
      "source": [
        "## Metricas de precision"
      ],
      "metadata": {
        "id": "h5ag6ssHZ-hY"
      }
    },
    {
      "cell_type": "code",
      "source": [
        "import numpy as np\n",
        "\n",
        "def precision_at_k(predicted_items, true_set, k):\n",
        "    \"\"\"\n",
        "    predicted_items: list or 1D array of item-indices ranked by descending score (length ≥ k)\n",
        "    true_set: a Python set of ground-truth positive items for this user\n",
        "    k: cutoff\n",
        "    \"\"\"\n",
        "    pred_k = predicted_items[:k]\n",
        "    hits = sum((1 for i in pred_k if i in true_set))\n",
        "    return hits / k\n",
        "\n",
        "def dcg_at_k(predicted_items, true_set, k):\n",
        "    \"\"\"\n",
        "    DCG@k = sum_{i=1..k} ( rel_i / log2(i+1) ), where rel_i = 1 if predicted_items[i-1] ∈ true_set\n",
        "    \"\"\"\n",
        "    dcg = 0.0\n",
        "    for rank, item in enumerate(predicted_items[:k], start=1):\n",
        "        if item in true_set:\n",
        "            dcg += 1.0 / np.log2(rank + 1)\n",
        "    return dcg\n",
        "\n",
        "def idcg_at_k(true_set, k):\n",
        "    \"\"\"\n",
        "    Ideal DCG@k for this user, i.e. if we ranked all true items first.\n",
        "    IDCG = sum_{i=1..min(len(true_set), k)} (1 / log2(i+1))\n",
        "    \"\"\"\n",
        "    n_rel = min(len(true_set), k)\n",
        "    if n_rel == 0:\n",
        "        return 0.0\n",
        "    return sum((1.0 / np.log2(i + 1) for i in range(1, n_rel + 1)))\n",
        "\n",
        "def ndcg_at_k(predicted_items, true_set, k):\n",
        "    \"\"\"\n",
        "    NDCG@k = DCG@k / IDCG@k\n",
        "    \"\"\"\n",
        "    dcg = dcg_at_k(predicted_items, true_set, k)\n",
        "    idcg = idcg_at_k(true_set, k)\n",
        "    return 0.0 if idcg == 0 else dcg / idcg\n",
        "\n",
        "def average_precision_at_k(predicted_items, true_set, k):\n",
        "    \"\"\"\n",
        "    AP@k for a single user:\n",
        "    AP = (1 / min(n_pos, k)) * sum_{i=1..k} ( precision@i * rel_i ),\n",
        "    where rel_i = 1 if predicted_items[i-1] ∈ true_set, else 0.\n",
        "    If the user has no positives, define AP = 0.0.\n",
        "    \"\"\"\n",
        "    if len(true_set) == 0:\n",
        "        return 0.0\n",
        "\n",
        "    hits = 0\n",
        "    score = 0.0\n",
        "    for idx, item in enumerate(predicted_items[:k], start=1):\n",
        "        if item in true_set:\n",
        "            hits += 1\n",
        "            score += hits / idx  # precision@idx\n",
        "    return score / min(len(true_set), k)\n"
      ],
      "metadata": {
        "id": "M4igD1PnxRYj"
      },
      "execution_count": 17,
      "outputs": []
    },
    {
      "cell_type": "markdown",
      "source": [
        "Prepare per‐user ground‐truth sets"
      ],
      "metadata": {
        "id": "BkvEI7bexYhw"
      }
    },
    {
      "cell_type": "code",
      "source": [
        "from collections import defaultdict\n",
        "\n",
        "# 1) Build train_pos (you probably have this as pos_items_per_user):\n",
        "train_pos = defaultdict(set)\n",
        "for raw_u, book_list in user_interactions.items():\n",
        "    u_idx = userid2idx[raw_u]\n",
        "    for raw_b in book_list:\n",
        "        train_pos[u_idx].add(bookid2idx[raw_b])\n",
        "\n",
        "# 2) Build test_pos similarly:\n",
        "test_pos = defaultdict(set)\n",
        "for raw_u, book_list in user_interactions_test.items():\n",
        "    if raw_u not in userid2idx:\n",
        "        continue\n",
        "    u_idx = userid2idx[raw_u]\n",
        "    for raw_b in book_list:\n",
        "        if raw_b not in bookid2idx:\n",
        "            continue\n",
        "        test_pos[u_idx].add(bookid2idx[raw_b])\n"
      ],
      "metadata": {
        "id": "oqfG3yaTxZyP"
      },
      "execution_count": 18,
      "outputs": []
    },
    {
      "cell_type": "code",
      "source": [
        "all_users = list(test_pos.keys())  # only users with ≥1 test interaction\n",
        "num_items_check = len(bookid2idx)        # total number of distinct items\n"
      ],
      "metadata": {
        "id": "mZHtE_ZOxhn2"
      },
      "execution_count": 19,
      "outputs": []
    },
    {
      "cell_type": "markdown",
      "source": [
        "## Metricas de diversidad y novelty"
      ],
      "metadata": {
        "id": "7abGhLcbaE8D"
      }
    },
    {
      "cell_type": "markdown",
      "source": [
        "Contador de Popularidad en Train"
      ],
      "metadata": {
        "id": "g7O9Z9iGZvdz"
      }
    },
    {
      "cell_type": "code",
      "source": [
        "from collections import Counter\n",
        "all_train_pairs = [\n",
        "    (u_idx, i_idx)\n",
        "    for u_idx, books in user_interactions.items()\n",
        "    for i_idx in [bookid2idx[b] for b in books]\n",
        "]\n",
        "pop_counter = Counter(i for _, i in all_train_pairs)\n",
        "max_pop = max(pop_counter.values())"
      ],
      "metadata": {
        "id": "DWPGKs2vZy-l"
      },
      "execution_count": 20,
      "outputs": []
    },
    {
      "cell_type": "markdown",
      "source": [
        "Funciones"
      ],
      "metadata": {
        "id": "Sm5yzkgOZ36y"
      }
    },
    {
      "cell_type": "code",
      "source": [],
      "metadata": {
        "id": "e35NI8JmxnZe"
      },
      "execution_count": 20,
      "outputs": []
    },
    {
      "cell_type": "code",
      "source": [
        "from sklearn.metrics.pairwise import cosine_similarity\n",
        "\n",
        "# Intra list diversity\n",
        "def ild_at_k(topk, feat_matrix, k):\n",
        "    vecs = feat_matrix[topk[:k]]              # (k, D)\n",
        "    sims = cosine_similarity(vecs)            # (k, k)\n",
        "    i, j = np.triu_indices(k, k=1)\n",
        "    return np.mean(1.0 - sims[i, j])\n",
        "\n",
        "# Novelty basado en popularidad global\n",
        "def novelty_popularity(topk, pop_counter, max_pop, k):\n",
        "    pops = np.array([pop_counter[i] for i in topk[:k]], dtype=np.float32)\n",
        "    return np.mean(1.0 - pops / max_pop)"
      ],
      "metadata": {
        "id": "4ThX-ZbraNak"
      },
      "execution_count": 21,
      "outputs": []
    },
    {
      "cell_type": "markdown",
      "source": [
        "## Custom Keras callback to compute metrics"
      ],
      "metadata": {
        "id": "F7MhQrmWyHqO"
      }
    },
    {
      "cell_type": "code",
      "source": [
        "import tensorflow as tf\n",
        "\n",
        "class RankingMetricsCallback(tf.keras.callbacks.Callback):\n",
        "    def __init__(self, train_pos, test_pos, num_items, k=10, verbose=1):\n",
        "        \"\"\"\n",
        "        train_pos: dict[u_idx] -> set of item indices the user interacted with in training\n",
        "        test_pos: dict[u_idx] -> set of item indices for ground-truth test positives\n",
        "        num_items: total number of distinct items\n",
        "        k: cutoff for precision@k, NDCG@k, MAP@k\n",
        "        verbose: 0 or 1 (whether to print results)\n",
        "        \"\"\"\n",
        "        super().__init__()\n",
        "        self.train_pos = train_pos\n",
        "        self.test_pos = test_pos\n",
        "        self.num_items = num_items\n",
        "        self.k = k\n",
        "        self.verbose = verbose\n",
        "\n",
        "        # Precompute for speed: a full array of all item indices\n",
        "        self.all_items_arr = np.arange(num_items, dtype=np.int32)\n",
        "\n",
        "    def on_epoch_end(self, epoch, logs=None):\n",
        "        \"\"\"\n",
        "        At the end of each epoch, compute average Precision@k, NDCG@k, MAP@k over all users\n",
        "        in test_pos. Adds metrics to logs dictionary and prints them.\n",
        "        \"\"\"\n",
        "        precision_list = []\n",
        "        ndcg_list = []\n",
        "        ap_list = []\n",
        "        ilds = []\n",
        "        novelties = []\n",
        "\n",
        "        # For each user in test_pos:\n",
        "        for u_idx, true_set in self.test_pos.items():\n",
        "            if not true_set:\n",
        "                continue\n",
        "\n",
        "            # 1) Build candidate items = all_items \\ train_pos[u]\n",
        "            train_set = self.train_pos.get(u_idx, set())\n",
        "            # Boolean mask for candidates:\n",
        "            if len(train_set) == 0:\n",
        "                candidates = self.all_items_arr\n",
        "            else:\n",
        "                mask = np.ones(self.num_items, dtype=bool)\n",
        "                mask[list(train_set)] = False\n",
        "                candidates = self.all_items_arr[mask]\n",
        "\n",
        "            # 2) Build user and item batches for prediction\n",
        "            u_batch = np.full(shape=(candidates.shape[0],), fill_value=u_idx, dtype=np.int32)\n",
        "            i_batch = candidates\n",
        "\n",
        "            # 3) Get scores from the model\n",
        "            #    Note: model.predict(...) can be batched inside (it handles large arrays)\n",
        "            scores = self.model.predict([u_batch, i_batch], batch_size=2048, verbose=0).flatten()\n",
        "\n",
        "            # 4) Get top-k items by descending score\n",
        "            topk_indices = np.argpartition(-scores, self.k - 1)[:self.k]\n",
        "            # `argpartition` is O(n), then we sort those k for final ranking:\n",
        "            topk_scores = scores[topk_indices]\n",
        "            topk_items = candidates[topk_indices][np.argsort(-topk_scores)]\n",
        "\n",
        "            # 5) Compute metrics for this user\n",
        "            p_at_k = precision_at_k(topk_items, true_set, self.k)\n",
        "            ndcg_k = ndcg_at_k(topk_items, true_set, self.k)\n",
        "            ap_k = average_precision_at_k(topk_items, true_set, self.k)\n",
        "\n",
        "            ild_k = ild_at_k(topk_items, bert_embeddings, self.k)\n",
        "            novelty_k = novelty_popularity(topk_items, pop_counter, max_pop, self.k)\n",
        "\n",
        "            precision_list.append(p_at_k)\n",
        "            ndcg_list.append(ndcg_k)\n",
        "            ap_list.append(ap_k)\n",
        "\n",
        "            ilds.append(ild_k)\n",
        "            novelties.append(novelty_k)\n",
        "\n",
        "        # 6) Average across all users\n",
        "        avg_precision = float(np.mean(precision_list)) if precision_list else 0.0\n",
        "        avg_ndcg      = float(np.mean(ndcg_list))      if ndcg_list else 0.0\n",
        "        avg_map       = float(np.mean(ap_list))        if ap_list else 0.0\n",
        "        avg_ild       = float(np.mean(ilds))          if ilds else 0.0\n",
        "        avg_novelty   = float(np.mean(novelties))     if novelties else 0.0\n",
        "\n",
        "        # 7) Log into `logs` so Keras will record them\n",
        "        if logs is not None:\n",
        "            logs[f\"Precision@{self.k}\"] = avg_precision\n",
        "            logs[f\"NDCG@{self.k}\"]      = avg_ndcg\n",
        "            logs[f\"MAP@{self.k}\"]       = avg_map\n",
        "            logs[f\"ILD@{self.k}\"]      = avg_ild\n",
        "            logs[f\"Novelty@{self.k}\"]   = avg_novelty\n",
        "\n",
        "        # 8) Optionally print to console\n",
        "        if self.verbose > 0:\n",
        "            print(\n",
        "                f\" — epoch {epoch + 1:>2d}: \"\n",
        "                f\"Precision@{self.k}={avg_precision:.4f}, \"\n",
        "                f\"NDCG@{self.k}={avg_ndcg:.4f}, \"\n",
        "                f\"MAP@{self.k}={avg_map:.4f}\"\n",
        "                f\"ILD@{self.k}={avg_ild:.4f}\"\n",
        "                f\"Novelty@{self.k}={avg_novelty:.4f}\"\n",
        "            )\n"
      ],
      "metadata": {
        "id": "KnGH_CgFyMHK"
      },
      "execution_count": 22,
      "outputs": []
    },
    {
      "cell_type": "code",
      "source": [
        "import tensorflow as tf\n",
        "\n",
        "class MultiKRankingCallback(tf.keras.callbacks.Callback):\n",
        "    def __init__(self, train_pos, test_pos, num_items, Ks=[5,10,20], verbose=1):\n",
        "        \"\"\"\n",
        "        train_pos: dict[u_idx] -> set of item indices the user interacted with in training\n",
        "        test_pos: dict[u_idx] -> set of item indices for ground-truth test positives\n",
        "        num_items: total number of distinct items\n",
        "        k: cutoff for precision@k, NDCG@k, MAP@k\n",
        "        verbose: 0 or 1 (whether to print results)\n",
        "        \"\"\"\n",
        "        super().__init__()\n",
        "        self.train_pos = train_pos\n",
        "        self.test_pos = test_pos\n",
        "        self.num_items = num_items\n",
        "        self.Ks = Ks\n",
        "        self.verbose = verbose\n",
        "\n",
        "        # Precompute for speed: a full array of all item indices\n",
        "        self.all_items_arr = np.arange(num_items, dtype=np.int32)\n",
        "\n",
        "    def on_epoch_end(self, epoch, logs=None):\n",
        "        \"\"\"\n",
        "        At the end of each epoch, compute average Precision@k, NDCG@k, MAP@k over all users\n",
        "        in test_pos. Adds metrics to logs dictionary and prints them.\n",
        "        \"\"\"\n",
        "        precision_list = []\n",
        "        ndcg_list = []\n",
        "        ap_list = []\n",
        "        ilds = []\n",
        "        novelties = []\n",
        "\n",
        "        metrics = {K: {\"prec\":[], \"ndcg\":[], \"map\":[],\"ild\":[], \"nov\":[]} for K in self.Ks}\n",
        "\n",
        "        # For each user in test_pos:\n",
        "        for u_idx, true_set in self.test_pos.items():\n",
        "            if not true_set:\n",
        "                continue\n",
        "\n",
        "            # 1) Build candidate items = all_items \\ train_pos[u]\n",
        "            train_set = self.train_pos.get(u_idx, set())\n",
        "            # Boolean mask for candidates:\n",
        "            if len(train_set) == 0:\n",
        "                candidates = self.all_items_arr\n",
        "            else:\n",
        "                mask = np.ones(self.num_items, dtype=bool)\n",
        "                mask[list(train_set)] = False\n",
        "                candidates = self.all_items_arr[mask]\n",
        "\n",
        "            # 2) Build user and item batches for prediction\n",
        "            u_batch = np.full(shape=(candidates.shape[0],), fill_value=u_idx, dtype=np.int32)\n",
        "            i_batch = candidates\n",
        "\n",
        "            # 3) Get scores from the model\n",
        "            #    Note: model.predict(...) can be batched inside (it handles large arrays)\n",
        "            scores = self.model.predict([u_batch, i_batch], batch_size=2048, verbose=0).flatten()\n",
        "\n",
        "            for K in self.Ks:\n",
        "                # 4) Get top-k items by descending score\n",
        "                topk_indices = np.argpartition(-scores, K - 1)[:K]\n",
        "                # `argpartition` is O(n), then we sort those k for final ranking:\n",
        "                topk_scores = scores[topk_indices]\n",
        "                topk_items = candidates[topk_indices][np.argsort(-topk_scores)]\n",
        "\n",
        "                # 5) Compute metrics for this user\n",
        "                p_at_k = precision_at_k(topk_items, true_set, K)\n",
        "                ndcg_k = ndcg_at_k(topk_items, true_set, K)\n",
        "                ap_k = average_precision_at_k(topk_items, true_set, K)\n",
        "\n",
        "                ild_k = ild_at_k(topk_items, bert_embeddings, K)\n",
        "                novelty_k = novelty_popularity(topk_items, pop_counter, max_pop, K)\n",
        "\n",
        "                m = metrics[K]\n",
        "                m[\"prec\"].append(p_at_k)\n",
        "                m[\"ndcg\"].append(ndcg_k)\n",
        "                m[\"map\"].append(ap_k)\n",
        "                m[\"ild\"].append(ild_k)\n",
        "                m[\"nov\"].append(novelty_k)\n",
        "\n",
        "        # 6) Average across all users and log so Keras will record them\n",
        "        for K in self.Ks:\n",
        "            m = metrics[K]\n",
        "            logs[f\"Precision@{K}\"] = float(np.mean(m[\"prec\"])) if m[\"prec\"] else 0.0\n",
        "            logs[f\"NDCG@{K}\"]      = float(np.mean(m[\"ndcg\"])) if m[\"ndcg\"] else 0.0\n",
        "            logs[f\"MAP@{K}\"]       = float(np.mean(m[\"map\"])) if m[\"map\"] else 0.0\n",
        "            logs[f\"ILD@{K}\"]      = float(np.mean(m[\"ild\"])) if m[\"ild\"] else 0.0\n",
        "            logs[f\"Novelty@{K}\"]   = float(np.mean(m[\"nov\"])) if m[\"nov\"] else 0.0\n",
        "\n",
        "        # 8) Optionally print to console\n",
        "        if self.verbose > 0:\n",
        "            line = f\" — epoch {epoch + 1}: \"\n",
        "            for K in self.Ks:\n",
        "                m = metrics[K]\n",
        "                line += (\n",
        "                    f\"  P@{K}={logs[f'Precision@{K}']:.3f},\"\n",
        "                    f\" NDCG@{K}={logs[f'NDCG@{K}']:.3f},\"\n",
        "                    f\" MAP@{K}={logs[f'MAP@{K}']:.3f},\"\n",
        "                    f\" ILD@{K}={logs[f'ILD@{K}']:.3f},\"\n",
        "                    f\" Nov@{K}={logs[f'Novelty@{K}']:.3f};\"\n",
        "                )\n",
        "            print(line)\n"
      ],
      "metadata": {
        "id": "xWjzNX3n0Ce9"
      },
      "execution_count": 23,
      "outputs": []
    },
    {
      "cell_type": "markdown",
      "source": [
        "# Vanilla NCF (Keras)\n"
      ],
      "metadata": {
        "id": "LOm6qixhe25Z"
      }
    },
    {
      "cell_type": "code",
      "source": [
        "from tensorflow.keras.layers import Input, Embedding, Flatten, Multiply, Concatenate, Dense, Dropout\n",
        "from tensorflow.keras.models import Model\n",
        "from tensorflow.keras import mixed_precision\n",
        "mixed_precision.set_global_policy(\"mixed_float16\")\n",
        "\n",
        "# 1) Reduced hyperparameters\n",
        "K_mf  = 16\n",
        "K_mlp = 32\n",
        "mlp_layers = [32, 16]\n",
        "dropout_rate = 0.2\n",
        "\n",
        "# 2) Define inputs\n",
        "user_in = Input(shape=(), dtype=tf.int32, name=\"user_input\")\n",
        "item_in = Input(shape=(), dtype=tf.int32, name=\"item_input\")\n",
        "\n",
        "# 3) GMF branch\n",
        "u_mf = Embedding(num_users, K_mf, name=\"u_embed_mf\")(user_in)\n",
        "i_mf = Embedding(num_items, K_mf, name=\"i_embed_mf\")(item_in)\n",
        "u_latent_mf = Flatten()(u_mf)\n",
        "i_latent_mf = Flatten()(i_mf)\n",
        "mf_vec = Multiply()([u_latent_mf, i_latent_mf])  # (batch, K_mf)\n",
        "\n",
        "# 4) MLP branch (smaller dims)\n",
        "u_mlp_emb = Embedding(num_users, K_mlp, name=\"u_embed_mlp\")(user_in)\n",
        "i_mlp_emb = Embedding(num_items, K_mlp, name=\"i_embed_mlp\")(item_in)\n",
        "u_latent_mlp = Flatten()(u_mlp_emb)\n",
        "i_latent_mlp = Flatten()(i_mlp_emb)\n",
        "\n",
        "mlp_vec = Concatenate()([u_latent_mlp, i_latent_mlp])  # (batch, 2*K_mlp)\n",
        "for idx, size in enumerate(mlp_layers):\n",
        "    mlp_vec = Dense(units=size, activation=\"relu\", name=f\"mlp_dense_{idx}\")(mlp_vec)\n",
        "    mlp_vec = Dropout(dropout_rate)(mlp_vec)\n",
        "\n",
        "# 5) Combine GMF + MLP\n",
        "concat = Concatenate()([mf_vec, mlp_vec])\n",
        "output = Dense(units=1, activation=\"sigmoid\", name=\"prediction\")(concat)\n",
        "\n",
        "model_vanilla = Model(inputs=[user_in, item_in], outputs=output)\n",
        "model_vanilla.compile(\n",
        "    optimizer=tf.keras.optimizers.Adam(1e-3),\n",
        "    loss=\"binary_crossentropy\",\n",
        "    metrics=[tf.keras.metrics.AUC(name=\"auc\")]\n",
        ")\n",
        "model_vanilla.summary()\n"
      ],
      "metadata": {
        "colab": {
          "base_uri": "https://localhost:8080/",
          "height": 901
        },
        "id": "Ki_aLz-3fUNq",
        "outputId": "a67f37b2-1420-4408-a7c5-83fe166b9839"
      },
      "execution_count": 24,
      "outputs": [
        {
          "output_type": "display_data",
          "data": {
            "text/plain": [
              "\u001b[1mModel: \"functional\"\u001b[0m\n"
            ],
            "text/html": [
              "<pre style=\"white-space:pre;overflow-x:auto;line-height:normal;font-family:Menlo,'DejaVu Sans Mono',consolas,'Courier New',monospace\"><span style=\"font-weight: bold\">Model: \"functional\"</span>\n",
              "</pre>\n"
            ]
          },
          "metadata": {}
        },
        {
          "output_type": "display_data",
          "data": {
            "text/plain": [
              "┏━━━━━━━━━━━━━━━━━━━━━┳━━━━━━━━━━━━━━━━━━━┳━━━━━━━━━━━━┳━━━━━━━━━━━━━━━━━━━┓\n",
              "┃\u001b[1m \u001b[0m\u001b[1mLayer (type)       \u001b[0m\u001b[1m \u001b[0m┃\u001b[1m \u001b[0m\u001b[1mOutput Shape     \u001b[0m\u001b[1m \u001b[0m┃\u001b[1m \u001b[0m\u001b[1m   Param #\u001b[0m\u001b[1m \u001b[0m┃\u001b[1m \u001b[0m\u001b[1mConnected to     \u001b[0m\u001b[1m \u001b[0m┃\n",
              "┡━━━━━━━━━━━━━━━━━━━━━╇━━━━━━━━━━━━━━━━━━━╇━━━━━━━━━━━━╇━━━━━━━━━━━━━━━━━━━┩\n",
              "│ user_input          │ (\u001b[38;5;45mNone\u001b[0m)            │          \u001b[38;5;34m0\u001b[0m │ -                 │\n",
              "│ (\u001b[38;5;33mInputLayer\u001b[0m)        │                   │            │                   │\n",
              "├─────────────────────┼───────────────────┼────────────┼───────────────────┤\n",
              "│ item_input          │ (\u001b[38;5;45mNone\u001b[0m)            │          \u001b[38;5;34m0\u001b[0m │ -                 │\n",
              "│ (\u001b[38;5;33mInputLayer\u001b[0m)        │                   │            │                   │\n",
              "├─────────────────────┼───────────────────┼────────────┼───────────────────┤\n",
              "│ u_embed_mlp         │ (\u001b[38;5;45mNone\u001b[0m, \u001b[38;5;34m32\u001b[0m)        │  \u001b[38;5;34m1,690,272\u001b[0m │ user_input[\u001b[38;5;34m0\u001b[0m][\u001b[38;5;34m0\u001b[0m]  │\n",
              "│ (\u001b[38;5;33mEmbedding\u001b[0m)         │                   │            │                   │\n",
              "├─────────────────────┼───────────────────┼────────────┼───────────────────┤\n",
              "│ i_embed_mlp         │ (\u001b[38;5;45mNone\u001b[0m, \u001b[38;5;34m32\u001b[0m)        │    \u001b[38;5;34m137,184\u001b[0m │ item_input[\u001b[38;5;34m0\u001b[0m][\u001b[38;5;34m0\u001b[0m]  │\n",
              "│ (\u001b[38;5;33mEmbedding\u001b[0m)         │                   │            │                   │\n",
              "├─────────────────────┼───────────────────┼────────────┼───────────────────┤\n",
              "│ flatten_2 (\u001b[38;5;33mFlatten\u001b[0m) │ (\u001b[38;5;45mNone\u001b[0m, \u001b[38;5;34m32\u001b[0m)        │          \u001b[38;5;34m0\u001b[0m │ u_embed_mlp[\u001b[38;5;34m0\u001b[0m][\u001b[38;5;34m0\u001b[0m] │\n",
              "├─────────────────────┼───────────────────┼────────────┼───────────────────┤\n",
              "│ flatten_3 (\u001b[38;5;33mFlatten\u001b[0m) │ (\u001b[38;5;45mNone\u001b[0m, \u001b[38;5;34m32\u001b[0m)        │          \u001b[38;5;34m0\u001b[0m │ i_embed_mlp[\u001b[38;5;34m0\u001b[0m][\u001b[38;5;34m0\u001b[0m] │\n",
              "├─────────────────────┼───────────────────┼────────────┼───────────────────┤\n",
              "│ concatenate         │ (\u001b[38;5;45mNone\u001b[0m, \u001b[38;5;34m64\u001b[0m)        │          \u001b[38;5;34m0\u001b[0m │ flatten_2[\u001b[38;5;34m0\u001b[0m][\u001b[38;5;34m0\u001b[0m],  │\n",
              "│ (\u001b[38;5;33mConcatenate\u001b[0m)       │                   │            │ flatten_3[\u001b[38;5;34m0\u001b[0m][\u001b[38;5;34m0\u001b[0m]   │\n",
              "├─────────────────────┼───────────────────┼────────────┼───────────────────┤\n",
              "│ mlp_dense_0 (\u001b[38;5;33mDense\u001b[0m) │ (\u001b[38;5;45mNone\u001b[0m, \u001b[38;5;34m32\u001b[0m)        │      \u001b[38;5;34m2,080\u001b[0m │ concatenate[\u001b[38;5;34m0\u001b[0m][\u001b[38;5;34m0\u001b[0m] │\n",
              "├─────────────────────┼───────────────────┼────────────┼───────────────────┤\n",
              "│ u_embed_mf          │ (\u001b[38;5;45mNone\u001b[0m, \u001b[38;5;34m16\u001b[0m)        │    \u001b[38;5;34m845,136\u001b[0m │ user_input[\u001b[38;5;34m0\u001b[0m][\u001b[38;5;34m0\u001b[0m]  │\n",
              "│ (\u001b[38;5;33mEmbedding\u001b[0m)         │                   │            │                   │\n",
              "├─────────────────────┼───────────────────┼────────────┼───────────────────┤\n",
              "│ i_embed_mf          │ (\u001b[38;5;45mNone\u001b[0m, \u001b[38;5;34m16\u001b[0m)        │     \u001b[38;5;34m68,592\u001b[0m │ item_input[\u001b[38;5;34m0\u001b[0m][\u001b[38;5;34m0\u001b[0m]  │\n",
              "│ (\u001b[38;5;33mEmbedding\u001b[0m)         │                   │            │                   │\n",
              "├─────────────────────┼───────────────────┼────────────┼───────────────────┤\n",
              "│ dropout (\u001b[38;5;33mDropout\u001b[0m)   │ (\u001b[38;5;45mNone\u001b[0m, \u001b[38;5;34m32\u001b[0m)        │          \u001b[38;5;34m0\u001b[0m │ mlp_dense_0[\u001b[38;5;34m0\u001b[0m][\u001b[38;5;34m0\u001b[0m] │\n",
              "├─────────────────────┼───────────────────┼────────────┼───────────────────┤\n",
              "│ flatten (\u001b[38;5;33mFlatten\u001b[0m)   │ (\u001b[38;5;45mNone\u001b[0m, \u001b[38;5;34m16\u001b[0m)        │          \u001b[38;5;34m0\u001b[0m │ u_embed_mf[\u001b[38;5;34m0\u001b[0m][\u001b[38;5;34m0\u001b[0m]  │\n",
              "├─────────────────────┼───────────────────┼────────────┼───────────────────┤\n",
              "│ flatten_1 (\u001b[38;5;33mFlatten\u001b[0m) │ (\u001b[38;5;45mNone\u001b[0m, \u001b[38;5;34m16\u001b[0m)        │          \u001b[38;5;34m0\u001b[0m │ i_embed_mf[\u001b[38;5;34m0\u001b[0m][\u001b[38;5;34m0\u001b[0m]  │\n",
              "├─────────────────────┼───────────────────┼────────────┼───────────────────┤\n",
              "│ mlp_dense_1 (\u001b[38;5;33mDense\u001b[0m) │ (\u001b[38;5;45mNone\u001b[0m, \u001b[38;5;34m16\u001b[0m)        │        \u001b[38;5;34m528\u001b[0m │ dropout[\u001b[38;5;34m0\u001b[0m][\u001b[38;5;34m0\u001b[0m]     │\n",
              "├─────────────────────┼───────────────────┼────────────┼───────────────────┤\n",
              "│ multiply (\u001b[38;5;33mMultiply\u001b[0m) │ (\u001b[38;5;45mNone\u001b[0m, \u001b[38;5;34m16\u001b[0m)        │          \u001b[38;5;34m0\u001b[0m │ flatten[\u001b[38;5;34m0\u001b[0m][\u001b[38;5;34m0\u001b[0m],    │\n",
              "│                     │                   │            │ flatten_1[\u001b[38;5;34m0\u001b[0m][\u001b[38;5;34m0\u001b[0m]   │\n",
              "├─────────────────────┼───────────────────┼────────────┼───────────────────┤\n",
              "│ dropout_1 (\u001b[38;5;33mDropout\u001b[0m) │ (\u001b[38;5;45mNone\u001b[0m, \u001b[38;5;34m16\u001b[0m)        │          \u001b[38;5;34m0\u001b[0m │ mlp_dense_1[\u001b[38;5;34m0\u001b[0m][\u001b[38;5;34m0\u001b[0m] │\n",
              "├─────────────────────┼───────────────────┼────────────┼───────────────────┤\n",
              "│ concatenate_1       │ (\u001b[38;5;45mNone\u001b[0m, \u001b[38;5;34m32\u001b[0m)        │          \u001b[38;5;34m0\u001b[0m │ multiply[\u001b[38;5;34m0\u001b[0m][\u001b[38;5;34m0\u001b[0m],   │\n",
              "│ (\u001b[38;5;33mConcatenate\u001b[0m)       │                   │            │ dropout_1[\u001b[38;5;34m0\u001b[0m][\u001b[38;5;34m0\u001b[0m]   │\n",
              "├─────────────────────┼───────────────────┼────────────┼───────────────────┤\n",
              "│ prediction (\u001b[38;5;33mDense\u001b[0m)  │ (\u001b[38;5;45mNone\u001b[0m, \u001b[38;5;34m1\u001b[0m)         │         \u001b[38;5;34m33\u001b[0m │ concatenate_1[\u001b[38;5;34m0\u001b[0m]… │\n",
              "└─────────────────────┴───────────────────┴────────────┴───────────────────┘\n"
            ],
            "text/html": [
              "<pre style=\"white-space:pre;overflow-x:auto;line-height:normal;font-family:Menlo,'DejaVu Sans Mono',consolas,'Courier New',monospace\">┏━━━━━━━━━━━━━━━━━━━━━┳━━━━━━━━━━━━━━━━━━━┳━━━━━━━━━━━━┳━━━━━━━━━━━━━━━━━━━┓\n",
              "┃<span style=\"font-weight: bold\"> Layer (type)        </span>┃<span style=\"font-weight: bold\"> Output Shape      </span>┃<span style=\"font-weight: bold\">    Param # </span>┃<span style=\"font-weight: bold\"> Connected to      </span>┃\n",
              "┡━━━━━━━━━━━━━━━━━━━━━╇━━━━━━━━━━━━━━━━━━━╇━━━━━━━━━━━━╇━━━━━━━━━━━━━━━━━━━┩\n",
              "│ user_input          │ (<span style=\"color: #00d7ff; text-decoration-color: #00d7ff\">None</span>)            │          <span style=\"color: #00af00; text-decoration-color: #00af00\">0</span> │ -                 │\n",
              "│ (<span style=\"color: #0087ff; text-decoration-color: #0087ff\">InputLayer</span>)        │                   │            │                   │\n",
              "├─────────────────────┼───────────────────┼────────────┼───────────────────┤\n",
              "│ item_input          │ (<span style=\"color: #00d7ff; text-decoration-color: #00d7ff\">None</span>)            │          <span style=\"color: #00af00; text-decoration-color: #00af00\">0</span> │ -                 │\n",
              "│ (<span style=\"color: #0087ff; text-decoration-color: #0087ff\">InputLayer</span>)        │                   │            │                   │\n",
              "├─────────────────────┼───────────────────┼────────────┼───────────────────┤\n",
              "│ u_embed_mlp         │ (<span style=\"color: #00d7ff; text-decoration-color: #00d7ff\">None</span>, <span style=\"color: #00af00; text-decoration-color: #00af00\">32</span>)        │  <span style=\"color: #00af00; text-decoration-color: #00af00\">1,690,272</span> │ user_input[<span style=\"color: #00af00; text-decoration-color: #00af00\">0</span>][<span style=\"color: #00af00; text-decoration-color: #00af00\">0</span>]  │\n",
              "│ (<span style=\"color: #0087ff; text-decoration-color: #0087ff\">Embedding</span>)         │                   │            │                   │\n",
              "├─────────────────────┼───────────────────┼────────────┼───────────────────┤\n",
              "│ i_embed_mlp         │ (<span style=\"color: #00d7ff; text-decoration-color: #00d7ff\">None</span>, <span style=\"color: #00af00; text-decoration-color: #00af00\">32</span>)        │    <span style=\"color: #00af00; text-decoration-color: #00af00\">137,184</span> │ item_input[<span style=\"color: #00af00; text-decoration-color: #00af00\">0</span>][<span style=\"color: #00af00; text-decoration-color: #00af00\">0</span>]  │\n",
              "│ (<span style=\"color: #0087ff; text-decoration-color: #0087ff\">Embedding</span>)         │                   │            │                   │\n",
              "├─────────────────────┼───────────────────┼────────────┼───────────────────┤\n",
              "│ flatten_2 (<span style=\"color: #0087ff; text-decoration-color: #0087ff\">Flatten</span>) │ (<span style=\"color: #00d7ff; text-decoration-color: #00d7ff\">None</span>, <span style=\"color: #00af00; text-decoration-color: #00af00\">32</span>)        │          <span style=\"color: #00af00; text-decoration-color: #00af00\">0</span> │ u_embed_mlp[<span style=\"color: #00af00; text-decoration-color: #00af00\">0</span>][<span style=\"color: #00af00; text-decoration-color: #00af00\">0</span>] │\n",
              "├─────────────────────┼───────────────────┼────────────┼───────────────────┤\n",
              "│ flatten_3 (<span style=\"color: #0087ff; text-decoration-color: #0087ff\">Flatten</span>) │ (<span style=\"color: #00d7ff; text-decoration-color: #00d7ff\">None</span>, <span style=\"color: #00af00; text-decoration-color: #00af00\">32</span>)        │          <span style=\"color: #00af00; text-decoration-color: #00af00\">0</span> │ i_embed_mlp[<span style=\"color: #00af00; text-decoration-color: #00af00\">0</span>][<span style=\"color: #00af00; text-decoration-color: #00af00\">0</span>] │\n",
              "├─────────────────────┼───────────────────┼────────────┼───────────────────┤\n",
              "│ concatenate         │ (<span style=\"color: #00d7ff; text-decoration-color: #00d7ff\">None</span>, <span style=\"color: #00af00; text-decoration-color: #00af00\">64</span>)        │          <span style=\"color: #00af00; text-decoration-color: #00af00\">0</span> │ flatten_2[<span style=\"color: #00af00; text-decoration-color: #00af00\">0</span>][<span style=\"color: #00af00; text-decoration-color: #00af00\">0</span>],  │\n",
              "│ (<span style=\"color: #0087ff; text-decoration-color: #0087ff\">Concatenate</span>)       │                   │            │ flatten_3[<span style=\"color: #00af00; text-decoration-color: #00af00\">0</span>][<span style=\"color: #00af00; text-decoration-color: #00af00\">0</span>]   │\n",
              "├─────────────────────┼───────────────────┼────────────┼───────────────────┤\n",
              "│ mlp_dense_0 (<span style=\"color: #0087ff; text-decoration-color: #0087ff\">Dense</span>) │ (<span style=\"color: #00d7ff; text-decoration-color: #00d7ff\">None</span>, <span style=\"color: #00af00; text-decoration-color: #00af00\">32</span>)        │      <span style=\"color: #00af00; text-decoration-color: #00af00\">2,080</span> │ concatenate[<span style=\"color: #00af00; text-decoration-color: #00af00\">0</span>][<span style=\"color: #00af00; text-decoration-color: #00af00\">0</span>] │\n",
              "├─────────────────────┼───────────────────┼────────────┼───────────────────┤\n",
              "│ u_embed_mf          │ (<span style=\"color: #00d7ff; text-decoration-color: #00d7ff\">None</span>, <span style=\"color: #00af00; text-decoration-color: #00af00\">16</span>)        │    <span style=\"color: #00af00; text-decoration-color: #00af00\">845,136</span> │ user_input[<span style=\"color: #00af00; text-decoration-color: #00af00\">0</span>][<span style=\"color: #00af00; text-decoration-color: #00af00\">0</span>]  │\n",
              "│ (<span style=\"color: #0087ff; text-decoration-color: #0087ff\">Embedding</span>)         │                   │            │                   │\n",
              "├─────────────────────┼───────────────────┼────────────┼───────────────────┤\n",
              "│ i_embed_mf          │ (<span style=\"color: #00d7ff; text-decoration-color: #00d7ff\">None</span>, <span style=\"color: #00af00; text-decoration-color: #00af00\">16</span>)        │     <span style=\"color: #00af00; text-decoration-color: #00af00\">68,592</span> │ item_input[<span style=\"color: #00af00; text-decoration-color: #00af00\">0</span>][<span style=\"color: #00af00; text-decoration-color: #00af00\">0</span>]  │\n",
              "│ (<span style=\"color: #0087ff; text-decoration-color: #0087ff\">Embedding</span>)         │                   │            │                   │\n",
              "├─────────────────────┼───────────────────┼────────────┼───────────────────┤\n",
              "│ dropout (<span style=\"color: #0087ff; text-decoration-color: #0087ff\">Dropout</span>)   │ (<span style=\"color: #00d7ff; text-decoration-color: #00d7ff\">None</span>, <span style=\"color: #00af00; text-decoration-color: #00af00\">32</span>)        │          <span style=\"color: #00af00; text-decoration-color: #00af00\">0</span> │ mlp_dense_0[<span style=\"color: #00af00; text-decoration-color: #00af00\">0</span>][<span style=\"color: #00af00; text-decoration-color: #00af00\">0</span>] │\n",
              "├─────────────────────┼───────────────────┼────────────┼───────────────────┤\n",
              "│ flatten (<span style=\"color: #0087ff; text-decoration-color: #0087ff\">Flatten</span>)   │ (<span style=\"color: #00d7ff; text-decoration-color: #00d7ff\">None</span>, <span style=\"color: #00af00; text-decoration-color: #00af00\">16</span>)        │          <span style=\"color: #00af00; text-decoration-color: #00af00\">0</span> │ u_embed_mf[<span style=\"color: #00af00; text-decoration-color: #00af00\">0</span>][<span style=\"color: #00af00; text-decoration-color: #00af00\">0</span>]  │\n",
              "├─────────────────────┼───────────────────┼────────────┼───────────────────┤\n",
              "│ flatten_1 (<span style=\"color: #0087ff; text-decoration-color: #0087ff\">Flatten</span>) │ (<span style=\"color: #00d7ff; text-decoration-color: #00d7ff\">None</span>, <span style=\"color: #00af00; text-decoration-color: #00af00\">16</span>)        │          <span style=\"color: #00af00; text-decoration-color: #00af00\">0</span> │ i_embed_mf[<span style=\"color: #00af00; text-decoration-color: #00af00\">0</span>][<span style=\"color: #00af00; text-decoration-color: #00af00\">0</span>]  │\n",
              "├─────────────────────┼───────────────────┼────────────┼───────────────────┤\n",
              "│ mlp_dense_1 (<span style=\"color: #0087ff; text-decoration-color: #0087ff\">Dense</span>) │ (<span style=\"color: #00d7ff; text-decoration-color: #00d7ff\">None</span>, <span style=\"color: #00af00; text-decoration-color: #00af00\">16</span>)        │        <span style=\"color: #00af00; text-decoration-color: #00af00\">528</span> │ dropout[<span style=\"color: #00af00; text-decoration-color: #00af00\">0</span>][<span style=\"color: #00af00; text-decoration-color: #00af00\">0</span>]     │\n",
              "├─────────────────────┼───────────────────┼────────────┼───────────────────┤\n",
              "│ multiply (<span style=\"color: #0087ff; text-decoration-color: #0087ff\">Multiply</span>) │ (<span style=\"color: #00d7ff; text-decoration-color: #00d7ff\">None</span>, <span style=\"color: #00af00; text-decoration-color: #00af00\">16</span>)        │          <span style=\"color: #00af00; text-decoration-color: #00af00\">0</span> │ flatten[<span style=\"color: #00af00; text-decoration-color: #00af00\">0</span>][<span style=\"color: #00af00; text-decoration-color: #00af00\">0</span>],    │\n",
              "│                     │                   │            │ flatten_1[<span style=\"color: #00af00; text-decoration-color: #00af00\">0</span>][<span style=\"color: #00af00; text-decoration-color: #00af00\">0</span>]   │\n",
              "├─────────────────────┼───────────────────┼────────────┼───────────────────┤\n",
              "│ dropout_1 (<span style=\"color: #0087ff; text-decoration-color: #0087ff\">Dropout</span>) │ (<span style=\"color: #00d7ff; text-decoration-color: #00d7ff\">None</span>, <span style=\"color: #00af00; text-decoration-color: #00af00\">16</span>)        │          <span style=\"color: #00af00; text-decoration-color: #00af00\">0</span> │ mlp_dense_1[<span style=\"color: #00af00; text-decoration-color: #00af00\">0</span>][<span style=\"color: #00af00; text-decoration-color: #00af00\">0</span>] │\n",
              "├─────────────────────┼───────────────────┼────────────┼───────────────────┤\n",
              "│ concatenate_1       │ (<span style=\"color: #00d7ff; text-decoration-color: #00d7ff\">None</span>, <span style=\"color: #00af00; text-decoration-color: #00af00\">32</span>)        │          <span style=\"color: #00af00; text-decoration-color: #00af00\">0</span> │ multiply[<span style=\"color: #00af00; text-decoration-color: #00af00\">0</span>][<span style=\"color: #00af00; text-decoration-color: #00af00\">0</span>],   │\n",
              "│ (<span style=\"color: #0087ff; text-decoration-color: #0087ff\">Concatenate</span>)       │                   │            │ dropout_1[<span style=\"color: #00af00; text-decoration-color: #00af00\">0</span>][<span style=\"color: #00af00; text-decoration-color: #00af00\">0</span>]   │\n",
              "├─────────────────────┼───────────────────┼────────────┼───────────────────┤\n",
              "│ prediction (<span style=\"color: #0087ff; text-decoration-color: #0087ff\">Dense</span>)  │ (<span style=\"color: #00d7ff; text-decoration-color: #00d7ff\">None</span>, <span style=\"color: #00af00; text-decoration-color: #00af00\">1</span>)         │         <span style=\"color: #00af00; text-decoration-color: #00af00\">33</span> │ concatenate_1[<span style=\"color: #00af00; text-decoration-color: #00af00\">0</span>]… │\n",
              "└─────────────────────┴───────────────────┴────────────┴───────────────────┘\n",
              "</pre>\n"
            ]
          },
          "metadata": {}
        },
        {
          "output_type": "display_data",
          "data": {
            "text/plain": [
              "\u001b[1m Total params: \u001b[0m\u001b[38;5;34m2,743,825\u001b[0m (10.47 MB)\n"
            ],
            "text/html": [
              "<pre style=\"white-space:pre;overflow-x:auto;line-height:normal;font-family:Menlo,'DejaVu Sans Mono',consolas,'Courier New',monospace\"><span style=\"font-weight: bold\"> Total params: </span><span style=\"color: #00af00; text-decoration-color: #00af00\">2,743,825</span> (10.47 MB)\n",
              "</pre>\n"
            ]
          },
          "metadata": {}
        },
        {
          "output_type": "display_data",
          "data": {
            "text/plain": [
              "\u001b[1m Trainable params: \u001b[0m\u001b[38;5;34m2,743,825\u001b[0m (10.47 MB)\n"
            ],
            "text/html": [
              "<pre style=\"white-space:pre;overflow-x:auto;line-height:normal;font-family:Menlo,'DejaVu Sans Mono',consolas,'Courier New',monospace\"><span style=\"font-weight: bold\"> Trainable params: </span><span style=\"color: #00af00; text-decoration-color: #00af00\">2,743,825</span> (10.47 MB)\n",
              "</pre>\n"
            ]
          },
          "metadata": {}
        },
        {
          "output_type": "display_data",
          "data": {
            "text/plain": [
              "\u001b[1m Non-trainable params: \u001b[0m\u001b[38;5;34m0\u001b[0m (0.00 B)\n"
            ],
            "text/html": [
              "<pre style=\"white-space:pre;overflow-x:auto;line-height:normal;font-family:Menlo,'DejaVu Sans Mono',consolas,'Courier New',monospace\"><span style=\"font-weight: bold\"> Non-trainable params: </span><span style=\"color: #00af00; text-decoration-color: #00af00\">0</span> (0.00 B)\n",
              "</pre>\n"
            ]
          },
          "metadata": {}
        }
      ]
    },
    {
      "cell_type": "markdown",
      "source": [
        "Before training, prepare callback for metrics"
      ],
      "metadata": {
        "id": "sFxycFKeyi7u"
      }
    },
    {
      "cell_type": "code",
      "source": [
        "ks = [5, 10, 20]\n",
        "rank_cb = MultiKRankingCallback(\n",
        "    train_pos=train_pos,      # user → set of train-positive items\n",
        "    test_pos=test_pos,        # user → set of test-positive items\n",
        "    num_items=num_items,      # total number of distinct items (4287)\n",
        "    Ks=ks,                     # compute Precision@10, NDCG@10, MAP@10\n",
        "    verbose=1                 # set to 1 to print metrics each epoch\n",
        ")"
      ],
      "metadata": {
        "id": "pRoHx0pvyigI"
      },
      "execution_count": 25,
      "outputs": []
    },
    {
      "cell_type": "markdown",
      "source": [
        "Train on tf.data.Dataset\n"
      ],
      "metadata": {
        "id": "sMQ1uEOphYst"
      }
    },
    {
      "cell_type": "code",
      "source": [
        "batch_size = 4096  # increase if your GPU/Colab can handle it (maybe 4096)\n",
        "buffer_size = 100_000\n",
        "\n",
        "# 1) Build a Dataset from your three 1D NumPy arrays\n",
        "#    Each element is (u_idx, i_idx, label).\n",
        "train_ds = tf.data.Dataset.from_tensor_slices((user_input, item_input, labels))\n",
        "\n",
        "# 2) Shuffle → batch → prefetch.  Drop remainder so each batch is exactly `batch_size`.\n",
        "train_ds = (\n",
        "    train_ds\n",
        "    .shuffle(buffer_size, seed=42)\n",
        "    .batch(batch_size, drop_remainder=True)\n",
        "    .map(lambda u, i, y: ((u, i), y), num_parallel_calls=tf.data.AUTOTUNE)\n",
        "    .prefetch(tf.data.AUTOTUNE)\n",
        ")\n",
        "\n",
        "# 3) Do the same for validation (but typically you skip shuffle for val):\n",
        "val_ds = tf.data.Dataset.from_tensor_slices(\n",
        "    (user_input_test, item_input_test, labels_test)\n",
        ")\n",
        "val_ds = (\n",
        "    val_ds\n",
        "    .batch(batch_size, drop_remainder=False)\n",
        "    .map(lambda u, i, y: ((u, i), y), num_parallel_calls=tf.data.AUTOTUNE)\n",
        "    .prefetch(tf.data.AUTOTUNE)\n",
        ")\n",
        "\n",
        "# 4) Now call .fit on the Datasets:\n",
        "history_vanilla = model_vanilla.fit(\n",
        "    train_ds,\n",
        "    epochs=5,\n",
        "    validation_data=val_ds,\n",
        "    callbacks=[rank_cb],\n",
        "    shuffle=False  # we already shuffled in the Dataset pipeline\n",
        ")\n"
      ],
      "metadata": {
        "colab": {
          "base_uri": "https://localhost:8080/"
        },
        "id": "bqAlblr1r7sO",
        "outputId": "f37ff5aa-e692-4970-81c9-35cf8539827a"
      },
      "execution_count": 26,
      "outputs": [
        {
          "output_type": "stream",
          "name": "stdout",
          "text": [
            "Epoch 1/5\n",
            "\u001b[1m2456/2456\u001b[0m \u001b[32m━━━━━━━━━━━━━━━━━━━━\u001b[0m\u001b[37m\u001b[0m \u001b[1m0s\u001b[0m 67ms/step - auc: 0.8236 - loss: 0.4785 — epoch 1:   P@5=0.108, NDCG@5=0.119, MAP@5=0.069, ILD@5=0.312, Nov@5=0.496;  P@10=0.092, NDCG@10=0.103, MAP@10=0.043, ILD@10=0.311, Nov@10=0.555;  P@20=0.087, NDCG@20=0.148, MAP@20=0.057, ILD@20=0.304, Nov@20=0.628;\n",
            "\u001b[1m2456/2456\u001b[0m \u001b[32m━━━━━━━━━━━━━━━━━━━━\u001b[0m\u001b[37m\u001b[0m \u001b[1m180s\u001b[0m 72ms/step - auc: 0.8236 - loss: 0.4785 - val_auc: 0.9182 - val_loss: 0.3514 - Precision@5: 0.1080 - NDCG@5: 0.1190 - MAP@5: 0.0686 - ILD@5: 0.3123 - Novelty@5: 0.4963 - Precision@10: 0.0920 - NDCG@10: 0.1027 - MAP@10: 0.0426 - ILD@10: 0.3108 - Novelty@10: 0.5548 - Precision@20: 0.0865 - NDCG@20: 0.1485 - MAP@20: 0.0568 - ILD@20: 0.3040 - Novelty@20: 0.6282\n",
            "Epoch 2/5\n",
            "\u001b[1m2456/2456\u001b[0m \u001b[32m━━━━━━━━━━━━━━━━━━━━\u001b[0m\u001b[37m\u001b[0m \u001b[1m0s\u001b[0m 69ms/step - auc: 0.9094 - loss: 0.3570 — epoch 2:   P@5=0.122, NDCG@5=0.133, MAP@5=0.075, ILD@5=0.308, Nov@5=0.545;  P@10=0.109, NDCG@10=0.119, MAP@10=0.049, ILD@10=0.307, Nov@10=0.600;  P@20=0.096, NDCG@20=0.166, MAP@20=0.064, ILD@20=0.304, Nov@20=0.661;\n",
            "\u001b[1m2456/2456\u001b[0m \u001b[32m━━━━━━━━━━━━━━━━━━━━\u001b[0m\u001b[37m\u001b[0m \u001b[1m182s\u001b[0m 74ms/step - auc: 0.9094 - loss: 0.3570 - val_auc: 0.9281 - val_loss: 0.3258 - Precision@5: 0.1220 - NDCG@5: 0.1325 - MAP@5: 0.0748 - ILD@5: 0.3083 - Novelty@5: 0.5454 - Precision@10: 0.1090 - NDCG@10: 0.1195 - MAP@10: 0.0490 - ILD@10: 0.3066 - Novelty@10: 0.5996 - Precision@20: 0.0960 - NDCG@20: 0.1657 - MAP@20: 0.0637 - ILD@20: 0.3043 - Novelty@20: 0.6613\n",
            "Epoch 3/5\n",
            "\u001b[1m2455/2456\u001b[0m \u001b[32m━━━━━━━━━━━━━━━━━━━\u001b[0m\u001b[37m━\u001b[0m \u001b[1m0s\u001b[0m 73ms/step - auc: 0.9378 - loss: 0.2998 — epoch 3:   P@5=0.128, NDCG@5=0.144, MAP@5=0.082, ILD@5=0.307, Nov@5=0.585;  P@10=0.112, NDCG@10=0.128, MAP@10=0.053, ILD@10=0.303, Nov@10=0.630;  P@20=0.102, NDCG@20=0.180, MAP@20=0.069, ILD@20=0.304, Nov@20=0.676;\n",
            "\u001b[1m2456/2456\u001b[0m \u001b[32m━━━━━━━━━━━━━━━━━━━━\u001b[0m\u001b[37m\u001b[0m \u001b[1m190s\u001b[0m 77ms/step - auc: 0.9378 - loss: 0.2998 - val_auc: 0.9315 - val_loss: 0.3167 - Precision@5: 0.1280 - NDCG@5: 0.1442 - MAP@5: 0.0825 - ILD@5: 0.3066 - Novelty@5: 0.5846 - Precision@10: 0.1120 - NDCG@10: 0.1279 - MAP@10: 0.0531 - ILD@10: 0.3034 - Novelty@10: 0.6296 - Precision@20: 0.1025 - NDCG@20: 0.1801 - MAP@20: 0.0693 - ILD@20: 0.3045 - Novelty@20: 0.6758\n",
            "Epoch 4/5\n",
            "\u001b[1m2456/2456\u001b[0m \u001b[32m━━━━━━━━━━━━━━━━━━━━\u001b[0m\u001b[37m\u001b[0m \u001b[1m0s\u001b[0m 72ms/step - auc: 0.9496 - loss: 0.2708 — epoch 4:   P@5=0.140, NDCG@5=0.156, MAP@5=0.087, ILD@5=0.305, Nov@5=0.629;  P@10=0.121, NDCG@10=0.138, MAP@10=0.058, ILD@10=0.303, Nov@10=0.655;  P@20=0.104, NDCG@20=0.187, MAP@20=0.073, ILD@20=0.304, Nov@20=0.694;\n",
            "\u001b[1m2456/2456\u001b[0m \u001b[32m━━━━━━━━━━━━━━━━━━━━\u001b[0m\u001b[37m\u001b[0m \u001b[1m189s\u001b[0m 77ms/step - auc: 0.9496 - loss: 0.2708 - val_auc: 0.9336 - val_loss: 0.3116 - Precision@5: 0.1400 - NDCG@5: 0.1560 - MAP@5: 0.0866 - ILD@5: 0.3051 - Novelty@5: 0.6289 - Precision@10: 0.1210 - NDCG@10: 0.1385 - MAP@10: 0.0577 - ILD@10: 0.3030 - Novelty@10: 0.6546 - Precision@20: 0.1040 - NDCG@20: 0.1868 - MAP@20: 0.0730 - ILD@20: 0.3040 - Novelty@20: 0.6938\n",
            "Epoch 5/5\n",
            "\u001b[1m2456/2456\u001b[0m \u001b[32m━━━━━━━━━━━━━━━━━━━━\u001b[0m\u001b[37m\u001b[0m \u001b[1m0s\u001b[0m 72ms/step - auc: 0.9575 - loss: 0.2490 — epoch 5:   P@5=0.138, NDCG@5=0.150, MAP@5=0.083, ILD@5=0.306, Nov@5=0.635;  P@10=0.127, NDCG@10=0.139, MAP@10=0.056, ILD@10=0.305, Nov@10=0.663;  P@20=0.102, NDCG@20=0.181, MAP@20=0.071, ILD@20=0.304, Nov@20=0.699;\n",
            "\u001b[1m2456/2456\u001b[0m \u001b[32m━━━━━━━━━━━━━━━━━━━━\u001b[0m\u001b[37m\u001b[0m \u001b[1m190s\u001b[0m 77ms/step - auc: 0.9575 - loss: 0.2490 - val_auc: 0.9356 - val_loss: 0.3115 - Precision@5: 0.1380 - NDCG@5: 0.1504 - MAP@5: 0.0827 - ILD@5: 0.3058 - Novelty@5: 0.6355 - Precision@10: 0.1270 - NDCG@10: 0.1385 - MAP@10: 0.0561 - ILD@10: 0.3049 - Novelty@10: 0.6632 - Precision@20: 0.1015 - NDCG@20: 0.1813 - MAP@20: 0.0708 - ILD@20: 0.3042 - Novelty@20: 0.6990\n"
          ]
        }
      ]
    },
    {
      "cell_type": "markdown",
      "source": [
        "# NCF + Extra Embeddings"
      ],
      "metadata": {
        "id": "3Thr9fphgw6F"
      }
    },
    {
      "cell_type": "code",
      "source": [
        "import numpy as np\n",
        "\n",
        "# Suppose bert_embeddings is a NumPy array of shape (num_items, D)\n",
        "bert_embeddings = np.load(\"goodreads_bert_embeddings.npy\")  # (num_items, D)\n",
        "num_items, D = bert_embeddings.shape\n",
        "\n",
        "# Create a Keras Embedding layer that simply returns bert_embeddings[i]\n",
        "bert_embed_layer = tf.keras.layers.Embedding(\n",
        "    input_dim=num_items,\n",
        "    output_dim=D,\n",
        "    embeddings_initializer=tf.keras.initializers.Constant(bert_embeddings),\n",
        "    trainable=False,          # freeze so weights never change\n",
        "    name=\"bert_embed_lookup\"\n",
        ")\n"
      ],
      "metadata": {
        "id": "Av4kFQ8OooQa"
      },
      "execution_count": 52,
      "outputs": []
    },
    {
      "cell_type": "code",
      "source": [
        "from tensorflow.keras.layers import Input, Embedding, Flatten, Multiply, Concatenate, Dense, Dropout\n",
        "from tensorflow.keras.models import Model\n",
        "from tensorflow.keras import mixed_precision\n",
        "\n",
        "mixed_precision.set_global_policy(\"mixed_float16\")\n",
        "\n",
        "K_mf   = 16\n",
        "K_mlp  = 32\n",
        "mlp_layers = [64, 32]   # just two hidden layers\n",
        "dropout_rate = 0.2\n",
        "\n",
        "# --- Model Definition ---\n",
        "# 1) Define just integer inputs\n",
        "user_in = Input(shape=(), dtype=tf.int32, name=\"user_input\")\n",
        "item_in = Input(shape=(), dtype=tf.int32, name=\"item_input\")\n",
        "\n",
        "# 2) GMF branch (unchanged)\n",
        "u_mf = Embedding(num_users, K_mf, name=\"u_embed_mf\")(user_in)\n",
        "i_mf = Embedding(num_items, K_mf, name=\"i_embed_mf\")(item_in)\n",
        "u_latent_mf = Flatten()(u_mf)\n",
        "i_latent_mf = Flatten()(i_mf)\n",
        "mf_vec = Multiply()([u_latent_mf, i_latent_mf])  # (batch, K_mf)\n",
        "\n",
        "# 3) MLP branch: learned user/item embeddings\n",
        "u_mlp = Embedding(num_users, K_mlp, name=\"u_embed_mlp\")(user_in)\n",
        "i_mlp = Embedding(num_items, K_mlp, name=\"i_embed_mlp\")(item_in)\n",
        "u_latent_mlp = Flatten()(u_mlp)\n",
        "i_latent_mlp = Flatten()(i_mlp)\n",
        "\n",
        "# 4) **Here is where we “lookup” BERT features** for each item index\n",
        "bert_feat = bert_embed_layer(item_in)  # shape = (batch_size, D)\n",
        "\n",
        "# 5) Concatenate (u_latent_mlp, i_latent_mlp, bert_feat)\n",
        "merged_mlp = Concatenate(name=\"mlp_input_concat\")(\n",
        "    [u_latent_mlp, i_latent_mlp, bert_feat]\n",
        ")  # shape = (batch_size, 2*K_mlp + D)\n",
        "\n",
        "# 6) Continue with your MLP layers\n",
        "x = merged_mlp\n",
        "for idx, hidden_size in enumerate(mlp_layers):\n",
        "    x = Dense(hidden_size, activation=\"relu\", name=f\"mlp_dense_{idx}\")(x)\n",
        "    x = Dropout(dropout_rate)(x)\n",
        "\n",
        "# 7) Final “fusion” with GMF part\n",
        "final_concat = Concatenate()([mf_vec, x])\n",
        "output = Dense(1, activation=\"sigmoid\", name=\"prediction\")(final_concat)\n",
        "\n",
        "model_with_feats = Model(inputs=[user_in, item_in], outputs=output)\n",
        "model_with_feats.compile(\n",
        "    optimizer=tf.keras.optimizers.Adam(1e-3),\n",
        "    loss=\"binary_crossentropy\",\n",
        "    metrics=[tf.keras.metrics.AUC(name=\"auc\")]\n",
        ")\n",
        "model_with_feats.summary()\n"
      ],
      "metadata": {
        "colab": {
          "base_uri": "https://localhost:8080/",
          "height": 969
        },
        "id": "PQFYuVtEgwfs",
        "outputId": "a08637ee-795c-4621-fc9d-aadefb9f0ec4"
      },
      "execution_count": 53,
      "outputs": [
        {
          "output_type": "display_data",
          "data": {
            "text/plain": [
              "\u001b[1mModel: \"functional_1\"\u001b[0m\n"
            ],
            "text/html": [
              "<pre style=\"white-space:pre;overflow-x:auto;line-height:normal;font-family:Menlo,'DejaVu Sans Mono',consolas,'Courier New',monospace\"><span style=\"font-weight: bold\">Model: \"functional_1\"</span>\n",
              "</pre>\n"
            ]
          },
          "metadata": {}
        },
        {
          "output_type": "display_data",
          "data": {
            "text/plain": [
              "┏━━━━━━━━━━━━━━━━━━━━━┳━━━━━━━━━━━━━━━━━━━┳━━━━━━━━━━━━┳━━━━━━━━━━━━━━━━━━━┓\n",
              "┃\u001b[1m \u001b[0m\u001b[1mLayer (type)       \u001b[0m\u001b[1m \u001b[0m┃\u001b[1m \u001b[0m\u001b[1mOutput Shape     \u001b[0m\u001b[1m \u001b[0m┃\u001b[1m \u001b[0m\u001b[1m   Param #\u001b[0m\u001b[1m \u001b[0m┃\u001b[1m \u001b[0m\u001b[1mConnected to     \u001b[0m\u001b[1m \u001b[0m┃\n",
              "┡━━━━━━━━━━━━━━━━━━━━━╇━━━━━━━━━━━━━━━━━━━╇━━━━━━━━━━━━╇━━━━━━━━━━━━━━━━━━━┩\n",
              "│ user_input          │ (\u001b[38;5;45mNone\u001b[0m)            │          \u001b[38;5;34m0\u001b[0m │ -                 │\n",
              "│ (\u001b[38;5;33mInputLayer\u001b[0m)        │                   │            │                   │\n",
              "├─────────────────────┼───────────────────┼────────────┼───────────────────┤\n",
              "│ item_input          │ (\u001b[38;5;45mNone\u001b[0m)            │          \u001b[38;5;34m0\u001b[0m │ -                 │\n",
              "│ (\u001b[38;5;33mInputLayer\u001b[0m)        │                   │            │                   │\n",
              "├─────────────────────┼───────────────────┼────────────┼───────────────────┤\n",
              "│ u_embed_mlp         │ (\u001b[38;5;45mNone\u001b[0m, \u001b[38;5;34m32\u001b[0m)        │  \u001b[38;5;34m1,690,272\u001b[0m │ user_input[\u001b[38;5;34m0\u001b[0m][\u001b[38;5;34m0\u001b[0m]  │\n",
              "│ (\u001b[38;5;33mEmbedding\u001b[0m)         │                   │            │                   │\n",
              "├─────────────────────┼───────────────────┼────────────┼───────────────────┤\n",
              "│ i_embed_mlp         │ (\u001b[38;5;45mNone\u001b[0m, \u001b[38;5;34m32\u001b[0m)        │    \u001b[38;5;34m137,184\u001b[0m │ item_input[\u001b[38;5;34m0\u001b[0m][\u001b[38;5;34m0\u001b[0m]  │\n",
              "│ (\u001b[38;5;33mEmbedding\u001b[0m)         │                   │            │                   │\n",
              "├─────────────────────┼───────────────────┼────────────┼───────────────────┤\n",
              "│ flatten_6 (\u001b[38;5;33mFlatten\u001b[0m) │ (\u001b[38;5;45mNone\u001b[0m, \u001b[38;5;34m32\u001b[0m)        │          \u001b[38;5;34m0\u001b[0m │ u_embed_mlp[\u001b[38;5;34m0\u001b[0m][\u001b[38;5;34m0\u001b[0m] │\n",
              "├─────────────────────┼───────────────────┼────────────┼───────────────────┤\n",
              "│ flatten_7 (\u001b[38;5;33mFlatten\u001b[0m) │ (\u001b[38;5;45mNone\u001b[0m, \u001b[38;5;34m32\u001b[0m)        │          \u001b[38;5;34m0\u001b[0m │ i_embed_mlp[\u001b[38;5;34m0\u001b[0m][\u001b[38;5;34m0\u001b[0m] │\n",
              "├─────────────────────┼───────────────────┼────────────┼───────────────────┤\n",
              "│ bert_embed_lookup   │ (\u001b[38;5;45mNone\u001b[0m, \u001b[38;5;34m768\u001b[0m)       │  \u001b[38;5;34m3,292,416\u001b[0m │ item_input[\u001b[38;5;34m0\u001b[0m][\u001b[38;5;34m0\u001b[0m]  │\n",
              "│ (\u001b[38;5;33mEmbedding\u001b[0m)         │                   │            │                   │\n",
              "├─────────────────────┼───────────────────┼────────────┼───────────────────┤\n",
              "│ mlp_input_concat    │ (\u001b[38;5;45mNone\u001b[0m, \u001b[38;5;34m832\u001b[0m)       │          \u001b[38;5;34m0\u001b[0m │ flatten_6[\u001b[38;5;34m0\u001b[0m][\u001b[38;5;34m0\u001b[0m],  │\n",
              "│ (\u001b[38;5;33mConcatenate\u001b[0m)       │                   │            │ flatten_7[\u001b[38;5;34m0\u001b[0m][\u001b[38;5;34m0\u001b[0m],  │\n",
              "│                     │                   │            │ bert_embed_looku… │\n",
              "├─────────────────────┼───────────────────┼────────────┼───────────────────┤\n",
              "│ mlp_dense_0 (\u001b[38;5;33mDense\u001b[0m) │ (\u001b[38;5;45mNone\u001b[0m, \u001b[38;5;34m64\u001b[0m)        │     \u001b[38;5;34m53,312\u001b[0m │ mlp_input_concat… │\n",
              "├─────────────────────┼───────────────────┼────────────┼───────────────────┤\n",
              "│ u_embed_mf          │ (\u001b[38;5;45mNone\u001b[0m, \u001b[38;5;34m16\u001b[0m)        │    \u001b[38;5;34m845,136\u001b[0m │ user_input[\u001b[38;5;34m0\u001b[0m][\u001b[38;5;34m0\u001b[0m]  │\n",
              "│ (\u001b[38;5;33mEmbedding\u001b[0m)         │                   │            │                   │\n",
              "├─────────────────────┼───────────────────┼────────────┼───────────────────┤\n",
              "│ i_embed_mf          │ (\u001b[38;5;45mNone\u001b[0m, \u001b[38;5;34m16\u001b[0m)        │     \u001b[38;5;34m68,592\u001b[0m │ item_input[\u001b[38;5;34m0\u001b[0m][\u001b[38;5;34m0\u001b[0m]  │\n",
              "│ (\u001b[38;5;33mEmbedding\u001b[0m)         │                   │            │                   │\n",
              "├─────────────────────┼───────────────────┼────────────┼───────────────────┤\n",
              "│ dropout_2 (\u001b[38;5;33mDropout\u001b[0m) │ (\u001b[38;5;45mNone\u001b[0m, \u001b[38;5;34m64\u001b[0m)        │          \u001b[38;5;34m0\u001b[0m │ mlp_dense_0[\u001b[38;5;34m0\u001b[0m][\u001b[38;5;34m0\u001b[0m] │\n",
              "├─────────────────────┼───────────────────┼────────────┼───────────────────┤\n",
              "│ flatten_4 (\u001b[38;5;33mFlatten\u001b[0m) │ (\u001b[38;5;45mNone\u001b[0m, \u001b[38;5;34m16\u001b[0m)        │          \u001b[38;5;34m0\u001b[0m │ u_embed_mf[\u001b[38;5;34m0\u001b[0m][\u001b[38;5;34m0\u001b[0m]  │\n",
              "├─────────────────────┼───────────────────┼────────────┼───────────────────┤\n",
              "│ flatten_5 (\u001b[38;5;33mFlatten\u001b[0m) │ (\u001b[38;5;45mNone\u001b[0m, \u001b[38;5;34m16\u001b[0m)        │          \u001b[38;5;34m0\u001b[0m │ i_embed_mf[\u001b[38;5;34m0\u001b[0m][\u001b[38;5;34m0\u001b[0m]  │\n",
              "├─────────────────────┼───────────────────┼────────────┼───────────────────┤\n",
              "│ mlp_dense_1 (\u001b[38;5;33mDense\u001b[0m) │ (\u001b[38;5;45mNone\u001b[0m, \u001b[38;5;34m32\u001b[0m)        │      \u001b[38;5;34m2,080\u001b[0m │ dropout_2[\u001b[38;5;34m0\u001b[0m][\u001b[38;5;34m0\u001b[0m]   │\n",
              "├─────────────────────┼───────────────────┼────────────┼───────────────────┤\n",
              "│ multiply_1          │ (\u001b[38;5;45mNone\u001b[0m, \u001b[38;5;34m16\u001b[0m)        │          \u001b[38;5;34m0\u001b[0m │ flatten_4[\u001b[38;5;34m0\u001b[0m][\u001b[38;5;34m0\u001b[0m],  │\n",
              "│ (\u001b[38;5;33mMultiply\u001b[0m)          │                   │            │ flatten_5[\u001b[38;5;34m0\u001b[0m][\u001b[38;5;34m0\u001b[0m]   │\n",
              "├─────────────────────┼───────────────────┼────────────┼───────────────────┤\n",
              "│ dropout_3 (\u001b[38;5;33mDropout\u001b[0m) │ (\u001b[38;5;45mNone\u001b[0m, \u001b[38;5;34m32\u001b[0m)        │          \u001b[38;5;34m0\u001b[0m │ mlp_dense_1[\u001b[38;5;34m0\u001b[0m][\u001b[38;5;34m0\u001b[0m] │\n",
              "├─────────────────────┼───────────────────┼────────────┼───────────────────┤\n",
              "│ concatenate_2       │ (\u001b[38;5;45mNone\u001b[0m, \u001b[38;5;34m48\u001b[0m)        │          \u001b[38;5;34m0\u001b[0m │ multiply_1[\u001b[38;5;34m0\u001b[0m][\u001b[38;5;34m0\u001b[0m], │\n",
              "│ (\u001b[38;5;33mConcatenate\u001b[0m)       │                   │            │ dropout_3[\u001b[38;5;34m0\u001b[0m][\u001b[38;5;34m0\u001b[0m]   │\n",
              "├─────────────────────┼───────────────────┼────────────┼───────────────────┤\n",
              "│ prediction (\u001b[38;5;33mDense\u001b[0m)  │ (\u001b[38;5;45mNone\u001b[0m, \u001b[38;5;34m1\u001b[0m)         │         \u001b[38;5;34m49\u001b[0m │ concatenate_2[\u001b[38;5;34m0\u001b[0m]… │\n",
              "└─────────────────────┴───────────────────┴────────────┴───────────────────┘\n"
            ],
            "text/html": [
              "<pre style=\"white-space:pre;overflow-x:auto;line-height:normal;font-family:Menlo,'DejaVu Sans Mono',consolas,'Courier New',monospace\">┏━━━━━━━━━━━━━━━━━━━━━┳━━━━━━━━━━━━━━━━━━━┳━━━━━━━━━━━━┳━━━━━━━━━━━━━━━━━━━┓\n",
              "┃<span style=\"font-weight: bold\"> Layer (type)        </span>┃<span style=\"font-weight: bold\"> Output Shape      </span>┃<span style=\"font-weight: bold\">    Param # </span>┃<span style=\"font-weight: bold\"> Connected to      </span>┃\n",
              "┡━━━━━━━━━━━━━━━━━━━━━╇━━━━━━━━━━━━━━━━━━━╇━━━━━━━━━━━━╇━━━━━━━━━━━━━━━━━━━┩\n",
              "│ user_input          │ (<span style=\"color: #00d7ff; text-decoration-color: #00d7ff\">None</span>)            │          <span style=\"color: #00af00; text-decoration-color: #00af00\">0</span> │ -                 │\n",
              "│ (<span style=\"color: #0087ff; text-decoration-color: #0087ff\">InputLayer</span>)        │                   │            │                   │\n",
              "├─────────────────────┼───────────────────┼────────────┼───────────────────┤\n",
              "│ item_input          │ (<span style=\"color: #00d7ff; text-decoration-color: #00d7ff\">None</span>)            │          <span style=\"color: #00af00; text-decoration-color: #00af00\">0</span> │ -                 │\n",
              "│ (<span style=\"color: #0087ff; text-decoration-color: #0087ff\">InputLayer</span>)        │                   │            │                   │\n",
              "├─────────────────────┼───────────────────┼────────────┼───────────────────┤\n",
              "│ u_embed_mlp         │ (<span style=\"color: #00d7ff; text-decoration-color: #00d7ff\">None</span>, <span style=\"color: #00af00; text-decoration-color: #00af00\">32</span>)        │  <span style=\"color: #00af00; text-decoration-color: #00af00\">1,690,272</span> │ user_input[<span style=\"color: #00af00; text-decoration-color: #00af00\">0</span>][<span style=\"color: #00af00; text-decoration-color: #00af00\">0</span>]  │\n",
              "│ (<span style=\"color: #0087ff; text-decoration-color: #0087ff\">Embedding</span>)         │                   │            │                   │\n",
              "├─────────────────────┼───────────────────┼────────────┼───────────────────┤\n",
              "│ i_embed_mlp         │ (<span style=\"color: #00d7ff; text-decoration-color: #00d7ff\">None</span>, <span style=\"color: #00af00; text-decoration-color: #00af00\">32</span>)        │    <span style=\"color: #00af00; text-decoration-color: #00af00\">137,184</span> │ item_input[<span style=\"color: #00af00; text-decoration-color: #00af00\">0</span>][<span style=\"color: #00af00; text-decoration-color: #00af00\">0</span>]  │\n",
              "│ (<span style=\"color: #0087ff; text-decoration-color: #0087ff\">Embedding</span>)         │                   │            │                   │\n",
              "├─────────────────────┼───────────────────┼────────────┼───────────────────┤\n",
              "│ flatten_6 (<span style=\"color: #0087ff; text-decoration-color: #0087ff\">Flatten</span>) │ (<span style=\"color: #00d7ff; text-decoration-color: #00d7ff\">None</span>, <span style=\"color: #00af00; text-decoration-color: #00af00\">32</span>)        │          <span style=\"color: #00af00; text-decoration-color: #00af00\">0</span> │ u_embed_mlp[<span style=\"color: #00af00; text-decoration-color: #00af00\">0</span>][<span style=\"color: #00af00; text-decoration-color: #00af00\">0</span>] │\n",
              "├─────────────────────┼───────────────────┼────────────┼───────────────────┤\n",
              "│ flatten_7 (<span style=\"color: #0087ff; text-decoration-color: #0087ff\">Flatten</span>) │ (<span style=\"color: #00d7ff; text-decoration-color: #00d7ff\">None</span>, <span style=\"color: #00af00; text-decoration-color: #00af00\">32</span>)        │          <span style=\"color: #00af00; text-decoration-color: #00af00\">0</span> │ i_embed_mlp[<span style=\"color: #00af00; text-decoration-color: #00af00\">0</span>][<span style=\"color: #00af00; text-decoration-color: #00af00\">0</span>] │\n",
              "├─────────────────────┼───────────────────┼────────────┼───────────────────┤\n",
              "│ bert_embed_lookup   │ (<span style=\"color: #00d7ff; text-decoration-color: #00d7ff\">None</span>, <span style=\"color: #00af00; text-decoration-color: #00af00\">768</span>)       │  <span style=\"color: #00af00; text-decoration-color: #00af00\">3,292,416</span> │ item_input[<span style=\"color: #00af00; text-decoration-color: #00af00\">0</span>][<span style=\"color: #00af00; text-decoration-color: #00af00\">0</span>]  │\n",
              "│ (<span style=\"color: #0087ff; text-decoration-color: #0087ff\">Embedding</span>)         │                   │            │                   │\n",
              "├─────────────────────┼───────────────────┼────────────┼───────────────────┤\n",
              "│ mlp_input_concat    │ (<span style=\"color: #00d7ff; text-decoration-color: #00d7ff\">None</span>, <span style=\"color: #00af00; text-decoration-color: #00af00\">832</span>)       │          <span style=\"color: #00af00; text-decoration-color: #00af00\">0</span> │ flatten_6[<span style=\"color: #00af00; text-decoration-color: #00af00\">0</span>][<span style=\"color: #00af00; text-decoration-color: #00af00\">0</span>],  │\n",
              "│ (<span style=\"color: #0087ff; text-decoration-color: #0087ff\">Concatenate</span>)       │                   │            │ flatten_7[<span style=\"color: #00af00; text-decoration-color: #00af00\">0</span>][<span style=\"color: #00af00; text-decoration-color: #00af00\">0</span>],  │\n",
              "│                     │                   │            │ bert_embed_looku… │\n",
              "├─────────────────────┼───────────────────┼────────────┼───────────────────┤\n",
              "│ mlp_dense_0 (<span style=\"color: #0087ff; text-decoration-color: #0087ff\">Dense</span>) │ (<span style=\"color: #00d7ff; text-decoration-color: #00d7ff\">None</span>, <span style=\"color: #00af00; text-decoration-color: #00af00\">64</span>)        │     <span style=\"color: #00af00; text-decoration-color: #00af00\">53,312</span> │ mlp_input_concat… │\n",
              "├─────────────────────┼───────────────────┼────────────┼───────────────────┤\n",
              "│ u_embed_mf          │ (<span style=\"color: #00d7ff; text-decoration-color: #00d7ff\">None</span>, <span style=\"color: #00af00; text-decoration-color: #00af00\">16</span>)        │    <span style=\"color: #00af00; text-decoration-color: #00af00\">845,136</span> │ user_input[<span style=\"color: #00af00; text-decoration-color: #00af00\">0</span>][<span style=\"color: #00af00; text-decoration-color: #00af00\">0</span>]  │\n",
              "│ (<span style=\"color: #0087ff; text-decoration-color: #0087ff\">Embedding</span>)         │                   │            │                   │\n",
              "├─────────────────────┼───────────────────┼────────────┼───────────────────┤\n",
              "│ i_embed_mf          │ (<span style=\"color: #00d7ff; text-decoration-color: #00d7ff\">None</span>, <span style=\"color: #00af00; text-decoration-color: #00af00\">16</span>)        │     <span style=\"color: #00af00; text-decoration-color: #00af00\">68,592</span> │ item_input[<span style=\"color: #00af00; text-decoration-color: #00af00\">0</span>][<span style=\"color: #00af00; text-decoration-color: #00af00\">0</span>]  │\n",
              "│ (<span style=\"color: #0087ff; text-decoration-color: #0087ff\">Embedding</span>)         │                   │            │                   │\n",
              "├─────────────────────┼───────────────────┼────────────┼───────────────────┤\n",
              "│ dropout_2 (<span style=\"color: #0087ff; text-decoration-color: #0087ff\">Dropout</span>) │ (<span style=\"color: #00d7ff; text-decoration-color: #00d7ff\">None</span>, <span style=\"color: #00af00; text-decoration-color: #00af00\">64</span>)        │          <span style=\"color: #00af00; text-decoration-color: #00af00\">0</span> │ mlp_dense_0[<span style=\"color: #00af00; text-decoration-color: #00af00\">0</span>][<span style=\"color: #00af00; text-decoration-color: #00af00\">0</span>] │\n",
              "├─────────────────────┼───────────────────┼────────────┼───────────────────┤\n",
              "│ flatten_4 (<span style=\"color: #0087ff; text-decoration-color: #0087ff\">Flatten</span>) │ (<span style=\"color: #00d7ff; text-decoration-color: #00d7ff\">None</span>, <span style=\"color: #00af00; text-decoration-color: #00af00\">16</span>)        │          <span style=\"color: #00af00; text-decoration-color: #00af00\">0</span> │ u_embed_mf[<span style=\"color: #00af00; text-decoration-color: #00af00\">0</span>][<span style=\"color: #00af00; text-decoration-color: #00af00\">0</span>]  │\n",
              "├─────────────────────┼───────────────────┼────────────┼───────────────────┤\n",
              "│ flatten_5 (<span style=\"color: #0087ff; text-decoration-color: #0087ff\">Flatten</span>) │ (<span style=\"color: #00d7ff; text-decoration-color: #00d7ff\">None</span>, <span style=\"color: #00af00; text-decoration-color: #00af00\">16</span>)        │          <span style=\"color: #00af00; text-decoration-color: #00af00\">0</span> │ i_embed_mf[<span style=\"color: #00af00; text-decoration-color: #00af00\">0</span>][<span style=\"color: #00af00; text-decoration-color: #00af00\">0</span>]  │\n",
              "├─────────────────────┼───────────────────┼────────────┼───────────────────┤\n",
              "│ mlp_dense_1 (<span style=\"color: #0087ff; text-decoration-color: #0087ff\">Dense</span>) │ (<span style=\"color: #00d7ff; text-decoration-color: #00d7ff\">None</span>, <span style=\"color: #00af00; text-decoration-color: #00af00\">32</span>)        │      <span style=\"color: #00af00; text-decoration-color: #00af00\">2,080</span> │ dropout_2[<span style=\"color: #00af00; text-decoration-color: #00af00\">0</span>][<span style=\"color: #00af00; text-decoration-color: #00af00\">0</span>]   │\n",
              "├─────────────────────┼───────────────────┼────────────┼───────────────────┤\n",
              "│ multiply_1          │ (<span style=\"color: #00d7ff; text-decoration-color: #00d7ff\">None</span>, <span style=\"color: #00af00; text-decoration-color: #00af00\">16</span>)        │          <span style=\"color: #00af00; text-decoration-color: #00af00\">0</span> │ flatten_4[<span style=\"color: #00af00; text-decoration-color: #00af00\">0</span>][<span style=\"color: #00af00; text-decoration-color: #00af00\">0</span>],  │\n",
              "│ (<span style=\"color: #0087ff; text-decoration-color: #0087ff\">Multiply</span>)          │                   │            │ flatten_5[<span style=\"color: #00af00; text-decoration-color: #00af00\">0</span>][<span style=\"color: #00af00; text-decoration-color: #00af00\">0</span>]   │\n",
              "├─────────────────────┼───────────────────┼────────────┼───────────────────┤\n",
              "│ dropout_3 (<span style=\"color: #0087ff; text-decoration-color: #0087ff\">Dropout</span>) │ (<span style=\"color: #00d7ff; text-decoration-color: #00d7ff\">None</span>, <span style=\"color: #00af00; text-decoration-color: #00af00\">32</span>)        │          <span style=\"color: #00af00; text-decoration-color: #00af00\">0</span> │ mlp_dense_1[<span style=\"color: #00af00; text-decoration-color: #00af00\">0</span>][<span style=\"color: #00af00; text-decoration-color: #00af00\">0</span>] │\n",
              "├─────────────────────┼───────────────────┼────────────┼───────────────────┤\n",
              "│ concatenate_2       │ (<span style=\"color: #00d7ff; text-decoration-color: #00d7ff\">None</span>, <span style=\"color: #00af00; text-decoration-color: #00af00\">48</span>)        │          <span style=\"color: #00af00; text-decoration-color: #00af00\">0</span> │ multiply_1[<span style=\"color: #00af00; text-decoration-color: #00af00\">0</span>][<span style=\"color: #00af00; text-decoration-color: #00af00\">0</span>], │\n",
              "│ (<span style=\"color: #0087ff; text-decoration-color: #0087ff\">Concatenate</span>)       │                   │            │ dropout_3[<span style=\"color: #00af00; text-decoration-color: #00af00\">0</span>][<span style=\"color: #00af00; text-decoration-color: #00af00\">0</span>]   │\n",
              "├─────────────────────┼───────────────────┼────────────┼───────────────────┤\n",
              "│ prediction (<span style=\"color: #0087ff; text-decoration-color: #0087ff\">Dense</span>)  │ (<span style=\"color: #00d7ff; text-decoration-color: #00d7ff\">None</span>, <span style=\"color: #00af00; text-decoration-color: #00af00\">1</span>)         │         <span style=\"color: #00af00; text-decoration-color: #00af00\">49</span> │ concatenate_2[<span style=\"color: #00af00; text-decoration-color: #00af00\">0</span>]… │\n",
              "└─────────────────────┴───────────────────┴────────────┴───────────────────┘\n",
              "</pre>\n"
            ]
          },
          "metadata": {}
        },
        {
          "output_type": "display_data",
          "data": {
            "text/plain": [
              "\u001b[1m Total params: \u001b[0m\u001b[38;5;34m6,089,041\u001b[0m (23.23 MB)\n"
            ],
            "text/html": [
              "<pre style=\"white-space:pre;overflow-x:auto;line-height:normal;font-family:Menlo,'DejaVu Sans Mono',consolas,'Courier New',monospace\"><span style=\"font-weight: bold\"> Total params: </span><span style=\"color: #00af00; text-decoration-color: #00af00\">6,089,041</span> (23.23 MB)\n",
              "</pre>\n"
            ]
          },
          "metadata": {}
        },
        {
          "output_type": "display_data",
          "data": {
            "text/plain": [
              "\u001b[1m Trainable params: \u001b[0m\u001b[38;5;34m2,796,625\u001b[0m (10.67 MB)\n"
            ],
            "text/html": [
              "<pre style=\"white-space:pre;overflow-x:auto;line-height:normal;font-family:Menlo,'DejaVu Sans Mono',consolas,'Courier New',monospace\"><span style=\"font-weight: bold\"> Trainable params: </span><span style=\"color: #00af00; text-decoration-color: #00af00\">2,796,625</span> (10.67 MB)\n",
              "</pre>\n"
            ]
          },
          "metadata": {}
        },
        {
          "output_type": "display_data",
          "data": {
            "text/plain": [
              "\u001b[1m Non-trainable params: \u001b[0m\u001b[38;5;34m3,292,416\u001b[0m (12.56 MB)\n"
            ],
            "text/html": [
              "<pre style=\"white-space:pre;overflow-x:auto;line-height:normal;font-family:Menlo,'DejaVu Sans Mono',consolas,'Courier New',monospace\"><span style=\"font-weight: bold\"> Non-trainable params: </span><span style=\"color: #00af00; text-decoration-color: #00af00\">3,292,416</span> (12.56 MB)\n",
              "</pre>\n"
            ]
          },
          "metadata": {}
        }
      ]
    },
    {
      "cell_type": "code",
      "source": [
        "ks = [5, 10, 20]\n",
        "rank_cb = MultiKRankingCallback(\n",
        "    train_pos=train_pos,      # user → set of train-positive items\n",
        "    test_pos=test_pos,        # user → set of test-positive items\n",
        "    num_items=num_items,      # total number of distinct items (4287)\n",
        "    Ks=ks,                     # compute Precision@10, NDCG@10, MAP@10\n",
        "    verbose=1                 # set to 1 to print metrics each epoch\n",
        ")"
      ],
      "metadata": {
        "id": "rxN2PF8G_HvG"
      },
      "execution_count": 54,
      "outputs": []
    },
    {
      "cell_type": "markdown",
      "source": [
        "Train with extra embeddings"
      ],
      "metadata": {
        "id": "fN8mYBcphfEX"
      }
    },
    {
      "cell_type": "code",
      "source": [
        "batch_size = 4096  # increase if your GPU/Colab can handle it (maybe 4096)\n",
        "buffer_size = 100_000\n",
        "\n",
        "# 1) Build a Dataset from your three 1D NumPy arrays\n",
        "#    Each element is (u_idx, i_idx, label).\n",
        "train_ds = tf.data.Dataset.from_tensor_slices((user_input, item_input, labels))\n",
        "\n",
        "# 2) Shuffle → batch → prefetch.  Drop remainder so each batch is exactly `batch_size`.\n",
        "train_ds = (\n",
        "    train_ds\n",
        "    .shuffle(buffer_size, seed=42)\n",
        "    .batch(batch_size, drop_remainder=True)\n",
        "    .map(lambda u, i, y: ((u, i), y), num_parallel_calls=tf.data.AUTOTUNE)\n",
        "    .prefetch(tf.data.AUTOTUNE)\n",
        ")\n",
        "\n",
        "# 3) Do the same for validation (but typically you skip shuffle for val):\n",
        "val_ds = tf.data.Dataset.from_tensor_slices(\n",
        "    (user_input_test, item_input_test, labels_test)\n",
        ")\n",
        "val_ds = (\n",
        "    val_ds\n",
        "    .batch(batch_size, drop_remainder=False)\n",
        "    .map(lambda u, i, y: ((u, i), y), num_parallel_calls=tf.data.AUTOTUNE)\n",
        "    .prefetch(tf.data.AUTOTUNE)\n",
        ")\n",
        "\n",
        "# 4) Now call .fit on the Datasets:\n",
        "history_with_feats = model_with_feats.fit(\n",
        "    train_ds,\n",
        "    epochs=5,\n",
        "    validation_data=val_ds,\n",
        "    callbacks=[rank_cb],\n",
        "    shuffle=False  # we already shuffled in the Dataset pipeline\n",
        ")\n"
      ],
      "metadata": {
        "colab": {
          "base_uri": "https://localhost:8080/"
        },
        "id": "jtSn2rZGhh4o",
        "outputId": "197aa19a-e9c2-404e-d210-81f5a529c22e"
      },
      "execution_count": 55,
      "outputs": [
        {
          "output_type": "stream",
          "name": "stdout",
          "text": [
            "Epoch 1/5\n",
            "\u001b[1m2456/2456\u001b[0m \u001b[32m━━━━━━━━━━━━━━━━━━━━\u001b[0m\u001b[37m\u001b[0m \u001b[1m0s\u001b[0m 125ms/step - auc: 0.8337 - loss: 0.4592 — epoch 1:   P@5=0.100, NDCG@5=0.116, MAP@5=0.064, ILD@5=0.320, Nov@5=0.499;  P@10=0.086, NDCG@10=0.100, MAP@10=0.041, ILD@10=0.312, Nov@10=0.543;  P@20=0.084, NDCG@20=0.145, MAP@20=0.054, ILD@20=0.303, Nov@20=0.613;\n",
            "\u001b[1m2456/2456\u001b[0m \u001b[32m━━━━━━━━━━━━━━━━━━━━\u001b[0m\u001b[37m\u001b[0m \u001b[1m326s\u001b[0m 131ms/step - auc: 0.8337 - loss: 0.4592 - val_auc: 0.9125 - val_loss: 0.3572 - Precision@5: 0.1000 - NDCG@5: 0.1159 - MAP@5: 0.0642 - ILD@5: 0.3202 - Novelty@5: 0.4994 - Precision@10: 0.0860 - NDCG@10: 0.1000 - MAP@10: 0.0406 - ILD@10: 0.3117 - Novelty@10: 0.5434 - Precision@20: 0.0835 - NDCG@20: 0.1454 - MAP@20: 0.0538 - ILD@20: 0.3035 - Novelty@20: 0.6128\n",
            "Epoch 2/5\n",
            "\u001b[1m2456/2456\u001b[0m \u001b[32m━━━━━━━━━━━━━━━━━━━━\u001b[0m\u001b[37m\u001b[0m \u001b[1m0s\u001b[0m 124ms/step - auc: 0.9099 - loss: 0.3556 — epoch 2:   P@5=0.102, NDCG@5=0.110, MAP@5=0.059, ILD@5=0.306, Nov@5=0.548;  P@10=0.105, NDCG@10=0.110, MAP@10=0.043, ILD@10=0.303, Nov@10=0.592;  P@20=0.098, NDCG@20=0.162, MAP@20=0.059, ILD@20=0.306, Nov@20=0.646;\n",
            "\u001b[1m2456/2456\u001b[0m \u001b[32m━━━━━━━━━━━━━━━━━━━━\u001b[0m\u001b[37m\u001b[0m \u001b[1m321s\u001b[0m 130ms/step - auc: 0.9099 - loss: 0.3555 - val_auc: 0.9269 - val_loss: 0.3271 - Precision@5: 0.1020 - NDCG@5: 0.1104 - MAP@5: 0.0591 - ILD@5: 0.3061 - Novelty@5: 0.5485 - Precision@10: 0.1050 - NDCG@10: 0.1102 - MAP@10: 0.0434 - ILD@10: 0.3028 - Novelty@10: 0.5924 - Precision@20: 0.0985 - NDCG@20: 0.1615 - MAP@20: 0.0593 - ILD@20: 0.3060 - Novelty@20: 0.6463\n",
            "Epoch 3/5\n",
            "\u001b[1m2456/2456\u001b[0m \u001b[32m━━━━━━━━━━━━━━━━━━━━\u001b[0m\u001b[37m\u001b[0m \u001b[1m0s\u001b[0m 121ms/step - auc: 0.9379 - loss: 0.2994 — epoch 3:   P@5=0.128, NDCG@5=0.144, MAP@5=0.082, ILD@5=0.309, Nov@5=0.561;  P@10=0.119, NDCG@10=0.132, MAP@10=0.055, ILD@10=0.307, Nov@10=0.596;  P@20=0.102, NDCG@20=0.177, MAP@20=0.069, ILD@20=0.306, Nov@20=0.650;\n",
            "\u001b[1m2456/2456\u001b[0m \u001b[32m━━━━━━━━━━━━━━━━━━━━\u001b[0m\u001b[37m\u001b[0m \u001b[1m313s\u001b[0m 127ms/step - auc: 0.9379 - loss: 0.2994 - val_auc: 0.9312 - val_loss: 0.3198 - Precision@5: 0.1280 - NDCG@5: 0.1436 - MAP@5: 0.0820 - ILD@5: 0.3093 - Novelty@5: 0.5609 - Precision@10: 0.1190 - NDCG@10: 0.1320 - MAP@10: 0.0552 - ILD@10: 0.3073 - Novelty@10: 0.5958 - Precision@20: 0.1015 - NDCG@20: 0.1774 - MAP@20: 0.0693 - ILD@20: 0.3065 - Novelty@20: 0.6505\n",
            "Epoch 4/5\n",
            "\u001b[1m2456/2456\u001b[0m \u001b[32m━━━━━━━━━━━━━━━━━━━━\u001b[0m\u001b[37m\u001b[0m \u001b[1m0s\u001b[0m 120ms/step - auc: 0.9490 - loss: 0.2720 — epoch 4:   P@5=0.136, NDCG@5=0.144, MAP@5=0.080, ILD@5=0.306, Nov@5=0.606;  P@10=0.130, NDCG@10=0.136, MAP@10=0.055, ILD@10=0.309, Nov@10=0.632;  P@20=0.102, NDCG@20=0.177, MAP@20=0.069, ILD@20=0.307, Nov@20=0.676;\n",
            "\u001b[1m2456/2456\u001b[0m \u001b[32m━━━━━━━━━━━━━━━━━━━━\u001b[0m\u001b[37m\u001b[0m \u001b[1m310s\u001b[0m 126ms/step - auc: 0.9490 - loss: 0.2720 - val_auc: 0.9346 - val_loss: 0.3123 - Precision@5: 0.1360 - NDCG@5: 0.1437 - MAP@5: 0.0802 - ILD@5: 0.3064 - Novelty@5: 0.6057 - Precision@10: 0.1300 - NDCG@10: 0.1364 - MAP@10: 0.0553 - ILD@10: 0.3089 - Novelty@10: 0.6325 - Precision@20: 0.1015 - NDCG@20: 0.1774 - MAP@20: 0.0693 - ILD@20: 0.3065 - Novelty@20: 0.6756\n",
            "Epoch 5/5\n",
            "\u001b[1m2456/2456\u001b[0m \u001b[32m━━━━━━━━━━━━━━━━━━━━\u001b[0m\u001b[37m\u001b[0m \u001b[1m0s\u001b[0m 119ms/step - auc: 0.9562 - loss: 0.2522 — epoch 5:   P@5=0.144, NDCG@5=0.151, MAP@5=0.083, ILD@5=0.310, Nov@5=0.599;  P@10=0.130, NDCG@10=0.138, MAP@10=0.056, ILD@10=0.304, Nov@10=0.627;  P@20=0.104, NDCG@20=0.180, MAP@20=0.070, ILD@20=0.305, Nov@20=0.674;\n",
            "\u001b[1m2456/2456\u001b[0m \u001b[32m━━━━━━━━━━━━━━━━━━━━\u001b[0m\u001b[37m\u001b[0m \u001b[1m309s\u001b[0m 126ms/step - auc: 0.9562 - loss: 0.2522 - val_auc: 0.9370 - val_loss: 0.3099 - Precision@5: 0.1440 - NDCG@5: 0.1511 - MAP@5: 0.0830 - ILD@5: 0.3104 - Novelty@5: 0.5987 - Precision@10: 0.1300 - NDCG@10: 0.1380 - MAP@10: 0.0563 - ILD@10: 0.3036 - Novelty@10: 0.6272 - Precision@20: 0.1045 - NDCG@20: 0.1803 - MAP@20: 0.0699 - ILD@20: 0.3048 - Novelty@20: 0.6741\n"
          ]
        }
      ]
    },
    {
      "cell_type": "markdown",
      "source": [
        "# NCF + ResNet images"
      ],
      "metadata": {
        "id": "fHP07jo5Nr-h"
      }
    },
    {
      "cell_type": "code",
      "source": [
        "portrait_embeddings = np.load(\"resnet_book_embeddings.npy\")  # (num_items, D)\n",
        "num_items, D2 = portrait_embeddings.shape\n",
        "\n",
        "portrait_embeddings.shape\n",
        "print(f\"num_items={num_items}, D={D2}\")\n"
      ],
      "metadata": {
        "colab": {
          "base_uri": "https://localhost:8080/"
        },
        "id": "3qZGAiP7N02i",
        "outputId": "2cd5dbcb-4b5a-4eda-b666-bfa591978c4e"
      },
      "execution_count": 56,
      "outputs": [
        {
          "output_type": "stream",
          "name": "stdout",
          "text": [
            "num_items=4287, D=2048\n"
          ]
        }
      ]
    },
    {
      "cell_type": "code",
      "source": [
        "import numpy as np\n",
        "\n",
        "# Suppose portrait_embeddings is a NumPy array of shape (num_items, D)\n",
        "portrait_embeddings = np.load(\"resnet_book_embeddings.npy\")  # (num_items, D)\n",
        "num_items, D = portrait_embeddings.shape\n",
        "\n",
        "# Create a Keras Embedding layer that simply returns bert_embeddings[i]\n",
        "resnet_embed_layer = tf.keras.layers.Embedding(\n",
        "    input_dim=num_items,\n",
        "    output_dim=D,\n",
        "    embeddings_initializer=tf.keras.initializers.Constant(portrait_embeddings),\n",
        "    trainable=False,          # freeze so weights never change\n",
        "    name=\"resnet_embed_lookup\"\n",
        ")\n"
      ],
      "metadata": {
        "id": "aZiuxInuQ6j3"
      },
      "execution_count": 57,
      "outputs": []
    },
    {
      "cell_type": "code",
      "source": [
        "from tensorflow.keras.layers import Input, Embedding, Flatten, Multiply, Concatenate, Dense, Dropout\n",
        "from tensorflow.keras.models import Model\n",
        "from tensorflow.keras import mixed_precision\n",
        "\n",
        "mixed_precision.set_global_policy(\"mixed_float16\")\n",
        "\n",
        "K_mf   = 16\n",
        "K_mlp  = 32\n",
        "mlp_layers = [64, 32]   # just two hidden layers\n",
        "dropout_rate = 0.2\n",
        "\n",
        "# --- Model Definition ---\n",
        "# 1) Define just integer inputs\n",
        "user_in = Input(shape=(), dtype=tf.int32, name=\"user_input\")\n",
        "item_in = Input(shape=(), dtype=tf.int32, name=\"item_input\")\n",
        "\n",
        "# 2) GMF branch (unchanged)\n",
        "u_mf = Embedding(num_users, K_mf, name=\"u_embed_mf\")(user_in)\n",
        "i_mf = Embedding(num_items, K_mf, name=\"i_embed_mf\")(item_in)\n",
        "u_latent_mf = Flatten()(u_mf)\n",
        "i_latent_mf = Flatten()(i_mf)\n",
        "mf_vec = Multiply()([u_latent_mf, i_latent_mf])  # (batch, K_mf)\n",
        "\n",
        "# 3) MLP branch: learned user/item embeddings\n",
        "u_mlp = Embedding(num_users, K_mlp, name=\"u_embed_mlp\")(user_in)\n",
        "i_mlp = Embedding(num_items, K_mlp, name=\"i_embed_mlp\")(item_in)\n",
        "u_latent_mlp = Flatten()(u_mlp)\n",
        "i_latent_mlp = Flatten()(i_mlp)\n",
        "\n",
        "# 4) **Here is where we “lookup” resnet features** for each item index\n",
        "resnet_feat = resnet_embed_layer(item_in)  # shape = (batch_size, D)\n",
        "\n",
        "# 5) Concatenate (u_latent_mlp, i_latent_mlp, bert_feat)\n",
        "merged_mlp = Concatenate(name=\"mlp_input_concat\")(\n",
        "    [u_latent_mlp, i_latent_mlp, resnet_feat]\n",
        ")  # shape = (batch_size, 2*K_mlp + D)\n",
        "\n",
        "# 6) Continue with your MLP layers\n",
        "x = merged_mlp\n",
        "for idx, hidden_size in enumerate(mlp_layers):\n",
        "    x = Dense(hidden_size, activation=\"relu\", name=f\"mlp_dense_{idx}\")(x)\n",
        "    x = Dropout(dropout_rate)(x)\n",
        "\n",
        "# 7) Final “fusion” with GMF part\n",
        "final_concat = Concatenate()([mf_vec, x])\n",
        "output = Dense(1, activation=\"sigmoid\", name=\"prediction\")(final_concat)\n",
        "\n",
        "model_with_feats_2 = Model(inputs=[user_in, item_in], outputs=output)\n",
        "model_with_feats_2.compile(\n",
        "    optimizer=tf.keras.optimizers.Adam(1e-3),\n",
        "    loss=\"binary_crossentropy\",\n",
        "    metrics=[tf.keras.metrics.AUC(name=\"auc\")]\n",
        ")\n",
        "model_with_feats_2.summary()\n"
      ],
      "metadata": {
        "colab": {
          "base_uri": "https://localhost:8080/",
          "height": 1000
        },
        "id": "hUaxaWPOR5Ue",
        "outputId": "39f12f19-bc9a-4476-88e5-de3bccb23a9f"
      },
      "execution_count": 58,
      "outputs": [
        {
          "output_type": "display_data",
          "data": {
            "text/plain": [
              "\u001b[1mModel: \"functional_2\"\u001b[0m\n"
            ],
            "text/html": [
              "<pre style=\"white-space:pre;overflow-x:auto;line-height:normal;font-family:Menlo,'DejaVu Sans Mono',consolas,'Courier New',monospace\"><span style=\"font-weight: bold\">Model: \"functional_2\"</span>\n",
              "</pre>\n"
            ]
          },
          "metadata": {}
        },
        {
          "output_type": "display_data",
          "data": {
            "text/plain": [
              "┏━━━━━━━━━━━━━━━━━━━━━┳━━━━━━━━━━━━━━━━━━━┳━━━━━━━━━━━━┳━━━━━━━━━━━━━━━━━━━┓\n",
              "┃\u001b[1m \u001b[0m\u001b[1mLayer (type)       \u001b[0m\u001b[1m \u001b[0m┃\u001b[1m \u001b[0m\u001b[1mOutput Shape     \u001b[0m\u001b[1m \u001b[0m┃\u001b[1m \u001b[0m\u001b[1m   Param #\u001b[0m\u001b[1m \u001b[0m┃\u001b[1m \u001b[0m\u001b[1mConnected to     \u001b[0m\u001b[1m \u001b[0m┃\n",
              "┡━━━━━━━━━━━━━━━━━━━━━╇━━━━━━━━━━━━━━━━━━━╇━━━━━━━━━━━━╇━━━━━━━━━━━━━━━━━━━┩\n",
              "│ user_input          │ (\u001b[38;5;45mNone\u001b[0m)            │          \u001b[38;5;34m0\u001b[0m │ -                 │\n",
              "│ (\u001b[38;5;33mInputLayer\u001b[0m)        │                   │            │                   │\n",
              "├─────────────────────┼───────────────────┼────────────┼───────────────────┤\n",
              "│ item_input          │ (\u001b[38;5;45mNone\u001b[0m)            │          \u001b[38;5;34m0\u001b[0m │ -                 │\n",
              "│ (\u001b[38;5;33mInputLayer\u001b[0m)        │                   │            │                   │\n",
              "├─────────────────────┼───────────────────┼────────────┼───────────────────┤\n",
              "│ u_embed_mlp         │ (\u001b[38;5;45mNone\u001b[0m, \u001b[38;5;34m32\u001b[0m)        │  \u001b[38;5;34m1,690,272\u001b[0m │ user_input[\u001b[38;5;34m0\u001b[0m][\u001b[38;5;34m0\u001b[0m]  │\n",
              "│ (\u001b[38;5;33mEmbedding\u001b[0m)         │                   │            │                   │\n",
              "├─────────────────────┼───────────────────┼────────────┼───────────────────┤\n",
              "│ i_embed_mlp         │ (\u001b[38;5;45mNone\u001b[0m, \u001b[38;5;34m32\u001b[0m)        │    \u001b[38;5;34m137,184\u001b[0m │ item_input[\u001b[38;5;34m0\u001b[0m][\u001b[38;5;34m0\u001b[0m]  │\n",
              "│ (\u001b[38;5;33mEmbedding\u001b[0m)         │                   │            │                   │\n",
              "├─────────────────────┼───────────────────┼────────────┼───────────────────┤\n",
              "│ flatten_10          │ (\u001b[38;5;45mNone\u001b[0m, \u001b[38;5;34m32\u001b[0m)        │          \u001b[38;5;34m0\u001b[0m │ u_embed_mlp[\u001b[38;5;34m0\u001b[0m][\u001b[38;5;34m0\u001b[0m] │\n",
              "│ (\u001b[38;5;33mFlatten\u001b[0m)           │                   │            │                   │\n",
              "├─────────────────────┼───────────────────┼────────────┼───────────────────┤\n",
              "│ flatten_11          │ (\u001b[38;5;45mNone\u001b[0m, \u001b[38;5;34m32\u001b[0m)        │          \u001b[38;5;34m0\u001b[0m │ i_embed_mlp[\u001b[38;5;34m0\u001b[0m][\u001b[38;5;34m0\u001b[0m] │\n",
              "│ (\u001b[38;5;33mFlatten\u001b[0m)           │                   │            │                   │\n",
              "├─────────────────────┼───────────────────┼────────────┼───────────────────┤\n",
              "│ resnet_embed_lookup │ (\u001b[38;5;45mNone\u001b[0m, \u001b[38;5;34m2048\u001b[0m)      │  \u001b[38;5;34m8,779,776\u001b[0m │ item_input[\u001b[38;5;34m0\u001b[0m][\u001b[38;5;34m0\u001b[0m]  │\n",
              "│ (\u001b[38;5;33mEmbedding\u001b[0m)         │                   │            │                   │\n",
              "├─────────────────────┼───────────────────┼────────────┼───────────────────┤\n",
              "│ mlp_input_concat    │ (\u001b[38;5;45mNone\u001b[0m, \u001b[38;5;34m2112\u001b[0m)      │          \u001b[38;5;34m0\u001b[0m │ flatten_10[\u001b[38;5;34m0\u001b[0m][\u001b[38;5;34m0\u001b[0m], │\n",
              "│ (\u001b[38;5;33mConcatenate\u001b[0m)       │                   │            │ flatten_11[\u001b[38;5;34m0\u001b[0m][\u001b[38;5;34m0\u001b[0m], │\n",
              "│                     │                   │            │ resnet_embed_loo… │\n",
              "├─────────────────────┼───────────────────┼────────────┼───────────────────┤\n",
              "│ mlp_dense_0 (\u001b[38;5;33mDense\u001b[0m) │ (\u001b[38;5;45mNone\u001b[0m, \u001b[38;5;34m64\u001b[0m)        │    \u001b[38;5;34m135,232\u001b[0m │ mlp_input_concat… │\n",
              "├─────────────────────┼───────────────────┼────────────┼───────────────────┤\n",
              "│ u_embed_mf          │ (\u001b[38;5;45mNone\u001b[0m, \u001b[38;5;34m16\u001b[0m)        │    \u001b[38;5;34m845,136\u001b[0m │ user_input[\u001b[38;5;34m0\u001b[0m][\u001b[38;5;34m0\u001b[0m]  │\n",
              "│ (\u001b[38;5;33mEmbedding\u001b[0m)         │                   │            │                   │\n",
              "├─────────────────────┼───────────────────┼────────────┼───────────────────┤\n",
              "│ i_embed_mf          │ (\u001b[38;5;45mNone\u001b[0m, \u001b[38;5;34m16\u001b[0m)        │     \u001b[38;5;34m68,592\u001b[0m │ item_input[\u001b[38;5;34m0\u001b[0m][\u001b[38;5;34m0\u001b[0m]  │\n",
              "│ (\u001b[38;5;33mEmbedding\u001b[0m)         │                   │            │                   │\n",
              "├─────────────────────┼───────────────────┼────────────┼───────────────────┤\n",
              "│ dropout_4 (\u001b[38;5;33mDropout\u001b[0m) │ (\u001b[38;5;45mNone\u001b[0m, \u001b[38;5;34m64\u001b[0m)        │          \u001b[38;5;34m0\u001b[0m │ mlp_dense_0[\u001b[38;5;34m0\u001b[0m][\u001b[38;5;34m0\u001b[0m] │\n",
              "├─────────────────────┼───────────────────┼────────────┼───────────────────┤\n",
              "│ flatten_8 (\u001b[38;5;33mFlatten\u001b[0m) │ (\u001b[38;5;45mNone\u001b[0m, \u001b[38;5;34m16\u001b[0m)        │          \u001b[38;5;34m0\u001b[0m │ u_embed_mf[\u001b[38;5;34m0\u001b[0m][\u001b[38;5;34m0\u001b[0m]  │\n",
              "├─────────────────────┼───────────────────┼────────────┼───────────────────┤\n",
              "│ flatten_9 (\u001b[38;5;33mFlatten\u001b[0m) │ (\u001b[38;5;45mNone\u001b[0m, \u001b[38;5;34m16\u001b[0m)        │          \u001b[38;5;34m0\u001b[0m │ i_embed_mf[\u001b[38;5;34m0\u001b[0m][\u001b[38;5;34m0\u001b[0m]  │\n",
              "├─────────────────────┼───────────────────┼────────────┼───────────────────┤\n",
              "│ mlp_dense_1 (\u001b[38;5;33mDense\u001b[0m) │ (\u001b[38;5;45mNone\u001b[0m, \u001b[38;5;34m32\u001b[0m)        │      \u001b[38;5;34m2,080\u001b[0m │ dropout_4[\u001b[38;5;34m0\u001b[0m][\u001b[38;5;34m0\u001b[0m]   │\n",
              "├─────────────────────┼───────────────────┼────────────┼───────────────────┤\n",
              "│ multiply_2          │ (\u001b[38;5;45mNone\u001b[0m, \u001b[38;5;34m16\u001b[0m)        │          \u001b[38;5;34m0\u001b[0m │ flatten_8[\u001b[38;5;34m0\u001b[0m][\u001b[38;5;34m0\u001b[0m],  │\n",
              "│ (\u001b[38;5;33mMultiply\u001b[0m)          │                   │            │ flatten_9[\u001b[38;5;34m0\u001b[0m][\u001b[38;5;34m0\u001b[0m]   │\n",
              "├─────────────────────┼───────────────────┼────────────┼───────────────────┤\n",
              "│ dropout_5 (\u001b[38;5;33mDropout\u001b[0m) │ (\u001b[38;5;45mNone\u001b[0m, \u001b[38;5;34m32\u001b[0m)        │          \u001b[38;5;34m0\u001b[0m │ mlp_dense_1[\u001b[38;5;34m0\u001b[0m][\u001b[38;5;34m0\u001b[0m] │\n",
              "├─────────────────────┼───────────────────┼────────────┼───────────────────┤\n",
              "│ concatenate_3       │ (\u001b[38;5;45mNone\u001b[0m, \u001b[38;5;34m48\u001b[0m)        │          \u001b[38;5;34m0\u001b[0m │ multiply_2[\u001b[38;5;34m0\u001b[0m][\u001b[38;5;34m0\u001b[0m], │\n",
              "│ (\u001b[38;5;33mConcatenate\u001b[0m)       │                   │            │ dropout_5[\u001b[38;5;34m0\u001b[0m][\u001b[38;5;34m0\u001b[0m]   │\n",
              "├─────────────────────┼───────────────────┼────────────┼───────────────────┤\n",
              "│ prediction (\u001b[38;5;33mDense\u001b[0m)  │ (\u001b[38;5;45mNone\u001b[0m, \u001b[38;5;34m1\u001b[0m)         │         \u001b[38;5;34m49\u001b[0m │ concatenate_3[\u001b[38;5;34m0\u001b[0m]… │\n",
              "└─────────────────────┴───────────────────┴────────────┴───────────────────┘\n"
            ],
            "text/html": [
              "<pre style=\"white-space:pre;overflow-x:auto;line-height:normal;font-family:Menlo,'DejaVu Sans Mono',consolas,'Courier New',monospace\">┏━━━━━━━━━━━━━━━━━━━━━┳━━━━━━━━━━━━━━━━━━━┳━━━━━━━━━━━━┳━━━━━━━━━━━━━━━━━━━┓\n",
              "┃<span style=\"font-weight: bold\"> Layer (type)        </span>┃<span style=\"font-weight: bold\"> Output Shape      </span>┃<span style=\"font-weight: bold\">    Param # </span>┃<span style=\"font-weight: bold\"> Connected to      </span>┃\n",
              "┡━━━━━━━━━━━━━━━━━━━━━╇━━━━━━━━━━━━━━━━━━━╇━━━━━━━━━━━━╇━━━━━━━━━━━━━━━━━━━┩\n",
              "│ user_input          │ (<span style=\"color: #00d7ff; text-decoration-color: #00d7ff\">None</span>)            │          <span style=\"color: #00af00; text-decoration-color: #00af00\">0</span> │ -                 │\n",
              "│ (<span style=\"color: #0087ff; text-decoration-color: #0087ff\">InputLayer</span>)        │                   │            │                   │\n",
              "├─────────────────────┼───────────────────┼────────────┼───────────────────┤\n",
              "│ item_input          │ (<span style=\"color: #00d7ff; text-decoration-color: #00d7ff\">None</span>)            │          <span style=\"color: #00af00; text-decoration-color: #00af00\">0</span> │ -                 │\n",
              "│ (<span style=\"color: #0087ff; text-decoration-color: #0087ff\">InputLayer</span>)        │                   │            │                   │\n",
              "├─────────────────────┼───────────────────┼────────────┼───────────────────┤\n",
              "│ u_embed_mlp         │ (<span style=\"color: #00d7ff; text-decoration-color: #00d7ff\">None</span>, <span style=\"color: #00af00; text-decoration-color: #00af00\">32</span>)        │  <span style=\"color: #00af00; text-decoration-color: #00af00\">1,690,272</span> │ user_input[<span style=\"color: #00af00; text-decoration-color: #00af00\">0</span>][<span style=\"color: #00af00; text-decoration-color: #00af00\">0</span>]  │\n",
              "│ (<span style=\"color: #0087ff; text-decoration-color: #0087ff\">Embedding</span>)         │                   │            │                   │\n",
              "├─────────────────────┼───────────────────┼────────────┼───────────────────┤\n",
              "│ i_embed_mlp         │ (<span style=\"color: #00d7ff; text-decoration-color: #00d7ff\">None</span>, <span style=\"color: #00af00; text-decoration-color: #00af00\">32</span>)        │    <span style=\"color: #00af00; text-decoration-color: #00af00\">137,184</span> │ item_input[<span style=\"color: #00af00; text-decoration-color: #00af00\">0</span>][<span style=\"color: #00af00; text-decoration-color: #00af00\">0</span>]  │\n",
              "│ (<span style=\"color: #0087ff; text-decoration-color: #0087ff\">Embedding</span>)         │                   │            │                   │\n",
              "├─────────────────────┼───────────────────┼────────────┼───────────────────┤\n",
              "│ flatten_10          │ (<span style=\"color: #00d7ff; text-decoration-color: #00d7ff\">None</span>, <span style=\"color: #00af00; text-decoration-color: #00af00\">32</span>)        │          <span style=\"color: #00af00; text-decoration-color: #00af00\">0</span> │ u_embed_mlp[<span style=\"color: #00af00; text-decoration-color: #00af00\">0</span>][<span style=\"color: #00af00; text-decoration-color: #00af00\">0</span>] │\n",
              "│ (<span style=\"color: #0087ff; text-decoration-color: #0087ff\">Flatten</span>)           │                   │            │                   │\n",
              "├─────────────────────┼───────────────────┼────────────┼───────────────────┤\n",
              "│ flatten_11          │ (<span style=\"color: #00d7ff; text-decoration-color: #00d7ff\">None</span>, <span style=\"color: #00af00; text-decoration-color: #00af00\">32</span>)        │          <span style=\"color: #00af00; text-decoration-color: #00af00\">0</span> │ i_embed_mlp[<span style=\"color: #00af00; text-decoration-color: #00af00\">0</span>][<span style=\"color: #00af00; text-decoration-color: #00af00\">0</span>] │\n",
              "│ (<span style=\"color: #0087ff; text-decoration-color: #0087ff\">Flatten</span>)           │                   │            │                   │\n",
              "├─────────────────────┼───────────────────┼────────────┼───────────────────┤\n",
              "│ resnet_embed_lookup │ (<span style=\"color: #00d7ff; text-decoration-color: #00d7ff\">None</span>, <span style=\"color: #00af00; text-decoration-color: #00af00\">2048</span>)      │  <span style=\"color: #00af00; text-decoration-color: #00af00\">8,779,776</span> │ item_input[<span style=\"color: #00af00; text-decoration-color: #00af00\">0</span>][<span style=\"color: #00af00; text-decoration-color: #00af00\">0</span>]  │\n",
              "│ (<span style=\"color: #0087ff; text-decoration-color: #0087ff\">Embedding</span>)         │                   │            │                   │\n",
              "├─────────────────────┼───────────────────┼────────────┼───────────────────┤\n",
              "│ mlp_input_concat    │ (<span style=\"color: #00d7ff; text-decoration-color: #00d7ff\">None</span>, <span style=\"color: #00af00; text-decoration-color: #00af00\">2112</span>)      │          <span style=\"color: #00af00; text-decoration-color: #00af00\">0</span> │ flatten_10[<span style=\"color: #00af00; text-decoration-color: #00af00\">0</span>][<span style=\"color: #00af00; text-decoration-color: #00af00\">0</span>], │\n",
              "│ (<span style=\"color: #0087ff; text-decoration-color: #0087ff\">Concatenate</span>)       │                   │            │ flatten_11[<span style=\"color: #00af00; text-decoration-color: #00af00\">0</span>][<span style=\"color: #00af00; text-decoration-color: #00af00\">0</span>], │\n",
              "│                     │                   │            │ resnet_embed_loo… │\n",
              "├─────────────────────┼───────────────────┼────────────┼───────────────────┤\n",
              "│ mlp_dense_0 (<span style=\"color: #0087ff; text-decoration-color: #0087ff\">Dense</span>) │ (<span style=\"color: #00d7ff; text-decoration-color: #00d7ff\">None</span>, <span style=\"color: #00af00; text-decoration-color: #00af00\">64</span>)        │    <span style=\"color: #00af00; text-decoration-color: #00af00\">135,232</span> │ mlp_input_concat… │\n",
              "├─────────────────────┼───────────────────┼────────────┼───────────────────┤\n",
              "│ u_embed_mf          │ (<span style=\"color: #00d7ff; text-decoration-color: #00d7ff\">None</span>, <span style=\"color: #00af00; text-decoration-color: #00af00\">16</span>)        │    <span style=\"color: #00af00; text-decoration-color: #00af00\">845,136</span> │ user_input[<span style=\"color: #00af00; text-decoration-color: #00af00\">0</span>][<span style=\"color: #00af00; text-decoration-color: #00af00\">0</span>]  │\n",
              "│ (<span style=\"color: #0087ff; text-decoration-color: #0087ff\">Embedding</span>)         │                   │            │                   │\n",
              "├─────────────────────┼───────────────────┼────────────┼───────────────────┤\n",
              "│ i_embed_mf          │ (<span style=\"color: #00d7ff; text-decoration-color: #00d7ff\">None</span>, <span style=\"color: #00af00; text-decoration-color: #00af00\">16</span>)        │     <span style=\"color: #00af00; text-decoration-color: #00af00\">68,592</span> │ item_input[<span style=\"color: #00af00; text-decoration-color: #00af00\">0</span>][<span style=\"color: #00af00; text-decoration-color: #00af00\">0</span>]  │\n",
              "│ (<span style=\"color: #0087ff; text-decoration-color: #0087ff\">Embedding</span>)         │                   │            │                   │\n",
              "├─────────────────────┼───────────────────┼────────────┼───────────────────┤\n",
              "│ dropout_4 (<span style=\"color: #0087ff; text-decoration-color: #0087ff\">Dropout</span>) │ (<span style=\"color: #00d7ff; text-decoration-color: #00d7ff\">None</span>, <span style=\"color: #00af00; text-decoration-color: #00af00\">64</span>)        │          <span style=\"color: #00af00; text-decoration-color: #00af00\">0</span> │ mlp_dense_0[<span style=\"color: #00af00; text-decoration-color: #00af00\">0</span>][<span style=\"color: #00af00; text-decoration-color: #00af00\">0</span>] │\n",
              "├─────────────────────┼───────────────────┼────────────┼───────────────────┤\n",
              "│ flatten_8 (<span style=\"color: #0087ff; text-decoration-color: #0087ff\">Flatten</span>) │ (<span style=\"color: #00d7ff; text-decoration-color: #00d7ff\">None</span>, <span style=\"color: #00af00; text-decoration-color: #00af00\">16</span>)        │          <span style=\"color: #00af00; text-decoration-color: #00af00\">0</span> │ u_embed_mf[<span style=\"color: #00af00; text-decoration-color: #00af00\">0</span>][<span style=\"color: #00af00; text-decoration-color: #00af00\">0</span>]  │\n",
              "├─────────────────────┼───────────────────┼────────────┼───────────────────┤\n",
              "│ flatten_9 (<span style=\"color: #0087ff; text-decoration-color: #0087ff\">Flatten</span>) │ (<span style=\"color: #00d7ff; text-decoration-color: #00d7ff\">None</span>, <span style=\"color: #00af00; text-decoration-color: #00af00\">16</span>)        │          <span style=\"color: #00af00; text-decoration-color: #00af00\">0</span> │ i_embed_mf[<span style=\"color: #00af00; text-decoration-color: #00af00\">0</span>][<span style=\"color: #00af00; text-decoration-color: #00af00\">0</span>]  │\n",
              "├─────────────────────┼───────────────────┼────────────┼───────────────────┤\n",
              "│ mlp_dense_1 (<span style=\"color: #0087ff; text-decoration-color: #0087ff\">Dense</span>) │ (<span style=\"color: #00d7ff; text-decoration-color: #00d7ff\">None</span>, <span style=\"color: #00af00; text-decoration-color: #00af00\">32</span>)        │      <span style=\"color: #00af00; text-decoration-color: #00af00\">2,080</span> │ dropout_4[<span style=\"color: #00af00; text-decoration-color: #00af00\">0</span>][<span style=\"color: #00af00; text-decoration-color: #00af00\">0</span>]   │\n",
              "├─────────────────────┼───────────────────┼────────────┼───────────────────┤\n",
              "│ multiply_2          │ (<span style=\"color: #00d7ff; text-decoration-color: #00d7ff\">None</span>, <span style=\"color: #00af00; text-decoration-color: #00af00\">16</span>)        │          <span style=\"color: #00af00; text-decoration-color: #00af00\">0</span> │ flatten_8[<span style=\"color: #00af00; text-decoration-color: #00af00\">0</span>][<span style=\"color: #00af00; text-decoration-color: #00af00\">0</span>],  │\n",
              "│ (<span style=\"color: #0087ff; text-decoration-color: #0087ff\">Multiply</span>)          │                   │            │ flatten_9[<span style=\"color: #00af00; text-decoration-color: #00af00\">0</span>][<span style=\"color: #00af00; text-decoration-color: #00af00\">0</span>]   │\n",
              "├─────────────────────┼───────────────────┼────────────┼───────────────────┤\n",
              "│ dropout_5 (<span style=\"color: #0087ff; text-decoration-color: #0087ff\">Dropout</span>) │ (<span style=\"color: #00d7ff; text-decoration-color: #00d7ff\">None</span>, <span style=\"color: #00af00; text-decoration-color: #00af00\">32</span>)        │          <span style=\"color: #00af00; text-decoration-color: #00af00\">0</span> │ mlp_dense_1[<span style=\"color: #00af00; text-decoration-color: #00af00\">0</span>][<span style=\"color: #00af00; text-decoration-color: #00af00\">0</span>] │\n",
              "├─────────────────────┼───────────────────┼────────────┼───────────────────┤\n",
              "│ concatenate_3       │ (<span style=\"color: #00d7ff; text-decoration-color: #00d7ff\">None</span>, <span style=\"color: #00af00; text-decoration-color: #00af00\">48</span>)        │          <span style=\"color: #00af00; text-decoration-color: #00af00\">0</span> │ multiply_2[<span style=\"color: #00af00; text-decoration-color: #00af00\">0</span>][<span style=\"color: #00af00; text-decoration-color: #00af00\">0</span>], │\n",
              "│ (<span style=\"color: #0087ff; text-decoration-color: #0087ff\">Concatenate</span>)       │                   │            │ dropout_5[<span style=\"color: #00af00; text-decoration-color: #00af00\">0</span>][<span style=\"color: #00af00; text-decoration-color: #00af00\">0</span>]   │\n",
              "├─────────────────────┼───────────────────┼────────────┼───────────────────┤\n",
              "│ prediction (<span style=\"color: #0087ff; text-decoration-color: #0087ff\">Dense</span>)  │ (<span style=\"color: #00d7ff; text-decoration-color: #00d7ff\">None</span>, <span style=\"color: #00af00; text-decoration-color: #00af00\">1</span>)         │         <span style=\"color: #00af00; text-decoration-color: #00af00\">49</span> │ concatenate_3[<span style=\"color: #00af00; text-decoration-color: #00af00\">0</span>]… │\n",
              "└─────────────────────┴───────────────────┴────────────┴───────────────────┘\n",
              "</pre>\n"
            ]
          },
          "metadata": {}
        },
        {
          "output_type": "display_data",
          "data": {
            "text/plain": [
              "\u001b[1m Total params: \u001b[0m\u001b[38;5;34m11,658,321\u001b[0m (44.47 MB)\n"
            ],
            "text/html": [
              "<pre style=\"white-space:pre;overflow-x:auto;line-height:normal;font-family:Menlo,'DejaVu Sans Mono',consolas,'Courier New',monospace\"><span style=\"font-weight: bold\"> Total params: </span><span style=\"color: #00af00; text-decoration-color: #00af00\">11,658,321</span> (44.47 MB)\n",
              "</pre>\n"
            ]
          },
          "metadata": {}
        },
        {
          "output_type": "display_data",
          "data": {
            "text/plain": [
              "\u001b[1m Trainable params: \u001b[0m\u001b[38;5;34m2,878,545\u001b[0m (10.98 MB)\n"
            ],
            "text/html": [
              "<pre style=\"white-space:pre;overflow-x:auto;line-height:normal;font-family:Menlo,'DejaVu Sans Mono',consolas,'Courier New',monospace\"><span style=\"font-weight: bold\"> Trainable params: </span><span style=\"color: #00af00; text-decoration-color: #00af00\">2,878,545</span> (10.98 MB)\n",
              "</pre>\n"
            ]
          },
          "metadata": {}
        },
        {
          "output_type": "display_data",
          "data": {
            "text/plain": [
              "\u001b[1m Non-trainable params: \u001b[0m\u001b[38;5;34m8,779,776\u001b[0m (33.49 MB)\n"
            ],
            "text/html": [
              "<pre style=\"white-space:pre;overflow-x:auto;line-height:normal;font-family:Menlo,'DejaVu Sans Mono',consolas,'Courier New',monospace\"><span style=\"font-weight: bold\"> Non-trainable params: </span><span style=\"color: #00af00; text-decoration-color: #00af00\">8,779,776</span> (33.49 MB)\n",
              "</pre>\n"
            ]
          },
          "metadata": {}
        }
      ]
    },
    {
      "cell_type": "markdown",
      "source": [
        "Training"
      ],
      "metadata": {
        "id": "BZDlkseKSdFf"
      }
    },
    {
      "cell_type": "code",
      "source": [
        "ks = [5, 10, 20]\n",
        "rank_cb = MultiKRankingCallback(\n",
        "    train_pos=train_pos,      # user → set of train-positive items\n",
        "    test_pos=test_pos,        # user → set of test-positive items\n",
        "    num_items=num_items,      # total number of distinct items (4287)\n",
        "    Ks=ks,                     # compute Precision@k, NDCG@k, MAP@k\n",
        "    verbose=1                 # set to 1 to print metrics each epoch\n",
        ")"
      ],
      "metadata": {
        "id": "9IlA1MH6SfQ9"
      },
      "execution_count": 59,
      "outputs": []
    },
    {
      "cell_type": "code",
      "source": [
        "batch_size = 4096  # increase if your GPU/Colab can handle it (maybe 4096)\n",
        "buffer_size = 100_000\n",
        "\n",
        "# 1) Build a Dataset from your three 1D NumPy arrays\n",
        "#    Each element is (u_idx, i_idx, label).\n",
        "train_ds = tf.data.Dataset.from_tensor_slices((user_input, item_input, labels))\n",
        "\n",
        "# 2) Shuffle → batch → prefetch.  Drop remainder so each batch is exactly `batch_size`.\n",
        "train_ds = (\n",
        "    train_ds\n",
        "    .shuffle(buffer_size, seed=42)\n",
        "    .batch(batch_size, drop_remainder=True)\n",
        "    .map(lambda u, i, y: ((u, i), y), num_parallel_calls=tf.data.AUTOTUNE)\n",
        "    .prefetch(tf.data.AUTOTUNE)\n",
        ")\n",
        "\n",
        "# 3) Do the same for validation (but typically you skip shuffle for val):\n",
        "val_ds = tf.data.Dataset.from_tensor_slices(\n",
        "    (user_input_test, item_input_test, labels_test)\n",
        ")\n",
        "val_ds = (\n",
        "    val_ds\n",
        "    .batch(batch_size, drop_remainder=False)\n",
        "    .map(lambda u, i, y: ((u, i), y), num_parallel_calls=tf.data.AUTOTUNE)\n",
        "    .prefetch(tf.data.AUTOTUNE)\n",
        ")\n",
        "\n",
        "# 4) Now call .fit on the Datasets:\n",
        "history_with_feats_2 = model_with_feats_2.fit(\n",
        "    train_ds,\n",
        "    epochs=5,\n",
        "    validation_data=val_ds,\n",
        "    callbacks=[rank_cb],\n",
        "    shuffle=False  # we already shuffled in the Dataset pipeline\n",
        ")\n"
      ],
      "metadata": {
        "colab": {
          "base_uri": "https://localhost:8080/"
        },
        "id": "8I5lW1tBSnhA",
        "outputId": "6df73c2f-25a6-4a92-d013-10743f53e549"
      },
      "execution_count": 60,
      "outputs": [
        {
          "output_type": "stream",
          "name": "stdout",
          "text": [
            "Epoch 1/5\n",
            "\u001b[1m2456/2456\u001b[0m \u001b[32m━━━━━━━━━━━━━━━━━━━━\u001b[0m\u001b[37m\u001b[0m \u001b[1m0s\u001b[0m 237ms/step - auc: 0.8117 - loss: 0.4817 — epoch 1:   P@5=0.098, NDCG@5=0.105, MAP@5=0.056, ILD@5=0.308, Nov@5=0.578;  P@10=0.084, NDCG@10=0.093, MAP@10=0.036, ILD@10=0.305, Nov@10=0.608;  P@20=0.079, NDCG@20=0.134, MAP@20=0.048, ILD@20=0.303, Nov@20=0.658;\n",
            "\u001b[1m2456/2456\u001b[0m \u001b[32m━━━━━━━━━━━━━━━━━━━━\u001b[0m\u001b[37m\u001b[0m \u001b[1m606s\u001b[0m 245ms/step - auc: 0.8117 - loss: 0.4817 - val_auc: 0.9101 - val_loss: 0.3627 - Precision@5: 0.0980 - NDCG@5: 0.1053 - MAP@5: 0.0562 - ILD@5: 0.3079 - Novelty@5: 0.5781 - Precision@10: 0.0840 - NDCG@10: 0.0933 - MAP@10: 0.0365 - ILD@10: 0.3052 - Novelty@10: 0.6076 - Precision@20: 0.0785 - NDCG@20: 0.1340 - MAP@20: 0.0477 - ILD@20: 0.3028 - Novelty@20: 0.6582\n",
            "Epoch 2/5\n",
            "\u001b[1m2456/2456\u001b[0m \u001b[32m━━━━━━━━━━━━━━━━━━━━\u001b[0m\u001b[37m\u001b[0m \u001b[1m0s\u001b[0m 211ms/step - auc: 0.9062 - loss: 0.3616 — epoch 2:   P@5=0.112, NDCG@5=0.121, MAP@5=0.071, ILD@5=0.305, Nov@5=0.637;  P@10=0.109, NDCG@10=0.115, MAP@10=0.048, ILD@10=0.305, Nov@10=0.664;  P@20=0.095, NDCG@20=0.160, MAP@20=0.062, ILD@20=0.303, Nov@20=0.703;\n",
            "\u001b[1m2456/2456\u001b[0m \u001b[32m━━━━━━━━━━━━━━━━━━━━\u001b[0m\u001b[37m\u001b[0m \u001b[1m538s\u001b[0m 219ms/step - auc: 0.9062 - loss: 0.3616 - val_auc: 0.9250 - val_loss: 0.3309 - Precision@5: 0.1120 - NDCG@5: 0.1205 - MAP@5: 0.0712 - ILD@5: 0.3051 - Novelty@5: 0.6370 - Precision@10: 0.1090 - NDCG@10: 0.1147 - MAP@10: 0.0479 - ILD@10: 0.3053 - Novelty@10: 0.6645 - Precision@20: 0.0955 - NDCG@20: 0.1598 - MAP@20: 0.0618 - ILD@20: 0.3034 - Novelty@20: 0.7031\n",
            "Epoch 3/5\n",
            "\u001b[1m2456/2456\u001b[0m \u001b[32m━━━━━━━━━━━━━━━━━━━━\u001b[0m\u001b[37m\u001b[0m \u001b[1m0s\u001b[0m 208ms/step - auc: 0.9348 - loss: 0.3064 — epoch 3:   P@5=0.122, NDCG@5=0.133, MAP@5=0.077, ILD@5=0.308, Nov@5=0.642;  P@10=0.109, NDCG@10=0.120, MAP@10=0.051, ILD@10=0.305, Nov@10=0.681;  P@20=0.096, NDCG@20=0.168, MAP@20=0.067, ILD@20=0.307, Nov@20=0.715;\n",
            "\u001b[1m2456/2456\u001b[0m \u001b[32m━━━━━━━━━━━━━━━━━━━━\u001b[0m\u001b[37m\u001b[0m \u001b[1m532s\u001b[0m 217ms/step - auc: 0.9348 - loss: 0.3064 - val_auc: 0.9296 - val_loss: 0.3186 - Precision@5: 0.1220 - NDCG@5: 0.1330 - MAP@5: 0.0774 - ILD@5: 0.3079 - Novelty@5: 0.6420 - Precision@10: 0.1090 - NDCG@10: 0.1202 - MAP@10: 0.0511 - ILD@10: 0.3053 - Novelty@10: 0.6810 - Precision@20: 0.0960 - NDCG@20: 0.1675 - MAP@20: 0.0668 - ILD@20: 0.3070 - Novelty@20: 0.7152\n",
            "Epoch 4/5\n",
            "\u001b[1m2456/2456\u001b[0m \u001b[32m━━━━━━━━━━━━━━━━━━━━\u001b[0m\u001b[37m\u001b[0m \u001b[1m0s\u001b[0m 209ms/step - auc: 0.9458 - loss: 0.2802 — epoch 4:   P@5=0.134, NDCG@5=0.148, MAP@5=0.086, ILD@5=0.306, Nov@5=0.691;  P@10=0.110, NDCG@10=0.126, MAP@10=0.054, ILD@10=0.305, Nov@10=0.713;  P@20=0.101, NDCG@20=0.176, MAP@20=0.071, ILD@20=0.309, Nov@20=0.747;\n",
            "\u001b[1m2456/2456\u001b[0m \u001b[32m━━━━━━━━━━━━━━━━━━━━\u001b[0m\u001b[37m\u001b[0m \u001b[1m534s\u001b[0m 217ms/step - auc: 0.9458 - loss: 0.2802 - val_auc: 0.9310 - val_loss: 0.3152 - Precision@5: 0.1340 - NDCG@5: 0.1481 - MAP@5: 0.0864 - ILD@5: 0.3056 - Novelty@5: 0.6908 - Precision@10: 0.1100 - NDCG@10: 0.1258 - MAP@10: 0.0545 - ILD@10: 0.3045 - Novelty@10: 0.7132 - Precision@20: 0.1005 - NDCG@20: 0.1760 - MAP@20: 0.0706 - ILD@20: 0.3093 - Novelty@20: 0.7470\n",
            "Epoch 5/5\n",
            "\u001b[1m2456/2456\u001b[0m \u001b[32m━━━━━━━━━━━━━━━━━━━━\u001b[0m\u001b[37m\u001b[0m \u001b[1m0s\u001b[0m 214ms/step - auc: 0.9532 - loss: 0.2607 — epoch 5:   P@5=0.136, NDCG@5=0.144, MAP@5=0.082, ILD@5=0.306, Nov@5=0.672;  P@10=0.119, NDCG@10=0.130, MAP@10=0.055, ILD@10=0.303, Nov@10=0.705;  P@20=0.104, NDCG@20=0.180, MAP@20=0.072, ILD@20=0.310, Nov@20=0.739;\n",
            "\u001b[1m2456/2456\u001b[0m \u001b[32m━━━━━━━━━━━━━━━━━━━━\u001b[0m\u001b[37m\u001b[0m \u001b[1m548s\u001b[0m 223ms/step - auc: 0.9532 - loss: 0.2607 - val_auc: 0.9335 - val_loss: 0.3117 - Precision@5: 0.1360 - NDCG@5: 0.1438 - MAP@5: 0.0820 - ILD@5: 0.3065 - Novelty@5: 0.6723 - Precision@10: 0.1190 - NDCG@10: 0.1300 - MAP@10: 0.0552 - ILD@10: 0.3034 - Novelty@10: 0.7052 - Precision@20: 0.1040 - NDCG@20: 0.1801 - MAP@20: 0.0724 - ILD@20: 0.3098 - Novelty@20: 0.7391\n"
          ]
        }
      ]
    },
    {
      "cell_type": "markdown",
      "source": [
        "\n",
        "\n",
        "# BERT + ResNet\n",
        "\n"
      ],
      "metadata": {
        "id": "09PMath8SltF"
      }
    },
    {
      "cell_type": "code",
      "source": [
        "import tensorflow as tf\n",
        "from tensorflow.keras.layers import (\n",
        "    Input, Embedding, Flatten, Multiply,\n",
        "    Concatenate, Dense, Dropout\n",
        ")\n",
        "from tensorflow.keras.models import Model\n",
        "from tensorflow.keras import mixed_precision\n",
        "\n",
        "# 0) Optional: mixed-precision\n",
        "mixed_precision.set_global_policy(\"mixed_float16\")\n",
        "\n",
        "# 1) Hyperparameters\n",
        "K_mf       = 16\n",
        "K_mlp      = 32\n",
        "mlp_layers = [64, 32]\n",
        "dropout    = 0.2\n",
        "\n",
        "# Suppose:\n",
        "#   bert_embed_layer   = Embedding(num_items, D1,\n",
        "#                                embeddings_initializer=Constant(bert_embeddings), trainable=False)\n",
        "#   resnet_embed_layer = Embedding(num_items, D2,\n",
        "#                                embeddings_initializer=Constant(portrait_embeddings), trainable=False)\n",
        "\n",
        "# 2) Inputs\n",
        "user_in = Input(shape=(), dtype=tf.int32, name=\"user_input\")\n",
        "item_in = Input(shape=(), dtype=tf.int32, name=\"item_input\")\n",
        "\n",
        "# 3) GMF branch\n",
        "u_mf = Embedding(num_users, K_mf, name=\"u_embed_mf\")(user_in)\n",
        "i_mf = Embedding(num_items, K_mf, name=\"i_embed_mf\")(item_in)\n",
        "u_lat_mf = Flatten()(u_mf)\n",
        "i_lat_mf = Flatten()(i_mf)\n",
        "mf_vec   = Multiply()([u_lat_mf, i_lat_mf])\n",
        "\n",
        "# 4) MLP branch — learned embeddings\n",
        "u_mlp = Embedding(num_users, K_mlp, name=\"u_embed_mlp\")(user_in)\n",
        "i_mlp = Embedding(num_items, K_mlp, name=\"i_embed_mlp\")(item_in)\n",
        "u_lat_mlp = Flatten()(u_mlp)\n",
        "i_lat_mlp = Flatten()(i_mlp)\n",
        "\n",
        "# 5) Look up both feature sets\n",
        "bert_feat   = bert_embed_layer(item_in)    # shape=(batch, D1)\n",
        "resnet_feat = resnet_embed_layer(item_in)  # shape=(batch, D2)\n",
        "\n",
        "# 6) (Optional) Project each to smaller dimension, e.g. 64\n",
        "bert_proj   = Dense(64, activation=\"relu\", name=\"proj_bert\")(bert_feat)\n",
        "resnet_proj = Dense(64, activation=\"relu\", name=\"proj_resnet\")(resnet_feat)\n",
        "\n",
        "# 7) Concatenate all MLP inputs\n",
        "mlp_input = Concatenate(name=\"mlp_input\")([\n",
        "    u_lat_mlp,\n",
        "    i_lat_mlp,\n",
        "    bert_proj,\n",
        "    resnet_proj\n",
        "])  # shape = (batch, 2*K_mlp + 64 + 64)\n",
        "\n",
        "# 8) MLP layers\n",
        "x = mlp_input\n",
        "for idx, size in enumerate(mlp_layers):\n",
        "    x = Dense(size, activation=\"relu\", name=f\"mlp_dense_{idx}\")(x)\n",
        "    x = Dropout(dropout)(x)\n",
        "\n",
        "# 9) Final fusion + output\n",
        "final = Concatenate()([mf_vec, x])\n",
        "out   = Dense(1, activation=\"sigmoid\", name=\"prediction\")(final)\n",
        "\n",
        "model_both = Model(inputs=[user_in, item_in], outputs=out)\n",
        "model_both.compile(\n",
        "    optimizer=tf.keras.optimizers.Adam(1e-3),\n",
        "    loss=\"binary_crossentropy\",\n",
        "    metrics=[tf.keras.metrics.AUC(name=\"auc\")]\n",
        ")\n",
        "model_both.summary()\n"
      ],
      "metadata": {
        "colab": {
          "base_uri": "https://localhost:8080/",
          "height": 1000
        },
        "id": "B_00YLaq_pWt",
        "outputId": "6db46232-df15-4ed9-cc75-ad07c553916f"
      },
      "execution_count": 61,
      "outputs": [
        {
          "output_type": "display_data",
          "data": {
            "text/plain": [
              "\u001b[1mModel: \"functional_3\"\u001b[0m\n"
            ],
            "text/html": [
              "<pre style=\"white-space:pre;overflow-x:auto;line-height:normal;font-family:Menlo,'DejaVu Sans Mono',consolas,'Courier New',monospace\"><span style=\"font-weight: bold\">Model: \"functional_3\"</span>\n",
              "</pre>\n"
            ]
          },
          "metadata": {}
        },
        {
          "output_type": "display_data",
          "data": {
            "text/plain": [
              "┏━━━━━━━━━━━━━━━━━━━━━┳━━━━━━━━━━━━━━━━━━━┳━━━━━━━━━━━━┳━━━━━━━━━━━━━━━━━━━┓\n",
              "┃\u001b[1m \u001b[0m\u001b[1mLayer (type)       \u001b[0m\u001b[1m \u001b[0m┃\u001b[1m \u001b[0m\u001b[1mOutput Shape     \u001b[0m\u001b[1m \u001b[0m┃\u001b[1m \u001b[0m\u001b[1m   Param #\u001b[0m\u001b[1m \u001b[0m┃\u001b[1m \u001b[0m\u001b[1mConnected to     \u001b[0m\u001b[1m \u001b[0m┃\n",
              "┡━━━━━━━━━━━━━━━━━━━━━╇━━━━━━━━━━━━━━━━━━━╇━━━━━━━━━━━━╇━━━━━━━━━━━━━━━━━━━┩\n",
              "│ user_input          │ (\u001b[38;5;45mNone\u001b[0m)            │          \u001b[38;5;34m0\u001b[0m │ -                 │\n",
              "│ (\u001b[38;5;33mInputLayer\u001b[0m)        │                   │            │                   │\n",
              "├─────────────────────┼───────────────────┼────────────┼───────────────────┤\n",
              "│ item_input          │ (\u001b[38;5;45mNone\u001b[0m)            │          \u001b[38;5;34m0\u001b[0m │ -                 │\n",
              "│ (\u001b[38;5;33mInputLayer\u001b[0m)        │                   │            │                   │\n",
              "├─────────────────────┼───────────────────┼────────────┼───────────────────┤\n",
              "│ u_embed_mlp         │ (\u001b[38;5;45mNone\u001b[0m, \u001b[38;5;34m32\u001b[0m)        │  \u001b[38;5;34m1,690,272\u001b[0m │ user_input[\u001b[38;5;34m0\u001b[0m][\u001b[38;5;34m0\u001b[0m]  │\n",
              "│ (\u001b[38;5;33mEmbedding\u001b[0m)         │                   │            │                   │\n",
              "├─────────────────────┼───────────────────┼────────────┼───────────────────┤\n",
              "│ i_embed_mlp         │ (\u001b[38;5;45mNone\u001b[0m, \u001b[38;5;34m32\u001b[0m)        │    \u001b[38;5;34m137,184\u001b[0m │ item_input[\u001b[38;5;34m0\u001b[0m][\u001b[38;5;34m0\u001b[0m]  │\n",
              "│ (\u001b[38;5;33mEmbedding\u001b[0m)         │                   │            │                   │\n",
              "├─────────────────────┼───────────────────┼────────────┼───────────────────┤\n",
              "│ bert_embed_lookup   │ (\u001b[38;5;45mNone\u001b[0m, \u001b[38;5;34m768\u001b[0m)       │  \u001b[38;5;34m3,292,416\u001b[0m │ item_input[\u001b[38;5;34m0\u001b[0m][\u001b[38;5;34m0\u001b[0m]  │\n",
              "│ (\u001b[38;5;33mEmbedding\u001b[0m)         │                   │            │                   │\n",
              "├─────────────────────┼───────────────────┼────────────┼───────────────────┤\n",
              "│ resnet_embed_lookup │ (\u001b[38;5;45mNone\u001b[0m, \u001b[38;5;34m2048\u001b[0m)      │  \u001b[38;5;34m8,779,776\u001b[0m │ item_input[\u001b[38;5;34m0\u001b[0m][\u001b[38;5;34m0\u001b[0m]  │\n",
              "│ (\u001b[38;5;33mEmbedding\u001b[0m)         │                   │            │                   │\n",
              "├─────────────────────┼───────────────────┼────────────┼───────────────────┤\n",
              "│ flatten_14          │ (\u001b[38;5;45mNone\u001b[0m, \u001b[38;5;34m32\u001b[0m)        │          \u001b[38;5;34m0\u001b[0m │ u_embed_mlp[\u001b[38;5;34m0\u001b[0m][\u001b[38;5;34m0\u001b[0m] │\n",
              "│ (\u001b[38;5;33mFlatten\u001b[0m)           │                   │            │                   │\n",
              "├─────────────────────┼───────────────────┼────────────┼───────────────────┤\n",
              "│ flatten_15          │ (\u001b[38;5;45mNone\u001b[0m, \u001b[38;5;34m32\u001b[0m)        │          \u001b[38;5;34m0\u001b[0m │ i_embed_mlp[\u001b[38;5;34m0\u001b[0m][\u001b[38;5;34m0\u001b[0m] │\n",
              "│ (\u001b[38;5;33mFlatten\u001b[0m)           │                   │            │                   │\n",
              "├─────────────────────┼───────────────────┼────────────┼───────────────────┤\n",
              "│ proj_bert (\u001b[38;5;33mDense\u001b[0m)   │ (\u001b[38;5;45mNone\u001b[0m, \u001b[38;5;34m64\u001b[0m)        │     \u001b[38;5;34m49,216\u001b[0m │ bert_embed_looku… │\n",
              "├─────────────────────┼───────────────────┼────────────┼───────────────────┤\n",
              "│ proj_resnet (\u001b[38;5;33mDense\u001b[0m) │ (\u001b[38;5;45mNone\u001b[0m, \u001b[38;5;34m64\u001b[0m)        │    \u001b[38;5;34m131,136\u001b[0m │ resnet_embed_loo… │\n",
              "├─────────────────────┼───────────────────┼────────────┼───────────────────┤\n",
              "│ mlp_input           │ (\u001b[38;5;45mNone\u001b[0m, \u001b[38;5;34m192\u001b[0m)       │          \u001b[38;5;34m0\u001b[0m │ flatten_14[\u001b[38;5;34m0\u001b[0m][\u001b[38;5;34m0\u001b[0m], │\n",
              "│ (\u001b[38;5;33mConcatenate\u001b[0m)       │                   │            │ flatten_15[\u001b[38;5;34m0\u001b[0m][\u001b[38;5;34m0\u001b[0m], │\n",
              "│                     │                   │            │ proj_bert[\u001b[38;5;34m0\u001b[0m][\u001b[38;5;34m0\u001b[0m],  │\n",
              "│                     │                   │            │ proj_resnet[\u001b[38;5;34m0\u001b[0m][\u001b[38;5;34m0\u001b[0m] │\n",
              "├─────────────────────┼───────────────────┼────────────┼───────────────────┤\n",
              "│ mlp_dense_0 (\u001b[38;5;33mDense\u001b[0m) │ (\u001b[38;5;45mNone\u001b[0m, \u001b[38;5;34m64\u001b[0m)        │     \u001b[38;5;34m12,352\u001b[0m │ mlp_input[\u001b[38;5;34m0\u001b[0m][\u001b[38;5;34m0\u001b[0m]   │\n",
              "├─────────────────────┼───────────────────┼────────────┼───────────────────┤\n",
              "│ u_embed_mf          │ (\u001b[38;5;45mNone\u001b[0m, \u001b[38;5;34m16\u001b[0m)        │    \u001b[38;5;34m845,136\u001b[0m │ user_input[\u001b[38;5;34m0\u001b[0m][\u001b[38;5;34m0\u001b[0m]  │\n",
              "│ (\u001b[38;5;33mEmbedding\u001b[0m)         │                   │            │                   │\n",
              "├─────────────────────┼───────────────────┼────────────┼───────────────────┤\n",
              "│ i_embed_mf          │ (\u001b[38;5;45mNone\u001b[0m, \u001b[38;5;34m16\u001b[0m)        │     \u001b[38;5;34m68,592\u001b[0m │ item_input[\u001b[38;5;34m0\u001b[0m][\u001b[38;5;34m0\u001b[0m]  │\n",
              "│ (\u001b[38;5;33mEmbedding\u001b[0m)         │                   │            │                   │\n",
              "├─────────────────────┼───────────────────┼────────────┼───────────────────┤\n",
              "│ dropout_6 (\u001b[38;5;33mDropout\u001b[0m) │ (\u001b[38;5;45mNone\u001b[0m, \u001b[38;5;34m64\u001b[0m)        │          \u001b[38;5;34m0\u001b[0m │ mlp_dense_0[\u001b[38;5;34m0\u001b[0m][\u001b[38;5;34m0\u001b[0m] │\n",
              "├─────────────────────┼───────────────────┼────────────┼───────────────────┤\n",
              "│ flatten_12          │ (\u001b[38;5;45mNone\u001b[0m, \u001b[38;5;34m16\u001b[0m)        │          \u001b[38;5;34m0\u001b[0m │ u_embed_mf[\u001b[38;5;34m0\u001b[0m][\u001b[38;5;34m0\u001b[0m]  │\n",
              "│ (\u001b[38;5;33mFlatten\u001b[0m)           │                   │            │                   │\n",
              "├─────────────────────┼───────────────────┼────────────┼───────────────────┤\n",
              "│ flatten_13          │ (\u001b[38;5;45mNone\u001b[0m, \u001b[38;5;34m16\u001b[0m)        │          \u001b[38;5;34m0\u001b[0m │ i_embed_mf[\u001b[38;5;34m0\u001b[0m][\u001b[38;5;34m0\u001b[0m]  │\n",
              "│ (\u001b[38;5;33mFlatten\u001b[0m)           │                   │            │                   │\n",
              "├─────────────────────┼───────────────────┼────────────┼───────────────────┤\n",
              "│ mlp_dense_1 (\u001b[38;5;33mDense\u001b[0m) │ (\u001b[38;5;45mNone\u001b[0m, \u001b[38;5;34m32\u001b[0m)        │      \u001b[38;5;34m2,080\u001b[0m │ dropout_6[\u001b[38;5;34m0\u001b[0m][\u001b[38;5;34m0\u001b[0m]   │\n",
              "├─────────────────────┼───────────────────┼────────────┼───────────────────┤\n",
              "│ multiply_3          │ (\u001b[38;5;45mNone\u001b[0m, \u001b[38;5;34m16\u001b[0m)        │          \u001b[38;5;34m0\u001b[0m │ flatten_12[\u001b[38;5;34m0\u001b[0m][\u001b[38;5;34m0\u001b[0m], │\n",
              "│ (\u001b[38;5;33mMultiply\u001b[0m)          │                   │            │ flatten_13[\u001b[38;5;34m0\u001b[0m][\u001b[38;5;34m0\u001b[0m]  │\n",
              "├─────────────────────┼───────────────────┼────────────┼───────────────────┤\n",
              "│ dropout_7 (\u001b[38;5;33mDropout\u001b[0m) │ (\u001b[38;5;45mNone\u001b[0m, \u001b[38;5;34m32\u001b[0m)        │          \u001b[38;5;34m0\u001b[0m │ mlp_dense_1[\u001b[38;5;34m0\u001b[0m][\u001b[38;5;34m0\u001b[0m] │\n",
              "├─────────────────────┼───────────────────┼────────────┼───────────────────┤\n",
              "│ concatenate_4       │ (\u001b[38;5;45mNone\u001b[0m, \u001b[38;5;34m48\u001b[0m)        │          \u001b[38;5;34m0\u001b[0m │ multiply_3[\u001b[38;5;34m0\u001b[0m][\u001b[38;5;34m0\u001b[0m], │\n",
              "│ (\u001b[38;5;33mConcatenate\u001b[0m)       │                   │            │ dropout_7[\u001b[38;5;34m0\u001b[0m][\u001b[38;5;34m0\u001b[0m]   │\n",
              "├─────────────────────┼───────────────────┼────────────┼───────────────────┤\n",
              "│ prediction (\u001b[38;5;33mDense\u001b[0m)  │ (\u001b[38;5;45mNone\u001b[0m, \u001b[38;5;34m1\u001b[0m)         │         \u001b[38;5;34m49\u001b[0m │ concatenate_4[\u001b[38;5;34m0\u001b[0m]… │\n",
              "└─────────────────────┴───────────────────┴────────────┴───────────────────┘\n"
            ],
            "text/html": [
              "<pre style=\"white-space:pre;overflow-x:auto;line-height:normal;font-family:Menlo,'DejaVu Sans Mono',consolas,'Courier New',monospace\">┏━━━━━━━━━━━━━━━━━━━━━┳━━━━━━━━━━━━━━━━━━━┳━━━━━━━━━━━━┳━━━━━━━━━━━━━━━━━━━┓\n",
              "┃<span style=\"font-weight: bold\"> Layer (type)        </span>┃<span style=\"font-weight: bold\"> Output Shape      </span>┃<span style=\"font-weight: bold\">    Param # </span>┃<span style=\"font-weight: bold\"> Connected to      </span>┃\n",
              "┡━━━━━━━━━━━━━━━━━━━━━╇━━━━━━━━━━━━━━━━━━━╇━━━━━━━━━━━━╇━━━━━━━━━━━━━━━━━━━┩\n",
              "│ user_input          │ (<span style=\"color: #00d7ff; text-decoration-color: #00d7ff\">None</span>)            │          <span style=\"color: #00af00; text-decoration-color: #00af00\">0</span> │ -                 │\n",
              "│ (<span style=\"color: #0087ff; text-decoration-color: #0087ff\">InputLayer</span>)        │                   │            │                   │\n",
              "├─────────────────────┼───────────────────┼────────────┼───────────────────┤\n",
              "│ item_input          │ (<span style=\"color: #00d7ff; text-decoration-color: #00d7ff\">None</span>)            │          <span style=\"color: #00af00; text-decoration-color: #00af00\">0</span> │ -                 │\n",
              "│ (<span style=\"color: #0087ff; text-decoration-color: #0087ff\">InputLayer</span>)        │                   │            │                   │\n",
              "├─────────────────────┼───────────────────┼────────────┼───────────────────┤\n",
              "│ u_embed_mlp         │ (<span style=\"color: #00d7ff; text-decoration-color: #00d7ff\">None</span>, <span style=\"color: #00af00; text-decoration-color: #00af00\">32</span>)        │  <span style=\"color: #00af00; text-decoration-color: #00af00\">1,690,272</span> │ user_input[<span style=\"color: #00af00; text-decoration-color: #00af00\">0</span>][<span style=\"color: #00af00; text-decoration-color: #00af00\">0</span>]  │\n",
              "│ (<span style=\"color: #0087ff; text-decoration-color: #0087ff\">Embedding</span>)         │                   │            │                   │\n",
              "├─────────────────────┼───────────────────┼────────────┼───────────────────┤\n",
              "│ i_embed_mlp         │ (<span style=\"color: #00d7ff; text-decoration-color: #00d7ff\">None</span>, <span style=\"color: #00af00; text-decoration-color: #00af00\">32</span>)        │    <span style=\"color: #00af00; text-decoration-color: #00af00\">137,184</span> │ item_input[<span style=\"color: #00af00; text-decoration-color: #00af00\">0</span>][<span style=\"color: #00af00; text-decoration-color: #00af00\">0</span>]  │\n",
              "│ (<span style=\"color: #0087ff; text-decoration-color: #0087ff\">Embedding</span>)         │                   │            │                   │\n",
              "├─────────────────────┼───────────────────┼────────────┼───────────────────┤\n",
              "│ bert_embed_lookup   │ (<span style=\"color: #00d7ff; text-decoration-color: #00d7ff\">None</span>, <span style=\"color: #00af00; text-decoration-color: #00af00\">768</span>)       │  <span style=\"color: #00af00; text-decoration-color: #00af00\">3,292,416</span> │ item_input[<span style=\"color: #00af00; text-decoration-color: #00af00\">0</span>][<span style=\"color: #00af00; text-decoration-color: #00af00\">0</span>]  │\n",
              "│ (<span style=\"color: #0087ff; text-decoration-color: #0087ff\">Embedding</span>)         │                   │            │                   │\n",
              "├─────────────────────┼───────────────────┼────────────┼───────────────────┤\n",
              "│ resnet_embed_lookup │ (<span style=\"color: #00d7ff; text-decoration-color: #00d7ff\">None</span>, <span style=\"color: #00af00; text-decoration-color: #00af00\">2048</span>)      │  <span style=\"color: #00af00; text-decoration-color: #00af00\">8,779,776</span> │ item_input[<span style=\"color: #00af00; text-decoration-color: #00af00\">0</span>][<span style=\"color: #00af00; text-decoration-color: #00af00\">0</span>]  │\n",
              "│ (<span style=\"color: #0087ff; text-decoration-color: #0087ff\">Embedding</span>)         │                   │            │                   │\n",
              "├─────────────────────┼───────────────────┼────────────┼───────────────────┤\n",
              "│ flatten_14          │ (<span style=\"color: #00d7ff; text-decoration-color: #00d7ff\">None</span>, <span style=\"color: #00af00; text-decoration-color: #00af00\">32</span>)        │          <span style=\"color: #00af00; text-decoration-color: #00af00\">0</span> │ u_embed_mlp[<span style=\"color: #00af00; text-decoration-color: #00af00\">0</span>][<span style=\"color: #00af00; text-decoration-color: #00af00\">0</span>] │\n",
              "│ (<span style=\"color: #0087ff; text-decoration-color: #0087ff\">Flatten</span>)           │                   │            │                   │\n",
              "├─────────────────────┼───────────────────┼────────────┼───────────────────┤\n",
              "│ flatten_15          │ (<span style=\"color: #00d7ff; text-decoration-color: #00d7ff\">None</span>, <span style=\"color: #00af00; text-decoration-color: #00af00\">32</span>)        │          <span style=\"color: #00af00; text-decoration-color: #00af00\">0</span> │ i_embed_mlp[<span style=\"color: #00af00; text-decoration-color: #00af00\">0</span>][<span style=\"color: #00af00; text-decoration-color: #00af00\">0</span>] │\n",
              "│ (<span style=\"color: #0087ff; text-decoration-color: #0087ff\">Flatten</span>)           │                   │            │                   │\n",
              "├─────────────────────┼───────────────────┼────────────┼───────────────────┤\n",
              "│ proj_bert (<span style=\"color: #0087ff; text-decoration-color: #0087ff\">Dense</span>)   │ (<span style=\"color: #00d7ff; text-decoration-color: #00d7ff\">None</span>, <span style=\"color: #00af00; text-decoration-color: #00af00\">64</span>)        │     <span style=\"color: #00af00; text-decoration-color: #00af00\">49,216</span> │ bert_embed_looku… │\n",
              "├─────────────────────┼───────────────────┼────────────┼───────────────────┤\n",
              "│ proj_resnet (<span style=\"color: #0087ff; text-decoration-color: #0087ff\">Dense</span>) │ (<span style=\"color: #00d7ff; text-decoration-color: #00d7ff\">None</span>, <span style=\"color: #00af00; text-decoration-color: #00af00\">64</span>)        │    <span style=\"color: #00af00; text-decoration-color: #00af00\">131,136</span> │ resnet_embed_loo… │\n",
              "├─────────────────────┼───────────────────┼────────────┼───────────────────┤\n",
              "│ mlp_input           │ (<span style=\"color: #00d7ff; text-decoration-color: #00d7ff\">None</span>, <span style=\"color: #00af00; text-decoration-color: #00af00\">192</span>)       │          <span style=\"color: #00af00; text-decoration-color: #00af00\">0</span> │ flatten_14[<span style=\"color: #00af00; text-decoration-color: #00af00\">0</span>][<span style=\"color: #00af00; text-decoration-color: #00af00\">0</span>], │\n",
              "│ (<span style=\"color: #0087ff; text-decoration-color: #0087ff\">Concatenate</span>)       │                   │            │ flatten_15[<span style=\"color: #00af00; text-decoration-color: #00af00\">0</span>][<span style=\"color: #00af00; text-decoration-color: #00af00\">0</span>], │\n",
              "│                     │                   │            │ proj_bert[<span style=\"color: #00af00; text-decoration-color: #00af00\">0</span>][<span style=\"color: #00af00; text-decoration-color: #00af00\">0</span>],  │\n",
              "│                     │                   │            │ proj_resnet[<span style=\"color: #00af00; text-decoration-color: #00af00\">0</span>][<span style=\"color: #00af00; text-decoration-color: #00af00\">0</span>] │\n",
              "├─────────────────────┼───────────────────┼────────────┼───────────────────┤\n",
              "│ mlp_dense_0 (<span style=\"color: #0087ff; text-decoration-color: #0087ff\">Dense</span>) │ (<span style=\"color: #00d7ff; text-decoration-color: #00d7ff\">None</span>, <span style=\"color: #00af00; text-decoration-color: #00af00\">64</span>)        │     <span style=\"color: #00af00; text-decoration-color: #00af00\">12,352</span> │ mlp_input[<span style=\"color: #00af00; text-decoration-color: #00af00\">0</span>][<span style=\"color: #00af00; text-decoration-color: #00af00\">0</span>]   │\n",
              "├─────────────────────┼───────────────────┼────────────┼───────────────────┤\n",
              "│ u_embed_mf          │ (<span style=\"color: #00d7ff; text-decoration-color: #00d7ff\">None</span>, <span style=\"color: #00af00; text-decoration-color: #00af00\">16</span>)        │    <span style=\"color: #00af00; text-decoration-color: #00af00\">845,136</span> │ user_input[<span style=\"color: #00af00; text-decoration-color: #00af00\">0</span>][<span style=\"color: #00af00; text-decoration-color: #00af00\">0</span>]  │\n",
              "│ (<span style=\"color: #0087ff; text-decoration-color: #0087ff\">Embedding</span>)         │                   │            │                   │\n",
              "├─────────────────────┼───────────────────┼────────────┼───────────────────┤\n",
              "│ i_embed_mf          │ (<span style=\"color: #00d7ff; text-decoration-color: #00d7ff\">None</span>, <span style=\"color: #00af00; text-decoration-color: #00af00\">16</span>)        │     <span style=\"color: #00af00; text-decoration-color: #00af00\">68,592</span> │ item_input[<span style=\"color: #00af00; text-decoration-color: #00af00\">0</span>][<span style=\"color: #00af00; text-decoration-color: #00af00\">0</span>]  │\n",
              "│ (<span style=\"color: #0087ff; text-decoration-color: #0087ff\">Embedding</span>)         │                   │            │                   │\n",
              "├─────────────────────┼───────────────────┼────────────┼───────────────────┤\n",
              "│ dropout_6 (<span style=\"color: #0087ff; text-decoration-color: #0087ff\">Dropout</span>) │ (<span style=\"color: #00d7ff; text-decoration-color: #00d7ff\">None</span>, <span style=\"color: #00af00; text-decoration-color: #00af00\">64</span>)        │          <span style=\"color: #00af00; text-decoration-color: #00af00\">0</span> │ mlp_dense_0[<span style=\"color: #00af00; text-decoration-color: #00af00\">0</span>][<span style=\"color: #00af00; text-decoration-color: #00af00\">0</span>] │\n",
              "├─────────────────────┼───────────────────┼────────────┼───────────────────┤\n",
              "│ flatten_12          │ (<span style=\"color: #00d7ff; text-decoration-color: #00d7ff\">None</span>, <span style=\"color: #00af00; text-decoration-color: #00af00\">16</span>)        │          <span style=\"color: #00af00; text-decoration-color: #00af00\">0</span> │ u_embed_mf[<span style=\"color: #00af00; text-decoration-color: #00af00\">0</span>][<span style=\"color: #00af00; text-decoration-color: #00af00\">0</span>]  │\n",
              "│ (<span style=\"color: #0087ff; text-decoration-color: #0087ff\">Flatten</span>)           │                   │            │                   │\n",
              "├─────────────────────┼───────────────────┼────────────┼───────────────────┤\n",
              "│ flatten_13          │ (<span style=\"color: #00d7ff; text-decoration-color: #00d7ff\">None</span>, <span style=\"color: #00af00; text-decoration-color: #00af00\">16</span>)        │          <span style=\"color: #00af00; text-decoration-color: #00af00\">0</span> │ i_embed_mf[<span style=\"color: #00af00; text-decoration-color: #00af00\">0</span>][<span style=\"color: #00af00; text-decoration-color: #00af00\">0</span>]  │\n",
              "│ (<span style=\"color: #0087ff; text-decoration-color: #0087ff\">Flatten</span>)           │                   │            │                   │\n",
              "├─────────────────────┼───────────────────┼────────────┼───────────────────┤\n",
              "│ mlp_dense_1 (<span style=\"color: #0087ff; text-decoration-color: #0087ff\">Dense</span>) │ (<span style=\"color: #00d7ff; text-decoration-color: #00d7ff\">None</span>, <span style=\"color: #00af00; text-decoration-color: #00af00\">32</span>)        │      <span style=\"color: #00af00; text-decoration-color: #00af00\">2,080</span> │ dropout_6[<span style=\"color: #00af00; text-decoration-color: #00af00\">0</span>][<span style=\"color: #00af00; text-decoration-color: #00af00\">0</span>]   │\n",
              "├─────────────────────┼───────────────────┼────────────┼───────────────────┤\n",
              "│ multiply_3          │ (<span style=\"color: #00d7ff; text-decoration-color: #00d7ff\">None</span>, <span style=\"color: #00af00; text-decoration-color: #00af00\">16</span>)        │          <span style=\"color: #00af00; text-decoration-color: #00af00\">0</span> │ flatten_12[<span style=\"color: #00af00; text-decoration-color: #00af00\">0</span>][<span style=\"color: #00af00; text-decoration-color: #00af00\">0</span>], │\n",
              "│ (<span style=\"color: #0087ff; text-decoration-color: #0087ff\">Multiply</span>)          │                   │            │ flatten_13[<span style=\"color: #00af00; text-decoration-color: #00af00\">0</span>][<span style=\"color: #00af00; text-decoration-color: #00af00\">0</span>]  │\n",
              "├─────────────────────┼───────────────────┼────────────┼───────────────────┤\n",
              "│ dropout_7 (<span style=\"color: #0087ff; text-decoration-color: #0087ff\">Dropout</span>) │ (<span style=\"color: #00d7ff; text-decoration-color: #00d7ff\">None</span>, <span style=\"color: #00af00; text-decoration-color: #00af00\">32</span>)        │          <span style=\"color: #00af00; text-decoration-color: #00af00\">0</span> │ mlp_dense_1[<span style=\"color: #00af00; text-decoration-color: #00af00\">0</span>][<span style=\"color: #00af00; text-decoration-color: #00af00\">0</span>] │\n",
              "├─────────────────────┼───────────────────┼────────────┼───────────────────┤\n",
              "│ concatenate_4       │ (<span style=\"color: #00d7ff; text-decoration-color: #00d7ff\">None</span>, <span style=\"color: #00af00; text-decoration-color: #00af00\">48</span>)        │          <span style=\"color: #00af00; text-decoration-color: #00af00\">0</span> │ multiply_3[<span style=\"color: #00af00; text-decoration-color: #00af00\">0</span>][<span style=\"color: #00af00; text-decoration-color: #00af00\">0</span>], │\n",
              "│ (<span style=\"color: #0087ff; text-decoration-color: #0087ff\">Concatenate</span>)       │                   │            │ dropout_7[<span style=\"color: #00af00; text-decoration-color: #00af00\">0</span>][<span style=\"color: #00af00; text-decoration-color: #00af00\">0</span>]   │\n",
              "├─────────────────────┼───────────────────┼────────────┼───────────────────┤\n",
              "│ prediction (<span style=\"color: #0087ff; text-decoration-color: #0087ff\">Dense</span>)  │ (<span style=\"color: #00d7ff; text-decoration-color: #00d7ff\">None</span>, <span style=\"color: #00af00; text-decoration-color: #00af00\">1</span>)         │         <span style=\"color: #00af00; text-decoration-color: #00af00\">49</span> │ concatenate_4[<span style=\"color: #00af00; text-decoration-color: #00af00\">0</span>]… │\n",
              "└─────────────────────┴───────────────────┴────────────┴───────────────────┘\n",
              "</pre>\n"
            ]
          },
          "metadata": {}
        },
        {
          "output_type": "display_data",
          "data": {
            "text/plain": [
              "\u001b[1m Total params: \u001b[0m\u001b[38;5;34m15,008,209\u001b[0m (57.25 MB)\n"
            ],
            "text/html": [
              "<pre style=\"white-space:pre;overflow-x:auto;line-height:normal;font-family:Menlo,'DejaVu Sans Mono',consolas,'Courier New',monospace\"><span style=\"font-weight: bold\"> Total params: </span><span style=\"color: #00af00; text-decoration-color: #00af00\">15,008,209</span> (57.25 MB)\n",
              "</pre>\n"
            ]
          },
          "metadata": {}
        },
        {
          "output_type": "display_data",
          "data": {
            "text/plain": [
              "\u001b[1m Trainable params: \u001b[0m\u001b[38;5;34m2,936,017\u001b[0m (11.20 MB)\n"
            ],
            "text/html": [
              "<pre style=\"white-space:pre;overflow-x:auto;line-height:normal;font-family:Menlo,'DejaVu Sans Mono',consolas,'Courier New',monospace\"><span style=\"font-weight: bold\"> Trainable params: </span><span style=\"color: #00af00; text-decoration-color: #00af00\">2,936,017</span> (11.20 MB)\n",
              "</pre>\n"
            ]
          },
          "metadata": {}
        },
        {
          "output_type": "display_data",
          "data": {
            "text/plain": [
              "\u001b[1m Non-trainable params: \u001b[0m\u001b[38;5;34m12,072,192\u001b[0m (46.05 MB)\n"
            ],
            "text/html": [
              "<pre style=\"white-space:pre;overflow-x:auto;line-height:normal;font-family:Menlo,'DejaVu Sans Mono',consolas,'Courier New',monospace\"><span style=\"font-weight: bold\"> Non-trainable params: </span><span style=\"color: #00af00; text-decoration-color: #00af00\">12,072,192</span> (46.05 MB)\n",
              "</pre>\n"
            ]
          },
          "metadata": {}
        }
      ]
    },
    {
      "cell_type": "markdown",
      "source": [
        "Training"
      ],
      "metadata": {
        "id": "cTRCUczXAI2v"
      }
    },
    {
      "cell_type": "code",
      "source": [
        "ks = [5, 10, 20]\n",
        "rank_cb = MultiKRankingCallback(\n",
        "    train_pos=train_pos,      # user → set of train-positive items\n",
        "    test_pos=test_pos,        # user → set of test-positive items\n",
        "    num_items=num_items,      # total number of distinct items (4287)\n",
        "    Ks=ks,                     # compute Precision@k, NDCG@k, MAP@k\n",
        "    verbose=1                 # set to 1 to print metrics each epoch\n",
        ")"
      ],
      "metadata": {
        "id": "z1mmAY9TAFCn"
      },
      "execution_count": 62,
      "outputs": []
    },
    {
      "cell_type": "code",
      "source": [
        "batch_size = 4096  # increase if your GPU/Colab can handle it (maybe 4096)\n",
        "buffer_size = 100_000\n",
        "\n",
        "# 1) Build a Dataset from your three 1D NumPy arrays\n",
        "#    Each element is (u_idx, i_idx, label).\n",
        "train_ds = tf.data.Dataset.from_tensor_slices((user_input, item_input, labels))\n",
        "\n",
        "# 2) Shuffle → batch → prefetch.  Drop remainder so each batch is exactly `batch_size`.\n",
        "train_ds = (\n",
        "    train_ds\n",
        "    .shuffle(buffer_size, seed=42)\n",
        "    .batch(batch_size, drop_remainder=True)\n",
        "    .map(lambda u, i, y: ((u, i), y), num_parallel_calls=tf.data.AUTOTUNE)\n",
        "    .prefetch(tf.data.AUTOTUNE)\n",
        ")\n",
        "\n",
        "# 3) Do the same for validation (but typically you skip shuffle for val):\n",
        "val_ds = tf.data.Dataset.from_tensor_slices(\n",
        "    (user_input_test, item_input_test, labels_test)\n",
        ")\n",
        "val_ds = (\n",
        "    val_ds\n",
        "    .batch(batch_size, drop_remainder=False)\n",
        "    .map(lambda u, i, y: ((u, i), y), num_parallel_calls=tf.data.AUTOTUNE)\n",
        "    .prefetch(tf.data.AUTOTUNE)\n",
        ")\n",
        "\n",
        "# 4) Now call .fit on the Datasets:\n",
        "history_both = model_both.fit(\n",
        "    train_ds,\n",
        "    epochs=5,\n",
        "    validation_data=val_ds,\n",
        "    callbacks=[rank_cb],\n",
        "    shuffle=False  # we already shuffled in the Dataset pipeline\n",
        ")\n"
      ],
      "metadata": {
        "colab": {
          "base_uri": "https://localhost:8080/"
        },
        "id": "QiOE-0afAbg8",
        "outputId": "c72556db-6226-41c9-f627-59d119a32448"
      },
      "execution_count": 63,
      "outputs": [
        {
          "output_type": "stream",
          "name": "stdout",
          "text": [
            "Epoch 1/5\n",
            "\u001b[1m2456/2456\u001b[0m \u001b[32m━━━━━━━━━━━━━━━━━━━━\u001b[0m\u001b[37m\u001b[0m \u001b[1m0s\u001b[0m 249ms/step - auc: 0.8329 - loss: 0.4591 — epoch 1:   P@5=0.108, NDCG@5=0.119, MAP@5=0.066, ILD@5=0.312, Nov@5=0.499;  P@10=0.091, NDCG@10=0.102, MAP@10=0.042, ILD@10=0.309, Nov@10=0.551;  P@20=0.083, NDCG@20=0.145, MAP@20=0.054, ILD@20=0.306, Nov@20=0.626;\n",
            "\u001b[1m2456/2456\u001b[0m \u001b[32m━━━━━━━━━━━━━━━━━━━━\u001b[0m\u001b[37m\u001b[0m \u001b[1m638s\u001b[0m 258ms/step - auc: 0.8329 - loss: 0.4591 - val_auc: 0.9138 - val_loss: 0.3591 - Precision@5: 0.1080 - NDCG@5: 0.1194 - MAP@5: 0.0659 - ILD@5: 0.3118 - Novelty@5: 0.4994 - Precision@10: 0.0910 - NDCG@10: 0.1025 - MAP@10: 0.0416 - ILD@10: 0.3094 - Novelty@10: 0.5511 - Precision@20: 0.0830 - NDCG@20: 0.1455 - MAP@20: 0.0544 - ILD@20: 0.3062 - Novelty@20: 0.6263\n",
            "Epoch 2/5\n",
            "\u001b[1m2456/2456\u001b[0m \u001b[32m━━━━━━━━━━━━━━━━━━━━\u001b[0m\u001b[37m\u001b[0m \u001b[1m0s\u001b[0m 251ms/step - auc: 0.9135 - loss: 0.3488 — epoch 2:   P@5=0.116, NDCG@5=0.129, MAP@5=0.074, ILD@5=0.303, Nov@5=0.546;  P@10=0.111, NDCG@10=0.121, MAP@10=0.051, ILD@10=0.301, Nov@10=0.592;  P@20=0.099, NDCG@20=0.169, MAP@20=0.066, ILD@20=0.304, Nov@20=0.654;\n",
            "\u001b[1m2456/2456\u001b[0m \u001b[32m━━━━━━━━━━━━━━━━━━━━\u001b[0m\u001b[37m\u001b[0m \u001b[1m642s\u001b[0m 261ms/step - auc: 0.9135 - loss: 0.3488 - val_auc: 0.9280 - val_loss: 0.3269 - Precision@5: 0.1160 - NDCG@5: 0.1292 - MAP@5: 0.0740 - ILD@5: 0.3034 - Novelty@5: 0.5458 - Precision@10: 0.1110 - NDCG@10: 0.1208 - MAP@10: 0.0510 - ILD@10: 0.3012 - Novelty@10: 0.5916 - Precision@20: 0.0990 - NDCG@20: 0.1687 - MAP@20: 0.0658 - ILD@20: 0.3039 - Novelty@20: 0.6545\n",
            "Epoch 3/5\n",
            "\u001b[1m2456/2456\u001b[0m \u001b[32m━━━━━━━━━━━━━━━━━━━━\u001b[0m\u001b[37m\u001b[0m \u001b[1m0s\u001b[0m 258ms/step - auc: 0.9406 - loss: 0.2927 — epoch 3:   P@5=0.134, NDCG@5=0.145, MAP@5=0.081, ILD@5=0.305, Nov@5=0.565;  P@10=0.120, NDCG@10=0.131, MAP@10=0.055, ILD@10=0.302, Nov@10=0.609;  P@20=0.099, NDCG@20=0.175, MAP@20=0.070, ILD@20=0.305, Nov@20=0.667;\n",
            "\u001b[1m2456/2456\u001b[0m \u001b[32m━━━━━━━━━━━━━━━━━━━━\u001b[0m\u001b[37m\u001b[0m \u001b[1m657s\u001b[0m 267ms/step - auc: 0.9406 - loss: 0.2927 - val_auc: 0.9332 - val_loss: 0.3166 - Precision@5: 0.1340 - NDCG@5: 0.1448 - MAP@5: 0.0811 - ILD@5: 0.3050 - Novelty@5: 0.5652 - Precision@10: 0.1200 - NDCG@10: 0.1311 - MAP@10: 0.0546 - ILD@10: 0.3017 - Novelty@10: 0.6086 - Precision@20: 0.0990 - NDCG@20: 0.1750 - MAP@20: 0.0697 - ILD@20: 0.3053 - Novelty@20: 0.6665\n",
            "Epoch 4/5\n",
            "\u001b[1m2456/2456\u001b[0m \u001b[32m━━━━━━━━━━━━━━━━━━━━\u001b[0m\u001b[37m\u001b[0m \u001b[1m0s\u001b[0m 260ms/step - auc: 0.9521 - loss: 0.2635 — epoch 4:   P@5=0.140, NDCG@5=0.152, MAP@5=0.086, ILD@5=0.304, Nov@5=0.607;  P@10=0.118, NDCG@10=0.133, MAP@10=0.056, ILD@10=0.307, Nov@10=0.651;  P@20=0.097, NDCG@20=0.173, MAP@20=0.068, ILD@20=0.306, Nov@20=0.694;\n",
            "\u001b[1m2456/2456\u001b[0m \u001b[32m━━━━━━━━━━━━━━━━━━━━\u001b[0m\u001b[37m\u001b[0m \u001b[1m663s\u001b[0m 270ms/step - auc: 0.9521 - loss: 0.2635 - val_auc: 0.9337 - val_loss: 0.3157 - Precision@5: 0.1400 - NDCG@5: 0.1520 - MAP@5: 0.0862 - ILD@5: 0.3043 - Novelty@5: 0.6071 - Precision@10: 0.1180 - NDCG@10: 0.1326 - MAP@10: 0.0561 - ILD@10: 0.3073 - Novelty@10: 0.6509 - Precision@20: 0.0965 - NDCG@20: 0.1734 - MAP@20: 0.0685 - ILD@20: 0.3059 - Novelty@20: 0.6939\n",
            "Epoch 5/5\n",
            "\u001b[1m2456/2456\u001b[0m \u001b[32m━━━━━━━━━━━━━━━━━━━━\u001b[0m\u001b[37m\u001b[0m \u001b[1m0s\u001b[0m 258ms/step - auc: 0.9598 - loss: 0.2416 — epoch 5:   P@5=0.140, NDCG@5=0.162, MAP@5=0.092, ILD@5=0.308, Nov@5=0.606;  P@10=0.117, NDCG@10=0.138, MAP@10=0.059, ILD@10=0.308, Nov@10=0.640;  P@20=0.104, NDCG@20=0.187, MAP@20=0.074, ILD@20=0.308, Nov@20=0.693;\n",
            "\u001b[1m2456/2456\u001b[0m \u001b[32m━━━━━━━━━━━━━━━━━━━━\u001b[0m\u001b[37m\u001b[0m \u001b[1m656s\u001b[0m 267ms/step - auc: 0.9598 - loss: 0.2416 - val_auc: 0.9347 - val_loss: 0.3194 - Precision@5: 0.1400 - NDCG@5: 0.1621 - MAP@5: 0.0919 - ILD@5: 0.3079 - Novelty@5: 0.6064 - Precision@10: 0.1170 - NDCG@10: 0.1381 - MAP@10: 0.0592 - ILD@10: 0.3080 - Novelty@10: 0.6404 - Precision@20: 0.1035 - NDCG@20: 0.1865 - MAP@20: 0.0739 - ILD@20: 0.3076 - Novelty@20: 0.6932\n"
          ]
        }
      ]
    },
    {
      "cell_type": "markdown",
      "source": [
        "# Ejemplos recomendaciones"
      ],
      "metadata": {
        "id": "5_RHd7RzdWgd"
      }
    },
    {
      "cell_type": "code",
      "source": [
        "# Elige el usuario (raw ID) para el que quieres recomendaciones\n",
        "raw_user_id = list(user_interactions.keys())[0]  # o pon el que quieras\n",
        "user_idx    = userid2idx[raw_user_id]\n"
      ],
      "metadata": {
        "id": "QjNw0inpduAM"
      },
      "execution_count": 101,
      "outputs": []
    },
    {
      "cell_type": "code",
      "source": [
        "# Averigua que libros ya vio en train\n",
        "seen_raw = user_interactions.get(raw_user_id, [])\n",
        "seen_idx = { bookid2idx[b] for b in seen_raw if b in bookid2idx }"
      ],
      "metadata": {
        "id": "A53BfDLlf5r3"
      },
      "execution_count": 102,
      "outputs": []
    },
    {
      "cell_type": "code",
      "source": [
        "# Construye la lista de candidatos excluyendo los vistos\n",
        "all_items  = np.arange(len(bookid2idx), dtype=np.int32)\n",
        "candidates = np.setdiff1d(all_items, list(seen_idx), assume_unique=True)"
      ],
      "metadata": {
        "id": "Fjria3RDf9xv"
      },
      "execution_count": 103,
      "outputs": []
    },
    {
      "cell_type": "markdown",
      "source": [
        "## Vanilla Model"
      ],
      "metadata": {
        "id": "YzixIkHZUI6c"
      }
    },
    {
      "cell_type": "code",
      "source": [
        "# Pide al modelo la puntuación de cada candidato\n",
        "user_batch = np.full(candidates.shape, user_idx, dtype=np.int32)\n",
        "scores     = model_vanilla.predict([user_batch, candidates], batch_size=4096).flatten()"
      ],
      "metadata": {
        "colab": {
          "base_uri": "https://localhost:8080/"
        },
        "id": "zTlj7nKvhKpQ",
        "outputId": "8f3720a8-3ae7-4e08-d1b3-dbd683e6abe9"
      },
      "execution_count": 104,
      "outputs": [
        {
          "output_type": "stream",
          "name": "stdout",
          "text": [
            "\u001b[1m2/2\u001b[0m \u001b[32m━━━━━━━━━━━━━━━━━━━━\u001b[0m\u001b[37m\u001b[0m \u001b[1m0s\u001b[0m 31ms/step\n"
          ]
        }
      ]
    },
    {
      "cell_type": "code",
      "source": [
        "# Selecciona los top-5\n",
        "top_n      = 5\n",
        "# find the positions of the top_n highest scores\n",
        "top_pos   = np.argpartition(-scores, top_n-1)[:top_n]\n",
        "# now sort those by actual score\n",
        "ordering = np.argsort(-scores[top_pos])\n",
        "top_items = candidates[top_pos][ordering]\n",
        "top_scores = scores[top_pos][ordering]"
      ],
      "metadata": {
        "id": "m_fJb2PEhNIq"
      },
      "execution_count": 105,
      "outputs": []
    },
    {
      "cell_type": "code",
      "source": [
        "# Mapea de vuelta a los raw book IDs y une con metadata\n",
        "idx2bookid   = {v:k for k,v in bookid2idx.items()}\n",
        "top_book_ids = [idx2bookid[i] for i in top_items]"
      ],
      "metadata": {
        "id": "n0O8juAWhRr0"
      },
      "execution_count": 106,
      "outputs": []
    },
    {
      "cell_type": "code",
      "source": [
        "top_df = pd.DataFrame({\n",
        "    \"book_id\":    top_book_ids,\n",
        "    \"pred_score\": top_scores,\n",
        "})\n",
        "top_df[\"rank\"] = np.arange(1, len(top_df)+1)"
      ],
      "metadata": {
        "id": "OHx0tNZeoNbD"
      },
      "execution_count": 107,
      "outputs": []
    },
    {
      "cell_type": "code",
      "source": [
        "# Merge with your books metadata\n",
        "rec_df = top_df.merge(df_books, on=\"book_id\", how=\"left\")"
      ],
      "metadata": {
        "id": "-OBPY8RAhSjO"
      },
      "execution_count": 108,
      "outputs": []
    },
    {
      "cell_type": "code",
      "source": [
        "# Re-order columns\n",
        "rec_df = rec_df[[\"rank\", \"book_id\", \"pred_score\"] +\n",
        "                [c for c in df_books.columns if c!=\"book_id\"]]"
      ],
      "metadata": {
        "id": "IxyMKamToWbO"
      },
      "execution_count": 109,
      "outputs": []
    },
    {
      "cell_type": "code",
      "source": [
        "cols = ['rank', 'book_id', 'pred_score', 'book_desc', 'title', 'image_url']"
      ],
      "metadata": {
        "id": "m4CpgmtjpA7Q"
      },
      "execution_count": 110,
      "outputs": []
    },
    {
      "cell_type": "code",
      "source": [
        "# Muestra resultado\n",
        "print(f\"Top {top_n} recomendaciones para user {raw_user_id}:\")\n",
        "display(rec_df[cols])"
      ],
      "metadata": {
        "colab": {
          "base_uri": "https://localhost:8080/",
          "height": 258
        },
        "id": "bQNOJwSChXeg",
        "outputId": "6e8eb464-466e-4ef3-b3d5-ab54cdc7ed74"
      },
      "execution_count": 111,
      "outputs": [
        {
          "output_type": "stream",
          "name": "stdout",
          "text": [
            "Top 5 recomendaciones para user 1:\n"
          ]
        },
        {
          "output_type": "stream",
          "name": "stderr",
          "text": [
            "/usr/local/lib/python3.11/dist-packages/pandas/io/formats/format.py:1458: RuntimeWarning: overflow encountered in cast\n",
            "  has_large_values = (abs_vals > 1e6).any()\n"
          ]
        },
        {
          "output_type": "display_data",
          "data": {
            "text/plain": [
              "   rank  book_id  pred_score  \\\n",
              "0     1        5    0.979980   \n",
              "1     2       38    0.978027   \n",
              "2     3      172    0.978027   \n",
              "3     4      118    0.977539   \n",
              "4     5       94    0.976562   \n",
              "\n",
              "                                           book_desc  \\\n",
              "0  Alternate Cover Edition ISBN: 0743273567 (ISBN...   \n",
              "1  A funny, often poignant tale of boy meets girl...   \n",
              "2  Acclaimed by many as the world's greatest nove...   \n",
              "3  In 1949, four Chinese women, recent immigrants...   \n",
              "4  The brilliant, bestselling, landmark novel tha...   \n",
              "\n",
              "                           title  \\\n",
              "0               The Great Gatsby   \n",
              "1       The Time Traveler's Wife   \n",
              "2                  Anna Karenina   \n",
              "3              The Joy Luck Club   \n",
              "4  One Hundred Years of Solitude   \n",
              "\n",
              "                                           image_url  \n",
              "0  https://images.gr-assets.com/books/1490528560m...  \n",
              "1  https://images.gr-assets.com/books/1437728815m...  \n",
              "2  https://images.gr-assets.com/books/1352422904m...  \n",
              "3  https://images.gr-assets.com/books/1304978653m...  \n",
              "4  https://images.gr-assets.com/books/1327881361m...  "
            ],
            "text/html": [
              "\n",
              "  <div id=\"df-0bebe04e-4dd3-4d9e-a1c0-e083edacea83\" class=\"colab-df-container\">\n",
              "    <div>\n",
              "<style scoped>\n",
              "    .dataframe tbody tr th:only-of-type {\n",
              "        vertical-align: middle;\n",
              "    }\n",
              "\n",
              "    .dataframe tbody tr th {\n",
              "        vertical-align: top;\n",
              "    }\n",
              "\n",
              "    .dataframe thead th {\n",
              "        text-align: right;\n",
              "    }\n",
              "</style>\n",
              "<table border=\"1\" class=\"dataframe\">\n",
              "  <thead>\n",
              "    <tr style=\"text-align: right;\">\n",
              "      <th></th>\n",
              "      <th>rank</th>\n",
              "      <th>book_id</th>\n",
              "      <th>pred_score</th>\n",
              "      <th>book_desc</th>\n",
              "      <th>title</th>\n",
              "      <th>image_url</th>\n",
              "    </tr>\n",
              "  </thead>\n",
              "  <tbody>\n",
              "    <tr>\n",
              "      <th>0</th>\n",
              "      <td>1</td>\n",
              "      <td>5</td>\n",
              "      <td>0.979980</td>\n",
              "      <td>Alternate Cover Edition ISBN: 0743273567 (ISBN...</td>\n",
              "      <td>The Great Gatsby</td>\n",
              "      <td>https://images.gr-assets.com/books/1490528560m...</td>\n",
              "    </tr>\n",
              "    <tr>\n",
              "      <th>1</th>\n",
              "      <td>2</td>\n",
              "      <td>38</td>\n",
              "      <td>0.978027</td>\n",
              "      <td>A funny, often poignant tale of boy meets girl...</td>\n",
              "      <td>The Time Traveler's Wife</td>\n",
              "      <td>https://images.gr-assets.com/books/1437728815m...</td>\n",
              "    </tr>\n",
              "    <tr>\n",
              "      <th>2</th>\n",
              "      <td>3</td>\n",
              "      <td>172</td>\n",
              "      <td>0.978027</td>\n",
              "      <td>Acclaimed by many as the world's greatest nove...</td>\n",
              "      <td>Anna Karenina</td>\n",
              "      <td>https://images.gr-assets.com/books/1352422904m...</td>\n",
              "    </tr>\n",
              "    <tr>\n",
              "      <th>3</th>\n",
              "      <td>4</td>\n",
              "      <td>118</td>\n",
              "      <td>0.977539</td>\n",
              "      <td>In 1949, four Chinese women, recent immigrants...</td>\n",
              "      <td>The Joy Luck Club</td>\n",
              "      <td>https://images.gr-assets.com/books/1304978653m...</td>\n",
              "    </tr>\n",
              "    <tr>\n",
              "      <th>4</th>\n",
              "      <td>5</td>\n",
              "      <td>94</td>\n",
              "      <td>0.976562</td>\n",
              "      <td>The brilliant, bestselling, landmark novel tha...</td>\n",
              "      <td>One Hundred Years of Solitude</td>\n",
              "      <td>https://images.gr-assets.com/books/1327881361m...</td>\n",
              "    </tr>\n",
              "  </tbody>\n",
              "</table>\n",
              "</div>\n",
              "    <div class=\"colab-df-buttons\">\n",
              "\n",
              "  <div class=\"colab-df-container\">\n",
              "    <button class=\"colab-df-convert\" onclick=\"convertToInteractive('df-0bebe04e-4dd3-4d9e-a1c0-e083edacea83')\"\n",
              "            title=\"Convert this dataframe to an interactive table.\"\n",
              "            style=\"display:none;\">\n",
              "\n",
              "  <svg xmlns=\"http://www.w3.org/2000/svg\" height=\"24px\" viewBox=\"0 -960 960 960\">\n",
              "    <path d=\"M120-120v-720h720v720H120Zm60-500h600v-160H180v160Zm220 220h160v-160H400v160Zm0 220h160v-160H400v160ZM180-400h160v-160H180v160Zm440 0h160v-160H620v160ZM180-180h160v-160H180v160Zm440 0h160v-160H620v160Z\"/>\n",
              "  </svg>\n",
              "    </button>\n",
              "\n",
              "  <style>\n",
              "    .colab-df-container {\n",
              "      display:flex;\n",
              "      gap: 12px;\n",
              "    }\n",
              "\n",
              "    .colab-df-convert {\n",
              "      background-color: #E8F0FE;\n",
              "      border: none;\n",
              "      border-radius: 50%;\n",
              "      cursor: pointer;\n",
              "      display: none;\n",
              "      fill: #1967D2;\n",
              "      height: 32px;\n",
              "      padding: 0 0 0 0;\n",
              "      width: 32px;\n",
              "    }\n",
              "\n",
              "    .colab-df-convert:hover {\n",
              "      background-color: #E2EBFA;\n",
              "      box-shadow: 0px 1px 2px rgba(60, 64, 67, 0.3), 0px 1px 3px 1px rgba(60, 64, 67, 0.15);\n",
              "      fill: #174EA6;\n",
              "    }\n",
              "\n",
              "    .colab-df-buttons div {\n",
              "      margin-bottom: 4px;\n",
              "    }\n",
              "\n",
              "    [theme=dark] .colab-df-convert {\n",
              "      background-color: #3B4455;\n",
              "      fill: #D2E3FC;\n",
              "    }\n",
              "\n",
              "    [theme=dark] .colab-df-convert:hover {\n",
              "      background-color: #434B5C;\n",
              "      box-shadow: 0px 1px 3px 1px rgba(0, 0, 0, 0.15);\n",
              "      filter: drop-shadow(0px 1px 2px rgba(0, 0, 0, 0.3));\n",
              "      fill: #FFFFFF;\n",
              "    }\n",
              "  </style>\n",
              "\n",
              "    <script>\n",
              "      const buttonEl =\n",
              "        document.querySelector('#df-0bebe04e-4dd3-4d9e-a1c0-e083edacea83 button.colab-df-convert');\n",
              "      buttonEl.style.display =\n",
              "        google.colab.kernel.accessAllowed ? 'block' : 'none';\n",
              "\n",
              "      async function convertToInteractive(key) {\n",
              "        const element = document.querySelector('#df-0bebe04e-4dd3-4d9e-a1c0-e083edacea83');\n",
              "        const dataTable =\n",
              "          await google.colab.kernel.invokeFunction('convertToInteractive',\n",
              "                                                    [key], {});\n",
              "        if (!dataTable) return;\n",
              "\n",
              "        const docLinkHtml = 'Like what you see? Visit the ' +\n",
              "          '<a target=\"_blank\" href=https://colab.research.google.com/notebooks/data_table.ipynb>data table notebook</a>'\n",
              "          + ' to learn more about interactive tables.';\n",
              "        element.innerHTML = '';\n",
              "        dataTable['output_type'] = 'display_data';\n",
              "        await google.colab.output.renderOutput(dataTable, element);\n",
              "        const docLink = document.createElement('div');\n",
              "        docLink.innerHTML = docLinkHtml;\n",
              "        element.appendChild(docLink);\n",
              "      }\n",
              "    </script>\n",
              "  </div>\n",
              "\n",
              "\n",
              "    <div id=\"df-5b1e9992-781a-4bd4-9180-5afa043d9da2\">\n",
              "      <button class=\"colab-df-quickchart\" onclick=\"quickchart('df-5b1e9992-781a-4bd4-9180-5afa043d9da2')\"\n",
              "                title=\"Suggest charts\"\n",
              "                style=\"display:none;\">\n",
              "\n",
              "<svg xmlns=\"http://www.w3.org/2000/svg\" height=\"24px\"viewBox=\"0 0 24 24\"\n",
              "     width=\"24px\">\n",
              "    <g>\n",
              "        <path d=\"M19 3H5c-1.1 0-2 .9-2 2v14c0 1.1.9 2 2 2h14c1.1 0 2-.9 2-2V5c0-1.1-.9-2-2-2zM9 17H7v-7h2v7zm4 0h-2V7h2v10zm4 0h-2v-4h2v4z\"/>\n",
              "    </g>\n",
              "</svg>\n",
              "      </button>\n",
              "\n",
              "<style>\n",
              "  .colab-df-quickchart {\n",
              "      --bg-color: #E8F0FE;\n",
              "      --fill-color: #1967D2;\n",
              "      --hover-bg-color: #E2EBFA;\n",
              "      --hover-fill-color: #174EA6;\n",
              "      --disabled-fill-color: #AAA;\n",
              "      --disabled-bg-color: #DDD;\n",
              "  }\n",
              "\n",
              "  [theme=dark] .colab-df-quickchart {\n",
              "      --bg-color: #3B4455;\n",
              "      --fill-color: #D2E3FC;\n",
              "      --hover-bg-color: #434B5C;\n",
              "      --hover-fill-color: #FFFFFF;\n",
              "      --disabled-bg-color: #3B4455;\n",
              "      --disabled-fill-color: #666;\n",
              "  }\n",
              "\n",
              "  .colab-df-quickchart {\n",
              "    background-color: var(--bg-color);\n",
              "    border: none;\n",
              "    border-radius: 50%;\n",
              "    cursor: pointer;\n",
              "    display: none;\n",
              "    fill: var(--fill-color);\n",
              "    height: 32px;\n",
              "    padding: 0;\n",
              "    width: 32px;\n",
              "  }\n",
              "\n",
              "  .colab-df-quickchart:hover {\n",
              "    background-color: var(--hover-bg-color);\n",
              "    box-shadow: 0 1px 2px rgba(60, 64, 67, 0.3), 0 1px 3px 1px rgba(60, 64, 67, 0.15);\n",
              "    fill: var(--button-hover-fill-color);\n",
              "  }\n",
              "\n",
              "  .colab-df-quickchart-complete:disabled,\n",
              "  .colab-df-quickchart-complete:disabled:hover {\n",
              "    background-color: var(--disabled-bg-color);\n",
              "    fill: var(--disabled-fill-color);\n",
              "    box-shadow: none;\n",
              "  }\n",
              "\n",
              "  .colab-df-spinner {\n",
              "    border: 2px solid var(--fill-color);\n",
              "    border-color: transparent;\n",
              "    border-bottom-color: var(--fill-color);\n",
              "    animation:\n",
              "      spin 1s steps(1) infinite;\n",
              "  }\n",
              "\n",
              "  @keyframes spin {\n",
              "    0% {\n",
              "      border-color: transparent;\n",
              "      border-bottom-color: var(--fill-color);\n",
              "      border-left-color: var(--fill-color);\n",
              "    }\n",
              "    20% {\n",
              "      border-color: transparent;\n",
              "      border-left-color: var(--fill-color);\n",
              "      border-top-color: var(--fill-color);\n",
              "    }\n",
              "    30% {\n",
              "      border-color: transparent;\n",
              "      border-left-color: var(--fill-color);\n",
              "      border-top-color: var(--fill-color);\n",
              "      border-right-color: var(--fill-color);\n",
              "    }\n",
              "    40% {\n",
              "      border-color: transparent;\n",
              "      border-right-color: var(--fill-color);\n",
              "      border-top-color: var(--fill-color);\n",
              "    }\n",
              "    60% {\n",
              "      border-color: transparent;\n",
              "      border-right-color: var(--fill-color);\n",
              "    }\n",
              "    80% {\n",
              "      border-color: transparent;\n",
              "      border-right-color: var(--fill-color);\n",
              "      border-bottom-color: var(--fill-color);\n",
              "    }\n",
              "    90% {\n",
              "      border-color: transparent;\n",
              "      border-bottom-color: var(--fill-color);\n",
              "    }\n",
              "  }\n",
              "</style>\n",
              "\n",
              "      <script>\n",
              "        async function quickchart(key) {\n",
              "          const quickchartButtonEl =\n",
              "            document.querySelector('#' + key + ' button');\n",
              "          quickchartButtonEl.disabled = true;  // To prevent multiple clicks.\n",
              "          quickchartButtonEl.classList.add('colab-df-spinner');\n",
              "          try {\n",
              "            const charts = await google.colab.kernel.invokeFunction(\n",
              "                'suggestCharts', [key], {});\n",
              "          } catch (error) {\n",
              "            console.error('Error during call to suggestCharts:', error);\n",
              "          }\n",
              "          quickchartButtonEl.classList.remove('colab-df-spinner');\n",
              "          quickchartButtonEl.classList.add('colab-df-quickchart-complete');\n",
              "        }\n",
              "        (() => {\n",
              "          let quickchartButtonEl =\n",
              "            document.querySelector('#df-5b1e9992-781a-4bd4-9180-5afa043d9da2 button');\n",
              "          quickchartButtonEl.style.display =\n",
              "            google.colab.kernel.accessAllowed ? 'block' : 'none';\n",
              "        })();\n",
              "      </script>\n",
              "    </div>\n",
              "\n",
              "    </div>\n",
              "  </div>\n"
            ],
            "application/vnd.google.colaboratory.intrinsic+json": {
              "type": "dataframe",
              "summary": "{\n  \"name\": \"display(rec_df[cols])\",\n  \"rows\": 5,\n  \"fields\": [\n    {\n      \"column\": \"rank\",\n      \"properties\": {\n        \"dtype\": \"number\",\n        \"std\": 1,\n        \"min\": 1,\n        \"max\": 5,\n        \"num_unique_values\": 5,\n        \"samples\": [\n          2,\n          5,\n          3\n        ],\n        \"semantic_type\": \"\",\n        \"description\": \"\"\n      }\n    },\n    {\n      \"column\": \"book_id\",\n      \"properties\": {\n        \"dtype\": \"number\",\n        \"std\": 65,\n        \"min\": 5,\n        \"max\": 172,\n        \"num_unique_values\": 5,\n        \"samples\": [\n          38,\n          94,\n          172\n        ],\n        \"semantic_type\": \"\",\n        \"description\": \"\"\n      }\n    },\n    {\n      \"column\": \"pred_score\",\n      \"properties\": {\n        \"dtype\": \"float16\",\n        \"num_unique_values\": 4,\n        \"samples\": [\n          0.97802734375,\n          0.9765625,\n          0.97998046875\n        ],\n        \"semantic_type\": \"\",\n        \"description\": \"\"\n      }\n    },\n    {\n      \"column\": \"book_desc\",\n      \"properties\": {\n        \"dtype\": \"string\",\n        \"num_unique_values\": 5,\n        \"samples\": [\n          \"A funny, often poignant tale of boy meets girl with a twist: what if one of them couldn't stop slipping in and out of time? Highly original and imaginative, this debut novel raises questions about life, love, and the effects of time on relationships.Audrey Niffenegger\\u2019s innovative debut, The Time Traveler\\u2019s Wife, is the story of Clare, a beautiful art student, and Henry, an adventuresome librarian, who have known each other since Clare was six and Henry was thirty-six, and were married when Clare was twenty-three and Henry thirty-one. Impossible but true, because Henry is one of the first people diagnosed with Chrono-Displacement Disorder: periodically his genetic clock resets and he finds himself misplaced in time, pulled to moments of emotional gravity in his life, past and future. His disappearances are spontaneous, his experiences unpredictable, alternately harrowing and amusing. The Time Traveler\\u2019s Wife depicts the effects of time travel on Henry and Clare\\u2019s marriage and their passionate love for each other as the story unfolds from both points of view. Clare and Henry attempt to live normal lives, pursuing familiar goals\\u2014steady jobs, good friends, children of their own. All of this is threatened by something they can neither prevent nor control, making their story intensely moving and entirely unforgettable.\",\n          \"The brilliant, bestselling, landmark novel that tells the story of the Buendia family, and chronicles the irreconcilable conflict between the desire for solitude and the need for love\\u2014in rich, imaginative prose that has come to define an entire genre known as \\\"magical realism.\\\"\",\n          \"Acclaimed by many as the world's greatest novel, Anna Karenina provides a vast panorama of contemporary life in Russia and of humanity in general. In it Tolstoy uses his intense imaginative insight to create some of the most memorable characters in literature. Anna is a sophisticated woman who abandons her empty existence as the wife of Karenin and turns to Count Vronsky to fulfil her passionate nature - with tragic consequences. Levin is a reflection of Tolstoy himself, often expressing the author's own views and convictions.Throughout, Tolstoy points no moral, merely inviting us not to judge but to watch. As Rosemary Edmonds comments, 'He leaves the shifting patterns of the kaleidoscope to bring home the meaning of the brooding words following the title, 'Vengeance is mine, and I will repay.\"\n        ],\n        \"semantic_type\": \"\",\n        \"description\": \"\"\n      }\n    },\n    {\n      \"column\": \"title\",\n      \"properties\": {\n        \"dtype\": \"string\",\n        \"num_unique_values\": 5,\n        \"samples\": [\n          \"The Time Traveler's Wife\",\n          \"One Hundred Years of Solitude\",\n          \"Anna Karenina\"\n        ],\n        \"semantic_type\": \"\",\n        \"description\": \"\"\n      }\n    },\n    {\n      \"column\": \"image_url\",\n      \"properties\": {\n        \"dtype\": \"string\",\n        \"num_unique_values\": 5,\n        \"samples\": [\n          \"https://images.gr-assets.com/books/1437728815m/14050.jpg\",\n          \"https://images.gr-assets.com/books/1327881361m/320.jpg\",\n          \"https://images.gr-assets.com/books/1352422904m/15823480.jpg\"\n        ],\n        \"semantic_type\": \"\",\n        \"description\": \"\"\n      }\n    }\n  ]\n}"
            }
          },
          "metadata": {}
        }
      ]
    },
    {
      "cell_type": "code",
      "source": [
        "from IPython.display import HTML, display\n",
        "\n",
        "def show_recs_with_images(df):\n",
        "    html = \"<table>\"\n",
        "    html += \"<tr><th>Rank</th><th>Title</th><th>Cover</th></tr>\"\n",
        "    for _, r in df.iterrows():\n",
        "        html += (\n",
        "            f\"<tr>\"\n",
        "            f\"<td>{r['rank']}</td>\"\n",
        "            f\"<td>{r['title']}</td>\"\n",
        "           # f\"<td>{r['book_desc']}</td>\"\n",
        "            f\"<td><img src='{r['image_url']}' width='80'></td>\"\n",
        "            f\"</tr>\"\n",
        "        )\n",
        "    html += \"</table>\"\n",
        "    display(HTML(html))\n",
        "\n",
        "show_recs_with_images(rec_df)"
      ],
      "metadata": {
        "colab": {
          "base_uri": "https://localhost:8080/",
          "height": 692
        },
        "id": "Mien6sbTqedR",
        "outputId": "1d0b7665-9df5-4c21-d43e-c4ba91048cc4"
      },
      "execution_count": 113,
      "outputs": [
        {
          "output_type": "display_data",
          "data": {
            "text/plain": [
              "<IPython.core.display.HTML object>"
            ],
            "text/html": [
              "<table><tr><th>Rank</th><th>Title</th><th>Cover</th></tr><tr><td>1</td><td>The Great Gatsby</td><td><img src='https://images.gr-assets.com/books/1490528560m/4671.jpg' width='80'></td></tr><tr><td>2</td><td>The Time Traveler's Wife</td><td><img src='https://images.gr-assets.com/books/1437728815m/14050.jpg' width='80'></td></tr><tr><td>3</td><td>Anna Karenina</td><td><img src='https://images.gr-assets.com/books/1352422904m/15823480.jpg' width='80'></td></tr><tr><td>4</td><td>The Joy Luck Club</td><td><img src='https://images.gr-assets.com/books/1304978653m/7763.jpg' width='80'></td></tr><tr><td>5</td><td>One Hundred Years of Solitude</td><td><img src='https://images.gr-assets.com/books/1327881361m/320.jpg' width='80'></td></tr></table>"
            ]
          },
          "metadata": {}
        }
      ]
    },
    {
      "cell_type": "markdown",
      "source": [
        "## NCF + BERT"
      ],
      "metadata": {
        "id": "tpapA4BzUQ7p"
      }
    },
    {
      "cell_type": "code",
      "source": [
        "# Pide al modelo la puntuación de cada candidato\n",
        "user_batch = np.full(candidates.shape, user_idx, dtype=np.int32)\n",
        "scores     = model_with_feats.predict([user_batch, candidates], batch_size=4096).flatten()"
      ],
      "metadata": {
        "colab": {
          "base_uri": "https://localhost:8080/"
        },
        "id": "LS5W1LbOTGzD",
        "outputId": "d83bd8dc-ad82-4866-ebe4-8299b2d16392"
      },
      "execution_count": 114,
      "outputs": [
        {
          "output_type": "stream",
          "name": "stdout",
          "text": [
            "\u001b[1m2/2\u001b[0m \u001b[32m━━━━━━━━━━━━━━━━━━━━\u001b[0m\u001b[37m\u001b[0m \u001b[1m0s\u001b[0m 117ms/step\n"
          ]
        }
      ]
    },
    {
      "cell_type": "code",
      "source": [
        "# Selecciona los top-5\n",
        "top_n      = 5\n",
        "# find the positions of the top_n highest scores\n",
        "top_pos   = np.argpartition(-scores, top_n-1)[:top_n]\n",
        "# now sort those by actual score\n",
        "ordering = np.argsort(-scores[top_pos])\n",
        "top_items = candidates[top_pos][ordering]\n",
        "top_scores = scores[top_pos][ordering]"
      ],
      "metadata": {
        "id": "wDYLsYeCT_K7"
      },
      "execution_count": 115,
      "outputs": []
    },
    {
      "cell_type": "code",
      "source": [
        "# Mapea de vuelta a los raw book IDs y une con metadata\n",
        "idx2bookid   = {v:k for k,v in bookid2idx.items()}\n",
        "top_book_ids = [idx2bookid[i] for i in top_items]"
      ],
      "metadata": {
        "id": "gXIOQyzfUkbJ"
      },
      "execution_count": 116,
      "outputs": []
    },
    {
      "cell_type": "code",
      "source": [
        "top_df = pd.DataFrame({\n",
        "    \"book_id\":    top_book_ids,\n",
        "    \"pred_score\": top_scores,\n",
        "})\n",
        "top_df[\"rank\"] = np.arange(1, len(top_df)+1)"
      ],
      "metadata": {
        "id": "w3NEyFLPUu-K"
      },
      "execution_count": 117,
      "outputs": []
    },
    {
      "cell_type": "code",
      "source": [
        "# Merge with your books metadata\n",
        "rec_df = top_df.merge(df_books, on=\"book_id\", how=\"left\")"
      ],
      "metadata": {
        "id": "73MeK02iUxSR"
      },
      "execution_count": 118,
      "outputs": []
    },
    {
      "cell_type": "code",
      "source": [
        "# Re-order columns\n",
        "rec_df = rec_df[[\"rank\", \"book_id\", \"pred_score\"] +\n",
        "                [c for c in df_books.columns if c!=\"book_id\"]]"
      ],
      "metadata": {
        "id": "_Itu4osTU2Jf"
      },
      "execution_count": 119,
      "outputs": []
    },
    {
      "cell_type": "code",
      "source": [
        "cols = ['rank', 'book_id', 'pred_score', 'book_desc', 'title', 'image_url']"
      ],
      "metadata": {
        "id": "OY_sFbJ-U6Ry"
      },
      "execution_count": 120,
      "outputs": []
    },
    {
      "cell_type": "code",
      "source": [
        "# Muestra resultado\n",
        "print(f\"Top {top_n} recomendaciones para user {raw_user_id}:\")\n",
        "display(rec_df[cols])"
      ],
      "metadata": {
        "colab": {
          "base_uri": "https://localhost:8080/",
          "height": 258
        },
        "id": "_fw5snA3U9GU",
        "outputId": "e8aec1cb-e5b7-47fa-e1df-b75cb6ba0dde"
      },
      "execution_count": 121,
      "outputs": [
        {
          "output_type": "stream",
          "name": "stdout",
          "text": [
            "Top 5 recomendaciones para user 1:\n"
          ]
        },
        {
          "output_type": "stream",
          "name": "stderr",
          "text": [
            "/usr/local/lib/python3.11/dist-packages/pandas/io/formats/format.py:1458: RuntimeWarning: overflow encountered in cast\n",
            "  has_large_values = (abs_vals > 1e6).any()\n"
          ]
        },
        {
          "output_type": "display_data",
          "data": {
            "text/plain": [
              "   rank  book_id  pred_score  \\\n",
              "0     1       30    0.991211   \n",
              "1     2        5    0.990234   \n",
              "2     3       61    0.984863   \n",
              "3     4      146    0.983887   \n",
              "4     5       94    0.976074   \n",
              "\n",
              "                                           book_desc  \\\n",
              "0  On a warm summer morning in North Carthage, Mi...   \n",
              "1  Alternate Cover Edition ISBN: 0743273567 (ISBN...   \n",
              "2  Rachel catches the same commuter train every m...   \n",
              "3  It begins with a boy. Theo Decker, a thirteen-...   \n",
              "4  The brilliant, bestselling, landmark novel tha...   \n",
              "\n",
              "                           title  \\\n",
              "0                      Gone Girl   \n",
              "1               The Great Gatsby   \n",
              "2          The Girl on the Train   \n",
              "3                  The Goldfinch   \n",
              "4  One Hundred Years of Solitude   \n",
              "\n",
              "                                           image_url  \n",
              "0  https://images.gr-assets.com/books/1339602131m...  \n",
              "1  https://images.gr-assets.com/books/1490528560m...  \n",
              "2  https://images.gr-assets.com/books/1490903702m...  \n",
              "3  https://images.gr-assets.com/books/1451554970m...  \n",
              "4  https://images.gr-assets.com/books/1327881361m...  "
            ],
            "text/html": [
              "\n",
              "  <div id=\"df-de4929d9-ad43-4a11-8867-0d0ab063f322\" class=\"colab-df-container\">\n",
              "    <div>\n",
              "<style scoped>\n",
              "    .dataframe tbody tr th:only-of-type {\n",
              "        vertical-align: middle;\n",
              "    }\n",
              "\n",
              "    .dataframe tbody tr th {\n",
              "        vertical-align: top;\n",
              "    }\n",
              "\n",
              "    .dataframe thead th {\n",
              "        text-align: right;\n",
              "    }\n",
              "</style>\n",
              "<table border=\"1\" class=\"dataframe\">\n",
              "  <thead>\n",
              "    <tr style=\"text-align: right;\">\n",
              "      <th></th>\n",
              "      <th>rank</th>\n",
              "      <th>book_id</th>\n",
              "      <th>pred_score</th>\n",
              "      <th>book_desc</th>\n",
              "      <th>title</th>\n",
              "      <th>image_url</th>\n",
              "    </tr>\n",
              "  </thead>\n",
              "  <tbody>\n",
              "    <tr>\n",
              "      <th>0</th>\n",
              "      <td>1</td>\n",
              "      <td>30</td>\n",
              "      <td>0.991211</td>\n",
              "      <td>On a warm summer morning in North Carthage, Mi...</td>\n",
              "      <td>Gone Girl</td>\n",
              "      <td>https://images.gr-assets.com/books/1339602131m...</td>\n",
              "    </tr>\n",
              "    <tr>\n",
              "      <th>1</th>\n",
              "      <td>2</td>\n",
              "      <td>5</td>\n",
              "      <td>0.990234</td>\n",
              "      <td>Alternate Cover Edition ISBN: 0743273567 (ISBN...</td>\n",
              "      <td>The Great Gatsby</td>\n",
              "      <td>https://images.gr-assets.com/books/1490528560m...</td>\n",
              "    </tr>\n",
              "    <tr>\n",
              "      <th>2</th>\n",
              "      <td>3</td>\n",
              "      <td>61</td>\n",
              "      <td>0.984863</td>\n",
              "      <td>Rachel catches the same commuter train every m...</td>\n",
              "      <td>The Girl on the Train</td>\n",
              "      <td>https://images.gr-assets.com/books/1490903702m...</td>\n",
              "    </tr>\n",
              "    <tr>\n",
              "      <th>3</th>\n",
              "      <td>4</td>\n",
              "      <td>146</td>\n",
              "      <td>0.983887</td>\n",
              "      <td>It begins with a boy. Theo Decker, a thirteen-...</td>\n",
              "      <td>The Goldfinch</td>\n",
              "      <td>https://images.gr-assets.com/books/1451554970m...</td>\n",
              "    </tr>\n",
              "    <tr>\n",
              "      <th>4</th>\n",
              "      <td>5</td>\n",
              "      <td>94</td>\n",
              "      <td>0.976074</td>\n",
              "      <td>The brilliant, bestselling, landmark novel tha...</td>\n",
              "      <td>One Hundred Years of Solitude</td>\n",
              "      <td>https://images.gr-assets.com/books/1327881361m...</td>\n",
              "    </tr>\n",
              "  </tbody>\n",
              "</table>\n",
              "</div>\n",
              "    <div class=\"colab-df-buttons\">\n",
              "\n",
              "  <div class=\"colab-df-container\">\n",
              "    <button class=\"colab-df-convert\" onclick=\"convertToInteractive('df-de4929d9-ad43-4a11-8867-0d0ab063f322')\"\n",
              "            title=\"Convert this dataframe to an interactive table.\"\n",
              "            style=\"display:none;\">\n",
              "\n",
              "  <svg xmlns=\"http://www.w3.org/2000/svg\" height=\"24px\" viewBox=\"0 -960 960 960\">\n",
              "    <path d=\"M120-120v-720h720v720H120Zm60-500h600v-160H180v160Zm220 220h160v-160H400v160Zm0 220h160v-160H400v160ZM180-400h160v-160H180v160Zm440 0h160v-160H620v160ZM180-180h160v-160H180v160Zm440 0h160v-160H620v160Z\"/>\n",
              "  </svg>\n",
              "    </button>\n",
              "\n",
              "  <style>\n",
              "    .colab-df-container {\n",
              "      display:flex;\n",
              "      gap: 12px;\n",
              "    }\n",
              "\n",
              "    .colab-df-convert {\n",
              "      background-color: #E8F0FE;\n",
              "      border: none;\n",
              "      border-radius: 50%;\n",
              "      cursor: pointer;\n",
              "      display: none;\n",
              "      fill: #1967D2;\n",
              "      height: 32px;\n",
              "      padding: 0 0 0 0;\n",
              "      width: 32px;\n",
              "    }\n",
              "\n",
              "    .colab-df-convert:hover {\n",
              "      background-color: #E2EBFA;\n",
              "      box-shadow: 0px 1px 2px rgba(60, 64, 67, 0.3), 0px 1px 3px 1px rgba(60, 64, 67, 0.15);\n",
              "      fill: #174EA6;\n",
              "    }\n",
              "\n",
              "    .colab-df-buttons div {\n",
              "      margin-bottom: 4px;\n",
              "    }\n",
              "\n",
              "    [theme=dark] .colab-df-convert {\n",
              "      background-color: #3B4455;\n",
              "      fill: #D2E3FC;\n",
              "    }\n",
              "\n",
              "    [theme=dark] .colab-df-convert:hover {\n",
              "      background-color: #434B5C;\n",
              "      box-shadow: 0px 1px 3px 1px rgba(0, 0, 0, 0.15);\n",
              "      filter: drop-shadow(0px 1px 2px rgba(0, 0, 0, 0.3));\n",
              "      fill: #FFFFFF;\n",
              "    }\n",
              "  </style>\n",
              "\n",
              "    <script>\n",
              "      const buttonEl =\n",
              "        document.querySelector('#df-de4929d9-ad43-4a11-8867-0d0ab063f322 button.colab-df-convert');\n",
              "      buttonEl.style.display =\n",
              "        google.colab.kernel.accessAllowed ? 'block' : 'none';\n",
              "\n",
              "      async function convertToInteractive(key) {\n",
              "        const element = document.querySelector('#df-de4929d9-ad43-4a11-8867-0d0ab063f322');\n",
              "        const dataTable =\n",
              "          await google.colab.kernel.invokeFunction('convertToInteractive',\n",
              "                                                    [key], {});\n",
              "        if (!dataTable) return;\n",
              "\n",
              "        const docLinkHtml = 'Like what you see? Visit the ' +\n",
              "          '<a target=\"_blank\" href=https://colab.research.google.com/notebooks/data_table.ipynb>data table notebook</a>'\n",
              "          + ' to learn more about interactive tables.';\n",
              "        element.innerHTML = '';\n",
              "        dataTable['output_type'] = 'display_data';\n",
              "        await google.colab.output.renderOutput(dataTable, element);\n",
              "        const docLink = document.createElement('div');\n",
              "        docLink.innerHTML = docLinkHtml;\n",
              "        element.appendChild(docLink);\n",
              "      }\n",
              "    </script>\n",
              "  </div>\n",
              "\n",
              "\n",
              "    <div id=\"df-2a81011b-d15c-4e40-b9bb-e979fb5608c2\">\n",
              "      <button class=\"colab-df-quickchart\" onclick=\"quickchart('df-2a81011b-d15c-4e40-b9bb-e979fb5608c2')\"\n",
              "                title=\"Suggest charts\"\n",
              "                style=\"display:none;\">\n",
              "\n",
              "<svg xmlns=\"http://www.w3.org/2000/svg\" height=\"24px\"viewBox=\"0 0 24 24\"\n",
              "     width=\"24px\">\n",
              "    <g>\n",
              "        <path d=\"M19 3H5c-1.1 0-2 .9-2 2v14c0 1.1.9 2 2 2h14c1.1 0 2-.9 2-2V5c0-1.1-.9-2-2-2zM9 17H7v-7h2v7zm4 0h-2V7h2v10zm4 0h-2v-4h2v4z\"/>\n",
              "    </g>\n",
              "</svg>\n",
              "      </button>\n",
              "\n",
              "<style>\n",
              "  .colab-df-quickchart {\n",
              "      --bg-color: #E8F0FE;\n",
              "      --fill-color: #1967D2;\n",
              "      --hover-bg-color: #E2EBFA;\n",
              "      --hover-fill-color: #174EA6;\n",
              "      --disabled-fill-color: #AAA;\n",
              "      --disabled-bg-color: #DDD;\n",
              "  }\n",
              "\n",
              "  [theme=dark] .colab-df-quickchart {\n",
              "      --bg-color: #3B4455;\n",
              "      --fill-color: #D2E3FC;\n",
              "      --hover-bg-color: #434B5C;\n",
              "      --hover-fill-color: #FFFFFF;\n",
              "      --disabled-bg-color: #3B4455;\n",
              "      --disabled-fill-color: #666;\n",
              "  }\n",
              "\n",
              "  .colab-df-quickchart {\n",
              "    background-color: var(--bg-color);\n",
              "    border: none;\n",
              "    border-radius: 50%;\n",
              "    cursor: pointer;\n",
              "    display: none;\n",
              "    fill: var(--fill-color);\n",
              "    height: 32px;\n",
              "    padding: 0;\n",
              "    width: 32px;\n",
              "  }\n",
              "\n",
              "  .colab-df-quickchart:hover {\n",
              "    background-color: var(--hover-bg-color);\n",
              "    box-shadow: 0 1px 2px rgba(60, 64, 67, 0.3), 0 1px 3px 1px rgba(60, 64, 67, 0.15);\n",
              "    fill: var(--button-hover-fill-color);\n",
              "  }\n",
              "\n",
              "  .colab-df-quickchart-complete:disabled,\n",
              "  .colab-df-quickchart-complete:disabled:hover {\n",
              "    background-color: var(--disabled-bg-color);\n",
              "    fill: var(--disabled-fill-color);\n",
              "    box-shadow: none;\n",
              "  }\n",
              "\n",
              "  .colab-df-spinner {\n",
              "    border: 2px solid var(--fill-color);\n",
              "    border-color: transparent;\n",
              "    border-bottom-color: var(--fill-color);\n",
              "    animation:\n",
              "      spin 1s steps(1) infinite;\n",
              "  }\n",
              "\n",
              "  @keyframes spin {\n",
              "    0% {\n",
              "      border-color: transparent;\n",
              "      border-bottom-color: var(--fill-color);\n",
              "      border-left-color: var(--fill-color);\n",
              "    }\n",
              "    20% {\n",
              "      border-color: transparent;\n",
              "      border-left-color: var(--fill-color);\n",
              "      border-top-color: var(--fill-color);\n",
              "    }\n",
              "    30% {\n",
              "      border-color: transparent;\n",
              "      border-left-color: var(--fill-color);\n",
              "      border-top-color: var(--fill-color);\n",
              "      border-right-color: var(--fill-color);\n",
              "    }\n",
              "    40% {\n",
              "      border-color: transparent;\n",
              "      border-right-color: var(--fill-color);\n",
              "      border-top-color: var(--fill-color);\n",
              "    }\n",
              "    60% {\n",
              "      border-color: transparent;\n",
              "      border-right-color: var(--fill-color);\n",
              "    }\n",
              "    80% {\n",
              "      border-color: transparent;\n",
              "      border-right-color: var(--fill-color);\n",
              "      border-bottom-color: var(--fill-color);\n",
              "    }\n",
              "    90% {\n",
              "      border-color: transparent;\n",
              "      border-bottom-color: var(--fill-color);\n",
              "    }\n",
              "  }\n",
              "</style>\n",
              "\n",
              "      <script>\n",
              "        async function quickchart(key) {\n",
              "          const quickchartButtonEl =\n",
              "            document.querySelector('#' + key + ' button');\n",
              "          quickchartButtonEl.disabled = true;  // To prevent multiple clicks.\n",
              "          quickchartButtonEl.classList.add('colab-df-spinner');\n",
              "          try {\n",
              "            const charts = await google.colab.kernel.invokeFunction(\n",
              "                'suggestCharts', [key], {});\n",
              "          } catch (error) {\n",
              "            console.error('Error during call to suggestCharts:', error);\n",
              "          }\n",
              "          quickchartButtonEl.classList.remove('colab-df-spinner');\n",
              "          quickchartButtonEl.classList.add('colab-df-quickchart-complete');\n",
              "        }\n",
              "        (() => {\n",
              "          let quickchartButtonEl =\n",
              "            document.querySelector('#df-2a81011b-d15c-4e40-b9bb-e979fb5608c2 button');\n",
              "          quickchartButtonEl.style.display =\n",
              "            google.colab.kernel.accessAllowed ? 'block' : 'none';\n",
              "        })();\n",
              "      </script>\n",
              "    </div>\n",
              "\n",
              "    </div>\n",
              "  </div>\n"
            ],
            "application/vnd.google.colaboratory.intrinsic+json": {
              "type": "dataframe",
              "summary": "{\n  \"name\": \"display(rec_df[cols])\",\n  \"rows\": 5,\n  \"fields\": [\n    {\n      \"column\": \"rank\",\n      \"properties\": {\n        \"dtype\": \"number\",\n        \"std\": 1,\n        \"min\": 1,\n        \"max\": 5,\n        \"num_unique_values\": 5,\n        \"samples\": [\n          2,\n          5,\n          3\n        ],\n        \"semantic_type\": \"\",\n        \"description\": \"\"\n      }\n    },\n    {\n      \"column\": \"book_id\",\n      \"properties\": {\n        \"dtype\": \"number\",\n        \"std\": 55,\n        \"min\": 5,\n        \"max\": 146,\n        \"num_unique_values\": 5,\n        \"samples\": [\n          5,\n          94,\n          61\n        ],\n        \"semantic_type\": \"\",\n        \"description\": \"\"\n      }\n    },\n    {\n      \"column\": \"pred_score\",\n      \"properties\": {\n        \"dtype\": \"float16\",\n        \"num_unique_values\": 5,\n        \"samples\": [\n          0.990234375,\n          0.97607421875,\n          0.98486328125\n        ],\n        \"semantic_type\": \"\",\n        \"description\": \"\"\n      }\n    },\n    {\n      \"column\": \"book_desc\",\n      \"properties\": {\n        \"dtype\": \"string\",\n        \"num_unique_values\": 5,\n        \"samples\": [\n          \"Alternate Cover Edition ISBN: 0743273567 (ISBN13: 9780743273565)A true classic of twentieth-century literature, this edition has been updated by Fitzgerald scholar James L.W. West III to include the author\\u2019s final revisions and features a note on the composition and text, a personal foreword by Fitzgerald\\u2019s granddaughter, Eleanor Lanahan\\u2014and a new introduction by two-time National Book Award winner Jesmyn Ward.The Great Gatsby, F. Scott Fitzgerald\\u2019s third book, stands as the supreme achievement of his career. First published in 1925, this quintessential novel of the Jazz Age has been acclaimed by generations of readers. The story of the mysteriously wealthy Jay Gatsby and his love for the beautiful Daisy Buchanan, of lavish parties on Long Island at a time when The New York Times noted \\u201cgin was the national drink and sex the national obsession,\\u201d it is an exquisitely crafted tale of America in the 1920s.\",\n          \"The brilliant, bestselling, landmark novel that tells the story of the Buendia family, and chronicles the irreconcilable conflict between the desire for solitude and the need for love\\u2014in rich, imaginative prose that has come to define an entire genre known as \\\"magical realism.\\\"\",\n          \"Rachel catches the same commuter train every morning. She knows it will wait at the same signal each time, overlooking a row of back gardens. She's even started to feel like she knows the people who live in one of the houses. 'Jess and Jason', she calls them. Their life - as she sees it - is perfect. If only Rachel could be that happy. And then she sees something shocking. It's only a minute until the train moves on, but it's enough. Now everything's changed. Now Rachel has a chance to become a part of the lives she's only watched from afar. Now they'll see; she's much more than just the girl on the train...\"\n        ],\n        \"semantic_type\": \"\",\n        \"description\": \"\"\n      }\n    },\n    {\n      \"column\": \"title\",\n      \"properties\": {\n        \"dtype\": \"string\",\n        \"num_unique_values\": 5,\n        \"samples\": [\n          \"The Great Gatsby\",\n          \"One Hundred Years of Solitude\",\n          \"The Girl on the Train\"\n        ],\n        \"semantic_type\": \"\",\n        \"description\": \"\"\n      }\n    },\n    {\n      \"column\": \"image_url\",\n      \"properties\": {\n        \"dtype\": \"string\",\n        \"num_unique_values\": 5,\n        \"samples\": [\n          \"https://images.gr-assets.com/books/1490528560m/4671.jpg\",\n          \"https://images.gr-assets.com/books/1327881361m/320.jpg\",\n          \"https://images.gr-assets.com/books/1490903702m/22557272.jpg\"\n        ],\n        \"semantic_type\": \"\",\n        \"description\": \"\"\n      }\n    }\n  ]\n}"
            }
          },
          "metadata": {}
        }
      ]
    },
    {
      "cell_type": "code",
      "source": [
        "from IPython.display import HTML, display\n",
        "\n",
        "def show_recs_with_images(df):\n",
        "    html = \"<table>\"\n",
        "    html += \"<tr><th>Rank</th><th>Title</th><th>Cover</th></tr>\"\n",
        "    for _, r in df.iterrows():\n",
        "        html += (\n",
        "            f\"<tr>\"\n",
        "            f\"<td>{r['rank']}</td>\"\n",
        "            f\"<td>{r['title']}</td>\"\n",
        "           # f\"<td>{r['book_desc']}</td>\"\n",
        "            f\"<td><img src='{r['image_url']}' width='80'></td>\"\n",
        "            f\"</tr>\"\n",
        "        )\n",
        "    html += \"</table>\"\n",
        "    display(HTML(html))\n",
        "\n",
        "show_recs_with_images(rec_df)"
      ],
      "metadata": {
        "colab": {
          "base_uri": "https://localhost:8080/",
          "height": 689
        },
        "id": "pr0tAxvXU-8w",
        "outputId": "1e6fd241-504f-413a-dda0-e7e8aa3ae634"
      },
      "execution_count": 122,
      "outputs": [
        {
          "output_type": "display_data",
          "data": {
            "text/plain": [
              "<IPython.core.display.HTML object>"
            ],
            "text/html": [
              "<table><tr><th>Rank</th><th>Title</th><th>Cover</th></tr><tr><td>1</td><td>Gone Girl</td><td><img src='https://images.gr-assets.com/books/1339602131m/8442457.jpg' width='80'></td></tr><tr><td>2</td><td>The Great Gatsby</td><td><img src='https://images.gr-assets.com/books/1490528560m/4671.jpg' width='80'></td></tr><tr><td>3</td><td>The Girl on the Train</td><td><img src='https://images.gr-assets.com/books/1490903702m/22557272.jpg' width='80'></td></tr><tr><td>4</td><td>The Goldfinch</td><td><img src='https://images.gr-assets.com/books/1451554970m/17333223.jpg' width='80'></td></tr><tr><td>5</td><td>One Hundred Years of Solitude</td><td><img src='https://images.gr-assets.com/books/1327881361m/320.jpg' width='80'></td></tr></table>"
            ]
          },
          "metadata": {}
        }
      ]
    },
    {
      "cell_type": "markdown",
      "source": [
        "## NCF + ResNet"
      ],
      "metadata": {
        "id": "gAKfEB5MV61j"
      }
    },
    {
      "cell_type": "code",
      "source": [
        "# Pide al modelo la puntuación de cada candidato\n",
        "user_batch = np.full(candidates.shape, user_idx, dtype=np.int32)\n",
        "scores     = model_with_feats_2.predict([user_batch, candidates], batch_size=4096).flatten()"
      ],
      "metadata": {
        "colab": {
          "base_uri": "https://localhost:8080/"
        },
        "id": "LAWOQqnKV6TB",
        "outputId": "a863986f-61a0-4a10-f172-3ce4aca8e778"
      },
      "execution_count": 125,
      "outputs": [
        {
          "output_type": "stream",
          "name": "stdout",
          "text": [
            "\u001b[1m2/2\u001b[0m \u001b[32m━━━━━━━━━━━━━━━━━━━━\u001b[0m\u001b[37m\u001b[0m \u001b[1m0s\u001b[0m 30ms/step\n"
          ]
        }
      ]
    },
    {
      "cell_type": "code",
      "source": [
        "# Selecciona los top-5\n",
        "top_n      = 5\n",
        "# find the positions of the top_n highest scores\n",
        "top_pos   = np.argpartition(-scores, top_n-1)[:top_n]\n",
        "# now sort those by actual score\n",
        "ordering = np.argsort(-scores[top_pos])\n",
        "top_items = candidates[top_pos][ordering]\n",
        "top_scores = scores[top_pos][ordering]"
      ],
      "metadata": {
        "id": "maeJsI-EWCxW"
      },
      "execution_count": 126,
      "outputs": []
    },
    {
      "cell_type": "code",
      "source": [
        "# Mapea de vuelta a los raw book IDs y une con metadata\n",
        "idx2bookid   = {v:k for k,v in bookid2idx.items()}\n",
        "top_book_ids = [idx2bookid[i] for i in top_items]"
      ],
      "metadata": {
        "id": "-mu0wmPAWOG7"
      },
      "execution_count": 127,
      "outputs": []
    },
    {
      "cell_type": "code",
      "source": [
        "top_df = pd.DataFrame({\n",
        "    \"book_id\":    top_book_ids,\n",
        "    \"pred_score\": top_scores,\n",
        "})\n",
        "top_df[\"rank\"] = np.arange(1, len(top_df)+1)"
      ],
      "metadata": {
        "id": "ysqFsu58WOG7"
      },
      "execution_count": 128,
      "outputs": []
    },
    {
      "cell_type": "code",
      "source": [
        "# Merge with your books metadata\n",
        "rec_df = top_df.merge(df_books, on=\"book_id\", how=\"left\")"
      ],
      "metadata": {
        "id": "hYrtWZ3OWOG8"
      },
      "execution_count": 129,
      "outputs": []
    },
    {
      "cell_type": "code",
      "source": [
        "# Re-order columns\n",
        "rec_df = rec_df[[\"rank\", \"book_id\", \"pred_score\"] +\n",
        "                [c for c in df_books.columns if c!=\"book_id\"]]"
      ],
      "metadata": {
        "id": "XCh-au8UWOG8"
      },
      "execution_count": 130,
      "outputs": []
    },
    {
      "cell_type": "code",
      "source": [
        "cols = ['rank', 'book_id', 'pred_score', 'book_desc', 'title', 'image_url']"
      ],
      "metadata": {
        "id": "gHYf92OeWOG8"
      },
      "execution_count": 131,
      "outputs": []
    },
    {
      "cell_type": "code",
      "source": [
        "# Muestra resultado\n",
        "print(f\"Top {top_n} recomendaciones para user {raw_user_id}:\")\n",
        "display(rec_df[cols])"
      ],
      "metadata": {
        "colab": {
          "base_uri": "https://localhost:8080/",
          "height": 258
        },
        "outputId": "489e7a5a-ed78-4255-df85-ffb9e9176a43",
        "id": "Lz6D2XR-WOG8"
      },
      "execution_count": 132,
      "outputs": [
        {
          "output_type": "stream",
          "name": "stdout",
          "text": [
            "Top 5 recomendaciones para user 1:\n"
          ]
        },
        {
          "output_type": "stream",
          "name": "stderr",
          "text": [
            "/usr/local/lib/python3.11/dist-packages/pandas/io/formats/format.py:1458: RuntimeWarning: overflow encountered in cast\n",
            "  has_large_values = (abs_vals > 1e6).any()\n"
          ]
        },
        {
          "output_type": "display_data",
          "data": {
            "text/plain": [
              "   rank  book_id  pred_score  \\\n",
              "0     1      172    0.983887   \n",
              "1     2      146    0.979980   \n",
              "2     3        5    0.974609   \n",
              "3     4      291    0.973145   \n",
              "4     5      820    0.971680   \n",
              "\n",
              "                                           book_desc                   title  \\\n",
              "0  Acclaimed by many as the world's greatest nove...           Anna Karenina   \n",
              "1  It begins with a boy. Theo Decker, a thirteen-...           The Goldfinch   \n",
              "2  Alternate Cover Edition ISBN: 0743273567 (ISBN...        The Great Gatsby   \n",
              "3  An unforgettable journey into one man's remark...       Cutting for Stone   \n",
              "4  Librarian's note: See alternate cover edition ...  The Remains of the Day   \n",
              "\n",
              "                                           image_url  \n",
              "0  https://images.gr-assets.com/books/1352422904m...  \n",
              "1  https://images.gr-assets.com/books/1451554970m...  \n",
              "2  https://images.gr-assets.com/books/1490528560m...  \n",
              "3  https://images.gr-assets.com/books/1327931601m...  \n",
              "4  https://images.gr-assets.com/books/1327128714m...  "
            ],
            "text/html": [
              "\n",
              "  <div id=\"df-5eff22e2-c51e-4b7f-a72b-a7f3321853a4\" class=\"colab-df-container\">\n",
              "    <div>\n",
              "<style scoped>\n",
              "    .dataframe tbody tr th:only-of-type {\n",
              "        vertical-align: middle;\n",
              "    }\n",
              "\n",
              "    .dataframe tbody tr th {\n",
              "        vertical-align: top;\n",
              "    }\n",
              "\n",
              "    .dataframe thead th {\n",
              "        text-align: right;\n",
              "    }\n",
              "</style>\n",
              "<table border=\"1\" class=\"dataframe\">\n",
              "  <thead>\n",
              "    <tr style=\"text-align: right;\">\n",
              "      <th></th>\n",
              "      <th>rank</th>\n",
              "      <th>book_id</th>\n",
              "      <th>pred_score</th>\n",
              "      <th>book_desc</th>\n",
              "      <th>title</th>\n",
              "      <th>image_url</th>\n",
              "    </tr>\n",
              "  </thead>\n",
              "  <tbody>\n",
              "    <tr>\n",
              "      <th>0</th>\n",
              "      <td>1</td>\n",
              "      <td>172</td>\n",
              "      <td>0.983887</td>\n",
              "      <td>Acclaimed by many as the world's greatest nove...</td>\n",
              "      <td>Anna Karenina</td>\n",
              "      <td>https://images.gr-assets.com/books/1352422904m...</td>\n",
              "    </tr>\n",
              "    <tr>\n",
              "      <th>1</th>\n",
              "      <td>2</td>\n",
              "      <td>146</td>\n",
              "      <td>0.979980</td>\n",
              "      <td>It begins with a boy. Theo Decker, a thirteen-...</td>\n",
              "      <td>The Goldfinch</td>\n",
              "      <td>https://images.gr-assets.com/books/1451554970m...</td>\n",
              "    </tr>\n",
              "    <tr>\n",
              "      <th>2</th>\n",
              "      <td>3</td>\n",
              "      <td>5</td>\n",
              "      <td>0.974609</td>\n",
              "      <td>Alternate Cover Edition ISBN: 0743273567 (ISBN...</td>\n",
              "      <td>The Great Gatsby</td>\n",
              "      <td>https://images.gr-assets.com/books/1490528560m...</td>\n",
              "    </tr>\n",
              "    <tr>\n",
              "      <th>3</th>\n",
              "      <td>4</td>\n",
              "      <td>291</td>\n",
              "      <td>0.973145</td>\n",
              "      <td>An unforgettable journey into one man's remark...</td>\n",
              "      <td>Cutting for Stone</td>\n",
              "      <td>https://images.gr-assets.com/books/1327931601m...</td>\n",
              "    </tr>\n",
              "    <tr>\n",
              "      <th>4</th>\n",
              "      <td>5</td>\n",
              "      <td>820</td>\n",
              "      <td>0.971680</td>\n",
              "      <td>Librarian's note: See alternate cover edition ...</td>\n",
              "      <td>The Remains of the Day</td>\n",
              "      <td>https://images.gr-assets.com/books/1327128714m...</td>\n",
              "    </tr>\n",
              "  </tbody>\n",
              "</table>\n",
              "</div>\n",
              "    <div class=\"colab-df-buttons\">\n",
              "\n",
              "  <div class=\"colab-df-container\">\n",
              "    <button class=\"colab-df-convert\" onclick=\"convertToInteractive('df-5eff22e2-c51e-4b7f-a72b-a7f3321853a4')\"\n",
              "            title=\"Convert this dataframe to an interactive table.\"\n",
              "            style=\"display:none;\">\n",
              "\n",
              "  <svg xmlns=\"http://www.w3.org/2000/svg\" height=\"24px\" viewBox=\"0 -960 960 960\">\n",
              "    <path d=\"M120-120v-720h720v720H120Zm60-500h600v-160H180v160Zm220 220h160v-160H400v160Zm0 220h160v-160H400v160ZM180-400h160v-160H180v160Zm440 0h160v-160H620v160ZM180-180h160v-160H180v160Zm440 0h160v-160H620v160Z\"/>\n",
              "  </svg>\n",
              "    </button>\n",
              "\n",
              "  <style>\n",
              "    .colab-df-container {\n",
              "      display:flex;\n",
              "      gap: 12px;\n",
              "    }\n",
              "\n",
              "    .colab-df-convert {\n",
              "      background-color: #E8F0FE;\n",
              "      border: none;\n",
              "      border-radius: 50%;\n",
              "      cursor: pointer;\n",
              "      display: none;\n",
              "      fill: #1967D2;\n",
              "      height: 32px;\n",
              "      padding: 0 0 0 0;\n",
              "      width: 32px;\n",
              "    }\n",
              "\n",
              "    .colab-df-convert:hover {\n",
              "      background-color: #E2EBFA;\n",
              "      box-shadow: 0px 1px 2px rgba(60, 64, 67, 0.3), 0px 1px 3px 1px rgba(60, 64, 67, 0.15);\n",
              "      fill: #174EA6;\n",
              "    }\n",
              "\n",
              "    .colab-df-buttons div {\n",
              "      margin-bottom: 4px;\n",
              "    }\n",
              "\n",
              "    [theme=dark] .colab-df-convert {\n",
              "      background-color: #3B4455;\n",
              "      fill: #D2E3FC;\n",
              "    }\n",
              "\n",
              "    [theme=dark] .colab-df-convert:hover {\n",
              "      background-color: #434B5C;\n",
              "      box-shadow: 0px 1px 3px 1px rgba(0, 0, 0, 0.15);\n",
              "      filter: drop-shadow(0px 1px 2px rgba(0, 0, 0, 0.3));\n",
              "      fill: #FFFFFF;\n",
              "    }\n",
              "  </style>\n",
              "\n",
              "    <script>\n",
              "      const buttonEl =\n",
              "        document.querySelector('#df-5eff22e2-c51e-4b7f-a72b-a7f3321853a4 button.colab-df-convert');\n",
              "      buttonEl.style.display =\n",
              "        google.colab.kernel.accessAllowed ? 'block' : 'none';\n",
              "\n",
              "      async function convertToInteractive(key) {\n",
              "        const element = document.querySelector('#df-5eff22e2-c51e-4b7f-a72b-a7f3321853a4');\n",
              "        const dataTable =\n",
              "          await google.colab.kernel.invokeFunction('convertToInteractive',\n",
              "                                                    [key], {});\n",
              "        if (!dataTable) return;\n",
              "\n",
              "        const docLinkHtml = 'Like what you see? Visit the ' +\n",
              "          '<a target=\"_blank\" href=https://colab.research.google.com/notebooks/data_table.ipynb>data table notebook</a>'\n",
              "          + ' to learn more about interactive tables.';\n",
              "        element.innerHTML = '';\n",
              "        dataTable['output_type'] = 'display_data';\n",
              "        await google.colab.output.renderOutput(dataTable, element);\n",
              "        const docLink = document.createElement('div');\n",
              "        docLink.innerHTML = docLinkHtml;\n",
              "        element.appendChild(docLink);\n",
              "      }\n",
              "    </script>\n",
              "  </div>\n",
              "\n",
              "\n",
              "    <div id=\"df-2fa7ecde-75f7-476d-b74a-2a530a0b47fd\">\n",
              "      <button class=\"colab-df-quickchart\" onclick=\"quickchart('df-2fa7ecde-75f7-476d-b74a-2a530a0b47fd')\"\n",
              "                title=\"Suggest charts\"\n",
              "                style=\"display:none;\">\n",
              "\n",
              "<svg xmlns=\"http://www.w3.org/2000/svg\" height=\"24px\"viewBox=\"0 0 24 24\"\n",
              "     width=\"24px\">\n",
              "    <g>\n",
              "        <path d=\"M19 3H5c-1.1 0-2 .9-2 2v14c0 1.1.9 2 2 2h14c1.1 0 2-.9 2-2V5c0-1.1-.9-2-2-2zM9 17H7v-7h2v7zm4 0h-2V7h2v10zm4 0h-2v-4h2v4z\"/>\n",
              "    </g>\n",
              "</svg>\n",
              "      </button>\n",
              "\n",
              "<style>\n",
              "  .colab-df-quickchart {\n",
              "      --bg-color: #E8F0FE;\n",
              "      --fill-color: #1967D2;\n",
              "      --hover-bg-color: #E2EBFA;\n",
              "      --hover-fill-color: #174EA6;\n",
              "      --disabled-fill-color: #AAA;\n",
              "      --disabled-bg-color: #DDD;\n",
              "  }\n",
              "\n",
              "  [theme=dark] .colab-df-quickchart {\n",
              "      --bg-color: #3B4455;\n",
              "      --fill-color: #D2E3FC;\n",
              "      --hover-bg-color: #434B5C;\n",
              "      --hover-fill-color: #FFFFFF;\n",
              "      --disabled-bg-color: #3B4455;\n",
              "      --disabled-fill-color: #666;\n",
              "  }\n",
              "\n",
              "  .colab-df-quickchart {\n",
              "    background-color: var(--bg-color);\n",
              "    border: none;\n",
              "    border-radius: 50%;\n",
              "    cursor: pointer;\n",
              "    display: none;\n",
              "    fill: var(--fill-color);\n",
              "    height: 32px;\n",
              "    padding: 0;\n",
              "    width: 32px;\n",
              "  }\n",
              "\n",
              "  .colab-df-quickchart:hover {\n",
              "    background-color: var(--hover-bg-color);\n",
              "    box-shadow: 0 1px 2px rgba(60, 64, 67, 0.3), 0 1px 3px 1px rgba(60, 64, 67, 0.15);\n",
              "    fill: var(--button-hover-fill-color);\n",
              "  }\n",
              "\n",
              "  .colab-df-quickchart-complete:disabled,\n",
              "  .colab-df-quickchart-complete:disabled:hover {\n",
              "    background-color: var(--disabled-bg-color);\n",
              "    fill: var(--disabled-fill-color);\n",
              "    box-shadow: none;\n",
              "  }\n",
              "\n",
              "  .colab-df-spinner {\n",
              "    border: 2px solid var(--fill-color);\n",
              "    border-color: transparent;\n",
              "    border-bottom-color: var(--fill-color);\n",
              "    animation:\n",
              "      spin 1s steps(1) infinite;\n",
              "  }\n",
              "\n",
              "  @keyframes spin {\n",
              "    0% {\n",
              "      border-color: transparent;\n",
              "      border-bottom-color: var(--fill-color);\n",
              "      border-left-color: var(--fill-color);\n",
              "    }\n",
              "    20% {\n",
              "      border-color: transparent;\n",
              "      border-left-color: var(--fill-color);\n",
              "      border-top-color: var(--fill-color);\n",
              "    }\n",
              "    30% {\n",
              "      border-color: transparent;\n",
              "      border-left-color: var(--fill-color);\n",
              "      border-top-color: var(--fill-color);\n",
              "      border-right-color: var(--fill-color);\n",
              "    }\n",
              "    40% {\n",
              "      border-color: transparent;\n",
              "      border-right-color: var(--fill-color);\n",
              "      border-top-color: var(--fill-color);\n",
              "    }\n",
              "    60% {\n",
              "      border-color: transparent;\n",
              "      border-right-color: var(--fill-color);\n",
              "    }\n",
              "    80% {\n",
              "      border-color: transparent;\n",
              "      border-right-color: var(--fill-color);\n",
              "      border-bottom-color: var(--fill-color);\n",
              "    }\n",
              "    90% {\n",
              "      border-color: transparent;\n",
              "      border-bottom-color: var(--fill-color);\n",
              "    }\n",
              "  }\n",
              "</style>\n",
              "\n",
              "      <script>\n",
              "        async function quickchart(key) {\n",
              "          const quickchartButtonEl =\n",
              "            document.querySelector('#' + key + ' button');\n",
              "          quickchartButtonEl.disabled = true;  // To prevent multiple clicks.\n",
              "          quickchartButtonEl.classList.add('colab-df-spinner');\n",
              "          try {\n",
              "            const charts = await google.colab.kernel.invokeFunction(\n",
              "                'suggestCharts', [key], {});\n",
              "          } catch (error) {\n",
              "            console.error('Error during call to suggestCharts:', error);\n",
              "          }\n",
              "          quickchartButtonEl.classList.remove('colab-df-spinner');\n",
              "          quickchartButtonEl.classList.add('colab-df-quickchart-complete');\n",
              "        }\n",
              "        (() => {\n",
              "          let quickchartButtonEl =\n",
              "            document.querySelector('#df-2fa7ecde-75f7-476d-b74a-2a530a0b47fd button');\n",
              "          quickchartButtonEl.style.display =\n",
              "            google.colab.kernel.accessAllowed ? 'block' : 'none';\n",
              "        })();\n",
              "      </script>\n",
              "    </div>\n",
              "\n",
              "    </div>\n",
              "  </div>\n"
            ],
            "application/vnd.google.colaboratory.intrinsic+json": {
              "type": "dataframe",
              "summary": "{\n  \"name\": \"display(rec_df[cols])\",\n  \"rows\": 5,\n  \"fields\": [\n    {\n      \"column\": \"rank\",\n      \"properties\": {\n        \"dtype\": \"number\",\n        \"std\": 1,\n        \"min\": 1,\n        \"max\": 5,\n        \"num_unique_values\": 5,\n        \"samples\": [\n          2,\n          5,\n          3\n        ],\n        \"semantic_type\": \"\",\n        \"description\": \"\"\n      }\n    },\n    {\n      \"column\": \"book_id\",\n      \"properties\": {\n        \"dtype\": \"number\",\n        \"std\": 314,\n        \"min\": 5,\n        \"max\": 820,\n        \"num_unique_values\": 5,\n        \"samples\": [\n          146,\n          820,\n          5\n        ],\n        \"semantic_type\": \"\",\n        \"description\": \"\"\n      }\n    },\n    {\n      \"column\": \"pred_score\",\n      \"properties\": {\n        \"dtype\": \"float16\",\n        \"num_unique_values\": 5,\n        \"samples\": [\n          0.97998046875,\n          0.9716796875,\n          0.974609375\n        ],\n        \"semantic_type\": \"\",\n        \"description\": \"\"\n      }\n    },\n    {\n      \"column\": \"book_desc\",\n      \"properties\": {\n        \"dtype\": \"string\",\n        \"num_unique_values\": 5,\n        \"samples\": [\n          \"It begins with a boy. Theo Decker, a thirteen-year-old New Yorker, miraculously survives an accident that kills his mother. Abandoned by his father, Theo is taken in by the family of a wealthy friend. Bewildered by his strange new home on Park Avenue, disturbed by schoolmates who don't know how to talk to him, and tormented above all by his unbearable longing for his mother, he clings to one thing that reminds him of her: a small, mysteriously captivating painting that ultimately draws Theo into the underworld of art.As an adult, Theo moves silkily between the drawing rooms of the rich and the dusty labyrinth of an antiques store where he works. He is alienated and in love-and at the center of a narrowing, ever more dangerous circle.The Goldfinch combines vivid characters, mesmerizing language, and suspense, while plumbing with a philosopher's calm the deepest mysteries of love, identity, and art. It is an old-fashioned story of loss and obsession, survival and self-invention, and the ruthless machinations of fate.\",\n          \"Librarian's note: See alternate cover edition of ISBN 0571225381 here.In the summer of 1956, Stevens, a long-serving butler at Darlington Hall, decides to take a motoring trip through the West Country. The six-day excursion becomes a journey into the past of Stevens and England, a past that takes in fascism, two world wars, and an unrealised love between the butler and his housekeeper.\",\n          \"Alternate Cover Edition ISBN: 0743273567 (ISBN13: 9780743273565)A true classic of twentieth-century literature, this edition has been updated by Fitzgerald scholar James L.W. West III to include the author\\u2019s final revisions and features a note on the composition and text, a personal foreword by Fitzgerald\\u2019s granddaughter, Eleanor Lanahan\\u2014and a new introduction by two-time National Book Award winner Jesmyn Ward.The Great Gatsby, F. Scott Fitzgerald\\u2019s third book, stands as the supreme achievement of his career. First published in 1925, this quintessential novel of the Jazz Age has been acclaimed by generations of readers. The story of the mysteriously wealthy Jay Gatsby and his love for the beautiful Daisy Buchanan, of lavish parties on Long Island at a time when The New York Times noted \\u201cgin was the national drink and sex the national obsession,\\u201d it is an exquisitely crafted tale of America in the 1920s.\"\n        ],\n        \"semantic_type\": \"\",\n        \"description\": \"\"\n      }\n    },\n    {\n      \"column\": \"title\",\n      \"properties\": {\n        \"dtype\": \"string\",\n        \"num_unique_values\": 5,\n        \"samples\": [\n          \"The Goldfinch\",\n          \"The Remains of the Day\",\n          \"The Great Gatsby\"\n        ],\n        \"semantic_type\": \"\",\n        \"description\": \"\"\n      }\n    },\n    {\n      \"column\": \"image_url\",\n      \"properties\": {\n        \"dtype\": \"string\",\n        \"num_unique_values\": 5,\n        \"samples\": [\n          \"https://images.gr-assets.com/books/1451554970m/17333223.jpg\",\n          \"https://images.gr-assets.com/books/1327128714m/28921.jpg\",\n          \"https://images.gr-assets.com/books/1490528560m/4671.jpg\"\n        ],\n        \"semantic_type\": \"\",\n        \"description\": \"\"\n      }\n    }\n  ]\n}"
            }
          },
          "metadata": {}
        }
      ]
    },
    {
      "cell_type": "code",
      "source": [
        "from IPython.display import HTML, display\n",
        "\n",
        "def show_recs_with_images(df):\n",
        "    html = \"<table>\"\n",
        "    html += \"<tr><th>Rank</th><th>Title</th><th>Cover</th></tr>\"\n",
        "    for _, r in df.iterrows():\n",
        "        html += (\n",
        "            f\"<tr>\"\n",
        "            f\"<td>{r['rank']}</td>\"\n",
        "            f\"<td>{r['title']}</td>\"\n",
        "           # f\"<td>{r['book_desc']}</td>\"\n",
        "            f\"<td><img src='{r['image_url']}' width='80'></td>\"\n",
        "            f\"</tr>\"\n",
        "        )\n",
        "    html += \"</table>\"\n",
        "    display(HTML(html))\n",
        "\n",
        "show_recs_with_images(rec_df)"
      ],
      "metadata": {
        "colab": {
          "base_uri": "https://localhost:8080/",
          "height": 701
        },
        "outputId": "5eeb3dd9-6429-4f95-bc7b-272e43bc5685",
        "id": "9qolCfadWOG8"
      },
      "execution_count": 133,
      "outputs": [
        {
          "output_type": "display_data",
          "data": {
            "text/plain": [
              "<IPython.core.display.HTML object>"
            ],
            "text/html": [
              "<table><tr><th>Rank</th><th>Title</th><th>Cover</th></tr><tr><td>1</td><td>Anna Karenina</td><td><img src='https://images.gr-assets.com/books/1352422904m/15823480.jpg' width='80'></td></tr><tr><td>2</td><td>The Goldfinch</td><td><img src='https://images.gr-assets.com/books/1451554970m/17333223.jpg' width='80'></td></tr><tr><td>3</td><td>The Great Gatsby</td><td><img src='https://images.gr-assets.com/books/1490528560m/4671.jpg' width='80'></td></tr><tr><td>4</td><td>Cutting for Stone</td><td><img src='https://images.gr-assets.com/books/1327931601m/3591262.jpg' width='80'></td></tr><tr><td>5</td><td>The Remains of the Day</td><td><img src='https://images.gr-assets.com/books/1327128714m/28921.jpg' width='80'></td></tr></table>"
            ]
          },
          "metadata": {}
        }
      ]
    },
    {
      "cell_type": "markdown",
      "source": [
        "## NCF + BERT + ResNet"
      ],
      "metadata": {
        "id": "ZHey6rXmWeqt"
      }
    },
    {
      "cell_type": "code",
      "source": [
        "# Pide al modelo la puntuación de cada candidato\n",
        "user_batch = np.full(candidates.shape, user_idx, dtype=np.int32)\n",
        "scores     = model_both.predict([user_batch, candidates], batch_size=4096).flatten()"
      ],
      "metadata": {
        "colab": {
          "base_uri": "https://localhost:8080/"
        },
        "outputId": "af646e4a-b573-4199-bbaa-0e3002e9f334",
        "id": "RTLZOLkLWqWg"
      },
      "execution_count": 139,
      "outputs": [
        {
          "output_type": "stream",
          "name": "stdout",
          "text": [
            "\u001b[1m2/2\u001b[0m \u001b[32m━━━━━━━━━━━━━━━━━━━━\u001b[0m\u001b[37m\u001b[0m \u001b[1m0s\u001b[0m 28ms/step \n"
          ]
        }
      ]
    },
    {
      "cell_type": "code",
      "source": [
        "# Selecciona los top-5\n",
        "top_n      = 5\n",
        "# find the positions of the top_n highest scores\n",
        "top_pos   = np.argpartition(-scores, top_n-1)[:top_n]\n",
        "# now sort those by actual score\n",
        "ordering = np.argsort(-scores[top_pos])\n",
        "top_items = candidates[top_pos][ordering]\n",
        "top_scores = scores[top_pos][ordering]"
      ],
      "metadata": {
        "id": "uWutUuApWqWg"
      },
      "execution_count": 140,
      "outputs": []
    },
    {
      "cell_type": "code",
      "source": [
        "# Mapea de vuelta a los raw book IDs y une con metadata\n",
        "idx2bookid   = {v:k for k,v in bookid2idx.items()}\n",
        "top_book_ids = [idx2bookid[i] for i in top_items]"
      ],
      "metadata": {
        "id": "sspyxTi2WqWh"
      },
      "execution_count": 141,
      "outputs": []
    },
    {
      "cell_type": "code",
      "source": [
        "top_df = pd.DataFrame({\n",
        "    \"book_id\":    top_book_ids,\n",
        "    \"pred_score\": top_scores,\n",
        "})\n",
        "top_df[\"rank\"] = np.arange(1, len(top_df)+1)"
      ],
      "metadata": {
        "id": "0NK7rCKNWqWh"
      },
      "execution_count": 142,
      "outputs": []
    },
    {
      "cell_type": "code",
      "source": [
        "# Merge with your books metadata\n",
        "rec_df = top_df.merge(df_books, on=\"book_id\", how=\"left\")"
      ],
      "metadata": {
        "id": "VBviHDuxWqWh"
      },
      "execution_count": 143,
      "outputs": []
    },
    {
      "cell_type": "code",
      "source": [
        "# Re-order columns\n",
        "rec_df = rec_df[[\"rank\", \"book_id\", \"pred_score\"] +\n",
        "                [c for c in df_books.columns if c!=\"book_id\"]]"
      ],
      "metadata": {
        "id": "AbSm8RMYWqWh"
      },
      "execution_count": 144,
      "outputs": []
    },
    {
      "cell_type": "code",
      "source": [
        "cols = ['rank', 'book_id', 'pred_score', 'book_desc', 'title', 'image_url']"
      ],
      "metadata": {
        "id": "P3AgvNJ_WqWh"
      },
      "execution_count": 145,
      "outputs": []
    },
    {
      "cell_type": "code",
      "source": [
        "# Muestra resultado\n",
        "print(f\"Top {top_n} recomendaciones para user {raw_user_id}:\")\n",
        "display(rec_df[cols])"
      ],
      "metadata": {
        "colab": {
          "base_uri": "https://localhost:8080/",
          "height": 258
        },
        "outputId": "a4c09460-0340-43c5-8d19-737d4e4c3ae0",
        "id": "VgQUk2c1WqWh"
      },
      "execution_count": 146,
      "outputs": [
        {
          "output_type": "stream",
          "name": "stdout",
          "text": [
            "Top 5 recomendaciones para user 1:\n"
          ]
        },
        {
          "output_type": "stream",
          "name": "stderr",
          "text": [
            "/usr/local/lib/python3.11/dist-packages/pandas/io/formats/format.py:1458: RuntimeWarning: overflow encountered in cast\n",
            "  has_large_values = (abs_vals > 1e6).any()\n"
          ]
        },
        {
          "output_type": "display_data",
          "data": {
            "text/plain": [
              "   rank  book_id  pred_score  \\\n",
              "0     1       30    0.995117   \n",
              "1     2       61    0.994141   \n",
              "2     3        5    0.989258   \n",
              "3     4      146    0.986816   \n",
              "4     5        8    0.982910   \n",
              "\n",
              "                                           book_desc                   title  \\\n",
              "0  On a warm summer morning in North Carthage, Mi...               Gone Girl   \n",
              "1  Rachel catches the same commuter train every m...   The Girl on the Train   \n",
              "2  Alternate Cover Edition ISBN: 0743273567 (ISBN...        The Great Gatsby   \n",
              "3  It begins with a boy. Theo Decker, a thirteen-...           The Goldfinch   \n",
              "4  The hero-narrator of The Catcher in the Rye is...  The Catcher in the Rye   \n",
              "\n",
              "                                           image_url  \n",
              "0  https://images.gr-assets.com/books/1339602131m...  \n",
              "1  https://images.gr-assets.com/books/1490903702m...  \n",
              "2  https://images.gr-assets.com/books/1490528560m...  \n",
              "3  https://images.gr-assets.com/books/1451554970m...  \n",
              "4  https://images.gr-assets.com/books/1398034300m...  "
            ],
            "text/html": [
              "\n",
              "  <div id=\"df-1f5a267f-d632-4119-894f-e4bac537ed1c\" class=\"colab-df-container\">\n",
              "    <div>\n",
              "<style scoped>\n",
              "    .dataframe tbody tr th:only-of-type {\n",
              "        vertical-align: middle;\n",
              "    }\n",
              "\n",
              "    .dataframe tbody tr th {\n",
              "        vertical-align: top;\n",
              "    }\n",
              "\n",
              "    .dataframe thead th {\n",
              "        text-align: right;\n",
              "    }\n",
              "</style>\n",
              "<table border=\"1\" class=\"dataframe\">\n",
              "  <thead>\n",
              "    <tr style=\"text-align: right;\">\n",
              "      <th></th>\n",
              "      <th>rank</th>\n",
              "      <th>book_id</th>\n",
              "      <th>pred_score</th>\n",
              "      <th>book_desc</th>\n",
              "      <th>title</th>\n",
              "      <th>image_url</th>\n",
              "    </tr>\n",
              "  </thead>\n",
              "  <tbody>\n",
              "    <tr>\n",
              "      <th>0</th>\n",
              "      <td>1</td>\n",
              "      <td>30</td>\n",
              "      <td>0.995117</td>\n",
              "      <td>On a warm summer morning in North Carthage, Mi...</td>\n",
              "      <td>Gone Girl</td>\n",
              "      <td>https://images.gr-assets.com/books/1339602131m...</td>\n",
              "    </tr>\n",
              "    <tr>\n",
              "      <th>1</th>\n",
              "      <td>2</td>\n",
              "      <td>61</td>\n",
              "      <td>0.994141</td>\n",
              "      <td>Rachel catches the same commuter train every m...</td>\n",
              "      <td>The Girl on the Train</td>\n",
              "      <td>https://images.gr-assets.com/books/1490903702m...</td>\n",
              "    </tr>\n",
              "    <tr>\n",
              "      <th>2</th>\n",
              "      <td>3</td>\n",
              "      <td>5</td>\n",
              "      <td>0.989258</td>\n",
              "      <td>Alternate Cover Edition ISBN: 0743273567 (ISBN...</td>\n",
              "      <td>The Great Gatsby</td>\n",
              "      <td>https://images.gr-assets.com/books/1490528560m...</td>\n",
              "    </tr>\n",
              "    <tr>\n",
              "      <th>3</th>\n",
              "      <td>4</td>\n",
              "      <td>146</td>\n",
              "      <td>0.986816</td>\n",
              "      <td>It begins with a boy. Theo Decker, a thirteen-...</td>\n",
              "      <td>The Goldfinch</td>\n",
              "      <td>https://images.gr-assets.com/books/1451554970m...</td>\n",
              "    </tr>\n",
              "    <tr>\n",
              "      <th>4</th>\n",
              "      <td>5</td>\n",
              "      <td>8</td>\n",
              "      <td>0.982910</td>\n",
              "      <td>The hero-narrator of The Catcher in the Rye is...</td>\n",
              "      <td>The Catcher in the Rye</td>\n",
              "      <td>https://images.gr-assets.com/books/1398034300m...</td>\n",
              "    </tr>\n",
              "  </tbody>\n",
              "</table>\n",
              "</div>\n",
              "    <div class=\"colab-df-buttons\">\n",
              "\n",
              "  <div class=\"colab-df-container\">\n",
              "    <button class=\"colab-df-convert\" onclick=\"convertToInteractive('df-1f5a267f-d632-4119-894f-e4bac537ed1c')\"\n",
              "            title=\"Convert this dataframe to an interactive table.\"\n",
              "            style=\"display:none;\">\n",
              "\n",
              "  <svg xmlns=\"http://www.w3.org/2000/svg\" height=\"24px\" viewBox=\"0 -960 960 960\">\n",
              "    <path d=\"M120-120v-720h720v720H120Zm60-500h600v-160H180v160Zm220 220h160v-160H400v160Zm0 220h160v-160H400v160ZM180-400h160v-160H180v160Zm440 0h160v-160H620v160ZM180-180h160v-160H180v160Zm440 0h160v-160H620v160Z\"/>\n",
              "  </svg>\n",
              "    </button>\n",
              "\n",
              "  <style>\n",
              "    .colab-df-container {\n",
              "      display:flex;\n",
              "      gap: 12px;\n",
              "    }\n",
              "\n",
              "    .colab-df-convert {\n",
              "      background-color: #E8F0FE;\n",
              "      border: none;\n",
              "      border-radius: 50%;\n",
              "      cursor: pointer;\n",
              "      display: none;\n",
              "      fill: #1967D2;\n",
              "      height: 32px;\n",
              "      padding: 0 0 0 0;\n",
              "      width: 32px;\n",
              "    }\n",
              "\n",
              "    .colab-df-convert:hover {\n",
              "      background-color: #E2EBFA;\n",
              "      box-shadow: 0px 1px 2px rgba(60, 64, 67, 0.3), 0px 1px 3px 1px rgba(60, 64, 67, 0.15);\n",
              "      fill: #174EA6;\n",
              "    }\n",
              "\n",
              "    .colab-df-buttons div {\n",
              "      margin-bottom: 4px;\n",
              "    }\n",
              "\n",
              "    [theme=dark] .colab-df-convert {\n",
              "      background-color: #3B4455;\n",
              "      fill: #D2E3FC;\n",
              "    }\n",
              "\n",
              "    [theme=dark] .colab-df-convert:hover {\n",
              "      background-color: #434B5C;\n",
              "      box-shadow: 0px 1px 3px 1px rgba(0, 0, 0, 0.15);\n",
              "      filter: drop-shadow(0px 1px 2px rgba(0, 0, 0, 0.3));\n",
              "      fill: #FFFFFF;\n",
              "    }\n",
              "  </style>\n",
              "\n",
              "    <script>\n",
              "      const buttonEl =\n",
              "        document.querySelector('#df-1f5a267f-d632-4119-894f-e4bac537ed1c button.colab-df-convert');\n",
              "      buttonEl.style.display =\n",
              "        google.colab.kernel.accessAllowed ? 'block' : 'none';\n",
              "\n",
              "      async function convertToInteractive(key) {\n",
              "        const element = document.querySelector('#df-1f5a267f-d632-4119-894f-e4bac537ed1c');\n",
              "        const dataTable =\n",
              "          await google.colab.kernel.invokeFunction('convertToInteractive',\n",
              "                                                    [key], {});\n",
              "        if (!dataTable) return;\n",
              "\n",
              "        const docLinkHtml = 'Like what you see? Visit the ' +\n",
              "          '<a target=\"_blank\" href=https://colab.research.google.com/notebooks/data_table.ipynb>data table notebook</a>'\n",
              "          + ' to learn more about interactive tables.';\n",
              "        element.innerHTML = '';\n",
              "        dataTable['output_type'] = 'display_data';\n",
              "        await google.colab.output.renderOutput(dataTable, element);\n",
              "        const docLink = document.createElement('div');\n",
              "        docLink.innerHTML = docLinkHtml;\n",
              "        element.appendChild(docLink);\n",
              "      }\n",
              "    </script>\n",
              "  </div>\n",
              "\n",
              "\n",
              "    <div id=\"df-43a3e5e1-317f-44f3-b7d8-6eeb068f8fad\">\n",
              "      <button class=\"colab-df-quickchart\" onclick=\"quickchart('df-43a3e5e1-317f-44f3-b7d8-6eeb068f8fad')\"\n",
              "                title=\"Suggest charts\"\n",
              "                style=\"display:none;\">\n",
              "\n",
              "<svg xmlns=\"http://www.w3.org/2000/svg\" height=\"24px\"viewBox=\"0 0 24 24\"\n",
              "     width=\"24px\">\n",
              "    <g>\n",
              "        <path d=\"M19 3H5c-1.1 0-2 .9-2 2v14c0 1.1.9 2 2 2h14c1.1 0 2-.9 2-2V5c0-1.1-.9-2-2-2zM9 17H7v-7h2v7zm4 0h-2V7h2v10zm4 0h-2v-4h2v4z\"/>\n",
              "    </g>\n",
              "</svg>\n",
              "      </button>\n",
              "\n",
              "<style>\n",
              "  .colab-df-quickchart {\n",
              "      --bg-color: #E8F0FE;\n",
              "      --fill-color: #1967D2;\n",
              "      --hover-bg-color: #E2EBFA;\n",
              "      --hover-fill-color: #174EA6;\n",
              "      --disabled-fill-color: #AAA;\n",
              "      --disabled-bg-color: #DDD;\n",
              "  }\n",
              "\n",
              "  [theme=dark] .colab-df-quickchart {\n",
              "      --bg-color: #3B4455;\n",
              "      --fill-color: #D2E3FC;\n",
              "      --hover-bg-color: #434B5C;\n",
              "      --hover-fill-color: #FFFFFF;\n",
              "      --disabled-bg-color: #3B4455;\n",
              "      --disabled-fill-color: #666;\n",
              "  }\n",
              "\n",
              "  .colab-df-quickchart {\n",
              "    background-color: var(--bg-color);\n",
              "    border: none;\n",
              "    border-radius: 50%;\n",
              "    cursor: pointer;\n",
              "    display: none;\n",
              "    fill: var(--fill-color);\n",
              "    height: 32px;\n",
              "    padding: 0;\n",
              "    width: 32px;\n",
              "  }\n",
              "\n",
              "  .colab-df-quickchart:hover {\n",
              "    background-color: var(--hover-bg-color);\n",
              "    box-shadow: 0 1px 2px rgba(60, 64, 67, 0.3), 0 1px 3px 1px rgba(60, 64, 67, 0.15);\n",
              "    fill: var(--button-hover-fill-color);\n",
              "  }\n",
              "\n",
              "  .colab-df-quickchart-complete:disabled,\n",
              "  .colab-df-quickchart-complete:disabled:hover {\n",
              "    background-color: var(--disabled-bg-color);\n",
              "    fill: var(--disabled-fill-color);\n",
              "    box-shadow: none;\n",
              "  }\n",
              "\n",
              "  .colab-df-spinner {\n",
              "    border: 2px solid var(--fill-color);\n",
              "    border-color: transparent;\n",
              "    border-bottom-color: var(--fill-color);\n",
              "    animation:\n",
              "      spin 1s steps(1) infinite;\n",
              "  }\n",
              "\n",
              "  @keyframes spin {\n",
              "    0% {\n",
              "      border-color: transparent;\n",
              "      border-bottom-color: var(--fill-color);\n",
              "      border-left-color: var(--fill-color);\n",
              "    }\n",
              "    20% {\n",
              "      border-color: transparent;\n",
              "      border-left-color: var(--fill-color);\n",
              "      border-top-color: var(--fill-color);\n",
              "    }\n",
              "    30% {\n",
              "      border-color: transparent;\n",
              "      border-left-color: var(--fill-color);\n",
              "      border-top-color: var(--fill-color);\n",
              "      border-right-color: var(--fill-color);\n",
              "    }\n",
              "    40% {\n",
              "      border-color: transparent;\n",
              "      border-right-color: var(--fill-color);\n",
              "      border-top-color: var(--fill-color);\n",
              "    }\n",
              "    60% {\n",
              "      border-color: transparent;\n",
              "      border-right-color: var(--fill-color);\n",
              "    }\n",
              "    80% {\n",
              "      border-color: transparent;\n",
              "      border-right-color: var(--fill-color);\n",
              "      border-bottom-color: var(--fill-color);\n",
              "    }\n",
              "    90% {\n",
              "      border-color: transparent;\n",
              "      border-bottom-color: var(--fill-color);\n",
              "    }\n",
              "  }\n",
              "</style>\n",
              "\n",
              "      <script>\n",
              "        async function quickchart(key) {\n",
              "          const quickchartButtonEl =\n",
              "            document.querySelector('#' + key + ' button');\n",
              "          quickchartButtonEl.disabled = true;  // To prevent multiple clicks.\n",
              "          quickchartButtonEl.classList.add('colab-df-spinner');\n",
              "          try {\n",
              "            const charts = await google.colab.kernel.invokeFunction(\n",
              "                'suggestCharts', [key], {});\n",
              "          } catch (error) {\n",
              "            console.error('Error during call to suggestCharts:', error);\n",
              "          }\n",
              "          quickchartButtonEl.classList.remove('colab-df-spinner');\n",
              "          quickchartButtonEl.classList.add('colab-df-quickchart-complete');\n",
              "        }\n",
              "        (() => {\n",
              "          let quickchartButtonEl =\n",
              "            document.querySelector('#df-43a3e5e1-317f-44f3-b7d8-6eeb068f8fad button');\n",
              "          quickchartButtonEl.style.display =\n",
              "            google.colab.kernel.accessAllowed ? 'block' : 'none';\n",
              "        })();\n",
              "      </script>\n",
              "    </div>\n",
              "\n",
              "    </div>\n",
              "  </div>\n"
            ],
            "application/vnd.google.colaboratory.intrinsic+json": {
              "type": "dataframe",
              "summary": "{\n  \"name\": \"display(rec_df[cols])\",\n  \"rows\": 5,\n  \"fields\": [\n    {\n      \"column\": \"rank\",\n      \"properties\": {\n        \"dtype\": \"number\",\n        \"std\": 1,\n        \"min\": 1,\n        \"max\": 5,\n        \"num_unique_values\": 5,\n        \"samples\": [\n          2,\n          5,\n          3\n        ],\n        \"semantic_type\": \"\",\n        \"description\": \"\"\n      }\n    },\n    {\n      \"column\": \"book_id\",\n      \"properties\": {\n        \"dtype\": \"number\",\n        \"std\": 58,\n        \"min\": 5,\n        \"max\": 146,\n        \"num_unique_values\": 5,\n        \"samples\": [\n          61,\n          8,\n          5\n        ],\n        \"semantic_type\": \"\",\n        \"description\": \"\"\n      }\n    },\n    {\n      \"column\": \"pred_score\",\n      \"properties\": {\n        \"dtype\": \"float16\",\n        \"num_unique_values\": 5,\n        \"samples\": [\n          0.994140625,\n          0.98291015625,\n          0.9892578125\n        ],\n        \"semantic_type\": \"\",\n        \"description\": \"\"\n      }\n    },\n    {\n      \"column\": \"book_desc\",\n      \"properties\": {\n        \"dtype\": \"string\",\n        \"num_unique_values\": 5,\n        \"samples\": [\n          \"Rachel catches the same commuter train every morning. She knows it will wait at the same signal each time, overlooking a row of back gardens. She's even started to feel like she knows the people who live in one of the houses. 'Jess and Jason', she calls them. Their life - as she sees it - is perfect. If only Rachel could be that happy. And then she sees something shocking. It's only a minute until the train moves on, but it's enough. Now everything's changed. Now Rachel has a chance to become a part of the lives she's only watched from afar. Now they'll see; she's much more than just the girl on the train...\",\n          \"The hero-narrator of The Catcher in the Rye is an ancient child of sixteen, a native New Yorker named Holden Caulfield. Through circumstances that tend to preclude adult, secondhand description, he leaves his prep school in Pennsylvania and goes underground in New York City for three days. The boy himself is at once too simple and too complex for us to make any final comment about him or his story. Perhaps the safest thing we can say about Holden is that he was born in the world not just strongly attracted to beauty but, almost, hopelessly impaled on it. There are many voices in this novel: children's voices, adult voices, underground voices-but Holden's voice is the most eloquent of all. Transcending his own vernacular, yet remaining marvelously faithful to it, he issues a perfectly articulated cry of mixed pain and pleasure. However, like most lovers and clowns and poets of the higher orders, he keeps most of the pain to, and for, himself. The pleasure he gives away, or sets aside, with all his heart. It is there for the reader who can handle it to keep. J.D. Salinger's classic novel of teenage angst and rebellion was first published in 1951. The novel was included on Time's 2005 list of the 100 best English-language novels written since 1923. It was named by Modern Library and its readers as one of the 100 best English-language novels of the 20th century. It has been frequently challenged in the court for its liberal use of profanity and portrayal of sexuality and in the 1950's and 60's it was the novel that every teenage boy wants to read.\",\n          \"Alternate Cover Edition ISBN: 0743273567 (ISBN13: 9780743273565)A true classic of twentieth-century literature, this edition has been updated by Fitzgerald scholar James L.W. West III to include the author\\u2019s final revisions and features a note on the composition and text, a personal foreword by Fitzgerald\\u2019s granddaughter, Eleanor Lanahan\\u2014and a new introduction by two-time National Book Award winner Jesmyn Ward.The Great Gatsby, F. Scott Fitzgerald\\u2019s third book, stands as the supreme achievement of his career. First published in 1925, this quintessential novel of the Jazz Age has been acclaimed by generations of readers. The story of the mysteriously wealthy Jay Gatsby and his love for the beautiful Daisy Buchanan, of lavish parties on Long Island at a time when The New York Times noted \\u201cgin was the national drink and sex the national obsession,\\u201d it is an exquisitely crafted tale of America in the 1920s.\"\n        ],\n        \"semantic_type\": \"\",\n        \"description\": \"\"\n      }\n    },\n    {\n      \"column\": \"title\",\n      \"properties\": {\n        \"dtype\": \"string\",\n        \"num_unique_values\": 5,\n        \"samples\": [\n          \"The Girl on the Train\",\n          \"The Catcher in the Rye\",\n          \"The Great Gatsby\"\n        ],\n        \"semantic_type\": \"\",\n        \"description\": \"\"\n      }\n    },\n    {\n      \"column\": \"image_url\",\n      \"properties\": {\n        \"dtype\": \"string\",\n        \"num_unique_values\": 5,\n        \"samples\": [\n          \"https://images.gr-assets.com/books/1490903702m/22557272.jpg\",\n          \"https://images.gr-assets.com/books/1398034300m/5107.jpg\",\n          \"https://images.gr-assets.com/books/1490528560m/4671.jpg\"\n        ],\n        \"semantic_type\": \"\",\n        \"description\": \"\"\n      }\n    }\n  ]\n}"
            }
          },
          "metadata": {}
        }
      ]
    },
    {
      "cell_type": "code",
      "source": [
        "from IPython.display import HTML, display\n",
        "\n",
        "def show_recs_with_images(df):\n",
        "    html = \"<table>\"\n",
        "    html += \"<tr><th>Rank</th><th>Title</th><th>Cover</th></tr>\"\n",
        "    for _, r in df.iterrows():\n",
        "        html += (\n",
        "            f\"<tr>\"\n",
        "            f\"<td>{r['rank']}</td>\"\n",
        "            f\"<td>{r['title']}</td>\"\n",
        "          #  f\"<td>{r['book_desc']}</td>\"\n",
        "            f\"<td><img src='{r['image_url']}' width='80'></td>\"\n",
        "            f\"</tr>\"\n",
        "        )\n",
        "    html += \"</table>\"\n",
        "    display(HTML(html))\n",
        "\n",
        "show_recs_with_images(rec_df)"
      ],
      "metadata": {
        "colab": {
          "base_uri": "https://localhost:8080/",
          "height": 699
        },
        "outputId": "922894b1-5128-4477-b0f0-58dbccb6570f",
        "id": "f_B5x5w-WqWh"
      },
      "execution_count": 147,
      "outputs": [
        {
          "output_type": "display_data",
          "data": {
            "text/plain": [
              "<IPython.core.display.HTML object>"
            ],
            "text/html": [
              "<table><tr><th>Rank</th><th>Title</th><th>Cover</th></tr><tr><td>1</td><td>Gone Girl</td><td><img src='https://images.gr-assets.com/books/1339602131m/8442457.jpg' width='80'></td></tr><tr><td>2</td><td>The Girl on the Train</td><td><img src='https://images.gr-assets.com/books/1490903702m/22557272.jpg' width='80'></td></tr><tr><td>3</td><td>The Great Gatsby</td><td><img src='https://images.gr-assets.com/books/1490528560m/4671.jpg' width='80'></td></tr><tr><td>4</td><td>The Goldfinch</td><td><img src='https://images.gr-assets.com/books/1451554970m/17333223.jpg' width='80'></td></tr><tr><td>5</td><td>The Catcher in the Rye</td><td><img src='https://images.gr-assets.com/books/1398034300m/5107.jpg' width='80'></td></tr></table>"
            ]
          },
          "metadata": {}
        }
      ]
    },
    {
      "cell_type": "markdown",
      "source": [
        "## Interacted items"
      ],
      "metadata": {
        "id": "G1bsc5vh6NVV"
      }
    },
    {
      "cell_type": "code",
      "source": [
        "from IPython.display import HTML, display\n",
        "\n",
        "def show_seen_with_images(raw_user_id, user_interactions, books_df, userid2idx, bookid2idx, idx2bookid):\n",
        "    # 1) Find the user idx and the raw IDs they’ve seen\n",
        "    user_idx = userid2idx[raw_user_id]\n",
        "    seen_raw = user_interactions.get(raw_user_id, [])\n",
        "    seen_ids = [ bookid2idx[b] for b in seen_raw if b in bookid2idx ]\n",
        "\n",
        "    # 2) Map back to raw book_id and grab the metadata\n",
        "    seen_book_ids = [ idx2bookid[i] for i in seen_ids ]\n",
        "    seen_df = books_df[books_df['book_id'].isin(seen_book_ids)].copy()\n",
        "    # preserve original order\n",
        "    seen_df = seen_df.set_index('book_id').loc[seen_book_ids].reset_index()\n",
        "\n",
        "    # 3) Render HTML table with cover images\n",
        "    html = \"<h3>Already Interacted by User</h3>\"\n",
        "    html += \"<table>\"\n",
        "    html += \"<tr><th>Title</th><th>Cover</th></tr>\"\n",
        "    for _, r in seen_df.iterrows():\n",
        "        title = r.get('title', r.get('original_title', ''))\n",
        "        img   = r.get('image_url', '')\n",
        "        html += (\n",
        "            f\"<tr>\"\n",
        "            f\"<td>{title}</td>\"\n",
        "            f\"<td><img src='{img}' width='60'></td>\"\n",
        "            f\"</tr>\"\n",
        "        )\n",
        "    html += \"</table>\"\n",
        "    display(HTML(html))\n",
        "\n",
        "# Usage:\n",
        "idx2bookid = {v:k for k,v in bookid2idx.items()}\n",
        "show_seen_with_images(\n",
        "    raw_user_id,\n",
        "    user_interactions,\n",
        "    df_books,\n",
        "    userid2idx,\n",
        "    bookid2idx,\n",
        "    idx2bookid\n",
        ")\n"
      ],
      "metadata": {
        "colab": {
          "base_uri": "https://localhost:8080/",
          "height": 1000
        },
        "id": "nu2GN6hp41e5",
        "outputId": "efca4d71-51cc-4fbc-e5de-9b6218cd87c6"
      },
      "execution_count": 150,
      "outputs": [
        {
          "output_type": "display_data",
          "data": {
            "text/plain": [
              "<IPython.core.display.HTML object>"
            ],
            "text/html": [
              "<h3>Already Interacted by User</h3><table><tr><th>Title</th><th>Cover</th></tr><tr><td>The Shadow of the Wind (The Cemetery of Forgotten Books,  #1)</td><td><img src='https://images.gr-assets.com/books/1344545047m/1232.jpg' width='60'></td></tr><tr><td>Never Let Me Go</td><td><img src='https://images.gr-assets.com/books/1353048590m/6334.jpg' width='60'></td></tr><tr><td>Housekeeping</td><td><img src='https://images.gr-assets.com/books/1327882949m/11741.jpg' width='60'></td></tr><tr><td>Gilead (Gilead, #1)</td><td><img src='https://images.gr-assets.com/books/1451555787m/68210.jpg' width='60'></td></tr><tr><td>The History of Love</td><td><img src='https://images.gr-assets.com/books/1327911009m/3867.jpg' width='60'></td></tr><tr><td>Balzac and the Little Chinese Seamstress</td><td><img src='https://images.gr-assets.com/books/1403188885m/533465.jpg' width='60'></td></tr><tr><td>West with the Night</td><td><img src='https://images.gr-assets.com/books/1368204688m/1624.jpg' width='60'></td></tr><tr><td>Reading Lolita in Tehran</td><td><img src='https://images.gr-assets.com/books/1397751318m/7603.jpg' width='60'></td></tr><tr><td>The Kite Runner</td><td><img src='https://images.gr-assets.com/books/1484565687m/77203.jpg' width='60'></td></tr><tr><td>The Stone Diaries</td><td><img src='https://images.gr-assets.com/books/1285159303m/77554.jpg' width='60'></td></tr><tr><td>Divine Secrets of the Ya-Ya Sisterhood</td><td><img src='https://images.gr-assets.com/books/1408313524m/137791.jpg' width='60'></td></tr><tr><td>Cry to Heaven</td><td><img src='https://images.gr-assets.com/books/1385216547m/31335.jpg' width='60'></td></tr><tr><td>The Alchemist</td><td><img src='https://images.gr-assets.com/books/1483412266m/865.jpg' width='60'></td></tr><tr><td>The Curious Incident of the Dog in the Night-Time</td><td><img src='https://images.gr-assets.com/books/1479863624m/1618.jpg' width='60'></td></tr><tr><td>Girl with a Pearl Earring</td><td><img src='https://images.gr-assets.com/books/1327197580m/2865.jpg' width='60'></td></tr><tr><td>Pride and Prejudice</td><td><img src='https://images.gr-assets.com/books/1320399351m/1885.jpg' width='60'></td></tr><tr><td>To Kill a Mockingbird</td><td><img src='https://images.gr-assets.com/books/1361975680m/2657.jpg' width='60'></td></tr><tr><td>The Secret Life of Bees</td><td><img src='https://images.gr-assets.com/books/1473454532m/37435.jpg' width='60'></td></tr><tr><td>Antigone (The Theban Plays, #3)</td><td><img src='https://images.gr-assets.com/books/1486701308m/7728.jpg' width='60'></td></tr><tr><td>Ender's Game (Ender's Saga, #1)</td><td><img src='https://images.gr-assets.com/books/1408303130m/375802.jpg' width='60'></td></tr><tr><td>The Count of Monte Cristo</td><td><img src='https://images.gr-assets.com/books/1309203605m/7126.jpg' width='60'></td></tr><tr><td>The Giver (The Giver, #1)</td><td><img src='https://images.gr-assets.com/books/1342493368m/3636.jpg' width='60'></td></tr><tr><td>The Handmaid's Tale</td><td><img src='https://images.gr-assets.com/books/1498057733m/38447.jpg' width='60'></td></tr><tr><td>1984</td><td><img src='https://images.gr-assets.com/books/1348990566m/5470.jpg' width='60'></td></tr><tr><td>Gone with the Wind</td><td><img src='https://images.gr-assets.com/books/1328025229m/18405.jpg' width='60'></td></tr><tr><td>The Death of Ivan Ilych</td><td><img src='https://images.gr-assets.com/books/1336967150m/18386.jpg' width='60'></td></tr><tr><td>Jane Eyre</td><td><img src='https://images.gr-assets.com/books/1327867269m/10210.jpg' width='60'></td></tr><tr><td>The Fountainhead</td><td><img src='https://images.gr-assets.com/books/1491163636m/2122.jpg' width='60'></td></tr><tr><td>The Idiot</td><td><img src='https://images.gr-assets.com/books/1327865902m/12505.jpg' width='60'></td></tr><tr><td>A Thousand Splendid Suns</td><td><img src='https://images.gr-assets.com/books/1345958969m/128029.jpg' width='60'></td></tr><tr><td>Water for Elephants</td><td><img src='https://images.gr-assets.com/books/1494428973m/43641.jpg' width='60'></td></tr><tr><td>The Lovely Bones</td><td><img src='https://images.gr-assets.com/books/1457810586m/12232938.jpg' width='60'></td></tr><tr><td>Middlesex</td><td><img src='https://images.gr-assets.com/books/1437029776m/2187.jpg' width='60'></td></tr><tr><td>The Help</td><td><img src='https://images.gr-assets.com/books/1346100365m/4667024.jpg' width='60'></td></tr><tr><td>The Girl with the Dragon Tattoo (Millennium, #1)</td><td><img src='https://images.gr-assets.com/books/1327868566m/2429135.jpg' width='60'></td></tr><tr><td>Three Cups of Tea: One Man's Mission to Promote Peace ... One School at a Time</td><td><img src='https://images.gr-assets.com/books/1395407074m/49436.jpg' width='60'></td></tr><tr><td>Snow Flower and the Secret Fan</td><td><img src='https://images.gr-assets.com/books/1327880508m/1103.jpg' width='60'></td></tr><tr><td>The Namesake</td><td><img src='https://images.gr-assets.com/books/1480106986m/33917.jpg' width='60'></td></tr><tr><td>The Last Lecture</td><td><img src='https://images.gr-assets.com/books/1388075896m/2318271.jpg' width='60'></td></tr><tr><td>The Girl Who Played with Fire (Millennium, #2)</td><td><img src='https://images.gr-assets.com/books/1351778881m/5060378.jpg' width='60'></td></tr><tr><td>The Art of Racing in the Rain</td><td><img src='https://images.gr-assets.com/books/1377206302m/3153910.jpg' width='60'></td></tr><tr><td>Mystic River</td><td><img src='https://images.gr-assets.com/books/1407109549m/21671.jpg' width='60'></td></tr><tr><td>The Girl Who Kicked the Hornet's Nest (Millennium, #3)</td><td><img src='https://images.gr-assets.com/books/1327708260m/6892870.jpg' width='60'></td></tr><tr><td>Unaccustomed Earth</td><td><img src='https://images.gr-assets.com/books/1320398140m/85301.jpg' width='60'></td></tr><tr><td>Little Bee</td><td><img src='https://images.gr-assets.com/books/1344401905m/6948436.jpg' width='60'></td></tr><tr><td>The Giving Tree</td><td><img src='https://images.gr-assets.com/books/1174210942m/370493.jpg' width='60'></td></tr><tr><td>The Chronicles of Narnia (Chronicles of Narnia, #1-7)</td><td><img src='https://images.gr-assets.com/books/1449868701m/11127.jpg' width='60'></td></tr><tr><td>Crime and Punishment</td><td><img src='https://images.gr-assets.com/books/1382846449m/7144.jpg' width='60'></td></tr><tr><td>Where the Wild Things Are</td><td><img src='https://images.gr-assets.com/books/1384434560m/19543.jpg' width='60'></td></tr><tr><td>The Picture of Dorian Gray</td><td><img src='https://images.gr-assets.com/books/1424596966m/5297.jpg' width='60'></td></tr><tr><td>East of Eden</td><td><img src='https://images.gr-assets.com/books/1441547516m/4406.jpg' width='60'></td></tr><tr><td>Sense and Sensibility</td><td><img src='https://images.gr-assets.com/books/1397245675m/14935.jpg' width='60'></td></tr><tr><td>The Poisonwood Bible</td><td><img src='https://images.gr-assets.com/books/1412242487m/7244.jpg' width='60'></td></tr><tr><td>Emma</td><td><img src='https://images.gr-assets.com/books/1373627931m/6969.jpg' width='60'></td></tr><tr><td>The Brothers Karamazov</td><td><img src='https://images.gr-assets.com/books/1427728126m/4934.jpg' width='60'></td></tr><tr><td>A Prayer for Owen Meany</td><td><img src='https://images.gr-assets.com/books/1260470010m/4473.jpg' width='60'></td></tr><tr><td>War and Peace</td><td><img src='https://images.gr-assets.com/books/1413215930m/656.jpg' width='60'></td></tr><tr><td>The Unbearable Lightness of Being</td><td><img src='https://images.gr-assets.com/books/1265401884m/9717.jpg' width='60'></td></tr><tr><td>The Shining (The Shining #1)</td><td><img src='https://images.gr-assets.com/books/1353277730m/11588.jpg' width='60'></td></tr><tr><td>The Clan of the Cave Bear (Earth's Children, #1)</td><td><img src='https://images.gr-assets.com/books/1385331302m/1295.jpg' width='60'></td></tr><tr><td>The Art of Fielding</td><td><img src='https://images.gr-assets.com/books/1327882787m/10996342.jpg' width='60'></td></tr><tr><td>Midnight's Children</td><td><img src='https://images.gr-assets.com/books/1371063511m/14836.jpg' width='60'></td></tr><tr><td>A Man Without a Country</td><td><img src='https://images.gr-assets.com/books/1330997432m/4979.jpg' width='60'></td></tr><tr><td>My Brilliant Friend (The Neapolitan Novels #1)</td><td><img src='https://images.gr-assets.com/books/1343064947m/13586707.jpg' width='60'></td></tr><tr><td>The Story of a New Name (The Neapolitan Novels #2)</td><td><img src='https://images.gr-assets.com/books/1501012849m/17465515.jpg' width='60'></td></tr><tr><td>Those Who Leave and Those Who Stay (The Neapolitan Novels #3)</td><td><img src='https://images.gr-assets.com/books/1411338052m/23156040.jpg' width='60'></td></tr><tr><td>Brunelleschi's Dome: How a Renaissance Genius Reinvented Architecture</td><td><img src='https://images.gr-assets.com/books/1309288056m/148821.jpg' width='60'></td></tr><tr><td>Caleb's Crossing</td><td><img src='https://images.gr-assets.com/books/1303284000m/9684523.jpg' width='60'></td></tr><tr><td>Big Little Lies</td><td><img src='https://images.gr-assets.com/books/1492239430m/19486412.jpg' width='60'></td></tr><tr><td>The Invention of Wings</td><td><img src='https://images.gr-assets.com/books/1386699861m/18079776.jpg' width='60'></td></tr><tr><td>The Paris Wife</td><td><img src='https://images.gr-assets.com/books/1320545874m/8683812.jpg' width='60'></td></tr><tr><td>Year of Wonders</td><td><img src='https://images.gr-assets.com/books/1327936622m/4965.jpg' width='60'></td></tr><tr><td>Atonement</td><td><img src='https://images.gr-assets.com/books/1320449708m/6867.jpg' width='60'></td></tr></table>"
            ]
          },
          "metadata": {}
        }
      ]
    }
  ]
}