{
  "cells": [
    {
      "cell_type": "code",
      "execution_count": 1,
      "metadata": {
        "colab": {
          "base_uri": "https://localhost:8080/"
        },
        "id": "EyTXQ2XR9rQU",
        "outputId": "7e1f1e97-f1ee-46d0-ec6a-5dab9006c97a"
      },
      "outputs": [
        {
          "name": "stdout",
          "output_type": "stream",
          "text": [
            "Collecting implicit\n",
            "  Downloading implicit-0.7.2-cp311-cp311-manylinux2014_x86_64.whl.metadata (6.1 kB)\n",
            "Requirement already satisfied: numpy>=1.17.0 in /usr/local/lib/python3.11/dist-packages (from implicit) (2.0.2)\n",
            "Requirement already satisfied: scipy>=0.16 in /usr/local/lib/python3.11/dist-packages (from implicit) (1.15.2)\n",
            "Requirement already satisfied: tqdm>=4.27 in /usr/local/lib/python3.11/dist-packages (from implicit) (4.67.1)\n",
            "Requirement already satisfied: threadpoolctl in /usr/local/lib/python3.11/dist-packages (from implicit) (3.6.0)\n",
            "Downloading implicit-0.7.2-cp311-cp311-manylinux2014_x86_64.whl (8.9 MB)\n",
            "\u001b[?25l   \u001b[90m━━━━━━━━━━━━━━━━━━━━━━━━━━━━━━━━━━━━━━━━\u001b[0m \u001b[32m0.0/8.9 MB\u001b[0m \u001b[31m?\u001b[0m eta \u001b[36m-:--:--\u001b[0m\r\u001b[2K   \u001b[91m━━━━━━━━━━━━━━━━━━━\u001b[0m\u001b[90m╺\u001b[0m\u001b[90m━━━━━━━━━━━━━━━━━━━━\u001b[0m \u001b[32m4.3/8.9 MB\u001b[0m \u001b[31m129.8 MB/s\u001b[0m eta \u001b[36m0:00:01\u001b[0m\r\u001b[2K   \u001b[91m━━━━━━━━━━━━━━━━━━━━━━━━━━━━━━━━━━━━━\u001b[0m\u001b[90m╺\u001b[0m\u001b[90m━━\u001b[0m \u001b[32m8.2/8.9 MB\u001b[0m \u001b[31m116.4 MB/s\u001b[0m eta \u001b[36m0:00:01\u001b[0m\r\u001b[2K   \u001b[91m━━━━━━━━━━━━━━━━━━━━━━━━━━━━━━━━━━━━━━━\u001b[0m\u001b[91m╸\u001b[0m \u001b[32m8.9/8.9 MB\u001b[0m \u001b[31m113.9 MB/s\u001b[0m eta \u001b[36m0:00:01\u001b[0m\r\u001b[2K   \u001b[90m━━━━━━━━━━━━━━━━━━━━━━━━━━━━━━━━━━━━━━━━\u001b[0m \u001b[32m8.9/8.9 MB\u001b[0m \u001b[31m78.9 MB/s\u001b[0m eta \u001b[36m0:00:00\u001b[0m\n",
            "\u001b[?25hInstalling collected packages: implicit\n",
            "Successfully installed implicit-0.7.2\n"
          ]
        }
      ],
      "source": [
        "!pip install implicit"
      ]
    },
    {
      "cell_type": "code",
      "execution_count": 1,
      "metadata": {
        "id": "ZZDB8mAm9kor"
      },
      "outputs": [],
      "source": [
        "import numpy as np\n",
        "import json\n",
        "import requests\n",
        "import pandas as pd\n",
        "import implicit\n",
        "import scipy"
      ]
    },
    {
      "cell_type": "markdown",
      "metadata": {
        "id": "VawtufYHA3pt"
      },
      "source": [
        "# Función para calcular métricas"
      ]
    },
    {
      "cell_type": "code",
      "execution_count": null,
      "metadata": {
        "id": "dCLBF1Eq_0ZI"
      },
      "outputs": [],
      "source": [
        "# funcion de una issue de implicit cuando no funcionan las metricas de implicit\n",
        "# https://github.com/benfred/implicit/issues/726\n",
        "def ranking_metrics_at_k(model, train_user_items, test_user_items, K=10, show_progress=True):\n",
        "    \"\"\"\n",
        "    Calculates ranking metrics (Precision@K, MAP@K, NDCG@K, AUC) for a trained model.\n",
        "\n",
        "    Parameters:\n",
        "        model : Trained ALS model (or other Implicit model).\n",
        "        train_user_items : csr_matrix\n",
        "            User-item interaction matrix used for training.\n",
        "        test_user_items : csr_matrix\n",
        "            User-item interaction matrix for evaluation.\n",
        "        K : int\n",
        "            Number of items to evaluate.\n",
        "        show_progress : bool\n",
        "            Show a progress bar during evaluation.\n",
        "\n",
        "    Returns:\n",
        "        dict : Dictionary with precision, MAP, NDCG, and AUC scores.\n",
        "    \"\"\"\n",
        "\n",
        "    # Ensure matrices are in CSR format\n",
        "    train_user_items = train_user_items.tocsr()\n",
        "    test_user_items = test_user_items.tocsr()\n",
        "\n",
        "    num_users, num_items = test_user_items.shape\n",
        "    relevant = 0\n",
        "    total_precision_div = 0\n",
        "    total_map = 0\n",
        "    total_ndcg = 0\n",
        "    total_auc = 0\n",
        "    total_users = 0\n",
        "\n",
        "    # Compute cumulative gain for NDCG normalization\n",
        "    cg = 1.0 / np.log2(np.arange(2, K + 2))  # Discount factor\n",
        "    cg_sum = np.cumsum(cg)  # Ideal DCG normalization\n",
        "\n",
        "    # Get users with at least one item in the test set\n",
        "    users_with_test_data = np.where(np.diff(test_user_items.indptr) > 0)[0]\n",
        "\n",
        "    # Progress bar\n",
        "    #progress = tqdm.tqdm(total=len(users_with_test_data), disable=not show_progress)\n",
        "\n",
        "    batch_size = 1000\n",
        "    start_idx = 0\n",
        "\n",
        "    while start_idx < len(users_with_test_data):\n",
        "        batch_users = users_with_test_data[start_idx:start_idx + batch_size]\n",
        "        recommended_items, _ = model.recommend(batch_users, train_user_items[batch_users], N=K)\n",
        "        start_idx += batch_size\n",
        "\n",
        "        for user_idx, user_id in enumerate(batch_users):\n",
        "            test_items = set(test_user_items.indices[test_user_items.indptr[user_id]:test_user_items.indptr[user_id + 1]])\n",
        "\n",
        "            if not test_items:\n",
        "                continue  # Skip users without test data\n",
        "\n",
        "            num_relevant = len(test_items)\n",
        "            total_precision_div += min(K, num_relevant)\n",
        "\n",
        "            ap = 0\n",
        "            hit_count = 0\n",
        "            auc = 0\n",
        "            idcg = cg_sum[min(K, num_relevant) - 1]  # Ideal Discounted Cumulative Gain (IDCG)\n",
        "            num_negative = num_items - num_relevant\n",
        "\n",
        "            for rank, item in enumerate(recommended_items[user_idx]):\n",
        "                if item in test_items:\n",
        "                    relevant += 1\n",
        "                    hit_count += 1\n",
        "                    ap += hit_count / (rank + 1)\n",
        "                    total_ndcg += cg[rank] / idcg\n",
        "                else:\n",
        "                    auc += hit_count  # Accumulate hits for AUC calculation\n",
        "\n",
        "            auc += ((hit_count + num_relevant) / 2.0) * (num_negative - (K - hit_count))\n",
        "            total_map += ap / min(K, num_relevant)\n",
        "            total_auc += auc / (num_relevant * num_negative)\n",
        "            total_users += 1\n",
        "\n",
        "        #progress.update(len(batch_users))\n",
        "\n",
        "    #progress.close()\n",
        "\n",
        "    # Compute final metrics\n",
        "    precision = relevant / total_precision_div if total_precision_div > 0 else 0\n",
        "    mean_ap = total_map / total_users if total_users > 0 else 0\n",
        "    mean_ndcg = total_ndcg / total_users if total_users > 0 else 0\n",
        "    mean_auc = total_auc / total_users if total_users > 0 else 0\n",
        "\n",
        "    return {\n",
        "        \"precision\": precision,\n",
        "        \"map\": mean_ap,\n",
        "        \"ndcg\": mean_ndcg,\n",
        "        \"auc\": mean_auc\n",
        "    }\n",
        "\n",
        "# funcion para calcular metricas dadas las recomendaciones ya hechas\n",
        "def recs_ranking_metrics_at_k(recommendations, test_user_items, K=10):\n",
        "\n",
        "    # Ensure matrices are in CSR format\n",
        "    #train_user_items = train_user_items.tocsr()\n",
        "    test_user_items = test_user_items.tocsr()\n",
        "\n",
        "    num_users, num_items = test_user_items.shape\n",
        "    relevant = 0\n",
        "    total_precision_div = 0\n",
        "    total_map = 0\n",
        "    total_ndcg = 0\n",
        "    total_auc = 0\n",
        "    total_users = 0\n",
        "\n",
        "    # Compute cumulative gain for NDCG normalization\n",
        "    cg = 1.0 / np.log2(np.arange(2, K + 2))  # Discount factor\n",
        "    cg_sum = np.cumsum(cg)  # Ideal DCG normalization\n",
        "\n",
        "    # Get users with at least one item in the test set\n",
        "    users_with_test_data = np.where(np.diff(test_user_items.indptr) > 0)[0]\n",
        "\n",
        "    # Progress bar\n",
        "    #progress = tqdm.tqdm(total=len(users_with_test_data), disable=not show_progress)\n",
        "\n",
        "    batch_size = 1000\n",
        "    start_idx = 0\n",
        "\n",
        "    while start_idx < len(users_with_test_data):\n",
        "        batch_users = users_with_test_data[start_idx:start_idx + batch_size]\n",
        "        #recommended_items, _ = model.recommend(batch_users, train_user_items[batch_users], N=K)\n",
        "        recommended_items = recommendations[start_idx:start_idx + batch_size]\n",
        "        start_idx += batch_size\n",
        "\n",
        "        for user_idx, user_id in enumerate(batch_users):\n",
        "            test_items = set(test_user_items.indices[test_user_items.indptr[user_id]:test_user_items.indptr[user_id + 1]])\n",
        "\n",
        "            if not test_items:\n",
        "                continue  # Skip users without test data\n",
        "\n",
        "            num_relevant = len(test_items)\n",
        "            total_precision_div += min(K, num_relevant)\n",
        "\n",
        "            ap = 0\n",
        "            hit_count = 0\n",
        "            auc = 0\n",
        "            idcg = cg_sum[min(K, num_relevant) - 1]  # Ideal Discounted Cumulative Gain (IDCG)\n",
        "            num_negative = num_items - num_relevant\n",
        "\n",
        "            for rank, item in enumerate(recommended_items[user_idx]):\n",
        "                if item in test_items:\n",
        "                    relevant += 1\n",
        "                    hit_count += 1\n",
        "                    ap += hit_count / (rank + 1)\n",
        "                    total_ndcg += cg[rank] / idcg\n",
        "                else:\n",
        "                    auc += hit_count  # Accumulate hits for AUC calculation\n",
        "\n",
        "            auc += ((hit_count + num_relevant) / 2.0) * (num_negative - (K - hit_count))\n",
        "            total_map += ap / min(K, num_relevant)\n",
        "            total_auc += auc / (num_relevant * num_negative)\n",
        "            total_users += 1\n",
        "\n",
        "        #progress.update(len(batch_users))\n",
        "\n",
        "    #progress.close()\n",
        "\n",
        "    # Compute final metrics\n",
        "    precision = relevant / total_precision_div if total_precision_div > 0 else 0\n",
        "    mean_ap = total_map / total_users if total_users > 0 else 0\n",
        "    mean_ndcg = total_ndcg / total_users if total_users > 0 else 0\n",
        "    mean_auc = total_auc / total_users if total_users > 0 else 0\n",
        "\n",
        "    return {\n",
        "        \"precision\": precision,\n",
        "        \"map\": mean_ap,\n",
        "        \"ndcg\": mean_ndcg,\n",
        "        \"auc\": mean_auc\n",
        "    }\n",
        "\n",
        "def custom_ranking_metrics_at_k(rec_func, train_user_items, test_user_items, K=10, show_progress=False):\n",
        "\n",
        "    # Ensure matrices are in CSR format\n",
        "    train_user_items = train_user_items.tocsr()\n",
        "    test_user_items = test_user_items.tocsr()\n",
        "\n",
        "    num_users, num_items = test_user_items.shape\n",
        "    relevant = 0\n",
        "    total_precision_div = 0\n",
        "    total_map = 0\n",
        "    total_ndcg = 0\n",
        "    total_auc = 0\n",
        "    total_users = 0\n",
        "\n",
        "    # Compute cumulative gain for NDCG normalization\n",
        "    cg = 1.0 / np.log2(np.arange(2, K + 2))  # Discount factor\n",
        "    cg_sum = np.cumsum(cg)  # Ideal DCG normalization\n",
        "\n",
        "    # Get users with at least one item in the test set\n",
        "    users_with_test_data = np.where(np.diff(test_user_items.indptr) > 0)[0]\n",
        "\n",
        "    # Progress bar\n",
        "    #progress = tqdm.tqdm(total=len(users_with_test_data), disable=not show_progress)\n",
        "\n",
        "    batch_size = 1000\n",
        "    start_idx = 0\n",
        "\n",
        "    while start_idx < len(users_with_test_data):\n",
        "        batch_users = users_with_test_data[start_idx:start_idx + batch_size]\n",
        "        recommended_items = rec_func(batch_users, N=K)\n",
        "        start_idx += batch_size\n",
        "\n",
        "        for user_idx, user_id in enumerate(batch_users):\n",
        "            test_items = set(test_user_items.indices[test_user_items.indptr[user_id]:test_user_items.indptr[user_id + 1]])\n",
        "\n",
        "            if not test_items:\n",
        "                continue  # Skip users without test data\n",
        "\n",
        "            num_relevant = len(test_items)\n",
        "            total_precision_div += min(K, num_relevant)\n",
        "\n",
        "            ap = 0\n",
        "            hit_count = 0\n",
        "            auc = 0\n",
        "            idcg = cg_sum[min(K, num_relevant) - 1]  # Ideal Discounted Cumulative Gain (IDCG)\n",
        "            num_negative = num_items - num_relevant\n",
        "\n",
        "            for rank, item in enumerate(recommended_items[user_idx]):\n",
        "                if item in test_items:\n",
        "                    relevant += 1\n",
        "                    hit_count += 1\n",
        "                    ap += hit_count / (rank + 1)\n",
        "                    total_ndcg += cg[rank] / idcg\n",
        "                else:\n",
        "                    auc += hit_count  # Accumulate hits for AUC calculation\n",
        "\n",
        "            auc += ((hit_count + num_relevant) / 2.0) * (num_negative - (K - hit_count))\n",
        "            total_map += ap / min(K, num_relevant)\n",
        "            total_auc += auc / (num_relevant * num_negative)\n",
        "            total_users += 1\n",
        "\n",
        "        #progress.update(len(batch_users))\n",
        "\n",
        "    #progress.close()\n",
        "\n",
        "    # Compute final metrics\n",
        "    precision = relevant / total_precision_div if total_precision_div > 0 else 0\n",
        "    mean_ap = total_map / total_users if total_users > 0 else 0\n",
        "    mean_ndcg = total_ndcg / total_users if total_users > 0 else 0\n",
        "    mean_auc = total_auc / total_users if total_users > 0 else 0\n",
        "\n",
        "    return {\n",
        "        \"precision\": precision,\n",
        "        \"map\": mean_ap,\n",
        "        \"ndcg\": mean_ndcg,\n",
        "        \"auc\": mean_auc\n",
        "    }"
      ]
    },
    {
      "cell_type": "markdown",
      "metadata": {
        "id": "ISXasZ-sA7Pb"
      },
      "source": [
        "# Datos"
      ]
    },
    {
      "cell_type": "markdown",
      "metadata": {
        "id": "AxMGoYfqA8mW"
      },
      "source": [
        "## Descarga"
      ]
    },
    {
      "cell_type": "code",
      "execution_count": 3,
      "metadata": {
        "colab": {
          "base_uri": "https://localhost:8080/"
        },
        "id": "RQdMhUks8yM-",
        "outputId": "936d7e07-a02d-44a7-dde9-668bb1aff88c"
      },
      "outputs": [
        {
          "name": "stdout",
          "output_type": "stream",
          "text": [
            "--2025-05-09 21:33:23--  https://www.dropbox.com/s/dqeqpsr0vdvmcy0/goodreads_past_interactions.json?dl=0\n",
            "Resolving www.dropbox.com (www.dropbox.com)... 162.125.6.18, 2620:100:601c:18::a27d:612\n",
            "Connecting to www.dropbox.com (www.dropbox.com)|162.125.6.18|:443... connected.\n",
            "HTTP request sent, awaiting response... 302 Found\n",
            "Location: https://www.dropbox.com/scl/fi/4crrafugs93pzf3xshahz/goodreads_past_interactions.json?rlkey=w58hjav618jk0iyti1c4f85ad&dl=0 [following]\n",
            "--2025-05-09 21:33:23--  https://www.dropbox.com/scl/fi/4crrafugs93pzf3xshahz/goodreads_past_interactions.json?rlkey=w58hjav618jk0iyti1c4f85ad&dl=0\n",
            "Reusing existing connection to www.dropbox.com:443.\n",
            "HTTP request sent, awaiting response... 302 Found\n",
            "Location: https://uc58e576bf7ff18238ca58990d1a.dl.dropboxusercontent.com/cd/0/inline/CpaPwtSW76uQE3urNpPBkZXyuqVWzO_mvmRK8ogtf4oFFChPx4jpU1F4HWBWyQNp5I0vNti9Jx6N9hYayTMhlS6AvDN5l2RCQu1hsCz1aS-dJvnEFT5HEhYPbAWAaBcgRjPPrD_2epJ2XoLKMvvNi_zA/file# [following]\n",
            "--2025-05-09 21:33:24--  https://uc58e576bf7ff18238ca58990d1a.dl.dropboxusercontent.com/cd/0/inline/CpaPwtSW76uQE3urNpPBkZXyuqVWzO_mvmRK8ogtf4oFFChPx4jpU1F4HWBWyQNp5I0vNti9Jx6N9hYayTMhlS6AvDN5l2RCQu1hsCz1aS-dJvnEFT5HEhYPbAWAaBcgRjPPrD_2epJ2XoLKMvvNi_zA/file\n",
            "Resolving uc58e576bf7ff18238ca58990d1a.dl.dropboxusercontent.com (uc58e576bf7ff18238ca58990d1a.dl.dropboxusercontent.com)... 162.125.4.15, 2620:100:601c:15::a27d:60f\n",
            "Connecting to uc58e576bf7ff18238ca58990d1a.dl.dropboxusercontent.com (uc58e576bf7ff18238ca58990d1a.dl.dropboxusercontent.com)|162.125.4.15|:443... connected.\n",
            "HTTP request sent, awaiting response... 200 OK\n",
            "Length: 17685887 (17M) [text/plain]\n",
            "Saving to: ‘goodreads_past_interactions.json’\n",
            "\n",
            "goodreads_past_inte 100%[===================>]  16.87M  30.4MB/s    in 0.6s    \n",
            "\n",
            "2025-05-09 21:33:25 (30.4 MB/s) - ‘goodreads_past_interactions.json’ saved [17685887/17685887]\n",
            "\n",
            "--2025-05-09 21:33:25--  https://www.dropbox.com/s/rjtzhmb2zbpp30q/goodreads_test_interactions.json?dl=0\n",
            "Resolving www.dropbox.com (www.dropbox.com)... 162.125.4.18, 2620:100:601c:18::a27d:612\n",
            "Connecting to www.dropbox.com (www.dropbox.com)|162.125.4.18|:443... connected.\n",
            "HTTP request sent, awaiting response... 302 Found\n",
            "Location: https://www.dropbox.com/scl/fi/slomhi7icrvh57rbo8e92/goodreads_test_interactions.json?rlkey=9xe06jxsx4hncbg9w9wekj93l&dl=0 [following]\n",
            "--2025-05-09 21:33:25--  https://www.dropbox.com/scl/fi/slomhi7icrvh57rbo8e92/goodreads_test_interactions.json?rlkey=9xe06jxsx4hncbg9w9wekj93l&dl=0\n",
            "Reusing existing connection to www.dropbox.com:443.\n",
            "HTTP request sent, awaiting response... 302 Found\n",
            "Location: https://uc15ac5f785e10a108d218b1557e.dl.dropboxusercontent.com/cd/0/inline/CpZ1509fg0-pCuYFv4-0VKJM4S7pfOswvh3A5BYhlpzNXkIpJLDvcdc18qw7J5B8v2AszjAv9yaob4St2Rj7IorpZaDUEPaiFz9cJhMC3-e6HYZY6Ick1uwRh-kYnWtB5k_1gsCwK1hPXVFXp1UxgBdP/file# [following]\n",
            "--2025-05-09 21:33:25--  https://uc15ac5f785e10a108d218b1557e.dl.dropboxusercontent.com/cd/0/inline/CpZ1509fg0-pCuYFv4-0VKJM4S7pfOswvh3A5BYhlpzNXkIpJLDvcdc18qw7J5B8v2AszjAv9yaob4St2Rj7IorpZaDUEPaiFz9cJhMC3-e6HYZY6Ick1uwRh-kYnWtB5k_1gsCwK1hPXVFXp1UxgBdP/file\n",
            "Resolving uc15ac5f785e10a108d218b1557e.dl.dropboxusercontent.com (uc15ac5f785e10a108d218b1557e.dl.dropboxusercontent.com)... 162.125.4.15, 2620:100:601c:15::a27d:60f\n",
            "Connecting to uc15ac5f785e10a108d218b1557e.dl.dropboxusercontent.com (uc15ac5f785e10a108d218b1557e.dl.dropboxusercontent.com)|162.125.4.15|:443... connected.\n",
            "HTTP request sent, awaiting response... 200 OK\n",
            "Length: 6111 (6.0K) [text/plain]\n",
            "Saving to: ‘goodreads_test_interactions.json’\n",
            "\n",
            "goodreads_test_inte 100%[===================>]   5.97K  --.-KB/s    in 0s      \n",
            "\n",
            "2025-05-09 21:33:26 (1.54 GB/s) - ‘goodreads_test_interactions.json’ saved [6111/6111]\n",
            "\n"
          ]
        }
      ],
      "source": [
        "!wget https://www.dropbox.com/s/dqeqpsr0vdvmcy0/goodreads_past_interactions.json?dl=0 -O goodreads_past_interactions.json\n",
        "!wget https://www.dropbox.com/s/rjtzhmb2zbpp30q/goodreads_test_interactions.json?dl=0 -O goodreads_test_interactions.json"
      ]
    },
    {
      "cell_type": "markdown",
      "metadata": {
        "id": "XbW_m356A-I0"
      },
      "source": [
        "## Cargar datos como diccionarios"
      ]
    },
    {
      "cell_type": "code",
      "execution_count": 3,
      "metadata": {
        "id": "_X-olbpu97FK"
      },
      "outputs": [],
      "source": [
        "# diccionario con id del usuario y id de libros con los que ha interactuado en el pasado\n",
        "with open('../../Datos/goodreads_past_interactions.json') as f:\n",
        "    user_interactions = json.load(f)\n",
        "\n",
        "# diccionario con id del usuario y id de libros para testear el modelo\n",
        "with open('../../Datos/goodreads_test_interactions.json') as f:\n",
        "    user_interactions_test = json.load(f)\n",
        "\n",
        "df_books = pd.read_csv('../../Datos/books.csv', sep=',')\n",
        "\n",
        "# dict index 2 book id and vice-versa for recommendation\n",
        "idx2bookid = {i: id_ for i, id_ in enumerate(df_books.book_id)}\n",
        "bookid2idx = {id_:i for i, id_ in enumerate(df_books.book_id)}\n",
        "\n",
        "idx2userid = {i: id_ for i, id_ in enumerate(user_interactions.keys())}\n",
        "userid2idx = {id_:i for i, id_ in enumerate(user_interactions.keys())}"
      ]
    },
    {
      "cell_type": "markdown",
      "metadata": {
        "id": "jDN3VgbmBBFY"
      },
      "source": [
        "## Convertir a matrices sparse para uso con Implicit"
      ]
    },
    {
      "cell_type": "code",
      "execution_count": 4,
      "metadata": {
        "id": "JVkJaw1u-ATO"
      },
      "outputs": [
        {
          "name": "stdout",
          "output_type": "stream",
          "text": [
            "Train shape:  (52821, 4287)\n",
            "Test shape: (52821, 4287)\n"
          ]
        }
      ],
      "source": [
        "from scipy.sparse import coo_matrix\n",
        "# convertimos diccionarios en matrices sparse (COO)\n",
        "rows = []\n",
        "cols = []\n",
        "data = []\n",
        "\n",
        "for user_id, book_ids in user_interactions.items():\n",
        "    for book_id in book_ids:\n",
        "        u_id = userid2idx[user_id]\n",
        "        b_id = bookid2idx[book_id]\n",
        "        rows.append(int(u_id))\n",
        "        cols.append(int(b_id))\n",
        "        data.append(1)\n",
        "\n",
        "max_user_id = max(rows)\n",
        "max_item_id = max(cols)\n",
        "\n",
        "# Crear matriz sparse\n",
        "user_item_matrix_train = coo_matrix((data, (rows, cols)), shape=(max_user_id + 1, max_item_id + 1))\n",
        "\n",
        "rows_test = []\n",
        "cols_test = []\n",
        "data_test = []\n",
        "\n",
        "for user_id, book_ids in user_interactions_test.items():\n",
        "    for book_id in book_ids:\n",
        "        u_id = userid2idx[user_id]\n",
        "        b_id = bookid2idx[book_id]\n",
        "        rows_test.append(int(u_id))\n",
        "        cols_test.append(int(b_id))\n",
        "        data_test.append(1)\n",
        "    \n",
        "max_user_id = max([max_user_id] + rows_test)\n",
        "max_item_id = max([max_item_id] + cols_test)\n",
        "\n",
        "# Crear matriz sparse\n",
        "user_item_matrix_test = coo_matrix((data_test, (rows_test, cols_test)), shape=(max_user_id + 1, max_item_id + 1))\n",
        "\n",
        "# convertimos a formato CSR\n",
        "user_item_matrix_train = user_item_matrix_train.tocsr()\n",
        "user_item_matrix_test = user_item_matrix_test.tocsr()\n",
        "\n",
        "print('Train shape: ' , user_item_matrix_train.shape)\n",
        "print('Test shape:' , user_item_matrix_test.shape)"
      ]
    },
    {
      "cell_type": "markdown",
      "metadata": {
        "id": "reHIdTuzBLKW"
      },
      "source": [
        "# Modelos Baseline"
      ]
    },
    {
      "cell_type": "markdown",
      "metadata": {
        "id": "Hy5rglqXBNYJ"
      },
      "source": [
        "## Implicit"
      ]
    },
    {
      "cell_type": "code",
      "execution_count": 5,
      "metadata": {
        "colab": {
          "base_uri": "https://localhost:8080/",
          "height": 103,
          "referenced_widgets": [
            "0095aafbe0444c21829eb4405d445055",
            "cce44cf3e78742eebfce2bd82701f366",
            "a242bcbfbdf345f69f89d7e8701f7a58",
            "af57cce8bfa845c0a178c59147471800",
            "f52ec3288bae427385eba7622f0df749",
            "c3ab115113e14fd2b624a0b3ed3f1381",
            "95522672de82494bb75478b7c8c9dd80",
            "74dc4763c30544c48ad61afc4656ce24",
            "5f398a001a494ddd8ada868419932cd7",
            "ed01ab1e3a644b0a972c4d584e6ea099",
            "5da615be046f47d59c104b56eb5b2964"
          ]
        },
        "id": "w712ogji_fxn",
        "outputId": "ab71f9d5-4e78-490f-a275-ab56183ddae0"
      },
      "outputs": [
        {
          "name": "stderr",
          "output_type": "stream",
          "text": [
            "/opt/homebrew/lib/python3.10/site-packages/implicit/cpu/als.py:95: RuntimeWarning: OpenBLAS is configured to use 8 threads. It is highly recommended to disable its internal threadpool by setting the environment variable 'OPENBLAS_NUM_THREADS=1' or by calling 'threadpoolctl.threadpool_limits(1, \"blas\")'. Having OpenBLAS use a threadpool can lead to severe performance issues here.\n",
            "  check_blas_config()\n"
          ]
        },
        {
          "data": {
            "application/vnd.jupyter.widget-view+json": {
              "model_id": "aa96942074284dfda669ba70350c5e90",
              "version_major": 2,
              "version_minor": 0
            },
            "text/plain": [
              "  0%|          | 0/15 [00:00<?, ?it/s]"
            ]
          },
          "metadata": {},
          "output_type": "display_data"
        }
      ],
      "source": [
        "model_ALS = implicit.als.AlternatingLeastSquares()\n",
        "model_ALS.fit(user_item_matrix_train)"
      ]
    },
    {
      "cell_type": "markdown",
      "metadata": {
        "id": "AUdyvk3zHhDS"
      },
      "source": [
        "Tiempo de ejecución: 1 minuto 35 segundos"
      ]
    },
    {
      "cell_type": "code",
      "execution_count": 7,
      "metadata": {
        "colab": {
          "base_uri": "https://localhost:8080/",
          "height": 49,
          "referenced_widgets": [
            "304f557d6ac644faa1596132d3e8ff5f",
            "9079f5e81d4e405dac0691c50d023071",
            "d1dbd884755343ad89de6cb9dcbb2a11",
            "6991a3a4cd454fb5a2c42d6f3181ec7b",
            "1bfe89409f244fcdad668f600b11707b",
            "0526de0575734e2ea140828b278ae442",
            "30f754e2372e4e1e80fcbc08b2e621b3",
            "577169807fac4b7c8c0242e68dad4bef",
            "472fe252c667445eb034b9bcf15a11c8",
            "cc6f6ca9bfd741c3b11237b74a81216a",
            "6cc67056cd414aebae9c235300dcc583"
          ]
        },
        "id": "uqvLy2uf_o20",
        "outputId": "94eece5e-db97-420c-8d3c-0b29f007afb8"
      },
      "outputs": [
        {
          "data": {
            "application/vnd.jupyter.widget-view+json": {
              "model_id": "63fbbc33f7ac474e97b024156ea095c5",
              "version_major": 2,
              "version_minor": 0
            },
            "text/plain": [
              "  0%|          | 0/100 [00:00<?, ?it/s]"
            ]
          },
          "metadata": {},
          "output_type": "display_data"
        }
      ],
      "source": [
        "model_BPR = implicit.bpr.BayesianPersonalizedRanking()\n",
        "model_BPR.fit(user_item_matrix_train)"
      ]
    },
    {
      "cell_type": "code",
      "execution_count": 8,
      "metadata": {},
      "outputs": [
        {
          "name": "stdout",
          "output_type": "stream",
          "text": [
            "Metrics ALS: {'precision': 0.211, 'map': 0.11417142857142855, 'ndcg': 0.23588808696493285, 'auc': 0.6046135141454291}\n"
          ]
        }
      ],
      "source": [
        "K = 10\n",
        "metrics_ALS = ranking_metrics_at_k(model_ALS, user_item_matrix_train, user_item_matrix_test, K=K)\n",
        "print('Metrics ALS:', metrics_ALS)"
      ]
    },
    {
      "cell_type": "code",
      "execution_count": 22,
      "metadata": {},
      "outputs": [],
      "source": [
        "def rec_function(user_idxs, N=10):\n",
        "    recommendations, _ = model_ALS.recommend(user_idxs, user_item_matrix_train[user_idxs], N=N)\n",
        "    return recommendations"
      ]
    },
    {
      "cell_type": "code",
      "execution_count": 23,
      "metadata": {},
      "outputs": [
        {
          "name": "stdout",
          "output_type": "stream",
          "text": [
            "Metrics ALS with custom function: {'precision': 0.211, 'map': 0.11417142857142855, 'ndcg': 0.23588808696493285, 'auc': 0.6046135141454291}\n"
          ]
        }
      ],
      "source": [
        "print('Metrics ALS with custom function:', custom_ranking_metrics_at_k(rec_function, user_item_matrix_train, user_item_matrix_test, K=K))"
      ]
    },
    {
      "cell_type": "markdown",
      "metadata": {
        "id": "ygQ9RgznHlVB"
      },
      "source": [
        "Tiempo de ejecución: 2 minutos y 3 segundos"
      ]
    },
    {
      "cell_type": "code",
      "execution_count": 8,
      "metadata": {
        "colab": {
          "base_uri": "https://localhost:8080/"
        },
        "id": "Jv-pD0yN_uun",
        "outputId": "35214505-154b-42a4-acc2-f810022b0e32"
      },
      "outputs": [
        {
          "name": "stdout",
          "output_type": "stream",
          "text": [
            "ALS {'precision': 0.208, 'map': 0.1191849206349206, 'ndcg': 0.24141778969141905, 'auc': 0.6031206453121348}\n",
            "BPR {'precision': 0.097, 'map': 0.04980198412698411, 'ndcg': 0.11422194079292641, 'auc': 0.5474715922375496}\n"
          ]
        }
      ],
      "source": [
        "K = 10\n",
        "metrics_ALS = ranking_metrics_at_k(model_ALS, user_item_matrix_train, user_item_matrix_test, K=K)\n",
        "metrics_BPR = ranking_metrics_at_k(model_BPR, user_item_matrix_train, user_item_matrix_test, K=K)\n",
        "print(\"ALS\", metrics_ALS)\n",
        "print(\"BPR\", metrics_BPR)"
      ]
    },
    {
      "cell_type": "markdown",
      "metadata": {
        "id": "r7CH4TMQBP0m"
      },
      "source": [
        "## Random"
      ]
    },
    {
      "cell_type": "code",
      "execution_count": 11,
      "metadata": {
        "colab": {
          "base_uri": "https://localhost:8080/"
        },
        "id": "yLhVZOQnBQ4F",
        "outputId": "ee99138e-ce4a-4677-c2dd-ef298d4117cc"
      },
      "outputs": [
        {
          "name": "stdout",
          "output_type": "stream",
          "text": [
            "{'precision': 0.0, 'map': 0.0, 'ndcg': 0.0, 'auc': 0.49883095627776447}\n"
          ]
        }
      ],
      "source": [
        "# recomendamos libros aleatorios para los usuarios del set de testeo\n",
        "random_recs = []\n",
        "books_id_set = set(range(max_item_id + 1))\n",
        "for user in user_interactions_test:\n",
        "    u_id = userid2idx[user]\n",
        "    train_books_id_set = set(np.nonzero(user_item_matrix_train[u_id].toarray())[1])\n",
        "    available_books_id = books_id_set - train_books_id_set\n",
        "    available_books_id = list(available_books_id)\n",
        "    random_recs.append(np.random.choice(available_books_id, size=K, replace=False))\n",
        "\n",
        "random_metrics = recs_ranking_metrics_at_k(random_recs, user_item_matrix_test, K=K)\n",
        "print(random_metrics)"
      ]
    },
    {
      "cell_type": "markdown",
      "metadata": {
        "id": "yDWfbFITDm1p"
      },
      "source": [
        "## Item-Item"
      ]
    },
    {
      "cell_type": "code",
      "execution_count": 12,
      "metadata": {
        "colab": {
          "base_uri": "https://localhost:8080/",
          "height": 103,
          "referenced_widgets": [
            "965441d6fd3b4b2bb2ccc78174250255",
            "7360e15dc3d24c75882380da8a032125",
            "f60015f9e8a0413298bbfed2c9d03eac",
            "f48b1b1a1c544711863aa5c14b919789",
            "b0c93729cba345ba9baa5dd7d32cb5cb",
            "9feb11c5ce4744ba8e1b967f1febb65b",
            "0e374f306890491cbc0b73e79754f493",
            "d08f525046374e149271a34c4fe416e1",
            "b8f9ffeeba6642b2a2eeae436ef0d8c4",
            "c42834559e6e43428f3a36b045bb1f6c",
            "f29446ffd79c451ea154bbeb105c2da7"
          ]
        },
        "id": "7ggGbTKaCzOw",
        "outputId": "d6eefdc9-aff9-4031-a0f4-365034bf0570"
      },
      "outputs": [
        {
          "name": "stderr",
          "output_type": "stream",
          "text": [
            "/opt/homebrew/lib/python3.10/site-packages/implicit/utils.py:164: ParameterWarning: Method expects CSR input, and was passed coo_matrix instead. Converting to CSR took 0.01885700225830078 seconds\n",
            "  warnings.warn(\n"
          ]
        },
        {
          "data": {
            "application/vnd.jupyter.widget-view+json": {
              "model_id": "43d83cc7088c4b32a6b0858fa7027765",
              "version_major": 2,
              "version_minor": 0
            },
            "text/plain": [
              "  0%|          | 0/4287 [00:00<?, ?it/s]"
            ]
          },
          "metadata": {},
          "output_type": "display_data"
        }
      ],
      "source": [
        "model_ii = implicit.nearest_neighbours.CosineRecommender()\n",
        "model_ii.fit(user_item_matrix_train)"
      ]
    },
    {
      "cell_type": "markdown",
      "metadata": {
        "id": "Z-VfFIiPHq8q"
      },
      "source": [
        "Tiempo de ejecución: 2 segundos"
      ]
    },
    {
      "cell_type": "code",
      "execution_count": 13,
      "metadata": {
        "colab": {
          "base_uri": "https://localhost:8080/"
        },
        "id": "_b_cUpTGDydW",
        "outputId": "f310d731-6835-4aa4-b07a-498ad8de7bce"
      },
      "outputs": [
        {
          "name": "stdout",
          "output_type": "stream",
          "text": [
            "Item-Item {'precision': 0.16, 'map': 0.08150436507936508, 'ndcg': 0.17380040471433386, 'auc': 0.579040448912789}\n"
          ]
        }
      ],
      "source": [
        "metrics_II = ranking_metrics_at_k(model_ii, user_item_matrix_train.astype(float), user_item_matrix_test.astype(float), K=K)\n",
        "print(\"Item-Item\", metrics_II)"
      ]
    }
  ],
  "metadata": {
    "colab": {
      "provenance": []
    },
    "kernelspec": {
      "display_name": "Python 3",
      "name": "python3"
    },
    "language_info": {
      "codemirror_mode": {
        "name": "ipython",
        "version": 3
      },
      "file_extension": ".py",
      "mimetype": "text/x-python",
      "name": "python",
      "nbconvert_exporter": "python",
      "pygments_lexer": "ipython3",
      "version": "3.10.16"
    },
    "widgets": {
      "application/vnd.jupyter.widget-state+json": {
        "0095aafbe0444c21829eb4405d445055": {
          "model_module": "@jupyter-widgets/controls",
          "model_module_version": "1.5.0",
          "model_name": "HBoxModel",
          "state": {
            "_dom_classes": [],
            "_model_module": "@jupyter-widgets/controls",
            "_model_module_version": "1.5.0",
            "_model_name": "HBoxModel",
            "_view_count": null,
            "_view_module": "@jupyter-widgets/controls",
            "_view_module_version": "1.5.0",
            "_view_name": "HBoxView",
            "box_style": "",
            "children": [
              "IPY_MODEL_cce44cf3e78742eebfce2bd82701f366",
              "IPY_MODEL_a242bcbfbdf345f69f89d7e8701f7a58",
              "IPY_MODEL_af57cce8bfa845c0a178c59147471800"
            ],
            "layout": "IPY_MODEL_f52ec3288bae427385eba7622f0df749"
          }
        },
        "0526de0575734e2ea140828b278ae442": {
          "model_module": "@jupyter-widgets/base",
          "model_module_version": "1.2.0",
          "model_name": "LayoutModel",
          "state": {
            "_model_module": "@jupyter-widgets/base",
            "_model_module_version": "1.2.0",
            "_model_name": "LayoutModel",
            "_view_count": null,
            "_view_module": "@jupyter-widgets/base",
            "_view_module_version": "1.2.0",
            "_view_name": "LayoutView",
            "align_content": null,
            "align_items": null,
            "align_self": null,
            "border": null,
            "bottom": null,
            "display": null,
            "flex": null,
            "flex_flow": null,
            "grid_area": null,
            "grid_auto_columns": null,
            "grid_auto_flow": null,
            "grid_auto_rows": null,
            "grid_column": null,
            "grid_gap": null,
            "grid_row": null,
            "grid_template_areas": null,
            "grid_template_columns": null,
            "grid_template_rows": null,
            "height": null,
            "justify_content": null,
            "justify_items": null,
            "left": null,
            "margin": null,
            "max_height": null,
            "max_width": null,
            "min_height": null,
            "min_width": null,
            "object_fit": null,
            "object_position": null,
            "order": null,
            "overflow": null,
            "overflow_x": null,
            "overflow_y": null,
            "padding": null,
            "right": null,
            "top": null,
            "visibility": null,
            "width": null
          }
        },
        "0e374f306890491cbc0b73e79754f493": {
          "model_module": "@jupyter-widgets/controls",
          "model_module_version": "1.5.0",
          "model_name": "DescriptionStyleModel",
          "state": {
            "_model_module": "@jupyter-widgets/controls",
            "_model_module_version": "1.5.0",
            "_model_name": "DescriptionStyleModel",
            "_view_count": null,
            "_view_module": "@jupyter-widgets/base",
            "_view_module_version": "1.2.0",
            "_view_name": "StyleView",
            "description_width": ""
          }
        },
        "1bfe89409f244fcdad668f600b11707b": {
          "model_module": "@jupyter-widgets/base",
          "model_module_version": "1.2.0",
          "model_name": "LayoutModel",
          "state": {
            "_model_module": "@jupyter-widgets/base",
            "_model_module_version": "1.2.0",
            "_model_name": "LayoutModel",
            "_view_count": null,
            "_view_module": "@jupyter-widgets/base",
            "_view_module_version": "1.2.0",
            "_view_name": "LayoutView",
            "align_content": null,
            "align_items": null,
            "align_self": null,
            "border": null,
            "bottom": null,
            "display": null,
            "flex": null,
            "flex_flow": null,
            "grid_area": null,
            "grid_auto_columns": null,
            "grid_auto_flow": null,
            "grid_auto_rows": null,
            "grid_column": null,
            "grid_gap": null,
            "grid_row": null,
            "grid_template_areas": null,
            "grid_template_columns": null,
            "grid_template_rows": null,
            "height": null,
            "justify_content": null,
            "justify_items": null,
            "left": null,
            "margin": null,
            "max_height": null,
            "max_width": null,
            "min_height": null,
            "min_width": null,
            "object_fit": null,
            "object_position": null,
            "order": null,
            "overflow": null,
            "overflow_x": null,
            "overflow_y": null,
            "padding": null,
            "right": null,
            "top": null,
            "visibility": null,
            "width": null
          }
        },
        "304f557d6ac644faa1596132d3e8ff5f": {
          "model_module": "@jupyter-widgets/controls",
          "model_module_version": "1.5.0",
          "model_name": "HBoxModel",
          "state": {
            "_dom_classes": [],
            "_model_module": "@jupyter-widgets/controls",
            "_model_module_version": "1.5.0",
            "_model_name": "HBoxModel",
            "_view_count": null,
            "_view_module": "@jupyter-widgets/controls",
            "_view_module_version": "1.5.0",
            "_view_name": "HBoxView",
            "box_style": "",
            "children": [
              "IPY_MODEL_9079f5e81d4e405dac0691c50d023071",
              "IPY_MODEL_d1dbd884755343ad89de6cb9dcbb2a11",
              "IPY_MODEL_6991a3a4cd454fb5a2c42d6f3181ec7b"
            ],
            "layout": "IPY_MODEL_1bfe89409f244fcdad668f600b11707b"
          }
        },
        "30f754e2372e4e1e80fcbc08b2e621b3": {
          "model_module": "@jupyter-widgets/controls",
          "model_module_version": "1.5.0",
          "model_name": "DescriptionStyleModel",
          "state": {
            "_model_module": "@jupyter-widgets/controls",
            "_model_module_version": "1.5.0",
            "_model_name": "DescriptionStyleModel",
            "_view_count": null,
            "_view_module": "@jupyter-widgets/base",
            "_view_module_version": "1.2.0",
            "_view_name": "StyleView",
            "description_width": ""
          }
        },
        "472fe252c667445eb034b9bcf15a11c8": {
          "model_module": "@jupyter-widgets/controls",
          "model_module_version": "1.5.0",
          "model_name": "ProgressStyleModel",
          "state": {
            "_model_module": "@jupyter-widgets/controls",
            "_model_module_version": "1.5.0",
            "_model_name": "ProgressStyleModel",
            "_view_count": null,
            "_view_module": "@jupyter-widgets/base",
            "_view_module_version": "1.2.0",
            "_view_name": "StyleView",
            "bar_color": null,
            "description_width": ""
          }
        },
        "577169807fac4b7c8c0242e68dad4bef": {
          "model_module": "@jupyter-widgets/base",
          "model_module_version": "1.2.0",
          "model_name": "LayoutModel",
          "state": {
            "_model_module": "@jupyter-widgets/base",
            "_model_module_version": "1.2.0",
            "_model_name": "LayoutModel",
            "_view_count": null,
            "_view_module": "@jupyter-widgets/base",
            "_view_module_version": "1.2.0",
            "_view_name": "LayoutView",
            "align_content": null,
            "align_items": null,
            "align_self": null,
            "border": null,
            "bottom": null,
            "display": null,
            "flex": null,
            "flex_flow": null,
            "grid_area": null,
            "grid_auto_columns": null,
            "grid_auto_flow": null,
            "grid_auto_rows": null,
            "grid_column": null,
            "grid_gap": null,
            "grid_row": null,
            "grid_template_areas": null,
            "grid_template_columns": null,
            "grid_template_rows": null,
            "height": null,
            "justify_content": null,
            "justify_items": null,
            "left": null,
            "margin": null,
            "max_height": null,
            "max_width": null,
            "min_height": null,
            "min_width": null,
            "object_fit": null,
            "object_position": null,
            "order": null,
            "overflow": null,
            "overflow_x": null,
            "overflow_y": null,
            "padding": null,
            "right": null,
            "top": null,
            "visibility": null,
            "width": null
          }
        },
        "5da615be046f47d59c104b56eb5b2964": {
          "model_module": "@jupyter-widgets/controls",
          "model_module_version": "1.5.0",
          "model_name": "DescriptionStyleModel",
          "state": {
            "_model_module": "@jupyter-widgets/controls",
            "_model_module_version": "1.5.0",
            "_model_name": "DescriptionStyleModel",
            "_view_count": null,
            "_view_module": "@jupyter-widgets/base",
            "_view_module_version": "1.2.0",
            "_view_name": "StyleView",
            "description_width": ""
          }
        },
        "5f398a001a494ddd8ada868419932cd7": {
          "model_module": "@jupyter-widgets/controls",
          "model_module_version": "1.5.0",
          "model_name": "ProgressStyleModel",
          "state": {
            "_model_module": "@jupyter-widgets/controls",
            "_model_module_version": "1.5.0",
            "_model_name": "ProgressStyleModel",
            "_view_count": null,
            "_view_module": "@jupyter-widgets/base",
            "_view_module_version": "1.2.0",
            "_view_name": "StyleView",
            "bar_color": null,
            "description_width": ""
          }
        },
        "6991a3a4cd454fb5a2c42d6f3181ec7b": {
          "model_module": "@jupyter-widgets/controls",
          "model_module_version": "1.5.0",
          "model_name": "HTMLModel",
          "state": {
            "_dom_classes": [],
            "_model_module": "@jupyter-widgets/controls",
            "_model_module_version": "1.5.0",
            "_model_name": "HTMLModel",
            "_view_count": null,
            "_view_module": "@jupyter-widgets/controls",
            "_view_module_version": "1.5.0",
            "_view_name": "HTMLView",
            "description": "",
            "description_tooltip": null,
            "layout": "IPY_MODEL_cc6f6ca9bfd741c3b11237b74a81216a",
            "placeholder": "​",
            "style": "IPY_MODEL_6cc67056cd414aebae9c235300dcc583",
            "value": " 100/100 [03:43&lt;00:00,  2.09s/it, train_auc=93.44%, skipped=7.98%]"
          }
        },
        "6cc67056cd414aebae9c235300dcc583": {
          "model_module": "@jupyter-widgets/controls",
          "model_module_version": "1.5.0",
          "model_name": "DescriptionStyleModel",
          "state": {
            "_model_module": "@jupyter-widgets/controls",
            "_model_module_version": "1.5.0",
            "_model_name": "DescriptionStyleModel",
            "_view_count": null,
            "_view_module": "@jupyter-widgets/base",
            "_view_module_version": "1.2.0",
            "_view_name": "StyleView",
            "description_width": ""
          }
        },
        "7360e15dc3d24c75882380da8a032125": {
          "model_module": "@jupyter-widgets/controls",
          "model_module_version": "1.5.0",
          "model_name": "HTMLModel",
          "state": {
            "_dom_classes": [],
            "_model_module": "@jupyter-widgets/controls",
            "_model_module_version": "1.5.0",
            "_model_name": "HTMLModel",
            "_view_count": null,
            "_view_module": "@jupyter-widgets/controls",
            "_view_module_version": "1.5.0",
            "_view_name": "HTMLView",
            "description": "",
            "description_tooltip": null,
            "layout": "IPY_MODEL_9feb11c5ce4744ba8e1b967f1febb65b",
            "placeholder": "​",
            "style": "IPY_MODEL_0e374f306890491cbc0b73e79754f493",
            "value": "100%"
          }
        },
        "74dc4763c30544c48ad61afc4656ce24": {
          "model_module": "@jupyter-widgets/base",
          "model_module_version": "1.2.0",
          "model_name": "LayoutModel",
          "state": {
            "_model_module": "@jupyter-widgets/base",
            "_model_module_version": "1.2.0",
            "_model_name": "LayoutModel",
            "_view_count": null,
            "_view_module": "@jupyter-widgets/base",
            "_view_module_version": "1.2.0",
            "_view_name": "LayoutView",
            "align_content": null,
            "align_items": null,
            "align_self": null,
            "border": null,
            "bottom": null,
            "display": null,
            "flex": null,
            "flex_flow": null,
            "grid_area": null,
            "grid_auto_columns": null,
            "grid_auto_flow": null,
            "grid_auto_rows": null,
            "grid_column": null,
            "grid_gap": null,
            "grid_row": null,
            "grid_template_areas": null,
            "grid_template_columns": null,
            "grid_template_rows": null,
            "height": null,
            "justify_content": null,
            "justify_items": null,
            "left": null,
            "margin": null,
            "max_height": null,
            "max_width": null,
            "min_height": null,
            "min_width": null,
            "object_fit": null,
            "object_position": null,
            "order": null,
            "overflow": null,
            "overflow_x": null,
            "overflow_y": null,
            "padding": null,
            "right": null,
            "top": null,
            "visibility": null,
            "width": null
          }
        },
        "9079f5e81d4e405dac0691c50d023071": {
          "model_module": "@jupyter-widgets/controls",
          "model_module_version": "1.5.0",
          "model_name": "HTMLModel",
          "state": {
            "_dom_classes": [],
            "_model_module": "@jupyter-widgets/controls",
            "_model_module_version": "1.5.0",
            "_model_name": "HTMLModel",
            "_view_count": null,
            "_view_module": "@jupyter-widgets/controls",
            "_view_module_version": "1.5.0",
            "_view_name": "HTMLView",
            "description": "",
            "description_tooltip": null,
            "layout": "IPY_MODEL_0526de0575734e2ea140828b278ae442",
            "placeholder": "​",
            "style": "IPY_MODEL_30f754e2372e4e1e80fcbc08b2e621b3",
            "value": "100%"
          }
        },
        "95522672de82494bb75478b7c8c9dd80": {
          "model_module": "@jupyter-widgets/controls",
          "model_module_version": "1.5.0",
          "model_name": "DescriptionStyleModel",
          "state": {
            "_model_module": "@jupyter-widgets/controls",
            "_model_module_version": "1.5.0",
            "_model_name": "DescriptionStyleModel",
            "_view_count": null,
            "_view_module": "@jupyter-widgets/base",
            "_view_module_version": "1.2.0",
            "_view_name": "StyleView",
            "description_width": ""
          }
        },
        "965441d6fd3b4b2bb2ccc78174250255": {
          "model_module": "@jupyter-widgets/controls",
          "model_module_version": "1.5.0",
          "model_name": "HBoxModel",
          "state": {
            "_dom_classes": [],
            "_model_module": "@jupyter-widgets/controls",
            "_model_module_version": "1.5.0",
            "_model_name": "HBoxModel",
            "_view_count": null,
            "_view_module": "@jupyter-widgets/controls",
            "_view_module_version": "1.5.0",
            "_view_name": "HBoxView",
            "box_style": "",
            "children": [
              "IPY_MODEL_7360e15dc3d24c75882380da8a032125",
              "IPY_MODEL_f60015f9e8a0413298bbfed2c9d03eac",
              "IPY_MODEL_f48b1b1a1c544711863aa5c14b919789"
            ],
            "layout": "IPY_MODEL_b0c93729cba345ba9baa5dd7d32cb5cb"
          }
        },
        "9feb11c5ce4744ba8e1b967f1febb65b": {
          "model_module": "@jupyter-widgets/base",
          "model_module_version": "1.2.0",
          "model_name": "LayoutModel",
          "state": {
            "_model_module": "@jupyter-widgets/base",
            "_model_module_version": "1.2.0",
            "_model_name": "LayoutModel",
            "_view_count": null,
            "_view_module": "@jupyter-widgets/base",
            "_view_module_version": "1.2.0",
            "_view_name": "LayoutView",
            "align_content": null,
            "align_items": null,
            "align_self": null,
            "border": null,
            "bottom": null,
            "display": null,
            "flex": null,
            "flex_flow": null,
            "grid_area": null,
            "grid_auto_columns": null,
            "grid_auto_flow": null,
            "grid_auto_rows": null,
            "grid_column": null,
            "grid_gap": null,
            "grid_row": null,
            "grid_template_areas": null,
            "grid_template_columns": null,
            "grid_template_rows": null,
            "height": null,
            "justify_content": null,
            "justify_items": null,
            "left": null,
            "margin": null,
            "max_height": null,
            "max_width": null,
            "min_height": null,
            "min_width": null,
            "object_fit": null,
            "object_position": null,
            "order": null,
            "overflow": null,
            "overflow_x": null,
            "overflow_y": null,
            "padding": null,
            "right": null,
            "top": null,
            "visibility": null,
            "width": null
          }
        },
        "a242bcbfbdf345f69f89d7e8701f7a58": {
          "model_module": "@jupyter-widgets/controls",
          "model_module_version": "1.5.0",
          "model_name": "FloatProgressModel",
          "state": {
            "_dom_classes": [],
            "_model_module": "@jupyter-widgets/controls",
            "_model_module_version": "1.5.0",
            "_model_name": "FloatProgressModel",
            "_view_count": null,
            "_view_module": "@jupyter-widgets/controls",
            "_view_module_version": "1.5.0",
            "_view_name": "ProgressView",
            "bar_style": "success",
            "description": "",
            "description_tooltip": null,
            "layout": "IPY_MODEL_74dc4763c30544c48ad61afc4656ce24",
            "max": 15,
            "min": 0,
            "orientation": "horizontal",
            "style": "IPY_MODEL_5f398a001a494ddd8ada868419932cd7",
            "value": 15
          }
        },
        "af57cce8bfa845c0a178c59147471800": {
          "model_module": "@jupyter-widgets/controls",
          "model_module_version": "1.5.0",
          "model_name": "HTMLModel",
          "state": {
            "_dom_classes": [],
            "_model_module": "@jupyter-widgets/controls",
            "_model_module_version": "1.5.0",
            "_model_name": "HTMLModel",
            "_view_count": null,
            "_view_module": "@jupyter-widgets/controls",
            "_view_module_version": "1.5.0",
            "_view_name": "HTMLView",
            "description": "",
            "description_tooltip": null,
            "layout": "IPY_MODEL_ed01ab1e3a644b0a972c4d584e6ea099",
            "placeholder": "​",
            "style": "IPY_MODEL_5da615be046f47d59c104b56eb5b2964",
            "value": " 15/15 [00:33&lt;00:00,  2.10s/it]"
          }
        },
        "b0c93729cba345ba9baa5dd7d32cb5cb": {
          "model_module": "@jupyter-widgets/base",
          "model_module_version": "1.2.0",
          "model_name": "LayoutModel",
          "state": {
            "_model_module": "@jupyter-widgets/base",
            "_model_module_version": "1.2.0",
            "_model_name": "LayoutModel",
            "_view_count": null,
            "_view_module": "@jupyter-widgets/base",
            "_view_module_version": "1.2.0",
            "_view_name": "LayoutView",
            "align_content": null,
            "align_items": null,
            "align_self": null,
            "border": null,
            "bottom": null,
            "display": null,
            "flex": null,
            "flex_flow": null,
            "grid_area": null,
            "grid_auto_columns": null,
            "grid_auto_flow": null,
            "grid_auto_rows": null,
            "grid_column": null,
            "grid_gap": null,
            "grid_row": null,
            "grid_template_areas": null,
            "grid_template_columns": null,
            "grid_template_rows": null,
            "height": null,
            "justify_content": null,
            "justify_items": null,
            "left": null,
            "margin": null,
            "max_height": null,
            "max_width": null,
            "min_height": null,
            "min_width": null,
            "object_fit": null,
            "object_position": null,
            "order": null,
            "overflow": null,
            "overflow_x": null,
            "overflow_y": null,
            "padding": null,
            "right": null,
            "top": null,
            "visibility": null,
            "width": null
          }
        },
        "b8f9ffeeba6642b2a2eeae436ef0d8c4": {
          "model_module": "@jupyter-widgets/controls",
          "model_module_version": "1.5.0",
          "model_name": "ProgressStyleModel",
          "state": {
            "_model_module": "@jupyter-widgets/controls",
            "_model_module_version": "1.5.0",
            "_model_name": "ProgressStyleModel",
            "_view_count": null,
            "_view_module": "@jupyter-widgets/base",
            "_view_module_version": "1.2.0",
            "_view_name": "StyleView",
            "bar_color": null,
            "description_width": ""
          }
        },
        "c3ab115113e14fd2b624a0b3ed3f1381": {
          "model_module": "@jupyter-widgets/base",
          "model_module_version": "1.2.0",
          "model_name": "LayoutModel",
          "state": {
            "_model_module": "@jupyter-widgets/base",
            "_model_module_version": "1.2.0",
            "_model_name": "LayoutModel",
            "_view_count": null,
            "_view_module": "@jupyter-widgets/base",
            "_view_module_version": "1.2.0",
            "_view_name": "LayoutView",
            "align_content": null,
            "align_items": null,
            "align_self": null,
            "border": null,
            "bottom": null,
            "display": null,
            "flex": null,
            "flex_flow": null,
            "grid_area": null,
            "grid_auto_columns": null,
            "grid_auto_flow": null,
            "grid_auto_rows": null,
            "grid_column": null,
            "grid_gap": null,
            "grid_row": null,
            "grid_template_areas": null,
            "grid_template_columns": null,
            "grid_template_rows": null,
            "height": null,
            "justify_content": null,
            "justify_items": null,
            "left": null,
            "margin": null,
            "max_height": null,
            "max_width": null,
            "min_height": null,
            "min_width": null,
            "object_fit": null,
            "object_position": null,
            "order": null,
            "overflow": null,
            "overflow_x": null,
            "overflow_y": null,
            "padding": null,
            "right": null,
            "top": null,
            "visibility": null,
            "width": null
          }
        },
        "c42834559e6e43428f3a36b045bb1f6c": {
          "model_module": "@jupyter-widgets/base",
          "model_module_version": "1.2.0",
          "model_name": "LayoutModel",
          "state": {
            "_model_module": "@jupyter-widgets/base",
            "_model_module_version": "1.2.0",
            "_model_name": "LayoutModel",
            "_view_count": null,
            "_view_module": "@jupyter-widgets/base",
            "_view_module_version": "1.2.0",
            "_view_name": "LayoutView",
            "align_content": null,
            "align_items": null,
            "align_self": null,
            "border": null,
            "bottom": null,
            "display": null,
            "flex": null,
            "flex_flow": null,
            "grid_area": null,
            "grid_auto_columns": null,
            "grid_auto_flow": null,
            "grid_auto_rows": null,
            "grid_column": null,
            "grid_gap": null,
            "grid_row": null,
            "grid_template_areas": null,
            "grid_template_columns": null,
            "grid_template_rows": null,
            "height": null,
            "justify_content": null,
            "justify_items": null,
            "left": null,
            "margin": null,
            "max_height": null,
            "max_width": null,
            "min_height": null,
            "min_width": null,
            "object_fit": null,
            "object_position": null,
            "order": null,
            "overflow": null,
            "overflow_x": null,
            "overflow_y": null,
            "padding": null,
            "right": null,
            "top": null,
            "visibility": null,
            "width": null
          }
        },
        "cc6f6ca9bfd741c3b11237b74a81216a": {
          "model_module": "@jupyter-widgets/base",
          "model_module_version": "1.2.0",
          "model_name": "LayoutModel",
          "state": {
            "_model_module": "@jupyter-widgets/base",
            "_model_module_version": "1.2.0",
            "_model_name": "LayoutModel",
            "_view_count": null,
            "_view_module": "@jupyter-widgets/base",
            "_view_module_version": "1.2.0",
            "_view_name": "LayoutView",
            "align_content": null,
            "align_items": null,
            "align_self": null,
            "border": null,
            "bottom": null,
            "display": null,
            "flex": null,
            "flex_flow": null,
            "grid_area": null,
            "grid_auto_columns": null,
            "grid_auto_flow": null,
            "grid_auto_rows": null,
            "grid_column": null,
            "grid_gap": null,
            "grid_row": null,
            "grid_template_areas": null,
            "grid_template_columns": null,
            "grid_template_rows": null,
            "height": null,
            "justify_content": null,
            "justify_items": null,
            "left": null,
            "margin": null,
            "max_height": null,
            "max_width": null,
            "min_height": null,
            "min_width": null,
            "object_fit": null,
            "object_position": null,
            "order": null,
            "overflow": null,
            "overflow_x": null,
            "overflow_y": null,
            "padding": null,
            "right": null,
            "top": null,
            "visibility": null,
            "width": null
          }
        },
        "cce44cf3e78742eebfce2bd82701f366": {
          "model_module": "@jupyter-widgets/controls",
          "model_module_version": "1.5.0",
          "model_name": "HTMLModel",
          "state": {
            "_dom_classes": [],
            "_model_module": "@jupyter-widgets/controls",
            "_model_module_version": "1.5.0",
            "_model_name": "HTMLModel",
            "_view_count": null,
            "_view_module": "@jupyter-widgets/controls",
            "_view_module_version": "1.5.0",
            "_view_name": "HTMLView",
            "description": "",
            "description_tooltip": null,
            "layout": "IPY_MODEL_c3ab115113e14fd2b624a0b3ed3f1381",
            "placeholder": "​",
            "style": "IPY_MODEL_95522672de82494bb75478b7c8c9dd80",
            "value": "100%"
          }
        },
        "d08f525046374e149271a34c4fe416e1": {
          "model_module": "@jupyter-widgets/base",
          "model_module_version": "1.2.0",
          "model_name": "LayoutModel",
          "state": {
            "_model_module": "@jupyter-widgets/base",
            "_model_module_version": "1.2.0",
            "_model_name": "LayoutModel",
            "_view_count": null,
            "_view_module": "@jupyter-widgets/base",
            "_view_module_version": "1.2.0",
            "_view_name": "LayoutView",
            "align_content": null,
            "align_items": null,
            "align_self": null,
            "border": null,
            "bottom": null,
            "display": null,
            "flex": null,
            "flex_flow": null,
            "grid_area": null,
            "grid_auto_columns": null,
            "grid_auto_flow": null,
            "grid_auto_rows": null,
            "grid_column": null,
            "grid_gap": null,
            "grid_row": null,
            "grid_template_areas": null,
            "grid_template_columns": null,
            "grid_template_rows": null,
            "height": null,
            "justify_content": null,
            "justify_items": null,
            "left": null,
            "margin": null,
            "max_height": null,
            "max_width": null,
            "min_height": null,
            "min_width": null,
            "object_fit": null,
            "object_position": null,
            "order": null,
            "overflow": null,
            "overflow_x": null,
            "overflow_y": null,
            "padding": null,
            "right": null,
            "top": null,
            "visibility": null,
            "width": null
          }
        },
        "d1dbd884755343ad89de6cb9dcbb2a11": {
          "model_module": "@jupyter-widgets/controls",
          "model_module_version": "1.5.0",
          "model_name": "FloatProgressModel",
          "state": {
            "_dom_classes": [],
            "_model_module": "@jupyter-widgets/controls",
            "_model_module_version": "1.5.0",
            "_model_name": "FloatProgressModel",
            "_view_count": null,
            "_view_module": "@jupyter-widgets/controls",
            "_view_module_version": "1.5.0",
            "_view_name": "ProgressView",
            "bar_style": "success",
            "description": "",
            "description_tooltip": null,
            "layout": "IPY_MODEL_577169807fac4b7c8c0242e68dad4bef",
            "max": 100,
            "min": 0,
            "orientation": "horizontal",
            "style": "IPY_MODEL_472fe252c667445eb034b9bcf15a11c8",
            "value": 100
          }
        },
        "ed01ab1e3a644b0a972c4d584e6ea099": {
          "model_module": "@jupyter-widgets/base",
          "model_module_version": "1.2.0",
          "model_name": "LayoutModel",
          "state": {
            "_model_module": "@jupyter-widgets/base",
            "_model_module_version": "1.2.0",
            "_model_name": "LayoutModel",
            "_view_count": null,
            "_view_module": "@jupyter-widgets/base",
            "_view_module_version": "1.2.0",
            "_view_name": "LayoutView",
            "align_content": null,
            "align_items": null,
            "align_self": null,
            "border": null,
            "bottom": null,
            "display": null,
            "flex": null,
            "flex_flow": null,
            "grid_area": null,
            "grid_auto_columns": null,
            "grid_auto_flow": null,
            "grid_auto_rows": null,
            "grid_column": null,
            "grid_gap": null,
            "grid_row": null,
            "grid_template_areas": null,
            "grid_template_columns": null,
            "grid_template_rows": null,
            "height": null,
            "justify_content": null,
            "justify_items": null,
            "left": null,
            "margin": null,
            "max_height": null,
            "max_width": null,
            "min_height": null,
            "min_width": null,
            "object_fit": null,
            "object_position": null,
            "order": null,
            "overflow": null,
            "overflow_x": null,
            "overflow_y": null,
            "padding": null,
            "right": null,
            "top": null,
            "visibility": null,
            "width": null
          }
        },
        "f29446ffd79c451ea154bbeb105c2da7": {
          "model_module": "@jupyter-widgets/controls",
          "model_module_version": "1.5.0",
          "model_name": "DescriptionStyleModel",
          "state": {
            "_model_module": "@jupyter-widgets/controls",
            "_model_module_version": "1.5.0",
            "_model_name": "DescriptionStyleModel",
            "_view_count": null,
            "_view_module": "@jupyter-widgets/base",
            "_view_module_version": "1.2.0",
            "_view_name": "StyleView",
            "description_width": ""
          }
        },
        "f48b1b1a1c544711863aa5c14b919789": {
          "model_module": "@jupyter-widgets/controls",
          "model_module_version": "1.5.0",
          "model_name": "HTMLModel",
          "state": {
            "_dom_classes": [],
            "_model_module": "@jupyter-widgets/controls",
            "_model_module_version": "1.5.0",
            "_model_name": "HTMLModel",
            "_view_count": null,
            "_view_module": "@jupyter-widgets/controls",
            "_view_module_version": "1.5.0",
            "_view_name": "HTMLView",
            "description": "",
            "description_tooltip": null,
            "layout": "IPY_MODEL_c42834559e6e43428f3a36b045bb1f6c",
            "placeholder": "​",
            "style": "IPY_MODEL_f29446ffd79c451ea154bbeb105c2da7",
            "value": " 10000/10000 [00:01&lt;00:00, 12112.52it/s]"
          }
        },
        "f52ec3288bae427385eba7622f0df749": {
          "model_module": "@jupyter-widgets/base",
          "model_module_version": "1.2.0",
          "model_name": "LayoutModel",
          "state": {
            "_model_module": "@jupyter-widgets/base",
            "_model_module_version": "1.2.0",
            "_model_name": "LayoutModel",
            "_view_count": null,
            "_view_module": "@jupyter-widgets/base",
            "_view_module_version": "1.2.0",
            "_view_name": "LayoutView",
            "align_content": null,
            "align_items": null,
            "align_self": null,
            "border": null,
            "bottom": null,
            "display": null,
            "flex": null,
            "flex_flow": null,
            "grid_area": null,
            "grid_auto_columns": null,
            "grid_auto_flow": null,
            "grid_auto_rows": null,
            "grid_column": null,
            "grid_gap": null,
            "grid_row": null,
            "grid_template_areas": null,
            "grid_template_columns": null,
            "grid_template_rows": null,
            "height": null,
            "justify_content": null,
            "justify_items": null,
            "left": null,
            "margin": null,
            "max_height": null,
            "max_width": null,
            "min_height": null,
            "min_width": null,
            "object_fit": null,
            "object_position": null,
            "order": null,
            "overflow": null,
            "overflow_x": null,
            "overflow_y": null,
            "padding": null,
            "right": null,
            "top": null,
            "visibility": null,
            "width": null
          }
        },
        "f60015f9e8a0413298bbfed2c9d03eac": {
          "model_module": "@jupyter-widgets/controls",
          "model_module_version": "1.5.0",
          "model_name": "FloatProgressModel",
          "state": {
            "_dom_classes": [],
            "_model_module": "@jupyter-widgets/controls",
            "_model_module_version": "1.5.0",
            "_model_name": "FloatProgressModel",
            "_view_count": null,
            "_view_module": "@jupyter-widgets/controls",
            "_view_module_version": "1.5.0",
            "_view_name": "ProgressView",
            "bar_style": "success",
            "description": "",
            "description_tooltip": null,
            "layout": "IPY_MODEL_d08f525046374e149271a34c4fe416e1",
            "max": 10000,
            "min": 0,
            "orientation": "horizontal",
            "style": "IPY_MODEL_b8f9ffeeba6642b2a2eeae436ef0d8c4",
            "value": 10000
          }
        }
      }
    }
  },
  "nbformat": 4,
  "nbformat_minor": 0
}
