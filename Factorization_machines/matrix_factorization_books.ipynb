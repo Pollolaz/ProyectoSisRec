{
  "nbformat": 4,
  "nbformat_minor": 0,
  "metadata": {
    "colab": {
      "provenance": []
    },
    "kernelspec": {
      "name": "python3",
      "display_name": "Python 3"
    },
    "language_info": {
      "name": "python"
    }
  },
  "cells": [
    {
      "cell_type": "markdown",
      "source": [
        "# Descargar datos y dependencias"
      ],
      "metadata": {
        "id": "I2Ta27o-vm6b"
      }
    },
    {
      "cell_type": "code",
      "source": [
        "import numpy as np\n",
        "import json\n",
        "import math\n",
        "import matplotlib.pyplot as plt\n",
        "import pickle\n",
        "import pandas as pd\n",
        "import time"
      ],
      "metadata": {
        "id": "UNICDNS7qvK3"
      },
      "execution_count": 1,
      "outputs": []
    },
    {
      "cell_type": "code",
      "execution_count": 2,
      "metadata": {
        "id": "HFjzxch4ZsXI",
        "colab": {
          "base_uri": "https://localhost:8080/"
        },
        "outputId": "f169aefa-93a0-4846-8fea-1b9efa1cdebe"
      },
      "outputs": [
        {
          "output_type": "stream",
          "name": "stdout",
          "text": [
            "--2025-05-31 15:25:43--  https://www.dropbox.com/s/57tel5zqopkssrh/books.csv?dl=0\n",
            "Resolving www.dropbox.com (www.dropbox.com)... 162.125.1.18, 2620:100:6016:18::a27d:112\n",
            "Connecting to www.dropbox.com (www.dropbox.com)|162.125.1.18|:443... connected.\n",
            "HTTP request sent, awaiting response... 302 Found\n",
            "Location: https://www.dropbox.com/scl/fi/5s6xrfnu17yi34sfhmskb/books.csv?rlkey=ymzokbyqw3qq2bq5okfao9w1z&dl=0 [following]\n",
            "--2025-05-31 15:25:43--  https://www.dropbox.com/scl/fi/5s6xrfnu17yi34sfhmskb/books.csv?rlkey=ymzokbyqw3qq2bq5okfao9w1z&dl=0\n",
            "Reusing existing connection to www.dropbox.com:443.\n",
            "HTTP request sent, awaiting response... 302 Found\n",
            "Location: https://uc480552ea31971949d9b45744f9.dl.dropboxusercontent.com/cd/0/inline/CqtAtCYGmLRkwCfjK3-IIFWvIRzQaWs2Lg08nzOVR81WRm4oJm-643Fs4xgbBhFJuTYXHx0jM4SBGNAWOYgDXBvwwH2m8BqirxlKeX4UqckezDxApSSpzmlPx4j-xZFwfI-6tPBfStiFZk7arhiySVL8/file# [following]\n",
            "--2025-05-31 15:25:44--  https://uc480552ea31971949d9b45744f9.dl.dropboxusercontent.com/cd/0/inline/CqtAtCYGmLRkwCfjK3-IIFWvIRzQaWs2Lg08nzOVR81WRm4oJm-643Fs4xgbBhFJuTYXHx0jM4SBGNAWOYgDXBvwwH2m8BqirxlKeX4UqckezDxApSSpzmlPx4j-xZFwfI-6tPBfStiFZk7arhiySVL8/file\n",
            "Resolving uc480552ea31971949d9b45744f9.dl.dropboxusercontent.com (uc480552ea31971949d9b45744f9.dl.dropboxusercontent.com)... 162.125.1.15, 2620:100:6017:15::a27d:20f\n",
            "Connecting to uc480552ea31971949d9b45744f9.dl.dropboxusercontent.com (uc480552ea31971949d9b45744f9.dl.dropboxusercontent.com)|162.125.1.15|:443... connected.\n",
            "HTTP request sent, awaiting response... 200 OK\n",
            "Length: 5156485 (4.9M) [text/plain]\n",
            "Saving to: ‘books.csv’\n",
            "\n",
            "books.csv           100%[===================>]   4.92M  15.8MB/s    in 0.3s    \n",
            "\n",
            "2025-05-31 15:25:45 (15.8 MB/s) - ‘books.csv’ saved [5156485/5156485]\n",
            "\n",
            "--2025-05-31 15:25:45--  https://www.dropbox.com/s/zpnnoy1i8ljf9fg/goodreads_bert_embeddings.npy?dl=0\n",
            "Resolving www.dropbox.com (www.dropbox.com)... 162.125.1.18, 2620:100:6016:18::a27d:112\n",
            "Connecting to www.dropbox.com (www.dropbox.com)|162.125.1.18|:443... connected.\n",
            "HTTP request sent, awaiting response... 302 Found\n",
            "Location: https://www.dropbox.com/scl/fi/9t24trwzk8smammwnvvxw/goodreads_bert_embeddings.npy?rlkey=cj0axwkdtbcc94vb4lpj1cdj7&dl=0 [following]\n",
            "--2025-05-31 15:25:45--  https://www.dropbox.com/scl/fi/9t24trwzk8smammwnvvxw/goodreads_bert_embeddings.npy?rlkey=cj0axwkdtbcc94vb4lpj1cdj7&dl=0\n",
            "Reusing existing connection to www.dropbox.com:443.\n",
            "HTTP request sent, awaiting response... 302 Found\n",
            "Location: https://uc3257eaf61781fb426b8dfba06c.dl.dropboxusercontent.com/cd/0/inline/CquFSfDLbtoSFCi0jatS63F621b4uCgyTnDbF9AbX0EjLGyBDci_kgIHoIYje8JgUq3ybiiS8Pxn15edxyoLcYSuIq4HaD3JQOudSbXiyeyHnlalZNTpqBa30uOWYifxdlb1eXSjeAuYg7s7AN3GcbQb/file# [following]\n",
            "--2025-05-31 15:25:45--  https://uc3257eaf61781fb426b8dfba06c.dl.dropboxusercontent.com/cd/0/inline/CquFSfDLbtoSFCi0jatS63F621b4uCgyTnDbF9AbX0EjLGyBDci_kgIHoIYje8JgUq3ybiiS8Pxn15edxyoLcYSuIq4HaD3JQOudSbXiyeyHnlalZNTpqBa30uOWYifxdlb1eXSjeAuYg7s7AN3GcbQb/file\n",
            "Resolving uc3257eaf61781fb426b8dfba06c.dl.dropboxusercontent.com (uc3257eaf61781fb426b8dfba06c.dl.dropboxusercontent.com)... 162.125.1.15, 2620:100:6017:15::a27d:20f\n",
            "Connecting to uc3257eaf61781fb426b8dfba06c.dl.dropboxusercontent.com (uc3257eaf61781fb426b8dfba06c.dl.dropboxusercontent.com)|162.125.1.15|:443... connected.\n",
            "HTTP request sent, awaiting response... 302 Found\n",
            "Location: /cd/0/inline2/Cqt5NW_bU4SZ6kWK0_ASqzXIXAdBais0q_NkY8ap2zQbqGj2-U1ayNScqYWfoEJd_yZ-4ySWF5x9zQvQYpZaqrdfsosinEbqGFsuZ6cAAFz9PU5h6PlMn9X6GKC73X6sZKLP9w8jOdO1dxXDjCWAHz3hpCN6dhzZAD6RfnOVwfKcCbaI0FswyAyC2a-7HQpypRGgdwQiPJJekOMxm2wbEiBLTdsMQqmhK9G18e9TJzg-NZZ7CdYNDbqb1YW13sgn0hAb1hujzqZyVqAuPHjhylIDv0YhrsbMcVhJE-t1m7wvSpeP2Y-ZdmWSrLIsfWrzKfabbEMEKXp3zWGG9Ckpla4689dR3YXKv8VaEfntn4EvokAL177d2Wyz5EyjyFf8Quw/file [following]\n",
            "--2025-05-31 15:25:46--  https://uc3257eaf61781fb426b8dfba06c.dl.dropboxusercontent.com/cd/0/inline2/Cqt5NW_bU4SZ6kWK0_ASqzXIXAdBais0q_NkY8ap2zQbqGj2-U1ayNScqYWfoEJd_yZ-4ySWF5x9zQvQYpZaqrdfsosinEbqGFsuZ6cAAFz9PU5h6PlMn9X6GKC73X6sZKLP9w8jOdO1dxXDjCWAHz3hpCN6dhzZAD6RfnOVwfKcCbaI0FswyAyC2a-7HQpypRGgdwQiPJJekOMxm2wbEiBLTdsMQqmhK9G18e9TJzg-NZZ7CdYNDbqb1YW13sgn0hAb1hujzqZyVqAuPHjhylIDv0YhrsbMcVhJE-t1m7wvSpeP2Y-ZdmWSrLIsfWrzKfabbEMEKXp3zWGG9Ckpla4689dR3YXKv8VaEfntn4EvokAL177d2Wyz5EyjyFf8Quw/file\n",
            "Reusing existing connection to uc3257eaf61781fb426b8dfba06c.dl.dropboxusercontent.com:443.\n",
            "HTTP request sent, awaiting response... 200 OK\n",
            "Length: 26339456 (25M) [application/octet-stream]\n",
            "Saving to: ‘goodreads_bert_embeddings.npy’\n",
            "\n",
            "goodreads_bert_embe 100%[===================>]  25.12M  49.9MB/s    in 0.5s    \n",
            "\n",
            "2025-05-31 15:25:47 (49.9 MB/s) - ‘goodreads_bert_embeddings.npy’ saved [26339456/26339456]\n",
            "\n",
            "--2025-05-31 15:25:47--  https://www.dropbox.com/s/a8hcc9w30y7r3jl/goodreads_bert_large_embeddings.npy?dl=0\n",
            "Resolving www.dropbox.com (www.dropbox.com)... 162.125.1.18, 2620:100:6016:18::a27d:112\n",
            "Connecting to www.dropbox.com (www.dropbox.com)|162.125.1.18|:443... connected.\n",
            "HTTP request sent, awaiting response... 302 Found\n",
            "Location: https://www.dropbox.com/scl/fi/9758hmxzeyylo0n4m3m3u/goodreads_bert_large_embeddings.npy?rlkey=xajdff8iigyfc7fin0i9rbgkb&dl=0 [following]\n",
            "--2025-05-31 15:25:47--  https://www.dropbox.com/scl/fi/9758hmxzeyylo0n4m3m3u/goodreads_bert_large_embeddings.npy?rlkey=xajdff8iigyfc7fin0i9rbgkb&dl=0\n",
            "Reusing existing connection to www.dropbox.com:443.\n",
            "HTTP request sent, awaiting response... 302 Found\n",
            "Location: https://ucca348b6c85e54ad72f7fbaecf0.dl.dropboxusercontent.com/cd/0/inline/CquVhAZIwwhHm_LY5ScMX7gsSqSb39lP_Qm51M-MdSFIe4uC7lToihbG60Bv9Kq7ln1uZHyvEirqbpHy2Wo4c5ruutR57YARh_yu8aDjHYXktoGdIvk9s0JeeYQZKOX6w0CcgzuoO1182bckFsTmXZzO/file# [following]\n",
            "--2025-05-31 15:25:47--  https://ucca348b6c85e54ad72f7fbaecf0.dl.dropboxusercontent.com/cd/0/inline/CquVhAZIwwhHm_LY5ScMX7gsSqSb39lP_Qm51M-MdSFIe4uC7lToihbG60Bv9Kq7ln1uZHyvEirqbpHy2Wo4c5ruutR57YARh_yu8aDjHYXktoGdIvk9s0JeeYQZKOX6w0CcgzuoO1182bckFsTmXZzO/file\n",
            "Resolving ucca348b6c85e54ad72f7fbaecf0.dl.dropboxusercontent.com (ucca348b6c85e54ad72f7fbaecf0.dl.dropboxusercontent.com)... 162.125.1.15, 2620:100:6016:15::a27d:10f\n",
            "Connecting to ucca348b6c85e54ad72f7fbaecf0.dl.dropboxusercontent.com (ucca348b6c85e54ad72f7fbaecf0.dl.dropboxusercontent.com)|162.125.1.15|:443... connected.\n",
            "HTTP request sent, awaiting response... 302 Found\n",
            "Location: /cd/0/inline2/CqtXwYJrpeDyzt469-bj6s93_yxgRNdSF-X15ACa9aKLvDcgyc3t_6jTSsAnz-AEptUg7YmsvOKNNpJ_hdGRdWkoYIIly_orJDGK4hjLxQhKSECCZx6V9XGrlgxQqDiM6v39Tq4n-MNz18inlVNMhF1b1cXzDQMab690G6Nx2wyC0Kfb1ywVq1VzXyaovoIqhU_gvUodyzJefs7MitvXDLpKDHVO5eVDsMjQ5Pf9HjCZ34eeSGAWt772sGTQo67SwXnzrPugBngI5QQK5lvxiWqkbraKQw-UJWq4rJVx-1L8hoyCDALWK1Jb0O3fLzmtxgnH3SVkNSWLHA8i3TfH-mJvuvK8_QKtnkYHkua3gQAAvshNUuJqRMMqfjoJ29JOqyw/file [following]\n",
            "--2025-05-31 15:25:48--  https://ucca348b6c85e54ad72f7fbaecf0.dl.dropboxusercontent.com/cd/0/inline2/CqtXwYJrpeDyzt469-bj6s93_yxgRNdSF-X15ACa9aKLvDcgyc3t_6jTSsAnz-AEptUg7YmsvOKNNpJ_hdGRdWkoYIIly_orJDGK4hjLxQhKSECCZx6V9XGrlgxQqDiM6v39Tq4n-MNz18inlVNMhF1b1cXzDQMab690G6Nx2wyC0Kfb1ywVq1VzXyaovoIqhU_gvUodyzJefs7MitvXDLpKDHVO5eVDsMjQ5Pf9HjCZ34eeSGAWt772sGTQo67SwXnzrPugBngI5QQK5lvxiWqkbraKQw-UJWq4rJVx-1L8hoyCDALWK1Jb0O3fLzmtxgnH3SVkNSWLHA8i3TfH-mJvuvK8_QKtnkYHkua3gQAAvshNUuJqRMMqfjoJ29JOqyw/file\n",
            "Reusing existing connection to ucca348b6c85e54ad72f7fbaecf0.dl.dropboxusercontent.com:443.\n",
            "HTTP request sent, awaiting response... 200 OK\n",
            "Length: 35119232 (33M) [application/octet-stream]\n",
            "Saving to: ‘goodreads_bert_large_embeddings.npy’\n",
            "\n",
            "goodreads_bert_larg 100%[===================>]  33.49M  59.6MB/s    in 0.6s    \n",
            "\n",
            "2025-05-31 15:25:49 (59.6 MB/s) - ‘goodreads_bert_large_embeddings.npy’ saved [35119232/35119232]\n",
            "\n",
            "--2025-05-31 15:25:49--  https://www.dropbox.com/s/dqeqpsr0vdvmcy0/goodreads_past_interactions.json?dl=0\n",
            "Resolving www.dropbox.com (www.dropbox.com)... 162.125.1.18, 2620:100:6016:18::a27d:112\n",
            "Connecting to www.dropbox.com (www.dropbox.com)|162.125.1.18|:443... connected.\n",
            "HTTP request sent, awaiting response... 302 Found\n",
            "Location: https://www.dropbox.com/scl/fi/4crrafugs93pzf3xshahz/goodreads_past_interactions.json?rlkey=w58hjav618jk0iyti1c4f85ad&dl=0 [following]\n",
            "--2025-05-31 15:25:49--  https://www.dropbox.com/scl/fi/4crrafugs93pzf3xshahz/goodreads_past_interactions.json?rlkey=w58hjav618jk0iyti1c4f85ad&dl=0\n",
            "Reusing existing connection to www.dropbox.com:443.\n",
            "HTTP request sent, awaiting response... 302 Found\n",
            "Location: https://uc799eaebdbda01cd01061f6567a.dl.dropboxusercontent.com/cd/0/inline/Cqs1YNnOmneBCHIZFlK1wj3Xve-w7jfRAVoHN1HDd6NaSA0PzJsWLf5rXKnGJWLjY2bo4znQVnP4Cpy42g5H76CSXRgpgo4OyzM9sOJSBRE-1HA5ZMWvHFyGVdY_LWRS_mHRVmEdtkQoDM0UAEeErUYt/file# [following]\n",
            "--2025-05-31 15:25:50--  https://uc799eaebdbda01cd01061f6567a.dl.dropboxusercontent.com/cd/0/inline/Cqs1YNnOmneBCHIZFlK1wj3Xve-w7jfRAVoHN1HDd6NaSA0PzJsWLf5rXKnGJWLjY2bo4znQVnP4Cpy42g5H76CSXRgpgo4OyzM9sOJSBRE-1HA5ZMWvHFyGVdY_LWRS_mHRVmEdtkQoDM0UAEeErUYt/file\n",
            "Resolving uc799eaebdbda01cd01061f6567a.dl.dropboxusercontent.com (uc799eaebdbda01cd01061f6567a.dl.dropboxusercontent.com)... 162.125.2.15, 2620:100:6016:15::a27d:10f\n",
            "Connecting to uc799eaebdbda01cd01061f6567a.dl.dropboxusercontent.com (uc799eaebdbda01cd01061f6567a.dl.dropboxusercontent.com)|162.125.2.15|:443... connected.\n",
            "HTTP request sent, awaiting response... 200 OK\n",
            "Length: 17685887 (17M) [text/plain]\n",
            "Saving to: ‘goodreads_past_interactions.json’\n",
            "\n",
            "goodreads_past_inte 100%[===================>]  16.87M  45.8MB/s    in 0.4s    \n",
            "\n",
            "2025-05-31 15:25:50 (45.8 MB/s) - ‘goodreads_past_interactions.json’ saved [17685887/17685887]\n",
            "\n",
            "--2025-05-31 15:25:51--  https://www.dropbox.com/s/rjtzhmb2zbpp30q/goodreads_test_interactions.json?dl=0\n",
            "Resolving www.dropbox.com (www.dropbox.com)... 162.125.1.18, 2620:100:6016:18::a27d:112\n",
            "Connecting to www.dropbox.com (www.dropbox.com)|162.125.1.18|:443... connected.\n",
            "HTTP request sent, awaiting response... 302 Found\n",
            "Location: https://www.dropbox.com/scl/fi/slomhi7icrvh57rbo8e92/goodreads_test_interactions.json?rlkey=9xe06jxsx4hncbg9w9wekj93l&dl=0 [following]\n",
            "--2025-05-31 15:25:51--  https://www.dropbox.com/scl/fi/slomhi7icrvh57rbo8e92/goodreads_test_interactions.json?rlkey=9xe06jxsx4hncbg9w9wekj93l&dl=0\n",
            "Reusing existing connection to www.dropbox.com:443.\n",
            "HTTP request sent, awaiting response... 302 Found\n",
            "Location: https://ucb6ddd849cdd18a86d86c09e8d3.dl.dropboxusercontent.com/cd/0/inline/Cqt3F6A2sjmapV3q2sx0VhMn9Hr6E46IETszeQvsA-zviCT8SxTAFleA4_CfiPOYahSAHzaITgCAUcWB_lONiTPC6xDjJAFAYfACmi9B8efret_JqmWBSwR8fllQOTZ-vl1x-lhUX-92_IPuMz1K_Xch/file# [following]\n",
            "--2025-05-31 15:25:51--  https://ucb6ddd849cdd18a86d86c09e8d3.dl.dropboxusercontent.com/cd/0/inline/Cqt3F6A2sjmapV3q2sx0VhMn9Hr6E46IETszeQvsA-zviCT8SxTAFleA4_CfiPOYahSAHzaITgCAUcWB_lONiTPC6xDjJAFAYfACmi9B8efret_JqmWBSwR8fllQOTZ-vl1x-lhUX-92_IPuMz1K_Xch/file\n",
            "Resolving ucb6ddd849cdd18a86d86c09e8d3.dl.dropboxusercontent.com (ucb6ddd849cdd18a86d86c09e8d3.dl.dropboxusercontent.com)... 162.125.2.15, 2620:100:6017:15::a27d:20f\n",
            "Connecting to ucb6ddd849cdd18a86d86c09e8d3.dl.dropboxusercontent.com (ucb6ddd849cdd18a86d86c09e8d3.dl.dropboxusercontent.com)|162.125.2.15|:443... connected.\n",
            "HTTP request sent, awaiting response... 200 OK\n",
            "Length: 6111 (6.0K) [text/plain]\n",
            "Saving to: ‘goodreads_test_interactions.json’\n",
            "\n",
            "goodreads_test_inte 100%[===================>]   5.97K  --.-KB/s    in 0s      \n",
            "\n",
            "2025-05-31 15:25:51 (2.59 GB/s) - ‘goodreads_test_interactions.json’ saved [6111/6111]\n",
            "\n"
          ]
        }
      ],
      "source": [
        "!wget https://www.dropbox.com/s/57tel5zqopkssrh/books.csv?dl=0 -O books.csv\n",
        "!wget https://www.dropbox.com/s/zpnnoy1i8ljf9fg/goodreads_bert_embeddings.npy?dl=0 -O goodreads_bert_embeddings.npy\n",
        "!wget https://www.dropbox.com/s/a8hcc9w30y7r3jl/goodreads_bert_large_embeddings.npy?dl=0 -O goodreads_bert_large_embeddings.npy\n",
        "!wget https://www.dropbox.com/s/dqeqpsr0vdvmcy0/goodreads_past_interactions.json?dl=0 -O goodreads_past_interactions.json\n",
        "!wget https://www.dropbox.com/s/rjtzhmb2zbpp30q/goodreads_test_interactions.json?dl=0 -O goodreads_test_interactions.json"
      ]
    },
    {
      "cell_type": "code",
      "source": [
        "!pip install lightfm"
      ],
      "metadata": {
        "id": "QwcDIZD_vasu",
        "colab": {
          "base_uri": "https://localhost:8080/"
        },
        "outputId": "38208d45-d999-4a78-d331-1d0afbca2dbd"
      },
      "execution_count": 3,
      "outputs": [
        {
          "output_type": "stream",
          "name": "stdout",
          "text": [
            "Requirement already satisfied: lightfm in /usr/local/lib/python3.11/dist-packages (1.17)\n",
            "Requirement already satisfied: numpy in /usr/local/lib/python3.11/dist-packages (from lightfm) (2.0.2)\n",
            "Requirement already satisfied: scipy>=0.17.0 in /usr/local/lib/python3.11/dist-packages (from lightfm) (1.15.3)\n",
            "Requirement already satisfied: requests in /usr/local/lib/python3.11/dist-packages (from lightfm) (2.32.3)\n",
            "Requirement already satisfied: scikit-learn in /usr/local/lib/python3.11/dist-packages (from lightfm) (1.6.1)\n",
            "Requirement already satisfied: charset-normalizer<4,>=2 in /usr/local/lib/python3.11/dist-packages (from requests->lightfm) (3.4.2)\n",
            "Requirement already satisfied: idna<4,>=2.5 in /usr/local/lib/python3.11/dist-packages (from requests->lightfm) (3.10)\n",
            "Requirement already satisfied: urllib3<3,>=1.21.1 in /usr/local/lib/python3.11/dist-packages (from requests->lightfm) (2.4.0)\n",
            "Requirement already satisfied: certifi>=2017.4.17 in /usr/local/lib/python3.11/dist-packages (from requests->lightfm) (2025.4.26)\n",
            "Requirement already satisfied: joblib>=1.2.0 in /usr/local/lib/python3.11/dist-packages (from scikit-learn->lightfm) (1.5.0)\n",
            "Requirement already satisfied: threadpoolctl>=3.1.0 in /usr/local/lib/python3.11/dist-packages (from scikit-learn->lightfm) (3.6.0)\n"
          ]
        }
      ]
    },
    {
      "cell_type": "code",
      "source": [
        "from lightfm import LightFM\n",
        "from lightfm.data import Dataset\n",
        "from lightfm.evaluation import precision_at_k, auc_score\n",
        "import numpy as np\n",
        "import pandas as pd\n",
        "import json\n",
        "from scipy.sparse import coo_matrix, csr_matrix\n",
        "import scipy.sparse\n"
      ],
      "metadata": {
        "id": "ckNExWsGvdqW"
      },
      "execution_count": 4,
      "outputs": []
    },
    {
      "cell_type": "markdown",
      "source": [
        "# Cargar Datos"
      ],
      "metadata": {
        "id": "u3gzGoimviC8"
      }
    },
    {
      "cell_type": "code",
      "source": [
        "df_books = pd.read_csv('books.csv', sep=',')\n",
        "df_books.head()"
      ],
      "metadata": {
        "colab": {
          "base_uri": "https://localhost:8080/",
          "height": 603
        },
        "id": "U5nH7hVuNTdQ",
        "outputId": "040149e5-7c4a-40cb-f35a-1d8f715c16ba"
      },
      "execution_count": 5,
      "outputs": [
        {
          "output_type": "execute_result",
          "data": {
            "text/plain": [
              "   book_id  goodreads_book_id  best_book_id  work_id  books_count       isbn  \\\n",
              "0        1            2767052       2767052  2792775          272  439023483   \n",
              "1        2                  3             3  4640799          491  439554934   \n",
              "2        3              41865         41865  3212258          226  316015849   \n",
              "3        4               2657          2657  3275794          487   61120081   \n",
              "4        5               4671          4671   245494         1356  743273567   \n",
              "\n",
              "         isbn13                      authors  original_publication_year  \\\n",
              "0  9.780439e+12              Suzanne Collins                     2008.0   \n",
              "1  9.780440e+12  J.K. Rowling, Mary GrandPré                     1997.0   \n",
              "2  9.780316e+12              Stephenie Meyer                     2005.0   \n",
              "3  9.780061e+12                   Harper Lee                     1960.0   \n",
              "4  9.780743e+12          F. Scott Fitzgerald                     1925.0   \n",
              "\n",
              "                             original_title  ... work_ratings_count  \\\n",
              "0                          The Hunger Games  ...            4942365   \n",
              "1  Harry Potter and the Philosopher's Stone  ...            4800065   \n",
              "2                                  Twilight  ...            3916824   \n",
              "3                     To Kill a Mockingbird  ...            3340896   \n",
              "4                          The Great Gatsby  ...            2773745   \n",
              "\n",
              "  work_text_reviews_count  ratings_1  ratings_2  ratings_3  ratings_4  \\\n",
              "0                  155254      66715     127936     560092    1481305   \n",
              "1                   75867      75504     101676     455024    1156318   \n",
              "2                   95009     456191     436802     793319     875073   \n",
              "3                   72586      60427     117415     446835    1001952   \n",
              "4                   51992      86236     197621     606158     936012   \n",
              "\n",
              "   ratings_5                                          image_url  \\\n",
              "0    2706317  https://images.gr-assets.com/books/1447303603m...   \n",
              "1    3011543  https://images.gr-assets.com/books/1474154022m...   \n",
              "2    1355439  https://images.gr-assets.com/books/1361039443m...   \n",
              "3    1714267  https://images.gr-assets.com/books/1361975680m...   \n",
              "4     947718  https://images.gr-assets.com/books/1490528560m...   \n",
              "\n",
              "                                     small_image_url  \\\n",
              "0  https://images.gr-assets.com/books/1447303603s...   \n",
              "1  https://images.gr-assets.com/books/1474154022s...   \n",
              "2  https://images.gr-assets.com/books/1361039443s...   \n",
              "3  https://images.gr-assets.com/books/1361975680s...   \n",
              "4  https://images.gr-assets.com/books/1490528560s...   \n",
              "\n",
              "                                           book_desc  \n",
              "0  Winning will make you famous. Losing means cer...  \n",
              "1  Harry Potter's life is miserable. His parents ...  \n",
              "2  About three things I was absolutely positive.F...  \n",
              "3  The unforgettable novel of a childhood in a sl...  \n",
              "4  Alternate Cover Edition ISBN: 0743273567 (ISBN...  \n",
              "\n",
              "[5 rows x 24 columns]"
            ],
            "text/html": [
              "\n",
              "  <div id=\"df-621f5344-ebe4-4318-bac5-af05a391c8e4\" class=\"colab-df-container\">\n",
              "    <div>\n",
              "<style scoped>\n",
              "    .dataframe tbody tr th:only-of-type {\n",
              "        vertical-align: middle;\n",
              "    }\n",
              "\n",
              "    .dataframe tbody tr th {\n",
              "        vertical-align: top;\n",
              "    }\n",
              "\n",
              "    .dataframe thead th {\n",
              "        text-align: right;\n",
              "    }\n",
              "</style>\n",
              "<table border=\"1\" class=\"dataframe\">\n",
              "  <thead>\n",
              "    <tr style=\"text-align: right;\">\n",
              "      <th></th>\n",
              "      <th>book_id</th>\n",
              "      <th>goodreads_book_id</th>\n",
              "      <th>best_book_id</th>\n",
              "      <th>work_id</th>\n",
              "      <th>books_count</th>\n",
              "      <th>isbn</th>\n",
              "      <th>isbn13</th>\n",
              "      <th>authors</th>\n",
              "      <th>original_publication_year</th>\n",
              "      <th>original_title</th>\n",
              "      <th>...</th>\n",
              "      <th>work_ratings_count</th>\n",
              "      <th>work_text_reviews_count</th>\n",
              "      <th>ratings_1</th>\n",
              "      <th>ratings_2</th>\n",
              "      <th>ratings_3</th>\n",
              "      <th>ratings_4</th>\n",
              "      <th>ratings_5</th>\n",
              "      <th>image_url</th>\n",
              "      <th>small_image_url</th>\n",
              "      <th>book_desc</th>\n",
              "    </tr>\n",
              "  </thead>\n",
              "  <tbody>\n",
              "    <tr>\n",
              "      <th>0</th>\n",
              "      <td>1</td>\n",
              "      <td>2767052</td>\n",
              "      <td>2767052</td>\n",
              "      <td>2792775</td>\n",
              "      <td>272</td>\n",
              "      <td>439023483</td>\n",
              "      <td>9.780439e+12</td>\n",
              "      <td>Suzanne Collins</td>\n",
              "      <td>2008.0</td>\n",
              "      <td>The Hunger Games</td>\n",
              "      <td>...</td>\n",
              "      <td>4942365</td>\n",
              "      <td>155254</td>\n",
              "      <td>66715</td>\n",
              "      <td>127936</td>\n",
              "      <td>560092</td>\n",
              "      <td>1481305</td>\n",
              "      <td>2706317</td>\n",
              "      <td>https://images.gr-assets.com/books/1447303603m...</td>\n",
              "      <td>https://images.gr-assets.com/books/1447303603s...</td>\n",
              "      <td>Winning will make you famous. Losing means cer...</td>\n",
              "    </tr>\n",
              "    <tr>\n",
              "      <th>1</th>\n",
              "      <td>2</td>\n",
              "      <td>3</td>\n",
              "      <td>3</td>\n",
              "      <td>4640799</td>\n",
              "      <td>491</td>\n",
              "      <td>439554934</td>\n",
              "      <td>9.780440e+12</td>\n",
              "      <td>J.K. Rowling, Mary GrandPré</td>\n",
              "      <td>1997.0</td>\n",
              "      <td>Harry Potter and the Philosopher's Stone</td>\n",
              "      <td>...</td>\n",
              "      <td>4800065</td>\n",
              "      <td>75867</td>\n",
              "      <td>75504</td>\n",
              "      <td>101676</td>\n",
              "      <td>455024</td>\n",
              "      <td>1156318</td>\n",
              "      <td>3011543</td>\n",
              "      <td>https://images.gr-assets.com/books/1474154022m...</td>\n",
              "      <td>https://images.gr-assets.com/books/1474154022s...</td>\n",
              "      <td>Harry Potter's life is miserable. His parents ...</td>\n",
              "    </tr>\n",
              "    <tr>\n",
              "      <th>2</th>\n",
              "      <td>3</td>\n",
              "      <td>41865</td>\n",
              "      <td>41865</td>\n",
              "      <td>3212258</td>\n",
              "      <td>226</td>\n",
              "      <td>316015849</td>\n",
              "      <td>9.780316e+12</td>\n",
              "      <td>Stephenie Meyer</td>\n",
              "      <td>2005.0</td>\n",
              "      <td>Twilight</td>\n",
              "      <td>...</td>\n",
              "      <td>3916824</td>\n",
              "      <td>95009</td>\n",
              "      <td>456191</td>\n",
              "      <td>436802</td>\n",
              "      <td>793319</td>\n",
              "      <td>875073</td>\n",
              "      <td>1355439</td>\n",
              "      <td>https://images.gr-assets.com/books/1361039443m...</td>\n",
              "      <td>https://images.gr-assets.com/books/1361039443s...</td>\n",
              "      <td>About three things I was absolutely positive.F...</td>\n",
              "    </tr>\n",
              "    <tr>\n",
              "      <th>3</th>\n",
              "      <td>4</td>\n",
              "      <td>2657</td>\n",
              "      <td>2657</td>\n",
              "      <td>3275794</td>\n",
              "      <td>487</td>\n",
              "      <td>61120081</td>\n",
              "      <td>9.780061e+12</td>\n",
              "      <td>Harper Lee</td>\n",
              "      <td>1960.0</td>\n",
              "      <td>To Kill a Mockingbird</td>\n",
              "      <td>...</td>\n",
              "      <td>3340896</td>\n",
              "      <td>72586</td>\n",
              "      <td>60427</td>\n",
              "      <td>117415</td>\n",
              "      <td>446835</td>\n",
              "      <td>1001952</td>\n",
              "      <td>1714267</td>\n",
              "      <td>https://images.gr-assets.com/books/1361975680m...</td>\n",
              "      <td>https://images.gr-assets.com/books/1361975680s...</td>\n",
              "      <td>The unforgettable novel of a childhood in a sl...</td>\n",
              "    </tr>\n",
              "    <tr>\n",
              "      <th>4</th>\n",
              "      <td>5</td>\n",
              "      <td>4671</td>\n",
              "      <td>4671</td>\n",
              "      <td>245494</td>\n",
              "      <td>1356</td>\n",
              "      <td>743273567</td>\n",
              "      <td>9.780743e+12</td>\n",
              "      <td>F. Scott Fitzgerald</td>\n",
              "      <td>1925.0</td>\n",
              "      <td>The Great Gatsby</td>\n",
              "      <td>...</td>\n",
              "      <td>2773745</td>\n",
              "      <td>51992</td>\n",
              "      <td>86236</td>\n",
              "      <td>197621</td>\n",
              "      <td>606158</td>\n",
              "      <td>936012</td>\n",
              "      <td>947718</td>\n",
              "      <td>https://images.gr-assets.com/books/1490528560m...</td>\n",
              "      <td>https://images.gr-assets.com/books/1490528560s...</td>\n",
              "      <td>Alternate Cover Edition ISBN: 0743273567 (ISBN...</td>\n",
              "    </tr>\n",
              "  </tbody>\n",
              "</table>\n",
              "<p>5 rows × 24 columns</p>\n",
              "</div>\n",
              "    <div class=\"colab-df-buttons\">\n",
              "\n",
              "  <div class=\"colab-df-container\">\n",
              "    <button class=\"colab-df-convert\" onclick=\"convertToInteractive('df-621f5344-ebe4-4318-bac5-af05a391c8e4')\"\n",
              "            title=\"Convert this dataframe to an interactive table.\"\n",
              "            style=\"display:none;\">\n",
              "\n",
              "  <svg xmlns=\"http://www.w3.org/2000/svg\" height=\"24px\" viewBox=\"0 -960 960 960\">\n",
              "    <path d=\"M120-120v-720h720v720H120Zm60-500h600v-160H180v160Zm220 220h160v-160H400v160Zm0 220h160v-160H400v160ZM180-400h160v-160H180v160Zm440 0h160v-160H620v160ZM180-180h160v-160H180v160Zm440 0h160v-160H620v160Z\"/>\n",
              "  </svg>\n",
              "    </button>\n",
              "\n",
              "  <style>\n",
              "    .colab-df-container {\n",
              "      display:flex;\n",
              "      gap: 12px;\n",
              "    }\n",
              "\n",
              "    .colab-df-convert {\n",
              "      background-color: #E8F0FE;\n",
              "      border: none;\n",
              "      border-radius: 50%;\n",
              "      cursor: pointer;\n",
              "      display: none;\n",
              "      fill: #1967D2;\n",
              "      height: 32px;\n",
              "      padding: 0 0 0 0;\n",
              "      width: 32px;\n",
              "    }\n",
              "\n",
              "    .colab-df-convert:hover {\n",
              "      background-color: #E2EBFA;\n",
              "      box-shadow: 0px 1px 2px rgba(60, 64, 67, 0.3), 0px 1px 3px 1px rgba(60, 64, 67, 0.15);\n",
              "      fill: #174EA6;\n",
              "    }\n",
              "\n",
              "    .colab-df-buttons div {\n",
              "      margin-bottom: 4px;\n",
              "    }\n",
              "\n",
              "    [theme=dark] .colab-df-convert {\n",
              "      background-color: #3B4455;\n",
              "      fill: #D2E3FC;\n",
              "    }\n",
              "\n",
              "    [theme=dark] .colab-df-convert:hover {\n",
              "      background-color: #434B5C;\n",
              "      box-shadow: 0px 1px 3px 1px rgba(0, 0, 0, 0.15);\n",
              "      filter: drop-shadow(0px 1px 2px rgba(0, 0, 0, 0.3));\n",
              "      fill: #FFFFFF;\n",
              "    }\n",
              "  </style>\n",
              "\n",
              "    <script>\n",
              "      const buttonEl =\n",
              "        document.querySelector('#df-621f5344-ebe4-4318-bac5-af05a391c8e4 button.colab-df-convert');\n",
              "      buttonEl.style.display =\n",
              "        google.colab.kernel.accessAllowed ? 'block' : 'none';\n",
              "\n",
              "      async function convertToInteractive(key) {\n",
              "        const element = document.querySelector('#df-621f5344-ebe4-4318-bac5-af05a391c8e4');\n",
              "        const dataTable =\n",
              "          await google.colab.kernel.invokeFunction('convertToInteractive',\n",
              "                                                    [key], {});\n",
              "        if (!dataTable) return;\n",
              "\n",
              "        const docLinkHtml = 'Like what you see? Visit the ' +\n",
              "          '<a target=\"_blank\" href=https://colab.research.google.com/notebooks/data_table.ipynb>data table notebook</a>'\n",
              "          + ' to learn more about interactive tables.';\n",
              "        element.innerHTML = '';\n",
              "        dataTable['output_type'] = 'display_data';\n",
              "        await google.colab.output.renderOutput(dataTable, element);\n",
              "        const docLink = document.createElement('div');\n",
              "        docLink.innerHTML = docLinkHtml;\n",
              "        element.appendChild(docLink);\n",
              "      }\n",
              "    </script>\n",
              "  </div>\n",
              "\n",
              "\n",
              "    <div id=\"df-bab48e61-aadb-4426-ac7f-1d252cf97c33\">\n",
              "      <button class=\"colab-df-quickchart\" onclick=\"quickchart('df-bab48e61-aadb-4426-ac7f-1d252cf97c33')\"\n",
              "                title=\"Suggest charts\"\n",
              "                style=\"display:none;\">\n",
              "\n",
              "<svg xmlns=\"http://www.w3.org/2000/svg\" height=\"24px\"viewBox=\"0 0 24 24\"\n",
              "     width=\"24px\">\n",
              "    <g>\n",
              "        <path d=\"M19 3H5c-1.1 0-2 .9-2 2v14c0 1.1.9 2 2 2h14c1.1 0 2-.9 2-2V5c0-1.1-.9-2-2-2zM9 17H7v-7h2v7zm4 0h-2V7h2v10zm4 0h-2v-4h2v4z\"/>\n",
              "    </g>\n",
              "</svg>\n",
              "      </button>\n",
              "\n",
              "<style>\n",
              "  .colab-df-quickchart {\n",
              "      --bg-color: #E8F0FE;\n",
              "      --fill-color: #1967D2;\n",
              "      --hover-bg-color: #E2EBFA;\n",
              "      --hover-fill-color: #174EA6;\n",
              "      --disabled-fill-color: #AAA;\n",
              "      --disabled-bg-color: #DDD;\n",
              "  }\n",
              "\n",
              "  [theme=dark] .colab-df-quickchart {\n",
              "      --bg-color: #3B4455;\n",
              "      --fill-color: #D2E3FC;\n",
              "      --hover-bg-color: #434B5C;\n",
              "      --hover-fill-color: #FFFFFF;\n",
              "      --disabled-bg-color: #3B4455;\n",
              "      --disabled-fill-color: #666;\n",
              "  }\n",
              "\n",
              "  .colab-df-quickchart {\n",
              "    background-color: var(--bg-color);\n",
              "    border: none;\n",
              "    border-radius: 50%;\n",
              "    cursor: pointer;\n",
              "    display: none;\n",
              "    fill: var(--fill-color);\n",
              "    height: 32px;\n",
              "    padding: 0;\n",
              "    width: 32px;\n",
              "  }\n",
              "\n",
              "  .colab-df-quickchart:hover {\n",
              "    background-color: var(--hover-bg-color);\n",
              "    box-shadow: 0 1px 2px rgba(60, 64, 67, 0.3), 0 1px 3px 1px rgba(60, 64, 67, 0.15);\n",
              "    fill: var(--button-hover-fill-color);\n",
              "  }\n",
              "\n",
              "  .colab-df-quickchart-complete:disabled,\n",
              "  .colab-df-quickchart-complete:disabled:hover {\n",
              "    background-color: var(--disabled-bg-color);\n",
              "    fill: var(--disabled-fill-color);\n",
              "    box-shadow: none;\n",
              "  }\n",
              "\n",
              "  .colab-df-spinner {\n",
              "    border: 2px solid var(--fill-color);\n",
              "    border-color: transparent;\n",
              "    border-bottom-color: var(--fill-color);\n",
              "    animation:\n",
              "      spin 1s steps(1) infinite;\n",
              "  }\n",
              "\n",
              "  @keyframes spin {\n",
              "    0% {\n",
              "      border-color: transparent;\n",
              "      border-bottom-color: var(--fill-color);\n",
              "      border-left-color: var(--fill-color);\n",
              "    }\n",
              "    20% {\n",
              "      border-color: transparent;\n",
              "      border-left-color: var(--fill-color);\n",
              "      border-top-color: var(--fill-color);\n",
              "    }\n",
              "    30% {\n",
              "      border-color: transparent;\n",
              "      border-left-color: var(--fill-color);\n",
              "      border-top-color: var(--fill-color);\n",
              "      border-right-color: var(--fill-color);\n",
              "    }\n",
              "    40% {\n",
              "      border-color: transparent;\n",
              "      border-right-color: var(--fill-color);\n",
              "      border-top-color: var(--fill-color);\n",
              "    }\n",
              "    60% {\n",
              "      border-color: transparent;\n",
              "      border-right-color: var(--fill-color);\n",
              "    }\n",
              "    80% {\n",
              "      border-color: transparent;\n",
              "      border-right-color: var(--fill-color);\n",
              "      border-bottom-color: var(--fill-color);\n",
              "    }\n",
              "    90% {\n",
              "      border-color: transparent;\n",
              "      border-bottom-color: var(--fill-color);\n",
              "    }\n",
              "  }\n",
              "</style>\n",
              "\n",
              "      <script>\n",
              "        async function quickchart(key) {\n",
              "          const quickchartButtonEl =\n",
              "            document.querySelector('#' + key + ' button');\n",
              "          quickchartButtonEl.disabled = true;  // To prevent multiple clicks.\n",
              "          quickchartButtonEl.classList.add('colab-df-spinner');\n",
              "          try {\n",
              "            const charts = await google.colab.kernel.invokeFunction(\n",
              "                'suggestCharts', [key], {});\n",
              "          } catch (error) {\n",
              "            console.error('Error during call to suggestCharts:', error);\n",
              "          }\n",
              "          quickchartButtonEl.classList.remove('colab-df-spinner');\n",
              "          quickchartButtonEl.classList.add('colab-df-quickchart-complete');\n",
              "        }\n",
              "        (() => {\n",
              "          let quickchartButtonEl =\n",
              "            document.querySelector('#df-bab48e61-aadb-4426-ac7f-1d252cf97c33 button');\n",
              "          quickchartButtonEl.style.display =\n",
              "            google.colab.kernel.accessAllowed ? 'block' : 'none';\n",
              "        })();\n",
              "      </script>\n",
              "    </div>\n",
              "\n",
              "    </div>\n",
              "  </div>\n"
            ],
            "application/vnd.google.colaboratory.intrinsic+json": {
              "type": "dataframe",
              "variable_name": "df_books"
            }
          },
          "metadata": {},
          "execution_count": 5
        }
      ]
    },
    {
      "cell_type": "code",
      "source": [
        "# dict index 2 book id and vice-versa for recommendation\n",
        "idx2bookid = {i: id_ for i, id_ in enumerate(df_books.book_id)}\n",
        "bookid2idx = {id_:i for i, id_ in enumerate(df_books.book_id)}"
      ],
      "metadata": {
        "id": "IUHYpUjpNajv"
      },
      "execution_count": 6,
      "outputs": []
    },
    {
      "cell_type": "code",
      "source": [
        "with open(\"goodreads_past_interactions.json\", \"r\") as f:\n",
        "    user_interactions = json.load(f)"
      ],
      "metadata": {
        "id": "xCc_UrxBvuyu"
      },
      "execution_count": 7,
      "outputs": []
    },
    {
      "cell_type": "code",
      "source": [
        "with open(\"goodreads_test_interactions.json\", \"r\") as f:\n",
        "    user_interactions_test = json.load(f)"
      ],
      "metadata": {
        "id": "roBc_8_Ap-QC"
      },
      "execution_count": 8,
      "outputs": []
    },
    {
      "cell_type": "code",
      "source": [
        "rows = []\n",
        "cols = []\n",
        "data = []\n",
        "\n",
        "for user_id, book_ids in user_interactions.items():\n",
        "    for book_id in book_ids:\n",
        "        rows.append(int(user_id))\n",
        "        cols.append(int(book_id))\n",
        "        data.append(1)\n",
        "\n",
        "max_user_id = max(rows)\n",
        "max_item_id = max(cols)\n",
        "\n",
        "# Crear matriz sparse\n",
        "user_item_matrix_train = coo_matrix((data, (rows, cols)), shape=(max_user_id + 1, max_item_id + 1))"
      ],
      "metadata": {
        "id": "e-rXU-TCmQJv"
      },
      "execution_count": 9,
      "outputs": []
    },
    {
      "cell_type": "code",
      "source": [
        "rows_test = []\n",
        "cols_test = []\n",
        "data_test = []\n",
        "\n",
        "for user_id, book_ids in user_interactions_test.items():\n",
        "    for book_id in book_ids:\n",
        "        rows_test.append(int(user_id))\n",
        "        cols_test.append(int(book_id))\n",
        "        data_test.append(1)\n",
        "\n",
        "max_user_id = max([max_user_id] + rows_test)\n",
        "max_item_id = max([max_item_id] + cols_test)\n",
        "\n",
        "# Crear matriz sparse\n",
        "user_item_matrix_test = coo_matrix((data, (rows, cols)), shape=(max_user_id + 1, max_item_id + 1))"
      ],
      "metadata": {
        "id": "2iDrPmVUv2AW"
      },
      "execution_count": 10,
      "outputs": []
    },
    {
      "cell_type": "code",
      "source": [
        "# 5. Entrenar modelo LightFM\n",
        "model = LightFM(loss='warp')  # o 'bpr', 'warp-kos', 'logistic'\n",
        "model.fit(user_item_matrix_train, epochs=20, num_threads=4)"
      ],
      "metadata": {
        "id": "gkDDkuhbv8-0"
      },
      "execution_count": null,
      "outputs": []
    },
    {
      "cell_type": "code",
      "source": [
        "# 6. Evaluar\n",
        "print(\"Precision@10 (test):\", precision_at_k(model, user_item_matrix_test, k=10).mean())\n",
        "print(\"AUC (test):\", auc_score(model, user_item_matrix_test).mean())"
      ],
      "metadata": {
        "id": "dRwtEUG0v915"
      },
      "execution_count": null,
      "outputs": []
    },
    {
      "cell_type": "markdown",
      "source": [
        "BERT Embeddings"
      ],
      "metadata": {
        "id": "tCKWgSH37fzM"
      }
    },
    {
      "cell_type": "code",
      "source": [
        "bert_embeddings = np.load(\"goodreads_bert_embeddings.npy\")  # shape: (num_items, embedding_dim)\n",
        "bert_embeddings_large = np.load(\"goodreads_bert_large_embeddings.npy\")\n",
        "num_items, embedding_dim = bert_embeddings.shape\n",
        "num_items, embedding_dim_large = bert_embeddings.shape\n",
        "\n",
        "print(bert_embeddings.shape)\n",
        "print(bert_embeddings_large.shape)"
      ],
      "metadata": {
        "colab": {
          "base_uri": "https://localhost:8080/"
        },
        "id": "02T6p0_D7fKO",
        "outputId": "fa3a3384-a7ec-4560-9462-2ba24cd26155"
      },
      "execution_count": 11,
      "outputs": [
        {
          "output_type": "stream",
          "name": "stdout",
          "text": [
            "(4287, 768)\n",
            "(4287, 1024)\n"
          ]
        }
      ]
    },
    {
      "cell_type": "code",
      "source": [
        "bert_embeddings"
      ],
      "metadata": {
        "colab": {
          "base_uri": "https://localhost:8080/"
        },
        "id": "o5BKyNNdLjIb",
        "outputId": "090630df-47b4-4ad5-e0b6-f155446e4579"
      },
      "execution_count": 12,
      "outputs": [
        {
          "output_type": "execute_result",
          "data": {
            "text/plain": [
              "array([[ 0.23684844, -0.09462399, -0.01145189, ...,  0.12350288,\n",
              "        -0.18344034,  0.45543516],\n",
              "       [ 0.3566235 ,  0.02383685,  0.09952748, ...,  0.16955282,\n",
              "        -0.00520906,  0.08447403],\n",
              "       [ 0.22800492,  0.09910604, -0.04040277, ...,  0.19354148,\n",
              "        -0.0337148 ,  0.27135998],\n",
              "       ...,\n",
              "       [ 0.20124024, -0.09574547,  0.07568537, ...,  0.21734682,\n",
              "         0.03540741,  0.32540751],\n",
              "       [ 0.15547206, -0.10936089,  0.23241168, ...,  0.0934333 ,\n",
              "        -0.12637904,  0.1302035 ],\n",
              "       [ 0.38171366, -0.01875851,  0.04588691, ...,  0.26124743,\n",
              "         0.08366313,  0.26039878]])"
            ]
          },
          "metadata": {},
          "execution_count": 12
        }
      ]
    },
    {
      "cell_type": "code",
      "source": [
        "from sklearn.preprocessing import normalize\n",
        "\n",
        "bert_embeddings = normalize(bert_embeddings, norm='l2')"
      ],
      "metadata": {
        "id": "ZfEFI4PI_mER"
      },
      "execution_count": 13,
      "outputs": []
    },
    {
      "cell_type": "code",
      "source": [
        "item_features_sparse = csr_matrix(bert_embeddings)\n"
      ],
      "metadata": {
        "id": "gs9ANg5C-UXs"
      },
      "execution_count": null,
      "outputs": []
    },
    {
      "cell_type": "code",
      "source": [
        "user_item_matrix_test"
      ],
      "metadata": {
        "id": "cL8WCqkmHnIz"
      },
      "execution_count": null,
      "outputs": []
    },
    {
      "cell_type": "code",
      "source": [
        "user_item_matrix_train.shape"
      ],
      "metadata": {
        "id": "V4a9HoACIpg1"
      },
      "execution_count": null,
      "outputs": []
    },
    {
      "cell_type": "code",
      "source": [
        "user_item_matrix_train_csr = user_item_matrix_train.tocsr()\n",
        "user_item_matrix_test_csr = user_item_matrix_test.tocsr()"
      ],
      "metadata": {
        "id": "RvmeyBMlMg6V"
      },
      "execution_count": null,
      "outputs": []
    },
    {
      "cell_type": "code",
      "source": [
        "user_item_matrix_train_csr.shape"
      ],
      "metadata": {
        "id": "AjHHO6LgM54v"
      },
      "execution_count": null,
      "outputs": []
    },
    {
      "cell_type": "markdown",
      "source": [
        "Normalizar es opcional.\n",
        "\n",
        "Por qué normalizar embeddings?\n",
        "Facilita el entrenamiento al evitar que ciertos ítems \"dominen\" por tener valores grandes.\n",
        "\n",
        "Es especialmente útil si entrenas con dot-product o coseno, como ocurre con LightFM y muchos sistemas de recomendación.\n",
        "\n",
        "Puede mejorar la estabilidad y la velocidad de convergencia.\n",
        "\n",
        "No es obligatorio, pero generalmente recomendado si usas embeddings como features."
      ],
      "metadata": {
        "id": "i4F7Jfls_JHv"
      }
    },
    {
      "cell_type": "code",
      "source": [
        "model_bert = LightFM(loss='warp')\n",
        "model_bert.fit(interactions=user_item_matrix_train, item_features=item_features_sparse, epochs=20, num_threads=4)\n"
      ],
      "metadata": {
        "id": "E4oxfYpz_I4W"
      },
      "execution_count": null,
      "outputs": []
    },
    {
      "cell_type": "code",
      "source": [
        "from lightfm.evaluation import precision_at_k, auc_score\n",
        "\n",
        "# Evaluación en test\n",
        "precision_at_k(model, user_item_matrix_test, item_features=item_features_sparse, k=10).mean()\n",
        "auc_score(model, user_item_matrix_test, item_features=item_features_sparse).mean()"
      ],
      "metadata": {
        "id": "frVxiXGuH465"
      },
      "execution_count": null,
      "outputs": []
    },
    {
      "cell_type": "code",
      "source": [
        "import numpy as np\n",
        "import scipy.sparse\n",
        "\n",
        "# Paso 1: Cargar los embeddings\n",
        "raw_embeddings = np.load(\"goodreads_bert_embeddings.npy\")  # shape (num_books_with_embeddings, embedding_dim)\n",
        "\n",
        "# Paso 2: Preparar matriz vacía con forma (10000, embedding_dim)\n",
        "n_items = user_item_matrix_train.shape[1]\n",
        "embedding_dim = raw_embeddings.shape[1]\n",
        "bert_embeddings_aligned = np.zeros((n_items, embedding_dim))\n",
        "\n",
        "# Paso 3: Rellenar embeddings alineados según book_id → index\n",
        "for book_id, idx_in_embeddings in bookid2idx.items():\n",
        "    if book_id < n_items:  # Solo si book_id está dentro de los IDs usados en la matriz\n",
        "        bert_embeddings_aligned[book_id] = raw_embeddings[idx_in_embeddings]\n",
        "\n",
        "# Paso 4: Convertir a matriz sparse\n",
        "item_features_sparse = csr_matrix(bert_embeddings_aligned)\n"
      ],
      "metadata": {
        "id": "5CdHGtwwOE6h"
      },
      "execution_count": 14,
      "outputs": []
    },
    {
      "cell_type": "code",
      "source": [
        "bert_embeddings_aligned.shape"
      ],
      "metadata": {
        "colab": {
          "base_uri": "https://localhost:8080/"
        },
        "id": "L_YAScfb5w71",
        "outputId": "e3059ffa-f3a3-467c-eb78-5a61355c33ab"
      },
      "execution_count": 15,
      "outputs": [
        {
          "output_type": "execute_result",
          "data": {
            "text/plain": [
              "(10000, 768)"
            ]
          },
          "metadata": {},
          "execution_count": 15
        }
      ]
    },
    {
      "cell_type": "code",
      "source": [
        "item_features_sparse.shape"
      ],
      "metadata": {
        "colab": {
          "base_uri": "https://localhost:8080/"
        },
        "id": "O7gDDbEp8949",
        "outputId": "458aff7e-7f89-4b31-8ecf-fdf76fcd3662"
      },
      "execution_count": 16,
      "outputs": [
        {
          "output_type": "execute_result",
          "data": {
            "text/plain": [
              "(10000, 768)"
            ]
          },
          "metadata": {},
          "execution_count": 16
        }
      ]
    },
    {
      "cell_type": "markdown",
      "source": [
        "Revisando zero-values, ya que no hay embeddings para todos los libros dentro de matriz. (tal vez revisar si sacarlos del training set)."
      ],
      "metadata": {
        "id": "S8wQ6Id_6wNH"
      }
    },
    {
      "cell_type": "code",
      "source": [
        "zero_rows = np.sum(np.all(bert_embeddings_aligned == 0, axis=1))\n",
        "print(f\"Items with no embedding: {zero_rows} out of {bert_embeddings_aligned.shape[0]}\")"
      ],
      "metadata": {
        "colab": {
          "base_uri": "https://localhost:8080/"
        },
        "id": "UOfUqom-6MQO",
        "outputId": "4124fbab-6413-4a84-b002-aeb17a31ad56"
      },
      "execution_count": 17,
      "outputs": [
        {
          "output_type": "stream",
          "name": "stdout",
          "text": [
            "Items with no embedding: 5713 out of 10000\n"
          ]
        }
      ]
    },
    {
      "cell_type": "markdown",
      "source": [
        "Filtrar items sin embeddings BERT"
      ],
      "metadata": {
        "id": "5kHholQuOFVN"
      }
    },
    {
      "cell_type": "code",
      "source": [
        "import numpy as np\n",
        "\n",
        "zero_row_mask = np.all(bert_embeddings_aligned == 0, axis=1)\n",
        "nonzero_item_indices = np.where(~zero_row_mask)[0]  # índices de ítems validos"
      ],
      "metadata": {
        "id": "8W5aIHf2N9rf"
      },
      "execution_count": 27,
      "outputs": []
    },
    {
      "cell_type": "code",
      "source": [
        "filtered_embeddings = bert_embeddings_aligned[nonzero_item_indices]\n",
        "item_features_sparse = scipy.sparse.csr_matrix(filtered_embeddings)"
      ],
      "metadata": {
        "id": "WY4_0CZIOL2X"
      },
      "execution_count": 28,
      "outputs": []
    },
    {
      "cell_type": "code",
      "source": [
        "item_features_sparse.shape"
      ],
      "metadata": {
        "colab": {
          "base_uri": "https://localhost:8080/"
        },
        "id": "9SBwA-vpPxbp",
        "outputId": "1662379c-9b00-43d1-a042-516655b1b031"
      },
      "execution_count": 29,
      "outputs": [
        {
          "output_type": "execute_result",
          "data": {
            "text/plain": [
              "(4287, 768)"
            ]
          },
          "metadata": {},
          "execution_count": 29
        }
      ]
    },
    {
      "cell_type": "code",
      "source": [
        "user_item_matrix_train_csr = user_item_matrix_train.tocsr()\n",
        "user_item_matrix_test_csr = user_item_matrix_test.tocsr()\n",
        "\n",
        "# Ahora puedes indexar por columnas\n",
        "user_item_matrix_train_filtered = user_item_matrix_train_csr[:, nonzero_item_indices]\n",
        "user_item_matrix_test_filtered = user_item_matrix_test_csr[:, nonzero_item_indices]"
      ],
      "metadata": {
        "id": "bZEISucJObG0"
      },
      "execution_count": 30,
      "outputs": []
    },
    {
      "cell_type": "code",
      "source": [
        "user_item_matrix_train_filtered.shape"
      ],
      "metadata": {
        "colab": {
          "base_uri": "https://localhost:8080/"
        },
        "id": "H2_G3FESO51H",
        "outputId": "dfc591ea-eef4-4dc8-8313-371850aecfa6"
      },
      "execution_count": 31,
      "outputs": [
        {
          "output_type": "execute_result",
          "data": {
            "text/plain": [
              "(53425, 4287)"
            ]
          },
          "metadata": {},
          "execution_count": 31
        }
      ]
    },
    {
      "cell_type": "code",
      "source": [
        "from lightfm import LightFM\n",
        "from lightfm.evaluation import precision_at_k, auc_score\n",
        "\n",
        "model = LightFM(loss='warp')\n",
        "model.fit(user_item_matrix_train_filtered, item_features=item_features_sparse, epochs=5, num_threads=4)"
      ],
      "metadata": {
        "colab": {
          "base_uri": "https://localhost:8080/"
        },
        "id": "8v9a1EEHPtz2",
        "outputId": "8fb2cb07-4b6c-4af9-84a4-1bb66ad216f1"
      },
      "execution_count": 33,
      "outputs": [
        {
          "output_type": "execute_result",
          "data": {
            "text/plain": [
              "<lightfm.lightfm.LightFM at 0x78729aa81a10>"
            ]
          },
          "metadata": {},
          "execution_count": 33
        }
      ]
    },
    {
      "cell_type": "code",
      "source": [
        "# Evaluar en entrenamiento\n",
        "print(\"Precision@10:\", precision_at_k(model, user_item_matrix_test_filtered, item_features=item_features_sparse, k=10).mean())\n"
      ],
      "metadata": {
        "id": "PNkMy4kVOpQk",
        "colab": {
          "base_uri": "https://localhost:8080/"
        },
        "outputId": "7ad8971e-2016-4d9f-93e7-ffeb15ce57d9"
      },
      "execution_count": 34,
      "outputs": [
        {
          "output_type": "stream",
          "name": "stdout",
          "text": [
            "Precision@10: 0.34815505\n"
          ]
        }
      ]
    }
  ]
}